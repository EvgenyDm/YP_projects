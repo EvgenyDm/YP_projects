{
  "cells": [
    {
      "cell_type": "markdown",
      "metadata": {
        "id": "3bSlkCsbgFyL"
      },
      "source": [
        "### 1. Открываем файлы с данными и объединяем их в один датафрейм. \n"
      ]
    },
    {
      "cell_type": "code",
      "execution_count": null,
      "metadata": {
        "id": "dw87FlzMgFyM",
        "scrolled": false,
        "outputId": "b7d15368-6a85-4283-8b11-4a3cc9758f72"
      },
      "outputs": [
        {
          "data": {
            "text/html": [
              "<div>\n",
              "<style scoped>\n",
              "    .dataframe tbody tr th:only-of-type {\n",
              "        vertical-align: middle;\n",
              "    }\n",
              "\n",
              "    .dataframe tbody tr th {\n",
              "        vertical-align: top;\n",
              "    }\n",
              "\n",
              "    .dataframe thead th {\n",
              "        text-align: right;\n",
              "    }\n",
              "</style>\n",
              "<table border=\"1\" class=\"dataframe\">\n",
              "  <thead>\n",
              "    <tr style=\"text-align: right;\">\n",
              "      <th></th>\n",
              "      <th>title</th>\n",
              "      <th>puNumber</th>\n",
              "      <th>show_start_date</th>\n",
              "      <th>type</th>\n",
              "      <th>film_studio</th>\n",
              "      <th>production_country</th>\n",
              "      <th>director</th>\n",
              "      <th>producer</th>\n",
              "      <th>age_restriction</th>\n",
              "      <th>refundable_support</th>\n",
              "      <th>nonrefundable_support</th>\n",
              "      <th>budget</th>\n",
              "      <th>financing_source</th>\n",
              "      <th>ratings</th>\n",
              "      <th>genres</th>\n",
              "    </tr>\n",
              "  </thead>\n",
              "  <tbody>\n",
              "    <tr>\n",
              "      <th>0</th>\n",
              "      <td>Открытый простор</td>\n",
              "      <td>221048915</td>\n",
              "      <td>2015-11-27T12:00:00.000Z</td>\n",
              "      <td>Художественный</td>\n",
              "      <td>Тачстоун Пикчерз, Кобальт Пикчерз, Бикон Пикче...</td>\n",
              "      <td>США</td>\n",
              "      <td>Кевин Костнер</td>\n",
              "      <td>Дэвид Валдес, Кевин Костнер, Джейк Эбертс</td>\n",
              "      <td>«18+» - запрещено для детей</td>\n",
              "      <td>NaN</td>\n",
              "      <td>NaN</td>\n",
              "      <td>NaN</td>\n",
              "      <td>NaN</td>\n",
              "      <td>7.2</td>\n",
              "      <td>боевик,драма,мелодрама</td>\n",
              "    </tr>\n",
              "    <tr>\n",
              "      <th>1</th>\n",
              "      <td>Особо важное задание</td>\n",
              "      <td>111013716</td>\n",
              "      <td>2016-09-13T12:00:00.000Z</td>\n",
              "      <td>Художественный</td>\n",
              "      <td>Киностудия \"Мосфильм\"</td>\n",
              "      <td>СССР</td>\n",
              "      <td>Е.Матвеев</td>\n",
              "      <td>NaN</td>\n",
              "      <td>«6+» - для детей старше 6 лет</td>\n",
              "      <td>NaN</td>\n",
              "      <td>NaN</td>\n",
              "      <td>NaN</td>\n",
              "      <td>NaN</td>\n",
              "      <td>6.6</td>\n",
              "      <td>драма,военный</td>\n",
              "    </tr>\n",
              "    <tr>\n",
              "      <th>2</th>\n",
              "      <td>Особо опасен</td>\n",
              "      <td>221038416</td>\n",
              "      <td>2016-10-10T12:00:00.000Z</td>\n",
              "      <td>Художественный</td>\n",
              "      <td>Юниверсал Пикчерз, Кикстарт Продакшнз, Марк Пл...</td>\n",
              "      <td>США</td>\n",
              "      <td>Тимур Бекмамбетов</td>\n",
              "      <td>Джим Лемли, Джейсон Нетер, Марк Е.Платт, Яйн Смит</td>\n",
              "      <td>«18+» - запрещено для детей</td>\n",
              "      <td>NaN</td>\n",
              "      <td>NaN</td>\n",
              "      <td>NaN</td>\n",
              "      <td>NaN</td>\n",
              "      <td>6.8</td>\n",
              "      <td>фантастика,боевик,триллер</td>\n",
              "    </tr>\n",
              "    <tr>\n",
              "      <th>3</th>\n",
              "      <td>Особо опасен</td>\n",
              "      <td>221026916</td>\n",
              "      <td>2016-06-10T12:00:00.000Z</td>\n",
              "      <td>Художественный</td>\n",
              "      <td>Юниверсал Пикчерз, Кикстарт Продакшнз, Марк Пл...</td>\n",
              "      <td>США</td>\n",
              "      <td>Тимур Бекмамбетов</td>\n",
              "      <td>Джим Лемли, Джейсон Нетер, Марк Е.Платт, Яйн Смит</td>\n",
              "      <td>«18+» - запрещено для детей</td>\n",
              "      <td>NaN</td>\n",
              "      <td>NaN</td>\n",
              "      <td>NaN</td>\n",
              "      <td>NaN</td>\n",
              "      <td>6.8</td>\n",
              "      <td>фантастика,боевик,триллер</td>\n",
              "    </tr>\n",
              "    <tr>\n",
              "      <th>4</th>\n",
              "      <td>Особо опасен</td>\n",
              "      <td>221030815</td>\n",
              "      <td>2015-07-29T12:00:00.000Z</td>\n",
              "      <td>Художественный</td>\n",
              "      <td>Юниверсал Пикчерз, Кикстарт Продакшнз, Марк Пл...</td>\n",
              "      <td>США</td>\n",
              "      <td>Тимур Бекмамбетов</td>\n",
              "      <td>Джим Лемли, Джейсон Нетер, Марк Е.Платт, Яйн Смит</td>\n",
              "      <td>«18+» - запрещено для детей</td>\n",
              "      <td>NaN</td>\n",
              "      <td>NaN</td>\n",
              "      <td>NaN</td>\n",
              "      <td>NaN</td>\n",
              "      <td>6.8</td>\n",
              "      <td>фантастика,боевик,триллер</td>\n",
              "    </tr>\n",
              "  </tbody>\n",
              "</table>\n",
              "</div>"
            ],
            "text/plain": [
              "                  title   puNumber           show_start_date            type  \\\n",
              "0      Открытый простор  221048915  2015-11-27T12:00:00.000Z  Художественный   \n",
              "1  Особо важное задание  111013716  2016-09-13T12:00:00.000Z  Художественный   \n",
              "2          Особо опасен  221038416  2016-10-10T12:00:00.000Z  Художественный   \n",
              "3          Особо опасен  221026916  2016-06-10T12:00:00.000Z  Художественный   \n",
              "4          Особо опасен  221030815  2015-07-29T12:00:00.000Z  Художественный   \n",
              "\n",
              "                                         film_studio production_country  \\\n",
              "0  Тачстоун Пикчерз, Кобальт Пикчерз, Бикон Пикче...                США   \n",
              "1                              Киностудия \"Мосфильм\"               СССР   \n",
              "2  Юниверсал Пикчерз, Кикстарт Продакшнз, Марк Пл...                США   \n",
              "3  Юниверсал Пикчерз, Кикстарт Продакшнз, Марк Пл...                США   \n",
              "4  Юниверсал Пикчерз, Кикстарт Продакшнз, Марк Пл...                США   \n",
              "\n",
              "            director                                           producer  \\\n",
              "0      Кевин Костнер          Дэвид Валдес, Кевин Костнер, Джейк Эбертс   \n",
              "1          Е.Матвеев                                                NaN   \n",
              "2  Тимур Бекмамбетов  Джим Лемли, Джейсон Нетер, Марк Е.Платт, Яйн Смит   \n",
              "3  Тимур Бекмамбетов  Джим Лемли, Джейсон Нетер, Марк Е.Платт, Яйн Смит   \n",
              "4  Тимур Бекмамбетов  Джим Лемли, Джейсон Нетер, Марк Е.Платт, Яйн Смит   \n",
              "\n",
              "                 age_restriction  refundable_support  nonrefundable_support  \\\n",
              "0    «18+» - запрещено для детей                 NaN                    NaN   \n",
              "1  «6+» - для детей старше 6 лет                 NaN                    NaN   \n",
              "2    «18+» - запрещено для детей                 NaN                    NaN   \n",
              "3    «18+» - запрещено для детей                 NaN                    NaN   \n",
              "4    «18+» - запрещено для детей                 NaN                    NaN   \n",
              "\n",
              "   budget financing_source ratings                     genres  \n",
              "0     NaN              NaN     7.2     боевик,драма,мелодрама  \n",
              "1     NaN              NaN     6.6              драма,военный  \n",
              "2     NaN              NaN     6.8  фантастика,боевик,триллер  \n",
              "3     NaN              NaN     6.8  фантастика,боевик,триллер  \n",
              "4     NaN              NaN     6.8  фантастика,боевик,триллер  "
            ]
          },
          "metadata": {},
          "output_type": "display_data"
        },
        {
          "data": {
            "text/html": [
              "<div>\n",
              "<style scoped>\n",
              "    .dataframe tbody tr th:only-of-type {\n",
              "        vertical-align: middle;\n",
              "    }\n",
              "\n",
              "    .dataframe tbody tr th {\n",
              "        vertical-align: top;\n",
              "    }\n",
              "\n",
              "    .dataframe thead th {\n",
              "        text-align: right;\n",
              "    }\n",
              "</style>\n",
              "<table border=\"1\" class=\"dataframe\">\n",
              "  <thead>\n",
              "    <tr style=\"text-align: right;\">\n",
              "      <th></th>\n",
              "      <th>puNumber</th>\n",
              "      <th>box_office</th>\n",
              "    </tr>\n",
              "  </thead>\n",
              "  <tbody>\n",
              "    <tr>\n",
              "      <th>0</th>\n",
              "      <td>111000113</td>\n",
              "      <td>2.450000e+03</td>\n",
              "    </tr>\n",
              "    <tr>\n",
              "      <th>1</th>\n",
              "      <td>111000115</td>\n",
              "      <td>6.104000e+04</td>\n",
              "    </tr>\n",
              "    <tr>\n",
              "      <th>2</th>\n",
              "      <td>111000116</td>\n",
              "      <td>1.530300e+08</td>\n",
              "    </tr>\n",
              "    <tr>\n",
              "      <th>3</th>\n",
              "      <td>111000117</td>\n",
              "      <td>1.226096e+07</td>\n",
              "    </tr>\n",
              "    <tr>\n",
              "      <th>4</th>\n",
              "      <td>111000118</td>\n",
              "      <td>1.636841e+08</td>\n",
              "    </tr>\n",
              "  </tbody>\n",
              "</table>\n",
              "</div>"
            ],
            "text/plain": [
              "    puNumber    box_office\n",
              "0  111000113  2.450000e+03\n",
              "1  111000115  6.104000e+04\n",
              "2  111000116  1.530300e+08\n",
              "3  111000117  1.226096e+07\n",
              "4  111000118  1.636841e+08"
            ]
          },
          "metadata": {},
          "output_type": "display_data"
        }
      ],
      "source": [
        "# импортиуем библиотеки для работы\n",
        "import pandas as pd\n",
        "import seaborn as sns\n",
        "import math\n",
        "import re\n",
        "import matplotlib\n",
        "import matplotlib.pyplot as plt\n",
        "import numpy as np\n",
        "import warnings\n",
        "warnings.filterwarnings('ignore') # отключаем предупреждения\n",
        "mkrf_movies = pd.read_csv('/datasets/mkrf_movies.csv') # открываем файл\n",
        "mkrf_shows = pd.read_csv('/datasets/mkrf_shows.csv') # открываем файл\n",
        "display(mkrf_movies.head())\n",
        "display(mkrf_shows.head())"
      ]
    },
    {
      "cell_type": "code",
      "execution_count": null,
      "metadata": {
        "scrolled": false,
        "id": "mz3WZS_ehiZH",
        "outputId": "cc1f6998-d461-48c8-c7a0-52e6199c473e"
      },
      "outputs": [
        {
          "name": "stdout",
          "output_type": "stream",
          "text": [
            "<class 'pandas.core.frame.DataFrame'>\n",
            "RangeIndex: 7486 entries, 0 to 7485\n",
            "Data columns (total 15 columns):\n",
            " #   Column                 Non-Null Count  Dtype  \n",
            "---  ------                 --------------  -----  \n",
            " 0   title                  7486 non-null   object \n",
            " 1   puNumber               7486 non-null   object \n",
            " 2   show_start_date        7486 non-null   object \n",
            " 3   type                   7486 non-null   object \n",
            " 4   film_studio            7468 non-null   object \n",
            " 5   production_country     7484 non-null   object \n",
            " 6   director               7477 non-null   object \n",
            " 7   producer               6918 non-null   object \n",
            " 8   age_restriction        7486 non-null   object \n",
            " 9   refundable_support     332 non-null    float64\n",
            " 10  nonrefundable_support  332 non-null    float64\n",
            " 11  budget                 332 non-null    float64\n",
            " 12  financing_source       332 non-null    object \n",
            " 13  ratings                6519 non-null   object \n",
            " 14  genres                 6510 non-null   object \n",
            "dtypes: float64(3), object(12)\n",
            "memory usage: 877.4+ KB\n",
            "\n",
            "\n",
            "<class 'pandas.core.frame.DataFrame'>\n",
            "RangeIndex: 3158 entries, 0 to 3157\n",
            "Data columns (total 2 columns):\n",
            " #   Column      Non-Null Count  Dtype  \n",
            "---  ------      --------------  -----  \n",
            " 0   puNumber    3158 non-null   int64  \n",
            " 1   box_office  3158 non-null   float64\n",
            "dtypes: float64(1), int64(1)\n",
            "memory usage: 49.5 KB\n"
          ]
        }
      ],
      "source": [
        "# смотрим информацию о файлах\n",
        "mkrf_movies.info()\n",
        "print('\\n')\n",
        "mkrf_shows.info()\n",
        "pd.options.display.float_format = '{:,.2f}'.format"
      ]
    },
    {
      "cell_type": "markdown",
      "metadata": {
        "id": "vCLBiUbOhiZI"
      },
      "source": [
        "Файл mkrf_movies состоит из 15 колонок, файл mkrf_shows состоит из двух колонок.  \n",
        "Для объединения этих двух файлов можно использовать один общий столбец puNumber."
      ]
    },
    {
      "cell_type": "code",
      "execution_count": null,
      "metadata": {
        "scrolled": true,
        "id": "IN5TTRBThiZI",
        "outputId": "c0af9f9f-f832-4b6b-f727-b4ffd9e914eb"
      },
      "outputs": [
        {
          "data": {
            "text/html": [
              "<div>\n",
              "<style scoped>\n",
              "    .dataframe tbody tr th:only-of-type {\n",
              "        vertical-align: middle;\n",
              "    }\n",
              "\n",
              "    .dataframe tbody tr th {\n",
              "        vertical-align: top;\n",
              "    }\n",
              "\n",
              "    .dataframe thead th {\n",
              "        text-align: right;\n",
              "    }\n",
              "</style>\n",
              "<table border=\"1\" class=\"dataframe\">\n",
              "  <thead>\n",
              "    <tr style=\"text-align: right;\">\n",
              "      <th></th>\n",
              "      <th>title</th>\n",
              "      <th>pu_number</th>\n",
              "      <th>show_start_date</th>\n",
              "      <th>type</th>\n",
              "      <th>film_studio</th>\n",
              "      <th>production_country</th>\n",
              "      <th>director</th>\n",
              "      <th>producer</th>\n",
              "      <th>age_restriction</th>\n",
              "      <th>refundable_support</th>\n",
              "      <th>nonrefundable_support</th>\n",
              "      <th>budget</th>\n",
              "      <th>financing_source</th>\n",
              "      <th>ratings</th>\n",
              "      <th>genres</th>\n",
              "      <th>box_office</th>\n",
              "    </tr>\n",
              "  </thead>\n",
              "  <tbody>\n",
              "    <tr>\n",
              "      <th>0</th>\n",
              "      <td>Открытый простор</td>\n",
              "      <td>221048915</td>\n",
              "      <td>2015-11-27T12:00:00.000Z</td>\n",
              "      <td>Художественный</td>\n",
              "      <td>Тачстоун Пикчерз, Кобальт Пикчерз, Бикон Пикче...</td>\n",
              "      <td>США</td>\n",
              "      <td>Кевин Костнер</td>\n",
              "      <td>Дэвид Валдес, Кевин Костнер, Джейк Эбертс</td>\n",
              "      <td>«18+» - запрещено для детей</td>\n",
              "      <td>NaN</td>\n",
              "      <td>NaN</td>\n",
              "      <td>NaN</td>\n",
              "      <td>NaN</td>\n",
              "      <td>7.2</td>\n",
              "      <td>боевик,драма,мелодрама</td>\n",
              "      <td>NaN</td>\n",
              "    </tr>\n",
              "    <tr>\n",
              "      <th>1</th>\n",
              "      <td>Особо важное задание</td>\n",
              "      <td>111013716</td>\n",
              "      <td>2016-09-13T12:00:00.000Z</td>\n",
              "      <td>Художественный</td>\n",
              "      <td>Киностудия \"Мосфильм\"</td>\n",
              "      <td>СССР</td>\n",
              "      <td>Е.Матвеев</td>\n",
              "      <td>NaN</td>\n",
              "      <td>«6+» - для детей старше 6 лет</td>\n",
              "      <td>NaN</td>\n",
              "      <td>NaN</td>\n",
              "      <td>NaN</td>\n",
              "      <td>NaN</td>\n",
              "      <td>6.6</td>\n",
              "      <td>драма,военный</td>\n",
              "      <td>NaN</td>\n",
              "    </tr>\n",
              "    <tr>\n",
              "      <th>2</th>\n",
              "      <td>Особо опасен</td>\n",
              "      <td>221038416</td>\n",
              "      <td>2016-10-10T12:00:00.000Z</td>\n",
              "      <td>Художественный</td>\n",
              "      <td>Юниверсал Пикчерз, Кикстарт Продакшнз, Марк Пл...</td>\n",
              "      <td>США</td>\n",
              "      <td>Тимур Бекмамбетов</td>\n",
              "      <td>Джим Лемли, Джейсон Нетер, Марк Е.Платт, Яйн Смит</td>\n",
              "      <td>«18+» - запрещено для детей</td>\n",
              "      <td>NaN</td>\n",
              "      <td>NaN</td>\n",
              "      <td>NaN</td>\n",
              "      <td>NaN</td>\n",
              "      <td>6.8</td>\n",
              "      <td>фантастика,боевик,триллер</td>\n",
              "      <td>NaN</td>\n",
              "    </tr>\n",
              "    <tr>\n",
              "      <th>3</th>\n",
              "      <td>Особо опасен</td>\n",
              "      <td>221026916</td>\n",
              "      <td>2016-06-10T12:00:00.000Z</td>\n",
              "      <td>Художественный</td>\n",
              "      <td>Юниверсал Пикчерз, Кикстарт Продакшнз, Марк Пл...</td>\n",
              "      <td>США</td>\n",
              "      <td>Тимур Бекмамбетов</td>\n",
              "      <td>Джим Лемли, Джейсон Нетер, Марк Е.Платт, Яйн Смит</td>\n",
              "      <td>«18+» - запрещено для детей</td>\n",
              "      <td>NaN</td>\n",
              "      <td>NaN</td>\n",
              "      <td>NaN</td>\n",
              "      <td>NaN</td>\n",
              "      <td>6.8</td>\n",
              "      <td>фантастика,боевик,триллер</td>\n",
              "      <td>NaN</td>\n",
              "    </tr>\n",
              "    <tr>\n",
              "      <th>4</th>\n",
              "      <td>Особо опасен</td>\n",
              "      <td>221030815</td>\n",
              "      <td>2015-07-29T12:00:00.000Z</td>\n",
              "      <td>Художественный</td>\n",
              "      <td>Юниверсал Пикчерз, Кикстарт Продакшнз, Марк Пл...</td>\n",
              "      <td>США</td>\n",
              "      <td>Тимур Бекмамбетов</td>\n",
              "      <td>Джим Лемли, Джейсон Нетер, Марк Е.Платт, Яйн Смит</td>\n",
              "      <td>«18+» - запрещено для детей</td>\n",
              "      <td>NaN</td>\n",
              "      <td>NaN</td>\n",
              "      <td>NaN</td>\n",
              "      <td>NaN</td>\n",
              "      <td>6.8</td>\n",
              "      <td>фантастика,боевик,триллер</td>\n",
              "      <td>NaN</td>\n",
              "    </tr>\n",
              "  </tbody>\n",
              "</table>\n",
              "</div>"
            ],
            "text/plain": [
              "                  title  pu_number           show_start_date            type  \\\n",
              "0      Открытый простор  221048915  2015-11-27T12:00:00.000Z  Художественный   \n",
              "1  Особо важное задание  111013716  2016-09-13T12:00:00.000Z  Художественный   \n",
              "2          Особо опасен  221038416  2016-10-10T12:00:00.000Z  Художественный   \n",
              "3          Особо опасен  221026916  2016-06-10T12:00:00.000Z  Художественный   \n",
              "4          Особо опасен  221030815  2015-07-29T12:00:00.000Z  Художественный   \n",
              "\n",
              "                                         film_studio production_country  \\\n",
              "0  Тачстоун Пикчерз, Кобальт Пикчерз, Бикон Пикче...                США   \n",
              "1                              Киностудия \"Мосфильм\"               СССР   \n",
              "2  Юниверсал Пикчерз, Кикстарт Продакшнз, Марк Пл...                США   \n",
              "3  Юниверсал Пикчерз, Кикстарт Продакшнз, Марк Пл...                США   \n",
              "4  Юниверсал Пикчерз, Кикстарт Продакшнз, Марк Пл...                США   \n",
              "\n",
              "            director                                           producer  \\\n",
              "0      Кевин Костнер          Дэвид Валдес, Кевин Костнер, Джейк Эбертс   \n",
              "1          Е.Матвеев                                                NaN   \n",
              "2  Тимур Бекмамбетов  Джим Лемли, Джейсон Нетер, Марк Е.Платт, Яйн Смит   \n",
              "3  Тимур Бекмамбетов  Джим Лемли, Джейсон Нетер, Марк Е.Платт, Яйн Смит   \n",
              "4  Тимур Бекмамбетов  Джим Лемли, Джейсон Нетер, Марк Е.Платт, Яйн Смит   \n",
              "\n",
              "                 age_restriction  refundable_support  nonrefundable_support  \\\n",
              "0    «18+» - запрещено для детей                 NaN                    NaN   \n",
              "1  «6+» - для детей старше 6 лет                 NaN                    NaN   \n",
              "2    «18+» - запрещено для детей                 NaN                    NaN   \n",
              "3    «18+» - запрещено для детей                 NaN                    NaN   \n",
              "4    «18+» - запрещено для детей                 NaN                    NaN   \n",
              "\n",
              "   budget financing_source ratings                     genres  box_office  \n",
              "0     NaN              NaN     7.2     боевик,драма,мелодрама         NaN  \n",
              "1     NaN              NaN     6.6              драма,военный         NaN  \n",
              "2     NaN              NaN     6.8  фантастика,боевик,триллер         NaN  \n",
              "3     NaN              NaN     6.8  фантастика,боевик,триллер         NaN  \n",
              "4     NaN              NaN     6.8  фантастика,боевик,триллер         NaN  "
            ]
          },
          "metadata": {},
          "output_type": "display_data"
        }
      ],
      "source": [
        "# приводим названия стобцов к единому стилю:\n",
        "mkrf_movies = mkrf_movies.rename(columns={'puNumber':'pu_number'})\n",
        "mkrf_shows = mkrf_shows.rename(columns={'puNumber':'pu_number'})\n",
        "# приводим к единому типу данных для объединения:\n",
        "mkrf_movies['pu_number'] = mkrf_movies['pu_number'].astype(str)\n",
        "mkrf_shows['pu_number'] = mkrf_shows['pu_number'].astype(str)\n",
        "# объединяем две таблицы в одну:\n",
        "data = mkrf_movies.merge(mkrf_shows, on='pu_number', how = 'left')\n",
        "display(data.head()) # проверяем результат"
      ]
    },
    {
      "cell_type": "markdown",
      "metadata": {
        "id": "edlAFrn2hiZJ"
      },
      "source": [
        "Объединение данных файлов прошло успешно."
      ]
    },
    {
      "cell_type": "code",
      "execution_count": null,
      "metadata": {
        "id": "u2Q83iwyhiZJ",
        "outputId": "696c4cc0-3863-4f9a-d6c5-304eaf79480a"
      },
      "outputs": [
        {
          "name": "stdout",
          "output_type": "stream",
          "text": [
            "<class 'pandas.core.frame.DataFrame'>\n",
            "RangeIndex: 7486 entries, 0 to 7485\n",
            "Data columns (total 15 columns):\n",
            " #   Column                 Non-Null Count  Dtype  \n",
            "---  ------                 --------------  -----  \n",
            " 0   title                  7486 non-null   object \n",
            " 1   pu_number              7486 non-null   object \n",
            " 2   show_start_date        7486 non-null   object \n",
            " 3   type                   7486 non-null   object \n",
            " 4   film_studio            7468 non-null   object \n",
            " 5   production_country     7484 non-null   object \n",
            " 6   director               7477 non-null   object \n",
            " 7   producer               6918 non-null   object \n",
            " 8   age_restriction        7486 non-null   object \n",
            " 9   refundable_support     332 non-null    float64\n",
            " 10  nonrefundable_support  332 non-null    float64\n",
            " 11  budget                 332 non-null    float64\n",
            " 12  financing_source       332 non-null    object \n",
            " 13  ratings                6519 non-null   object \n",
            " 14  genres                 6510 non-null   object \n",
            "dtypes: float64(3), object(12)\n",
            "memory usage: 877.4+ KB\n",
            "<class 'pandas.core.frame.DataFrame'>\n",
            "Int64Index: 7486 entries, 0 to 7485\n",
            "Data columns (total 16 columns):\n",
            " #   Column                 Non-Null Count  Dtype  \n",
            "---  ------                 --------------  -----  \n",
            " 0   title                  7486 non-null   object \n",
            " 1   pu_number              7486 non-null   object \n",
            " 2   show_start_date        7486 non-null   object \n",
            " 3   type                   7486 non-null   object \n",
            " 4   film_studio            7468 non-null   object \n",
            " 5   production_country     7484 non-null   object \n",
            " 6   director               7477 non-null   object \n",
            " 7   producer               6918 non-null   object \n",
            " 8   age_restriction        7486 non-null   object \n",
            " 9   refundable_support     332 non-null    float64\n",
            " 10  nonrefundable_support  332 non-null    float64\n",
            " 11  budget                 332 non-null    float64\n",
            " 12  financing_source       332 non-null    object \n",
            " 13  ratings                6519 non-null   object \n",
            " 14  genres                 6510 non-null   object \n",
            " 15  box_office             3158 non-null   float64\n",
            "dtypes: float64(4), object(12)\n",
            "memory usage: 994.2+ KB\n"
          ]
        }
      ],
      "source": [
        "# проверяем количество получившихся строк:\n",
        "mkrf_movies.info() # до \"склеики\"\n",
        "data.info() # после \"склейки\""
      ]
    },
    {
      "cell_type": "markdown",
      "metadata": {
        "id": "FB4sfbJshiZK"
      },
      "source": [
        "Как мы видим до объединения было 7486 строк, так и после объединения осталось тоже количество строк 7486.  \n",
        "Добавился стобец box_office, что и требовалось."
      ]
    },
    {
      "cell_type": "markdown",
      "metadata": {
        "id": "KLDGpPG0gFyM"
      },
      "source": [
        "### 2. Предобработка данных"
      ]
    },
    {
      "cell_type": "markdown",
      "metadata": {
        "id": "ssWwKXsxgFyO"
      },
      "source": [
        "#### 2.1. Проверяем и преобразовываем типы данных"
      ]
    },
    {
      "cell_type": "code",
      "execution_count": null,
      "metadata": {
        "id": "kVGSplJOgFyO",
        "outputId": "ca3e1b3a-42df-47f9-c83f-39c16f703ba2"
      },
      "outputs": [
        {
          "data": {
            "text/plain": [
              "array(['7.2', '6.6', '6.8', '7.7', '8.3', '8.0', '7.8', '8.1', '7.1',\n",
              "       '6.0', '7.4', '5.8', '8.7', '6.3', '6.9', '5.0', '4.3', '7.3',\n",
              "       '7.0', '6.4', nan, '8.2', '7.5', '6.7', '7.9', '5.9', '6.2', '5.6',\n",
              "       '6.5', '2.4', '7.6', '6.1', '8.6', '8.5', '8.8', '5.5', '5.1',\n",
              "       '5.7', '5.4', '99%', '4.4', '4.5', '5.3', '4.1', '8.4', '2.6',\n",
              "       '3.8', '4.6', '4.8', '4.0', '3.0', '1.6', '4.2', '5.2', '4.7',\n",
              "       '4.9', '3.9', '2.7', '3.3', '2.9', '28%', '3.7', '1.4', '3.1',\n",
              "       '97%', '3.5', '3.2', '2.8', '1.5', '2.1', '2.5', '9.2', '3.4',\n",
              "       '1.1', '3.6', '83%', '64%', '91%', '94%', '62%', '79%', '90%',\n",
              "       '19%', '88%', '1.0', '89%', '1.3', '1.9', '1.8', '1.2', '1.7',\n",
              "       '9.0', '98%', '8.9', '9.1'], dtype=object)"
            ]
          },
          "execution_count": 5,
          "metadata": {},
          "output_type": "execute_result"
        }
      ],
      "source": [
        "# преобразуем форматы данных:\n",
        "data['show_start_date'] = pd.to_datetime(data['show_start_date'], format = '%Y-%m-%dT%H:%M:%S')\n",
        "data['ratings'].unique() # перед преобразованием смотрим на аномалии"
      ]
    },
    {
      "cell_type": "markdown",
      "metadata": {
        "id": "l3IaUep6hiZL"
      },
      "source": [
        "Рейтинг местами указан в %.  \n",
        "В таких позициях символ % моно удалять и значение делить на 10. Это будет рейтингом."
      ]
    },
    {
      "cell_type": "code",
      "execution_count": null,
      "metadata": {
        "scrolled": true,
        "id": "Ke5dD2blhiZM",
        "outputId": "1239709d-cdd2-44ef-e445-6aef2e34e000"
      },
      "outputs": [
        {
          "data": {
            "text/plain": [
              "array([ 7.2,  6.6,  6.8,  7.7,  8.3,  8. ,  7.8,  8.1,  7.1,  6. ,  7.4,\n",
              "        5.8,  8.7,  6.3,  6.9,  5. ,  4.3,  7.3,  7. ,  6.4,  nan,  8.2,\n",
              "        7.5,  6.7,  7.9,  5.9,  6.2,  5.6,  6.5,  2.4,  7.6,  6.1,  8.6,\n",
              "        8.5,  8.8,  5.5,  5.1,  5.7,  5.4,  9.9,  4.4,  4.5,  5.3,  4.1,\n",
              "        8.4,  2.6,  3.8,  4.6,  4.8,  4. ,  3. ,  1.6,  4.2,  5.2,  4.7,\n",
              "        4.9,  3.9,  2.7,  3.3,  2.9,  2.8,  3.7,  1.4,  3.1,  9.7,  3.5,\n",
              "        3.2,  1.5,  2.1,  2.5,  9.2,  3.4,  1.1,  3.6,  9.1,  9.4,  9. ,\n",
              "       19. ,  1. ,  8.9,  1.3,  1.9,  1.8,  1.2,  1.7,  9.8])"
            ]
          },
          "execution_count": 6,
          "metadata": {},
          "output_type": "execute_result"
        }
      ],
      "source": [
        "# работа с аномалиями:\n",
        "data['ratings'] = data['ratings'].str.strip(\"%\") # убираем %\n",
        "# приводим к общему формату путем замен\n",
        "data = data.apply(lambda x: x.replace({'99':'9.9', '28': '2.8', '97': '9.7', '83': '8.3', '64': '6.4', '91':'9.1', '94':'9.4', '62':'6.2', '79':'7.9', '90':'9.0', '88':'8.8', '89':'8.9', '98':'9.8'}, regex=True))\n",
        "data['ratings'] = data['ratings'].astype(float) # устанавливаем тип данных дробные числа\n",
        "data['ratings'].unique() # провряем результат"
      ]
    },
    {
      "cell_type": "markdown",
      "metadata": {
        "id": "3HGCZE8WhiZN"
      },
      "source": [
        "Замена проведена успешно. Есть пропущенные значения, но пока их не будем трогать и посмотрим на пропуски."
      ]
    },
    {
      "cell_type": "markdown",
      "metadata": {
        "id": "i0MOLbF-gFyP"
      },
      "source": [
        "#### 2.2. Изучаем пропуски в данных"
      ]
    },
    {
      "cell_type": "code",
      "execution_count": null,
      "metadata": {
        "id": "8MJD_lkngFyP",
        "outputId": "72e9ceaf-461a-43c8-e104-8f2c638a5026"
      },
      "outputs": [
        {
          "name": "stdout",
          "output_type": "stream",
          "text": [
            "title                       0\n",
            "pu_number                   0\n",
            "show_start_date             0\n",
            "type                        0\n",
            "film_studio                18\n",
            "production_country          2\n",
            "director                    9\n",
            "producer                  568\n",
            "age_restriction             0\n",
            "refundable_support       7154\n",
            "nonrefundable_support    7154\n",
            "budget                   7154\n",
            "financing_source         7154\n",
            "ratings                   967\n",
            "genres                    976\n",
            "box_office               4328\n",
            "dtype: int64\n"
          ]
        },
        {
          "data": {
            "text/html": [
              "<style  type=\"text/css\" >\n",
              "#T_3aba2_row0_col0,#T_3aba2_row1_col0,#T_3aba2_row2_col0,#T_3aba2_row3_col0,#T_3aba2_row4_col0,#T_3aba2_row5_col0,#T_3aba2_row6_col0,#T_3aba2_row8_col0{\n",
              "            background-color:  #3b4cc0;\n",
              "            color:  #f1f1f1;\n",
              "        }#T_3aba2_row7_col0{\n",
              "            background-color:  #5470de;\n",
              "            color:  #000000;\n",
              "        }#T_3aba2_row9_col0,#T_3aba2_row10_col0,#T_3aba2_row11_col0,#T_3aba2_row12_col0{\n",
              "            background-color:  #b40426;\n",
              "            color:  #f1f1f1;\n",
              "        }#T_3aba2_row13_col0,#T_3aba2_row14_col0{\n",
              "            background-color:  #6485ec;\n",
              "            color:  #000000;\n",
              "        }#T_3aba2_row15_col0{\n",
              "            background-color:  #f2cab5;\n",
              "            color:  #000000;\n",
              "        }</style><table id=\"T_3aba2_\" ><thead>    <tr>        <th class=\"blank level0\" ></th>        <th class=\"col_heading level0 col0\" >0</th>    </tr></thead><tbody>\n",
              "                <tr>\n",
              "                        <th id=\"T_3aba2_level0_row0\" class=\"row_heading level0 row0\" >title</th>\n",
              "                        <td id=\"T_3aba2_row0_col0\" class=\"data row0 col0\" >0.000000</td>\n",
              "            </tr>\n",
              "            <tr>\n",
              "                        <th id=\"T_3aba2_level0_row1\" class=\"row_heading level0 row1\" >pu_number</th>\n",
              "                        <td id=\"T_3aba2_row1_col0\" class=\"data row1 col0\" >0.000000</td>\n",
              "            </tr>\n",
              "            <tr>\n",
              "                        <th id=\"T_3aba2_level0_row2\" class=\"row_heading level0 row2\" >show_start_date</th>\n",
              "                        <td id=\"T_3aba2_row2_col0\" class=\"data row2 col0\" >0.000000</td>\n",
              "            </tr>\n",
              "            <tr>\n",
              "                        <th id=\"T_3aba2_level0_row3\" class=\"row_heading level0 row3\" >type</th>\n",
              "                        <td id=\"T_3aba2_row3_col0\" class=\"data row3 col0\" >0.000000</td>\n",
              "            </tr>\n",
              "            <tr>\n",
              "                        <th id=\"T_3aba2_level0_row4\" class=\"row_heading level0 row4\" >film_studio</th>\n",
              "                        <td id=\"T_3aba2_row4_col0\" class=\"data row4 col0\" >0.000000</td>\n",
              "            </tr>\n",
              "            <tr>\n",
              "                        <th id=\"T_3aba2_level0_row5\" class=\"row_heading level0 row5\" >production_country</th>\n",
              "                        <td id=\"T_3aba2_row5_col0\" class=\"data row5 col0\" >0.000000</td>\n",
              "            </tr>\n",
              "            <tr>\n",
              "                        <th id=\"T_3aba2_level0_row6\" class=\"row_heading level0 row6\" >director</th>\n",
              "                        <td id=\"T_3aba2_row6_col0\" class=\"data row6 col0\" >0.000000</td>\n",
              "            </tr>\n",
              "            <tr>\n",
              "                        <th id=\"T_3aba2_level0_row7\" class=\"row_heading level0 row7\" >producer</th>\n",
              "                        <td id=\"T_3aba2_row7_col0\" class=\"data row7 col0\" >8.000000</td>\n",
              "            </tr>\n",
              "            <tr>\n",
              "                        <th id=\"T_3aba2_level0_row8\" class=\"row_heading level0 row8\" >age_restriction</th>\n",
              "                        <td id=\"T_3aba2_row8_col0\" class=\"data row8 col0\" >0.000000</td>\n",
              "            </tr>\n",
              "            <tr>\n",
              "                        <th id=\"T_3aba2_level0_row9\" class=\"row_heading level0 row9\" >refundable_support</th>\n",
              "                        <td id=\"T_3aba2_row9_col0\" class=\"data row9 col0\" >96.000000</td>\n",
              "            </tr>\n",
              "            <tr>\n",
              "                        <th id=\"T_3aba2_level0_row10\" class=\"row_heading level0 row10\" >nonrefundable_support</th>\n",
              "                        <td id=\"T_3aba2_row10_col0\" class=\"data row10 col0\" >96.000000</td>\n",
              "            </tr>\n",
              "            <tr>\n",
              "                        <th id=\"T_3aba2_level0_row11\" class=\"row_heading level0 row11\" >budget</th>\n",
              "                        <td id=\"T_3aba2_row11_col0\" class=\"data row11 col0\" >96.000000</td>\n",
              "            </tr>\n",
              "            <tr>\n",
              "                        <th id=\"T_3aba2_level0_row12\" class=\"row_heading level0 row12\" >financing_source</th>\n",
              "                        <td id=\"T_3aba2_row12_col0\" class=\"data row12 col0\" >96.000000</td>\n",
              "            </tr>\n",
              "            <tr>\n",
              "                        <th id=\"T_3aba2_level0_row13\" class=\"row_heading level0 row13\" >ratings</th>\n",
              "                        <td id=\"T_3aba2_row13_col0\" class=\"data row13 col0\" >13.000000</td>\n",
              "            </tr>\n",
              "            <tr>\n",
              "                        <th id=\"T_3aba2_level0_row14\" class=\"row_heading level0 row14\" >genres</th>\n",
              "                        <td id=\"T_3aba2_row14_col0\" class=\"data row14 col0\" >13.000000</td>\n",
              "            </tr>\n",
              "            <tr>\n",
              "                        <th id=\"T_3aba2_level0_row15\" class=\"row_heading level0 row15\" >box_office</th>\n",
              "                        <td id=\"T_3aba2_row15_col0\" class=\"data row15 col0\" >58.000000</td>\n",
              "            </tr>\n",
              "    </tbody></table>"
            ],
            "text/plain": [
              "<pandas.io.formats.style.Styler at 0x7f1f05a94d00>"
            ]
          },
          "execution_count": 7,
          "metadata": {},
          "output_type": "execute_result"
        }
      ],
      "source": [
        "# ищем пропущенные значения:\n",
        "print(data.isna().sum())\n",
        "pd.DataFrame(round(data.isna().mean()*100,)).style.background_gradient('coolwarm') # % пропущенных значений"
      ]
    },
    {
      "cell_type": "markdown",
      "metadata": {
        "id": "MxR_iilGhiZO"
      },
      "source": [
        "refundable_support, nonrefundable_support, budget, financing_source имеют наибольшее количество пропусков - 96%  \n",
        "box_office - 58%  \n",
        "ratings и genres - 13%  \n",
        "с таким высоким % пропусков не будем выполнять заполнение значениями"
      ]
    },
    {
      "cell_type": "code",
      "execution_count": null,
      "metadata": {
        "id": "UK1zi-TDhiZO",
        "outputId": "79a63bae-4291-4310-bb65-58e2cb4ce312"
      },
      "outputs": [
        {
          "name": "stdout",
          "output_type": "stream",
          "text": [
            "title                       0\n",
            "pu_number                   0\n",
            "show_start_date             0\n",
            "type                        0\n",
            "film_studio                18\n",
            "production_country          2\n",
            "director                    9\n",
            "producer                  568\n",
            "age_restriction             0\n",
            "refundable_support       7154\n",
            "nonrefundable_support    7154\n",
            "budget                   7154\n",
            "financing_source            0\n",
            "ratings                     0\n",
            "genres                      0\n",
            "box_office               4328\n",
            "dtype: int64\n"
          ]
        }
      ],
      "source": [
        "# для удобства заполняем пропущенные значения с большим % пропусков:\n",
        "data['financing_source'] = data['financing_source'].fillna('unknown')\n",
        "data['ratings'] = data['ratings'].fillna('unknown')\n",
        "data['genres'] = data['genres'].fillna('unknown')\n",
        "print(data.isna().sum())"
      ]
    },
    {
      "cell_type": "markdown",
      "metadata": {
        "id": "4c6k1t9ygFyQ"
      },
      "source": [
        "#### 2.3. Изучаем дубликаты в датафрейме\n"
      ]
    },
    {
      "cell_type": "code",
      "execution_count": null,
      "metadata": {
        "id": "aKck8RIdgFyQ",
        "outputId": "36827d1a-ced0-41c6-bed9-54f3f1a4f096"
      },
      "outputs": [
        {
          "name": "stdout",
          "output_type": "stream",
          "text": [
            "Явных дубликатов: 0\n"
          ]
        }
      ],
      "source": [
        "# проверяем наличие явных дубликатов\n",
        "print('Явных дубликатов:', data.duplicated().sum())"
      ]
    },
    {
      "cell_type": "code",
      "execution_count": null,
      "metadata": {
        "id": "hLZ1OpTthiZQ",
        "outputId": "a74b9a2d-4bcc-4e0e-fd6b-c7a56a92cffa"
      },
      "outputs": [
        {
          "name": "stdout",
          "output_type": "stream",
          "text": [
            "Количество неявных дубликатов по столбцу pu_number - 2\n",
            "Количество неявных дубликатов по столбцу title - 714\n"
          ]
        }
      ],
      "source": [
        "# проверяем на наличие неявных дубликатов:\n",
        "print('Количество неявных дубликатов по столбцу pu_number -', data['pu_number'].duplicated().sum())\n",
        "print('Количество неявных дубликатов по столбцу title -', data['title'].duplicated().sum())"
      ]
    },
    {
      "cell_type": "code",
      "execution_count": null,
      "metadata": {
        "id": "Ng-U6cvRhiZQ",
        "outputId": "68c255d8-055f-4f31-c7c2-36383bf26870"
      },
      "outputs": [
        {
          "data": {
            "text/html": [
              "<div>\n",
              "<style scoped>\n",
              "    .dataframe tbody tr th:only-of-type {\n",
              "        vertical-align: middle;\n",
              "    }\n",
              "\n",
              "    .dataframe tbody tr th {\n",
              "        vertical-align: top;\n",
              "    }\n",
              "\n",
              "    .dataframe thead th {\n",
              "        text-align: right;\n",
              "    }\n",
              "</style>\n",
              "<table border=\"1\" class=\"dataframe\">\n",
              "  <thead>\n",
              "    <tr style=\"text-align: right;\">\n",
              "      <th></th>\n",
              "      <th>title</th>\n",
              "      <th>pu_number</th>\n",
              "      <th>show_start_date</th>\n",
              "      <th>type</th>\n",
              "      <th>film_studio</th>\n",
              "      <th>production_country</th>\n",
              "      <th>director</th>\n",
              "      <th>producer</th>\n",
              "      <th>age_restriction</th>\n",
              "      <th>refundable_support</th>\n",
              "      <th>nonrefundable_support</th>\n",
              "      <th>budget</th>\n",
              "      <th>financing_source</th>\n",
              "      <th>ratings</th>\n",
              "      <th>genres</th>\n",
              "      <th>box_office</th>\n",
              "    </tr>\n",
              "  </thead>\n",
              "  <tbody>\n",
              "    <tr>\n",
              "      <th>4638</th>\n",
              "      <td>Как жениться и остаться холостым</td>\n",
              "      <td>221154310</td>\n",
              "      <td>2010-12-17 12:00:00+00:00</td>\n",
              "      <td>Художественный</td>\n",
              "      <td>Ше Вам, Скрипт Ассосье, Тэ Фэ 1 Фильм Продюксь...</td>\n",
              "      <td>Франция</td>\n",
              "      <td>Эрик Лартиго</td>\n",
              "      <td>Амандин Било, Алан Шаба</td>\n",
              "      <td>«16+» - для детей старше 16 лет</td>\n",
              "      <td>NaN</td>\n",
              "      <td>NaN</td>\n",
              "      <td>NaN</td>\n",
              "      <td>unknown</td>\n",
              "      <td>7.00</td>\n",
              "      <td>мелодрама,комедия</td>\n",
              "      <td>NaN</td>\n",
              "    </tr>\n",
              "    <tr>\n",
              "      <th>4639</th>\n",
              "      <td>Иоанна - женщина на папском престоле /По роман...</td>\n",
              "      <td>221154310</td>\n",
              "      <td>2010-12-17 12:00:00+00:00</td>\n",
              "      <td>Художественный</td>\n",
              "      <td>Константин Фильм, А Эр Ди Дегето Фильм, Дюне ...</td>\n",
              "      <td>Германия - Великобритания - Италия - Испания</td>\n",
              "      <td>Зенке Вортманн</td>\n",
              "      <td>Оливер Бербен, Дорис Д.Хайнце, Фарук Элтан</td>\n",
              "      <td>«16+» - для детей старше 16 лет</td>\n",
              "      <td>NaN</td>\n",
              "      <td>NaN</td>\n",
              "      <td>NaN</td>\n",
              "      <td>unknown</td>\n",
              "      <td>7.60</td>\n",
              "      <td>драма,мелодрама,история</td>\n",
              "      <td>NaN</td>\n",
              "    </tr>\n",
              "    <tr>\n",
              "      <th>5067</th>\n",
              "      <td>Анализируй это!</td>\n",
              "      <td>221054410</td>\n",
              "      <td>2010-05-25 12:00:00+00:00</td>\n",
              "      <td>Художественный</td>\n",
              "      <td>Уорнер Бразерс, Вилладж Роудшоу Филмз ЛТД</td>\n",
              "      <td>США-Австралия</td>\n",
              "      <td>ХЭрольд Рэмис</td>\n",
              "      <td>Джейн Розенталь, Пола Уейнстейн</td>\n",
              "      <td>«16+» - для детей старше 16 лет</td>\n",
              "      <td>NaN</td>\n",
              "      <td>NaN</td>\n",
              "      <td>NaN</td>\n",
              "      <td>unknown</td>\n",
              "      <td>7.40</td>\n",
              "      <td>комедия,криминал</td>\n",
              "      <td>NaN</td>\n",
              "    </tr>\n",
              "    <tr>\n",
              "      <th>5068</th>\n",
              "      <td>Анализируй то!</td>\n",
              "      <td>221054410</td>\n",
              "      <td>2010-05-25 12:00:00+00:00</td>\n",
              "      <td>Художественный</td>\n",
              "      <td>Уорнер Бразерс, Виллидж Роадшоу Пикчерз, Эн-Пи...</td>\n",
              "      <td>США</td>\n",
              "      <td>Гарольд Реймис</td>\n",
              "      <td>Джейн Розенталь, Паул Уэйнстейн</td>\n",
              "      <td>«12+» - для детей старше 12 лет</td>\n",
              "      <td>NaN</td>\n",
              "      <td>NaN</td>\n",
              "      <td>NaN</td>\n",
              "      <td>unknown</td>\n",
              "      <td>6.80</td>\n",
              "      <td>комедия,криминал</td>\n",
              "      <td>NaN</td>\n",
              "    </tr>\n",
              "  </tbody>\n",
              "</table>\n",
              "</div>"
            ],
            "text/plain": [
              "                                                  title  pu_number  \\\n",
              "4638                   Как жениться и остаться холостым  221154310   \n",
              "4639  Иоанна - женщина на папском престоле /По роман...  221154310   \n",
              "5067                                    Анализируй это!  221054410   \n",
              "5068                                     Анализируй то!  221054410   \n",
              "\n",
              "               show_start_date            type  \\\n",
              "4638 2010-12-17 12:00:00+00:00  Художественный   \n",
              "4639 2010-12-17 12:00:00+00:00  Художественный   \n",
              "5067 2010-05-25 12:00:00+00:00  Художественный   \n",
              "5068 2010-05-25 12:00:00+00:00  Художественный   \n",
              "\n",
              "                                            film_studio  \\\n",
              "4638  Ше Вам, Скрипт Ассосье, Тэ Фэ 1 Фильм Продюксь...   \n",
              "4639   Константин Фильм, А Эр Ди Дегето Фильм, Дюне ...   \n",
              "5067          Уорнер Бразерс, Вилладж Роудшоу Филмз ЛТД   \n",
              "5068  Уорнер Бразерс, Виллидж Роадшоу Пикчерз, Эн-Пи...   \n",
              "\n",
              "                                production_country        director  \\\n",
              "4638                                       Франция    Эрик Лартиго   \n",
              "4639  Германия - Великобритания - Италия - Испания  Зенке Вортманн   \n",
              "5067                                 США-Австралия   ХЭрольд Рэмис   \n",
              "5068                                           США  Гарольд Реймис   \n",
              "\n",
              "                                        producer  \\\n",
              "4638                     Амандин Било, Алан Шаба   \n",
              "4639  Оливер Бербен, Дорис Д.Хайнце, Фарук Элтан   \n",
              "5067             Джейн Розенталь, Пола Уейнстейн   \n",
              "5068             Джейн Розенталь, Паул Уэйнстейн   \n",
              "\n",
              "                      age_restriction  refundable_support  \\\n",
              "4638  «16+» - для детей старше 16 лет                 NaN   \n",
              "4639  «16+» - для детей старше 16 лет                 NaN   \n",
              "5067  «16+» - для детей старше 16 лет                 NaN   \n",
              "5068  «12+» - для детей старше 12 лет                 NaN   \n",
              "\n",
              "      nonrefundable_support  budget financing_source ratings  \\\n",
              "4638                    NaN     NaN          unknown    7.00   \n",
              "4639                    NaN     NaN          unknown    7.60   \n",
              "5067                    NaN     NaN          unknown    7.40   \n",
              "5068                    NaN     NaN          unknown    6.80   \n",
              "\n",
              "                       genres  box_office  \n",
              "4638        мелодрама,комедия         NaN  \n",
              "4639  драма,мелодрама,история         NaN  \n",
              "5067         комедия,криминал         NaN  \n",
              "5068         комедия,криминал         NaN  "
            ]
          },
          "execution_count": 11,
          "metadata": {},
          "output_type": "execute_result"
        }
      ],
      "source": [
        "# смотрим на дубликаты прокатных удостоверений:\n",
        "data[data.duplicated(subset=['pu_number'], keep = False)]"
      ]
    },
    {
      "cell_type": "markdown",
      "metadata": {
        "id": "2UPKTva5hiZQ"
      },
      "source": [
        "Эти прокатные удостоверения не являются дубликатами.  \n",
        "У прокатного удостоверения 221154310 разные названия фильмов, у прокатного удостоверения 221054410 разные возрастные категории и рейтинги.  \n",
        "Скорее всего произошла ошибка при заполнении.  \n",
        "Эти прокатные удостоверения можно переименовать, например добавив по одному индексу в конце.  "
      ]
    },
    {
      "cell_type": "code",
      "execution_count": null,
      "metadata": {
        "id": "2_7rKULmhiZR",
        "outputId": "6497d28e-f611-4505-8eb6-7aca7c068d8c"
      },
      "outputs": [
        {
          "name": "stdout",
          "output_type": "stream",
          "text": [
            "Количество неявных дубликатов по столбцу pu_number - 0\n"
          ]
        }
      ],
      "source": [
        "# переименовываем \"дубликаты\":\n",
        "data.loc[((data['pu_number'] == '221154310') & (data['title'] == 'Как жениться и остаться холостым')), 'pu_number'] = 2211543100\n",
        "data.loc[((data['pu_number'] == '221054410') & (data['title'] == 'Анализируй то!')), 'pu_number'] = 2210544100\n",
        "print('Количество неявных дубликатов по столбцу pu_number -', data['pu_number'].duplicated().sum())"
      ]
    },
    {
      "cell_type": "code",
      "execution_count": null,
      "metadata": {
        "scrolled": true,
        "id": "DmXp8b-QhiZR",
        "outputId": "99450a05-7a2b-4ba1-d5ad-03755d12857c"
      },
      "outputs": [
        {
          "data": {
            "text/html": [
              "<div>\n",
              "<style scoped>\n",
              "    .dataframe tbody tr th:only-of-type {\n",
              "        vertical-align: middle;\n",
              "    }\n",
              "\n",
              "    .dataframe tbody tr th {\n",
              "        vertical-align: top;\n",
              "    }\n",
              "\n",
              "    .dataframe thead th {\n",
              "        text-align: right;\n",
              "    }\n",
              "</style>\n",
              "<table border=\"1\" class=\"dataframe\">\n",
              "  <thead>\n",
              "    <tr style=\"text-align: right;\">\n",
              "      <th></th>\n",
              "      <th>title</th>\n",
              "      <th>pu_number</th>\n",
              "      <th>show_start_date</th>\n",
              "      <th>type</th>\n",
              "      <th>film_studio</th>\n",
              "      <th>production_country</th>\n",
              "      <th>director</th>\n",
              "      <th>producer</th>\n",
              "      <th>age_restriction</th>\n",
              "      <th>refundable_support</th>\n",
              "      <th>nonrefundable_support</th>\n",
              "      <th>budget</th>\n",
              "      <th>financing_source</th>\n",
              "      <th>ratings</th>\n",
              "      <th>genres</th>\n",
              "      <th>box_office</th>\n",
              "    </tr>\n",
              "  </thead>\n",
              "  <tbody>\n",
              "    <tr>\n",
              "      <th>2</th>\n",
              "      <td>Особо опасен</td>\n",
              "      <td>221038416</td>\n",
              "      <td>2016-10-10 12:00:00+00:00</td>\n",
              "      <td>Художественный</td>\n",
              "      <td>Юниверсал Пикчерз, Кикстарт Продакшнз, Марк Пл...</td>\n",
              "      <td>США</td>\n",
              "      <td>Тимур Бекмамбетов</td>\n",
              "      <td>Джим Лемли, Джейсон Нетер, Марк Е.Платт, Яйн Смит</td>\n",
              "      <td>«18+» - запрещено для детей</td>\n",
              "      <td>NaN</td>\n",
              "      <td>NaN</td>\n",
              "      <td>NaN</td>\n",
              "      <td>unknown</td>\n",
              "      <td>6.80</td>\n",
              "      <td>фантастика,боевик,триллер</td>\n",
              "      <td>NaN</td>\n",
              "    </tr>\n",
              "    <tr>\n",
              "      <th>3</th>\n",
              "      <td>Особо опасен</td>\n",
              "      <td>2210269.16</td>\n",
              "      <td>2016-06-10 12:00:00+00:00</td>\n",
              "      <td>Художественный</td>\n",
              "      <td>Юниверсал Пикчерз, Кикстарт Продакшнз, Марк Пл...</td>\n",
              "      <td>США</td>\n",
              "      <td>Тимур Бекмамбетов</td>\n",
              "      <td>Джим Лемли, Джейсон Нетер, Марк Е.Платт, Яйн Смит</td>\n",
              "      <td>«18+» - запрещено для детей</td>\n",
              "      <td>NaN</td>\n",
              "      <td>NaN</td>\n",
              "      <td>NaN</td>\n",
              "      <td>unknown</td>\n",
              "      <td>6.80</td>\n",
              "      <td>фантастика,боевик,триллер</td>\n",
              "      <td>NaN</td>\n",
              "    </tr>\n",
              "    <tr>\n",
              "      <th>4</th>\n",
              "      <td>Особо опасен</td>\n",
              "      <td>221030815</td>\n",
              "      <td>2015-07-29 12:00:00+00:00</td>\n",
              "      <td>Художественный</td>\n",
              "      <td>Юниверсал Пикчерз, Кикстарт Продакшнз, Марк Пл...</td>\n",
              "      <td>США</td>\n",
              "      <td>Тимур Бекмамбетов</td>\n",
              "      <td>Джим Лемли, Джейсон Нетер, Марк Е.Платт, Яйн Смит</td>\n",
              "      <td>«18+» - запрещено для детей</td>\n",
              "      <td>NaN</td>\n",
              "      <td>NaN</td>\n",
              "      <td>NaN</td>\n",
              "      <td>unknown</td>\n",
              "      <td>6.80</td>\n",
              "      <td>фантастика,боевик,триллер</td>\n",
              "      <td>NaN</td>\n",
              "    </tr>\n",
              "    <tr>\n",
              "      <th>12</th>\n",
              "      <td>Малышка на миллион /По мотивам рассказов Ф.Х.Т...</td>\n",
              "      <td>221011415</td>\n",
              "      <td>2015-04-03 12:00:00+00:00</td>\n",
              "      <td>Художественный</td>\n",
              "      <td>Уорнер Бразерс, Лейкшор Интертейнмент, Малпасо...</td>\n",
              "      <td>США</td>\n",
              "      <td>Клинт Иствуд</td>\n",
              "      <td>Клинт Иствуд, Том Розенберг, Альберт С.Рудди, ...</td>\n",
              "      <td>«16+» - для детей старше 16 лет</td>\n",
              "      <td>NaN</td>\n",
              "      <td>NaN</td>\n",
              "      <td>NaN</td>\n",
              "      <td>unknown</td>\n",
              "      <td>8.10</td>\n",
              "      <td>драма,спорт</td>\n",
              "      <td>NaN</td>\n",
              "    </tr>\n",
              "    <tr>\n",
              "      <th>26</th>\n",
              "      <td>Оружейный барон</td>\n",
              "      <td>221012515</td>\n",
              "      <td>2015-04-03 12:00:00+00:00</td>\n",
              "      <td>Художественный</td>\n",
              "      <td>Вэ И Пэ Медиенфондс 3, Асендант Пикчерз, Сатур...</td>\n",
              "      <td>США - Франция - Турция</td>\n",
              "      <td>Эндрю Никкол</td>\n",
              "      <td>Норман Голуайтли, Энди Грош, Николас Кейдж, Эн...</td>\n",
              "      <td>«18+» - запрещено для детей</td>\n",
              "      <td>NaN</td>\n",
              "      <td>NaN</td>\n",
              "      <td>NaN</td>\n",
              "      <td>unknown</td>\n",
              "      <td>7.70</td>\n",
              "      <td>боевик,драма,криминал</td>\n",
              "      <td>NaN</td>\n",
              "    </tr>\n",
              "    <tr>\n",
              "      <th>...</th>\n",
              "      <td>...</td>\n",
              "      <td>...</td>\n",
              "      <td>...</td>\n",
              "      <td>...</td>\n",
              "      <td>...</td>\n",
              "      <td>...</td>\n",
              "      <td>...</td>\n",
              "      <td>...</td>\n",
              "      <td>...</td>\n",
              "      <td>...</td>\n",
              "      <td>...</td>\n",
              "      <td>...</td>\n",
              "      <td>...</td>\n",
              "      <td>...</td>\n",
              "      <td>...</td>\n",
              "      <td>...</td>\n",
              "    </tr>\n",
              "    <tr>\n",
              "      <th>7369</th>\n",
              "      <td>Невиновен</td>\n",
              "      <td>111019319</td>\n",
              "      <td>2019-11-07 12:00:00+00:00</td>\n",
              "      <td>Художественный</td>\n",
              "      <td>ООО \"Кавказфильм\"</td>\n",
              "      <td>Россия</td>\n",
              "      <td>А.Емкужев</td>\n",
              "      <td>А.Емкужев, А.Хуажева, ООО \"Корпорация Русская ...</td>\n",
              "      <td>«16+» - для детей старше 16 лет</td>\n",
              "      <td>NaN</td>\n",
              "      <td>NaN</td>\n",
              "      <td>NaN</td>\n",
              "      <td>unknown</td>\n",
              "      <td>7.50</td>\n",
              "      <td>триллер,детектив,криминал</td>\n",
              "      <td>NaN</td>\n",
              "    </tr>\n",
              "    <tr>\n",
              "      <th>7416</th>\n",
              "      <td>Отель \"Гранд Будапешт\"</td>\n",
              "      <td>121035119</td>\n",
              "      <td>2019-12-13 12:00:00+00:00</td>\n",
              "      <td>Художественный</td>\n",
              "      <td>Американ Эмпирикал, Индиан Пэинтбраш, Скотт Ру...</td>\n",
              "      <td>Германия, США</td>\n",
              "      <td>Уэс Андерсен</td>\n",
              "      <td>Уэс Андерсон, Джереми Доусон, Стивен Рейлс</td>\n",
              "      <td>«16+» - для детей старше 16 лет</td>\n",
              "      <td>NaN</td>\n",
              "      <td>NaN</td>\n",
              "      <td>NaN</td>\n",
              "      <td>unknown</td>\n",
              "      <td>7.90</td>\n",
              "      <td>комедия,приключения,детектив</td>\n",
              "      <td>NaN</td>\n",
              "    </tr>\n",
              "    <tr>\n",
              "      <th>7438</th>\n",
              "      <td>Зверь</td>\n",
              "      <td>1210359.19</td>\n",
              "      <td>2019-12-05 12:00:00+00:00</td>\n",
              "      <td>Художественный</td>\n",
              "      <td>Студио энд Нью</td>\n",
              "      <td>Южная Корея</td>\n",
              "      <td>Ли Джон-хо</td>\n",
              "      <td>Чан Гён-ик, Чон Джи-хун, Пэк Кён сук</td>\n",
              "      <td>«18+» - запрещено для детей</td>\n",
              "      <td>NaN</td>\n",
              "      <td>NaN</td>\n",
              "      <td>NaN</td>\n",
              "      <td>unknown</td>\n",
              "      <td>6.50</td>\n",
              "      <td>триллер,драма</td>\n",
              "      <td>175,003.51</td>\n",
              "    </tr>\n",
              "    <tr>\n",
              "      <th>7450</th>\n",
              "      <td>В тихом омуте</td>\n",
              "      <td>1210369.19</td>\n",
              "      <td>2019-12-09 12:00:00+00:00</td>\n",
              "      <td>Художественный</td>\n",
              "      <td>Хэд Гир Филмз, Крео Филмз, Локал Хироу, Метрол...</td>\n",
              "      <td>США</td>\n",
              "      <td>Адам Рэндолл</td>\n",
              "      <td>Мэтт Уолдек</td>\n",
              "      <td>«18+» - запрещено для детей</td>\n",
              "      <td>NaN</td>\n",
              "      <td>NaN</td>\n",
              "      <td>NaN</td>\n",
              "      <td>unknown</td>\n",
              "      <td>6.80</td>\n",
              "      <td>триллер,криминал,детектив</td>\n",
              "      <td>NaN</td>\n",
              "    </tr>\n",
              "    <tr>\n",
              "      <th>7474</th>\n",
              "      <td>Вторжение</td>\n",
              "      <td>111022519</td>\n",
              "      <td>2019-12-23 12:00:00+00:00</td>\n",
              "      <td>Художественный</td>\n",
              "      <td>ООО \"Арт Пикчерс Студия\", ООО \"Водород 2011\"</td>\n",
              "      <td>Россия</td>\n",
              "      <td>Ф.Бондарчук</td>\n",
              "      <td>Ф.Бондарчук, М.Врубель, А.Андрющенко, Д.Рудовский</td>\n",
              "      <td>«12+» - для детей старше 12 лет</td>\n",
              "      <td>100,000,000.00</td>\n",
              "      <td>400,000,000.00</td>\n",
              "      <td>944,000,000.00</td>\n",
              "      <td>Фонд кино</td>\n",
              "      <td>5.70</td>\n",
              "      <td>фантастика,боевик</td>\n",
              "      <td>NaN</td>\n",
              "    </tr>\n",
              "  </tbody>\n",
              "</table>\n",
              "<p>1272 rows × 16 columns</p>\n",
              "</div>"
            ],
            "text/plain": [
              "                                                  title   pu_number  \\\n",
              "2                                          Особо опасен   221038416   \n",
              "3                                          Особо опасен  2210269.16   \n",
              "4                                          Особо опасен   221030815   \n",
              "12    Малышка на миллион /По мотивам рассказов Ф.Х.Т...   221011415   \n",
              "26                                      Оружейный барон   221012515   \n",
              "...                                                 ...         ...   \n",
              "7369                                          Невиновен   111019319   \n",
              "7416                             Отель \"Гранд Будапешт\"   121035119   \n",
              "7438                                              Зверь  1210359.19   \n",
              "7450                                      В тихом омуте  1210369.19   \n",
              "7474                                          Вторжение   111022519   \n",
              "\n",
              "               show_start_date             type  \\\n",
              "2    2016-10-10 12:00:00+00:00   Художественный   \n",
              "3    2016-06-10 12:00:00+00:00   Художественный   \n",
              "4    2015-07-29 12:00:00+00:00   Художественный   \n",
              "12   2015-04-03 12:00:00+00:00   Художественный   \n",
              "26   2015-04-03 12:00:00+00:00   Художественный   \n",
              "...                        ...              ...   \n",
              "7369 2019-11-07 12:00:00+00:00   Художественный   \n",
              "7416 2019-12-13 12:00:00+00:00   Художественный   \n",
              "7438 2019-12-05 12:00:00+00:00   Художественный   \n",
              "7450 2019-12-09 12:00:00+00:00   Художественный   \n",
              "7474 2019-12-23 12:00:00+00:00   Художественный   \n",
              "\n",
              "                                            film_studio  \\\n",
              "2     Юниверсал Пикчерз, Кикстарт Продакшнз, Марк Пл...   \n",
              "3     Юниверсал Пикчерз, Кикстарт Продакшнз, Марк Пл...   \n",
              "4     Юниверсал Пикчерз, Кикстарт Продакшнз, Марк Пл...   \n",
              "12    Уорнер Бразерс, Лейкшор Интертейнмент, Малпасо...   \n",
              "26    Вэ И Пэ Медиенфондс 3, Асендант Пикчерз, Сатур...   \n",
              "...                                                 ...   \n",
              "7369                                  ООО \"Кавказфильм\"   \n",
              "7416  Американ Эмпирикал, Индиан Пэинтбраш, Скотт Ру...   \n",
              "7438                                     Студио энд Нью   \n",
              "7450  Хэд Гир Филмз, Крео Филмз, Локал Хироу, Метрол...   \n",
              "7474       ООО \"Арт Пикчерс Студия\", ООО \"Водород 2011\"   \n",
              "\n",
              "          production_country           director  \\\n",
              "2                        США  Тимур Бекмамбетов   \n",
              "3                        США  Тимур Бекмамбетов   \n",
              "4                        США  Тимур Бекмамбетов   \n",
              "12                       США       Клинт Иствуд   \n",
              "26    США - Франция - Турция       Эндрю Никкол   \n",
              "...                      ...                ...   \n",
              "7369                  Россия          А.Емкужев   \n",
              "7416           Германия, США       Уэс Андерсен   \n",
              "7438             Южная Корея         Ли Джон-хо   \n",
              "7450                     США       Адам Рэндолл   \n",
              "7474                  Россия        Ф.Бондарчук   \n",
              "\n",
              "                                               producer  \\\n",
              "2     Джим Лемли, Джейсон Нетер, Марк Е.Платт, Яйн Смит   \n",
              "3     Джим Лемли, Джейсон Нетер, Марк Е.Платт, Яйн Смит   \n",
              "4     Джим Лемли, Джейсон Нетер, Марк Е.Платт, Яйн Смит   \n",
              "12    Клинт Иствуд, Том Розенберг, Альберт С.Рудди, ...   \n",
              "26    Норман Голуайтли, Энди Грош, Николас Кейдж, Эн...   \n",
              "...                                                 ...   \n",
              "7369  А.Емкужев, А.Хуажева, ООО \"Корпорация Русская ...   \n",
              "7416         Уэс Андерсон, Джереми Доусон, Стивен Рейлс   \n",
              "7438               Чан Гён-ик, Чон Джи-хун, Пэк Кён сук   \n",
              "7450                                        Мэтт Уолдек   \n",
              "7474  Ф.Бондарчук, М.Врубель, А.Андрющенко, Д.Рудовский   \n",
              "\n",
              "                      age_restriction  refundable_support  \\\n",
              "2         «18+» - запрещено для детей                 NaN   \n",
              "3         «18+» - запрещено для детей                 NaN   \n",
              "4         «18+» - запрещено для детей                 NaN   \n",
              "12    «16+» - для детей старше 16 лет                 NaN   \n",
              "26        «18+» - запрещено для детей                 NaN   \n",
              "...                               ...                 ...   \n",
              "7369  «16+» - для детей старше 16 лет                 NaN   \n",
              "7416  «16+» - для детей старше 16 лет                 NaN   \n",
              "7438      «18+» - запрещено для детей                 NaN   \n",
              "7450      «18+» - запрещено для детей                 NaN   \n",
              "7474  «12+» - для детей старше 12 лет      100,000,000.00   \n",
              "\n",
              "      nonrefundable_support         budget financing_source ratings  \\\n",
              "2                       NaN            NaN          unknown    6.80   \n",
              "3                       NaN            NaN          unknown    6.80   \n",
              "4                       NaN            NaN          unknown    6.80   \n",
              "12                      NaN            NaN          unknown    8.10   \n",
              "26                      NaN            NaN          unknown    7.70   \n",
              "...                     ...            ...              ...     ...   \n",
              "7369                    NaN            NaN          unknown    7.50   \n",
              "7416                    NaN            NaN          unknown    7.90   \n",
              "7438                    NaN            NaN          unknown    6.50   \n",
              "7450                    NaN            NaN          unknown    6.80   \n",
              "7474         400,000,000.00 944,000,000.00        Фонд кино    5.70   \n",
              "\n",
              "                            genres  box_office  \n",
              "2        фантастика,боевик,триллер         NaN  \n",
              "3        фантастика,боевик,триллер         NaN  \n",
              "4        фантастика,боевик,триллер         NaN  \n",
              "12                     драма,спорт         NaN  \n",
              "26           боевик,драма,криминал         NaN  \n",
              "...                            ...         ...  \n",
              "7369     триллер,детектив,криминал         NaN  \n",
              "7416  комедия,приключения,детектив         NaN  \n",
              "7438                 триллер,драма  175,003.51  \n",
              "7450     триллер,криминал,детектив         NaN  \n",
              "7474             фантастика,боевик         NaN  \n",
              "\n",
              "[1272 rows x 16 columns]"
            ]
          },
          "execution_count": 13,
          "metadata": {},
          "output_type": "execute_result"
        }
      ],
      "source": [
        "# работаем с дубликатами фильмов:\n",
        "# смотрим на дубликаты прокатных удостоверений:\n",
        "data[data.duplicated(subset=['title'], keep = False)]"
      ]
    },
    {
      "cell_type": "markdown",
      "metadata": {
        "id": "Y-XD1S2shiZS"
      },
      "source": [
        "В столбце pu_number обнаружились аномалии. В некоторых значениях есть точки, их нужно удалить."
      ]
    },
    {
      "cell_type": "code",
      "execution_count": null,
      "metadata": {
        "scrolled": true,
        "id": "kqrLdwM0hiZS"
      },
      "outputs": [],
      "source": [
        "# удаляем точки из pu_number:\n",
        "data['pu_number'] = data['pu_number'].str.replace('.','')\n"
      ]
    },
    {
      "cell_type": "code",
      "execution_count": null,
      "metadata": {
        "id": "ZCRfp0wzhiZS",
        "outputId": "4e9bf6dc-0d85-4c1a-b2d2-55d7e12d9c91"
      },
      "outputs": [
        {
          "data": {
            "text/html": [
              "<div>\n",
              "<style scoped>\n",
              "    .dataframe tbody tr th:only-of-type {\n",
              "        vertical-align: middle;\n",
              "    }\n",
              "\n",
              "    .dataframe tbody tr th {\n",
              "        vertical-align: top;\n",
              "    }\n",
              "\n",
              "    .dataframe thead th {\n",
              "        text-align: right;\n",
              "    }\n",
              "</style>\n",
              "<table border=\"1\" class=\"dataframe\">\n",
              "  <thead>\n",
              "    <tr style=\"text-align: right;\">\n",
              "      <th></th>\n",
              "      <th>title</th>\n",
              "      <th>pu_number</th>\n",
              "      <th>show_start_date</th>\n",
              "      <th>type</th>\n",
              "      <th>film_studio</th>\n",
              "      <th>production_country</th>\n",
              "      <th>director</th>\n",
              "      <th>producer</th>\n",
              "      <th>age_restriction</th>\n",
              "      <th>refundable_support</th>\n",
              "      <th>nonrefundable_support</th>\n",
              "      <th>budget</th>\n",
              "      <th>financing_source</th>\n",
              "      <th>ratings</th>\n",
              "      <th>genres</th>\n",
              "      <th>box_office</th>\n",
              "    </tr>\n",
              "  </thead>\n",
              "  <tbody>\n",
              "    <tr>\n",
              "      <th>2</th>\n",
              "      <td>Особо опасен</td>\n",
              "      <td>221038416</td>\n",
              "      <td>2016-10-10 12:00:00+00:00</td>\n",
              "      <td>Художественный</td>\n",
              "      <td>Юниверсал Пикчерз, Кикстарт Продакшнз, Марк Пл...</td>\n",
              "      <td>США</td>\n",
              "      <td>Тимур Бекмамбетов</td>\n",
              "      <td>Джим Лемли, Джейсон Нетер, Марк Е.Платт, Яйн Смит</td>\n",
              "      <td>«18+» - запрещено для детей</td>\n",
              "      <td>NaN</td>\n",
              "      <td>NaN</td>\n",
              "      <td>NaN</td>\n",
              "      <td>unknown</td>\n",
              "      <td>6.80</td>\n",
              "      <td>фантастика,боевик,триллер</td>\n",
              "      <td>NaN</td>\n",
              "    </tr>\n",
              "    <tr>\n",
              "      <th>3</th>\n",
              "      <td>Особо опасен</td>\n",
              "      <td>221026916</td>\n",
              "      <td>2016-06-10 12:00:00+00:00</td>\n",
              "      <td>Художественный</td>\n",
              "      <td>Юниверсал Пикчерз, Кикстарт Продакшнз, Марк Пл...</td>\n",
              "      <td>США</td>\n",
              "      <td>Тимур Бекмамбетов</td>\n",
              "      <td>Джим Лемли, Джейсон Нетер, Марк Е.Платт, Яйн Смит</td>\n",
              "      <td>«18+» - запрещено для детей</td>\n",
              "      <td>NaN</td>\n",
              "      <td>NaN</td>\n",
              "      <td>NaN</td>\n",
              "      <td>unknown</td>\n",
              "      <td>6.80</td>\n",
              "      <td>фантастика,боевик,триллер</td>\n",
              "      <td>NaN</td>\n",
              "    </tr>\n",
              "    <tr>\n",
              "      <th>4</th>\n",
              "      <td>Особо опасен</td>\n",
              "      <td>221030815</td>\n",
              "      <td>2015-07-29 12:00:00+00:00</td>\n",
              "      <td>Художественный</td>\n",
              "      <td>Юниверсал Пикчерз, Кикстарт Продакшнз, Марк Пл...</td>\n",
              "      <td>США</td>\n",
              "      <td>Тимур Бекмамбетов</td>\n",
              "      <td>Джим Лемли, Джейсон Нетер, Марк Е.Платт, Яйн Смит</td>\n",
              "      <td>«18+» - запрещено для детей</td>\n",
              "      <td>NaN</td>\n",
              "      <td>NaN</td>\n",
              "      <td>NaN</td>\n",
              "      <td>unknown</td>\n",
              "      <td>6.80</td>\n",
              "      <td>фантастика,боевик,триллер</td>\n",
              "      <td>NaN</td>\n",
              "    </tr>\n",
              "    <tr>\n",
              "      <th>12</th>\n",
              "      <td>Малышка на миллион /По мотивам рассказов Ф.Х.Т...</td>\n",
              "      <td>221011415</td>\n",
              "      <td>2015-04-03 12:00:00+00:00</td>\n",
              "      <td>Художественный</td>\n",
              "      <td>Уорнер Бразерс, Лейкшор Интертейнмент, Малпасо...</td>\n",
              "      <td>США</td>\n",
              "      <td>Клинт Иствуд</td>\n",
              "      <td>Клинт Иствуд, Том Розенберг, Альберт С.Рудди, ...</td>\n",
              "      <td>«16+» - для детей старше 16 лет</td>\n",
              "      <td>NaN</td>\n",
              "      <td>NaN</td>\n",
              "      <td>NaN</td>\n",
              "      <td>unknown</td>\n",
              "      <td>8.10</td>\n",
              "      <td>драма,спорт</td>\n",
              "      <td>NaN</td>\n",
              "    </tr>\n",
              "    <tr>\n",
              "      <th>26</th>\n",
              "      <td>Оружейный барон</td>\n",
              "      <td>221012515</td>\n",
              "      <td>2015-04-03 12:00:00+00:00</td>\n",
              "      <td>Художественный</td>\n",
              "      <td>Вэ И Пэ Медиенфондс 3, Асендант Пикчерз, Сатур...</td>\n",
              "      <td>США - Франция - Турция</td>\n",
              "      <td>Эндрю Никкол</td>\n",
              "      <td>Норман Голуайтли, Энди Грош, Николас Кейдж, Эн...</td>\n",
              "      <td>«18+» - запрещено для детей</td>\n",
              "      <td>NaN</td>\n",
              "      <td>NaN</td>\n",
              "      <td>NaN</td>\n",
              "      <td>unknown</td>\n",
              "      <td>7.70</td>\n",
              "      <td>боевик,драма,криминал</td>\n",
              "      <td>NaN</td>\n",
              "    </tr>\n",
              "    <tr>\n",
              "      <th>...</th>\n",
              "      <td>...</td>\n",
              "      <td>...</td>\n",
              "      <td>...</td>\n",
              "      <td>...</td>\n",
              "      <td>...</td>\n",
              "      <td>...</td>\n",
              "      <td>...</td>\n",
              "      <td>...</td>\n",
              "      <td>...</td>\n",
              "      <td>...</td>\n",
              "      <td>...</td>\n",
              "      <td>...</td>\n",
              "      <td>...</td>\n",
              "      <td>...</td>\n",
              "      <td>...</td>\n",
              "      <td>...</td>\n",
              "    </tr>\n",
              "    <tr>\n",
              "      <th>7369</th>\n",
              "      <td>Невиновен</td>\n",
              "      <td>111019319</td>\n",
              "      <td>2019-11-07 12:00:00+00:00</td>\n",
              "      <td>Художественный</td>\n",
              "      <td>ООО \"Кавказфильм\"</td>\n",
              "      <td>Россия</td>\n",
              "      <td>А.Емкужев</td>\n",
              "      <td>А.Емкужев, А.Хуажева, ООО \"Корпорация Русская ...</td>\n",
              "      <td>«16+» - для детей старше 16 лет</td>\n",
              "      <td>NaN</td>\n",
              "      <td>NaN</td>\n",
              "      <td>NaN</td>\n",
              "      <td>unknown</td>\n",
              "      <td>7.50</td>\n",
              "      <td>триллер,детектив,криминал</td>\n",
              "      <td>NaN</td>\n",
              "    </tr>\n",
              "    <tr>\n",
              "      <th>7416</th>\n",
              "      <td>Отель \"Гранд Будапешт\"</td>\n",
              "      <td>121035119</td>\n",
              "      <td>2019-12-13 12:00:00+00:00</td>\n",
              "      <td>Художественный</td>\n",
              "      <td>Американ Эмпирикал, Индиан Пэинтбраш, Скотт Ру...</td>\n",
              "      <td>Германия, США</td>\n",
              "      <td>Уэс Андерсен</td>\n",
              "      <td>Уэс Андерсон, Джереми Доусон, Стивен Рейлс</td>\n",
              "      <td>«16+» - для детей старше 16 лет</td>\n",
              "      <td>NaN</td>\n",
              "      <td>NaN</td>\n",
              "      <td>NaN</td>\n",
              "      <td>unknown</td>\n",
              "      <td>7.90</td>\n",
              "      <td>комедия,приключения,детектив</td>\n",
              "      <td>NaN</td>\n",
              "    </tr>\n",
              "    <tr>\n",
              "      <th>7438</th>\n",
              "      <td>Зверь</td>\n",
              "      <td>121035919</td>\n",
              "      <td>2019-12-05 12:00:00+00:00</td>\n",
              "      <td>Художественный</td>\n",
              "      <td>Студио энд Нью</td>\n",
              "      <td>Южная Корея</td>\n",
              "      <td>Ли Джон-хо</td>\n",
              "      <td>Чан Гён-ик, Чон Джи-хун, Пэк Кён сук</td>\n",
              "      <td>«18+» - запрещено для детей</td>\n",
              "      <td>NaN</td>\n",
              "      <td>NaN</td>\n",
              "      <td>NaN</td>\n",
              "      <td>unknown</td>\n",
              "      <td>6.50</td>\n",
              "      <td>триллер,драма</td>\n",
              "      <td>175,003.51</td>\n",
              "    </tr>\n",
              "    <tr>\n",
              "      <th>7450</th>\n",
              "      <td>В тихом омуте</td>\n",
              "      <td>121036919</td>\n",
              "      <td>2019-12-09 12:00:00+00:00</td>\n",
              "      <td>Художественный</td>\n",
              "      <td>Хэд Гир Филмз, Крео Филмз, Локал Хироу, Метрол...</td>\n",
              "      <td>США</td>\n",
              "      <td>Адам Рэндолл</td>\n",
              "      <td>Мэтт Уолдек</td>\n",
              "      <td>«18+» - запрещено для детей</td>\n",
              "      <td>NaN</td>\n",
              "      <td>NaN</td>\n",
              "      <td>NaN</td>\n",
              "      <td>unknown</td>\n",
              "      <td>6.80</td>\n",
              "      <td>триллер,криминал,детектив</td>\n",
              "      <td>NaN</td>\n",
              "    </tr>\n",
              "    <tr>\n",
              "      <th>7474</th>\n",
              "      <td>Вторжение</td>\n",
              "      <td>111022519</td>\n",
              "      <td>2019-12-23 12:00:00+00:00</td>\n",
              "      <td>Художественный</td>\n",
              "      <td>ООО \"Арт Пикчерс Студия\", ООО \"Водород 2011\"</td>\n",
              "      <td>Россия</td>\n",
              "      <td>Ф.Бондарчук</td>\n",
              "      <td>Ф.Бондарчук, М.Врубель, А.Андрющенко, Д.Рудовский</td>\n",
              "      <td>«12+» - для детей старше 12 лет</td>\n",
              "      <td>100,000,000.00</td>\n",
              "      <td>400,000,000.00</td>\n",
              "      <td>944,000,000.00</td>\n",
              "      <td>Фонд кино</td>\n",
              "      <td>5.70</td>\n",
              "      <td>фантастика,боевик</td>\n",
              "      <td>NaN</td>\n",
              "    </tr>\n",
              "  </tbody>\n",
              "</table>\n",
              "<p>1272 rows × 16 columns</p>\n",
              "</div>"
            ],
            "text/plain": [
              "                                                  title  pu_number  \\\n",
              "2                                          Особо опасен  221038416   \n",
              "3                                          Особо опасен  221026916   \n",
              "4                                          Особо опасен  221030815   \n",
              "12    Малышка на миллион /По мотивам рассказов Ф.Х.Т...  221011415   \n",
              "26                                      Оружейный барон  221012515   \n",
              "...                                                 ...        ...   \n",
              "7369                                          Невиновен  111019319   \n",
              "7416                             Отель \"Гранд Будапешт\"  121035119   \n",
              "7438                                              Зверь  121035919   \n",
              "7450                                      В тихом омуте  121036919   \n",
              "7474                                          Вторжение  111022519   \n",
              "\n",
              "               show_start_date             type  \\\n",
              "2    2016-10-10 12:00:00+00:00   Художественный   \n",
              "3    2016-06-10 12:00:00+00:00   Художественный   \n",
              "4    2015-07-29 12:00:00+00:00   Художественный   \n",
              "12   2015-04-03 12:00:00+00:00   Художественный   \n",
              "26   2015-04-03 12:00:00+00:00   Художественный   \n",
              "...                        ...              ...   \n",
              "7369 2019-11-07 12:00:00+00:00   Художественный   \n",
              "7416 2019-12-13 12:00:00+00:00   Художественный   \n",
              "7438 2019-12-05 12:00:00+00:00   Художественный   \n",
              "7450 2019-12-09 12:00:00+00:00   Художественный   \n",
              "7474 2019-12-23 12:00:00+00:00   Художественный   \n",
              "\n",
              "                                            film_studio  \\\n",
              "2     Юниверсал Пикчерз, Кикстарт Продакшнз, Марк Пл...   \n",
              "3     Юниверсал Пикчерз, Кикстарт Продакшнз, Марк Пл...   \n",
              "4     Юниверсал Пикчерз, Кикстарт Продакшнз, Марк Пл...   \n",
              "12    Уорнер Бразерс, Лейкшор Интертейнмент, Малпасо...   \n",
              "26    Вэ И Пэ Медиенфондс 3, Асендант Пикчерз, Сатур...   \n",
              "...                                                 ...   \n",
              "7369                                  ООО \"Кавказфильм\"   \n",
              "7416  Американ Эмпирикал, Индиан Пэинтбраш, Скотт Ру...   \n",
              "7438                                     Студио энд Нью   \n",
              "7450  Хэд Гир Филмз, Крео Филмз, Локал Хироу, Метрол...   \n",
              "7474       ООО \"Арт Пикчерс Студия\", ООО \"Водород 2011\"   \n",
              "\n",
              "          production_country           director  \\\n",
              "2                        США  Тимур Бекмамбетов   \n",
              "3                        США  Тимур Бекмамбетов   \n",
              "4                        США  Тимур Бекмамбетов   \n",
              "12                       США       Клинт Иствуд   \n",
              "26    США - Франция - Турция       Эндрю Никкол   \n",
              "...                      ...                ...   \n",
              "7369                  Россия          А.Емкужев   \n",
              "7416           Германия, США       Уэс Андерсен   \n",
              "7438             Южная Корея         Ли Джон-хо   \n",
              "7450                     США       Адам Рэндолл   \n",
              "7474                  Россия        Ф.Бондарчук   \n",
              "\n",
              "                                               producer  \\\n",
              "2     Джим Лемли, Джейсон Нетер, Марк Е.Платт, Яйн Смит   \n",
              "3     Джим Лемли, Джейсон Нетер, Марк Е.Платт, Яйн Смит   \n",
              "4     Джим Лемли, Джейсон Нетер, Марк Е.Платт, Яйн Смит   \n",
              "12    Клинт Иствуд, Том Розенберг, Альберт С.Рудди, ...   \n",
              "26    Норман Голуайтли, Энди Грош, Николас Кейдж, Эн...   \n",
              "...                                                 ...   \n",
              "7369  А.Емкужев, А.Хуажева, ООО \"Корпорация Русская ...   \n",
              "7416         Уэс Андерсон, Джереми Доусон, Стивен Рейлс   \n",
              "7438               Чан Гён-ик, Чон Джи-хун, Пэк Кён сук   \n",
              "7450                                        Мэтт Уолдек   \n",
              "7474  Ф.Бондарчук, М.Врубель, А.Андрющенко, Д.Рудовский   \n",
              "\n",
              "                      age_restriction  refundable_support  \\\n",
              "2         «18+» - запрещено для детей                 NaN   \n",
              "3         «18+» - запрещено для детей                 NaN   \n",
              "4         «18+» - запрещено для детей                 NaN   \n",
              "12    «16+» - для детей старше 16 лет                 NaN   \n",
              "26        «18+» - запрещено для детей                 NaN   \n",
              "...                               ...                 ...   \n",
              "7369  «16+» - для детей старше 16 лет                 NaN   \n",
              "7416  «16+» - для детей старше 16 лет                 NaN   \n",
              "7438      «18+» - запрещено для детей                 NaN   \n",
              "7450      «18+» - запрещено для детей                 NaN   \n",
              "7474  «12+» - для детей старше 12 лет      100,000,000.00   \n",
              "\n",
              "      nonrefundable_support         budget financing_source ratings  \\\n",
              "2                       NaN            NaN          unknown    6.80   \n",
              "3                       NaN            NaN          unknown    6.80   \n",
              "4                       NaN            NaN          unknown    6.80   \n",
              "12                      NaN            NaN          unknown    8.10   \n",
              "26                      NaN            NaN          unknown    7.70   \n",
              "...                     ...            ...              ...     ...   \n",
              "7369                    NaN            NaN          unknown    7.50   \n",
              "7416                    NaN            NaN          unknown    7.90   \n",
              "7438                    NaN            NaN          unknown    6.50   \n",
              "7450                    NaN            NaN          unknown    6.80   \n",
              "7474         400,000,000.00 944,000,000.00        Фонд кино    5.70   \n",
              "\n",
              "                            genres  box_office  \n",
              "2        фантастика,боевик,триллер         NaN  \n",
              "3        фантастика,боевик,триллер         NaN  \n",
              "4        фантастика,боевик,триллер         NaN  \n",
              "12                     драма,спорт         NaN  \n",
              "26           боевик,драма,криминал         NaN  \n",
              "...                            ...         ...  \n",
              "7369     триллер,детектив,криминал         NaN  \n",
              "7416  комедия,приключения,детектив         NaN  \n",
              "7438                 триллер,драма  175,003.51  \n",
              "7450     триллер,криминал,детектив         NaN  \n",
              "7474             фантастика,боевик         NaN  \n",
              "\n",
              "[1272 rows x 16 columns]"
            ]
          },
          "execution_count": 15,
          "metadata": {},
          "output_type": "execute_result"
        }
      ],
      "source": [
        "# смотрим и пытаемся понять где же дубликаты в title:\n",
        "data[data.duplicated(subset=['title'], keep = False)]"
      ]
    },
    {
      "cell_type": "markdown",
      "metadata": {
        "id": "52fOPrEBgFyQ"
      },
      "source": [
        "#### 2.4 Изучаем категоральные значения"
      ]
    },
    {
      "cell_type": "code",
      "execution_count": null,
      "metadata": {
        "id": "PnXKIVdFgFyR",
        "outputId": "c95a3a81-69e7-4bb5-dc8e-4b9291d4fb23"
      },
      "outputs": [
        {
          "name": "stdout",
          "output_type": "stream",
          "text": [
            "pu_number 7484\n",
            "title 6772\n",
            "['Открытый простор' 'Особо важное задание' 'Особо опасен' ...\n",
            " 'Щенячий патруль: Скорей спешим на помощь!'\n",
            " 'Машины песенки. Серия \"Испанские мотивы\"'\n",
            " 'Машины песенки. Серия \"Когда цветут кактусы\"']\n",
            "type 8\n",
            "['Художественный' 'Анимационный' 'Прочие' 'Документальный'\n",
            " 'Научно-популярный' ' Художественный' ' Анимационный'\n",
            " 'Музыкально-развлекательный']\n",
            "film_studio 5490\n",
            "['Тачстоун Пикчерз, Кобальт Пикчерз, Бикон Пикчерз, Тиг Продакшнз'\n",
            " 'Киностудия \"Мосфильм\"'\n",
            " 'Юниверсал Пикчерз, Кикстарт Продакшнз, Марк Платт Продакшнз, Рилейтивити Медиа, Спайгласс Интертейнмент, Стилкин Филмз, Топ Кау Продакшнз'\n",
            " ...\n",
            " 'Дэниел Гродник Продакшнз, Вандерфилм Медиа Корпорэйшн, Импринт Интертейнмент, Вор Хорс Интертейнмент, Пимиента '\n",
            " 'Никелодеон Анимейшн Студиос, Спин Мастер'\n",
            " 'Анимаккорд Лтд., ООО Студия \"АНИМАККОРД\"']\n",
            "production_country 950\n",
            "['США' 'СССР' 'Франция' 'СССР, Венгрия' 'Германия-Великобритания'\n",
            " 'Великобритания - Италия' 'Чехословакия' 'США - Франция - Турция'\n",
            " 'Новая Зеландия' 'Канада - Франция - Испания' 'США-Германия'\n",
            " 'США - Великобритания' 'Великобритания' 'США - Германия'\n",
            " 'Франция - Мексика - США' 'Россия, Казахстан, США' 'СССР, Швеция'\n",
            " 'СССР, Франция, Англия, Куба, ГДР' 'Германия'\n",
            " 'Великобритания-США-Германия-КНР' 'СССР, ЧССР, Западный Берлин, ПНР'\n",
            " 'СССР, Италия' 'Гонконг, КНР' 'США - Франция'\n",
            " 'США - Япония - Франция - Великобритания'\n",
            " 'Гонконг - Сингапур - Таиланд - Великобритания' 'США-Канада'\n",
            " 'Франция - Италия - Великобритания - США' 'Франция - США'\n",
            " 'Ирландия-Великобритания-Германия' 'Чехия' 'США-Австралия'\n",
            " 'СССР, Финляндия' 'США-Франция-Великобритания-Австрия' 'США - Бельгия'\n",
            " 'США - Ирландия - Великобритания' 'Великобритания - США'\n",
            " 'Люксембург - Нидерланды - Испания - Великобритания - США - Италия'\n",
            " 'Великобритания - Франция - США' 'Новая Зеландия - США'\n",
            " 'США - Великобритания - Чехия' 'Канада - Франция - Великобритания'\n",
            " 'Ирландия' 'Великобритания - Германия - США'\n",
            " 'США - Франция - Великобритания' 'Япония' 'СССР, Польша'\n",
            " 'Франция - Испания' 'Канада-Франция' 'Германия - Италия - США'\n",
            " 'Аргентина - Бразилия' 'Дания - Швейцария - Бельгия - Франция'\n",
            " 'США - Испания' 'Германия - США'\n",
            " 'Франция - Австрия - Германия - Италия - США' 'Австрия'\n",
            " 'США - Канада - Германия' 'США - Канада' 'СССР - Швейцария - Франция'\n",
            " 'Россия - Казахстан' 'Гонконг' 'Италия' 'США - ОАЭ' 'Россия'\n",
            " 'США - Франция - Испания - Великобритания' 'Великобритания - Франция'\n",
            " 'США-Италия-Испания-Аргентина' 'Франция-Великобритания' 'КНР - Гонконг'\n",
            " 'Франция - Италия - Швейцария' 'США - Новая Зеландия' 'Франция - Бельгия'\n",
            " 'КНР' 'Германия - Великобритания - Австрия'\n",
            " 'Великобритания - Израиль - Франция - Япония - США' 'Швеция' 'Испания'\n",
            " 'Дания' 'Франция - Бельгия - Люксембург' 'США - Индия - ОАЭ'\n",
            " 'Германия-Канада-Великобритания-Швейцария-Франция' 'Мексика - Чили'\n",
            " 'Аргентина' 'Бразилия' 'Чили' 'Австралия' 'Португалия - Франция'\n",
            " 'США - ЮАР' 'Исландия-Ирландия-Германия' 'США-Индонезия' 'Южная Корея'\n",
            " 'Мексика - Испания - Дания - США' 'Великобритания-США' 'Франция - Италия'\n",
            " 'США-Франция' 'США - Венгрия - Великобритания' 'Бельгия-Франция-Италия'\n",
            " 'Чехия - Германия' 'Германия - Франция' 'США-Нидерланды' 'Украина'\n",
            " 'Великобритания - Германия' 'Франция-Бельгия' 'США-Франция-Испания'\n",
            " 'Италия - Франция' 'Канада' 'Швеция-Франция-Дания'\n",
            " 'Германия-Франция-Польша' 'Франция-Великобритания - Германия'\n",
            " 'США - Бразилия - Франция - Австралия - Великобритания - Германия'\n",
            " 'Германия-Австрия' 'Германия-Италия- Шри-Ланка'\n",
            " 'Великобритания - Испания' 'США - Великобритания - Канада - Швеция'\n",
            " 'Босния и Герцеговина - Франция - Великобритания - Германия - Словения - Бельгия - Сербия'\n",
            " 'Великобритания - Франция - Италия - США' 'США-ОАЭ' 'Испания - Франция'\n",
            " 'США-Великобритания' 'США-ЮАР' 'Великобритания-Австралия - США'\n",
            " 'Норвегия - Швеция - Дания - Германия' 'Норвегия' 'Швейцария'\n",
            " 'Греция - Германия - Франция' 'Норвения' 'Южная Корея - США'\n",
            " 'Чили - Франция - США' 'Австрия - Германия - Франция' 'Швеция - Дания'\n",
            " 'Великобритания - Франция - Бельгия - Италия' 'Франция - Германия'\n",
            " 'Грузия - Франция - Люксембург'\n",
            " 'США - Франция - Великобритания - Бразилия ' 'США - КНР'\n",
            " 'Мексика - Франция' 'США - Германия - Гонконг - Сингапур'\n",
            " 'Финляндия - Австрия - Россия' 'Испания - Куба' 'Великобритания - ЮАР'\n",
            " 'Великобритания - Ирландия' 'Израиль'\n",
            " 'Бразилия - Германия - Порртугалия - Франция '\n",
            " 'Франция - Канада - Бельгия' 'Франция-Испания'\n",
            " 'Испания - Канада - Япония' 'Иран' 'Швеция-Куба'\n",
            " 'США-Великобритания-Ирландия' 'Гонконг - КНР' 'Нидерланды'\n",
            " 'Испания - Канада' 'Япония-Великобритания'\n",
            " 'Великобритания - Норвегия - Дания - Германия'\n",
            " 'Финляндия - Франция - Германия'\n",
            " 'Мексика - Франция - Нидерланды - Германия' 'США - Индия'\n",
            " 'США-Великобритания-Индия' 'США-Канада-Бельгия' 'Республика Узбекистан'\n",
            " 'Италия ' 'Турция'\n",
            " 'Сербия - Словения - Хорватия - Черногория - Македония' 'Киргизия'\n",
            " 'Германия - Нидерланды - Беларусь - Россия - Латвия' 'Индия'\n",
            " 'Нидерланды - Россия - Германия'\n",
            " 'Великобритания - Нидерланды - Франция - Хорватия' 'Канада - Южная Корея'\n",
            " 'Великобритания - Польша - КНР - Индия - Норвегия'\n",
            " 'Япония - Франция - США - Южная Корея - Турция'\n",
            " 'Мексика - Аргентина - Великобритания' 'Израиль - Франция'\n",
            " 'Польша - Португалия - Франция - Великобритания' 'Австралия - США'\n",
            " 'США - Великобритания ' 'Франция - Люксембург - Бельгия' 'Армения'\n",
            " 'Бельгия - Люксембург - Франция - Швейцария'\n",
            " 'США - Великобритания - Канада' 'Норвегия - Швеция' 'Канада - Франция'\n",
            " 'КНР - Гонконг - США' 'США - Сингапур - Малайзия - Индонезия'\n",
            " 'Германия - Россия' 'Япония - Канада'\n",
            " 'Финляндия - Дания - Германия - Ирландия'\n",
            " 'Франция - Люксембург - Германия - Бельгия - Швейцария - Великобритания '\n",
            " 'Канада - США' 'США-Италия-Испания' 'США-Испания'\n",
            " 'США - Швейцария - Франция' 'Испания - США - Колумбия' 'Канада-ЮАР'\n",
            " 'Франция - Россия' 'Германия - Финляндия - Австралия' 'Дания - Швеция'\n",
            " 'Бельгия' 'Германия - Франция - Австрия' 'Франция-Индия' 'ЮАР'\n",
            " 'Франция-Перу' 'Франция - Канада' 'Республика Беларусь'\n",
            " 'Великобритания - Австрия - Франция - США' 'Австрия-Германия-Франция'\n",
            " 'США-Россия' 'Германия-США' 'США - Южная Корея' 'Канада - КНР'\n",
            " 'Дания - Швеция - Италия - Франция - Германия'\n",
            " 'Франция-Италия-Испания-Венгрия' 'Франция - Германия - Бельгия'\n",
            " 'Франция-Великобритания-Чехия' 'Румыния - Франция - Бельгия'\n",
            " 'Болгария - Франция - Изриль'\n",
            " 'Израиль - Германия - Польша - Бельгия - Франция - Люксембург'\n",
            " 'Россия, Германия, Франция, Бельгия' 'Индонезия' 'Франция - Португалия'\n",
            " 'Великобритания - Пуэрто-Рико' 'СССР, ФРГ, Западный Берлин'\n",
            " 'Россия, Республика Беларусь' 'США, Великобритания' 'Франция - Австрия'\n",
            " 'Бельгия-Нидерланды' 'Великобритания - США - Индия'\n",
            " 'США - Великобритания - Австралия'\n",
            " 'Канада - Франция - США - ОАЭ - Великобритания'\n",
            " 'США - Австралия - Франция'\n",
            " 'Дания-Франция-Бельгия-Германия-Великобритания' 'Испания - Аргентина'\n",
            " 'Исландия - Финляндия' 'Россия-Польша-Голландия-Словакия'\n",
            " 'Дания - Германия - Швеция' 'Южная Корея - США - Канада' 'Таиланд'\n",
            " 'США-Мальта' 'США -Германия'\n",
            " 'Великобритания - Германия - Франция - Кипр - США' 'Мексика'\n",
            " 'США - Великобритания - Ирландия' 'США - Украина'\n",
            " 'США - Финляндия - Испания - Великобритания - Франция'\n",
            " 'Австралия-Великобритания'\n",
            " 'США - Канада - Афганистан - Бельгия - Франция'\n",
            " 'США - Великобритания - Германия - Новая Зеландия - Бельгия - Франция'\n",
            " 'Франция-Канада'\n",
            " 'Ирландия - Финляндия - Бельгия - Великобритания - США - Швейцария'\n",
            " 'Малайзия - США' 'Германия - Италия' 'США - Франция - Бельгия - Италия'\n",
            " 'Франция - Ирландия - Швеция' 'Азербайджан-Россия'\n",
            " 'Великобритания - Италия - Швейцария' 'США - Германия - Великобритания'\n",
            " 'Германия - Бельгия - США -Франция' 'США-Китай' 'Чили - Испания'\n",
            " 'Франция - Швейцария' 'Канада - Испания' 'США - Румыния - Великобритания'\n",
            " 'США - Япония' 'США - Россия - Франция' 'Франция-США' 'Парагвай'\n",
            " 'Германия - Канада' 'США - Канада - Великобритания' 'Финляндия - Канада'\n",
            " 'Уругвай-Мексика-Германия ' 'США - Чили'\n",
            " 'Германия - Аргентина - Нидерланды - Чили' 'США - Канада - Индонезия'\n",
            " 'Армения - Казахстан' 'Финляндия' 'Испания - Италия - Франция'\n",
            " 'Бельгия - Испания - Канада - Нидерланды'\n",
            " 'Великобритания - Франция - Швеция - Бельгия'\n",
            " 'Мексика - Эквадор - Канада - США - Франция - Малайзия - Италия - Аргентина - Германия - Индия  '\n",
            " 'Франция - Бенльгия' 'Индия - Великобритания'\n",
            " 'Япония - Великобритания - Франция' 'Испания - Уругвай - Аргентина'\n",
            " 'Франция - Италия - Бельгия - Люксембург'\n",
            " 'Франция - Украина - Грузия - Армения' 'Сербия - Германия - Венгрия'\n",
            " 'Франция-Польша' 'Франция ' 'Румыния-США' 'Россия-Азербайджан'\n",
            " 'США - Нидерланды - Бельгия - Венгрия - Греция - Канада'\n",
            " 'Германия - Франция - Люксембург' 'США - Россия'\n",
            " 'Великобритания - США - Франция' 'США - Австралия - Дания'\n",
            " 'Бельгия-Франция' 'США-Мексика'\n",
            " 'Норвегия - Азербайджан - Россия - Колумбия - Великобритания - Венгрия - Румыния - Франция - Грузия'\n",
            " 'СЩА' 'Бразилия - Испания' 'Россия, Франция, Латвия'\n",
            " 'Нидерланды - США - Германия - Канада - Франция - Ирландия - Великобритания'\n",
            " 'Уругвай - Колумбия' 'США - Испания - Болгария' 'Армения - Германия'\n",
            " 'США - Великобритания- Франция - Швеция' 'США - Мексика'\n",
            " 'Австралия-Турция-США' 'Швеция - Германия' 'Польша - Италия - Россия'\n",
            " 'Франция - Бразилия' 'США - Канада - КНР' 'СССР, Венгрия, ЧССР, ГДР'\n",
            " 'Бельгия - Германия - Люксембург' 'СССР  ' 'СССР ' ' СССР '\n",
            " 'США - Австралия' 'Бразилия - США' 'США - Великобритания - Канада - КНР'\n",
            " 'Франция - Чили'\n",
            " 'Франция - США - Великобритания - Колумбия - Бельгия - Россия'\n",
            " 'Дания - Великобритания - ЮАР' 'СССР   ' 'Россия-США-Канада-Люксембург'\n",
            " 'Россия - Республика Кипр' 'Германия - США - Швеция - Франция'\n",
            " 'Великобритания-Германия-Канада-ЮАР' ' СССР   ' 'СССР     '\n",
            " 'Ирландия, Канада'\n",
            " 'Япония - Великобритания - Швейцария - Ирландия - Дания - Франция - Польша - Австралия - Канада  '\n",
            " 'Великобритания, Канада' 'Бельгия - США' 'Великобритания - США - Россия'\n",
            " 'Россия-Украина' 'Германия - США - Великобритания - Израиль'\n",
            " 'Канада - Германия' 'США- Ю.Корея' 'Индия - Мексика'\n",
            " 'Великобритания - Франция - Республика Кипр - Швейцария - США - Сербия'\n",
            " 'Испания - Аргентина - Индия - США'\n",
            " 'Норвегия - Исландия - США - Великобритания '\n",
            " 'Турция - Германя - Франция' 'Германия - Великобритания'\n",
            " 'Австралия - Германия' 'Мексика - Испания'\n",
            " 'Великобритания - США - Германия - Бельгия' 'США - Чехия - Франция'\n",
            " 'Россия - Италия' 'Франция-Россия' 'Норвегия - Дания - Швеция'\n",
            " 'Франция - Швейцария - Германия' 'Грузия - Украина'\n",
            " 'Россия - Эстония - Финляндия - Беларусь' 'США - Франция - ЮАР'\n",
            " 'Великобритания - США - Швейцария' 'Канада-США'\n",
            " 'Мексика - Нидерланды - Германия - Франция' 'США - Испания - Франция'\n",
            " 'США - Великобритания - КНР' 'США-Франция-Канада'\n",
            " 'Япония, Великобритания, Австрия, Германия, Ю.Корея'\n",
            " 'Великобритания - Ирландия - США' 'Бельгия - Италия - Франция '\n",
            " 'Швейцария-Германия-ЮАР' 'Великобритания - США - Германия'\n",
            " 'Германия - Исландия' 'Испания - США' 'СССР    ' 'Хорватия'\n",
            " 'Финляндия - Исландия - Швеция' 'Канада - США - Германия - Франция'\n",
            " 'США - Великобритания - Испания' 'Ирландия-Великобритания'\n",
            " 'Аргентина - Испания' 'Австрия - Германия' ' СССР'\n",
            " 'Германия - Швейцария - Франция - Южная Корея - США'\n",
            " 'Украина - Нидерланды' 'Венгрия - Германия - Швеция'\n",
            " 'Германия - Франция -  Польша - Турция - Канада - Италия - Россия '\n",
            " 'СССР, Афганистан' 'СССР, Монголия' 'Россия-Кипр'\n",
            " 'Россия, Грузия, Испания'\n",
            " 'Великобритания - Нидерланды - Германия - Франция - Бельгия - Австрия '\n",
            " 'Испания - Великобритания - Франция' 'Дания - Норвегия - Великобритания'\n",
            " 'Бельгия - Франция - Люксембург'\n",
            " 'Италия - Франция - Швейцария - Великобритания'\n",
            " 'Франция - Бельгия - Великобритания - Испания - Германия - США'\n",
            " 'Швейцария - Израиль - Франция - Великобритания'\n",
            " 'Великобритания - США - Канада - Нидерланды - Франция' 'Россия, Италия'\n",
            " 'СССР, Албания' 'Россия, Украина, Республика Беларусь, Литва'\n",
            " 'Финляндия - Великобритания - Германия' 'Россия, Украина, Польша'\n",
            " 'Франция - Италия - Бельгия - КНР'\n",
            " 'Германия - Бельгия - Люксембург - Ирландия' 'КНР - Сингапур'\n",
            " 'Франция - Бельгия - Великобритания - США - Нидерланды - Канада'\n",
            " 'США - Россия - Польша - Германия - Пуэрто Рико'\n",
            " 'Франция - Бельгия - Канада' 'США ' 'Мексика - США'\n",
            " 'США - Гонконг - КНР ' 'Греция - Россия'\n",
            " 'Ирландия - Дания - Бельгия - Люксембург - Франция' 'Эстония - Россия'\n",
            " 'Великобритания - Исландия - Испания - Швейцария - США'\n",
            " 'Австралия - Великобритания - Бельгия - Индия'\n",
            " 'Швеция - Германия - Франция - Норвегия'\n",
            " 'Нидерланды - Бельгия - Германия - Ирландия'\n",
            " 'Нидерланды - Великобритания - Бельгия' 'США - Колумбия - Испания'\n",
            " 'Франция-Испания-Бельгия-Панама' 'США-Великобритания-Чехия-Румыния'\n",
            " 'Аргентина - Уругвай - Россия - Германия - Франция - Нидерланды'\n",
            " 'Швеция - Франция - Норвегия - Дания' 'Италия-Франция-Великобритания'\n",
            " 'Великобритания, Франция' 'Австралия, США' 'Венесуэла'\n",
            " 'Великобритания - США - Австралия - Ирландия - Германия - Куба - Канада'\n",
            " 'Южная Корея - КНР' 'Аргентина - Мексика - Бразилия - Франция - США'\n",
            " 'Швеция - США' 'Франция - Германия - Турция - Катар' 'Франция-Китай'\n",
            " 'Россия, Германия, Великобритания' 'Великобритания - Италия - Испания'\n",
            " 'Италия - Россия' 'Япония - КНР - Южная Корея' 'Россия, Германия'\n",
            " 'Россия-Ирландия' 'Македония - Франция - Великобритания'\n",
            " 'Франция - Бразилия - Италия' 'Россия-США' 'Армения-Россия'\n",
            " 'Россия, Румыния' 'Франция -  Бельгия' 'Грузия-Франция' 'ЮАР - США'\n",
            " 'Великобритания-США-Франция'\n",
            " 'Великобритания - США - Германия - Канада - Австралия' 'США-Ирландия'\n",
            " 'Россия, Республика Кипр' 'Германия - Люксембург - Франция'\n",
            " 'Россия-Франция' 'США - Нидерланды - Финляндия - Великобритания - Италия'\n",
            " 'Республика Кипр' 'Венгрия' 'Франция - США - Норвегия - Дания'\n",
            " 'Германия - Австрия - Ирландия' 'США - Финляндия' 'Италия-Великобритания'\n",
            " 'Россия, Испания' 'США - Великобритания - Болгария'\n",
            " 'Великобритания - Люксембург' 'Индия - США'\n",
            " 'США - Канада - Россия - Франция - Чили - Ирландия' 'Грузия-Россия'\n",
            " 'Дания - Австрия - Ирландия - Финляндия - Норвегия - Швеция - Нидерланды'\n",
            " 'США-КНР' 'Грузия' 'Австралия - Ирландия' 'Великобритания - Канада'\n",
            " 'Италия - Аргентина - Словения '\n",
            " 'Испания - Франция - Нидерланды - Германия - Бельгия - Великобритания - Канада'\n",
            " 'Франция - Чехия - Бельгия' 'Великобритания - Франция - Германия - США'\n",
            " 'Ирландия - Великобритания - Франция - США - Германия - Нидерланды'\n",
            " 'США - Канада - Япония - КНР' 'Италия-Франция'\n",
            " 'США - Великобритания - Исландия' 'Великобритания-Франция'\n",
            " 'Франция - Германия - Нидерланды' 'Иран '\n",
            " 'Франция - Германия - Швеция - США - Чехия - Словакия - Великобритания - Нидерланды'\n",
            " 'Франция - Канада - Н.Зеландия - США - Нидерланды - Германия - Швеция - Россия'\n",
            " 'Турция - США'\n",
            " 'Великобритания - США - Канада - Бельгия - Нидерланды - Австрия - Германия'\n",
            " 'Израиль - Франция - Германия - Палестина - США - Австрия - Великобритания'\n",
            " 'Аргентина - Франция - Испания' 'СССР, Россия'\n",
            " 'Великобритания - Франция - Италия - Индия - Дания - КНР - Бангладеш - Камбоджа - Гаити - Уганда'\n",
            " 'Италия - Франция - Швейцария' 'Ирландия - Великобритания - Канада'\n",
            " 'Перу' 'США - Норвегия' 'Испания-Канада' 'Китай-Гонконг'\n",
            " 'США - Германия - КНР' 'Великобритания - Новая Зеландия'\n",
            " 'Франция - Дания - Швеция - КНР'\n",
            " 'США - Великобритания - Германия - Бельгия - Дания'\n",
            " 'США - Франция - Канада - Германия - Австралия - Индия' nan\n",
            " 'СССР, Румыния, Франция' 'СССР, ГДР' 'Австралия-Ирландия' 'США - Китай'\n",
            " 'Великобритания - Франция - Австрия - Швеция' 'Россия, Таджикистан'\n",
            " 'Нидерланды - Бельгия - Болгария' 'Великобритания - Канада - США'\n",
            " 'Франция - Бельгия - Испания' 'Китай-Гонконг-США'\n",
            " 'Франция - Великобритания' 'США - Вьетнам' 'США - Германия - Франция'\n",
            " 'Германия - Франция - Бельгия' 'США - Италия'\n",
            " 'Германия - Дания - Испания - Швеция - Канада - Эстония - Франция'\n",
            " 'Княжество Андорра - Украина' 'Германия - Люксембург - Бельгия'\n",
            " 'Великобритания - Россия - Украина - США'\n",
            " 'Германия - Бельгия - Люксембург - Норвегия'\n",
            " 'США - Австралия - Новая Зеландия - Великобритания'\n",
            " 'США - Франция - Канада - Великобритания' 'Испания-Колумбия'\n",
            " 'Великобритания - Чехия - Франция' 'Россия, Украина' 'Исландия'\n",
            " 'Великобритания - Франция - Венгрия' 'Россия, Франция, Германия, Бельгия'\n",
            " 'Франция - Македония'\n",
            " 'Нидерланды - Франция - Германия - Бельгия - Швеция - Великобритания'\n",
            " 'Испания - США - Великобритания - Канада' 'Германия - Австрия'\n",
            " 'Республика Казахстан' 'Франция - Испания - Дания - Венгрия - Швейцария'\n",
            " 'Франция-КНР' 'США - Пуэрто-Рико - Франция ' 'Мексика - Тайвань - США'\n",
            " 'Великобритания - Испания - Непал - Индия - Венгрия - Гонконг - Германия - Дания - Бахрейн'\n",
            " 'Великобритания - Аргентина - США - Франция - Россия - Испания'\n",
            " 'КНР - США' 'Италия - США' 'Финляндия - Швеция - Германия'\n",
            " 'Канада- Испания' 'Франция - Бельгия - Чехия' 'Франция-Бельгия-Канада'\n",
            " 'Франция - Германия - США' 'США - Дания' 'Индия - КНР'\n",
            " 'Чехия-Великобритания-США' 'США-ФРГ-Россия'\n",
            " 'Ирландия-Нидерланды-Франция-США-Великобритания'\n",
            " 'Россия, Грузия, Хорватия, Испания' 'Финляндия - Швеция - Норвегия'\n",
            " 'Сербия - Великобритания - США'\n",
            " 'США - Великобритания - Франция - Гонконг' 'Швейцария - Франция'\n",
            " 'Швейцария - Великобритания' 'ОАЭ - США'\n",
            " 'США - Франция - Германия - Канада - Австралия ' 'Германия - Австралия'\n",
            " 'Иран, Франция' 'США - Великобритания - Новая Зеландия' 'США-Колумбия'\n",
            " 'США-Франция-Ирландия' 'Великобритания - Франция - Бельгия'\n",
            " 'США - Великобритания - Япония' 'США - Франция - Германия'\n",
            " 'Польша - Ирландия' 'Ирландия - Великобритания - Франция - США'\n",
            " 'США - Бельгия - Великобритания' 'СССР, ВНР'\n",
            " 'Испания - Франция - США - Великобритания - Бельгия'\n",
            " 'Франция - Дания - США' 'США - Гонконг' 'Бразилия - К;анада'\n",
            " 'Франция-Германия' 'США - Колумбия'\n",
            " 'США - Ирландия - Великобритания - Франция'\n",
            " 'Великобритания - США - Канада' 'Польша - Франция'\n",
            " 'Канада - США - Нидерланды - Великобритания - Аргентина'\n",
            " 'Великобритания - Дания' 'Франция - Бельгия - Япония' 'Россия,  Испания'\n",
            " 'Франция -Бельгия' 'США - Канада - Германия - Франция'\n",
            " 'США-Канада-Франция' 'Россия - Германия' 'Россия-Италия'\n",
            " 'Китай - Гонконг' 'Германия-Австрия-Франция-Италия' 'США-Япония'\n",
            " 'США - Германия - Канада' 'Испания-Мексика'\n",
            " 'США - Япония - Канада - Великобритания - Германия - Франция'\n",
            " 'США -Великобритания - Австралия' 'Россия-Украина-Германия'\n",
            " 'Израиль - Франция - Великобритания - Германия' 'Корея'\n",
            " 'Россия - Болгария' 'США-Индия' 'Германия-Канада-Франция-Бельгия'\n",
            " 'Германия-Кения' 'Франция - Монако' 'Франция-Испания-Швейцария'\n",
            " 'Австрия-Франция-Германия' 'Румыния' 'США-Великобритания-Франция'\n",
            " 'Канада-Великобритания' 'Канада-Бразилия-Япония'\n",
            " 'Германия - Дания - Норвегия' 'Дания - Германия' 'СССР - Италия'\n",
            " 'СССР - ГДР - Польша - Италия' 'США - Испания - Франция - Великобритания'\n",
            " 'Китай' 'Мексика-Аргентина'\n",
            " 'Германия - Великобритания - Италия - Испания'\n",
            " 'Франция-Германия-Великобритания' 'Россия - Германия - Швейцария'\n",
            " 'Франция-Австралия' 'Голландия' 'Швейцария-Франция' 'Россия-Белоруссия'\n",
            " 'Франция - Испания - Тайвань' 'США-Южная Корея-Новая Зеландия'\n",
            " 'Великобритания-Венгрия' 'Россия-Германия'\n",
            " 'Великобритания-Франция-Германия' 'Франция-Германия-Италия'\n",
            " 'Швеция-Финляндия-Франция-Норвегия' 'Франция-Италия' 'Германия-Израиль'\n",
            " 'Швеция - Германия - Дания - Норвегия' 'США-Бельгия'\n",
            " 'Франция-Гонконг-Ирландия' 'Эстония' 'Литва-Россия-Украина'\n",
            " 'Германия - Италия - Франция' 'Великобритания - Австрия - Германия'\n",
            " 'Бельгия - Франция' 'Россия-Казахстан' 'Испания - Мальта'\n",
            " 'Франция-Россия-Румыния-Италия-Бельгия' 'Россия - Польша'\n",
            " 'Испания - Мексика' 'США-Аргентина' 'Великобритания '\n",
            " 'Израиль-США-Франция' 'США - Новая Зеландия - Япония'\n",
            " 'Франция - Чехия - Великобритания' 'Россия-Польша'\n",
            " 'Германия-Франция-Великобритания' 'США-Германия-Канада'\n",
            " 'США-Гонконг-Китай' 'США - Великобритания - Германия'\n",
            " 'США-Канада-Австралия' 'Япония-США-Франция' 'Франция-Испания-Германия'\n",
            " 'США - Хорватия - Босния-Герцеговина'\n",
            " 'Великобритания - Чехия - Франция - Италия' 'США - Германия - Нидерланды'\n",
            " 'Германия - Франция - Канада'\n",
            " 'Франция-Грузия-Германия-Россия-Украина-Бельгия'\n",
            " 'Великобритания - Франция - Италия' 'Россия - США'\n",
            " 'Франция - Италия - Иран' 'Россия - Азербайджан' 'Греция' 'Дания - США'\n",
            " 'США-Великобритания-Новая Зеландия' 'США-Германия-Австралия'\n",
            " 'США-Канада-Италия' 'США - Япония - Германия' 'Австралия-США'\n",
            " 'Франция - Великобритания - Багамские острова - США'\n",
            " 'Швейцария - Люксембург' 'Швейцария - Австрия' 'Германия - Швейцария'\n",
            " 'Дания-Швеция-Франция-Германия' 'Польша' 'Швейцария-Австрия'\n",
            " 'Бразилия - Канада - США' 'Нидерланды - Россия' 'Португалия'\n",
            " 'Франция-Аргентина' 'Швеция-Франция' 'Франция-Украина'\n",
            " 'Германия-Украина-Нидерланды' 'Италия-Швейцария'\n",
            " 'США-Германия-Великобритания' 'Латвия - Россия'\n",
            " 'Германия-Франция-Великобритания-США' 'Канада - Италия'\n",
            " 'США - Объединенные Арабские Эмираты' 'США-Венгрия' 'Малайзия'\n",
            " 'Россия - Германия - Украина' 'США - Австралия - Мексика'\n",
            " 'Литва - Венгрия' 'Германия - Китай' 'Казахстан' 'Республика Корея'\n",
            " 'США - Германия - Франция - Великобритания - Канада '\n",
            " 'Бельгия - Германия - Люксембург - Франция' 'Франция - Греция'\n",
            " 'Италия - Канада' 'США - Великобритания - Франция' 'США-Италия-Греция'\n",
            " 'Германия - США - Великобритания - Ирландия'\n",
            " 'Великобритания - Франция - Германия' 'Германия - Нидерланды - ЮАР'\n",
            " 'США-Япония-Германия-Великобритания-Нидерланды'\n",
            " 'США-Япония-Германия-Великобритания' 'Германия - Франция - Польша'\n",
            " 'Таиланд-Великобритания-Франция-Германия-Испания-Нидерланды'\n",
            " 'Германия-Италия-Швейцария'\n",
            " 'Дания - Швеция - Великобритания - Франция - Германия - Нидерланды - Норвегия - Финляндия'\n",
            " 'Франция - Великобритания - Нидерланды - Люксембург'\n",
            " 'Нидерланды-Великобритания-Франция-Италия-Япония'\n",
            " 'Финляндия-Дания-Германия-Ирландия' 'Испания-Аргентина'\n",
            " 'Великобритания - Нидерланды - Франция - США' 'Канада - Мексика'\n",
            " 'США, Франция' 'Канада-Южная Корея-США'\n",
            " 'Великобритания - Франция - Бельгия - США' 'КНР - Канада - США'\n",
            " 'Италия - Франция - Германия' 'Швеция - Германия - Франция - Дания'\n",
            " 'Франция - США - Бельгия' 'Украина - Германия - Латвия - Эстония'\n",
            " 'Австрия - Люксембург' 'Великобритания - КНР' 'Монголия'\n",
            " 'Франция - Дания' 'Швеция - Дания - Финляндия'\n",
            " 'Сингапур - Великобритания - Индонезия - Канада - США'\n",
            " 'США - Германия - Япония' 'Таиланд - США' 'Франция - Нидерланды'\n",
            " 'Великобритания - Румыния' 'США - Мальта'\n",
            " 'Великобритания - Германия - Нидерланды - Дания'\n",
            " 'Франция - Германия - Литва - Нидерланды - Россия' 'США - ЮАР - Гонконг'\n",
            " 'Австралия - Колумбия' 'Великобритания - Польша'\n",
            " 'США - Великобритания - Швеция' 'Франция - Швеция - Дания - Норвегия'\n",
            " 'Болгария - США' 'СССР, ФРГ' 'Бельгия - Нидерланды - Франция'\n",
            " 'Финляндия - Германия' 'Болгария'\n",
            " 'Грузия - Россия - Украина - Хорватия - Германия' 'Франция - Люксембург'\n",
            " 'Франция - Германия - Австрия' 'Норвегия - США' 'Германия-Швеция'\n",
            " 'Франция - Германия - Италия' 'Франция-Германия-Австрия' 'КНР-США'\n",
            " 'Великобритания - Ирландия - США ' 'Дания - Латвия - Россия - США'\n",
            " 'Финляндия - Польша' 'Германия - Бельгия'\n",
            " 'Германия - США - Франция - Испания'\n",
            " 'Бельгия-Германия-Канада-Франция-США-Великобритания'\n",
            " 'Нидерланды - Бельгия - Люксембург' 'Канада-Германия'\n",
            " 'Люксембург - Бельгия - Франция' 'США-Великобритания-Австралия'\n",
            " 'Великобритания, Новая Зеландия' 'Бельгия, Великобритания, США'\n",
            " 'Великобритания, Австралия' 'Исландия, Бельгия'\n",
            " 'Испания - Швейцария - Великобритания - Германия - Новая Зеландия - Нидерланды - Канада'\n",
            " 'Франция, Бельгия' 'Великобритания, США' 'Киргизия-Россия'\n",
            " 'Германия, США' 'Великобритания, США, Испания'\n",
            " 'Италия - Швейцария - Германия' 'Россия, Армения' 'Франция, Германия'\n",
            " 'Китай, Канада, США' 'Германия, Австралия' 'КНР, США'\n",
            " 'США, Великобритания, Люксембург' 'Испания, Ирландия, Бельгия, Франция'\n",
            " 'Великобритания - Гонконг - Венгрия - США - Ирландия' 'США - Пуэрто Рико'\n",
            " 'Аргентина - Испания - Уругвай'\n",
            " 'Израиль - Германия - Франция - Швейцария'\n",
            " 'Великобритания - Мексика - США' 'Испания - Болгария - США'\n",
            " 'Россия-Словакия-Чехия'\n",
            " 'Швейцария - КНР - США - Россия - Республика Корея - Великобритания'\n",
            " 'Россия, Нидерланды, Финляндия'\n",
            " 'Испания - Бельгия - Франция - Португалия - Великобритания'\n",
            " 'Бразилия - Португалия - Франция' 'Швеция - Норвегия'\n",
            " 'Франция - Польша - Бельгия' 'CША' 'Китай, США'\n",
            " 'Италия, Франция, Германия' 'Германия - Австрия - Франция'\n",
            " 'Чехия - Словакия - Хорватия' 'Россия, Польша, Финляндия'\n",
            " 'Россия, Латвия, Чешская Республика'\n",
            " 'Франция - Великобритания - Камбоджа - США - КНР' 'Чехия - Испания - США'\n",
            " 'Германия - Люксембург - Дания' 'Великобритания - Испания - Германия'\n",
            " 'Дания - Исландия' 'Германия, Франция, Великобритания'\n",
            " 'Великобритания - Испания - Италия - Латвия - Франция - Эстония'\n",
            " 'Дания, Швеция, Великобритания, Франция, Германия, Норвегия, Финляндия, Нидерланды, Италия'\n",
            " 'Польша - Франция - Великобритания' 'Дания, Норвегия, Венгрия, Чехия'\n",
            " 'Дания - Франция - Германия - Швеция' 'Великобритания, Швеция, США'\n",
            " 'Канада, Франция, Италия, Швейцария, США' 'США, Индия'\n",
            " 'США - Великобритания - Германия - - Швеция - Канада' 'Италия, Франция'\n",
            " 'Республика Беларусь, Германия, США, Россия'\n",
            " 'Италия-Швейцария-Франция-Германия '\n",
            " 'Россия - Франция - Великобритания - Латвия' 'Россия-Беларусь'\n",
            " 'Франция - Испания - Румыния - США - Бельгия' 'Италия-США'\n",
            " 'Россия, Австрия' 'Ирландия - Великобритания - США'\n",
            " 'Швейцария, Великобритания, Франция, США, Ирландия'\n",
            " 'Мексика, Франция, Германия, Дания, Швеция' 'Нидерланды, Бельгия'\n",
            " 'Швеция, Норвегия, Финляндия, Франция' 'Испания, Франция, Италия'\n",
            " 'Испания-Франция-Греция-Индия-США-Россия-Великобритания'\n",
            " 'Великобритания - Япония - США' 'Дания, Канада, Норвегия, Австралия, США'\n",
            " 'Аргентина, Испания' 'Россия, Германия, Казахстан, Польша, Китай'\n",
            " 'Португалия, Франция, Польша, США' 'США - Канада - Аргентина' 'Ливан-США'\n",
            " 'Япония - США' 'США, Гонконг '\n",
            " 'Франция - Россия - Швейцария - Румыния - Венгрия' 'Аргентина-Испания'\n",
            " 'Россия, Сербия' 'США - Болгария - Мексика'\n",
            " 'США - Великобритания - Швейцария - Франция' 'Таиланд - КНР - США'\n",
            " 'Великобритания, Нидерланды, Польша, Швейцария, Франция' 'Ирландия - США'\n",
            " 'Германия - Франция - Великобритания - Польша - США'\n",
            " 'Великобритания-Франция-Италия' 'США - Австралия - Индия' 'Франция - КНР'\n",
            " 'Великобритания - Израиль' 'Великобритания - Норвегия - Кения - Хорватия'\n",
            " 'США - Бразилия - Великобритания - Канада' 'Германия, Бельгия'\n",
            " 'Австралия, Канада' 'США, Великобритания, Франция' 'Кения, Германия'\n",
            " 'Нидерланды, Бельгия, Люксембург' 'Колумбия' 'Латвия - Франция'\n",
            " 'Ирландия, Великобритания' 'Франция - Израиль - Германия'\n",
            " 'Швеция, Франция, Великобритания' 'Бельгия - Люксембург'\n",
            " 'Германия - Бельгия - Великобритания'\n",
            " 'Испания, Франция, Великобритания, Дания, Бельгия, Германия'\n",
            " 'Румыния, ЮАР, Иран, Франция, Канада, Великобритания' 'Германия, Франция'\n",
            " 'США, Япония' 'США, Великобритания, Ирландия, Люксембург'\n",
            " 'Республика Армения' 'США, Франция, Япония' 'Япония, США' 'Канада, США'\n",
            " 'Республика Кипр - Россия'\n",
            " 'Дания - Франция - Италия - Бельгия - Нидерланды' 'Россия - Грузия'\n",
            " 'Италия, Германия' 'Норвегия, Швеция, Дания' 'Республика Кипр, Россия'\n",
            " 'КНР, Индия, Гонконг, США' 'Израиль, Украина' 'США, Россия'\n",
            " 'США - КНР - Индия - Ю.Корея' 'США - Швеция' 'Франция, Канада'\n",
            " 'Россия-Китай' 'Канада, Великобритания' 'США, Германия'\n",
            " 'Канада, США, Каймановы острова'\n",
            " 'Бразилия, Уругвай, Дания, Норвегия, Чили, Швеция'\n",
            " 'Пуэрто-Рико, Великобритания, США' 'Уругвай - Аргентина - Испания'\n",
            " 'США - Великобритания - Италия - Израиль - Сербия - Индия'\n",
            " 'США - Канада - Франция - Индия' 'Великобритания - Россия - КНР'\n",
            " 'Франция, Новая Зеландия' 'Франция, Люксембург, Бельгия'\n",
            " 'Канада, США, Норвегия' 'Италия, Испания'\n",
            " 'Испания - Германия - Нидерланды' 'Бразилия - США - КНР '\n",
            " 'Великобритания, Германия, Дания, США' '2019'\n",
            " 'Италия - Фрация - Бразилия - Германия' 'Норвегия - Швеция - Россия'\n",
            " 'Великобритания, Япония, США' 'Сша, Канада' 'Бельгия, Канада'\n",
            " 'Великобритания - Австралия - США' 'США, Канада' 'КНР - США '\n",
            " 'Франция - Финляндия' 'Колумбия - США' 'Великобритания, Франция, Бельгия'\n",
            " 'Норвегия - Нидерланды' 'Великобритания, Канада, США'\n",
            " 'Япония, Великобритания' 'Италия - Бельгия - Франция'\n",
            " 'Россия, Бельгия, Финляндия' 'США, Украина' 'Франция, Норвегия'\n",
            " 'Великобритания, Южная Корея, Канада, США, Индия, Китай, Япония'\n",
            " 'Канада - Норвегия' 'Республика Кипр-Россия' 'Германия, Россия'\n",
            " 'Польша - Франция - Испания - Бразилия - Швеция'\n",
            " 'Австрия, Великобритания, Германия' 'Франция - Сенегал - Бельгия'\n",
            " 'Франция, Бельгия, Люксембург' 'Финляндия, Латвия' 'Пакистан'\n",
            " 'Германия, Франция, США' 'Германия - Великобритания - США'\n",
            " 'КНР - Франция' 'Дания, Норвегия, Швеция, Исландия'\n",
            " 'Республика Кипр, США, Россия' 'Новая Зеландия - КНР'\n",
            " 'Дания - Канада - Швеция - Франция - Германия - Великобритания - США']\n",
            "director 4811\n",
            "['Кевин Костнер' 'Е.Матвеев' 'Тимур Бекмамбетов' ... 'Ник Пауэлл'\n",
            " 'А.Беляев' 'И.Трусов']\n",
            "producer 5349\n",
            "['Дэвид Валдес, Кевин Костнер, Джейк Эбертс' nan\n",
            " 'Джим Лемли, Джейсон Нетер, Марк Е.Платт, Яйн Смит' ...\n",
            " 'Поппи Бегум, Ник Пойнц'\n",
            " 'Джефф Боулер, Дэниэл Гродник, Луильо Руис, Брэт Саксон, Кирк Шоу'\n",
            " 'Дженнифер Додж']\n",
            "age_restriction 5\n",
            "['«18+» - запрещено для детей' '«6+» - для детей старше 6 лет'\n",
            " '«12+» - для детей старше 12 лет' '«16+» - для детей старше 16 лет'\n",
            " '«0+» - для любой зрительской аудитории']\n",
            "financing_source 4\n",
            "['unknown' 'Министерство культуры' 'Фонд кино'\n",
            " 'Министерство культуры, Фонд кино']\n",
            "genres 743\n",
            "['боевик,драма,мелодрама' 'драма,военный' 'фантастика,боевик,триллер'\n",
            " 'драма' 'мелодрама,комедия' 'мюзикл,мелодрама,комедия' 'комедия,криминал'\n",
            " 'боевик,триллер,детектив' 'боевик,драма,приключения' 'драма,спорт'\n",
            " 'триллер,драма,мелодрама' 'комедия,мелодрама' 'драма,мелодрама,комедия'\n",
            " 'драма,мелодрама' 'драма,история' 'драма,мелодрама,семейный'\n",
            " 'комедия,мелодрама,криминал' 'комедия' 'боевик,драма,криминал'\n",
            " 'драма,комедия' 'ужасы,фантастика,комедия'\n",
            " 'мультфильм,короткометражка,мелодрама' 'драма,криминал'\n",
            " 'мультфильм,фантастика,фэнтези' 'триллер,драма,криминал'\n",
            " 'драма,мелодрама,биография' 'драма,комедия,военный'\n",
            " 'фантастика,драма,детектив' 'мюзикл,семейный' 'unknown'\n",
            " 'военный,приключения,драма' 'документальный,драма'\n",
            " 'драма,биография,история' 'боевик,триллер,драма' 'фэнтези,боевик'\n",
            " 'боевик,комедия,криминал' 'мюзикл,комедия,детский'\n",
            " 'комедия,мелодрама,драма' 'мультфильм,фэнтези,комедия' 'комедия,история'\n",
            " 'мелодрама' 'драма,биография,музыка' 'фэнтези,драма,мелодрама'\n",
            " 'триллер,военный' 'драма,мелодрама,военный' 'мюзикл,драма,мелодрама'\n",
            " 'мюзикл,комедия' 'мультфильм,приключения,семейный' 'ужасы,триллер'\n",
            " 'боевик,драма,военный' 'драма,боевик' 'мультфильм,драма,комедия'\n",
            " 'триллер,криминал' 'военный,биография,драма' 'комедия,семейный' 'военный'\n",
            " 'драма,семейный,биография' 'фэнтези,приключения,семейный'\n",
            " 'драма,криминал,биография' 'ужасы,триллер,детектив'\n",
            " 'боевик,история,драма' 'ужасы,триллер,драма' 'драма,криминал,спорт'\n",
            " 'документальный,короткометражка' 'триллер,драма'\n",
            " 'криминал,детектив,приключения' 'драма,комедия,криминал'\n",
            " 'драма,комедия,вестерн' 'драма,мелодрама,детектив' 'мелодрама,биография'\n",
            " 'фэнтези,мелодрама,драма' 'драма,мелодрама,история'\n",
            " 'комедия,приключения,история' 'приключения' 'драма,семейный'\n",
            " 'криминал,детектив' 'мультфильм,короткометражка,ужасы'\n",
            " 'фантастика,триллер,драма' 'фэнтези,мелодрама,комедия' 'драма,биография'\n",
            " 'комедия,криминал,история' 'триллер,драма,детектив'\n",
            " 'фантастика,комедия,приключения' 'фэнтези,семейный'\n",
            " 'ужасы,фантастика,боевик' 'мелодрама,криминал'\n",
            " 'комедия,приключения,мелодрама' 'боевик,триллер,приключения'\n",
            " 'боевик,приключения' 'боевик,триллер,криминал'\n",
            " 'документальный,военный,история' 'драма,музыка' 'боевик,драма'\n",
            " 'приключения,боевик' 'драма,военный,биография'\n",
            " 'триллер,драма,приключения' 'аниме,мультфильм,фэнтези'\n",
            " 'триллер,детектив,драма' 'боевик,триллер,мелодрама' 'боевик,история'\n",
            " 'приключения,история' 'драма,комедия,приключения'\n",
            " 'фэнтези,комедия,приключения' 'драма,вестерн' 'документальный,музыка'\n",
            " 'мелодрама,драма' 'триллер,криминал,детектив' 'ужасы'\n",
            " 'боевик,комедия,приключения' 'мультфильм,фэнтези,боевик'\n",
            " 'боевик,фэнтези,драма' 'фэнтези,драма' 'фэнтези,боевик,комедия'\n",
            " 'приключения,детский,комедия' 'документальный' 'боевик,триллер,комедия'\n",
            " 'мелодрама,комедия,криминал' 'драма,детектив' 'мюзикл,ужасы,триллер'\n",
            " 'детектив,триллер,ужасы' 'ужасы,фэнтези' 'ужасы,фэнтези,триллер'\n",
            " 'мультфильм,драма' 'ужасы,боевик,фантастика' 'боевик' 'фантастика,боевик'\n",
            " 'мелодрама,комедия,приключения' 'триллер,детектив'\n",
            " 'мюзикл,мелодрама,фэнтези' 'криминал' 'триллер,комедия,криминал'\n",
            " 'боевик,приключения,триллер' 'триллер,драма,военный'\n",
            " 'комедия,семейный,музыка' 'комедия,фантастика,мелодрама'\n",
            " 'фантастика,триллер,криминал' 'комедия,драма' 'боевик,военный'\n",
            " 'ужасы,фантастика,триллер' 'фантастика,драма,мелодрама'\n",
            " 'фэнтези,драма,детектив' 'боевик,триллер' 'боевик,драма,история'\n",
            " 'мультфильм,мюзикл,фэнтези' 'для взрослых,драма,мелодрама'\n",
            " 'мультфильм,боевик,детектив' 'фантастика,мелодрама,боевик'\n",
            " 'ужасы,фантастика,детектив' 'фантастика,боевик,приключения'\n",
            " 'мелодрама,комедия,спорт' 'комедия,боевик,приключения'\n",
            " 'документальный,приключения' 'мультфильм,короткометражка,детский'\n",
            " 'комедия,приключения' 'ужасы,драма' 'ужасы,фэнтези,боевик'\n",
            " 'мультфильм,фэнтези,детский' 'мюзикл,боевик,драма'\n",
            " 'семейный,комедия,драма' 'концерт,музыка' 'фэнтези,боевик,драма'\n",
            " 'драма,комедия,музыка' 'фантастика,фэнтези,боевик'\n",
            " 'фэнтези,комедия,семейный' 'фэнтези,драма,комедия'\n",
            " 'мультфильм,мюзикл,драма' 'триллер' 'боевик,криминал,триллер'\n",
            " 'мультфильм,приключения,драма' 'мелодрама,музыка'\n",
            " 'документальный,музыка,концерт' 'мультфильм,семейный'\n",
            " 'мультфильм,комедия,приключения' 'мультфильм,комедия,семейный'\n",
            " 'фантастика,драма' 'фэнтези,боевик,приключения' 'мультфильм,приключения'\n",
            " 'драма,военный,история' 'история' 'драма,приключения,военный'\n",
            " 'документальный,короткометражка,семейный' 'мелодрама,история,триллер'\n",
            " 'ужасы,детектив' 'мюзикл,комедия,приключения' 'драма,спорт,биография'\n",
            " 'фантастика,боевик,комедия' 'фантастика,приключения,детектив'\n",
            " 'короткометражка,драма,военный' 'драма,мультфильм' 'приключения,семейный'\n",
            " 'детектив' 'триллер,приключения' 'аниме,мультфильм,боевик'\n",
            " 'драма,комедия,биография' 'драма,комедия,спорт'\n",
            " 'боевик,мелодрама,комедия' 'семейный,комедия' 'фэнтези,боевик,триллер'\n",
            " 'документальный,фэнтези,семейный' 'фантастика,фэнтези,драма'\n",
            " 'ужасы,комедия,фэнтези' 'документальный,биография,музыка'\n",
            " 'фантастика,боевик,фэнтези' 'ужасы,боевик,триллер'\n",
            " 'комедия,криминал,семейный' 'приключения,драма' 'криминал,драма,триллер'\n",
            " 'драма,детектив,криминал' 'фэнтези,приключения,комедия' 'комедия,спорт'\n",
            " 'мюзикл,фэнтези,мелодрама' 'мультфильм,фэнтези,приключения'\n",
            " 'фантастика,фэнтези,приключения' 'фэнтези' 'фэнтези,приключения,боевик'\n",
            " 'фантастика,боевик,драма' 'криминал,драма' 'криминал,триллер,драма'\n",
            " 'драма,мелодрама,приключения' 'детский,комедия' 'фантастика,драма,боевик'\n",
            " 'мультфильм,семейный,фэнтези' 'концерт,музыка,документальный'\n",
            " 'ужасы,комедия,приключения' 'драма,мелодрама,криминал'\n",
            " 'ужасы,фантастика,фэнтези' 'боевик,комедия'\n",
            " 'мультфильм,фантастика,комедия' 'триллер,ужасы'\n",
            " 'мультфильм,мюзикл,комедия' 'мелодрама,фэнтези,триллер'\n",
            " 'детский,приключения,комедия' 'комедия,детектив'\n",
            " 'аниме,мультфильм,мелодрама' 'документальный,драма,семейный'\n",
            " 'документальный,биография,история' 'военный,боевик,драма' 'ужасы,комедия'\n",
            " 'комедия,приключения,семейный' 'приключения,биография,история'\n",
            " 'детский,приключения,семейный' 'спорт,драма,биография'\n",
            " 'аниме,мультфильм,ужасы' 'фантастика,боевик,криминал' 'мюзикл,драма'\n",
            " 'драма,криминал,детектив' 'аниме,мультфильм,драма'\n",
            " 'драма,триллер,приключения' 'триллер,криминал,драма'\n",
            " 'фэнтези,комедия,драма' 'мультфильм,комедия' 'драма,комедия,история'\n",
            " 'комедия,биография,история' 'мультфильм,фантастика,приключения'\n",
            " 'аниме,мультфильм,фантастика' 'мультфильм,фэнтези,семейный'\n",
            " 'мультфильм,боевик,комедия' 'комедия,криминал,спорт'\n",
            " 'документальный,мюзикл' 'мелодрама,комедия,музыка' 'биография'\n",
            " 'триллер,криминал,комедия' 'фантастика,драма,комедия'\n",
            " 'комедия,драма,мелодрама' 'фантастика,приключения,боевик'\n",
            " 'мультфильм,фэнтези,драма' 'триллер,комедия'\n",
            " 'драма,приключения,биография' 'фантастика,комедия'\n",
            " 'мелодрама,драма,комедия' 'боевик,криминал' 'драма,криминал,боевик'\n",
            " 'мультфильм,мюзикл,детский' 'драма,фэнтези' 'документальный,семейный'\n",
            " 'фэнтези,драма,приключения' 'ужасы,комедия,фантастика'\n",
            " 'драма,мелодрама,музыка' 'фэнтези,драма,семейный'\n",
            " 'триллер,мелодрама,драма' 'вестерн,боевик,драма'\n",
            " 'мультфильм,короткометражка,комедия' 'триллер,драма,история'\n",
            " 'ужасы,фантастика' 'ужасы,мелодрама,комедия' 'фэнтези,приключения'\n",
            " 'фантастика,триллер' 'ужасы,боевик,фэнтези' 'мультфильм,комедия,детский'\n",
            " 'триллер,драма,биография' 'мультфильм,ужасы,фэнтези'\n",
            " 'мультфильм,ужасы,фантастика' 'ужасы,боевик,комедия'\n",
            " 'драма,биография,спорт' 'мультфильм' 'мелодрама,комедия,драма'\n",
            " 'приключения,фантастика,семейный' 'комедия,криминал,детектив'\n",
            " 'ужасы,триллер,комедия' 'криминал,комедия,триллер'\n",
            " 'семейный,приключения,комедия' 'мультфильм,драма,приключения'\n",
            " 'ужасы,драма,детектив' 'драма,приключения,фэнтези'\n",
            " 'фантастика,мультфильм,драма' 'драма,триллер,детектив'\n",
            " 'драма,история,музыка' 'детский' 'триллер,боевик,криминал'\n",
            " 'драма,фантастика' 'комедия,драма,семейный' 'боевик,драма,комедия'\n",
            " 'комедия,ужасы' 'драма,фантастика,триллер' 'фантастика,драма,триллер'\n",
            " 'история,спорт,драма' 'документальный,биография' 'биография,история'\n",
            " 'спорт,драма' 'боевик,фэнтези' 'мультфильм,фэнтези'\n",
            " 'документальный,комедия,история' 'криминал,комедия,боевик'\n",
            " 'фэнтези,приключения,драма' 'музыка,концерт' 'триллер,драма,боевик'\n",
            " 'комедия,криминал,боевик' 'комедия,фантастика,боевик'\n",
            " 'вестерн,приключения,боевик' 'аниме,мультфильм,комедия'\n",
            " 'детектив,криминал,триллер' 'мультфильм,комедия,криминал'\n",
            " 'комедия,приключения,детектив' 'мелодрама,фантастика,драма'\n",
            " 'драма,комедия,семейный' 'приключения,фантастика'\n",
            " 'триллер,детектив,ужасы' 'комедия,приключения,фэнтези'\n",
            " 'фэнтези,триллер,драма' 'мелодрама,приключения,боевик'\n",
            " 'детектив,триллер,криминал' 'фэнтези,семейный,мелодрама' 'военный,драма'\n",
            " 'документальный,приключения,семейный' 'криминал,комедия,драма'\n",
            " 'комедия,фантастика' 'история,биография,драма' 'мелодрама,драма,музыка'\n",
            " 'боевик,мелодрама' 'комедия,криминал,триллер' 'детектив,триллер,боевик'\n",
            " 'комедия,боевик,криминал' 'комедия,вестерн' 'детский,мелодрама,семейный'\n",
            " 'короткометражка,мультфильм' 'комедия,фэнтези' 'фантастика,драма,ужасы'\n",
            " 'триллер,драма,ужасы' 'драма,фэнтези,история'\n",
            " 'комедия,драма,короткометражка' 'фэнтези,триллер,приключения' 'семейный'\n",
            " 'комедия,криминал,драма' 'комедия,фэнтези,ужасы'\n",
            " 'короткометражка,комедия,криминал' 'фантастика' 'триллер,ужасы,драма'\n",
            " 'мелодрама,драма,фэнтези' 'фантастика,приключения,драма'\n",
            " 'боевик,детектив' 'военный,драма,боевик' 'комедия,мелодрама,фэнтези'\n",
            " 'вестерн,криминал,триллер' 'драма,история,триллер'\n",
            " 'мультфильм,фантастика,боевик' 'детектив,драма,криминал'\n",
            " 'приключения,история,драма' 'мультфильм,семейный,детский'\n",
            " 'биография,драма,история' 'триллер,криминал,боевик' 'история,мелодрама'\n",
            " 'приключения,детский' 'музыка,приключения,концерт'\n",
            " 'военный,драма,комедия' 'фэнтези,боевик,военный'\n",
            " 'фантастика,детектив,боевик' 'мультфильм,фэнтези,история'\n",
            " 'биография,мелодрама,драма' 'документальный,биография,спорт'\n",
            " 'фантастика,комедия,детектив' 'музыка,концерт,документальный'\n",
            " 'триллер,боевик,приключения' 'триллер,драма,комедия' 'детектив,криминал'\n",
            " 'мультфильм,приключения,фэнтези' 'мелодрама,приключения' 'комедия,музыка'\n",
            " 'мелодрама,комедия,ужасы' 'драма,криминал,приключения'\n",
            " 'приключения,детектив,мелодрама' 'драма,криминал,фантастика'\n",
            " 'фэнтези,драма,биография' 'детектив,фантастика,криминал'\n",
            " 'триллер,драма,фантастика' 'ужасы,комедия,боевик' 'мелодрама,история'\n",
            " 'триллер,боевик' 'фильм-нуар,триллер,детектив'\n",
            " 'комедия,криминал,приключения' 'ужасы,триллер,мелодрама'\n",
            " 'военный,драма,история' 'драма,спорт,история'\n",
            " 'документальный,драма,история' 'триллер,мелодрама,детектив'\n",
            " 'детский,семейный' 'мюзикл,семейный,драма' 'биография,военный,драма'\n",
            " 'мультфильм,детский' 'боевик,криминал,драма' 'детектив,фэнтези,триллер'\n",
            " 'драма,боевик,приключения' 'драма,мелодрама,фэнтези'\n",
            " 'детектив,история,драма' 'фэнтези,боевик,ужасы' 'ужасы,фэнтези,мелодрама'\n",
            " 'ужасы,приключения' 'боевик,фантастика' 'ужасы,мелодрама,детектив'\n",
            " 'фантастика,триллер,приключения' 'боевик,приключения,история'\n",
            " 'приключения,боевик,триллер' 'детектив,ужасы,криминал' 'семейный,фэнтези'\n",
            " 'мюзикл,мелодрама' 'драма,военный,приключения'\n",
            " 'фантастика,драма,приключения' 'приключения,семейный,драма'\n",
            " 'история,драма,боевик' 'мультфильм,приключения,комедия'\n",
            " 'криминал,драма,комедия' 'ужасы,комедия,драма'\n",
            " 'комедия,семейный,приключения' 'мюзикл,фэнтези,драма'\n",
            " 'драма,вестерн,боевик' 'фантастика,триллер,детектив'\n",
            " 'драма,история,детектив' 'короткометражка,биография'\n",
            " 'мультфильм,приключения,фантастика' 'комедия,триллер'\n",
            " 'мультфильм,приключения,детектив' 'драма,триллер'\n",
            " 'ужасы,триллер,криминал' 'документальный,криминал,военный'\n",
            " 'ужасы,фэнтези,драма' 'фэнтези,комедия' 'ужасы,фэнтези,комедия'\n",
            " 'комедия,музыка,драма' 'мультфильм,приключения,военный'\n",
            " 'мюзикл,фэнтези,комедия' 'боевик,фантастика,приключения'\n",
            " 'триллер,ужасы,криминал' 'ужасы,фантастика,драма'\n",
            " 'фантастика,приключения,семейный' 'короткометражка,музыка'\n",
            " 'мелодрама,детектив,комедия' 'документальный,триллер,биография'\n",
            " 'боевик,фантастика,триллер' 'спорт,драма,комедия'\n",
            " 'фэнтези,мелодрама,приключения' 'триллер,детектив,криминал'\n",
            " 'короткометражка,мелодрама' 'мультфильм,семейный,спорт'\n",
            " 'комедия,фэнтези,мелодрама' 'драма,спорт,комедия'\n",
            " 'история,драма,мелодрама' 'драма,боевик,криминал' 'драма,комедия,триллер'\n",
            " 'аниме,мультфильм' 'документальный,ужасы' 'мультфильм,короткометражка'\n",
            " 'драма,история,военный' 'мультфильм,короткометражка,фэнтези'\n",
            " 'комедия,военный,музыка' 'биография,история,драма'\n",
            " 'ужасы,драма,мелодрама' 'драма,комедия,детектив'\n",
            " 'комедия,семейный,фантастика' 'мультфильм,семейный,комедия'\n",
            " 'история,детектив' 'приключения,мелодрама,детектив'\n",
            " 'мюзикл,комедия,мелодрама' 'драма,фантастика,ужасы'\n",
            " 'мультфильм,ужасы,комедия' 'для взрослых,драма,комедия'\n",
            " 'ужасы,комедия,музыка' 'комедия,история,драма'\n",
            " 'семейный,детектив,детский' 'короткометражка,драма'\n",
            " 'документальный,новости,драма' 'триллер,мелодрама' 'ужасы,драма,вестерн'\n",
            " 'мюзикл,фэнтези,семейный' 'вестерн,драма,триллер'\n",
            " 'приключения,вестерн,боевик' 'семейный,комедия,музыка'\n",
            " 'боевик,драма,вестерн' 'ужасы,драма,триллер' 'фантастика,мелодрама'\n",
            " 'комедия,криминал,биография' 'семейный,мультфильм,комедия'\n",
            " 'комедия,драма,криминал' 'фантастика,боевик,военный'\n",
            " 'приключения,биография,драма' 'приключения,триллер,биография'\n",
            " 'криминал,боевик,триллер' 'боевик,вестерн,приключения' 'история,драма'\n",
            " 'фантастика,фэнтези,комедия' 'мультфильм,детский,комедия'\n",
            " 'мелодрама,комедия,триллер' 'документальный,боевик,приключения'\n",
            " 'драма,приключения' 'мелодрама,военный,драма' 'триллер,фэнтези'\n",
            " 'драма,триллер,биография' 'фэнтези,боевик,семейный'\n",
            " 'фантастика,триллер,комедия' 'документальный,фэнтези'\n",
            " 'комедия,мультфильм,фантастика' 'криминал,биография,комедия'\n",
            " 'биография,спорт,драма' 'приключения,военный' 'мультфильм,семейный,драма'\n",
            " 'документальный,фэнтези,драма' 'комедия,боевик,фантастика'\n",
            " 'семейный,приключения,военный' 'триллер,ужасы,детектив' 'короткометражка'\n",
            " 'мелодрама,триллер,история' 'документальный,история'\n",
            " 'мультфильм,приключения,детский' 'драма,комедия,мультфильм'\n",
            " 'военный,детектив' 'семейный,приключения,документальный'\n",
            " 'детский,фэнтези' 'документальный,комедия' 'комедия,биография'\n",
            " 'криминал,комедия' 'спорт,мелодрама,криминал' 'фантастика,комедия,боевик'\n",
            " 'боевик,приключения,детектив' 'детектив,триллер,драма'\n",
            " 'документальный,фантастика' 'мелодрама,комедия,семейный'\n",
            " 'мультфильм,мелодрама,комедия' 'драма,спорт,семейный'\n",
            " 'фантастика,мелодрама,фэнтези' 'мюзикл,комедия,музыка'\n",
            " 'фантастика,триллер,мелодрама' 'приключения,комедия,фэнтези'\n",
            " 'фэнтези,боевик,детектив' 'фэнтези,боевик,мелодрама' 'комедия,военный'\n",
            " 'драма,спорт,боевик' 'мультфильм,боевик,триллер' 'мелодрама,семейный'\n",
            " 'фантастика,боевик,детектив' 'драма,приключения,история'\n",
            " 'документальный,драма,музыка' 'фантастика,триллер,боевик'\n",
            " 'фэнтези,боевик,вестерн' 'драма,комедия,мелодрама'\n",
            " 'ужасы,фэнтези,приключения' 'триллер,фэнтези,драма'\n",
            " 'мультфильм,мюзикл,мелодрама' 'ужасы,триллер,фантастика'\n",
            " 'триллер,мелодрама,комедия' 'ужасы,комедия,семейный'\n",
            " 'комедия,приключения,музыка' 'документальный,комедия,криминал'\n",
            " 'мелодрама,детектив' 'детский,приключения,фантастика'\n",
            " 'короткометражка,боевик,драма' 'боевик,комедия,семейный'\n",
            " 'фантастика,боевик,мелодрама' 'фэнтези,триллер,мелодрама'\n",
            " 'драма,детектив,история' 'боевик,криминал,детектив'\n",
            " 'мультфильм,фэнтези,мелодрама' 'мелодрама,драма,боевик'\n",
            " 'драма,вестерн,приключения' 'драма,приключения,мелодрама'\n",
            " 'фэнтези,боевик,криминал' 'фантастика,комедия,семейный'\n",
            " 'детский,фэнтези,приключения' 'ужасы,боевик'\n",
            " 'фантастика,мелодрама,комедия' 'семейный,спорт,боевик'\n",
            " 'триллер,биография,драма' 'ужасы,драма,комедия'\n",
            " 'мультфильм,фэнтези,триллер' 'мюзикл' 'боевик,спорт,драма'\n",
            " 'комедия,приключения,вестерн' 'документальный,ужасы,боевик'\n",
            " 'фантастика,боевик,семейный' 'военный,история' 'ужасы,боевик,криминал'\n",
            " 'детектив,триллер' 'драма,семейный,комедия' 'драма,детектив,приключения'\n",
            " 'драма,криминал,история' 'приключения,триллер' 'боевик,драма,биография'\n",
            " 'драма,приключения,триллер' 'комедия,фэнтези,приключения'\n",
            " 'фантастика,боевик,ужасы' 'драма,комедия,фантастика'\n",
            " 'детектив,криминал,драма' 'боевик,триллер,фэнтези'\n",
            " 'приключения,детектив,семейный' 'ужасы,комедия,криминал'\n",
            " 'мультфильм,биография,драма' 'история,боевик,фэнтези'\n",
            " 'детектив,криминал,боевик' 'приключения,фэнтези'\n",
            " 'комедия,приключения,спорт' 'драма,биография,мюзикл'\n",
            " 'комедия,семейный,фэнтези' 'детектив,драма,триллер'\n",
            " 'боевик,приключения,семейный' 'биография,спорт,комедия'\n",
            " 'фантастика,приключения,военный' 'документальный,драма,биография'\n",
            " 'детектив,приключения,драма' 'аниме,мультфильм,приключения'\n",
            " 'семейный,приключения' 'ужасы,фэнтези,детектив' 'семейный,документальный'\n",
            " 'драма,приключения,семейный' 'приключения,история,военный'\n",
            " 'фэнтези,мелодрама' 'фэнтези,триллер,детектив'\n",
            " 'документальный,спорт,биография' 'комедия,триллер,драма' 'драма,ужасы'\n",
            " 'биография,музыка,драма' 'фэнтези,ужасы' 'детектив,мелодрама,фэнтези'\n",
            " 'боевик,военный,история' 'биография,драма,криминал'\n",
            " 'триллер,мелодрама,криминал' 'семейный,мелодрама' 'биография,драма'\n",
            " 'военный,история,драма' 'фантастика,детектив,фэнтези'\n",
            " 'детектив,приключения,триллер' 'фантастика,приключения'\n",
            " 'мультфильм,короткометражка,мюзикл' 'мультфильм,детский,семейный'\n",
            " 'документальный,драма,комедия' 'комедия,приключения,криминал'\n",
            " 'документальный,семейный,музыка' 'мелодрама,музыка,драма'\n",
            " 'детектив,фантастика,триллер' 'драма,мелодрама,триллер'\n",
            " 'биография,драма,военный' 'приключения,фантастика,драма'\n",
            " 'детектив,фильм-нуар,комедия' 'документальный,спорт'\n",
            " 'триллер,фантастика,драма' 'биография,документальный'\n",
            " 'ужасы,фантастика,мелодрама' 'детектив,комедия'\n",
            " 'история,биография,военный' 'криминал,мелодрама' 'драма,криминал,вестерн'\n",
            " 'мелодрама,семейный,приключения' 'триллер,ужасы,мелодрама'\n",
            " 'фэнтези,драма,фильм-нуар' 'детектив,мелодрама' 'комедия,драма,биография'\n",
            " 'драма,военный,боевик' 'драма,комедия,ужасы' 'фантастика,драма,криминал'\n",
            " 'документальный,музыка,биография' 'мультфильм,боевик,приключения'\n",
            " 'короткометражка,фантастика' 'мультфильм,мелодрама,драма'\n",
            " 'боевик,военный,драма' 'фэнтези,семейный,приключения'\n",
            " 'детский,мультфильм,приключения' 'семейный,фэнтези,комедия'\n",
            " 'фэнтези,ужасы,триллер' 'ужасы,триллер,приключения'\n",
            " 'драма,боевик,история' 'фэнтези,комедия,детектив' 'история,приключения'\n",
            " 'аниме,мультфильм,короткометражка' 'драма,военный,триллер'\n",
            " 'биография,криминал,триллер' 'фантастика,фэнтези,детектив'\n",
            " 'вестерн,биография,драма' 'биография,музыка,мюзикл'\n",
            " 'драма,история,биография' 'приключения,драма,фантастика'\n",
            " 'комедия,фэнтези,криминал' 'биография,спорт,история'\n",
            " 'драма,криминал,семейный' 'детектив,боевик,история'\n",
            " 'ужасы,комедия,детектив' 'триллер,приключения,драма'\n",
            " 'фэнтези,комедия,криминал' 'триллер,криминал,приключения'\n",
            " 'комедия,детектив,приключения' 'фэнтези,драма,ужасы'\n",
            " 'ужасы,драма,военный' 'реальное ТВ' 'аниме,мультфильм,детектив'\n",
            " 'приключения,фэнтези,семейный' 'драма,биография,комедия'\n",
            " 'триллер,комедия,ужасы' 'музыка,мелодрама,фэнтези' 'мультфильм,история'\n",
            " 'мультфильм,комедия,фантастика' 'биография,криминал,драма'\n",
            " 'комедия,мелодрама,фантастика' 'криминал,боевик,комедия'\n",
            " 'история,криминал' 'детектив,комедия,драма' 'триллер,фантастика,боевик'\n",
            " 'криминал,боевик' 'комедия,драма,военный' 'драма,триллер,криминал'\n",
            " 'мультфильм,мелодрама,приключения' 'фантастика,фэнтези,триллер'\n",
            " 'короткометражка,драма,триллер' 'военный,боевик,история'\n",
            " 'боевик,драма,триллер' 'документальный,военный,драма'\n",
            " 'драма,криминал,фильм-нуар' 'мультфильм,детский,приключения'\n",
            " 'мелодрама,история,драма']\n"
          ]
        }
      ],
      "source": [
        "# изучаем категоральные столбцы:\n",
        "print('pu_number', data['pu_number'].nunique()) # количество уникальных значений по столбцу\n",
        "print('title', data['title'].nunique()) # количество уникальных значений по столбцу\n",
        "print(data['title'].unique())\n",
        "print('type', data['type'].nunique()) # количество уникальных значений по столбцу\n",
        "print(data['type'].unique())\n",
        "print('film_studio', data['film_studio'].nunique()) # количество уникальных значений по столбцу\n",
        "print(data['film_studio'].unique())\n",
        "print('production_country', data['production_country'].nunique()) # количество уникальных значений по столбцу\n",
        "print(data['production_country'].unique())\n",
        "print('director', data['director'].nunique()) # количество уникальных значений по столбцу\n",
        "print(data['director'].unique())\n",
        "print('producer', data['producer'].nunique()) # количество уникальных значений по столбцу\n",
        "print(data['producer'].unique())\n",
        "print('age_restriction', data['age_restriction'].nunique()) # количество уникальных значений по столбцу\n",
        "print(data['age_restriction'].unique())\n",
        "print('financing_source', data['financing_source'].nunique()) # количество уникальных значений по столбцу\n",
        "print(data['financing_source'].unique())\n",
        "print('genres', data['genres'].nunique()) # количество уникальных значений по столбцу\n",
        "print(data['genres'].unique())"
      ]
    },
    {
      "cell_type": "markdown",
      "metadata": {
        "id": "wlpc5vcmhiZU"
      },
      "source": [
        "В некоторых позициях в начале и конце есть пробелы, которые нужно удалить."
      ]
    },
    {
      "cell_type": "code",
      "execution_count": null,
      "metadata": {
        "scrolled": true,
        "id": "M9_KmGaMhiZU"
      },
      "outputs": [],
      "source": [
        "# удаляем пробелы в начале и конце значений\n",
        "data['pu_number'] = data['pu_number'].str.strip()\n",
        "data['title'] = data['title'].str.strip()\n",
        "data['type'] = data['type'].str.strip()\n",
        "data['film_studio'] = data['film_studio'].str.strip()\n",
        "data['production_country'] = data['production_country'].str.strip()\n",
        "data['director'] = data['director'].str.strip()\n",
        "data['producer'] = data['producer'].str.strip()\n",
        "data['age_restriction'] = data['age_restriction'].str.strip()\n",
        "data['financing_source'] = data['financing_source'].str.strip()\n",
        "data['genres'] = data['genres'].str.strip()"
      ]
    },
    {
      "cell_type": "markdown",
      "metadata": {
        "id": "XFSN5lrEgFyR"
      },
      "source": [
        "#### 2.5. Проверяем количественные значения"
      ]
    },
    {
      "cell_type": "code",
      "execution_count": null,
      "metadata": {
        "id": "YbzClBxagFyS",
        "scrolled": false,
        "outputId": "ae5b0894-694d-4e8e-f2e2-90ffdd533c10"
      },
      "outputs": [
        {
          "data": {
            "text/plain": [
              "count             332.00\n",
              "mean      127,229,716.68\n",
              "std       188,588,333.12\n",
              "min                 0.00\n",
              "25%        42,000,000.00\n",
              "50%        68,649,916.00\n",
              "75%       141,985,319.50\n",
              "max     2,305,074,303.00\n",
              "Name: budget, dtype: float64"
            ]
          },
          "metadata": {},
          "output_type": "display_data"
        },
        {
          "data": {
            "text/plain": [
              "count           332.00\n",
              "mean     11,864,457.83\n",
              "std      24,916,555.26\n",
              "min               0.00\n",
              "25%               0.00\n",
              "50%               0.00\n",
              "75%      15,000,000.00\n",
              "max     180,000,000.00\n",
              "Name: refundable_support, dtype: float64"
            ]
          },
          "metadata": {},
          "output_type": "display_data"
        },
        {
          "data": {
            "text/plain": [
              "count           332.00\n",
              "mean     48,980,988.89\n",
              "std      59,980,117.92\n",
              "min               0.00\n",
              "25%      25,000,000.00\n",
              "50%      30,000,000.00\n",
              "75%      40,375,000.00\n",
              "max     400,000,000.00\n",
              "Name: nonrefundable_support, dtype: float64"
            ]
          },
          "metadata": {},
          "output_type": "display_data"
        }
      ],
      "source": [
        "display(data['budget'].describe())\n",
        "display(data['refundable_support'].describe())\n",
        "display(data['nonrefundable_support'].describe())"
      ]
    },
    {
      "cell_type": "markdown",
      "metadata": {
        "id": "4zM7qztuhiZW"
      },
      "source": [
        "В каждом столбце есть нулевые зачения. Посмотрим какие значения соотвутствуют колонке budget = 0."
      ]
    },
    {
      "cell_type": "code",
      "execution_count": null,
      "metadata": {
        "scrolled": true,
        "id": "3z_5CvrQhiZW",
        "outputId": "7857efe9-ba65-46bc-eeca-1af5a04bc7b6"
      },
      "outputs": [
        {
          "data": {
            "text/html": [
              "<div>\n",
              "<style scoped>\n",
              "    .dataframe tbody tr th:only-of-type {\n",
              "        vertical-align: middle;\n",
              "    }\n",
              "\n",
              "    .dataframe tbody tr th {\n",
              "        vertical-align: top;\n",
              "    }\n",
              "\n",
              "    .dataframe thead th {\n",
              "        text-align: right;\n",
              "    }\n",
              "</style>\n",
              "<table border=\"1\" class=\"dataframe\">\n",
              "  <thead>\n",
              "    <tr style=\"text-align: right;\">\n",
              "      <th></th>\n",
              "      <th>title</th>\n",
              "      <th>budget</th>\n",
              "      <th>refundable_support</th>\n",
              "      <th>nonrefundable_support</th>\n",
              "    </tr>\n",
              "  </thead>\n",
              "  <tbody>\n",
              "    <tr>\n",
              "      <th>2053</th>\n",
              "      <td>14+</td>\n",
              "      <td>0.00</td>\n",
              "      <td>0.00</td>\n",
              "      <td>23,000,000.00</td>\n",
              "    </tr>\n",
              "    <tr>\n",
              "      <th>2058</th>\n",
              "      <td>Дуxless 2</td>\n",
              "      <td>0.00</td>\n",
              "      <td>0.00</td>\n",
              "      <td>75,000,000.00</td>\n",
              "    </tr>\n",
              "    <tr>\n",
              "      <th>2472</th>\n",
              "      <td>Воин (2015)</td>\n",
              "      <td>0.00</td>\n",
              "      <td>10,000,000.00</td>\n",
              "      <td>70,000,000.00</td>\n",
              "    </tr>\n",
              "    <tr>\n",
              "      <th>2532</th>\n",
              "      <td>Бармен.</td>\n",
              "      <td>0.00</td>\n",
              "      <td>20,000,000.00</td>\n",
              "      <td>0.00</td>\n",
              "    </tr>\n",
              "    <tr>\n",
              "      <th>2615</th>\n",
              "      <td>Савва. Сердце воина</td>\n",
              "      <td>0.00</td>\n",
              "      <td>60,000,000.00</td>\n",
              "      <td>100,000,000.00</td>\n",
              "    </tr>\n",
              "    <tr>\n",
              "      <th>2684</th>\n",
              "      <td>Тряпичный союз</td>\n",
              "      <td>0.00</td>\n",
              "      <td>0.00</td>\n",
              "      <td>59,000,000.00</td>\n",
              "    </tr>\n",
              "    <tr>\n",
              "      <th>2788</th>\n",
              "      <td>Срочно выйду замуж</td>\n",
              "      <td>0.00</td>\n",
              "      <td>0.00</td>\n",
              "      <td>35,000,000.00</td>\n",
              "    </tr>\n",
              "    <tr>\n",
              "      <th>2874</th>\n",
              "      <td>Помню - не помню!</td>\n",
              "      <td>0.00</td>\n",
              "      <td>0.00</td>\n",
              "      <td>6,000,000.00</td>\n",
              "    </tr>\n",
              "    <tr>\n",
              "      <th>3047</th>\n",
              "      <td>Любовь с ограничениями</td>\n",
              "      <td>0.00</td>\n",
              "      <td>19,000,000.00</td>\n",
              "      <td>51,000,000.00</td>\n",
              "    </tr>\n",
              "    <tr>\n",
              "      <th>3565</th>\n",
              "      <td>Притяжение (2016)</td>\n",
              "      <td>0.00</td>\n",
              "      <td>0.00</td>\n",
              "      <td>250,000,000.00</td>\n",
              "    </tr>\n",
              "    <tr>\n",
              "      <th>3675</th>\n",
              "      <td>Чудо-юдо</td>\n",
              "      <td>0.00</td>\n",
              "      <td>20,000,000.00</td>\n",
              "      <td>20,000,000.00</td>\n",
              "    </tr>\n",
              "    <tr>\n",
              "      <th>3739</th>\n",
              "      <td>Мифы</td>\n",
              "      <td>0.00</td>\n",
              "      <td>25,000,000.00</td>\n",
              "      <td>20,000,000.00</td>\n",
              "    </tr>\n",
              "    <tr>\n",
              "      <th>5673</th>\n",
              "      <td>Селфи</td>\n",
              "      <td>0.00</td>\n",
              "      <td>20,000,000.00</td>\n",
              "      <td>40,000,000.00</td>\n",
              "    </tr>\n",
              "    <tr>\n",
              "      <th>5806</th>\n",
              "      <td>Два хвоста</td>\n",
              "      <td>0.00</td>\n",
              "      <td>10,000,000.00</td>\n",
              "      <td>60,000,000.00</td>\n",
              "    </tr>\n",
              "    <tr>\n",
              "      <th>6008</th>\n",
              "      <td>Принцесса и дракон</td>\n",
              "      <td>0.00</td>\n",
              "      <td>40,000,000.00</td>\n",
              "      <td>40,000,000.00</td>\n",
              "    </tr>\n",
              "    <tr>\n",
              "      <th>6323</th>\n",
              "      <td>Баба Яга</td>\n",
              "      <td>0.00</td>\n",
              "      <td>0.00</td>\n",
              "      <td>138,969,465.00</td>\n",
              "    </tr>\n",
              "    <tr>\n",
              "      <th>6823</th>\n",
              "      <td>Большое путешествие</td>\n",
              "      <td>0.00</td>\n",
              "      <td>60,000,000.00</td>\n",
              "      <td>120,000,000.00</td>\n",
              "    </tr>\n",
              "  </tbody>\n",
              "</table>\n",
              "</div>"
            ],
            "text/plain": [
              "                       title  budget  refundable_support  \\\n",
              "2053                     14+    0.00                0.00   \n",
              "2058               Дуxless 2    0.00                0.00   \n",
              "2472             Воин (2015)    0.00       10,000,000.00   \n",
              "2532                 Бармен.    0.00       20,000,000.00   \n",
              "2615     Савва. Сердце воина    0.00       60,000,000.00   \n",
              "2684          Тряпичный союз    0.00                0.00   \n",
              "2788      Срочно выйду замуж    0.00                0.00   \n",
              "2874       Помню - не помню!    0.00                0.00   \n",
              "3047  Любовь с ограничениями    0.00       19,000,000.00   \n",
              "3565       Притяжение (2016)    0.00                0.00   \n",
              "3675                Чудо-юдо    0.00       20,000,000.00   \n",
              "3739                    Мифы    0.00       25,000,000.00   \n",
              "5673                   Селфи    0.00       20,000,000.00   \n",
              "5806              Два хвоста    0.00       10,000,000.00   \n",
              "6008      Принцесса и дракон    0.00       40,000,000.00   \n",
              "6323                Баба Яга    0.00                0.00   \n",
              "6823     Большое путешествие    0.00       60,000,000.00   \n",
              "\n",
              "      nonrefundable_support  \n",
              "2053          23,000,000.00  \n",
              "2058          75,000,000.00  \n",
              "2472          70,000,000.00  \n",
              "2532                   0.00  \n",
              "2615         100,000,000.00  \n",
              "2684          59,000,000.00  \n",
              "2788          35,000,000.00  \n",
              "2874           6,000,000.00  \n",
              "3047          51,000,000.00  \n",
              "3565         250,000,000.00  \n",
              "3675          20,000,000.00  \n",
              "3739          20,000,000.00  \n",
              "5673          40,000,000.00  \n",
              "5806          60,000,000.00  \n",
              "6008          40,000,000.00  \n",
              "6323         138,969,465.00  \n",
              "6823         120,000,000.00  "
            ]
          },
          "execution_count": 19,
          "metadata": {},
          "output_type": "execute_result"
        }
      ],
      "source": [
        "# формируем таблицу по бюджету = 0\n",
        "pd.DataFrame(data[data['budget'] == 0][['title','budget','refundable_support','nonrefundable_support']])"
      ]
    },
    {
      "cell_type": "markdown",
      "metadata": {
        "id": "LM7PhuzLhiZW"
      },
      "source": [
        "Видим явную ошибку при заполнении.  \n",
        "Финансирование выделялось, но общего бюджета нет.  \n",
        "Таких позиций немного, они не будут значительно влиять на результат."
      ]
    },
    {
      "cell_type": "code",
      "execution_count": null,
      "metadata": {
        "id": "QEYIdXSNhiZX",
        "outputId": "ef857fa3-9eea-4d21-f133-89462accaa2d"
      },
      "outputs": [
        {
          "data": {
            "text/html": [
              "<div>\n",
              "<style scoped>\n",
              "    .dataframe tbody tr th:only-of-type {\n",
              "        vertical-align: middle;\n",
              "    }\n",
              "\n",
              "    .dataframe tbody tr th {\n",
              "        vertical-align: top;\n",
              "    }\n",
              "\n",
              "    .dataframe thead th {\n",
              "        text-align: right;\n",
              "    }\n",
              "</style>\n",
              "<table border=\"1\" class=\"dataframe\">\n",
              "  <thead>\n",
              "    <tr style=\"text-align: right;\">\n",
              "      <th></th>\n",
              "      <th>title</th>\n",
              "      <th>budget</th>\n",
              "      <th>refundable_support</th>\n",
              "      <th>nonrefundable_support</th>\n",
              "    </tr>\n",
              "  </thead>\n",
              "  <tbody>\n",
              "  </tbody>\n",
              "</table>\n",
              "</div>"
            ],
            "text/plain": [
              "Empty DataFrame\n",
              "Columns: [title, budget, refundable_support, nonrefundable_support]\n",
              "Index: []"
            ]
          },
          "execution_count": 20,
          "metadata": {},
          "output_type": "execute_result"
        }
      ],
      "source": [
        "# заполняем пропущенные значения бюджета по информации с сайта Кинопоиск:\n",
        "data.loc[((data['budget'] == 0) & (data['title'] == '14+')), 'budget'] = 30000000\n",
        "data.loc[((data['budget'] == 0) & (data['title'] == 'Дуxless 2')), 'budget'] = 168000000\n",
        "data.loc[((data['budget'] == 0) & (data['title'] == 'Воин (2015)')), 'budget'] = 115000000\n",
        "data.loc[((data['budget'] == 0) & (data['title'] == 'Бармен.')), 'budget'] = 60000000\n",
        "data.loc[((data['budget'] == 0) & (data['title'] == 'Савва. Сердце воина')), 'budget'] = 1000000000\n",
        "data.loc[((data['budget'] == 0) & (data['title'] == 'Тряпичный союз')), 'budget'] = 250000000\n",
        "data.loc[((data['budget'] == 0) & (data['title'] == 'Срочно выйду замуж')), 'budget'] = 84000000\n",
        "data.loc[((data['budget'] == 0) & (data['title'] == 'Помню - не помню!')), 'budget'] = 78000000\n",
        "data.loc[((data['budget'] == 0) & (data['title'] == 'Любовь с ограничениями')), 'budget'] = 110000000\n",
        "data.loc[((data['budget'] == 0) & (data['title'] == 'Притяжение (2016)')), 'budget'] = 380000000\n",
        "data.loc[((data['budget'] == 0) & (data['title'] == 'Чудо-юдо')), 'budget'] = 144000000\n",
        "data.loc[((data['budget'] == 0) & (data['title'] == 'Мифы')), 'budget'] = 50000000\n",
        "data.loc[((data['budget'] == 0) & (data['title'] == 'Селфи')), 'budget'] = 115000000\n",
        "data.loc[((data['budget'] == 0) & (data['title'] == 'Два хвоста')), 'budget'] = 110000000\n",
        "data.loc[((data['budget'] == 0) & (data['title'] == 'Принцесса и дракон')), 'budget'] = 300000000\n",
        "data.loc[((data['budget'] == 0) & (data['title'] == 'Баба Яга')), 'budget'] = 220000000\n",
        "data.loc[((data['budget'] == 0) & (data['title'] == 'Большое путешествие')), 'budget'] = 80000000\n",
        "# проверям выполненные замены:\n",
        "pd.DataFrame(data[data['budget'] == 0][['title','budget','refundable_support','nonrefundable_support']]) "
      ]
    },
    {
      "cell_type": "code",
      "execution_count": null,
      "metadata": {
        "scrolled": true,
        "id": "ZoSe6nHMhiZX",
        "outputId": "dfd2d904-e78c-4df3-aecc-4d19293bb3bf"
      },
      "outputs": [
        {
          "data": {
            "text/html": [
              "<div>\n",
              "<style scoped>\n",
              "    .dataframe tbody tr th:only-of-type {\n",
              "        vertical-align: middle;\n",
              "    }\n",
              "\n",
              "    .dataframe tbody tr th {\n",
              "        vertical-align: top;\n",
              "    }\n",
              "\n",
              "    .dataframe thead th {\n",
              "        text-align: right;\n",
              "    }\n",
              "</style>\n",
              "<table border=\"1\" class=\"dataframe\">\n",
              "  <thead>\n",
              "    <tr style=\"text-align: right;\">\n",
              "      <th></th>\n",
              "      <th>title</th>\n",
              "      <th>budget</th>\n",
              "      <th>refundable_support</th>\n",
              "      <th>nonrefundable_support</th>\n",
              "    </tr>\n",
              "  </thead>\n",
              "  <tbody>\n",
              "    <tr>\n",
              "      <th>6823</th>\n",
              "      <td>Большое путешествие</td>\n",
              "      <td>80,000,000.00</td>\n",
              "      <td>60,000,000.00</td>\n",
              "      <td>120,000,000.00</td>\n",
              "    </tr>\n",
              "  </tbody>\n",
              "</table>\n",
              "</div>"
            ],
            "text/plain": [
              "                    title        budget  refundable_support  \\\n",
              "6823  Большое путешествие 80,000,000.00       60,000,000.00   \n",
              "\n",
              "      nonrefundable_support  \n",
              "6823         120,000,000.00  "
            ]
          },
          "execution_count": 21,
          "metadata": {},
          "output_type": "execute_result"
        }
      ],
      "source": [
        "# проверим фильмы, бюджет которых меньше размера гос. поддержки:\n",
        "pd.DataFrame(data[data['budget'] < (data['refundable_support'] + data['nonrefundable_support'])][['title','budget','refundable_support','nonrefundable_support']])"
      ]
    },
    {
      "cell_type": "markdown",
      "metadata": {
        "id": "l6mkGnUqhiZY"
      },
      "source": [
        "Есть только один фильм с бюджетом меньше, чем размер гос. поддержки. Вероятно это ошибка при занесении информации либо на Кинопоиск, либо в датафрейм.  \n",
        "Количество таких фильмов немного, можно заменить бюджет этого фильма на сумму гос. поддержки."
      ]
    },
    {
      "cell_type": "code",
      "execution_count": null,
      "metadata": {
        "id": "Ixipo451hiZY",
        "outputId": "25a5c75b-283f-4806-999e-59ccfc3e2827"
      },
      "outputs": [
        {
          "data": {
            "text/html": [
              "<div>\n",
              "<style scoped>\n",
              "    .dataframe tbody tr th:only-of-type {\n",
              "        vertical-align: middle;\n",
              "    }\n",
              "\n",
              "    .dataframe tbody tr th {\n",
              "        vertical-align: top;\n",
              "    }\n",
              "\n",
              "    .dataframe thead th {\n",
              "        text-align: right;\n",
              "    }\n",
              "</style>\n",
              "<table border=\"1\" class=\"dataframe\">\n",
              "  <thead>\n",
              "    <tr style=\"text-align: right;\">\n",
              "      <th></th>\n",
              "      <th>title</th>\n",
              "      <th>budget</th>\n",
              "      <th>refundable_support</th>\n",
              "      <th>nonrefundable_support</th>\n",
              "    </tr>\n",
              "  </thead>\n",
              "  <tbody>\n",
              "  </tbody>\n",
              "</table>\n",
              "</div>"
            ],
            "text/plain": [
              "Empty DataFrame\n",
              "Columns: [title, budget, refundable_support, nonrefundable_support]\n",
              "Index: []"
            ]
          },
          "execution_count": 22,
          "metadata": {},
          "output_type": "execute_result"
        }
      ],
      "source": [
        "# выполняем заполняем аномальное значение\n",
        "data.loc[((data['budget'] == 80000000) & (data['title'] == 'Большое путешествие')), 'budget'] = data['refundable_support'] + data['nonrefundable_support']\n",
        "# проверяем результа:\n",
        "pd.DataFrame(data[data['budget'] < (data['refundable_support'] + data['nonrefundable_support'])][['title','budget','refundable_support','nonrefundable_support']])"
      ]
    },
    {
      "cell_type": "code",
      "execution_count": null,
      "metadata": {
        "scrolled": true,
        "id": "1vwbmHRqhiZY",
        "outputId": "6e621965-2ae7-4039-8819-381fc14d1c06"
      },
      "outputs": [
        {
          "name": "stdout",
          "output_type": "stream",
          "text": [
            "count             332.00\n",
            "mean      137,452,608.25\n",
            "std       193,327,660.02\n",
            "min        14,462,464.00\n",
            "25%        46,186,570.25\n",
            "50%        75,470,538.00\n",
            "75%       154,431,690.25\n",
            "max     2,305,074,303.00\n",
            "Name: budget, dtype: float64\n"
          ]
        },
        {
          "data": {
            "text/plain": [
              "<AxesSubplot:>"
            ]
          },
          "execution_count": 23,
          "metadata": {},
          "output_type": "execute_result"
        },
        {
          "data": {
            "image/png": "[encoded data removed]",
            "text/plain": [
              "<Figure size 432x288 with 1 Axes>"
            ]
          },
          "metadata": {
            "needs_background": "light"
          },
          "output_type": "display_data"
        }
      ],
      "source": [
        "# смотрим на выбросы:\n",
        "print(data['budget'].describe())\n",
        "data.boxplot(column = 'budget')"
      ]
    },
    {
      "cell_type": "markdown",
      "metadata": {
        "id": "n_Xb39oyhiZZ"
      },
      "source": [
        "В данных есть один фильм с аномальным размером бюджета."
      ]
    },
    {
      "cell_type": "code",
      "execution_count": null,
      "metadata": {
        "scrolled": false,
        "id": "KxlAGsRshiZZ",
        "outputId": "284a01d3-6eb5-4b8b-8d99-bb9059b5bbc2"
      },
      "outputs": [
        {
          "data": {
            "text/html": [
              "<div>\n",
              "<style scoped>\n",
              "    .dataframe tbody tr th:only-of-type {\n",
              "        vertical-align: middle;\n",
              "    }\n",
              "\n",
              "    .dataframe tbody tr th {\n",
              "        vertical-align: top;\n",
              "    }\n",
              "\n",
              "    .dataframe thead th {\n",
              "        text-align: right;\n",
              "    }\n",
              "</style>\n",
              "<table border=\"1\" class=\"dataframe\">\n",
              "  <thead>\n",
              "    <tr style=\"text-align: right;\">\n",
              "      <th></th>\n",
              "      <th>title</th>\n",
              "      <th>pu_number</th>\n",
              "      <th>show_start_date</th>\n",
              "      <th>type</th>\n",
              "      <th>film_studio</th>\n",
              "      <th>production_country</th>\n",
              "      <th>director</th>\n",
              "      <th>producer</th>\n",
              "      <th>age_restriction</th>\n",
              "      <th>refundable_support</th>\n",
              "      <th>nonrefundable_support</th>\n",
              "      <th>budget</th>\n",
              "      <th>financing_source</th>\n",
              "      <th>ratings</th>\n",
              "      <th>genres</th>\n",
              "      <th>box_office</th>\n",
              "    </tr>\n",
              "  </thead>\n",
              "  <tbody>\n",
              "    <tr>\n",
              "      <th>7114</th>\n",
              "      <td>Тайна Печати Дракона</td>\n",
              "      <td>111012819</td>\n",
              "      <td>2019-09-12 12:00:00+00:00</td>\n",
              "      <td>Художественный</td>\n",
              "      <td>ООО \"Кинокомпания \"СТВ\"; ООО \"РФГ Корп\"; ООО \"...</td>\n",
              "      <td>Россия-Китай</td>\n",
              "      <td>О.Степченко</td>\n",
              "      <td>С.Сельянов, А.Петрухин</td>\n",
              "      <td>«6+» - для детей старше 6 лет</td>\n",
              "      <td>180,000,000.00</td>\n",
              "      <td>90,000,000.00</td>\n",
              "      <td>2,305,074,303.00</td>\n",
              "      <td>Фонд кино</td>\n",
              "      <td>5.80</td>\n",
              "      <td>приключения,фэнтези</td>\n",
              "      <td>333,597,059.59</td>\n",
              "    </tr>\n",
              "  </tbody>\n",
              "</table>\n",
              "</div>"
            ],
            "text/plain": [
              "                     title  pu_number           show_start_date  \\\n",
              "7114  Тайна Печати Дракона  111012819 2019-09-12 12:00:00+00:00   \n",
              "\n",
              "                type                                        film_studio  \\\n",
              "7114  Художественный  ООО \"Кинокомпания \"СТВ\"; ООО \"РФГ Корп\"; ООО \"...   \n",
              "\n",
              "     production_country     director                producer  \\\n",
              "7114       Россия-Китай  О.Степченко  С.Сельянов, А.Петрухин   \n",
              "\n",
              "                    age_restriction  refundable_support  \\\n",
              "7114  «6+» - для детей старше 6 лет      180,000,000.00   \n",
              "\n",
              "      nonrefundable_support           budget financing_source ratings  \\\n",
              "7114          90,000,000.00 2,305,074,303.00        Фонд кино    5.80   \n",
              "\n",
              "                   genres     box_office  \n",
              "7114  приключения,фэнтези 333,597,059.59  "
            ]
          },
          "metadata": {},
          "output_type": "display_data"
        }
      ],
      "source": [
        "# посмотрим что это за фильм:\n",
        "display(data.query('budget == 2305074303.0'))"
      ]
    },
    {
      "cell_type": "markdown",
      "metadata": {
        "id": "7X-yEUK5hiZZ"
      },
      "source": [
        "Проверка размера бюджета на сайте Кинопоиска подтверждает, что бюджет корректный."
      ]
    },
    {
      "cell_type": "code",
      "execution_count": null,
      "metadata": {
        "scrolled": true,
        "id": "fhd24e_JhiZa",
        "outputId": "78711b9d-c3c5-43ca-a201-557c6c788bb2"
      },
      "outputs": [
        {
          "data": {
            "text/plain": [
              "<AxesSubplot:xlabel='budget', ylabel='budget'>"
            ]
          },
          "execution_count": 25,
          "metadata": {},
          "output_type": "execute_result"
        },
        {
          "data": {
            "image/png": "[encoded data removed]",
            "text/plain": [
              "<Figure size 432x288 with 1 Axes>"
            ]
          },
          "metadata": {
            "needs_background": "light"
          },
          "output_type": "display_data"
        }
      ],
      "source": [
        "# построим диаграмму рассеяния, посмотрим как влияет этот выброс\n",
        "data.plot(x = 'budget', y = 'budget', kind = 'scatter', grid = True)"
      ]
    },
    {
      "cell_type": "markdown",
      "metadata": {
        "id": "5AkNO9KihiZa"
      },
      "source": [
        "График показывает, что этот выброс находится на одной линии с остальными данными и незначительно влияет на линию регрессии.  \n",
        "Эту позицию можно не удалять."
      ]
    },
    {
      "cell_type": "markdown",
      "metadata": {
        "id": "Eu6oWp2CgFyS"
      },
      "source": [
        "#### 2.6 Добавляем новые столбцы\n",
        "\n",
        "\n",
        "\n"
      ]
    },
    {
      "cell_type": "code",
      "execution_count": null,
      "metadata": {
        "id": "I-yd1DkWgFyT"
      },
      "outputs": [],
      "source": [
        "# создаем столбец с информацией о годе проката:\n",
        "data['year_release'] = data['show_start_date'].dt.year"
      ]
    },
    {
      "cell_type": "code",
      "execution_count": null,
      "metadata": {
        "id": "LSbRZKbMgFyU",
        "outputId": "7deddad0-bdf0-4e15-ee16-c33bcbaa4089"
      },
      "outputs": [
        {
          "data": {
            "text/html": [
              "<div>\n",
              "<style scoped>\n",
              "    .dataframe tbody tr th:only-of-type {\n",
              "        vertical-align: middle;\n",
              "    }\n",
              "\n",
              "    .dataframe tbody tr th {\n",
              "        vertical-align: top;\n",
              "    }\n",
              "\n",
              "    .dataframe thead th {\n",
              "        text-align: right;\n",
              "    }\n",
              "</style>\n",
              "<table border=\"1\" class=\"dataframe\">\n",
              "  <thead>\n",
              "    <tr style=\"text-align: right;\">\n",
              "      <th></th>\n",
              "      <th>title</th>\n",
              "      <th>pu_number</th>\n",
              "      <th>show_start_date</th>\n",
              "      <th>type</th>\n",
              "      <th>film_studio</th>\n",
              "      <th>production_country</th>\n",
              "      <th>director</th>\n",
              "      <th>producer</th>\n",
              "      <th>age_restriction</th>\n",
              "      <th>refundable_support</th>\n",
              "      <th>nonrefundable_support</th>\n",
              "      <th>budget</th>\n",
              "      <th>financing_source</th>\n",
              "      <th>ratings</th>\n",
              "      <th>genres</th>\n",
              "      <th>box_office</th>\n",
              "      <th>year_release</th>\n",
              "      <th>main_director</th>\n",
              "      <th>main_genre</th>\n",
              "    </tr>\n",
              "  </thead>\n",
              "  <tbody>\n",
              "    <tr>\n",
              "      <th>0</th>\n",
              "      <td>Открытый простор</td>\n",
              "      <td>221048915</td>\n",
              "      <td>2015-11-27 12:00:00+00:00</td>\n",
              "      <td>Художественный</td>\n",
              "      <td>Тачстоун Пикчерз, Кобальт Пикчерз, Бикон Пикче...</td>\n",
              "      <td>США</td>\n",
              "      <td>Кевин Костнер</td>\n",
              "      <td>Дэвид Валдес, Кевин Костнер, Джейк Эбертс</td>\n",
              "      <td>«18+» - запрещено для детей</td>\n",
              "      <td>NaN</td>\n",
              "      <td>NaN</td>\n",
              "      <td>NaN</td>\n",
              "      <td>unknown</td>\n",
              "      <td>7.20</td>\n",
              "      <td>боевик,драма,мелодрама</td>\n",
              "      <td>NaN</td>\n",
              "      <td>2015</td>\n",
              "      <td>Кевин Костнер</td>\n",
              "      <td>боевик</td>\n",
              "    </tr>\n",
              "    <tr>\n",
              "      <th>1</th>\n",
              "      <td>Особо важное задание</td>\n",
              "      <td>111013716</td>\n",
              "      <td>2016-09-13 12:00:00+00:00</td>\n",
              "      <td>Художественный</td>\n",
              "      <td>Киностудия \"Мосфильм\"</td>\n",
              "      <td>СССР</td>\n",
              "      <td>Е.Матвеев</td>\n",
              "      <td>NaN</td>\n",
              "      <td>«6+» - для детей старше 6 лет</td>\n",
              "      <td>NaN</td>\n",
              "      <td>NaN</td>\n",
              "      <td>NaN</td>\n",
              "      <td>unknown</td>\n",
              "      <td>6.60</td>\n",
              "      <td>драма,военный</td>\n",
              "      <td>NaN</td>\n",
              "      <td>2016</td>\n",
              "      <td>Е.Матвеев</td>\n",
              "      <td>драма</td>\n",
              "    </tr>\n",
              "    <tr>\n",
              "      <th>2</th>\n",
              "      <td>Особо опасен</td>\n",
              "      <td>221038416</td>\n",
              "      <td>2016-10-10 12:00:00+00:00</td>\n",
              "      <td>Художественный</td>\n",
              "      <td>Юниверсал Пикчерз, Кикстарт Продакшнз, Марк Пл...</td>\n",
              "      <td>США</td>\n",
              "      <td>Тимур Бекмамбетов</td>\n",
              "      <td>Джим Лемли, Джейсон Нетер, Марк Е.Платт, Яйн Смит</td>\n",
              "      <td>«18+» - запрещено для детей</td>\n",
              "      <td>NaN</td>\n",
              "      <td>NaN</td>\n",
              "      <td>NaN</td>\n",
              "      <td>unknown</td>\n",
              "      <td>6.80</td>\n",
              "      <td>фантастика,боевик,триллер</td>\n",
              "      <td>NaN</td>\n",
              "      <td>2016</td>\n",
              "      <td>Тимур Бекмамбетов</td>\n",
              "      <td>фантастика</td>\n",
              "    </tr>\n",
              "    <tr>\n",
              "      <th>3</th>\n",
              "      <td>Особо опасен</td>\n",
              "      <td>221026916</td>\n",
              "      <td>2016-06-10 12:00:00+00:00</td>\n",
              "      <td>Художественный</td>\n",
              "      <td>Юниверсал Пикчерз, Кикстарт Продакшнз, Марк Пл...</td>\n",
              "      <td>США</td>\n",
              "      <td>Тимур Бекмамбетов</td>\n",
              "      <td>Джим Лемли, Джейсон Нетер, Марк Е.Платт, Яйн Смит</td>\n",
              "      <td>«18+» - запрещено для детей</td>\n",
              "      <td>NaN</td>\n",
              "      <td>NaN</td>\n",
              "      <td>NaN</td>\n",
              "      <td>unknown</td>\n",
              "      <td>6.80</td>\n",
              "      <td>фантастика,боевик,триллер</td>\n",
              "      <td>NaN</td>\n",
              "      <td>2016</td>\n",
              "      <td>Тимур Бекмамбетов</td>\n",
              "      <td>фантастика</td>\n",
              "    </tr>\n",
              "    <tr>\n",
              "      <th>4</th>\n",
              "      <td>Особо опасен</td>\n",
              "      <td>221030815</td>\n",
              "      <td>2015-07-29 12:00:00+00:00</td>\n",
              "      <td>Художественный</td>\n",
              "      <td>Юниверсал Пикчерз, Кикстарт Продакшнз, Марк Пл...</td>\n",
              "      <td>США</td>\n",
              "      <td>Тимур Бекмамбетов</td>\n",
              "      <td>Джим Лемли, Джейсон Нетер, Марк Е.Платт, Яйн Смит</td>\n",
              "      <td>«18+» - запрещено для детей</td>\n",
              "      <td>NaN</td>\n",
              "      <td>NaN</td>\n",
              "      <td>NaN</td>\n",
              "      <td>unknown</td>\n",
              "      <td>6.80</td>\n",
              "      <td>фантастика,боевик,триллер</td>\n",
              "      <td>NaN</td>\n",
              "      <td>2015</td>\n",
              "      <td>Тимур Бекмамбетов</td>\n",
              "      <td>фантастика</td>\n",
              "    </tr>\n",
              "  </tbody>\n",
              "</table>\n",
              "</div>"
            ],
            "text/plain": [
              "                  title  pu_number           show_start_date            type  \\\n",
              "0      Открытый простор  221048915 2015-11-27 12:00:00+00:00  Художественный   \n",
              "1  Особо важное задание  111013716 2016-09-13 12:00:00+00:00  Художественный   \n",
              "2          Особо опасен  221038416 2016-10-10 12:00:00+00:00  Художественный   \n",
              "3          Особо опасен  221026916 2016-06-10 12:00:00+00:00  Художественный   \n",
              "4          Особо опасен  221030815 2015-07-29 12:00:00+00:00  Художественный   \n",
              "\n",
              "                                         film_studio production_country  \\\n",
              "0  Тачстоун Пикчерз, Кобальт Пикчерз, Бикон Пикче...                США   \n",
              "1                              Киностудия \"Мосфильм\"               СССР   \n",
              "2  Юниверсал Пикчерз, Кикстарт Продакшнз, Марк Пл...                США   \n",
              "3  Юниверсал Пикчерз, Кикстарт Продакшнз, Марк Пл...                США   \n",
              "4  Юниверсал Пикчерз, Кикстарт Продакшнз, Марк Пл...                США   \n",
              "\n",
              "            director                                           producer  \\\n",
              "0      Кевин Костнер          Дэвид Валдес, Кевин Костнер, Джейк Эбертс   \n",
              "1          Е.Матвеев                                                NaN   \n",
              "2  Тимур Бекмамбетов  Джим Лемли, Джейсон Нетер, Марк Е.Платт, Яйн Смит   \n",
              "3  Тимур Бекмамбетов  Джим Лемли, Джейсон Нетер, Марк Е.Платт, Яйн Смит   \n",
              "4  Тимур Бекмамбетов  Джим Лемли, Джейсон Нетер, Марк Е.Платт, Яйн Смит   \n",
              "\n",
              "                 age_restriction  refundable_support  nonrefundable_support  \\\n",
              "0    «18+» - запрещено для детей                 NaN                    NaN   \n",
              "1  «6+» - для детей старше 6 лет                 NaN                    NaN   \n",
              "2    «18+» - запрещено для детей                 NaN                    NaN   \n",
              "3    «18+» - запрещено для детей                 NaN                    NaN   \n",
              "4    «18+» - запрещено для детей                 NaN                    NaN   \n",
              "\n",
              "   budget financing_source ratings                     genres  box_office  \\\n",
              "0     NaN          unknown    7.20     боевик,драма,мелодрама         NaN   \n",
              "1     NaN          unknown    6.60              драма,военный         NaN   \n",
              "2     NaN          unknown    6.80  фантастика,боевик,триллер         NaN   \n",
              "3     NaN          unknown    6.80  фантастика,боевик,триллер         NaN   \n",
              "4     NaN          unknown    6.80  фантастика,боевик,триллер         NaN   \n",
              "\n",
              "   year_release      main_director  main_genre  \n",
              "0          2015      Кевин Костнер      боевик  \n",
              "1          2016          Е.Матвеев       драма  \n",
              "2          2016  Тимур Бекмамбетов  фантастика  \n",
              "3          2016  Тимур Бекмамбетов  фантастика  \n",
              "4          2015  Тимур Бекмамбетов  фантастика  "
            ]
          },
          "execution_count": 27,
          "metadata": {},
          "output_type": "execute_result"
        }
      ],
      "source": [
        "# создаем столбца с именем и фамилией главного режиссера и столбец с жанром\n",
        "data['director'] = data['director'].astype(str)\n",
        "data['genres'] = data['genres'].astype(str)\n",
        "def producer_genre(d):\n",
        "    values = d.split(',')\n",
        "    return values[0]\n",
        "data['main_director'] = data['director'].apply(producer_genre)\n",
        "data['main_genre'] = data['genres'].apply(producer_genre)\n",
        "data.head() # проверяем результат"
      ]
    },
    {
      "cell_type": "code",
      "execution_count": null,
      "metadata": {
        "id": "LV6qFuZLgFyV",
        "scrolled": true,
        "outputId": "213c02be-1a34-4a33-a8a5-3d9c127b8545"
      },
      "outputs": [
        {
          "data": {
            "text/html": [
              "<div>\n",
              "<style scoped>\n",
              "    .dataframe tbody tr th:only-of-type {\n",
              "        vertical-align: middle;\n",
              "    }\n",
              "\n",
              "    .dataframe tbody tr th {\n",
              "        vertical-align: top;\n",
              "    }\n",
              "\n",
              "    .dataframe thead th {\n",
              "        text-align: right;\n",
              "    }\n",
              "</style>\n",
              "<table border=\"1\" class=\"dataframe\">\n",
              "  <thead>\n",
              "    <tr style=\"text-align: right;\">\n",
              "      <th></th>\n",
              "      <th>title</th>\n",
              "      <th>pu_number</th>\n",
              "      <th>show_start_date</th>\n",
              "      <th>type</th>\n",
              "      <th>film_studio</th>\n",
              "      <th>production_country</th>\n",
              "      <th>director</th>\n",
              "      <th>producer</th>\n",
              "      <th>age_restriction</th>\n",
              "      <th>refundable_support</th>\n",
              "      <th>nonrefundable_support</th>\n",
              "      <th>budget</th>\n",
              "      <th>financing_source</th>\n",
              "      <th>ratings</th>\n",
              "      <th>genres</th>\n",
              "      <th>box_office</th>\n",
              "      <th>year_release</th>\n",
              "      <th>main_director</th>\n",
              "      <th>main_genre</th>\n",
              "      <th>part_support_%</th>\n",
              "    </tr>\n",
              "  </thead>\n",
              "  <tbody>\n",
              "    <tr>\n",
              "      <th>1281</th>\n",
              "      <td>Пока еще жива</td>\n",
              "      <td>111005313</td>\n",
              "      <td>2013-10-11 12:00:00+00:00</td>\n",
              "      <td>Художественный</td>\n",
              "      <td>АНО содействия развитию кинематографии \"Ангел-...</td>\n",
              "      <td>Россия</td>\n",
              "      <td>А.Атанесян</td>\n",
              "      <td>А.Атанесян, М.Бабаханов, Р.Бутко</td>\n",
              "      <td>«16+» - для детей старше 16 лет</td>\n",
              "      <td>0.00</td>\n",
              "      <td>26,500,000.00</td>\n",
              "      <td>79,411,900.00</td>\n",
              "      <td>Министерство культуры</td>\n",
              "      <td>8.10</td>\n",
              "      <td>драма,мелодрама</td>\n",
              "      <td>365,353.60</td>\n",
              "      <td>2013</td>\n",
              "      <td>А.Атанесян</td>\n",
              "      <td>драма</td>\n",
              "      <td>33.37</td>\n",
              "    </tr>\n",
              "    <tr>\n",
              "      <th>1448</th>\n",
              "      <td>Бесславные придурки</td>\n",
              "      <td>111003314</td>\n",
              "      <td>2014-03-28 12:00:00+00:00</td>\n",
              "      <td>Художественный</td>\n",
              "      <td>ООО \"Компания \"АТК-Студио\"</td>\n",
              "      <td>Россия</td>\n",
              "      <td>А.Якимчук</td>\n",
              "      <td>А.Тютрюмов</td>\n",
              "      <td>«12+» - для детей старше 12 лет</td>\n",
              "      <td>0.00</td>\n",
              "      <td>26,000,000.00</td>\n",
              "      <td>37,142,857.00</td>\n",
              "      <td>Министерство культуры</td>\n",
              "      <td>unknown</td>\n",
              "      <td>unknown</td>\n",
              "      <td>28,140.00</td>\n",
              "      <td>2014</td>\n",
              "      <td>А.Якимчук</td>\n",
              "      <td>unknown</td>\n",
              "      <td>70.00</td>\n",
              "    </tr>\n",
              "    <tr>\n",
              "      <th>1498</th>\n",
              "      <td>Невидимки</td>\n",
              "      <td>111004213</td>\n",
              "      <td>2013-09-10 12:00:00+00:00</td>\n",
              "      <td>Художественный</td>\n",
              "      <td>ООО \"Компания \"РЕАЛ-ДАКОТА\"</td>\n",
              "      <td>Россия</td>\n",
              "      <td>Р.Давлетьяров, С.Комаров</td>\n",
              "      <td>Р.Давлетьяров, А.Котелевский, А.Олейников</td>\n",
              "      <td>«12+» - для детей старше 12 лет</td>\n",
              "      <td>0.00</td>\n",
              "      <td>107,847,945.00</td>\n",
              "      <td>176,023,490.00</td>\n",
              "      <td>Фонд кино</td>\n",
              "      <td>5.30</td>\n",
              "      <td>комедия,фантастика</td>\n",
              "      <td>19,957,031.50</td>\n",
              "      <td>2013</td>\n",
              "      <td>Р.Давлетьяров</td>\n",
              "      <td>комедия</td>\n",
              "      <td>61.27</td>\n",
              "    </tr>\n",
              "    <tr>\n",
              "      <th>1524</th>\n",
              "      <td>БЕРЦЫ</td>\n",
              "      <td>111004314</td>\n",
              "      <td>2014-05-05 12:00:00+00:00</td>\n",
              "      <td>Художественный</td>\n",
              "      <td>ООО \"Студия \"Пассажир\"</td>\n",
              "      <td>Россия</td>\n",
              "      <td>Е.Миндадзе (псевдоним Катя Шагалова)</td>\n",
              "      <td>Л.Антонова</td>\n",
              "      <td>«16+» - для детей старше 16 лет</td>\n",
              "      <td>0.00</td>\n",
              "      <td>28,000,000.00</td>\n",
              "      <td>40,574,140.00</td>\n",
              "      <td>Министерство культуры</td>\n",
              "      <td>4.20</td>\n",
              "      <td>драма</td>\n",
              "      <td>55,917.50</td>\n",
              "      <td>2014</td>\n",
              "      <td>Е.Миндадзе (псевдоним Катя Шагалова)</td>\n",
              "      <td>драма</td>\n",
              "      <td>69.01</td>\n",
              "    </tr>\n",
              "    <tr>\n",
              "      <th>1792</th>\n",
              "      <td>Братья Ч</td>\n",
              "      <td>111004414</td>\n",
              "      <td>2014-04-23 12:00:00+00:00</td>\n",
              "      <td>Художественный</td>\n",
              "      <td>ООО \"Студия \"Пассажир\"</td>\n",
              "      <td>Россия</td>\n",
              "      <td>М.Угаров</td>\n",
              "      <td>А.Миндадзе, Л.Антонова</td>\n",
              "      <td>«16+» - для детей старше 16 лет</td>\n",
              "      <td>0.00</td>\n",
              "      <td>25,000,000.00</td>\n",
              "      <td>40,015,122.00</td>\n",
              "      <td>Министерство культуры</td>\n",
              "      <td>6.40</td>\n",
              "      <td>драма</td>\n",
              "      <td>232,100.00</td>\n",
              "      <td>2014</td>\n",
              "      <td>М.Угаров</td>\n",
              "      <td>драма</td>\n",
              "      <td>62.48</td>\n",
              "    </tr>\n",
              "  </tbody>\n",
              "</table>\n",
              "</div>"
            ],
            "text/plain": [
              "                    title  pu_number           show_start_date  \\\n",
              "1281        Пока еще жива  111005313 2013-10-11 12:00:00+00:00   \n",
              "1448  Бесславные придурки  111003314 2014-03-28 12:00:00+00:00   \n",
              "1498            Невидимки  111004213 2013-09-10 12:00:00+00:00   \n",
              "1524                БЕРЦЫ  111004314 2014-05-05 12:00:00+00:00   \n",
              "1792             Братья Ч  111004414 2014-04-23 12:00:00+00:00   \n",
              "\n",
              "                type                                        film_studio  \\\n",
              "1281  Художественный  АНО содействия развитию кинематографии \"Ангел-...   \n",
              "1448  Художественный                         ООО \"Компания \"АТК-Студио\"   \n",
              "1498  Художественный                        ООО \"Компания \"РЕАЛ-ДАКОТА\"   \n",
              "1524  Художественный                             ООО \"Студия \"Пассажир\"   \n",
              "1792  Художественный                             ООО \"Студия \"Пассажир\"   \n",
              "\n",
              "     production_country                              director  \\\n",
              "1281             Россия                            А.Атанесян   \n",
              "1448             Россия                             А.Якимчук   \n",
              "1498             Россия              Р.Давлетьяров, С.Комаров   \n",
              "1524             Россия  Е.Миндадзе (псевдоним Катя Шагалова)   \n",
              "1792             Россия                              М.Угаров   \n",
              "\n",
              "                                       producer  \\\n",
              "1281           А.Атанесян, М.Бабаханов, Р.Бутко   \n",
              "1448                                 А.Тютрюмов   \n",
              "1498  Р.Давлетьяров, А.Котелевский, А.Олейников   \n",
              "1524                                 Л.Антонова   \n",
              "1792                     А.Миндадзе, Л.Антонова   \n",
              "\n",
              "                      age_restriction  refundable_support  \\\n",
              "1281  «16+» - для детей старше 16 лет                0.00   \n",
              "1448  «12+» - для детей старше 12 лет                0.00   \n",
              "1498  «12+» - для детей старше 12 лет                0.00   \n",
              "1524  «16+» - для детей старше 16 лет                0.00   \n",
              "1792  «16+» - для детей старше 16 лет                0.00   \n",
              "\n",
              "      nonrefundable_support         budget       financing_source  ratings  \\\n",
              "1281          26,500,000.00  79,411,900.00  Министерство культуры     8.10   \n",
              "1448          26,000,000.00  37,142,857.00  Министерство культуры  unknown   \n",
              "1498         107,847,945.00 176,023,490.00              Фонд кино     5.30   \n",
              "1524          28,000,000.00  40,574,140.00  Министерство культуры     4.20   \n",
              "1792          25,000,000.00  40,015,122.00  Министерство культуры     6.40   \n",
              "\n",
              "                  genres    box_office  year_release  \\\n",
              "1281     драма,мелодрама    365,353.60          2013   \n",
              "1448             unknown     28,140.00          2014   \n",
              "1498  комедия,фантастика 19,957,031.50          2013   \n",
              "1524               драма     55,917.50          2014   \n",
              "1792               драма    232,100.00          2014   \n",
              "\n",
              "                             main_director main_genre  part_support_%  \n",
              "1281                            А.Атанесян      драма           33.37  \n",
              "1448                             А.Якимчук    unknown           70.00  \n",
              "1498                         Р.Давлетьяров    комедия           61.27  \n",
              "1524  Е.Миндадзе (псевдоним Катя Шагалова)      драма           69.01  \n",
              "1792                              М.Угаров      драма           62.48  "
            ]
          },
          "metadata": {},
          "output_type": "display_data"
        }
      ],
      "source": [
        "# создаем новый столбец с долей гос. поддержки в бюджете в %:\n",
        "data['part_support_%'] = (data['refundable_support'] + data['nonrefundable_support']) / data['budget']*100\n",
        "display((data[data['part_support_%'] > 0]).head()) # проверяем результат"
      ]
    },
    {
      "cell_type": "markdown",
      "metadata": {
        "id": "6t4EukPLgFyV"
      },
      "source": [
        "### 3. Исследовательский анализ данных"
      ]
    },
    {
      "cell_type": "code",
      "execution_count": null,
      "metadata": {
        "id": "ABeV47y7gFyW",
        "scrolled": true,
        "outputId": "657a5e95-ea02-4e32-94d1-3f5470580b7c"
      },
      "outputs": [
        {
          "data": {
            "text/html": [
              "<div>\n",
              "<style scoped>\n",
              "    .dataframe tbody tr th:only-of-type {\n",
              "        vertical-align: middle;\n",
              "    }\n",
              "\n",
              "    .dataframe tbody tr th {\n",
              "        vertical-align: top;\n",
              "    }\n",
              "\n",
              "    .dataframe thead th {\n",
              "        text-align: right;\n",
              "    }\n",
              "</style>\n",
              "<table border=\"1\" class=\"dataframe\">\n",
              "  <thead>\n",
              "    <tr style=\"text-align: right;\">\n",
              "      <th></th>\n",
              "      <th>year_release</th>\n",
              "      <th>quantity_films</th>\n",
              "    </tr>\n",
              "  </thead>\n",
              "  <tbody>\n",
              "    <tr>\n",
              "      <th>0</th>\n",
              "      <td>2010</td>\n",
              "      <td>985</td>\n",
              "    </tr>\n",
              "    <tr>\n",
              "      <th>1</th>\n",
              "      <td>2011</td>\n",
              "      <td>622</td>\n",
              "    </tr>\n",
              "    <tr>\n",
              "      <th>2</th>\n",
              "      <td>2012</td>\n",
              "      <td>593</td>\n",
              "    </tr>\n",
              "    <tr>\n",
              "      <th>3</th>\n",
              "      <td>2013</td>\n",
              "      <td>630</td>\n",
              "    </tr>\n",
              "    <tr>\n",
              "      <th>4</th>\n",
              "      <td>2014</td>\n",
              "      <td>807</td>\n",
              "    </tr>\n",
              "    <tr>\n",
              "      <th>5</th>\n",
              "      <td>2015</td>\n",
              "      <td>705</td>\n",
              "    </tr>\n",
              "    <tr>\n",
              "      <th>6</th>\n",
              "      <td>2016</td>\n",
              "      <td>818</td>\n",
              "    </tr>\n",
              "    <tr>\n",
              "      <th>7</th>\n",
              "      <td>2017</td>\n",
              "      <td>505</td>\n",
              "    </tr>\n",
              "    <tr>\n",
              "      <th>8</th>\n",
              "      <td>2018</td>\n",
              "      <td>891</td>\n",
              "    </tr>\n",
              "    <tr>\n",
              "      <th>9</th>\n",
              "      <td>2019</td>\n",
              "      <td>930</td>\n",
              "    </tr>\n",
              "  </tbody>\n",
              "</table>\n",
              "</div>"
            ],
            "text/plain": [
              "   year_release  quantity_films\n",
              "0          2010             985\n",
              "1          2011             622\n",
              "2          2012             593\n",
              "3          2013             630\n",
              "4          2014             807\n",
              "5          2015             705\n",
              "6          2016             818\n",
              "7          2017             505\n",
              "8          2018             891\n",
              "9          2019             930"
            ]
          },
          "metadata": {},
          "output_type": "display_data"
        },
        {
          "data": {
            "image/png": "[encoded data removed]",
            "text/plain": [
              "<Figure size 1080x360 with 1 Axes>"
            ]
          },
          "metadata": {
            "needs_background": "light"
          },
          "output_type": "display_data"
        }
      ],
      "source": [
        "# получаем статистику фильмов по годам\n",
        "year_release_number_films = data.groupby('year_release')['title'].count().reset_index()\n",
        "year_release_number_films.rename(columns={'title':'quantity_films'}, inplace=True)\n",
        "year_release_number_films.plot(kind='bar', x='year_release', figsize = (15, 5), grid = True, title='Статистика фильмов по годам', legend = True)\n",
        "display(year_release_number_films)"
      ]
    },
    {
      "cell_type": "markdown",
      "metadata": {
        "id": "5g4_1EAHhiZe"
      },
      "source": [
        "Самое большое количество фильмов выходило в 2010 году.  \n",
        "Самое маленькое количество фильмов выходило в 2017 году."
      ]
    },
    {
      "cell_type": "code",
      "execution_count": null,
      "metadata": {
        "id": "NulY2aEShiZe",
        "outputId": "c71c0dde-3dcc-49e4-af14-d0f2cfb84ea1"
      },
      "outputs": [
        {
          "name": "stdout",
          "output_type": "stream",
          "text": [
            "Доля фильмов с информацией об его бюджете: 4.43\n"
          ]
        }
      ],
      "source": [
        "# формулировки о доле в задании не ясна\n",
        "print('Доля фильмов с информацией об его бюджете: %.2f' % (data['budget'].count()/data['title'].count()*100))"
      ]
    },
    {
      "cell_type": "code",
      "execution_count": null,
      "metadata": {
        "id": "tfEhofYvgFyX",
        "scrolled": false,
        "outputId": "e9c9ec13-0dd5-4299-c255-8080f6befcba"
      },
      "outputs": [
        {
          "data": {
            "text/html": [
              "<div>\n",
              "<style scoped>\n",
              "    .dataframe tbody tr th:only-of-type {\n",
              "        vertical-align: middle;\n",
              "    }\n",
              "\n",
              "    .dataframe tbody tr th {\n",
              "        vertical-align: top;\n",
              "    }\n",
              "\n",
              "    .dataframe thead th {\n",
              "        text-align: right;\n",
              "    }\n",
              "</style>\n",
              "<table border=\"1\" class=\"dataframe\">\n",
              "  <thead>\n",
              "    <tr style=\"text-align: right;\">\n",
              "      <th></th>\n",
              "      <th>year_release</th>\n",
              "      <th>total_fees</th>\n",
              "    </tr>\n",
              "  </thead>\n",
              "  <tbody>\n",
              "    <tr>\n",
              "      <th>8</th>\n",
              "      <td>2018</td>\n",
              "      <td>49,668,403,134.32</td>\n",
              "    </tr>\n",
              "    <tr>\n",
              "      <th>7</th>\n",
              "      <td>2017</td>\n",
              "      <td>48,563,707,217.51</td>\n",
              "    </tr>\n",
              "    <tr>\n",
              "      <th>9</th>\n",
              "      <td>2019</td>\n",
              "      <td>48,425,708,779.59</td>\n",
              "    </tr>\n",
              "    <tr>\n",
              "      <th>6</th>\n",
              "      <td>2016</td>\n",
              "      <td>47,866,299,741.91</td>\n",
              "    </tr>\n",
              "    <tr>\n",
              "      <th>5</th>\n",
              "      <td>2015</td>\n",
              "      <td>39,497,365,196.40</td>\n",
              "    </tr>\n",
              "    <tr>\n",
              "      <th>4</th>\n",
              "      <td>2014</td>\n",
              "      <td>7,444,951,859.20</td>\n",
              "    </tr>\n",
              "    <tr>\n",
              "      <th>3</th>\n",
              "      <td>2013</td>\n",
              "      <td>29,799,706.20</td>\n",
              "    </tr>\n",
              "    <tr>\n",
              "      <th>1</th>\n",
              "      <td>2011</td>\n",
              "      <td>14,102,765.00</td>\n",
              "    </tr>\n",
              "    <tr>\n",
              "      <th>2</th>\n",
              "      <td>2012</td>\n",
              "      <td>6,955,423.00</td>\n",
              "    </tr>\n",
              "    <tr>\n",
              "      <th>0</th>\n",
              "      <td>2010</td>\n",
              "      <td>2,428,654.00</td>\n",
              "    </tr>\n",
              "  </tbody>\n",
              "</table>\n",
              "</div>"
            ],
            "text/plain": [
              "   year_release        total_fees\n",
              "8          2018 49,668,403,134.32\n",
              "7          2017 48,563,707,217.51\n",
              "9          2019 48,425,708,779.59\n",
              "6          2016 47,866,299,741.91\n",
              "5          2015 39,497,365,196.40\n",
              "4          2014  7,444,951,859.20\n",
              "3          2013     29,799,706.20\n",
              "1          2011     14,102,765.00\n",
              "2          2012      6,955,423.00\n",
              "0          2010      2,428,654.00"
            ]
          },
          "metadata": {},
          "output_type": "display_data"
        },
        {
          "data": {
            "image/png": "[encoded data removed]",
            "text/plain": [
              "<Figure size 1080x360 with 1 Axes>"
            ]
          },
          "metadata": {
            "needs_background": "light"
          },
          "output_type": "display_data"
        }
      ],
      "source": [
        "# получаем динамику проката по годам:\n",
        "data['box_office'] = data['box_office'].astype(float)\n",
        "year_release_total_fees = data.groupby('year_release')['box_office'].sum().reset_index()\n",
        "year_release_total_fees.rename(columns={'box_office':'total_fees'}, inplace=True)\n",
        "year_release_total_fees.plot(kind = 'bar', x = 'year_release',figsize = (15, 5), grid = True, title='Динамика проката фильмов по годам', legend = True)\n",
        "year_release_total_fees = year_release_total_fees.sort_values(by='total_fees', ascending=False)\n",
        "display(year_release_total_fees)"
      ]
    },
    {
      "cell_type": "markdown",
      "metadata": {
        "id": "m1u3Kx81hiZf"
      },
      "source": [
        "Максимальная сумма сборов приходилась на 2018 год (с небольшим отрывом от 2016, 2017 и 2019 годов).  \n",
        "Минимальная сумма сборов приходилась на 2010 год.  \n",
        "При том, что самое большое количество фильмов вышло в 2010 году."
      ]
    },
    {
      "cell_type": "code",
      "execution_count": null,
      "metadata": {
        "id": "jmp-rgg9gFyY",
        "scrolled": true,
        "outputId": "eb807f98-8581-4236-fa63-31a783d5afd2"
      },
      "outputs": [
        {
          "data": {
            "text/html": [
              "<div>\n",
              "<style scoped>\n",
              "    .dataframe tbody tr th:only-of-type {\n",
              "        vertical-align: middle;\n",
              "    }\n",
              "\n",
              "    .dataframe tbody tr th {\n",
              "        vertical-align: top;\n",
              "    }\n",
              "\n",
              "    .dataframe thead th {\n",
              "        text-align: right;\n",
              "    }\n",
              "</style>\n",
              "<table border=\"1\" class=\"dataframe\">\n",
              "  <thead>\n",
              "    <tr style=\"text-align: right;\">\n",
              "      <th></th>\n",
              "      <th>mean</th>\n",
              "      <th>median</th>\n",
              "    </tr>\n",
              "    <tr>\n",
              "      <th>year_release</th>\n",
              "      <th></th>\n",
              "      <th></th>\n",
              "    </tr>\n",
              "  </thead>\n",
              "  <tbody>\n",
              "    <tr>\n",
              "      <th>2010</th>\n",
              "      <td>23,130.04</td>\n",
              "      <td>1,700.00</td>\n",
              "    </tr>\n",
              "    <tr>\n",
              "      <th>2011</th>\n",
              "      <td>129,383.17</td>\n",
              "      <td>3,000.00</td>\n",
              "    </tr>\n",
              "    <tr>\n",
              "      <th>2012</th>\n",
              "      <td>54,339.24</td>\n",
              "      <td>5,660.00</td>\n",
              "    </tr>\n",
              "    <tr>\n",
              "      <th>2013</th>\n",
              "      <td>161,954.92</td>\n",
              "      <td>3,522.50</td>\n",
              "    </tr>\n",
              "    <tr>\n",
              "      <th>2014</th>\n",
              "      <td>26,684,415.27</td>\n",
              "      <td>18,160.00</td>\n",
              "    </tr>\n",
              "    <tr>\n",
              "      <th>2015</th>\n",
              "      <td>84,940,570.31</td>\n",
              "      <td>4,920,933.00</td>\n",
              "    </tr>\n",
              "    <tr>\n",
              "      <th>2016</th>\n",
              "      <td>91,000,569.85</td>\n",
              "      <td>3,846,679.41</td>\n",
              "    </tr>\n",
              "    <tr>\n",
              "      <th>2017</th>\n",
              "      <td>136,032,793.33</td>\n",
              "      <td>9,968,340.00</td>\n",
              "    </tr>\n",
              "    <tr>\n",
              "      <th>2018</th>\n",
              "      <td>104,565,059.23</td>\n",
              "      <td>8,891,102.21</td>\n",
              "    </tr>\n",
              "    <tr>\n",
              "      <th>2019</th>\n",
              "      <td>91,369,261.85</td>\n",
              "      <td>4,627,798.34</td>\n",
              "    </tr>\n",
              "  </tbody>\n",
              "</table>\n",
              "</div>"
            ],
            "text/plain": [
              "                       mean       median\n",
              "year_release                            \n",
              "2010              23,130.04     1,700.00\n",
              "2011             129,383.17     3,000.00\n",
              "2012              54,339.24     5,660.00\n",
              "2013             161,954.92     3,522.50\n",
              "2014          26,684,415.27    18,160.00\n",
              "2015          84,940,570.31 4,920,933.00\n",
              "2016          91,000,569.85 3,846,679.41\n",
              "2017         136,032,793.33 9,968,340.00\n",
              "2018         104,565,059.23 8,891,102.21\n",
              "2019          91,369,261.85 4,627,798.34"
            ]
          },
          "metadata": {},
          "output_type": "display_data"
        },
        {
          "data": {
            "text/plain": [
              "<AxesSubplot:title={'center':'Медианная и средняя сумма сборов по годам'}, xlabel='Годы', ylabel='Кассовые сборы'>"
            ]
          },
          "execution_count": 32,
          "metadata": {},
          "output_type": "execute_result"
        },
        {
          "data": {
            "image/png": "[encoded data removed]",
            "text/plain": [
              "<Figure size 432x288 with 1 Axes>"
            ]
          },
          "metadata": {
            "needs_background": "light"
          },
          "output_type": "display_data"
        }
      ],
      "source": [
        "fees_film = data.pivot_table(index = 'year_release', values = 'box_office', aggfunc = ('mean', 'median'))\n",
        "display(fees_film)\n",
        "fees_film.plot(title = 'Медианная и средняя сумма сборов по годам', style = 'o-', grid = True, xlabel = 'Годы', ylabel = 'Кассовые сборы')"
      ]
    },
    {
      "cell_type": "markdown",
      "metadata": {
        "id": "CcROfIVXhiZh"
      },
      "source": [
        "По графику видно, что среднее существенно отличается от медианы, можно сделать вывод, что по некоторым фильмам присутствуют выбросы, которые и влияют на такое отличие медианы и среднего."
      ]
    },
    {
      "cell_type": "code",
      "execution_count": null,
      "metadata": {
        "id": "jsSbEqfjgFya",
        "scrolled": true,
        "outputId": "98c73e0e-379e-4a81-aed7-db97f7ae4e73"
      },
      "outputs": [
        {
          "data": {
            "text/html": [
              "<div>\n",
              "<style scoped>\n",
              "    .dataframe tbody tr th:only-of-type {\n",
              "        vertical-align: middle;\n",
              "    }\n",
              "\n",
              "    .dataframe tbody tr th {\n",
              "        vertical-align: top;\n",
              "    }\n",
              "\n",
              "    .dataframe thead th {\n",
              "        text-align: right;\n",
              "    }\n",
              "</style>\n",
              "<table border=\"1\" class=\"dataframe\">\n",
              "  <thead>\n",
              "    <tr style=\"text-align: right;\">\n",
              "      <th></th>\n",
              "      <th>box_office</th>\n",
              "    </tr>\n",
              "    <tr>\n",
              "      <th>age_restriction</th>\n",
              "      <th></th>\n",
              "    </tr>\n",
              "  </thead>\n",
              "  <tbody>\n",
              "    <tr>\n",
              "      <th>«16+» - для детей старше 16 лет</th>\n",
              "      <td>76,034,733,643.63</td>\n",
              "    </tr>\n",
              "    <tr>\n",
              "      <th>«12+» - для детей старше 12 лет</th>\n",
              "      <td>60,619,446,628.33</td>\n",
              "    </tr>\n",
              "    <tr>\n",
              "      <th>«6+» - для детей старше 6 лет</th>\n",
              "      <td>55,798,610,799.68</td>\n",
              "    </tr>\n",
              "    <tr>\n",
              "      <th>«18+» - запрещено для детей</th>\n",
              "      <td>40,759,615,572.12</td>\n",
              "    </tr>\n",
              "    <tr>\n",
              "      <th>«0+» - для любой зрительской аудитории</th>\n",
              "      <td>809,077,425.97</td>\n",
              "    </tr>\n",
              "  </tbody>\n",
              "</table>\n",
              "</div>"
            ],
            "text/plain": [
              "                                              box_office\n",
              "age_restriction                                         \n",
              "«16+» - для детей старше 16 лет        76,034,733,643.63\n",
              "«12+» - для детей старше 12 лет        60,619,446,628.33\n",
              "«6+» - для детей старше 6 лет          55,798,610,799.68\n",
              "«18+» - запрещено для детей            40,759,615,572.12\n",
              "«0+» - для любой зрительской аудитории    809,077,425.97"
            ]
          },
          "metadata": {},
          "output_type": "display_data"
        },
        {
          "data": {
            "image/png": "[encoded data removed]",
            "text/plain": [
              "<Figure size 1080x360 with 1 Axes>"
            ]
          },
          "metadata": {
            "needs_background": "light"
          },
          "output_type": "display_data"
        }
      ],
      "source": [
        "data_year_release = data.query('year_release > 2014') # выполняем срез по годам\n",
        "age_restriction_fees = data_year_release.pivot_table(index = 'age_restriction', values = 'box_office', aggfunc = 'sum')\n",
        "age_restriction_fees.plot(kind='bar', title = 'Зависимость возрастной категории и кассовых сборов', style = 'o-', grid = True, xlabel = 'Возрастная категория', ylabel = 'Кассовые сборы', figsize=(15, 5))\n",
        "display(age_restriction_fees.sort_values(by='box_office', ascending = False))"
      ]
    },
    {
      "cell_type": "markdown",
      "metadata": {
        "id": "LEHjDpa_hiZi"
      },
      "source": [
        "Возрастное ограничение влияет на кассовые сборы.  \n",
        "В среднем по годам исследуемым годам максимальные кассовые сборы приходятся на категорию 16+, далее идет 12+, 6+ и 18+. Наименьшие сборы у категории 0+."
      ]
    },
    {
      "cell_type": "code",
      "execution_count": null,
      "metadata": {
        "id": "WRWdZ2tihiZi",
        "outputId": "d6570169-cd67-477d-fcf0-29848e073b24"
      },
      "outputs": [
        {
          "data": {
            "text/html": [
              "<div>\n",
              "<style scoped>\n",
              "    .dataframe tbody tr th:only-of-type {\n",
              "        vertical-align: middle;\n",
              "    }\n",
              "\n",
              "    .dataframe tbody tr th {\n",
              "        vertical-align: top;\n",
              "    }\n",
              "\n",
              "    .dataframe thead th {\n",
              "        text-align: right;\n",
              "    }\n",
              "</style>\n",
              "<table border=\"1\" class=\"dataframe\">\n",
              "  <thead>\n",
              "    <tr style=\"text-align: right;\">\n",
              "      <th></th>\n",
              "      <th></th>\n",
              "      <th>box_office</th>\n",
              "    </tr>\n",
              "    <tr>\n",
              "      <th>year_release</th>\n",
              "      <th>age_restriction</th>\n",
              "      <th></th>\n",
              "    </tr>\n",
              "  </thead>\n",
              "  <tbody>\n",
              "    <tr>\n",
              "      <th>2017</th>\n",
              "      <th>«16+» - для детей старше 16 лет</th>\n",
              "      <td>18,745,042,900.06</td>\n",
              "    </tr>\n",
              "    <tr>\n",
              "      <th>2016</th>\n",
              "      <th>«16+» - для детей старше 16 лет</th>\n",
              "      <td>16,664,548,541.74</td>\n",
              "    </tr>\n",
              "    <tr>\n",
              "      <th rowspan=\"2\" valign=\"top\">2018</th>\n",
              "      <th>«16+» - для детей старше 16 лет</th>\n",
              "      <td>16,503,602,346.96</td>\n",
              "    </tr>\n",
              "    <tr>\n",
              "      <th>«12+» - для детей старше 12 лет</th>\n",
              "      <td>14,267,291,660.69</td>\n",
              "    </tr>\n",
              "    <tr>\n",
              "      <th>2015</th>\n",
              "      <th>«12+» - для детей старше 12 лет</th>\n",
              "      <td>13,616,082,008.91</td>\n",
              "    </tr>\n",
              "    <tr>\n",
              "      <th rowspan=\"3\" valign=\"top\">2019</th>\n",
              "      <th>«6+» - для детей старше 6 лет</th>\n",
              "      <td>12,852,548,650.86</td>\n",
              "    </tr>\n",
              "    <tr>\n",
              "      <th>«16+» - для детей старше 16 лет</th>\n",
              "      <td>12,753,418,984.60</td>\n",
              "    </tr>\n",
              "    <tr>\n",
              "      <th>«12+» - для детей старше 12 лет</th>\n",
              "      <td>12,680,198,773.67</td>\n",
              "    </tr>\n",
              "    <tr>\n",
              "      <th>2016</th>\n",
              "      <th>«12+» - для детей старше 12 лет</th>\n",
              "      <td>12,204,446,524.39</td>\n",
              "    </tr>\n",
              "    <tr>\n",
              "      <th>2017</th>\n",
              "      <th>«6+» - для детей старше 6 лет</th>\n",
              "      <td>12,086,142,145.76</td>\n",
              "    </tr>\n",
              "    <tr>\n",
              "      <th>2016</th>\n",
              "      <th>«6+» - для детей старше 6 лет</th>\n",
              "      <td>12,053,146,008.24</td>\n",
              "    </tr>\n",
              "    <tr>\n",
              "      <th>2015</th>\n",
              "      <th>«16+» - для детей старше 16 лет</th>\n",
              "      <td>11,368,120,870.27</td>\n",
              "    </tr>\n",
              "    <tr>\n",
              "      <th>2019</th>\n",
              "      <th>«18+» - запрещено для детей</th>\n",
              "      <td>10,121,796,303.64</td>\n",
              "    </tr>\n",
              "    <tr>\n",
              "      <th>2018</th>\n",
              "      <th>«6+» - для детей старше 6 лет</th>\n",
              "      <td>10,104,974,623.41</td>\n",
              "    </tr>\n",
              "    <tr>\n",
              "      <th>2017</th>\n",
              "      <th>«18+» - запрещено для детей</th>\n",
              "      <td>9,651,495,581.02</td>\n",
              "    </tr>\n",
              "    <tr>\n",
              "      <th>2018</th>\n",
              "      <th>«18+» - запрещено для детей</th>\n",
              "      <td>8,760,085,501.15</td>\n",
              "    </tr>\n",
              "    <tr>\n",
              "      <th>2015</th>\n",
              "      <th>«6+» - для детей старше 6 лет</th>\n",
              "      <td>8,701,799,371.41</td>\n",
              "    </tr>\n",
              "    <tr>\n",
              "      <th>2017</th>\n",
              "      <th>«12+» - для детей старше 12 лет</th>\n",
              "      <td>7,851,427,660.67</td>\n",
              "    </tr>\n",
              "    <tr>\n",
              "      <th>2016</th>\n",
              "      <th>«18+» - запрещено для детей</th>\n",
              "      <td>6,793,929,818.87</td>\n",
              "    </tr>\n",
              "    <tr>\n",
              "      <th rowspan=\"2\" valign=\"top\">2015</th>\n",
              "      <th>«18+» - запрещено для детей</th>\n",
              "      <td>5,432,308,367.44</td>\n",
              "    </tr>\n",
              "    <tr>\n",
              "      <th>«0+» - для любой зрительской аудитории</th>\n",
              "      <td>379,054,578.37</td>\n",
              "    </tr>\n",
              "    <tr>\n",
              "      <th>2017</th>\n",
              "      <th>«0+» - для любой зрительской аудитории</th>\n",
              "      <td>229,598,930.00</td>\n",
              "    </tr>\n",
              "    <tr>\n",
              "      <th>2016</th>\n",
              "      <th>«0+» - для любой зрительской аудитории</th>\n",
              "      <td>150,228,848.67</td>\n",
              "    </tr>\n",
              "    <tr>\n",
              "      <th>2018</th>\n",
              "      <th>«0+» - для любой зрительской аудитории</th>\n",
              "      <td>32,449,002.11</td>\n",
              "    </tr>\n",
              "    <tr>\n",
              "      <th>2019</th>\n",
              "      <th>«0+» - для любой зрительской аудитории</th>\n",
              "      <td>17,746,066.82</td>\n",
              "    </tr>\n",
              "  </tbody>\n",
              "</table>\n",
              "</div>"
            ],
            "text/plain": [
              "                                                           box_office\n",
              "year_release age_restriction                                         \n",
              "2017         «16+» - для детей старше 16 лет        18,745,042,900.06\n",
              "2016         «16+» - для детей старше 16 лет        16,664,548,541.74\n",
              "2018         «16+» - для детей старше 16 лет        16,503,602,346.96\n",
              "             «12+» - для детей старше 12 лет        14,267,291,660.69\n",
              "2015         «12+» - для детей старше 12 лет        13,616,082,008.91\n",
              "2019         «6+» - для детей старше 6 лет          12,852,548,650.86\n",
              "             «16+» - для детей старше 16 лет        12,753,418,984.60\n",
              "             «12+» - для детей старше 12 лет        12,680,198,773.67\n",
              "2016         «12+» - для детей старше 12 лет        12,204,446,524.39\n",
              "2017         «6+» - для детей старше 6 лет          12,086,142,145.76\n",
              "2016         «6+» - для детей старше 6 лет          12,053,146,008.24\n",
              "2015         «16+» - для детей старше 16 лет        11,368,120,870.27\n",
              "2019         «18+» - запрещено для детей            10,121,796,303.64\n",
              "2018         «6+» - для детей старше 6 лет          10,104,974,623.41\n",
              "2017         «18+» - запрещено для детей             9,651,495,581.02\n",
              "2018         «18+» - запрещено для детей             8,760,085,501.15\n",
              "2015         «6+» - для детей старше 6 лет           8,701,799,371.41\n",
              "2017         «12+» - для детей старше 12 лет         7,851,427,660.67\n",
              "2016         «18+» - запрещено для детей             6,793,929,818.87\n",
              "2015         «18+» - запрещено для детей             5,432,308,367.44\n",
              "             «0+» - для любой зрительской аудитории    379,054,578.37\n",
              "2017         «0+» - для любой зрительской аудитории    229,598,930.00\n",
              "2016         «0+» - для любой зрительской аудитории    150,228,848.67\n",
              "2018         «0+» - для любой зрительской аудитории     32,449,002.11\n",
              "2019         «0+» - для любой зрительской аудитории     17,746,066.82"
            ]
          },
          "metadata": {},
          "output_type": "display_data"
        },
        {
          "data": {
            "image/png": "[encoded data removed]",
            "text/plain": [
              "<Figure size 1080x360 with 1 Axes>"
            ]
          },
          "metadata": {
            "needs_background": "light"
          },
          "output_type": "display_data"
        }
      ],
      "source": [
        "# исследуем влияние возрастных ограничений по каждому году:\n",
        "year_release_age_restriction_fees = data_year_release.pivot_table(index = ['year_release', 'age_restriction'], values = 'box_office', aggfunc = 'sum')\n",
        "year_release_age_restriction_fees.plot(kind='bar', title = 'Зависимость возрастной категории и кассовых сборов по годам', style = 'o-', grid = True, xlabel = 'Год, возрастная категория', ylabel = 'Кассовые сборы', figsize=(15, 5))\n",
        "display(year_release_age_restriction_fees.sort_values(by='box_office', ascending = False))"
      ]
    },
    {
      "cell_type": "markdown",
      "metadata": {
        "id": "UREskIa1hiZi"
      },
      "source": [
        "Статистика по максимальным сборам в зависимости от категории меняется год от года незначительно.  \n",
        "По всем анализируемым годам минимальная сумма сборов остается у одной и той же категории 0+.  \n",
        "В 2015 году максимальная сумма сборов у категории 12+  \n",
        "В 2016 году максимальная сумма сборов у категории 16+  \n",
        "В 2017 году максимальная сумма сборов у категории 16+  \n",
        "В 2018 году максимальная сумма сборов у категории 16+  \n",
        "В 2019 году максимальная сумма (с небольшими отклонениями друг от друга) сборов у категорий 12+, 16+, 6+  \n",
        "Возможно, это связано с тем, что в основном в кино ходят дети старше 16 лет в компании со своими друзьями примерно такого же возраста.  "
      ]
    },
    {
      "cell_type": "markdown",
      "metadata": {
        "id": "l_Kg6Ku4gFya"
      },
      "source": [
        "### 4. Исследуем фильмы, которые получили господдержку"
      ]
    },
    {
      "cell_type": "code",
      "execution_count": null,
      "metadata": {
        "id": "W9QKpjUdgFyb",
        "outputId": "2e5b12d6-a49d-48c3-87e0-7ba4391b9ba6"
      },
      "outputs": [
        {
          "name": "stdout",
          "output_type": "stream",
          "text": [
            "Доля гос. поддержки в бюджете, %: 44.26649119107681\n",
            "Доля фильмов с гос. поддержкой, %: 1.1054341405788541\n"
          ]
        }
      ],
      "source": [
        "# создадим отдельный датафрейм с государственной поддержкой:\n",
        "data_support = data.query('refundable_support > 0 or nonrefundable_support > 0 or financing_source != \"unknown\"')\n",
        "# создадим столбец с размером гос. поддержки:\n",
        "data_support['total_support'] = data_support['refundable_support'] + data_support['nonrefundable_support']\n",
        "# создадим датафрейм с фильмами без гос. поддержки:\n",
        "data_no_support = data.query('financing_source == \"unknown\"')\n",
        "print('Доля гос. поддержки в бюджете, %:', (data_support['refundable_support'].sum() + data_support['nonrefundable_support'].sum()) / data_support['budget'].sum()*100)\n",
        "print('Доля фильмов с гос. поддержкой, %:', data['financing_source'].count() / data['title'].nunique())"
      ]
    },
    {
      "cell_type": "markdown",
      "metadata": {
        "id": "w6v9z6JahiZk"
      },
      "source": [
        "Из анализа видно, что в фильмах с гос. поддержкой размер поддержки в бюджете составляет в среднем 47%, а общая доля фильмов с гос. поддержкой составляет только 1%."
      ]
    },
    {
      "cell_type": "code",
      "execution_count": null,
      "metadata": {
        "id": "GtbYKKOWhiZk",
        "outputId": "e16421e0-e2cb-4f37-92d3-dc8d158e4bec"
      },
      "outputs": [
        {
          "data": {
            "text/html": [
              "<div>\n",
              "<style scoped>\n",
              "    .dataframe tbody tr th:only-of-type {\n",
              "        vertical-align: middle;\n",
              "    }\n",
              "\n",
              "    .dataframe tbody tr th {\n",
              "        vertical-align: top;\n",
              "    }\n",
              "\n",
              "    .dataframe thead th {\n",
              "        text-align: right;\n",
              "    }\n",
              "</style>\n",
              "<table border=\"1\" class=\"dataframe\">\n",
              "  <thead>\n",
              "    <tr style=\"text-align: right;\">\n",
              "      <th></th>\n",
              "      <th>title</th>\n",
              "      <th>pu_number</th>\n",
              "      <th>show_start_date</th>\n",
              "      <th>type</th>\n",
              "      <th>film_studio</th>\n",
              "      <th>production_country</th>\n",
              "      <th>director</th>\n",
              "      <th>producer</th>\n",
              "      <th>age_restriction</th>\n",
              "      <th>refundable_support</th>\n",
              "      <th>...</th>\n",
              "      <th>budget</th>\n",
              "      <th>financing_source</th>\n",
              "      <th>ratings</th>\n",
              "      <th>genres</th>\n",
              "      <th>box_office</th>\n",
              "      <th>year_release</th>\n",
              "      <th>main_director</th>\n",
              "      <th>main_genre</th>\n",
              "      <th>part_support_%</th>\n",
              "      <th>film_support</th>\n",
              "    </tr>\n",
              "  </thead>\n",
              "  <tbody>\n",
              "    <tr>\n",
              "      <th>0</th>\n",
              "      <td>Открытый простор</td>\n",
              "      <td>221048915</td>\n",
              "      <td>2015-11-27 12:00:00+00:00</td>\n",
              "      <td>Художественный</td>\n",
              "      <td>Тачстоун Пикчерз, Кобальт Пикчерз, Бикон Пикче...</td>\n",
              "      <td>США</td>\n",
              "      <td>Кевин Костнер</td>\n",
              "      <td>Дэвид Валдес, Кевин Костнер, Джейк Эбертс</td>\n",
              "      <td>«18+» - запрещено для детей</td>\n",
              "      <td>NaN</td>\n",
              "      <td>...</td>\n",
              "      <td>NaN</td>\n",
              "      <td>unknown</td>\n",
              "      <td>7.20</td>\n",
              "      <td>боевик,драма,мелодрама</td>\n",
              "      <td>NaN</td>\n",
              "      <td>2015</td>\n",
              "      <td>Кевин Костнер</td>\n",
              "      <td>боевик</td>\n",
              "      <td>NaN</td>\n",
              "      <td>support_off</td>\n",
              "    </tr>\n",
              "    <tr>\n",
              "      <th>1</th>\n",
              "      <td>Особо важное задание</td>\n",
              "      <td>111013716</td>\n",
              "      <td>2016-09-13 12:00:00+00:00</td>\n",
              "      <td>Художественный</td>\n",
              "      <td>Киностудия \"Мосфильм\"</td>\n",
              "      <td>СССР</td>\n",
              "      <td>Е.Матвеев</td>\n",
              "      <td>NaN</td>\n",
              "      <td>«6+» - для детей старше 6 лет</td>\n",
              "      <td>NaN</td>\n",
              "      <td>...</td>\n",
              "      <td>NaN</td>\n",
              "      <td>unknown</td>\n",
              "      <td>6.60</td>\n",
              "      <td>драма,военный</td>\n",
              "      <td>NaN</td>\n",
              "      <td>2016</td>\n",
              "      <td>Е.Матвеев</td>\n",
              "      <td>драма</td>\n",
              "      <td>NaN</td>\n",
              "      <td>support_off</td>\n",
              "    </tr>\n",
              "    <tr>\n",
              "      <th>2</th>\n",
              "      <td>Особо опасен</td>\n",
              "      <td>221038416</td>\n",
              "      <td>2016-10-10 12:00:00+00:00</td>\n",
              "      <td>Художественный</td>\n",
              "      <td>Юниверсал Пикчерз, Кикстарт Продакшнз, Марк Пл...</td>\n",
              "      <td>США</td>\n",
              "      <td>Тимур Бекмамбетов</td>\n",
              "      <td>Джим Лемли, Джейсон Нетер, Марк Е.Платт, Яйн Смит</td>\n",
              "      <td>«18+» - запрещено для детей</td>\n",
              "      <td>NaN</td>\n",
              "      <td>...</td>\n",
              "      <td>NaN</td>\n",
              "      <td>unknown</td>\n",
              "      <td>6.80</td>\n",
              "      <td>фантастика,боевик,триллер</td>\n",
              "      <td>NaN</td>\n",
              "      <td>2016</td>\n",
              "      <td>Тимур Бекмамбетов</td>\n",
              "      <td>фантастика</td>\n",
              "      <td>NaN</td>\n",
              "      <td>support_off</td>\n",
              "    </tr>\n",
              "    <tr>\n",
              "      <th>3</th>\n",
              "      <td>Особо опасен</td>\n",
              "      <td>221026916</td>\n",
              "      <td>2016-06-10 12:00:00+00:00</td>\n",
              "      <td>Художественный</td>\n",
              "      <td>Юниверсал Пикчерз, Кикстарт Продакшнз, Марк Пл...</td>\n",
              "      <td>США</td>\n",
              "      <td>Тимур Бекмамбетов</td>\n",
              "      <td>Джим Лемли, Джейсон Нетер, Марк Е.Платт, Яйн Смит</td>\n",
              "      <td>«18+» - запрещено для детей</td>\n",
              "      <td>NaN</td>\n",
              "      <td>...</td>\n",
              "      <td>NaN</td>\n",
              "      <td>unknown</td>\n",
              "      <td>6.80</td>\n",
              "      <td>фантастика,боевик,триллер</td>\n",
              "      <td>NaN</td>\n",
              "      <td>2016</td>\n",
              "      <td>Тимур Бекмамбетов</td>\n",
              "      <td>фантастика</td>\n",
              "      <td>NaN</td>\n",
              "      <td>support_off</td>\n",
              "    </tr>\n",
              "    <tr>\n",
              "      <th>4</th>\n",
              "      <td>Особо опасен</td>\n",
              "      <td>221030815</td>\n",
              "      <td>2015-07-29 12:00:00+00:00</td>\n",
              "      <td>Художественный</td>\n",
              "      <td>Юниверсал Пикчерз, Кикстарт Продакшнз, Марк Пл...</td>\n",
              "      <td>США</td>\n",
              "      <td>Тимур Бекмамбетов</td>\n",
              "      <td>Джим Лемли, Джейсон Нетер, Марк Е.Платт, Яйн Смит</td>\n",
              "      <td>«18+» - запрещено для детей</td>\n",
              "      <td>NaN</td>\n",
              "      <td>...</td>\n",
              "      <td>NaN</td>\n",
              "      <td>unknown</td>\n",
              "      <td>6.80</td>\n",
              "      <td>фантастика,боевик,триллер</td>\n",
              "      <td>NaN</td>\n",
              "      <td>2015</td>\n",
              "      <td>Тимур Бекмамбетов</td>\n",
              "      <td>фантастика</td>\n",
              "      <td>NaN</td>\n",
              "      <td>support_off</td>\n",
              "    </tr>\n",
              "  </tbody>\n",
              "</table>\n",
              "<p>5 rows × 21 columns</p>\n",
              "</div>"
            ],
            "text/plain": [
              "                  title  pu_number           show_start_date            type  \\\n",
              "0      Открытый простор  221048915 2015-11-27 12:00:00+00:00  Художественный   \n",
              "1  Особо важное задание  111013716 2016-09-13 12:00:00+00:00  Художественный   \n",
              "2          Особо опасен  221038416 2016-10-10 12:00:00+00:00  Художественный   \n",
              "3          Особо опасен  221026916 2016-06-10 12:00:00+00:00  Художественный   \n",
              "4          Особо опасен  221030815 2015-07-29 12:00:00+00:00  Художественный   \n",
              "\n",
              "                                         film_studio production_country  \\\n",
              "0  Тачстоун Пикчерз, Кобальт Пикчерз, Бикон Пикче...                США   \n",
              "1                              Киностудия \"Мосфильм\"               СССР   \n",
              "2  Юниверсал Пикчерз, Кикстарт Продакшнз, Марк Пл...                США   \n",
              "3  Юниверсал Пикчерз, Кикстарт Продакшнз, Марк Пл...                США   \n",
              "4  Юниверсал Пикчерз, Кикстарт Продакшнз, Марк Пл...                США   \n",
              "\n",
              "            director                                           producer  \\\n",
              "0      Кевин Костнер          Дэвид Валдес, Кевин Костнер, Джейк Эбертс   \n",
              "1          Е.Матвеев                                                NaN   \n",
              "2  Тимур Бекмамбетов  Джим Лемли, Джейсон Нетер, Марк Е.Платт, Яйн Смит   \n",
              "3  Тимур Бекмамбетов  Джим Лемли, Джейсон Нетер, Марк Е.Платт, Яйн Смит   \n",
              "4  Тимур Бекмамбетов  Джим Лемли, Джейсон Нетер, Марк Е.Платт, Яйн Смит   \n",
              "\n",
              "                 age_restriction  refundable_support  ...  budget  \\\n",
              "0    «18+» - запрещено для детей                 NaN  ...     NaN   \n",
              "1  «6+» - для детей старше 6 лет                 NaN  ...     NaN   \n",
              "2    «18+» - запрещено для детей                 NaN  ...     NaN   \n",
              "3    «18+» - запрещено для детей                 NaN  ...     NaN   \n",
              "4    «18+» - запрещено для детей                 NaN  ...     NaN   \n",
              "\n",
              "   financing_source ratings                     genres box_office  \\\n",
              "0           unknown    7.20     боевик,драма,мелодрама        NaN   \n",
              "1           unknown    6.60              драма,военный        NaN   \n",
              "2           unknown    6.80  фантастика,боевик,триллер        NaN   \n",
              "3           unknown    6.80  фантастика,боевик,триллер        NaN   \n",
              "4           unknown    6.80  фантастика,боевик,триллер        NaN   \n",
              "\n",
              "   year_release      main_director  main_genre part_support_%  film_support  \n",
              "0          2015      Кевин Костнер      боевик            NaN   support_off  \n",
              "1          2016          Е.Матвеев       драма            NaN   support_off  \n",
              "2          2016  Тимур Бекмамбетов  фантастика            NaN   support_off  \n",
              "3          2016  Тимур Бекмамбетов  фантастика            NaN   support_off  \n",
              "4          2015  Тимур Бекмамбетов  фантастика            NaN   support_off  \n",
              "\n",
              "[5 rows x 21 columns]"
            ]
          },
          "metadata": {},
          "output_type": "display_data"
        }
      ],
      "source": [
        "# создадим в data индикатор фильмов с господдержкой и без:\n",
        "def support(row):\n",
        "    financing_source = row['financing_source']\n",
        "    if financing_source != 'unknown':\n",
        "        return 'support_on' # фильмы с господдержкой\n",
        "    return 'support_off'    # фильмы без господдержки\n",
        "data['film_support'] = data.apply(support, axis = 1)\n",
        "display(data.head())"
      ]
    },
    {
      "cell_type": "code",
      "execution_count": null,
      "metadata": {
        "scrolled": true,
        "id": "xM_kozc2hiZl",
        "outputId": "fafa8962-cc12-4a37-94b8-a1a2576b65ac"
      },
      "outputs": [
        {
          "data": {
            "text/plain": [
              "film_support\n",
              "support_off   199,406,212,902.35\n",
              "support_on     42,113,509,574.78\n",
              "Name: box_office, dtype: float64"
            ]
          },
          "metadata": {},
          "output_type": "display_data"
        },
        {
          "data": {
            "text/plain": [
              "<AxesSubplot:title={'center':'Гистограмма кассовых сборов с гос. поддержкой и без неё'}, xlabel='Статус гос. поддержки', ylabel='Кассовые сборы'>"
            ]
          },
          "execution_count": 37,
          "metadata": {},
          "output_type": "execute_result"
        },
        {
          "data": {
            "image/png": "[encoded data removed]",
            "text/plain": [
              "<Figure size 1080x360 with 1 Axes>"
            ]
          },
          "metadata": {
            "needs_background": "light"
          },
          "output_type": "display_data"
        }
      ],
      "source": [
        "# сравним размер сборов с гос. поддержкой и без\n",
        "films_support_box_office_sum = data.groupby('film_support')['box_office'].sum()\n",
        "display(films_support_box_office_sum)\n",
        "films_support_box_office_sum.plot(kind='bar', title = 'Гистограмма кассовых сборов с гос. поддержкой и без неё', grid = True, xlabel = 'Статус гос. поддержки', ylabel = 'Кассовые сборы', figsize=(15, 5))"
      ]
    },
    {
      "cell_type": "markdown",
      "metadata": {
        "id": "S3yWSIdOhiZl"
      },
      "source": [
        "Логично, что кассовые сборы фильмов без гос. поддержки значительно превышают сборы фильмов без гос. поддержки, ведь фильмов с гос. поддержкой всего 1%."
      ]
    },
    {
      "cell_type": "code",
      "execution_count": null,
      "metadata": {
        "scrolled": true,
        "id": "X49kltHPhiZl",
        "outputId": "3b361716-0fc5-41b8-98d4-89e6e228218e"
      },
      "outputs": [
        {
          "data": {
            "text/html": [
              "<div>\n",
              "<style scoped>\n",
              "    .dataframe tbody tr th:only-of-type {\n",
              "        vertical-align: middle;\n",
              "    }\n",
              "\n",
              "    .dataframe tbody tr th {\n",
              "        vertical-align: top;\n",
              "    }\n",
              "\n",
              "    .dataframe thead th {\n",
              "        text-align: right;\n",
              "    }\n",
              "</style>\n",
              "<table border=\"1\" class=\"dataframe\">\n",
              "  <thead>\n",
              "    <tr style=\"text-align: right;\">\n",
              "      <th></th>\n",
              "      <th>film_support</th>\n",
              "      <th>mean</th>\n",
              "      <th>median</th>\n",
              "    </tr>\n",
              "  </thead>\n",
              "  <tbody>\n",
              "    <tr>\n",
              "      <th>0</th>\n",
              "      <td>support_off</td>\n",
              "      <td>70,213,455.25</td>\n",
              "      <td>1,964,822.25</td>\n",
              "    </tr>\n",
              "    <tr>\n",
              "      <th>1</th>\n",
              "      <td>support_on</td>\n",
              "      <td>132,432,420.05</td>\n",
              "      <td>15,720,067.71</td>\n",
              "    </tr>\n",
              "  </tbody>\n",
              "</table>\n",
              "</div>"
            ],
            "text/plain": [
              "  film_support           mean        median\n",
              "0  support_off  70,213,455.25  1,964,822.25\n",
              "1   support_on 132,432,420.05 15,720,067.71"
            ]
          },
          "metadata": {},
          "output_type": "display_data"
        },
        {
          "data": {
            "text/plain": [
              "<AxesSubplot:title={'center':'Гистограмма фильмов с гос. поддержкой и без неё'}, xlabel='Статус гос. поддержки', ylabel='Кассовые сборы'>"
            ]
          },
          "execution_count": 38,
          "metadata": {},
          "output_type": "execute_result"
        },
        {
          "data": {
            "image/png": "[encoded data removed]",
            "text/plain": [
              "<Figure size 1080x360 with 1 Axes>"
            ]
          },
          "metadata": {
            "needs_background": "light"
          },
          "output_type": "display_data"
        }
      ],
      "source": [
        "# сравним среднее и медиану сборов с гос. поддержкой и без\n",
        "films_support_box_office_mean_median = data.pivot_table(index = 'film_support', values = 'box_office', aggfunc = ('mean', 'median')).reset_index()\n",
        "display(films_support_box_office_mean_median)\n",
        "films_support_box_office_mean_median.plot(kind = 'bar', title = 'Гистограмма фильмов с гос. поддержкой и без неё', grid = True, xlabel = 'Статус гос. поддержки', ylabel = 'Кассовые сборы', figsize=(15, 5))"
      ]
    },
    {
      "cell_type": "markdown",
      "metadata": {
        "id": "5Rzu_3QwhiZm"
      },
      "source": [
        "Более интересная картина при сравнении медиан и среднего.  \n",
        "Фильмы с гос. поддержкой значительно опережают фильмы без гос. поддержки как по медианному значению кассовых сборов, так и по среднему значению."
      ]
    },
    {
      "cell_type": "code",
      "execution_count": null,
      "metadata": {
        "id": "yI93QW-ShiZm",
        "outputId": "a5953e4e-9d9a-4ccc-e023-6367ee8c00d1"
      },
      "outputs": [
        {
          "data": {
            "text/plain": [
              "'Рейтинг типов фильмов с гос. поддержкой по количеству'"
            ]
          },
          "metadata": {},
          "output_type": "display_data"
        },
        {
          "data": {
            "text/plain": [
              "type\n",
              "Художественный    300\n",
              "Анимационный       31\n",
              "Документальный      1\n",
              "Name: pu_number, dtype: int64"
            ]
          },
          "metadata": {},
          "output_type": "display_data"
        },
        {
          "data": {
            "text/plain": [
              "'Рейтинг типов фильмов с гос. поддержкой по деньгам'"
            ]
          },
          "metadata": {},
          "output_type": "display_data"
        },
        {
          "data": {
            "text/plain": [
              "type\n",
              "Художественный   17,627,198,847.00\n",
              "Анимационный      2,570,489,465.00\n",
              "Документальный        3,000,000.00\n",
              "Name: total_support, dtype: float64"
            ]
          },
          "metadata": {},
          "output_type": "display_data"
        },
        {
          "data": {
            "text/plain": [
              "'Рейтинг жанров фильмов с гос. поддержкой по количеству'"
            ]
          },
          "metadata": {},
          "output_type": "display_data"
        },
        {
          "data": {
            "text/plain": [
              "main_genre\n",
              "драма          93\n",
              "комедия        74\n",
              "мультфильм     31\n",
              "unknown        16\n",
              "триллер        15\n",
              "мелодрама      15\n",
              "фантастика     11\n",
              "фэнтези        11\n",
              "ужасы          10\n",
              "военный         9\n",
              "приключения     7\n",
              "семейный        7\n",
              "боевик          6\n",
              "детектив        5\n",
              "детский         4\n",
              "история         4\n",
              "мюзикл          4\n",
              "криминал        3\n",
              "биография       3\n",
              "спорт           3\n",
              "реальное ТВ     1\n",
              "Name: pu_number, dtype: int64"
            ]
          },
          "metadata": {},
          "output_type": "display_data"
        },
        {
          "data": {
            "text/plain": [
              "'Рейтинг типов фильмов с гос. поддержкой по деньгам'"
            ]
          },
          "metadata": {},
          "output_type": "display_data"
        },
        {
          "data": {
            "text/plain": [
              "main_genre\n",
              "драма         5,314,406,632.00\n",
              "комедия       3,218,282,945.00\n",
              "мультфильм    2,461,520,000.00\n",
              "фантастика    1,406,000,000.00\n",
              "фэнтези       1,032,900,000.00\n",
              "история       1,020,000,000.00\n",
              "триллер         769,645,285.00\n",
              "приключения     696,000,000.00\n",
              "unknown         688,969,465.00\n",
              "детектив        485,000,000.00\n",
              "спорт           455,000,000.00\n",
              "военный         422,000,866.00\n",
              "мелодрама       398,000,000.00\n",
              "ужасы           355,000,000.00\n",
              "семейный        339,000,000.00\n",
              "боевик          334,000,000.00\n",
              "криминал        280,000,000.00\n",
              "мюзикл          240,453,119.00\n",
              "детский         119,000,000.00\n",
              "биография       112,510,000.00\n",
              "реальное ТВ      53,000,000.00\n",
              "Name: total_support, dtype: float64"
            ]
          },
          "metadata": {},
          "output_type": "display_data"
        }
      ],
      "source": [
        "# посмотрим на какой тип фильма больше всего приходится гос. поддержка:\n",
        "data_support_type = data_support.groupby('type')['pu_number'].count().sort_values(ascending = False)\n",
        "display('Рейтинг типов фильмов с гос. поддержкой по количеству', data_support_type)\n",
        "data_support_type_total_support = data_support.groupby('type')['total_support'].sum().sort_values(ascending = False)\n",
        "display('Рейтинг типов фильмов с гос. поддержкой по деньгам', data_support_type_total_support)\n",
        "\n",
        "# посмотрим на какой жанр фильма больше всего приходится гос. поддержка:\n",
        "data_support_main_genre = data_support.groupby('main_genre')['pu_number'].count().sort_values(ascending = False)\n",
        "display('Рейтинг жанров фильмов с гос. поддержкой по количеству',data_support_main_genre)\n",
        "data_support_genre_total_support = data_support.groupby('main_genre')['total_support'].sum().sort_values(ascending = False)\n",
        "display('Рейтинг типов фильмов с гос. поддержкой по деньгам', data_support_genre_total_support)"
      ]
    },
    {
      "cell_type": "markdown",
      "metadata": {
        "id": "_ovUmwe2hiZn"
      },
      "source": [
        "Вывод:  \n",
        "Фильмы, получающие большую гос. поддержку, относятся к типу Художественный и жанру Драма и Комедия.  \n",
        "Это касается как количественных показателей, так и денежных."
      ]
    },
    {
      "cell_type": "code",
      "execution_count": null,
      "metadata": {
        "scrolled": false,
        "id": "iDXHz_y4hiZn",
        "outputId": "2f582a2a-50f8-499e-c506-2d5ac32057f1"
      },
      "outputs": [
        {
          "data": {
            "text/plain": [
              "age_restriction\n",
              "«0+» - для любой зрительской аудитории     273,520,000.00\n",
              "«12+» - для детей старше 12 лет          7,799,394,165.00\n",
              "«16+» - для детей старше 16 лет          5,569,053,319.00\n",
              "«18+» - запрещено для детей              1,012,346,881.00\n",
              "«6+» - для детей старше 6 лет            5,546,373,947.00\n",
              "Name: total_support, dtype: float64"
            ]
          },
          "metadata": {},
          "output_type": "display_data"
        },
        {
          "data": {
            "text/plain": [
              "<AxesSubplot:title={'center':'Зависимость возрастной категории и кассовых сборов'}, xlabel='Возрастная категория', ylabel='Кассовые сборы'>"
            ]
          },
          "execution_count": 40,
          "metadata": {},
          "output_type": "execute_result"
        },
        {
          "data": {
            "image/png": "[encoded data removed]",
            "text/plain": [
              "<Figure size 1080x360 with 1 Axes>"
            ]
          },
          "metadata": {
            "needs_background": "light"
          },
          "output_type": "display_data"
        },
        {
          "data": {
            "image/png": "[encoded data removed]",
            "text/plain": [
              "<Figure size 1080x360 with 1 Axes>"
            ]
          },
          "metadata": {
            "needs_background": "light"
          },
          "output_type": "display_data"
        }
      ],
      "source": [
        "# посмотрим на какую возрастную категорию выделяется больше денег из бюджета:\n",
        "data_support_age_restriction = data_support.groupby('age_restriction')['total_support'].sum()#.sort_values(ascending = False)\n",
        "display(data_support_age_restriction)\n",
        "data_support_age_restriction.plot(kind='bar', title = 'Зависимость возрастной категории и гос. поддержки', grid = True, figsize=(15, 5))\n",
        "age_restriction_fees.plot(kind='bar', title = 'Зависимость возрастной категории и кассовых сборов', style = 'o-', grid = True, xlabel = 'Возрастная категория', ylabel = 'Кассовые сборы', figsize=(15, 5))"
      ]
    },
    {
      "cell_type": "markdown",
      "metadata": {
        "id": "3jH4c8ObhiZn"
      },
      "source": [
        "Вывод: На возрастную категорию 12+ выделяется больше всего гос. поддержки. Но это не влияет на максимальные кассовые сборы.  \n",
        "Максимальные кассовые сборы у категории 16+."
      ]
    },
    {
      "cell_type": "code",
      "execution_count": null,
      "metadata": {
        "id": "nYBgLawwhiZo",
        "outputId": "22dd946f-94e1-4405-c7ab-7877d11776a8"
      },
      "outputs": [
        {
          "data": {
            "text/html": [
              "<div>\n",
              "<style scoped>\n",
              "    .dataframe tbody tr th:only-of-type {\n",
              "        vertical-align: middle;\n",
              "    }\n",
              "\n",
              "    .dataframe tbody tr th {\n",
              "        vertical-align: top;\n",
              "    }\n",
              "\n",
              "    .dataframe thead th {\n",
              "        text-align: right;\n",
              "    }\n",
              "</style>\n",
              "<table border=\"1\" class=\"dataframe\">\n",
              "  <thead>\n",
              "    <tr style=\"text-align: right;\">\n",
              "      <th></th>\n",
              "      <th>film_support</th>\n",
              "      <th>mean</th>\n",
              "      <th>median</th>\n",
              "    </tr>\n",
              "  </thead>\n",
              "  <tbody>\n",
              "    <tr>\n",
              "      <th>0</th>\n",
              "      <td>support_off</td>\n",
              "      <td>6.51</td>\n",
              "      <td>6.60</td>\n",
              "    </tr>\n",
              "    <tr>\n",
              "      <th>1</th>\n",
              "      <td>support_on</td>\n",
              "      <td>6.02</td>\n",
              "      <td>6.20</td>\n",
              "    </tr>\n",
              "  </tbody>\n",
              "</table>\n",
              "</div>"
            ],
            "text/plain": [
              "  film_support  mean  median\n",
              "0  support_off  6.51    6.60\n",
              "1   support_on  6.02    6.20"
            ]
          },
          "metadata": {},
          "output_type": "display_data"
        }
      ],
      "source": [
        "# посмотрим медианный реитинг на фильмы с гос. поддержкой и без нее:\n",
        "data = data[data['ratings'] != 'unknown']\n",
        "data['ratings'] = data['ratings'].astype(float)\n",
        "data_support_ratings = data.pivot_table(index = 'film_support', values = 'ratings', aggfunc = ('mean', 'median')).reset_index()\n",
        "display(data_support_ratings)"
      ]
    },
    {
      "cell_type": "markdown",
      "metadata": {
        "id": "wTI4ZxKbhiZo"
      },
      "source": [
        "Вывод: Гос. поддержка не оказывает положительное влияние на рейтинг фильма.  \n",
        "    Медиана рейтингов фильмов с гос. поддержкой 6,2.\n",
        "    Медиана рейтингов фильмов без гос. поддержки выше - 6,6.\n",
        "    Среднее практически совпадает с медианой."
      ]
    },
    {
      "cell_type": "code",
      "execution_count": null,
      "metadata": {
        "scrolled": true,
        "id": "u04Ko48FhiZp",
        "outputId": "abd3aea5-be20-4b42-b146-1922d23c8dcf"
      },
      "outputs": [
        {
          "data": {
            "text/html": [
              "<div>\n",
              "<style scoped>\n",
              "    .dataframe tbody tr th:only-of-type {\n",
              "        vertical-align: middle;\n",
              "    }\n",
              "\n",
              "    .dataframe tbody tr th {\n",
              "        vertical-align: top;\n",
              "    }\n",
              "\n",
              "    .dataframe thead th {\n",
              "        text-align: right;\n",
              "    }\n",
              "</style>\n",
              "<table border=\"1\" class=\"dataframe\">\n",
              "  <thead>\n",
              "    <tr style=\"text-align: right;\">\n",
              "      <th></th>\n",
              "      <th>box_office</th>\n",
              "    </tr>\n",
              "    <tr>\n",
              "      <th>type</th>\n",
              "      <th></th>\n",
              "    </tr>\n",
              "  </thead>\n",
              "  <tbody>\n",
              "    <tr>\n",
              "      <th>Художественный</th>\n",
              "      <td>192,757,621,104.99</td>\n",
              "    </tr>\n",
              "    <tr>\n",
              "      <th>Анимационный</th>\n",
              "      <td>39,462,840,753.07</td>\n",
              "    </tr>\n",
              "    <tr>\n",
              "      <th>Прочие</th>\n",
              "      <td>252,210,952.89</td>\n",
              "    </tr>\n",
              "    <tr>\n",
              "      <th>Документальный</th>\n",
              "      <td>50,253,728.20</td>\n",
              "    </tr>\n",
              "    <tr>\n",
              "      <th>Научно-популярный</th>\n",
              "      <td>25,657,603.50</td>\n",
              "    </tr>\n",
              "  </tbody>\n",
              "</table>\n",
              "</div>"
            ],
            "text/plain": [
              "                          box_office\n",
              "type                                \n",
              "Художественный    192,757,621,104.99\n",
              "Анимационный       39,462,840,753.07\n",
              "Прочие                252,210,952.89\n",
              "Документальный         50,253,728.20\n",
              "Научно-популярный      25,657,603.50"
            ]
          },
          "metadata": {},
          "output_type": "display_data"
        },
        {
          "data": {
            "text/plain": [
              "<AxesSubplot:title={'center':'Сумма кассовых сборов по типу'}, xlabel='type'>"
            ]
          },
          "execution_count": 42,
          "metadata": {},
          "output_type": "execute_result"
        },
        {
          "data": {
            "image/png": "[encoded data removed]",
            "text/plain": [
              "<Figure size 1080x360 with 1 Axes>"
            ]
          },
          "metadata": {
            "needs_background": "light"
          },
          "output_type": "display_data"
        }
      ],
      "source": [
        "# проанализируем на какой тип приходится больше всего кассовых сборов:\n",
        "data_type_box_office = data.pivot_table(index = ['type'], values = 'box_office', aggfunc = ('sum')).sort_values(by = 'box_office', ascending = False)\n",
        "display(data_type_box_office.head())\n",
        "data_type_box_office.plot(kind='bar', title = 'Сумма кассовых сборов по типу', grid = True, figsize=(15, 5))"
      ]
    },
    {
      "cell_type": "markdown",
      "metadata": {
        "id": "meu4hxiFhiZp"
      },
      "source": [
        "Максимальное количество сборов приходится на тип фильмов Художественный."
      ]
    },
    {
      "cell_type": "markdown",
      "metadata": {
        "id": "V2gYwMcPgFyd"
      },
      "source": [
        "### 5. Общий вывод"
      ]
    },
    {
      "cell_type": "markdown",
      "metadata": {
        "id": "byLcfrTnhiZq"
      },
      "source": [
        "От Министерства культуры Российской Федерации было получено задание изучить рынок российского кинопроката и выявить текущие тренды.  \n",
        "  \n",
        "  \n",
        "В качестве исходных данных предоставлен набор данных с 2010 по 2019 год, который содержал информацию о прокатных удостоверениях, сборах и государственной поддержке фильмов, а также информацию с сайта КиноПоиск.  \n",
        "\n",
        "Результаты анализа следующие:  \n",
        "1. Наибольшее количество фильмов вышло в 2010 году, наименьшее в 2017. После 2017 года виден положительный тренд в количестве ежегодно выходящих фильмов.  \n",
        "2. С 2010 по 2018 год сумма кассовых сборов только росла. Но с 2019 года виден тренд на снижение кассовых сборов.  \n",
        "3. В среднем за все исследуемые годы максимальные кассовые сборы у категории 16+, у категории 0+ минимальные.  \n",
        "4. В 2015 году максимальное количество кассовых сборов было у категории 12+, с 2016 по 2018 у категории 16+, в 2019 году сумма сборов по категориям 6+, 12+, 16+ была наибольшей и выровнялась. Категория 0+ каждый год стабильно собирает наименьшее количество кассовых сборов.  \n",
        "5. Общая доля фильмов с гос. поддержкой составляет 1% от общего количества.\n",
        "6. Тем не менее медиана фильмов с гос. поддержкой выше на 88%, и среднее значение кассовых сборов фильмов с гос. поддержкой выше на 45%.\n",
        "7. На тип художественный и жанр драма и комедия приходится большая часть гос. поддержки.\n",
        "8. Больше всего выделяется гос. поддержки на категорию 12+. Но максимальные сборы у фильмов с гос. поддержкой у категории 16+.\n",
        "9. Медианный рейтинг выше на 6% у фильмов без гос. поддержки.  \n",
        "10. Максимальное количество кассовых сборов приходится на тип Художественный.\n",
        "\n",
        "Общий вывод и рекоммендации:  \n",
        "1. В целом наибольшее выделение гос. поддержки на тип фильма Художественный оправдано. Этот тип собирает наибольшее колличество кассовых сборов в денежном выражении.\n",
        "2. Анализ показал,что медианные колличества кассовых сборов в денежном выражении фильмов с гос. поддержкой значительно превышают сборы без поддержки. Тем не менее можно повысить этот показатель за счет выделения средств в категорию 16+. Именно у этой категории самые высокие кассовые сборы."
      ]
    }
  ],
  "metadata": {
    "ExecuteTimeLog": [
      {
        "duration": 537,
        "start_time": "2021-07-07T10:12:08.634Z"
      },
      {
        "duration": 206,
        "start_time": "2021-07-07T10:12:30.191Z"
      },
      {
        "duration": 227,
        "start_time": "2021-07-07T10:12:33.078Z"
      },
      {
        "duration": 153,
        "start_time": "2021-07-07T10:13:42.146Z"
      },
      {
        "duration": 233,
        "start_time": "2021-07-07T10:30:09.252Z"
      },
      {
        "duration": 19,
        "start_time": "2021-07-07T10:30:15.577Z"
      },
      {
        "duration": 18,
        "start_time": "2021-07-07T10:30:57.348Z"
      },
      {
        "duration": 19,
        "start_time": "2021-07-07T10:31:17.452Z"
      },
      {
        "duration": 21,
        "start_time": "2021-07-07T10:31:32.227Z"
      },
      {
        "duration": 27,
        "start_time": "2021-07-07T10:32:06.588Z"
      },
      {
        "duration": 23,
        "start_time": "2021-07-07T10:32:43.645Z"
      },
      {
        "duration": 24,
        "start_time": "2021-07-07T10:33:06.948Z"
      },
      {
        "duration": 7,
        "start_time": "2021-07-07T10:33:28.558Z"
      },
      {
        "duration": 23,
        "start_time": "2021-07-07T10:33:43.761Z"
      },
      {
        "duration": 28,
        "start_time": "2021-07-07T10:34:13.466Z"
      },
      {
        "duration": 23,
        "start_time": "2021-07-07T10:35:56.187Z"
      },
      {
        "duration": 6,
        "start_time": "2021-07-07T10:36:48.182Z"
      },
      {
        "duration": 14,
        "start_time": "2021-07-07T10:37:49.641Z"
      },
      {
        "duration": 6,
        "start_time": "2021-07-07T10:38:06.694Z"
      },
      {
        "duration": 6,
        "start_time": "2021-07-07T10:38:13.493Z"
      },
      {
        "duration": 19,
        "start_time": "2021-07-07T10:38:44.056Z"
      },
      {
        "duration": 186,
        "start_time": "2021-07-07T10:48:35.618Z"
      },
      {
        "duration": 24,
        "start_time": "2021-07-07T10:48:51.498Z"
      },
      {
        "duration": 20,
        "start_time": "2021-07-07T10:48:59.415Z"
      },
      {
        "duration": 20,
        "start_time": "2021-07-07T10:53:02.195Z"
      },
      {
        "duration": 188,
        "start_time": "2021-07-07T10:54:40.486Z"
      },
      {
        "duration": 115,
        "start_time": "2021-07-07T10:54:52.552Z"
      },
      {
        "duration": 214,
        "start_time": "2021-07-07T10:54:56.354Z"
      },
      {
        "duration": 47,
        "start_time": "2021-07-07T10:54:58.282Z"
      },
      {
        "duration": 217,
        "start_time": "2021-07-07T10:59:16.075Z"
      },
      {
        "duration": 51,
        "start_time": "2021-07-07T10:59:16.243Z"
      },
      {
        "duration": 578,
        "start_time": "2021-07-07T10:59:18.774Z"
      },
      {
        "duration": 161,
        "start_time": "2021-07-07T10:59:21.238Z"
      },
      {
        "duration": 59,
        "start_time": "2021-07-07T10:59:21.453Z"
      },
      {
        "duration": 3,
        "start_time": "2021-07-07T11:02:10.786Z"
      },
      {
        "duration": 13,
        "start_time": "2021-07-07T11:07:07.722Z"
      },
      {
        "duration": 26,
        "start_time": "2021-07-07T11:07:17.958Z"
      },
      {
        "duration": 22,
        "start_time": "2021-07-07T11:08:17.939Z"
      },
      {
        "duration": 212,
        "start_time": "2021-07-07T11:08:19.665Z"
      },
      {
        "duration": 21,
        "start_time": "2021-07-07T11:08:29.945Z"
      },
      {
        "duration": 31,
        "start_time": "2021-07-07T11:08:38.899Z"
      },
      {
        "duration": 23,
        "start_time": "2021-07-07T11:08:54.527Z"
      },
      {
        "duration": 8,
        "start_time": "2021-07-07T11:18:55.974Z"
      },
      {
        "duration": 7,
        "start_time": "2021-07-07T11:19:03.639Z"
      },
      {
        "duration": 7,
        "start_time": "2021-07-07T11:19:06.444Z"
      },
      {
        "duration": 578,
        "start_time": "2021-07-07T12:09:59.576Z"
      },
      {
        "duration": 195,
        "start_time": "2021-07-07T12:10:00.156Z"
      },
      {
        "duration": 115,
        "start_time": "2021-07-07T12:10:00.353Z"
      },
      {
        "duration": 3,
        "start_time": "2021-07-07T12:10:00.470Z"
      },
      {
        "duration": 32,
        "start_time": "2021-07-07T12:10:00.474Z"
      },
      {
        "duration": 23,
        "start_time": "2021-07-07T12:10:00.508Z"
      },
      {
        "duration": 19,
        "start_time": "2021-07-07T12:10:00.533Z"
      },
      {
        "duration": 44,
        "start_time": "2021-07-07T12:10:00.553Z"
      },
      {
        "duration": 7,
        "start_time": "2021-07-07T12:10:00.600Z"
      },
      {
        "duration": 7,
        "start_time": "2021-07-07T12:19:45.761Z"
      },
      {
        "duration": 21,
        "start_time": "2021-07-07T12:21:35.482Z"
      },
      {
        "duration": 21,
        "start_time": "2021-07-07T12:29:23.569Z"
      },
      {
        "duration": 525,
        "start_time": "2021-07-07T12:29:44.542Z"
      },
      {
        "duration": 214,
        "start_time": "2021-07-07T12:29:45.069Z"
      },
      {
        "duration": 92,
        "start_time": "2021-07-07T12:29:45.285Z"
      },
      {
        "duration": 3,
        "start_time": "2021-07-07T12:29:45.379Z"
      },
      {
        "duration": 28,
        "start_time": "2021-07-07T12:29:45.384Z"
      },
      {
        "duration": 23,
        "start_time": "2021-07-07T12:29:45.413Z"
      },
      {
        "duration": 21,
        "start_time": "2021-07-07T12:29:45.437Z"
      },
      {
        "duration": 41,
        "start_time": "2021-07-07T12:29:45.460Z"
      },
      {
        "duration": 7,
        "start_time": "2021-07-07T12:29:45.502Z"
      },
      {
        "duration": 20,
        "start_time": "2021-07-07T12:29:45.511Z"
      },
      {
        "duration": 12,
        "start_time": "2021-07-07T12:34:02.800Z"
      },
      {
        "duration": 7,
        "start_time": "2021-07-07T12:35:10.479Z"
      },
      {
        "duration": 8,
        "start_time": "2021-07-07T12:35:22.440Z"
      },
      {
        "duration": 6,
        "start_time": "2021-07-07T12:35:35.649Z"
      },
      {
        "duration": 6,
        "start_time": "2021-07-07T12:35:43.107Z"
      },
      {
        "duration": 22,
        "start_time": "2021-07-07T12:38:03.029Z"
      },
      {
        "duration": 10,
        "start_time": "2021-07-07T12:38:06.592Z"
      },
      {
        "duration": 563,
        "start_time": "2021-07-07T12:38:46.493Z"
      },
      {
        "duration": 265,
        "start_time": "2021-07-07T12:38:47.058Z"
      },
      {
        "duration": 94,
        "start_time": "2021-07-07T12:38:47.325Z"
      },
      {
        "duration": 3,
        "start_time": "2021-07-07T12:38:47.422Z"
      },
      {
        "duration": 30,
        "start_time": "2021-07-07T12:38:47.427Z"
      },
      {
        "duration": 16,
        "start_time": "2021-07-07T12:38:53.305Z"
      },
      {
        "duration": 10,
        "start_time": "2021-07-07T12:38:53.499Z"
      },
      {
        "duration": 8,
        "start_time": "2021-07-07T12:39:48.161Z"
      },
      {
        "duration": 27,
        "start_time": "2021-07-07T12:41:17.629Z"
      },
      {
        "duration": 17,
        "start_time": "2021-07-07T12:41:17.867Z"
      },
      {
        "duration": 21,
        "start_time": "2021-07-07T12:41:19.310Z"
      },
      {
        "duration": 7,
        "start_time": "2021-07-07T12:41:19.544Z"
      },
      {
        "duration": 20,
        "start_time": "2021-07-07T12:41:20.504Z"
      },
      {
        "duration": 554,
        "start_time": "2021-07-07T12:56:23.696Z"
      },
      {
        "duration": 200,
        "start_time": "2021-07-07T12:56:25.234Z"
      },
      {
        "duration": 119,
        "start_time": "2021-07-07T12:56:25.480Z"
      },
      {
        "duration": 4,
        "start_time": "2021-07-07T12:56:25.762Z"
      },
      {
        "duration": 26,
        "start_time": "2021-07-07T12:56:27.172Z"
      },
      {
        "duration": 12,
        "start_time": "2021-07-07T12:56:29.051Z"
      },
      {
        "duration": 10,
        "start_time": "2021-07-07T12:56:29.291Z"
      },
      {
        "duration": 8,
        "start_time": "2021-07-07T12:56:29.623Z"
      },
      {
        "duration": 28,
        "start_time": "2021-07-07T12:56:32.137Z"
      },
      {
        "duration": 19,
        "start_time": "2021-07-07T12:56:39.785Z"
      },
      {
        "duration": 20,
        "start_time": "2021-07-07T12:56:44.297Z"
      },
      {
        "duration": 7,
        "start_time": "2021-07-07T12:56:45.392Z"
      },
      {
        "duration": 23,
        "start_time": "2021-07-07T12:56:46.615Z"
      },
      {
        "duration": 4,
        "start_time": "2021-07-07T12:57:06.625Z"
      },
      {
        "duration": 32,
        "start_time": "2021-07-07T12:57:36.690Z"
      },
      {
        "duration": 18,
        "start_time": "2021-07-07T12:58:00.149Z"
      },
      {
        "duration": 15,
        "start_time": "2021-07-07T12:59:16.793Z"
      },
      {
        "duration": 7,
        "start_time": "2021-07-07T13:19:22.624Z"
      },
      {
        "duration": 6,
        "start_time": "2021-07-07T14:17:33.527Z"
      },
      {
        "duration": 9,
        "start_time": "2021-07-07T14:17:48.409Z"
      },
      {
        "duration": 8,
        "start_time": "2021-07-07T14:20:13.060Z"
      },
      {
        "duration": 8,
        "start_time": "2021-07-07T14:20:37.957Z"
      },
      {
        "duration": 8,
        "start_time": "2021-07-07T14:20:47.470Z"
      },
      {
        "duration": 9,
        "start_time": "2021-07-07T14:20:54.503Z"
      },
      {
        "duration": 10,
        "start_time": "2021-07-07T14:28:57.763Z"
      },
      {
        "duration": 3,
        "start_time": "2021-07-07T14:30:23.377Z"
      },
      {
        "duration": 3,
        "start_time": "2021-07-07T14:30:36.489Z"
      },
      {
        "duration": 103,
        "start_time": "2021-07-07T14:30:52.351Z"
      },
      {
        "duration": 8,
        "start_time": "2021-07-07T14:30:54.763Z"
      },
      {
        "duration": 8,
        "start_time": "2021-07-07T14:31:29.301Z"
      },
      {
        "duration": 13,
        "start_time": "2021-07-07T14:31:44.516Z"
      },
      {
        "duration": 7,
        "start_time": "2021-07-07T14:33:10.972Z"
      },
      {
        "duration": 11,
        "start_time": "2021-07-07T14:33:27.780Z"
      },
      {
        "duration": 8,
        "start_time": "2021-07-07T14:34:44.588Z"
      },
      {
        "duration": 57,
        "start_time": "2021-07-07T14:35:59.042Z"
      },
      {
        "duration": 3,
        "start_time": "2021-07-07T14:36:28.168Z"
      },
      {
        "duration": 5,
        "start_time": "2021-07-07T14:36:46.254Z"
      },
      {
        "duration": 4,
        "start_time": "2021-07-07T14:36:52.714Z"
      },
      {
        "duration": 3,
        "start_time": "2021-07-07T14:36:56.612Z"
      },
      {
        "duration": 4,
        "start_time": "2021-07-07T14:36:57.049Z"
      },
      {
        "duration": 3,
        "start_time": "2021-07-07T14:39:21.214Z"
      },
      {
        "duration": 7,
        "start_time": "2021-07-07T14:39:52.406Z"
      },
      {
        "duration": 11,
        "start_time": "2021-07-07T14:39:58.576Z"
      },
      {
        "duration": 9,
        "start_time": "2021-07-07T14:40:26.301Z"
      },
      {
        "duration": 10,
        "start_time": "2021-07-07T14:40:31.704Z"
      },
      {
        "duration": 11,
        "start_time": "2021-07-07T14:40:36.249Z"
      },
      {
        "duration": 10,
        "start_time": "2021-07-07T14:40:39.783Z"
      },
      {
        "duration": 9,
        "start_time": "2021-07-07T14:40:48.558Z"
      },
      {
        "duration": 10,
        "start_time": "2021-07-07T14:40:57.143Z"
      },
      {
        "duration": 9,
        "start_time": "2021-07-07T14:41:06.074Z"
      },
      {
        "duration": 4324,
        "start_time": "2021-07-07T14:41:22.004Z"
      },
      {
        "duration": 11,
        "start_time": "2021-07-07T14:41:33.392Z"
      },
      {
        "duration": 9,
        "start_time": "2021-07-07T14:41:39.288Z"
      },
      {
        "duration": 569,
        "start_time": "2021-07-07T14:42:14.387Z"
      },
      {
        "duration": 197,
        "start_time": "2021-07-07T14:42:14.959Z"
      },
      {
        "duration": 84,
        "start_time": "2021-07-07T14:42:16.052Z"
      },
      {
        "duration": 4,
        "start_time": "2021-07-07T14:42:16.900Z"
      },
      {
        "duration": 27,
        "start_time": "2021-07-07T14:42:19.898Z"
      },
      {
        "duration": 12,
        "start_time": "2021-07-07T14:42:21.577Z"
      },
      {
        "duration": 9,
        "start_time": "2021-07-07T14:42:21.813Z"
      },
      {
        "duration": 9,
        "start_time": "2021-07-07T14:42:22.569Z"
      },
      {
        "duration": 29,
        "start_time": "2021-07-07T14:42:25.837Z"
      },
      {
        "duration": 20,
        "start_time": "2021-07-07T14:42:27.003Z"
      },
      {
        "duration": 21,
        "start_time": "2021-07-07T14:42:28.767Z"
      },
      {
        "duration": 7,
        "start_time": "2021-07-07T14:42:29.838Z"
      },
      {
        "duration": 4,
        "start_time": "2021-07-07T14:43:25.493Z"
      },
      {
        "duration": 7,
        "start_time": "2021-07-07T14:43:26.573Z"
      },
      {
        "duration": 10,
        "start_time": "2021-07-07T14:43:31.639Z"
      },
      {
        "duration": 9,
        "start_time": "2021-07-07T14:43:32.046Z"
      },
      {
        "duration": 10,
        "start_time": "2021-07-07T14:43:33.301Z"
      },
      {
        "duration": 12,
        "start_time": "2021-07-07T14:43:33.658Z"
      },
      {
        "duration": 8,
        "start_time": "2021-07-07T14:43:34.552Z"
      },
      {
        "duration": 9,
        "start_time": "2021-07-07T14:43:35.058Z"
      },
      {
        "duration": 12,
        "start_time": "2021-07-07T14:43:35.914Z"
      },
      {
        "duration": 17,
        "start_time": "2021-07-07T14:45:34.368Z"
      },
      {
        "duration": 512,
        "start_time": "2021-07-07T14:51:58.236Z"
      },
      {
        "duration": 223,
        "start_time": "2021-07-07T14:51:58.750Z"
      },
      {
        "duration": 93,
        "start_time": "2021-07-07T14:51:58.977Z"
      },
      {
        "duration": 4,
        "start_time": "2021-07-07T14:51:59.071Z"
      },
      {
        "duration": 37,
        "start_time": "2021-07-07T14:51:59.077Z"
      },
      {
        "duration": 18,
        "start_time": "2021-07-07T14:51:59.116Z"
      },
      {
        "duration": 10,
        "start_time": "2021-07-07T14:51:59.137Z"
      },
      {
        "duration": 8,
        "start_time": "2021-07-07T14:51:59.149Z"
      },
      {
        "duration": 54,
        "start_time": "2021-07-07T14:51:59.158Z"
      },
      {
        "duration": 18,
        "start_time": "2021-07-07T14:51:59.213Z"
      },
      {
        "duration": 22,
        "start_time": "2021-07-07T14:51:59.232Z"
      },
      {
        "duration": 36,
        "start_time": "2021-07-07T14:51:59.255Z"
      },
      {
        "duration": 7,
        "start_time": "2021-07-07T14:51:59.293Z"
      },
      {
        "duration": 10,
        "start_time": "2021-07-07T14:51:59.302Z"
      },
      {
        "duration": 9,
        "start_time": "2021-07-07T14:51:59.313Z"
      },
      {
        "duration": 11,
        "start_time": "2021-07-07T14:51:59.324Z"
      },
      {
        "duration": 8,
        "start_time": "2021-07-07T14:51:59.337Z"
      },
      {
        "duration": 46,
        "start_time": "2021-07-07T14:51:59.347Z"
      },
      {
        "duration": 22,
        "start_time": "2021-07-07T14:51:59.395Z"
      },
      {
        "duration": 24,
        "start_time": "2021-07-07T14:57:32.911Z"
      },
      {
        "duration": 7,
        "start_time": "2021-07-07T14:58:22.070Z"
      },
      {
        "duration": 4,
        "start_time": "2021-07-07T14:59:11.239Z"
      },
      {
        "duration": 25,
        "start_time": "2021-07-07T15:07:22.208Z"
      },
      {
        "duration": 16,
        "start_time": "2021-07-07T15:08:25.560Z"
      },
      {
        "duration": 15,
        "start_time": "2021-07-07T15:08:40.647Z"
      },
      {
        "duration": 14,
        "start_time": "2021-07-07T15:08:46.669Z"
      },
      {
        "duration": 533,
        "start_time": "2021-07-07T15:18:07.440Z"
      },
      {
        "duration": 173,
        "start_time": "2021-07-07T15:18:07.974Z"
      },
      {
        "duration": 84,
        "start_time": "2021-07-07T15:18:08.149Z"
      },
      {
        "duration": 3,
        "start_time": "2021-07-07T15:18:08.235Z"
      },
      {
        "duration": 30,
        "start_time": "2021-07-07T15:18:08.240Z"
      },
      {
        "duration": 22,
        "start_time": "2021-07-07T15:18:08.272Z"
      },
      {
        "duration": 11,
        "start_time": "2021-07-07T15:18:08.295Z"
      },
      {
        "duration": 11,
        "start_time": "2021-07-07T15:18:08.309Z"
      },
      {
        "duration": 40,
        "start_time": "2021-07-07T15:18:08.322Z"
      },
      {
        "duration": 42,
        "start_time": "2021-07-07T15:18:08.364Z"
      },
      {
        "duration": 22,
        "start_time": "2021-07-07T15:18:08.408Z"
      },
      {
        "duration": 5,
        "start_time": "2021-07-07T15:18:08.432Z"
      },
      {
        "duration": 13,
        "start_time": "2021-07-07T15:18:08.439Z"
      },
      {
        "duration": 9,
        "start_time": "2021-07-07T15:18:08.454Z"
      },
      {
        "duration": 32,
        "start_time": "2021-07-07T15:18:08.465Z"
      },
      {
        "duration": 10,
        "start_time": "2021-07-07T15:18:08.501Z"
      },
      {
        "duration": 7,
        "start_time": "2021-07-07T15:18:08.513Z"
      },
      {
        "duration": 11,
        "start_time": "2021-07-07T15:18:08.521Z"
      },
      {
        "duration": 17,
        "start_time": "2021-07-07T15:18:08.534Z"
      },
      {
        "duration": 44,
        "start_time": "2021-07-07T15:18:08.553Z"
      },
      {
        "duration": 22,
        "start_time": "2021-07-07T15:18:08.599Z"
      },
      {
        "duration": 61,
        "start_time": "2021-07-07T15:18:08.622Z"
      },
      {
        "duration": 7,
        "start_time": "2021-07-07T15:18:39.457Z"
      },
      {
        "duration": 5,
        "start_time": "2021-07-07T16:05:17.020Z"
      },
      {
        "duration": 5,
        "start_time": "2021-07-07T16:51:28.794Z"
      },
      {
        "duration": 546,
        "start_time": "2021-07-07T16:52:26.306Z"
      },
      {
        "duration": 203,
        "start_time": "2021-07-07T16:52:27.523Z"
      },
      {
        "duration": 85,
        "start_time": "2021-07-07T16:52:27.736Z"
      },
      {
        "duration": 4,
        "start_time": "2021-07-07T16:52:27.899Z"
      },
      {
        "duration": 25,
        "start_time": "2021-07-07T16:52:28.674Z"
      },
      {
        "duration": 8,
        "start_time": "2021-07-07T16:52:32.956Z"
      },
      {
        "duration": 18,
        "start_time": "2021-07-07T16:52:35.616Z"
      },
      {
        "duration": 6,
        "start_time": "2021-07-07T16:52:36.913Z"
      },
      {
        "duration": 11,
        "start_time": "2021-07-07T16:52:40.258Z"
      },
      {
        "duration": 10,
        "start_time": "2021-07-07T16:52:46.251Z"
      },
      {
        "duration": 8,
        "start_time": "2021-07-07T16:52:47.182Z"
      },
      {
        "duration": 27,
        "start_time": "2021-07-07T16:53:20.391Z"
      },
      {
        "duration": 20,
        "start_time": "2021-07-07T16:53:22.022Z"
      },
      {
        "duration": 23,
        "start_time": "2021-07-07T16:53:23.690Z"
      },
      {
        "duration": 8,
        "start_time": "2021-07-07T16:53:24.261Z"
      },
      {
        "duration": 4,
        "start_time": "2021-07-07T16:53:38.733Z"
      },
      {
        "duration": 7,
        "start_time": "2021-07-07T16:53:40.445Z"
      },
      {
        "duration": 11,
        "start_time": "2021-07-07T16:53:41.348Z"
      },
      {
        "duration": 13,
        "start_time": "2021-07-07T16:53:45.250Z"
      },
      {
        "duration": 12,
        "start_time": "2021-07-07T16:53:45.467Z"
      },
      {
        "duration": 4,
        "start_time": "2021-07-07T16:55:32.704Z"
      },
      {
        "duration": 12,
        "start_time": "2021-07-07T16:55:49.012Z"
      },
      {
        "duration": 18,
        "start_time": "2021-07-07T16:55:49.547Z"
      },
      {
        "duration": 611,
        "start_time": "2021-07-07T16:58:35.156Z"
      },
      {
        "duration": 200,
        "start_time": "2021-07-07T16:58:35.770Z"
      },
      {
        "duration": 86,
        "start_time": "2021-07-07T16:58:35.972Z"
      },
      {
        "duration": 3,
        "start_time": "2021-07-07T16:58:36.060Z"
      },
      {
        "duration": 27,
        "start_time": "2021-07-07T16:58:36.065Z"
      },
      {
        "duration": 8,
        "start_time": "2021-07-07T16:58:36.094Z"
      },
      {
        "duration": 17,
        "start_time": "2021-07-07T16:58:36.103Z"
      },
      {
        "duration": 5,
        "start_time": "2021-07-07T16:58:36.123Z"
      },
      {
        "duration": 11,
        "start_time": "2021-07-07T16:58:36.130Z"
      },
      {
        "duration": 7,
        "start_time": "2021-07-07T16:58:36.143Z"
      },
      {
        "duration": 37,
        "start_time": "2021-07-07T16:58:36.152Z"
      },
      {
        "duration": 27,
        "start_time": "2021-07-07T16:58:36.191Z"
      },
      {
        "duration": 19,
        "start_time": "2021-07-07T16:58:36.219Z"
      },
      {
        "duration": 49,
        "start_time": "2021-07-07T16:58:36.240Z"
      },
      {
        "duration": 6,
        "start_time": "2021-07-07T16:58:36.291Z"
      },
      {
        "duration": 3,
        "start_time": "2021-07-07T16:58:36.299Z"
      },
      {
        "duration": 13,
        "start_time": "2021-07-07T16:58:36.304Z"
      },
      {
        "duration": 10,
        "start_time": "2021-07-07T16:58:36.319Z"
      },
      {
        "duration": 10,
        "start_time": "2021-07-07T16:58:36.331Z"
      },
      {
        "duration": 44,
        "start_time": "2021-07-07T16:58:36.343Z"
      },
      {
        "duration": 4,
        "start_time": "2021-07-07T16:58:36.388Z"
      },
      {
        "duration": 13,
        "start_time": "2021-07-07T16:58:36.394Z"
      },
      {
        "duration": 16,
        "start_time": "2021-07-07T16:58:36.410Z"
      },
      {
        "duration": 8,
        "start_time": "2021-07-07T17:02:31.629Z"
      },
      {
        "duration": 8,
        "start_time": "2021-07-07T17:02:34.308Z"
      },
      {
        "duration": 6,
        "start_time": "2021-07-07T17:05:13.483Z"
      },
      {
        "duration": 17,
        "start_time": "2021-07-07T17:05:20.606Z"
      },
      {
        "duration": 7,
        "start_time": "2021-07-07T17:05:34.638Z"
      },
      {
        "duration": 3,
        "start_time": "2021-07-07T17:06:31.883Z"
      },
      {
        "duration": 570,
        "start_time": "2021-07-07T17:06:37.165Z"
      },
      {
        "duration": 174,
        "start_time": "2021-07-07T17:06:37.737Z"
      },
      {
        "duration": 47,
        "start_time": "2021-07-07T17:06:37.913Z"
      },
      {
        "duration": 3,
        "start_time": "2021-07-07T17:06:37.962Z"
      },
      {
        "duration": 27,
        "start_time": "2021-07-07T17:06:37.967Z"
      },
      {
        "duration": 7,
        "start_time": "2021-07-07T17:06:37.996Z"
      },
      {
        "duration": 16,
        "start_time": "2021-07-07T17:06:38.005Z"
      },
      {
        "duration": 6,
        "start_time": "2021-07-07T17:06:38.024Z"
      },
      {
        "duration": 12,
        "start_time": "2021-07-07T17:06:38.031Z"
      },
      {
        "duration": 41,
        "start_time": "2021-07-07T17:06:38.045Z"
      },
      {
        "duration": 8,
        "start_time": "2021-07-07T17:06:38.088Z"
      },
      {
        "duration": 26,
        "start_time": "2021-07-07T17:06:38.098Z"
      },
      {
        "duration": 17,
        "start_time": "2021-07-07T17:06:38.126Z"
      },
      {
        "duration": 43,
        "start_time": "2021-07-07T17:06:38.144Z"
      },
      {
        "duration": 6,
        "start_time": "2021-07-07T17:06:38.188Z"
      },
      {
        "duration": 5,
        "start_time": "2021-07-07T17:06:38.195Z"
      },
      {
        "duration": 9,
        "start_time": "2021-07-07T17:06:38.201Z"
      },
      {
        "duration": 12,
        "start_time": "2021-07-07T17:06:38.212Z"
      },
      {
        "duration": 11,
        "start_time": "2021-07-07T17:06:38.226Z"
      },
      {
        "duration": 47,
        "start_time": "2021-07-07T17:06:38.239Z"
      },
      {
        "duration": 4,
        "start_time": "2021-07-07T17:06:38.288Z"
      },
      {
        "duration": 13,
        "start_time": "2021-07-07T17:06:38.293Z"
      },
      {
        "duration": 5,
        "start_time": "2021-07-07T17:06:38.309Z"
      },
      {
        "duration": 18,
        "start_time": "2021-07-07T17:06:38.325Z"
      },
      {
        "duration": 20,
        "start_time": "2021-07-07T17:07:02.805Z"
      },
      {
        "duration": 19,
        "start_time": "2021-07-07T17:07:08.527Z"
      },
      {
        "duration": 19,
        "start_time": "2021-07-07T17:07:12.758Z"
      },
      {
        "duration": 22,
        "start_time": "2021-07-07T17:07:17.497Z"
      },
      {
        "duration": 19,
        "start_time": "2021-07-07T17:07:19.645Z"
      },
      {
        "duration": 10,
        "start_time": "2021-07-07T17:07:34.239Z"
      },
      {
        "duration": 17,
        "start_time": "2021-07-07T17:07:54.144Z"
      },
      {
        "duration": 14,
        "start_time": "2021-07-07T17:08:14.357Z"
      },
      {
        "duration": 616,
        "start_time": "2021-07-07T17:08:45.254Z"
      },
      {
        "duration": 178,
        "start_time": "2021-07-07T17:08:45.872Z"
      },
      {
        "duration": 60,
        "start_time": "2021-07-07T17:08:46.054Z"
      },
      {
        "duration": 3,
        "start_time": "2021-07-07T17:08:46.116Z"
      },
      {
        "duration": 26,
        "start_time": "2021-07-07T17:08:46.121Z"
      },
      {
        "duration": 7,
        "start_time": "2021-07-07T17:08:46.149Z"
      },
      {
        "duration": 17,
        "start_time": "2021-07-07T17:08:46.158Z"
      },
      {
        "duration": 14,
        "start_time": "2021-07-07T17:08:46.176Z"
      },
      {
        "duration": 17,
        "start_time": "2021-07-07T17:08:46.193Z"
      },
      {
        "duration": 9,
        "start_time": "2021-07-07T17:08:46.211Z"
      },
      {
        "duration": 21,
        "start_time": "2021-07-07T17:08:46.221Z"
      },
      {
        "duration": 49,
        "start_time": "2021-07-07T17:08:46.244Z"
      },
      {
        "duration": 24,
        "start_time": "2021-07-07T17:08:46.295Z"
      },
      {
        "duration": 22,
        "start_time": "2021-07-07T17:08:46.321Z"
      },
      {
        "duration": 6,
        "start_time": "2021-07-07T17:08:46.345Z"
      },
      {
        "duration": 5,
        "start_time": "2021-07-07T17:08:46.353Z"
      },
      {
        "duration": 13,
        "start_time": "2021-07-07T17:08:46.386Z"
      },
      {
        "duration": 12,
        "start_time": "2021-07-07T17:08:46.402Z"
      },
      {
        "duration": 10,
        "start_time": "2021-07-07T17:08:46.415Z"
      },
      {
        "duration": 7,
        "start_time": "2021-07-07T17:08:46.427Z"
      },
      {
        "duration": 8,
        "start_time": "2021-07-07T17:08:46.435Z"
      },
      {
        "duration": 68,
        "start_time": "2021-07-07T17:08:46.446Z"
      },
      {
        "duration": 13,
        "start_time": "2021-07-07T17:08:46.516Z"
      },
      {
        "duration": 78,
        "start_time": "2021-07-07T17:08:46.530Z"
      },
      {
        "duration": 40,
        "start_time": "2021-07-07T17:09:08.185Z"
      },
      {
        "duration": 16,
        "start_time": "2021-07-07T17:09:19.324Z"
      },
      {
        "duration": 21,
        "start_time": "2021-07-07T17:09:23.290Z"
      },
      {
        "duration": 13,
        "start_time": "2021-07-07T17:09:54.812Z"
      },
      {
        "duration": 13,
        "start_time": "2021-07-07T17:10:02.039Z"
      },
      {
        "duration": 10,
        "start_time": "2021-07-07T17:10:29.632Z"
      },
      {
        "duration": 13,
        "start_time": "2021-07-07T17:10:52.372Z"
      },
      {
        "duration": 13,
        "start_time": "2021-07-07T17:11:17.270Z"
      },
      {
        "duration": 13,
        "start_time": "2021-07-07T17:14:59.284Z"
      },
      {
        "duration": 547,
        "start_time": "2021-07-07T17:18:52.403Z"
      },
      {
        "duration": 163,
        "start_time": "2021-07-07T17:18:52.952Z"
      },
      {
        "duration": 44,
        "start_time": "2021-07-07T17:18:53.117Z"
      },
      {
        "duration": 3,
        "start_time": "2021-07-07T17:18:53.162Z"
      },
      {
        "duration": 26,
        "start_time": "2021-07-07T17:18:53.167Z"
      },
      {
        "duration": 6,
        "start_time": "2021-07-07T17:18:53.195Z"
      },
      {
        "duration": 15,
        "start_time": "2021-07-07T17:18:53.203Z"
      },
      {
        "duration": 5,
        "start_time": "2021-07-07T17:18:53.220Z"
      },
      {
        "duration": 11,
        "start_time": "2021-07-07T17:18:53.228Z"
      },
      {
        "duration": 9,
        "start_time": "2021-07-07T17:18:53.241Z"
      },
      {
        "duration": 41,
        "start_time": "2021-07-07T17:18:53.252Z"
      },
      {
        "duration": 33,
        "start_time": "2021-07-07T17:18:53.295Z"
      },
      {
        "duration": 19,
        "start_time": "2021-07-07T17:18:53.330Z"
      },
      {
        "duration": 49,
        "start_time": "2021-07-07T17:18:53.350Z"
      },
      {
        "duration": 5,
        "start_time": "2021-07-07T17:18:53.401Z"
      },
      {
        "duration": 5,
        "start_time": "2021-07-07T17:18:53.408Z"
      },
      {
        "duration": 11,
        "start_time": "2021-07-07T17:18:53.414Z"
      },
      {
        "duration": 9,
        "start_time": "2021-07-07T17:18:53.427Z"
      },
      {
        "duration": 10,
        "start_time": "2021-07-07T17:18:53.437Z"
      },
      {
        "duration": 39,
        "start_time": "2021-07-07T17:18:53.448Z"
      },
      {
        "duration": 26,
        "start_time": "2021-07-07T17:18:55.799Z"
      },
      {
        "duration": 598,
        "start_time": "2021-07-07T17:20:17.862Z"
      },
      {
        "duration": 161,
        "start_time": "2021-07-07T17:20:18.462Z"
      },
      {
        "duration": 45,
        "start_time": "2021-07-07T17:20:18.626Z"
      },
      {
        "duration": 4,
        "start_time": "2021-07-07T17:20:18.673Z"
      },
      {
        "duration": 38,
        "start_time": "2021-07-07T17:20:26.877Z"
      },
      {
        "duration": 7,
        "start_time": "2021-07-07T17:20:37.405Z"
      },
      {
        "duration": 19,
        "start_time": "2021-07-07T17:20:51.534Z"
      },
      {
        "duration": 5,
        "start_time": "2021-07-07T17:20:57.228Z"
      },
      {
        "duration": 7,
        "start_time": "2021-07-07T17:21:08.235Z"
      },
      {
        "duration": 19,
        "start_time": "2021-07-07T17:21:42.158Z"
      },
      {
        "duration": 14,
        "start_time": "2021-07-07T17:21:50.225Z"
      },
      {
        "duration": 22,
        "start_time": "2021-07-07T17:22:54.104Z"
      },
      {
        "duration": 5,
        "start_time": "2021-07-07T17:22:56.371Z"
      },
      {
        "duration": 14,
        "start_time": "2021-07-07T17:22:58.316Z"
      },
      {
        "duration": 5,
        "start_time": "2021-07-07T17:22:58.493Z"
      },
      {
        "duration": 35,
        "start_time": "2021-07-07T17:22:59.666Z"
      },
      {
        "duration": 6,
        "start_time": "2021-07-07T17:23:02.410Z"
      },
      {
        "duration": 611,
        "start_time": "2021-07-07T17:24:59.664Z"
      },
      {
        "duration": 178,
        "start_time": "2021-07-07T17:25:01.945Z"
      },
      {
        "duration": 47,
        "start_time": "2021-07-07T17:25:02.125Z"
      },
      {
        "duration": 2,
        "start_time": "2021-07-07T17:25:07.903Z"
      },
      {
        "duration": 254,
        "start_time": "2021-07-07T17:25:08.232Z"
      },
      {
        "duration": 182,
        "start_time": "2021-07-07T17:25:08.671Z"
      },
      {
        "duration": 6,
        "start_time": "2021-07-07T17:25:13.104Z"
      },
      {
        "duration": 36,
        "start_time": "2021-07-07T17:25:13.662Z"
      },
      {
        "duration": 7,
        "start_time": "2021-07-07T17:25:14.528Z"
      },
      {
        "duration": 24,
        "start_time": "2021-07-07T17:25:27.982Z"
      },
      {
        "duration": 3,
        "start_time": "2021-07-07T17:25:48.982Z"
      },
      {
        "duration": 165,
        "start_time": "2021-07-07T17:25:48.987Z"
      },
      {
        "duration": 50,
        "start_time": "2021-07-07T17:25:49.154Z"
      },
      {
        "duration": 4,
        "start_time": "2021-07-07T17:25:49.206Z"
      },
      {
        "duration": 26,
        "start_time": "2021-07-07T17:25:49.212Z"
      },
      {
        "duration": 7,
        "start_time": "2021-07-07T17:25:49.240Z"
      },
      {
        "duration": 16,
        "start_time": "2021-07-07T17:25:49.249Z"
      },
      {
        "duration": 22,
        "start_time": "2021-07-07T17:25:49.266Z"
      },
      {
        "duration": 16,
        "start_time": "2021-07-07T17:25:49.291Z"
      },
      {
        "duration": 9,
        "start_time": "2021-07-07T17:25:49.309Z"
      },
      {
        "duration": 7,
        "start_time": "2021-07-07T17:25:49.319Z"
      },
      {
        "duration": 28,
        "start_time": "2021-07-07T17:25:49.328Z"
      },
      {
        "duration": 44,
        "start_time": "2021-07-07T17:25:49.357Z"
      },
      {
        "duration": 22,
        "start_time": "2021-07-07T17:25:49.403Z"
      },
      {
        "duration": 7,
        "start_time": "2021-07-07T17:25:49.427Z"
      },
      {
        "duration": 3,
        "start_time": "2021-07-07T17:25:49.436Z"
      },
      {
        "duration": 44,
        "start_time": "2021-07-07T17:25:49.441Z"
      },
      {
        "duration": 12,
        "start_time": "2021-07-07T17:25:49.488Z"
      },
      {
        "duration": 13,
        "start_time": "2021-07-07T17:25:49.502Z"
      },
      {
        "duration": 10,
        "start_time": "2021-07-07T17:25:49.516Z"
      },
      {
        "duration": 62,
        "start_time": "2021-07-07T17:25:49.527Z"
      },
      {
        "duration": 26,
        "start_time": "2021-07-07T17:26:51.809Z"
      },
      {
        "duration": 26,
        "start_time": "2021-07-07T17:26:55.759Z"
      },
      {
        "duration": 26,
        "start_time": "2021-07-07T17:27:04.501Z"
      },
      {
        "duration": 25,
        "start_time": "2021-07-07T17:28:24.859Z"
      },
      {
        "duration": 21,
        "start_time": "2021-07-07T17:28:55.250Z"
      },
      {
        "duration": 21,
        "start_time": "2021-07-07T17:28:58.885Z"
      },
      {
        "duration": 7,
        "start_time": "2021-07-07T17:45:40.972Z"
      },
      {
        "duration": 13,
        "start_time": "2021-07-07T17:45:42.529Z"
      },
      {
        "duration": 27,
        "start_time": "2021-07-07T17:45:51.026Z"
      },
      {
        "duration": 518,
        "start_time": "2021-07-07T17:46:15.532Z"
      },
      {
        "duration": 235,
        "start_time": "2021-07-07T17:46:16.053Z"
      },
      {
        "duration": 80,
        "start_time": "2021-07-07T17:46:16.292Z"
      },
      {
        "duration": 5,
        "start_time": "2021-07-07T17:46:16.373Z"
      },
      {
        "duration": 26,
        "start_time": "2021-07-07T17:46:16.380Z"
      },
      {
        "duration": 7,
        "start_time": "2021-07-07T17:46:16.408Z"
      },
      {
        "duration": 16,
        "start_time": "2021-07-07T17:46:16.418Z"
      },
      {
        "duration": 5,
        "start_time": "2021-07-07T17:46:16.436Z"
      },
      {
        "duration": 13,
        "start_time": "2021-07-07T17:46:16.442Z"
      },
      {
        "duration": 35,
        "start_time": "2021-07-07T17:46:16.456Z"
      },
      {
        "duration": 8,
        "start_time": "2021-07-07T17:46:16.493Z"
      },
      {
        "duration": 28,
        "start_time": "2021-07-07T17:46:16.502Z"
      },
      {
        "duration": 17,
        "start_time": "2021-07-07T17:46:16.532Z"
      },
      {
        "duration": 44,
        "start_time": "2021-07-07T17:46:16.551Z"
      },
      {
        "duration": 6,
        "start_time": "2021-07-07T17:46:16.597Z"
      },
      {
        "duration": 4,
        "start_time": "2021-07-07T17:46:16.605Z"
      },
      {
        "duration": 9,
        "start_time": "2021-07-07T17:46:16.610Z"
      },
      {
        "duration": 9,
        "start_time": "2021-07-07T17:46:16.621Z"
      },
      {
        "duration": 10,
        "start_time": "2021-07-07T17:46:16.632Z"
      },
      {
        "duration": 43,
        "start_time": "2021-07-07T17:46:16.644Z"
      },
      {
        "duration": 26,
        "start_time": "2021-07-07T17:46:16.689Z"
      },
      {
        "duration": 19,
        "start_time": "2021-07-07T17:46:16.718Z"
      },
      {
        "duration": 8,
        "start_time": "2021-07-07T17:46:16.738Z"
      },
      {
        "duration": 43,
        "start_time": "2021-07-07T17:46:16.747Z"
      },
      {
        "duration": 19,
        "start_time": "2021-07-07T17:46:16.791Z"
      },
      {
        "duration": 9,
        "start_time": "2021-07-07T17:46:16.812Z"
      },
      {
        "duration": 60,
        "start_time": "2021-07-07T17:46:16.822Z"
      },
      {
        "duration": -8,
        "start_time": "2021-07-07T17:46:16.892Z"
      },
      {
        "duration": 12,
        "start_time": "2021-07-07T17:48:47.707Z"
      },
      {
        "duration": 553,
        "start_time": "2021-07-07T18:10:09.350Z"
      },
      {
        "duration": 230,
        "start_time": "2021-07-07T18:10:09.905Z"
      },
      {
        "duration": 97,
        "start_time": "2021-07-07T18:10:10.137Z"
      },
      {
        "duration": 5,
        "start_time": "2021-07-07T18:10:10.236Z"
      },
      {
        "duration": 29,
        "start_time": "2021-07-07T18:10:10.242Z"
      },
      {
        "duration": 7,
        "start_time": "2021-07-07T18:10:10.272Z"
      },
      {
        "duration": 15,
        "start_time": "2021-07-07T18:10:10.281Z"
      },
      {
        "duration": 4,
        "start_time": "2021-07-07T18:10:10.299Z"
      },
      {
        "duration": 14,
        "start_time": "2021-07-07T18:10:10.305Z"
      },
      {
        "duration": 8,
        "start_time": "2021-07-07T18:10:10.321Z"
      },
      {
        "duration": 8,
        "start_time": "2021-07-07T18:10:10.331Z"
      },
      {
        "duration": 56,
        "start_time": "2021-07-07T18:10:10.341Z"
      },
      {
        "duration": 19,
        "start_time": "2021-07-07T18:10:10.399Z"
      },
      {
        "duration": 23,
        "start_time": "2021-07-07T18:10:10.419Z"
      },
      {
        "duration": 6,
        "start_time": "2021-07-07T18:10:10.444Z"
      },
      {
        "duration": 9,
        "start_time": "2021-07-07T18:10:10.451Z"
      },
      {
        "duration": 30,
        "start_time": "2021-07-07T18:10:10.462Z"
      },
      {
        "duration": 9,
        "start_time": "2021-07-07T18:10:10.494Z"
      },
      {
        "duration": 14,
        "start_time": "2021-07-07T18:10:10.505Z"
      },
      {
        "duration": 7,
        "start_time": "2021-07-07T18:10:10.521Z"
      },
      {
        "duration": 26,
        "start_time": "2021-07-07T18:10:10.530Z"
      },
      {
        "duration": 44,
        "start_time": "2021-07-07T18:10:10.558Z"
      },
      {
        "duration": 7,
        "start_time": "2021-07-07T18:10:10.605Z"
      },
      {
        "duration": 11,
        "start_time": "2021-07-07T18:10:10.614Z"
      },
      {
        "duration": 19,
        "start_time": "2021-07-07T18:10:10.626Z"
      },
      {
        "duration": 44,
        "start_time": "2021-07-07T18:10:10.646Z"
      },
      {
        "duration": 516,
        "start_time": "2021-07-07T18:14:00.826Z"
      },
      {
        "duration": 230,
        "start_time": "2021-07-07T18:14:01.344Z"
      },
      {
        "duration": 105,
        "start_time": "2021-07-07T18:14:01.576Z"
      },
      {
        "duration": 5,
        "start_time": "2021-07-07T18:14:01.683Z"
      },
      {
        "duration": 46,
        "start_time": "2021-07-07T18:14:01.690Z"
      },
      {
        "duration": 7,
        "start_time": "2021-07-07T18:14:01.738Z"
      },
      {
        "duration": 20,
        "start_time": "2021-07-07T18:14:01.747Z"
      },
      {
        "duration": 16,
        "start_time": "2021-07-07T18:14:01.769Z"
      },
      {
        "duration": 14,
        "start_time": "2021-07-07T18:14:01.787Z"
      },
      {
        "duration": 15,
        "start_time": "2021-07-07T18:14:01.803Z"
      },
      {
        "duration": 12,
        "start_time": "2021-07-07T18:14:01.820Z"
      },
      {
        "duration": 35,
        "start_time": "2021-07-07T18:14:01.833Z"
      },
      {
        "duration": 31,
        "start_time": "2021-07-07T18:14:01.869Z"
      },
      {
        "duration": 37,
        "start_time": "2021-07-07T18:14:01.902Z"
      },
      {
        "duration": 8,
        "start_time": "2021-07-07T18:14:01.942Z"
      },
      {
        "duration": 16,
        "start_time": "2021-07-07T18:14:01.952Z"
      },
      {
        "duration": 13,
        "start_time": "2021-07-07T18:14:01.970Z"
      },
      {
        "duration": 32,
        "start_time": "2021-07-07T18:14:01.985Z"
      },
      {
        "duration": 11,
        "start_time": "2021-07-07T18:14:02.019Z"
      },
      {
        "duration": 22,
        "start_time": "2021-07-07T18:14:02.031Z"
      },
      {
        "duration": 27,
        "start_time": "2021-07-07T18:14:02.055Z"
      },
      {
        "duration": 18,
        "start_time": "2021-07-07T18:14:02.084Z"
      },
      {
        "duration": 18,
        "start_time": "2021-07-07T18:14:02.106Z"
      },
      {
        "duration": 11,
        "start_time": "2021-07-07T18:14:02.126Z"
      },
      {
        "duration": 21,
        "start_time": "2021-07-07T18:14:02.138Z"
      },
      {
        "duration": 32,
        "start_time": "2021-07-07T18:14:02.161Z"
      },
      {
        "duration": 28,
        "start_time": "2021-07-07T18:14:44.295Z"
      },
      {
        "duration": 6,
        "start_time": "2021-07-07T18:15:05.834Z"
      },
      {
        "duration": 511,
        "start_time": "2021-07-07T18:15:41.541Z"
      },
      {
        "duration": 183,
        "start_time": "2021-07-07T18:15:42.054Z"
      },
      {
        "duration": 50,
        "start_time": "2021-07-07T18:15:42.239Z"
      },
      {
        "duration": 5,
        "start_time": "2021-07-07T18:15:42.291Z"
      },
      {
        "duration": 48,
        "start_time": "2021-07-07T18:15:42.297Z"
      },
      {
        "duration": 8,
        "start_time": "2021-07-07T18:15:42.346Z"
      },
      {
        "duration": 17,
        "start_time": "2021-07-07T18:15:42.356Z"
      },
      {
        "duration": 15,
        "start_time": "2021-07-07T18:15:42.375Z"
      },
      {
        "duration": 12,
        "start_time": "2021-07-07T18:15:42.392Z"
      },
      {
        "duration": 7,
        "start_time": "2021-07-07T18:15:42.406Z"
      },
      {
        "duration": 7,
        "start_time": "2021-07-07T18:15:42.415Z"
      },
      {
        "duration": 29,
        "start_time": "2021-07-07T18:15:42.423Z"
      },
      {
        "duration": 43,
        "start_time": "2021-07-07T18:15:42.453Z"
      },
      {
        "duration": 18,
        "start_time": "2021-07-07T18:15:42.497Z"
      },
      {
        "duration": 6,
        "start_time": "2021-07-07T18:15:42.516Z"
      },
      {
        "duration": 3,
        "start_time": "2021-07-07T18:15:42.523Z"
      },
      {
        "duration": 18,
        "start_time": "2021-07-07T18:15:42.528Z"
      },
      {
        "duration": 10,
        "start_time": "2021-07-07T18:15:42.547Z"
      },
      {
        "duration": 36,
        "start_time": "2021-07-07T18:15:42.559Z"
      },
      {
        "duration": 8,
        "start_time": "2021-07-07T18:15:42.597Z"
      },
      {
        "duration": 28,
        "start_time": "2021-07-07T18:15:42.606Z"
      },
      {
        "duration": 52,
        "start_time": "2021-07-07T18:15:42.635Z"
      },
      {
        "duration": 7,
        "start_time": "2021-07-07T18:15:42.690Z"
      },
      {
        "duration": 10,
        "start_time": "2021-07-07T18:15:42.699Z"
      },
      {
        "duration": 19,
        "start_time": "2021-07-07T18:15:42.711Z"
      },
      {
        "duration": 9,
        "start_time": "2021-07-07T18:15:42.732Z"
      },
      {
        "duration": 5,
        "start_time": "2021-07-07T18:15:42.743Z"
      },
      {
        "duration": 1450,
        "start_time": "2021-07-07T18:15:51.984Z"
      },
      {
        "duration": 161,
        "start_time": "2021-07-07T18:15:53.435Z"
      },
      {
        "duration": 124,
        "start_time": "2021-07-07T18:15:53.598Z"
      },
      {
        "duration": 5,
        "start_time": "2021-07-07T18:15:53.724Z"
      },
      {
        "duration": 34,
        "start_time": "2021-07-07T18:15:53.730Z"
      },
      {
        "duration": 7,
        "start_time": "2021-07-07T18:15:53.765Z"
      },
      {
        "duration": 15,
        "start_time": "2021-07-07T18:15:53.773Z"
      },
      {
        "duration": 5,
        "start_time": "2021-07-07T18:15:53.791Z"
      },
      {
        "duration": 19,
        "start_time": "2021-07-07T18:15:53.798Z"
      },
      {
        "duration": 9,
        "start_time": "2021-07-07T18:15:53.818Z"
      },
      {
        "duration": 19,
        "start_time": "2021-07-07T18:15:53.828Z"
      },
      {
        "duration": 27,
        "start_time": "2021-07-07T18:15:53.848Z"
      },
      {
        "duration": 16,
        "start_time": "2021-07-07T18:15:53.884Z"
      },
      {
        "duration": 29,
        "start_time": "2021-07-07T18:15:53.901Z"
      },
      {
        "duration": 5,
        "start_time": "2021-07-07T18:15:53.932Z"
      },
      {
        "duration": 15,
        "start_time": "2021-07-07T18:15:53.939Z"
      },
      {
        "duration": 13,
        "start_time": "2021-07-07T18:15:53.956Z"
      },
      {
        "duration": 20,
        "start_time": "2021-07-07T18:15:53.971Z"
      },
      {
        "duration": 14,
        "start_time": "2021-07-07T18:15:53.992Z"
      },
      {
        "duration": 9,
        "start_time": "2021-07-07T18:15:54.009Z"
      },
      {
        "duration": 28,
        "start_time": "2021-07-07T18:15:54.020Z"
      },
      {
        "duration": 50,
        "start_time": "2021-07-07T18:15:54.051Z"
      },
      {
        "duration": 8,
        "start_time": "2021-07-07T18:15:54.105Z"
      },
      {
        "duration": 11,
        "start_time": "2021-07-07T18:15:54.115Z"
      },
      {
        "duration": 20,
        "start_time": "2021-07-07T18:15:54.128Z"
      },
      {
        "duration": 13,
        "start_time": "2021-07-07T18:15:54.184Z"
      },
      {
        "duration": 7,
        "start_time": "2021-07-07T18:15:54.199Z"
      },
      {
        "duration": 7,
        "start_time": "2021-07-07T18:17:08.042Z"
      },
      {
        "duration": 8,
        "start_time": "2021-07-07T18:17:21.008Z"
      },
      {
        "duration": 7,
        "start_time": "2021-07-07T18:17:29.003Z"
      },
      {
        "duration": 8,
        "start_time": "2021-07-07T18:17:32.492Z"
      },
      {
        "duration": 9,
        "start_time": "2021-07-07T18:17:41.758Z"
      },
      {
        "duration": 255,
        "start_time": "2021-07-07T18:20:20.897Z"
      },
      {
        "duration": 173,
        "start_time": "2021-07-07T18:20:26.636Z"
      },
      {
        "duration": 7,
        "start_time": "2021-07-07T18:21:47.164Z"
      },
      {
        "duration": 254,
        "start_time": "2021-07-07T18:23:08.703Z"
      },
      {
        "duration": 21,
        "start_time": "2021-07-07T18:23:22.506Z"
      },
      {
        "duration": 315,
        "start_time": "2021-07-07T18:25:54.801Z"
      },
      {
        "duration": 34,
        "start_time": "2021-07-07T18:26:51.817Z"
      },
      {
        "duration": 327,
        "start_time": "2021-07-07T18:26:56.147Z"
      },
      {
        "duration": 342,
        "start_time": "2021-07-07T18:27:15.887Z"
      },
      {
        "duration": 302,
        "start_time": "2021-07-07T18:28:18.569Z"
      },
      {
        "duration": 226,
        "start_time": "2021-07-07T18:29:20.879Z"
      },
      {
        "duration": 207,
        "start_time": "2021-07-07T18:29:58.114Z"
      },
      {
        "duration": 140,
        "start_time": "2021-07-07T18:32:04.372Z"
      },
      {
        "duration": 158,
        "start_time": "2021-07-07T18:32:32.508Z"
      },
      {
        "duration": 145,
        "start_time": "2021-07-07T18:32:41.365Z"
      },
      {
        "duration": 132,
        "start_time": "2021-07-07T18:32:45.199Z"
      },
      {
        "duration": 11,
        "start_time": "2021-07-07T18:35:24.679Z"
      },
      {
        "duration": 268,
        "start_time": "2021-07-07T18:36:16.145Z"
      },
      {
        "duration": 227,
        "start_time": "2021-07-07T18:37:04.918Z"
      },
      {
        "duration": 3,
        "start_time": "2021-07-07T18:37:33.012Z"
      },
      {
        "duration": 671,
        "start_time": "2021-07-07T18:37:38.295Z"
      },
      {
        "duration": 54,
        "start_time": "2021-07-07T18:37:53.406Z"
      },
      {
        "duration": 631,
        "start_time": "2021-07-07T18:37:56.463Z"
      },
      {
        "duration": 19,
        "start_time": "2021-07-07T18:39:40.535Z"
      },
      {
        "duration": 20,
        "start_time": "2021-07-07T18:40:12.236Z"
      },
      {
        "duration": 633,
        "start_time": "2021-07-07T18:42:00.398Z"
      },
      {
        "duration": 218,
        "start_time": "2021-07-07T18:42:01.033Z"
      },
      {
        "duration": 49,
        "start_time": "2021-07-07T18:42:01.253Z"
      },
      {
        "duration": 5,
        "start_time": "2021-07-07T18:42:01.303Z"
      },
      {
        "duration": 27,
        "start_time": "2021-07-07T18:42:01.310Z"
      },
      {
        "duration": 8,
        "start_time": "2021-07-07T18:42:01.339Z"
      },
      {
        "duration": 20,
        "start_time": "2021-07-07T18:42:01.348Z"
      },
      {
        "duration": 6,
        "start_time": "2021-07-07T18:42:01.386Z"
      },
      {
        "duration": 16,
        "start_time": "2021-07-07T18:42:01.394Z"
      },
      {
        "duration": 9,
        "start_time": "2021-07-07T18:42:01.411Z"
      },
      {
        "duration": 11,
        "start_time": "2021-07-07T18:42:01.421Z"
      },
      {
        "duration": 31,
        "start_time": "2021-07-07T18:42:01.434Z"
      },
      {
        "duration": 18,
        "start_time": "2021-07-07T18:42:01.485Z"
      },
      {
        "duration": 23,
        "start_time": "2021-07-07T18:42:01.505Z"
      },
      {
        "duration": 6,
        "start_time": "2021-07-07T18:42:01.530Z"
      },
      {
        "duration": 10,
        "start_time": "2021-07-07T18:42:01.538Z"
      },
      {
        "duration": 13,
        "start_time": "2021-07-07T18:42:01.550Z"
      },
      {
        "duration": 24,
        "start_time": "2021-07-07T18:42:01.564Z"
      },
      {
        "duration": 20,
        "start_time": "2021-07-07T18:42:01.590Z"
      },
      {
        "duration": 8,
        "start_time": "2021-07-07T18:42:01.611Z"
      },
      {
        "duration": 31,
        "start_time": "2021-07-07T18:42:01.620Z"
      },
      {
        "duration": 39,
        "start_time": "2021-07-07T18:42:01.653Z"
      },
      {
        "duration": 8,
        "start_time": "2021-07-07T18:42:01.696Z"
      },
      {
        "duration": 13,
        "start_time": "2021-07-07T18:42:01.705Z"
      },
      {
        "duration": 20,
        "start_time": "2021-07-07T18:42:01.720Z"
      },
      {
        "duration": 12,
        "start_time": "2021-07-07T18:42:01.741Z"
      },
      {
        "duration": 35,
        "start_time": "2021-07-07T18:42:01.755Z"
      },
      {
        "duration": 14,
        "start_time": "2021-07-07T18:42:01.792Z"
      },
      {
        "duration": 188,
        "start_time": "2021-07-07T18:42:01.808Z"
      },
      {
        "duration": 19,
        "start_time": "2021-07-07T18:42:01.998Z"
      },
      {
        "duration": 175,
        "start_time": "2021-07-07T18:42:02.019Z"
      },
      {
        "duration": 134,
        "start_time": "2021-07-07T18:42:02.196Z"
      },
      {
        "duration": 10,
        "start_time": "2021-07-07T18:42:02.331Z"
      },
      {
        "duration": 19,
        "start_time": "2021-07-07T18:42:02.343Z"
      },
      {
        "duration": 628,
        "start_time": "2021-07-07T18:46:30.701Z"
      },
      {
        "duration": 183,
        "start_time": "2021-07-07T18:46:31.331Z"
      },
      {
        "duration": 48,
        "start_time": "2021-07-07T18:46:31.516Z"
      },
      {
        "duration": 5,
        "start_time": "2021-07-07T18:46:31.566Z"
      },
      {
        "duration": 28,
        "start_time": "2021-07-07T18:46:31.572Z"
      },
      {
        "duration": 8,
        "start_time": "2021-07-07T18:46:31.602Z"
      },
      {
        "duration": 19,
        "start_time": "2021-07-07T18:46:31.611Z"
      },
      {
        "duration": 6,
        "start_time": "2021-07-07T18:46:31.633Z"
      },
      {
        "duration": 17,
        "start_time": "2021-07-07T18:46:31.642Z"
      },
      {
        "duration": 10,
        "start_time": "2021-07-07T18:46:31.684Z"
      },
      {
        "duration": 9,
        "start_time": "2021-07-07T18:46:31.695Z"
      },
      {
        "duration": 28,
        "start_time": "2021-07-07T18:46:31.705Z"
      },
      {
        "duration": 18,
        "start_time": "2021-07-07T18:46:31.735Z"
      },
      {
        "duration": 48,
        "start_time": "2021-07-07T18:46:31.755Z"
      },
      {
        "duration": 6,
        "start_time": "2021-07-07T18:46:31.804Z"
      },
      {
        "duration": 4,
        "start_time": "2021-07-07T18:46:31.812Z"
      },
      {
        "duration": 9,
        "start_time": "2021-07-07T18:46:31.817Z"
      },
      {
        "duration": 10,
        "start_time": "2021-07-07T18:46:31.827Z"
      },
      {
        "duration": 12,
        "start_time": "2021-07-07T18:46:31.838Z"
      },
      {
        "duration": 39,
        "start_time": "2021-07-07T18:46:31.851Z"
      },
      {
        "duration": 24,
        "start_time": "2021-07-07T18:46:31.892Z"
      },
      {
        "duration": 15,
        "start_time": "2021-07-07T18:46:31.918Z"
      },
      {
        "duration": 7,
        "start_time": "2021-07-07T18:46:31.936Z"
      },
      {
        "duration": 8,
        "start_time": "2021-07-07T18:46:31.944Z"
      },
      {
        "duration": 19,
        "start_time": "2021-07-07T18:46:31.984Z"
      },
      {
        "duration": 10,
        "start_time": "2021-07-07T18:46:32.004Z"
      },
      {
        "duration": 5,
        "start_time": "2021-07-07T18:46:32.016Z"
      },
      {
        "duration": 9,
        "start_time": "2021-07-07T18:46:32.023Z"
      },
      {
        "duration": 199,
        "start_time": "2021-07-07T18:46:32.033Z"
      },
      {
        "duration": 19,
        "start_time": "2021-07-07T18:46:32.234Z"
      },
      {
        "duration": 159,
        "start_time": "2021-07-07T18:46:32.255Z"
      },
      {
        "duration": 134,
        "start_time": "2021-07-07T18:46:32.416Z"
      },
      {
        "duration": 10,
        "start_time": "2021-07-07T18:46:32.552Z"
      },
      {
        "duration": 34,
        "start_time": "2021-07-07T18:46:32.563Z"
      },
      {
        "duration": 1039,
        "start_time": "2021-07-08T08:41:09.419Z"
      },
      {
        "duration": 333,
        "start_time": "2021-07-08T08:41:10.459Z"
      },
      {
        "duration": 173,
        "start_time": "2021-07-08T08:41:10.794Z"
      },
      {
        "duration": 5,
        "start_time": "2021-07-08T08:41:10.968Z"
      },
      {
        "duration": 25,
        "start_time": "2021-07-08T08:41:10.975Z"
      },
      {
        "duration": 9,
        "start_time": "2021-07-08T08:41:11.002Z"
      },
      {
        "duration": 18,
        "start_time": "2021-07-08T08:41:11.013Z"
      },
      {
        "duration": 6,
        "start_time": "2021-07-08T08:41:11.033Z"
      },
      {
        "duration": 44,
        "start_time": "2021-07-08T08:41:11.042Z"
      },
      {
        "duration": 10,
        "start_time": "2021-07-08T08:41:11.088Z"
      },
      {
        "duration": 9,
        "start_time": "2021-07-08T08:41:11.100Z"
      },
      {
        "duration": 27,
        "start_time": "2021-07-08T08:41:11.111Z"
      },
      {
        "duration": 46,
        "start_time": "2021-07-08T08:41:11.140Z"
      },
      {
        "duration": 17,
        "start_time": "2021-07-08T08:41:11.187Z"
      },
      {
        "duration": 6,
        "start_time": "2021-07-08T08:41:11.206Z"
      },
      {
        "duration": 5,
        "start_time": "2021-07-08T08:41:11.213Z"
      },
      {
        "duration": 10,
        "start_time": "2021-07-08T08:41:11.219Z"
      },
      {
        "duration": 9,
        "start_time": "2021-07-08T08:41:11.230Z"
      },
      {
        "duration": 45,
        "start_time": "2021-07-08T08:41:11.241Z"
      },
      {
        "duration": 7,
        "start_time": "2021-07-08T08:41:11.287Z"
      },
      {
        "duration": 24,
        "start_time": "2021-07-08T08:41:11.296Z"
      },
      {
        "duration": 16,
        "start_time": "2021-07-08T08:41:11.322Z"
      },
      {
        "duration": 7,
        "start_time": "2021-07-08T08:41:11.341Z"
      },
      {
        "duration": 41,
        "start_time": "2021-07-08T08:41:11.349Z"
      },
      {
        "duration": 17,
        "start_time": "2021-07-08T08:41:11.391Z"
      },
      {
        "duration": 9,
        "start_time": "2021-07-08T08:41:11.410Z"
      },
      {
        "duration": 5,
        "start_time": "2021-07-08T08:41:11.421Z"
      },
      {
        "duration": 6,
        "start_time": "2021-07-08T08:41:11.428Z"
      },
      {
        "duration": 198,
        "start_time": "2021-07-08T08:41:11.435Z"
      },
      {
        "duration": 18,
        "start_time": "2021-07-08T08:41:11.635Z"
      },
      {
        "duration": 155,
        "start_time": "2021-07-08T08:41:11.655Z"
      },
      {
        "duration": 138,
        "start_time": "2021-07-08T08:41:11.811Z"
      },
      {
        "duration": 10,
        "start_time": "2021-07-08T08:41:11.950Z"
      },
      {
        "duration": 29,
        "start_time": "2021-07-08T08:41:11.961Z"
      },
      {
        "duration": 171,
        "start_time": "2021-07-08T08:47:44.522Z"
      },
      {
        "duration": 124,
        "start_time": "2021-07-08T08:47:46.872Z"
      },
      {
        "duration": 191,
        "start_time": "2021-07-08T08:47:58.148Z"
      },
      {
        "duration": 191,
        "start_time": "2021-07-08T08:48:07.412Z"
      },
      {
        "duration": 261,
        "start_time": "2021-07-08T08:48:10.385Z"
      },
      {
        "duration": 255,
        "start_time": "2021-07-08T08:48:14.494Z"
      },
      {
        "duration": 219,
        "start_time": "2021-07-08T08:48:22.752Z"
      },
      {
        "duration": 173,
        "start_time": "2021-07-08T08:49:06.395Z"
      },
      {
        "duration": 180,
        "start_time": "2021-07-08T08:49:21.011Z"
      },
      {
        "duration": 6,
        "start_time": "2021-07-08T08:50:31.697Z"
      },
      {
        "duration": 10,
        "start_time": "2021-07-08T08:50:47.394Z"
      },
      {
        "duration": 11,
        "start_time": "2021-07-08T08:53:49.332Z"
      },
      {
        "duration": 171,
        "start_time": "2021-07-08T08:54:28.408Z"
      },
      {
        "duration": 636,
        "start_time": "2021-07-08T09:02:48.385Z"
      },
      {
        "duration": 227,
        "start_time": "2021-07-08T09:02:49.023Z"
      },
      {
        "duration": 104,
        "start_time": "2021-07-08T09:02:49.252Z"
      },
      {
        "duration": 5,
        "start_time": "2021-07-08T09:02:49.358Z"
      },
      {
        "duration": 27,
        "start_time": "2021-07-08T09:02:49.365Z"
      },
      {
        "duration": 8,
        "start_time": "2021-07-08T09:02:49.394Z"
      },
      {
        "duration": 18,
        "start_time": "2021-07-08T09:02:49.404Z"
      },
      {
        "duration": 6,
        "start_time": "2021-07-08T09:02:49.424Z"
      },
      {
        "duration": 11,
        "start_time": "2021-07-08T09:02:49.433Z"
      },
      {
        "duration": 13,
        "start_time": "2021-07-08T09:02:49.485Z"
      },
      {
        "duration": 9,
        "start_time": "2021-07-08T09:02:49.500Z"
      },
      {
        "duration": 38,
        "start_time": "2021-07-08T09:02:49.511Z"
      },
      {
        "duration": 42,
        "start_time": "2021-07-08T09:02:49.551Z"
      },
      {
        "duration": 21,
        "start_time": "2021-07-08T09:02:49.594Z"
      },
      {
        "duration": 6,
        "start_time": "2021-07-08T09:02:49.616Z"
      },
      {
        "duration": 3,
        "start_time": "2021-07-08T09:02:49.623Z"
      },
      {
        "duration": 9,
        "start_time": "2021-07-08T09:02:49.628Z"
      },
      {
        "duration": 52,
        "start_time": "2021-07-08T09:02:49.638Z"
      },
      {
        "duration": 11,
        "start_time": "2021-07-08T09:02:49.692Z"
      },
      {
        "duration": 8,
        "start_time": "2021-07-08T09:02:49.704Z"
      },
      {
        "duration": 27,
        "start_time": "2021-07-08T09:02:49.713Z"
      },
      {
        "duration": 59,
        "start_time": "2021-07-08T09:02:49.741Z"
      },
      {
        "duration": 8,
        "start_time": "2021-07-08T09:02:49.803Z"
      },
      {
        "duration": 14,
        "start_time": "2021-07-08T09:02:49.813Z"
      },
      {
        "duration": 20,
        "start_time": "2021-07-08T09:02:49.829Z"
      },
      {
        "duration": 44,
        "start_time": "2021-07-08T09:02:49.851Z"
      },
      {
        "duration": 14,
        "start_time": "2021-07-08T09:02:49.896Z"
      },
      {
        "duration": 221,
        "start_time": "2021-07-08T09:02:49.912Z"
      },
      {
        "duration": 6,
        "start_time": "2021-07-08T09:02:50.134Z"
      },
      {
        "duration": 206,
        "start_time": "2021-07-08T09:02:50.142Z"
      },
      {
        "duration": 19,
        "start_time": "2021-07-08T09:02:50.350Z"
      },
      {
        "duration": 21,
        "start_time": "2021-07-08T09:02:50.370Z"
      },
      {
        "duration": 20,
        "start_time": "2021-07-08T09:02:50.393Z"
      },
      {
        "duration": 5,
        "start_time": "2021-07-08T09:02:50.414Z"
      },
      {
        "duration": 5,
        "start_time": "2021-07-08T09:03:34.173Z"
      },
      {
        "duration": 6,
        "start_time": "2021-07-08T09:04:49.062Z"
      },
      {
        "duration": 9,
        "start_time": "2021-07-08T09:04:50.118Z"
      },
      {
        "duration": 14,
        "start_time": "2021-07-08T09:04:58.512Z"
      },
      {
        "duration": 9,
        "start_time": "2021-07-08T09:05:10.988Z"
      },
      {
        "duration": 11,
        "start_time": "2021-07-08T09:05:11.743Z"
      },
      {
        "duration": 7,
        "start_time": "2021-07-08T09:05:25.677Z"
      },
      {
        "duration": 13,
        "start_time": "2021-07-08T09:05:47.189Z"
      },
      {
        "duration": 13,
        "start_time": "2021-07-08T09:05:54.755Z"
      },
      {
        "duration": 4,
        "start_time": "2021-07-08T09:06:29.189Z"
      },
      {
        "duration": 244,
        "start_time": "2021-07-08T09:06:29.195Z"
      },
      {
        "duration": 91,
        "start_time": "2021-07-08T09:06:29.441Z"
      },
      {
        "duration": 4,
        "start_time": "2021-07-08T09:06:29.534Z"
      },
      {
        "duration": 28,
        "start_time": "2021-07-08T09:06:29.540Z"
      },
      {
        "duration": 6,
        "start_time": "2021-07-08T09:06:29.570Z"
      },
      {
        "duration": 18,
        "start_time": "2021-07-08T09:06:29.578Z"
      },
      {
        "duration": 5,
        "start_time": "2021-07-08T09:06:29.597Z"
      },
      {
        "duration": 13,
        "start_time": "2021-07-08T09:06:29.605Z"
      },
      {
        "duration": 8,
        "start_time": "2021-07-08T09:06:29.620Z"
      },
      {
        "duration": 7,
        "start_time": "2021-07-08T09:06:29.630Z"
      },
      {
        "duration": 63,
        "start_time": "2021-07-08T09:06:29.639Z"
      },
      {
        "duration": 17,
        "start_time": "2021-07-08T09:06:29.704Z"
      },
      {
        "duration": 20,
        "start_time": "2021-07-08T09:06:29.723Z"
      },
      {
        "duration": 6,
        "start_time": "2021-07-08T09:06:29.745Z"
      },
      {
        "duration": 3,
        "start_time": "2021-07-08T09:06:29.752Z"
      },
      {
        "duration": 7,
        "start_time": "2021-07-08T09:06:29.785Z"
      },
      {
        "duration": 11,
        "start_time": "2021-07-08T09:06:29.794Z"
      },
      {
        "duration": 15,
        "start_time": "2021-07-08T09:06:29.807Z"
      },
      {
        "duration": 8,
        "start_time": "2021-07-08T09:06:29.823Z"
      },
      {
        "duration": 70,
        "start_time": "2021-07-08T09:06:29.832Z"
      },
      {
        "duration": 17,
        "start_time": "2021-07-08T09:06:29.903Z"
      },
      {
        "duration": 9,
        "start_time": "2021-07-08T09:06:29.921Z"
      },
      {
        "duration": 9,
        "start_time": "2021-07-08T09:06:29.932Z"
      },
      {
        "duration": 57,
        "start_time": "2021-07-08T09:06:29.942Z"
      },
      {
        "duration": 11,
        "start_time": "2021-07-08T09:06:30.001Z"
      },
      {
        "duration": 19,
        "start_time": "2021-07-08T09:06:30.016Z"
      },
      {
        "duration": 217,
        "start_time": "2021-07-08T09:06:30.037Z"
      },
      {
        "duration": 6,
        "start_time": "2021-07-08T09:06:30.255Z"
      },
      {
        "duration": 205,
        "start_time": "2021-07-08T09:06:30.263Z"
      },
      {
        "duration": 27,
        "start_time": "2021-07-08T09:06:30.470Z"
      },
      {
        "duration": 11,
        "start_time": "2021-07-08T09:06:30.500Z"
      },
      {
        "duration": 31,
        "start_time": "2021-07-08T09:06:30.513Z"
      },
      {
        "duration": 18,
        "start_time": "2021-07-08T09:06:30.546Z"
      },
      {
        "duration": 11,
        "start_time": "2021-07-08T09:06:30.566Z"
      },
      {
        "duration": 19,
        "start_time": "2021-07-08T09:06:30.579Z"
      },
      {
        "duration": 20,
        "start_time": "2021-07-08T09:06:49.466Z"
      },
      {
        "duration": 9,
        "start_time": "2021-07-08T09:06:51.994Z"
      },
      {
        "duration": 20,
        "start_time": "2021-07-08T09:06:52.273Z"
      },
      {
        "duration": 246,
        "start_time": "2021-07-08T09:10:21.272Z"
      },
      {
        "duration": 84,
        "start_time": "2021-07-08T09:10:21.436Z"
      },
      {
        "duration": 7,
        "start_time": "2021-07-08T09:10:37.608Z"
      },
      {
        "duration": 189,
        "start_time": "2021-07-08T09:10:38.573Z"
      },
      {
        "duration": 185,
        "start_time": "2021-07-08T09:10:53.181Z"
      },
      {
        "duration": 11,
        "start_time": "2021-07-08T09:10:59.549Z"
      },
      {
        "duration": 42,
        "start_time": "2021-07-08T09:10:59.709Z"
      },
      {
        "duration": 12,
        "start_time": "2021-07-08T09:11:02.857Z"
      },
      {
        "duration": 28,
        "start_time": "2021-07-08T09:11:10.062Z"
      },
      {
        "duration": 249,
        "start_time": "2021-07-08T09:11:37.388Z"
      },
      {
        "duration": 232,
        "start_time": "2021-07-08T09:11:49.485Z"
      },
      {
        "duration": 453,
        "start_time": "2021-07-08T09:12:01.546Z"
      },
      {
        "duration": 440,
        "start_time": "2021-07-08T09:12:12.347Z"
      },
      {
        "duration": 213,
        "start_time": "2021-07-08T09:13:32.196Z"
      },
      {
        "duration": 172,
        "start_time": "2021-07-08T09:14:07.400Z"
      },
      {
        "duration": 185,
        "start_time": "2021-07-08T09:14:14.905Z"
      },
      {
        "duration": 209,
        "start_time": "2021-07-08T09:14:40.109Z"
      },
      {
        "duration": 201,
        "start_time": "2021-07-08T09:14:54.506Z"
      },
      {
        "duration": 622,
        "start_time": "2021-07-08T09:18:14.497Z"
      },
      {
        "duration": 220,
        "start_time": "2021-07-08T09:18:15.121Z"
      },
      {
        "duration": 79,
        "start_time": "2021-07-08T09:18:15.343Z"
      },
      {
        "duration": 4,
        "start_time": "2021-07-08T09:18:15.425Z"
      },
      {
        "duration": 24,
        "start_time": "2021-07-08T09:18:15.431Z"
      },
      {
        "duration": 8,
        "start_time": "2021-07-08T09:18:15.457Z"
      },
      {
        "duration": 16,
        "start_time": "2021-07-08T09:18:15.466Z"
      },
      {
        "duration": 5,
        "start_time": "2021-07-08T09:18:15.484Z"
      },
      {
        "duration": 10,
        "start_time": "2021-07-08T09:18:15.493Z"
      },
      {
        "duration": 8,
        "start_time": "2021-07-08T09:18:15.504Z"
      },
      {
        "duration": 7,
        "start_time": "2021-07-08T09:18:15.513Z"
      },
      {
        "duration": 26,
        "start_time": "2021-07-08T09:18:15.522Z"
      },
      {
        "duration": 49,
        "start_time": "2021-07-08T09:18:15.550Z"
      },
      {
        "duration": 21,
        "start_time": "2021-07-08T09:18:15.601Z"
      },
      {
        "duration": 8,
        "start_time": "2021-07-08T09:18:15.624Z"
      },
      {
        "duration": 3,
        "start_time": "2021-07-08T09:18:15.634Z"
      },
      {
        "duration": 8,
        "start_time": "2021-07-08T09:18:15.639Z"
      },
      {
        "duration": 45,
        "start_time": "2021-07-08T09:18:15.649Z"
      },
      {
        "duration": 13,
        "start_time": "2021-07-08T09:18:15.696Z"
      },
      {
        "duration": 10,
        "start_time": "2021-07-08T09:18:15.711Z"
      },
      {
        "duration": 64,
        "start_time": "2021-07-08T09:18:15.722Z"
      },
      {
        "duration": 19,
        "start_time": "2021-07-08T09:18:15.788Z"
      },
      {
        "duration": 9,
        "start_time": "2021-07-08T09:18:15.809Z"
      },
      {
        "duration": 9,
        "start_time": "2021-07-08T09:18:15.820Z"
      },
      {
        "duration": 18,
        "start_time": "2021-07-08T09:18:15.831Z"
      },
      {
        "duration": 43,
        "start_time": "2021-07-08T09:18:15.851Z"
      },
      {
        "duration": 12,
        "start_time": "2021-07-08T09:18:15.897Z"
      },
      {
        "duration": 219,
        "start_time": "2021-07-08T09:18:15.911Z"
      },
      {
        "duration": 8,
        "start_time": "2021-07-08T09:18:16.132Z"
      },
      {
        "duration": 199,
        "start_time": "2021-07-08T09:18:16.141Z"
      },
      {
        "duration": 18,
        "start_time": "2021-07-08T09:18:16.341Z"
      },
      {
        "duration": 24,
        "start_time": "2021-07-08T09:18:16.361Z"
      },
      {
        "duration": 24,
        "start_time": "2021-07-08T09:18:16.387Z"
      },
      {
        "duration": 211,
        "start_time": "2021-07-08T09:18:16.413Z"
      },
      {
        "duration": 18,
        "start_time": "2021-07-08T09:18:16.626Z"
      },
      {
        "duration": 596,
        "start_time": "2021-07-08T10:06:33.623Z"
      },
      {
        "duration": 181,
        "start_time": "2021-07-08T10:06:34.221Z"
      },
      {
        "duration": 176,
        "start_time": "2021-07-08T10:06:34.635Z"
      },
      {
        "duration": 239,
        "start_time": "2021-07-08T10:06:55.572Z"
      },
      {
        "duration": 6,
        "start_time": "2021-07-08T10:06:57.687Z"
      },
      {
        "duration": 4,
        "start_time": "2021-07-08T10:07:03.956Z"
      },
      {
        "duration": 4,
        "start_time": "2021-07-08T10:07:10.376Z"
      },
      {
        "duration": 4,
        "start_time": "2021-07-08T10:17:19.889Z"
      },
      {
        "duration": 3,
        "start_time": "2021-07-08T10:19:19.407Z"
      },
      {
        "duration": 197,
        "start_time": "2021-07-08T10:19:19.412Z"
      },
      {
        "duration": 127,
        "start_time": "2021-07-08T10:19:19.611Z"
      },
      {
        "duration": 4,
        "start_time": "2021-07-08T10:19:19.740Z"
      },
      {
        "duration": 27,
        "start_time": "2021-07-08T10:19:19.746Z"
      },
      {
        "duration": 7,
        "start_time": "2021-07-08T10:19:19.775Z"
      },
      {
        "duration": 30,
        "start_time": "2021-07-08T10:19:19.784Z"
      },
      {
        "duration": 7,
        "start_time": "2021-07-08T10:19:19.817Z"
      },
      {
        "duration": 26,
        "start_time": "2021-07-08T10:19:19.826Z"
      },
      {
        "duration": 18,
        "start_time": "2021-07-08T10:19:19.854Z"
      },
      {
        "duration": 14,
        "start_time": "2021-07-08T10:19:19.874Z"
      },
      {
        "duration": 48,
        "start_time": "2021-07-08T10:19:19.890Z"
      },
      {
        "duration": 17,
        "start_time": "2021-07-08T10:19:19.940Z"
      },
      {
        "duration": 38,
        "start_time": "2021-07-08T10:19:19.959Z"
      },
      {
        "duration": 8,
        "start_time": "2021-07-08T10:19:19.999Z"
      },
      {
        "duration": 15,
        "start_time": "2021-07-08T10:19:20.009Z"
      },
      {
        "duration": 22,
        "start_time": "2021-07-08T10:19:20.026Z"
      },
      {
        "duration": 10,
        "start_time": "2021-07-08T10:19:20.050Z"
      },
      {
        "duration": 10,
        "start_time": "2021-07-08T10:19:20.062Z"
      },
      {
        "duration": 20,
        "start_time": "2021-07-08T10:19:20.073Z"
      },
      {
        "duration": 29,
        "start_time": "2021-07-08T10:19:20.095Z"
      },
      {
        "duration": 17,
        "start_time": "2021-07-08T10:19:20.126Z"
      },
      {
        "duration": 40,
        "start_time": "2021-07-08T10:19:20.146Z"
      },
      {
        "duration": 15,
        "start_time": "2021-07-08T10:19:20.189Z"
      },
      {
        "duration": 19,
        "start_time": "2021-07-08T10:19:20.206Z"
      },
      {
        "duration": 10,
        "start_time": "2021-07-08T10:19:20.226Z"
      },
      {
        "duration": 11,
        "start_time": "2021-07-08T10:19:20.238Z"
      },
      {
        "duration": 297,
        "start_time": "2021-07-08T10:19:20.250Z"
      },
      {
        "duration": 6,
        "start_time": "2021-07-08T10:19:20.549Z"
      },
      {
        "duration": 191,
        "start_time": "2021-07-08T10:19:20.557Z"
      },
      {
        "duration": 19,
        "start_time": "2021-07-08T10:19:20.750Z"
      },
      {
        "duration": 20,
        "start_time": "2021-07-08T10:19:20.771Z"
      },
      {
        "duration": 15,
        "start_time": "2021-07-08T10:19:20.793Z"
      },
      {
        "duration": 222,
        "start_time": "2021-07-08T10:19:20.809Z"
      },
      {
        "duration": 20,
        "start_time": "2021-07-08T10:19:21.033Z"
      },
      {
        "duration": 27,
        "start_time": "2021-07-08T10:45:04.055Z"
      },
      {
        "duration": 8,
        "start_time": "2021-07-08T10:45:08.478Z"
      },
      {
        "duration": 8,
        "start_time": "2021-07-08T10:45:31.982Z"
      },
      {
        "duration": 10,
        "start_time": "2021-07-08T10:46:01.221Z"
      },
      {
        "duration": 17,
        "start_time": "2021-07-08T10:46:40.011Z"
      },
      {
        "duration": 193,
        "start_time": "2021-07-08T10:48:19.471Z"
      },
      {
        "duration": 225,
        "start_time": "2021-07-08T10:49:26.480Z"
      },
      {
        "duration": 204,
        "start_time": "2021-07-08T10:49:59.992Z"
      },
      {
        "duration": 435,
        "start_time": "2021-07-08T10:50:06.779Z"
      },
      {
        "duration": 199,
        "start_time": "2021-07-08T10:50:14.891Z"
      },
      {
        "duration": 204,
        "start_time": "2021-07-08T10:50:18.501Z"
      },
      {
        "duration": 244,
        "start_time": "2021-07-08T10:50:23.359Z"
      },
      {
        "duration": 192,
        "start_time": "2021-07-08T10:50:29.135Z"
      },
      {
        "duration": 218,
        "start_time": "2021-07-08T10:50:33.092Z"
      },
      {
        "duration": 207,
        "start_time": "2021-07-08T10:52:45.381Z"
      },
      {
        "duration": 5,
        "start_time": "2021-07-08T10:53:34.641Z"
      },
      {
        "duration": 196,
        "start_time": "2021-07-08T10:53:41.478Z"
      },
      {
        "duration": 43,
        "start_time": "2021-07-08T10:53:50.335Z"
      },
      {
        "duration": 32,
        "start_time": "2021-07-08T10:53:55.294Z"
      },
      {
        "duration": 55,
        "start_time": "2021-07-08T10:54:09.675Z"
      },
      {
        "duration": 16,
        "start_time": "2021-07-08T10:54:12.260Z"
      },
      {
        "duration": 15,
        "start_time": "2021-07-08T10:54:49.150Z"
      },
      {
        "duration": 20,
        "start_time": "2021-07-08T10:56:07.596Z"
      },
      {
        "duration": 16,
        "start_time": "2021-07-08T10:58:26.276Z"
      },
      {
        "duration": 22,
        "start_time": "2021-07-08T10:59:00.486Z"
      },
      {
        "duration": 18,
        "start_time": "2021-07-08T11:02:09.653Z"
      },
      {
        "duration": 10,
        "start_time": "2021-07-08T11:03:44.331Z"
      },
      {
        "duration": 10,
        "start_time": "2021-07-08T11:03:54.055Z"
      },
      {
        "duration": 12,
        "start_time": "2021-07-08T11:04:41.967Z"
      },
      {
        "duration": 24,
        "start_time": "2021-07-08T11:07:30.732Z"
      },
      {
        "duration": 6,
        "start_time": "2021-07-08T11:07:37.364Z"
      },
      {
        "duration": 16,
        "start_time": "2021-07-08T11:08:01.819Z"
      },
      {
        "duration": 17,
        "start_time": "2021-07-08T11:09:47.488Z"
      },
      {
        "duration": 246,
        "start_time": "2021-07-08T11:10:00.830Z"
      },
      {
        "duration": 18,
        "start_time": "2021-07-08T11:13:55.195Z"
      },
      {
        "duration": 204,
        "start_time": "2021-07-08T11:14:04.951Z"
      },
      {
        "duration": 19,
        "start_time": "2021-07-08T11:15:10.613Z"
      },
      {
        "duration": 680,
        "start_time": "2021-07-08T11:16:25.793Z"
      },
      {
        "duration": 451,
        "start_time": "2021-07-08T11:16:40.313Z"
      },
      {
        "duration": 469,
        "start_time": "2021-07-08T11:17:21.286Z"
      },
      {
        "duration": 20,
        "start_time": "2021-07-08T11:19:12.554Z"
      },
      {
        "duration": 35,
        "start_time": "2021-07-08T11:20:05.484Z"
      },
      {
        "duration": 53,
        "start_time": "2021-07-08T11:21:40.050Z"
      },
      {
        "duration": 13,
        "start_time": "2021-07-08T11:22:26.059Z"
      },
      {
        "duration": 19,
        "start_time": "2021-07-08T11:22:47.419Z"
      },
      {
        "duration": 25,
        "start_time": "2021-07-08T11:23:19.958Z"
      },
      {
        "duration": 29,
        "start_time": "2021-07-08T11:23:25.415Z"
      },
      {
        "duration": 10,
        "start_time": "2021-07-08T11:24:45.138Z"
      },
      {
        "duration": 19,
        "start_time": "2021-07-08T11:24:54.498Z"
      },
      {
        "duration": 12,
        "start_time": "2021-07-08T11:25:32.225Z"
      },
      {
        "duration": 19,
        "start_time": "2021-07-08T11:25:37.092Z"
      },
      {
        "duration": 17,
        "start_time": "2021-07-08T11:25:58.116Z"
      },
      {
        "duration": 15,
        "start_time": "2021-07-08T11:26:02.258Z"
      },
      {
        "duration": 8,
        "start_time": "2021-07-08T11:26:59.682Z"
      },
      {
        "duration": 184,
        "start_time": "2021-07-08T11:27:21.894Z"
      },
      {
        "duration": 8,
        "start_time": "2021-07-08T11:27:23.824Z"
      },
      {
        "duration": 202,
        "start_time": "2021-07-08T11:27:23.962Z"
      },
      {
        "duration": 360,
        "start_time": "2021-07-08T11:28:33.215Z"
      },
      {
        "duration": 231,
        "start_time": "2021-07-08T11:32:05.542Z"
      },
      {
        "duration": 607,
        "start_time": "2021-07-08T11:36:27.854Z"
      },
      {
        "duration": 241,
        "start_time": "2021-07-08T11:36:28.463Z"
      },
      {
        "duration": 67,
        "start_time": "2021-07-08T11:36:28.709Z"
      },
      {
        "duration": 5,
        "start_time": "2021-07-08T11:36:28.778Z"
      },
      {
        "duration": 32,
        "start_time": "2021-07-08T11:36:28.784Z"
      },
      {
        "duration": 11,
        "start_time": "2021-07-08T11:36:28.819Z"
      },
      {
        "duration": 20,
        "start_time": "2021-07-08T11:36:28.834Z"
      },
      {
        "duration": 36,
        "start_time": "2021-07-08T11:36:28.857Z"
      },
      {
        "duration": 16,
        "start_time": "2021-07-08T11:36:28.895Z"
      },
      {
        "duration": 14,
        "start_time": "2021-07-08T11:36:28.913Z"
      },
      {
        "duration": 9,
        "start_time": "2021-07-08T11:36:28.930Z"
      },
      {
        "duration": 55,
        "start_time": "2021-07-08T11:36:28.941Z"
      },
      {
        "duration": 27,
        "start_time": "2021-07-08T11:36:28.999Z"
      },
      {
        "duration": 30,
        "start_time": "2021-07-08T11:36:29.028Z"
      },
      {
        "duration": 31,
        "start_time": "2021-07-08T11:36:29.060Z"
      },
      {
        "duration": 3,
        "start_time": "2021-07-08T11:36:29.093Z"
      },
      {
        "duration": 12,
        "start_time": "2021-07-08T11:36:29.099Z"
      },
      {
        "duration": 11,
        "start_time": "2021-07-08T11:36:29.112Z"
      },
      {
        "duration": 12,
        "start_time": "2021-07-08T11:36:29.125Z"
      },
      {
        "duration": 9,
        "start_time": "2021-07-08T11:36:29.139Z"
      },
      {
        "duration": 31,
        "start_time": "2021-07-08T11:36:29.191Z"
      },
      {
        "duration": 17,
        "start_time": "2021-07-08T11:36:29.226Z"
      },
      {
        "duration": 7,
        "start_time": "2021-07-08T11:36:29.245Z"
      },
      {
        "duration": 10,
        "start_time": "2021-07-08T11:36:29.254Z"
      },
      {
        "duration": 30,
        "start_time": "2021-07-08T11:36:29.292Z"
      },
      {
        "duration": 11,
        "start_time": "2021-07-08T11:36:29.324Z"
      },
      {
        "duration": 11,
        "start_time": "2021-07-08T11:36:29.337Z"
      },
      {
        "duration": 230,
        "start_time": "2021-07-08T11:36:29.349Z"
      },
      {
        "duration": 13,
        "start_time": "2021-07-08T11:36:29.588Z"
      },
      {
        "duration": 205,
        "start_time": "2021-07-08T11:36:29.603Z"
      },
      {
        "duration": 20,
        "start_time": "2021-07-08T11:36:29.810Z"
      },
      {
        "duration": 9,
        "start_time": "2021-07-08T11:36:29.832Z"
      },
      {
        "duration": 16,
        "start_time": "2021-07-08T11:36:29.843Z"
      },
      {
        "duration": 283,
        "start_time": "2021-07-08T11:36:29.861Z"
      },
      {
        "duration": 50,
        "start_time": "2021-07-08T11:36:30.146Z"
      },
      {
        "duration": 14,
        "start_time": "2021-07-08T11:36:30.198Z"
      },
      {
        "duration": 11,
        "start_time": "2021-07-08T11:36:30.214Z"
      },
      {
        "duration": 245,
        "start_time": "2021-07-08T11:36:30.227Z"
      },
      {
        "duration": 439,
        "start_time": "2021-07-08T11:36:30.474Z"
      },
      {
        "duration": 210,
        "start_time": "2021-07-08T11:36:30.915Z"
      },
      {
        "duration": 15,
        "start_time": "2021-07-08T11:36:31.127Z"
      },
      {
        "duration": 17,
        "start_time": "2021-07-08T11:38:20.451Z"
      },
      {
        "duration": 642,
        "start_time": "2021-07-08T11:46:17.881Z"
      },
      {
        "duration": 210,
        "start_time": "2021-07-08T11:46:18.525Z"
      },
      {
        "duration": 104,
        "start_time": "2021-07-08T11:46:18.741Z"
      },
      {
        "duration": 8,
        "start_time": "2021-07-08T11:46:18.847Z"
      },
      {
        "duration": 25,
        "start_time": "2021-07-08T11:46:18.857Z"
      },
      {
        "duration": 14,
        "start_time": "2021-07-08T11:46:18.884Z"
      },
      {
        "duration": 22,
        "start_time": "2021-07-08T11:46:18.900Z"
      },
      {
        "duration": 5,
        "start_time": "2021-07-08T11:46:18.924Z"
      },
      {
        "duration": 13,
        "start_time": "2021-07-08T11:46:18.931Z"
      },
      {
        "duration": 45,
        "start_time": "2021-07-08T11:46:18.946Z"
      },
      {
        "duration": 12,
        "start_time": "2021-07-08T11:46:18.993Z"
      },
      {
        "duration": 38,
        "start_time": "2021-07-08T11:46:19.006Z"
      },
      {
        "duration": 50,
        "start_time": "2021-07-08T11:46:19.046Z"
      },
      {
        "duration": 29,
        "start_time": "2021-07-08T11:46:19.099Z"
      },
      {
        "duration": 7,
        "start_time": "2021-07-08T11:46:19.130Z"
      },
      {
        "duration": 3,
        "start_time": "2021-07-08T11:46:19.139Z"
      },
      {
        "duration": 11,
        "start_time": "2021-07-08T11:46:19.144Z"
      },
      {
        "duration": 40,
        "start_time": "2021-07-08T11:46:19.157Z"
      },
      {
        "duration": 15,
        "start_time": "2021-07-08T11:46:19.199Z"
      },
      {
        "duration": 10,
        "start_time": "2021-07-08T11:46:19.217Z"
      },
      {
        "duration": 68,
        "start_time": "2021-07-08T11:46:19.230Z"
      },
      {
        "duration": 17,
        "start_time": "2021-07-08T11:46:19.301Z"
      },
      {
        "duration": 7,
        "start_time": "2021-07-08T11:46:19.321Z"
      },
      {
        "duration": 11,
        "start_time": "2021-07-08T11:46:19.330Z"
      },
      {
        "duration": 59,
        "start_time": "2021-07-08T11:46:19.343Z"
      },
      {
        "duration": 17,
        "start_time": "2021-07-08T11:46:19.405Z"
      },
      {
        "duration": 16,
        "start_time": "2021-07-08T11:46:19.424Z"
      },
      {
        "duration": 252,
        "start_time": "2021-07-08T11:46:19.443Z"
      },
      {
        "duration": 9,
        "start_time": "2021-07-08T11:46:19.697Z"
      },
      {
        "duration": 224,
        "start_time": "2021-07-08T11:46:19.708Z"
      },
      {
        "duration": 21,
        "start_time": "2021-07-08T11:46:19.934Z"
      },
      {
        "duration": 9,
        "start_time": "2021-07-08T11:46:19.956Z"
      },
      {
        "duration": 32,
        "start_time": "2021-07-08T11:46:19.967Z"
      },
      {
        "duration": 288,
        "start_time": "2021-07-08T11:46:20.004Z"
      },
      {
        "duration": 23,
        "start_time": "2021-07-08T11:46:20.300Z"
      },
      {
        "duration": 11,
        "start_time": "2021-07-08T11:46:20.325Z"
      },
      {
        "duration": 11,
        "start_time": "2021-07-08T11:46:20.339Z"
      },
      {
        "duration": 259,
        "start_time": "2021-07-08T11:46:20.352Z"
      },
      {
        "duration": 438,
        "start_time": "2021-07-08T11:46:20.613Z"
      },
      {
        "duration": 207,
        "start_time": "2021-07-08T11:46:21.054Z"
      },
      {
        "duration": 27,
        "start_time": "2021-07-08T11:46:21.262Z"
      },
      {
        "duration": 19,
        "start_time": "2021-07-08T11:46:21.291Z"
      },
      {
        "duration": 820,
        "start_time": "2021-07-08T11:49:01.655Z"
      },
      {
        "duration": 372,
        "start_time": "2021-07-08T11:49:02.478Z"
      },
      {
        "duration": 98,
        "start_time": "2021-07-08T11:49:02.853Z"
      },
      {
        "duration": 6,
        "start_time": "2021-07-08T11:49:02.953Z"
      },
      {
        "duration": 39,
        "start_time": "2021-07-08T11:49:02.960Z"
      },
      {
        "duration": 9,
        "start_time": "2021-07-08T11:49:03.003Z"
      },
      {
        "duration": 23,
        "start_time": "2021-07-08T11:49:03.014Z"
      },
      {
        "duration": 6,
        "start_time": "2021-07-08T11:49:03.041Z"
      },
      {
        "duration": 20,
        "start_time": "2021-07-08T11:49:03.049Z"
      },
      {
        "duration": 18,
        "start_time": "2021-07-08T11:49:03.084Z"
      },
      {
        "duration": 14,
        "start_time": "2021-07-08T11:49:03.104Z"
      },
      {
        "duration": 39,
        "start_time": "2021-07-08T11:49:03.119Z"
      },
      {
        "duration": 38,
        "start_time": "2021-07-08T11:49:03.160Z"
      },
      {
        "duration": 26,
        "start_time": "2021-07-08T11:49:03.200Z"
      },
      {
        "duration": 7,
        "start_time": "2021-07-08T11:49:03.227Z"
      },
      {
        "duration": 4,
        "start_time": "2021-07-08T11:49:03.236Z"
      },
      {
        "duration": 15,
        "start_time": "2021-07-08T11:49:03.243Z"
      },
      {
        "duration": 21,
        "start_time": "2021-07-08T11:49:03.285Z"
      },
      {
        "duration": 17,
        "start_time": "2021-07-08T11:49:03.309Z"
      },
      {
        "duration": 10,
        "start_time": "2021-07-08T11:49:03.328Z"
      },
      {
        "duration": 65,
        "start_time": "2021-07-08T11:49:03.340Z"
      },
      {
        "duration": 18,
        "start_time": "2021-07-08T11:49:03.407Z"
      },
      {
        "duration": 8,
        "start_time": "2021-07-08T11:49:03.428Z"
      },
      {
        "duration": 15,
        "start_time": "2021-07-08T11:49:03.438Z"
      },
      {
        "duration": 40,
        "start_time": "2021-07-08T11:49:03.455Z"
      },
      {
        "duration": 12,
        "start_time": "2021-07-08T11:49:03.497Z"
      },
      {
        "duration": 29,
        "start_time": "2021-07-08T11:49:03.511Z"
      },
      {
        "duration": 285,
        "start_time": "2021-07-08T11:49:03.542Z"
      },
      {
        "duration": 8,
        "start_time": "2021-07-08T11:49:03.829Z"
      },
      {
        "duration": 227,
        "start_time": "2021-07-08T11:49:03.838Z"
      },
      {
        "duration": 40,
        "start_time": "2021-07-08T11:49:04.066Z"
      },
      {
        "duration": 10,
        "start_time": "2021-07-08T11:49:04.108Z"
      },
      {
        "duration": 26,
        "start_time": "2021-07-08T11:49:04.121Z"
      },
      {
        "duration": 290,
        "start_time": "2021-07-08T11:49:04.149Z"
      },
      {
        "duration": 26,
        "start_time": "2021-07-08T11:49:04.441Z"
      },
      {
        "duration": 31,
        "start_time": "2021-07-08T11:49:04.470Z"
      },
      {
        "duration": 14,
        "start_time": "2021-07-08T11:49:04.503Z"
      },
      {
        "duration": 259,
        "start_time": "2021-07-08T11:49:04.521Z"
      },
      {
        "duration": 480,
        "start_time": "2021-07-08T11:49:04.782Z"
      },
      {
        "duration": 225,
        "start_time": "2021-07-08T11:49:05.264Z"
      },
      {
        "duration": 22,
        "start_time": "2021-07-08T11:49:05.491Z"
      },
      {
        "duration": 24,
        "start_time": "2021-07-08T11:49:05.515Z"
      },
      {
        "duration": 634,
        "start_time": "2021-07-08T11:52:24.960Z"
      },
      {
        "duration": 199,
        "start_time": "2021-07-08T11:52:25.599Z"
      },
      {
        "duration": 106,
        "start_time": "2021-07-08T11:52:25.803Z"
      },
      {
        "duration": 7,
        "start_time": "2021-07-08T11:52:25.911Z"
      },
      {
        "duration": 29,
        "start_time": "2021-07-08T11:52:25.920Z"
      },
      {
        "duration": 7,
        "start_time": "2021-07-08T11:52:25.951Z"
      },
      {
        "duration": 26,
        "start_time": "2021-07-08T11:52:25.961Z"
      },
      {
        "duration": 11,
        "start_time": "2021-07-08T11:52:25.990Z"
      },
      {
        "duration": 29,
        "start_time": "2021-07-08T11:52:26.005Z"
      },
      {
        "duration": 9,
        "start_time": "2021-07-08T11:52:26.036Z"
      },
      {
        "duration": 8,
        "start_time": "2021-07-08T11:52:26.047Z"
      },
      {
        "duration": 63,
        "start_time": "2021-07-08T11:52:26.057Z"
      },
      {
        "duration": 17,
        "start_time": "2021-07-08T11:52:26.122Z"
      },
      {
        "duration": 43,
        "start_time": "2021-07-08T11:52:26.142Z"
      },
      {
        "duration": 17,
        "start_time": "2021-07-08T11:52:26.187Z"
      },
      {
        "duration": 5,
        "start_time": "2021-07-08T11:52:26.206Z"
      },
      {
        "duration": 12,
        "start_time": "2021-07-08T11:52:26.212Z"
      },
      {
        "duration": 11,
        "start_time": "2021-07-08T11:52:26.226Z"
      },
      {
        "duration": 12,
        "start_time": "2021-07-08T11:52:26.238Z"
      },
      {
        "duration": 38,
        "start_time": "2021-07-08T11:52:26.252Z"
      },
      {
        "duration": 40,
        "start_time": "2021-07-08T11:52:26.292Z"
      },
      {
        "duration": 17,
        "start_time": "2021-07-08T11:52:26.336Z"
      },
      {
        "duration": 39,
        "start_time": "2021-07-08T11:52:26.355Z"
      },
      {
        "duration": 11,
        "start_time": "2021-07-08T11:52:26.395Z"
      },
      {
        "duration": 23,
        "start_time": "2021-07-08T11:52:26.408Z"
      },
      {
        "duration": 12,
        "start_time": "2021-07-08T11:52:26.432Z"
      },
      {
        "duration": 41,
        "start_time": "2021-07-08T11:52:26.446Z"
      },
      {
        "duration": 215,
        "start_time": "2021-07-08T11:52:26.493Z"
      },
      {
        "duration": 8,
        "start_time": "2021-07-08T11:52:26.710Z"
      },
      {
        "duration": 228,
        "start_time": "2021-07-08T11:52:26.720Z"
      },
      {
        "duration": 18,
        "start_time": "2021-07-08T11:52:26.950Z"
      },
      {
        "duration": 35,
        "start_time": "2021-07-08T11:52:26.969Z"
      },
      {
        "duration": 23,
        "start_time": "2021-07-08T11:52:27.006Z"
      },
      {
        "duration": 258,
        "start_time": "2021-07-08T11:52:27.030Z"
      },
      {
        "duration": 24,
        "start_time": "2021-07-08T11:52:27.290Z"
      },
      {
        "duration": 12,
        "start_time": "2021-07-08T11:52:27.316Z"
      },
      {
        "duration": 10,
        "start_time": "2021-07-08T11:52:27.329Z"
      },
      {
        "duration": 298,
        "start_time": "2021-07-08T11:52:27.341Z"
      },
      {
        "duration": 436,
        "start_time": "2021-07-08T11:52:27.641Z"
      },
      {
        "duration": 216,
        "start_time": "2021-07-08T11:52:28.079Z"
      },
      {
        "duration": 20,
        "start_time": "2021-07-08T11:52:28.297Z"
      },
      {
        "duration": 17,
        "start_time": "2021-07-08T11:52:28.319Z"
      },
      {
        "duration": 1166,
        "start_time": "2022-10-10T11:37:54.789Z"
      },
      {
        "duration": 120,
        "start_time": "2022-10-10T11:38:11.219Z"
      },
      {
        "duration": 119,
        "start_time": "2022-10-10T11:38:34.333Z"
      },
      {
        "duration": 120,
        "start_time": "2022-10-10T11:38:46.093Z"
      },
      {
        "duration": 134,
        "start_time": "2022-10-10T11:39:26.703Z"
      },
      {
        "duration": 123,
        "start_time": "2022-10-10T11:40:14.452Z"
      },
      {
        "duration": 99,
        "start_time": "2022-10-10T11:40:25.661Z"
      },
      {
        "duration": 128,
        "start_time": "2022-10-10T11:40:35.965Z"
      },
      {
        "duration": 125,
        "start_time": "2022-10-10T11:40:59.136Z"
      },
      {
        "duration": 135,
        "start_time": "2022-10-10T11:42:01.190Z"
      },
      {
        "duration": 127,
        "start_time": "2022-10-10T11:42:11.633Z"
      },
      {
        "duration": 124,
        "start_time": "2022-10-10T11:43:03.069Z"
      },
      {
        "duration": 123,
        "start_time": "2022-10-10T11:43:10.948Z"
      },
      {
        "duration": 135,
        "start_time": "2022-10-10T12:12:12.365Z"
      },
      {
        "duration": 130,
        "start_time": "2022-10-10T12:22:39.495Z"
      },
      {
        "duration": 143,
        "start_time": "2022-10-10T12:23:02.440Z"
      },
      {
        "duration": 853,
        "start_time": "2022-10-10T12:35:43.217Z"
      },
      {
        "duration": 1350,
        "start_time": "2022-10-10T12:36:23.973Z"
      },
      {
        "duration": 151,
        "start_time": "2022-10-10T12:36:36.824Z"
      },
      {
        "duration": 347,
        "start_time": "2022-10-10T12:38:06.797Z"
      },
      {
        "duration": 648,
        "start_time": "2022-10-10T12:40:42.822Z"
      },
      {
        "duration": 6,
        "start_time": "2022-10-10T12:43:26.026Z"
      },
      {
        "duration": 299,
        "start_time": "2022-10-10T12:43:44.662Z"
      },
      {
        "duration": 13,
        "start_time": "2022-10-10T12:45:11.300Z"
      },
      {
        "duration": 5,
        "start_time": "2022-10-10T12:48:57.904Z"
      },
      {
        "duration": 1245,
        "start_time": "2022-10-10T12:52:13.192Z"
      },
      {
        "duration": 1322,
        "start_time": "2022-10-10T12:52:31.380Z"
      },
      {
        "duration": 2,
        "start_time": "2022-10-10T12:52:49.425Z"
      },
      {
        "duration": 146,
        "start_time": "2022-10-10T12:52:51.922Z"
      },
      {
        "duration": 4,
        "start_time": "2022-10-10T12:53:25.978Z"
      },
      {
        "duration": 43,
        "start_time": "2022-10-10T12:53:50.052Z"
      },
      {
        "duration": 6,
        "start_time": "2022-10-10T12:54:10.656Z"
      },
      {
        "duration": 10,
        "start_time": "2022-10-10T12:54:58.000Z"
      },
      {
        "duration": 5,
        "start_time": "2022-10-10T12:55:05.467Z"
      },
      {
        "duration": 7,
        "start_time": "2022-10-10T12:55:51.704Z"
      },
      {
        "duration": 4,
        "start_time": "2022-10-10T12:56:06.725Z"
      },
      {
        "duration": 6,
        "start_time": "2022-10-10T13:01:43.567Z"
      },
      {
        "duration": 134,
        "start_time": "2022-10-10T13:03:08.708Z"
      },
      {
        "duration": 151,
        "start_time": "2022-10-10T13:03:23.390Z"
      },
      {
        "duration": 143,
        "start_time": "2022-10-10T13:04:17.104Z"
      },
      {
        "duration": 143,
        "start_time": "2022-10-10T13:04:31.346Z"
      },
      {
        "duration": 1246,
        "start_time": "2022-10-10T13:07:18.202Z"
      },
      {
        "duration": 4,
        "start_time": "2022-10-10T13:07:39.920Z"
      },
      {
        "duration": 4,
        "start_time": "2022-10-10T13:08:14.594Z"
      },
      {
        "duration": 1602,
        "start_time": "2022-10-10T13:08:18.719Z"
      },
      {
        "duration": 770,
        "start_time": "2022-10-10T13:08:32.495Z"
      },
      {
        "duration": 63,
        "start_time": "2022-10-10T13:08:33.267Z"
      },
      {
        "duration": 6,
        "start_time": "2022-10-10T13:09:05.135Z"
      },
      {
        "duration": 5,
        "start_time": "2022-10-10T13:09:49.734Z"
      },
      {
        "duration": 8,
        "start_time": "2022-10-10T13:10:08.618Z"
      },
      {
        "duration": 6,
        "start_time": "2022-10-10T13:11:31.411Z"
      },
      {
        "duration": 1770,
        "start_time": "2022-10-10T13:15:28.648Z"
      },
      {
        "duration": 153,
        "start_time": "2022-10-10T13:16:26.282Z"
      },
      {
        "duration": 1276,
        "start_time": "2022-10-10T13:16:29.014Z"
      },
      {
        "duration": 15,
        "start_time": "2022-10-10T13:19:08.572Z"
      },
      {
        "duration": 449,
        "start_time": "2022-10-10T13:20:17.960Z"
      },
      {
        "duration": 8,
        "start_time": "2022-10-10T13:20:45.771Z"
      },
      {
        "duration": 148,
        "start_time": "2022-10-10T13:23:32.496Z"
      },
      {
        "duration": 9,
        "start_time": "2022-10-10T13:23:44.873Z"
      },
      {
        "duration": 31,
        "start_time": "2022-10-10T13:29:05.301Z"
      },
      {
        "duration": 11,
        "start_time": "2022-10-10T13:35:34.002Z"
      },
      {
        "duration": 13,
        "start_time": "2022-10-10T13:36:07.023Z"
      },
      {
        "duration": 24,
        "start_time": "2022-10-10T13:42:41.832Z"
      },
      {
        "duration": 12,
        "start_time": "2022-10-10T13:46:11.899Z"
      },
      {
        "duration": 23,
        "start_time": "2022-10-10T13:46:16.369Z"
      },
      {
        "duration": 816,
        "start_time": "2022-10-10T13:46:24.413Z"
      },
      {
        "duration": 0,
        "start_time": "2022-10-10T13:46:25.230Z"
      },
      {
        "duration": 0,
        "start_time": "2022-10-10T13:46:25.231Z"
      },
      {
        "duration": 13,
        "start_time": "2022-10-10T13:46:30.953Z"
      },
      {
        "duration": 145,
        "start_time": "2022-10-10T13:46:50.723Z"
      },
      {
        "duration": 12,
        "start_time": "2022-10-10T13:47:02.183Z"
      },
      {
        "duration": 23,
        "start_time": "2022-10-10T13:47:13.709Z"
      },
      {
        "duration": 7,
        "start_time": "2022-10-10T13:53:03.355Z"
      },
      {
        "duration": 20,
        "start_time": "2022-10-10T13:58:31.523Z"
      },
      {
        "duration": 18,
        "start_time": "2022-10-10T13:58:44.668Z"
      },
      {
        "duration": 6,
        "start_time": "2022-10-10T14:01:10.171Z"
      },
      {
        "duration": 9,
        "start_time": "2022-10-10T14:01:19.981Z"
      },
      {
        "duration": 4,
        "start_time": "2022-10-10T14:04:02.762Z"
      },
      {
        "duration": 4,
        "start_time": "2022-10-10T14:05:04.345Z"
      },
      {
        "duration": 6,
        "start_time": "2022-10-10T14:09:10.488Z"
      },
      {
        "duration": 8,
        "start_time": "2022-10-10T14:09:20.048Z"
      },
      {
        "duration": 7,
        "start_time": "2022-10-10T14:09:52.972Z"
      },
      {
        "duration": 11,
        "start_time": "2022-10-10T14:10:05.813Z"
      },
      {
        "duration": 5,
        "start_time": "2022-10-10T14:11:11.346Z"
      },
      {
        "duration": 8,
        "start_time": "2022-10-10T14:11:36.296Z"
      },
      {
        "duration": 5,
        "start_time": "2022-10-10T14:11:43.983Z"
      },
      {
        "duration": 55,
        "start_time": "2022-10-10T14:13:32.394Z"
      },
      {
        "duration": 26,
        "start_time": "2022-10-10T14:22:52.539Z"
      },
      {
        "duration": 21,
        "start_time": "2022-10-10T14:23:01.765Z"
      },
      {
        "duration": 16,
        "start_time": "2022-10-10T14:23:38.267Z"
      },
      {
        "duration": 134,
        "start_time": "2022-10-10T14:24:01.833Z"
      },
      {
        "duration": 22,
        "start_time": "2022-10-10T14:24:19.602Z"
      },
      {
        "duration": 10,
        "start_time": "2022-10-10T14:25:15.165Z"
      },
      {
        "duration": 8,
        "start_time": "2022-10-10T14:25:23.815Z"
      },
      {
        "duration": 15,
        "start_time": "2022-10-10T14:25:45.992Z"
      },
      {
        "duration": 20,
        "start_time": "2022-10-10T14:36:42.663Z"
      },
      {
        "duration": 15,
        "start_time": "2022-10-10T14:37:13.622Z"
      },
      {
        "duration": 15,
        "start_time": "2022-10-10T14:37:57.113Z"
      },
      {
        "duration": 22,
        "start_time": "2022-10-10T14:45:31.590Z"
      },
      {
        "duration": 7,
        "start_time": "2022-10-10T14:49:25.731Z"
      },
      {
        "duration": 14,
        "start_time": "2022-10-10T14:49:39.923Z"
      },
      {
        "duration": 1201,
        "start_time": "2022-10-10T19:51:59.031Z"
      },
      {
        "duration": 63,
        "start_time": "2022-10-10T19:53:16.297Z"
      },
      {
        "duration": 7,
        "start_time": "2022-10-10T19:53:39.543Z"
      },
      {
        "duration": 149,
        "start_time": "2022-10-10T19:54:21.255Z"
      },
      {
        "duration": 23,
        "start_time": "2022-10-10T19:54:57.895Z"
      },
      {
        "duration": 16,
        "start_time": "2022-10-10T19:55:03.945Z"
      },
      {
        "duration": 16,
        "start_time": "2022-10-10T20:03:50.615Z"
      },
      {
        "duration": 132,
        "start_time": "2022-10-10T20:06:54.658Z"
      },
      {
        "duration": 15,
        "start_time": "2022-10-10T20:13:42.576Z"
      },
      {
        "duration": 12,
        "start_time": "2022-10-10T20:16:03.489Z"
      },
      {
        "duration": 705,
        "start_time": "2022-10-10T20:16:12.047Z"
      },
      {
        "duration": 19,
        "start_time": "2022-10-10T20:16:12.753Z"
      },
      {
        "duration": 9,
        "start_time": "2022-10-10T20:16:12.774Z"
      },
      {
        "duration": 15,
        "start_time": "2022-10-10T20:16:12.785Z"
      },
      {
        "duration": 53,
        "start_time": "2022-10-10T20:16:12.801Z"
      },
      {
        "duration": 9,
        "start_time": "2022-10-10T20:16:12.856Z"
      },
      {
        "duration": 37,
        "start_time": "2022-10-10T20:16:12.866Z"
      },
      {
        "duration": 13,
        "start_time": "2022-10-10T20:18:36.924Z"
      },
      {
        "duration": 85,
        "start_time": "2022-10-10T20:25:43.639Z"
      },
      {
        "duration": 19,
        "start_time": "2022-10-10T20:26:53.696Z"
      },
      {
        "duration": 20,
        "start_time": "2022-10-10T20:28:23.268Z"
      },
      {
        "duration": 14,
        "start_time": "2022-10-10T20:28:41.661Z"
      },
      {
        "duration": 11,
        "start_time": "2022-10-10T20:28:47.052Z"
      },
      {
        "duration": 12,
        "start_time": "2022-10-10T20:29:23.861Z"
      },
      {
        "duration": 12,
        "start_time": "2022-10-10T20:30:17.613Z"
      },
      {
        "duration": 12,
        "start_time": "2022-10-10T20:30:25.188Z"
      },
      {
        "duration": 11,
        "start_time": "2022-10-10T20:31:34.961Z"
      },
      {
        "duration": 8,
        "start_time": "2022-10-10T20:33:39.532Z"
      },
      {
        "duration": 8,
        "start_time": "2022-10-10T20:33:46.326Z"
      },
      {
        "duration": 8,
        "start_time": "2022-10-10T20:33:57.142Z"
      },
      {
        "duration": 10,
        "start_time": "2022-10-10T20:35:42.462Z"
      },
      {
        "duration": 56,
        "start_time": "2022-10-10T20:36:49.378Z"
      },
      {
        "duration": 41,
        "start_time": "2022-10-10T20:37:21.552Z"
      },
      {
        "duration": 10,
        "start_time": "2022-10-10T20:37:58.173Z"
      },
      {
        "duration": 11,
        "start_time": "2022-10-10T20:38:15.620Z"
      },
      {
        "duration": 11,
        "start_time": "2022-10-10T20:39:56.501Z"
      },
      {
        "duration": 12,
        "start_time": "2022-10-10T20:40:38.910Z"
      },
      {
        "duration": 11,
        "start_time": "2022-10-10T20:40:57.815Z"
      },
      {
        "duration": 12,
        "start_time": "2022-10-10T20:41:13.031Z"
      },
      {
        "duration": 89,
        "start_time": "2022-10-10T20:41:23.183Z"
      },
      {
        "duration": 12,
        "start_time": "2022-10-10T20:42:28.879Z"
      },
      {
        "duration": 4,
        "start_time": "2022-10-10T20:43:05.720Z"
      },
      {
        "duration": 696,
        "start_time": "2022-10-10T20:43:17.361Z"
      },
      {
        "duration": 22,
        "start_time": "2022-10-10T20:43:18.059Z"
      },
      {
        "duration": 11,
        "start_time": "2022-10-10T20:43:18.083Z"
      },
      {
        "duration": 5,
        "start_time": "2022-10-10T20:43:18.096Z"
      },
      {
        "duration": 62,
        "start_time": "2022-10-10T20:43:18.103Z"
      },
      {
        "duration": 8,
        "start_time": "2022-10-10T20:43:18.167Z"
      },
      {
        "duration": 31,
        "start_time": "2022-10-10T20:43:18.176Z"
      },
      {
        "duration": 21,
        "start_time": "2022-10-10T20:43:25.305Z"
      },
      {
        "duration": 8,
        "start_time": "2022-10-10T20:43:47.219Z"
      },
      {
        "duration": 47,
        "start_time": "2022-10-11T05:41:56.702Z"
      },
      {
        "duration": 1050,
        "start_time": "2022-10-11T05:42:10.262Z"
      },
      {
        "duration": 24,
        "start_time": "2022-10-11T05:42:11.569Z"
      },
      {
        "duration": 11,
        "start_time": "2022-10-11T05:42:15.730Z"
      },
      {
        "duration": 89,
        "start_time": "2022-10-11T05:42:23.937Z"
      },
      {
        "duration": 5,
        "start_time": "2022-10-11T05:44:05.584Z"
      },
      {
        "duration": 0,
        "start_time": "2022-10-11T05:45:14.328Z"
      },
      {
        "duration": 13,
        "start_time": "2022-10-11T05:45:21.394Z"
      },
      {
        "duration": 56,
        "start_time": "2022-10-11T05:45:33.624Z"
      },
      {
        "duration": 142,
        "start_time": "2022-10-11T05:45:40.120Z"
      },
      {
        "duration": 26,
        "start_time": "2022-10-11T05:45:41.350Z"
      },
      {
        "duration": 10,
        "start_time": "2022-10-11T05:45:44.780Z"
      },
      {
        "duration": 8,
        "start_time": "2022-10-11T05:45:47.069Z"
      },
      {
        "duration": 8,
        "start_time": "2022-10-11T05:50:32.509Z"
      },
      {
        "duration": 13,
        "start_time": "2022-10-11T05:51:26.410Z"
      },
      {
        "duration": 9,
        "start_time": "2022-10-11T05:51:42.078Z"
      },
      {
        "duration": 63,
        "start_time": "2022-10-11T05:51:54.879Z"
      },
      {
        "duration": 60,
        "start_time": "2022-10-11T05:52:14.653Z"
      },
      {
        "duration": 60,
        "start_time": "2022-10-11T05:52:18.810Z"
      },
      {
        "duration": 7,
        "start_time": "2022-10-11T05:56:48.956Z"
      },
      {
        "duration": 7,
        "start_time": "2022-10-11T05:56:51.902Z"
      },
      {
        "duration": 6,
        "start_time": "2022-10-11T05:57:00.320Z"
      },
      {
        "duration": 138,
        "start_time": "2022-10-11T05:57:07.095Z"
      },
      {
        "duration": 23,
        "start_time": "2022-10-11T05:57:07.883Z"
      },
      {
        "duration": 11,
        "start_time": "2022-10-11T05:57:10.171Z"
      },
      {
        "duration": 8,
        "start_time": "2022-10-11T05:57:11.958Z"
      },
      {
        "duration": 65,
        "start_time": "2022-10-11T05:57:20.770Z"
      },
      {
        "duration": 6,
        "start_time": "2022-10-11T05:58:04.755Z"
      },
      {
        "duration": 734,
        "start_time": "2022-10-11T05:58:09.757Z"
      },
      {
        "duration": 22,
        "start_time": "2022-10-11T05:58:10.494Z"
      },
      {
        "duration": 11,
        "start_time": "2022-10-11T05:58:10.517Z"
      },
      {
        "duration": 8,
        "start_time": "2022-10-11T05:58:10.530Z"
      },
      {
        "duration": 57,
        "start_time": "2022-10-11T05:58:10.540Z"
      },
      {
        "duration": 8,
        "start_time": "2022-10-11T05:58:10.599Z"
      },
      {
        "duration": 37,
        "start_time": "2022-10-11T05:58:10.608Z"
      },
      {
        "duration": 9,
        "start_time": "2022-10-11T05:58:16.256Z"
      },
      {
        "duration": 45,
        "start_time": "2022-10-11T05:58:59.113Z"
      },
      {
        "duration": 50,
        "start_time": "2022-10-11T05:59:39.540Z"
      },
      {
        "duration": 6,
        "start_time": "2022-10-11T06:01:47.882Z"
      },
      {
        "duration": 6,
        "start_time": "2022-10-11T06:01:59.225Z"
      },
      {
        "duration": 6,
        "start_time": "2022-10-11T06:02:05.386Z"
      },
      {
        "duration": 75,
        "start_time": "2022-10-11T06:02:15.778Z"
      },
      {
        "duration": 10,
        "start_time": "2022-10-11T06:03:02.637Z"
      },
      {
        "duration": 3,
        "start_time": "2022-10-11T06:03:12.233Z"
      },
      {
        "duration": 7,
        "start_time": "2022-10-11T06:03:29.168Z"
      },
      {
        "duration": 97,
        "start_time": "2022-10-11T06:09:54.668Z"
      },
      {
        "duration": 67,
        "start_time": "2022-10-11T06:10:23.357Z"
      },
      {
        "duration": 32,
        "start_time": "2022-10-11T06:11:33.123Z"
      },
      {
        "duration": 34,
        "start_time": "2022-10-11T06:12:31.036Z"
      },
      {
        "duration": 14,
        "start_time": "2022-10-11T06:15:03.957Z"
      },
      {
        "duration": 759,
        "start_time": "2022-10-11T06:15:12.318Z"
      },
      {
        "duration": 22,
        "start_time": "2022-10-11T06:15:13.079Z"
      },
      {
        "duration": 10,
        "start_time": "2022-10-11T06:15:13.103Z"
      },
      {
        "duration": 98,
        "start_time": "2022-10-11T06:15:13.114Z"
      },
      {
        "duration": 0,
        "start_time": "2022-10-11T06:15:13.213Z"
      },
      {
        "duration": 0,
        "start_time": "2022-10-11T06:15:13.215Z"
      },
      {
        "duration": 0,
        "start_time": "2022-10-11T06:15:13.216Z"
      },
      {
        "duration": 21,
        "start_time": "2022-10-11T06:15:22.738Z"
      },
      {
        "duration": 11,
        "start_time": "2022-10-11T06:20:37.118Z"
      },
      {
        "duration": 14,
        "start_time": "2022-10-11T06:22:18.896Z"
      },
      {
        "duration": 12,
        "start_time": "2022-10-11T06:22:25.426Z"
      },
      {
        "duration": 707,
        "start_time": "2022-10-11T06:22:36.466Z"
      },
      {
        "duration": 22,
        "start_time": "2022-10-11T06:22:37.175Z"
      },
      {
        "duration": 12,
        "start_time": "2022-10-11T06:22:37.199Z"
      },
      {
        "duration": 10,
        "start_time": "2022-10-11T06:22:37.213Z"
      },
      {
        "duration": 53,
        "start_time": "2022-10-11T06:22:37.233Z"
      },
      {
        "duration": 7,
        "start_time": "2022-10-11T06:22:37.288Z"
      },
      {
        "duration": 36,
        "start_time": "2022-10-11T06:22:37.297Z"
      },
      {
        "duration": 74,
        "start_time": "2022-10-11T06:23:04.687Z"
      },
      {
        "duration": 749,
        "start_time": "2022-10-11T06:23:12.949Z"
      },
      {
        "duration": 23,
        "start_time": "2022-10-11T06:23:13.700Z"
      },
      {
        "duration": 11,
        "start_time": "2022-10-11T06:23:13.725Z"
      },
      {
        "duration": 26,
        "start_time": "2022-10-11T06:23:13.738Z"
      },
      {
        "duration": 64,
        "start_time": "2022-10-11T06:23:13.766Z"
      },
      {
        "duration": 11,
        "start_time": "2022-10-11T06:23:13.831Z"
      },
      {
        "duration": 21,
        "start_time": "2022-10-11T06:23:13.844Z"
      },
      {
        "duration": 10,
        "start_time": "2022-10-11T06:23:23.349Z"
      },
      {
        "duration": 620,
        "start_time": "2022-10-11T06:28:52.050Z"
      },
      {
        "duration": 816,
        "start_time": "2022-10-11T06:30:01.390Z"
      },
      {
        "duration": 976,
        "start_time": "2022-10-11T06:30:45.173Z"
      },
      {
        "duration": 1006,
        "start_time": "2022-10-11T06:31:13.141Z"
      },
      {
        "duration": 1080,
        "start_time": "2022-10-11T06:34:07.290Z"
      },
      {
        "duration": 1200,
        "start_time": "2022-10-11T06:34:18.365Z"
      },
      {
        "duration": 81,
        "start_time": "2022-10-11T06:41:58.280Z"
      },
      {
        "duration": 840,
        "start_time": "2022-10-11T06:42:10.313Z"
      },
      {
        "duration": 22,
        "start_time": "2022-10-11T06:42:11.155Z"
      },
      {
        "duration": 11,
        "start_time": "2022-10-11T06:42:11.178Z"
      },
      {
        "duration": 399,
        "start_time": "2022-10-11T06:42:11.190Z"
      },
      {
        "duration": 0,
        "start_time": "2022-10-11T06:42:11.591Z"
      },
      {
        "duration": 0,
        "start_time": "2022-10-11T06:42:11.593Z"
      },
      {
        "duration": 0,
        "start_time": "2022-10-11T06:42:11.594Z"
      },
      {
        "duration": 231,
        "start_time": "2022-10-11T06:42:19.458Z"
      },
      {
        "duration": 818,
        "start_time": "2022-10-11T06:42:29.964Z"
      },
      {
        "duration": 21,
        "start_time": "2022-10-11T06:45:11.032Z"
      },
      {
        "duration": 12,
        "start_time": "2022-10-11T06:45:17.477Z"
      },
      {
        "duration": 806,
        "start_time": "2022-10-11T06:45:26.306Z"
      },
      {
        "duration": 22,
        "start_time": "2022-10-11T06:45:27.114Z"
      },
      {
        "duration": 15,
        "start_time": "2022-10-11T06:45:27.138Z"
      },
      {
        "duration": 813,
        "start_time": "2022-10-11T06:45:27.156Z"
      },
      {
        "duration": 51,
        "start_time": "2022-10-11T06:45:27.972Z"
      },
      {
        "duration": 11,
        "start_time": "2022-10-11T06:45:28.034Z"
      },
      {
        "duration": 41,
        "start_time": "2022-10-11T06:45:28.046Z"
      },
      {
        "duration": 7,
        "start_time": "2022-10-11T06:45:44.062Z"
      },
      {
        "duration": 19,
        "start_time": "2022-10-11T06:45:47.601Z"
      },
      {
        "duration": 14,
        "start_time": "2022-10-11T06:48:58.664Z"
      },
      {
        "duration": 32,
        "start_time": "2022-10-11T06:55:35.132Z"
      },
      {
        "duration": 44,
        "start_time": "2022-10-12T06:42:51.545Z"
      },
      {
        "duration": 5,
        "start_time": "2022-10-12T06:43:05.355Z"
      },
      {
        "duration": 1080,
        "start_time": "2022-10-12T06:43:16.124Z"
      },
      {
        "duration": 24,
        "start_time": "2022-10-12T06:43:17.207Z"
      },
      {
        "duration": 12,
        "start_time": "2022-10-12T06:43:17.233Z"
      },
      {
        "duration": 726,
        "start_time": "2022-10-12T06:43:17.246Z"
      },
      {
        "duration": 52,
        "start_time": "2022-10-12T06:43:17.974Z"
      },
      {
        "duration": 19,
        "start_time": "2022-10-12T06:43:18.033Z"
      },
      {
        "duration": 19,
        "start_time": "2022-10-12T06:43:18.054Z"
      },
      {
        "duration": 4,
        "start_time": "2022-10-12T06:43:18.075Z"
      },
      {
        "duration": 5,
        "start_time": "2022-10-12T06:45:50.097Z"
      },
      {
        "duration": 6,
        "start_time": "2022-10-12T06:46:38.742Z"
      },
      {
        "duration": 6,
        "start_time": "2022-10-12T06:47:03.994Z"
      },
      {
        "duration": 7,
        "start_time": "2022-10-12T06:47:24.486Z"
      },
      {
        "duration": 7,
        "start_time": "2022-10-12T06:48:39.091Z"
      },
      {
        "duration": 44,
        "start_time": "2022-10-12T06:53:23.992Z"
      },
      {
        "duration": 19,
        "start_time": "2022-10-12T06:57:16.540Z"
      },
      {
        "duration": 54,
        "start_time": "2022-10-12T07:01:26.976Z"
      },
      {
        "duration": 88,
        "start_time": "2022-10-12T07:02:22.237Z"
      },
      {
        "duration": 19,
        "start_time": "2022-10-12T07:02:40.780Z"
      },
      {
        "duration": 22,
        "start_time": "2022-10-12T07:03:57.283Z"
      },
      {
        "duration": 22,
        "start_time": "2022-10-12T07:04:24.573Z"
      },
      {
        "duration": 38,
        "start_time": "2022-10-12T07:06:48.487Z"
      },
      {
        "duration": 28,
        "start_time": "2022-10-12T07:10:05.294Z"
      },
      {
        "duration": 53,
        "start_time": "2022-10-12T07:13:28.158Z"
      },
      {
        "duration": 42,
        "start_time": "2022-10-12T07:15:28.274Z"
      },
      {
        "duration": 53,
        "start_time": "2022-10-12T07:20:51.297Z"
      },
      {
        "duration": 50,
        "start_time": "2022-10-12T07:22:34.082Z"
      },
      {
        "duration": 59,
        "start_time": "2022-10-12T07:24:59.341Z"
      },
      {
        "duration": 41,
        "start_time": "2022-10-12T07:25:07.263Z"
      },
      {
        "duration": 1207,
        "start_time": "2022-10-12T07:28:21.785Z"
      },
      {
        "duration": 1153,
        "start_time": "2022-10-12T07:28:27.667Z"
      },
      {
        "duration": 1110,
        "start_time": "2022-10-12T07:28:37.234Z"
      },
      {
        "duration": 1066,
        "start_time": "2022-10-12T07:28:50.102Z"
      },
      {
        "duration": 91,
        "start_time": "2022-10-12T07:28:56.353Z"
      },
      {
        "duration": 73,
        "start_time": "2022-10-12T07:29:32.746Z"
      },
      {
        "duration": 16,
        "start_time": "2022-10-12T07:29:52.635Z"
      },
      {
        "duration": 28,
        "start_time": "2022-10-12T07:31:39.648Z"
      },
      {
        "duration": 17,
        "start_time": "2022-10-12T07:33:21.918Z"
      },
      {
        "duration": 19,
        "start_time": "2022-10-12T07:36:09.210Z"
      },
      {
        "duration": 944,
        "start_time": "2022-10-12T07:36:11.042Z"
      },
      {
        "duration": 964,
        "start_time": "2022-10-12T07:37:28.872Z"
      },
      {
        "duration": 752,
        "start_time": "2022-10-12T07:37:56.646Z"
      },
      {
        "duration": 23,
        "start_time": "2022-10-12T07:37:57.400Z"
      },
      {
        "duration": 11,
        "start_time": "2022-10-12T07:37:57.424Z"
      },
      {
        "duration": 706,
        "start_time": "2022-10-12T07:37:57.437Z"
      },
      {
        "duration": 64,
        "start_time": "2022-10-12T07:37:58.145Z"
      },
      {
        "duration": 33,
        "start_time": "2022-10-12T07:37:58.211Z"
      },
      {
        "duration": 17,
        "start_time": "2022-10-12T07:37:58.246Z"
      },
      {
        "duration": 22,
        "start_time": "2022-10-12T07:37:58.265Z"
      },
      {
        "duration": 88,
        "start_time": "2022-10-12T07:37:58.288Z"
      },
      {
        "duration": 57,
        "start_time": "2022-10-12T07:37:58.378Z"
      },
      {
        "duration": 74,
        "start_time": "2022-10-12T07:55:51.588Z"
      },
      {
        "duration": 53,
        "start_time": "2022-10-12T07:57:36.936Z"
      },
      {
        "duration": 7,
        "start_time": "2022-10-12T08:04:17.787Z"
      },
      {
        "duration": 235,
        "start_time": "2022-10-12T08:10:27.421Z"
      },
      {
        "duration": 14,
        "start_time": "2022-10-12T08:11:17.930Z"
      },
      {
        "duration": 7,
        "start_time": "2022-10-12T08:11:39.774Z"
      },
      {
        "duration": 7,
        "start_time": "2022-10-12T08:11:44.284Z"
      },
      {
        "duration": 10,
        "start_time": "2022-10-12T08:12:04.813Z"
      },
      {
        "duration": 15,
        "start_time": "2022-10-12T08:12:12.470Z"
      },
      {
        "duration": 15,
        "start_time": "2022-10-12T08:12:32.139Z"
      },
      {
        "duration": 24,
        "start_time": "2022-10-12T08:17:02.760Z"
      },
      {
        "duration": 4,
        "start_time": "2022-10-12T08:21:31.787Z"
      },
      {
        "duration": 18,
        "start_time": "2022-10-12T08:21:45.576Z"
      },
      {
        "duration": 23,
        "start_time": "2022-10-12T08:21:55.993Z"
      },
      {
        "duration": 14,
        "start_time": "2022-10-12T08:22:07.106Z"
      },
      {
        "duration": 22,
        "start_time": "2022-10-12T08:23:52.624Z"
      },
      {
        "duration": 28,
        "start_time": "2022-10-12T08:23:56.158Z"
      },
      {
        "duration": 43,
        "start_time": "2022-10-12T08:23:59.901Z"
      },
      {
        "duration": 23,
        "start_time": "2022-10-12T08:24:05.839Z"
      },
      {
        "duration": 23,
        "start_time": "2022-10-12T08:24:59.321Z"
      },
      {
        "duration": 22,
        "start_time": "2022-10-12T08:25:09.167Z"
      },
      {
        "duration": 23,
        "start_time": "2022-10-12T08:25:52.754Z"
      },
      {
        "duration": 22,
        "start_time": "2022-10-12T08:26:07.283Z"
      },
      {
        "duration": 7,
        "start_time": "2022-10-12T08:46:59.594Z"
      },
      {
        "duration": 729,
        "start_time": "2022-10-12T08:47:16.468Z"
      },
      {
        "duration": 22,
        "start_time": "2022-10-12T08:47:17.199Z"
      },
      {
        "duration": 10,
        "start_time": "2022-10-12T08:47:17.222Z"
      },
      {
        "duration": 717,
        "start_time": "2022-10-12T08:47:17.233Z"
      },
      {
        "duration": 54,
        "start_time": "2022-10-12T08:47:17.952Z"
      },
      {
        "duration": 33,
        "start_time": "2022-10-12T08:47:18.008Z"
      },
      {
        "duration": 31,
        "start_time": "2022-10-12T08:47:18.043Z"
      },
      {
        "duration": 24,
        "start_time": "2022-10-12T08:47:18.076Z"
      },
      {
        "duration": 56,
        "start_time": "2022-10-12T08:47:18.101Z"
      },
      {
        "duration": 53,
        "start_time": "2022-10-12T08:47:18.193Z"
      },
      {
        "duration": 73,
        "start_time": "2022-10-12T08:47:18.248Z"
      },
      {
        "duration": 8,
        "start_time": "2022-10-12T08:47:21.333Z"
      },
      {
        "duration": 130,
        "start_time": "2022-10-12T08:48:14.751Z"
      },
      {
        "duration": 4001,
        "start_time": "2022-10-12T08:50:46.332Z"
      },
      {
        "duration": 3927,
        "start_time": "2022-10-12T08:51:32.725Z"
      },
      {
        "duration": 3847,
        "start_time": "2022-10-12T08:51:44.482Z"
      },
      {
        "duration": 4089,
        "start_time": "2022-10-12T08:52:04.320Z"
      },
      {
        "duration": 542,
        "start_time": "2022-10-12T08:52:19.191Z"
      },
      {
        "duration": 4367,
        "start_time": "2022-10-12T08:53:13.130Z"
      },
      {
        "duration": 25,
        "start_time": "2022-10-12T08:53:39.521Z"
      },
      {
        "duration": 16,
        "start_time": "2022-10-12T08:56:33.684Z"
      },
      {
        "duration": 742,
        "start_time": "2022-10-12T08:56:42.651Z"
      },
      {
        "duration": 22,
        "start_time": "2022-10-12T08:56:43.395Z"
      },
      {
        "duration": 10,
        "start_time": "2022-10-12T08:56:43.418Z"
      },
      {
        "duration": 729,
        "start_time": "2022-10-12T08:56:43.429Z"
      },
      {
        "duration": 73,
        "start_time": "2022-10-12T08:56:44.162Z"
      },
      {
        "duration": 19,
        "start_time": "2022-10-12T08:56:44.237Z"
      },
      {
        "duration": 15,
        "start_time": "2022-10-12T08:56:44.258Z"
      },
      {
        "duration": 12,
        "start_time": "2022-10-12T08:56:44.275Z"
      },
      {
        "duration": 52,
        "start_time": "2022-10-12T08:56:44.289Z"
      },
      {
        "duration": 21,
        "start_time": "2022-10-12T08:56:44.343Z"
      },
      {
        "duration": 4281,
        "start_time": "2022-10-12T08:56:44.365Z"
      },
      {
        "duration": 155,
        "start_time": "2022-10-12T08:57:02.891Z"
      },
      {
        "duration": 159,
        "start_time": "2022-10-12T08:57:45.349Z"
      },
      {
        "duration": 160,
        "start_time": "2022-10-12T08:57:51.853Z"
      },
      {
        "duration": 160,
        "start_time": "2022-10-12T08:58:10.348Z"
      },
      {
        "duration": 298,
        "start_time": "2022-10-12T08:58:14.913Z"
      },
      {
        "duration": 229,
        "start_time": "2022-10-12T08:58:21.591Z"
      },
      {
        "duration": 1724,
        "start_time": "2022-10-12T08:58:46.173Z"
      },
      {
        "duration": 2228,
        "start_time": "2022-10-12T08:58:55.786Z"
      },
      {
        "duration": 274,
        "start_time": "2022-10-12T09:13:01.555Z"
      },
      {
        "duration": 810,
        "start_time": "2022-10-12T09:14:20.003Z"
      },
      {
        "duration": 9,
        "start_time": "2022-10-12T09:14:47.430Z"
      },
      {
        "duration": 927,
        "start_time": "2022-10-12T09:14:53.558Z"
      },
      {
        "duration": 967,
        "start_time": "2022-10-12T09:15:02.181Z"
      },
      {
        "duration": 34,
        "start_time": "2022-10-12T09:15:03.151Z"
      },
      {
        "duration": 28,
        "start_time": "2022-10-12T09:15:03.187Z"
      },
      {
        "duration": 763,
        "start_time": "2022-10-12T09:15:03.217Z"
      },
      {
        "duration": 65,
        "start_time": "2022-10-12T09:15:03.982Z"
      },
      {
        "duration": 17,
        "start_time": "2022-10-12T09:15:04.048Z"
      },
      {
        "duration": 34,
        "start_time": "2022-10-12T09:15:04.067Z"
      },
      {
        "duration": 9,
        "start_time": "2022-10-12T09:15:04.103Z"
      },
      {
        "duration": 29,
        "start_time": "2022-10-12T09:15:04.114Z"
      },
      {
        "duration": 22,
        "start_time": "2022-10-12T09:15:04.146Z"
      },
      {
        "duration": 938,
        "start_time": "2022-10-12T09:15:04.169Z"
      },
      {
        "duration": 860,
        "start_time": "2022-10-12T09:15:40.401Z"
      },
      {
        "duration": 914,
        "start_time": "2022-10-12T09:15:51.693Z"
      },
      {
        "duration": 834,
        "start_time": "2022-10-12T09:16:51.121Z"
      },
      {
        "duration": 1054,
        "start_time": "2022-10-12T09:17:37.395Z"
      },
      {
        "duration": 587,
        "start_time": "2022-10-12T09:18:24.759Z"
      },
      {
        "duration": 742,
        "start_time": "2022-10-12T09:19:05.195Z"
      },
      {
        "duration": 585,
        "start_time": "2022-10-12T09:19:56.946Z"
      },
      {
        "duration": 726,
        "start_time": "2022-10-12T09:20:29.823Z"
      },
      {
        "duration": 238,
        "start_time": "2022-10-12T09:20:48.598Z"
      },
      {
        "duration": 422,
        "start_time": "2022-10-12T09:21:11.071Z"
      },
      {
        "duration": 222,
        "start_time": "2022-10-12T09:21:39.465Z"
      },
      {
        "duration": 105,
        "start_time": "2022-10-12T09:30:00.609Z"
      },
      {
        "duration": 143,
        "start_time": "2022-10-12T09:30:30.710Z"
      },
      {
        "duration": 61,
        "start_time": "2022-10-12T09:31:24.167Z"
      },
      {
        "duration": 87,
        "start_time": "2022-10-12T09:31:28.688Z"
      },
      {
        "duration": 59,
        "start_time": "2022-10-12T09:31:47.068Z"
      },
      {
        "duration": 45,
        "start_time": "2022-10-12T09:32:06.081Z"
      },
      {
        "duration": 40,
        "start_time": "2022-10-12T09:32:26.135Z"
      },
      {
        "duration": 61,
        "start_time": "2022-10-12T09:32:42.074Z"
      },
      {
        "duration": 75,
        "start_time": "2022-10-12T09:32:59.389Z"
      },
      {
        "duration": 150,
        "start_time": "2022-10-12T09:33:09.860Z"
      },
      {
        "duration": 40,
        "start_time": "2022-10-12T09:47:46.212Z"
      },
      {
        "duration": 14,
        "start_time": "2022-10-12T09:48:07.464Z"
      },
      {
        "duration": 174,
        "start_time": "2022-10-12T09:51:46.840Z"
      },
      {
        "duration": 491,
        "start_time": "2022-10-12T09:52:01.679Z"
      },
      {
        "duration": 10,
        "start_time": "2022-10-12T10:25:49.574Z"
      },
      {
        "duration": 1376,
        "start_time": "2022-10-12T10:25:55.417Z"
      },
      {
        "duration": 24,
        "start_time": "2022-10-12T10:25:56.795Z"
      },
      {
        "duration": 11,
        "start_time": "2022-10-12T10:25:56.821Z"
      },
      {
        "duration": 742,
        "start_time": "2022-10-12T10:25:56.834Z"
      },
      {
        "duration": 68,
        "start_time": "2022-10-12T10:25:57.579Z"
      },
      {
        "duration": 15,
        "start_time": "2022-10-12T10:25:57.648Z"
      },
      {
        "duration": 15,
        "start_time": "2022-10-12T10:25:57.665Z"
      },
      {
        "duration": 7,
        "start_time": "2022-10-12T10:25:57.681Z"
      },
      {
        "duration": 52,
        "start_time": "2022-10-12T10:25:57.690Z"
      },
      {
        "duration": 20,
        "start_time": "2022-10-12T10:25:57.744Z"
      },
      {
        "duration": 391,
        "start_time": "2022-10-12T10:25:57.766Z"
      },
      {
        "duration": 1297,
        "start_time": "2022-10-12T10:26:52.440Z"
      },
      {
        "duration": 23,
        "start_time": "2022-10-12T10:26:53.739Z"
      },
      {
        "duration": 11,
        "start_time": "2022-10-12T10:26:53.764Z"
      },
      {
        "duration": 785,
        "start_time": "2022-10-12T10:26:53.777Z"
      },
      {
        "duration": 56,
        "start_time": "2022-10-12T10:26:54.564Z"
      },
      {
        "duration": 16,
        "start_time": "2022-10-12T10:26:54.634Z"
      },
      {
        "duration": 2,
        "start_time": "2022-10-12T10:26:54.652Z"
      },
      {
        "duration": 24,
        "start_time": "2022-10-12T10:26:54.656Z"
      },
      {
        "duration": 92,
        "start_time": "2022-10-12T10:26:54.681Z"
      },
      {
        "duration": 54,
        "start_time": "2022-10-12T10:26:54.774Z"
      },
      {
        "duration": 389,
        "start_time": "2022-10-12T10:26:54.830Z"
      },
      {
        "duration": 371,
        "start_time": "2022-10-12T10:27:03.864Z"
      },
      {
        "duration": 98,
        "start_time": "2022-10-12T10:31:27.379Z"
      },
      {
        "duration": 11,
        "start_time": "2022-10-12T10:31:43.346Z"
      },
      {
        "duration": 10,
        "start_time": "2022-10-12T10:32:07.735Z"
      },
      {
        "duration": 11,
        "start_time": "2022-10-12T10:32:26.574Z"
      },
      {
        "duration": 9,
        "start_time": "2022-10-12T10:33:02.270Z"
      },
      {
        "duration": 7,
        "start_time": "2022-10-12T10:33:31.236Z"
      },
      {
        "duration": 7,
        "start_time": "2022-10-12T10:33:36.814Z"
      },
      {
        "duration": 7,
        "start_time": "2022-10-12T10:34:53.662Z"
      },
      {
        "duration": 1272,
        "start_time": "2022-10-12T10:35:24.048Z"
      },
      {
        "duration": 22,
        "start_time": "2022-10-12T10:35:25.322Z"
      },
      {
        "duration": 10,
        "start_time": "2022-10-12T10:35:25.346Z"
      },
      {
        "duration": 725,
        "start_time": "2022-10-12T10:35:25.358Z"
      },
      {
        "duration": 62,
        "start_time": "2022-10-12T10:35:26.085Z"
      },
      {
        "duration": 16,
        "start_time": "2022-10-12T10:35:26.148Z"
      },
      {
        "duration": 14,
        "start_time": "2022-10-12T10:35:26.165Z"
      },
      {
        "duration": 41,
        "start_time": "2022-10-12T10:35:26.180Z"
      },
      {
        "duration": 81,
        "start_time": "2022-10-12T10:35:26.223Z"
      },
      {
        "duration": 66,
        "start_time": "2022-10-12T10:35:26.306Z"
      },
      {
        "duration": 420,
        "start_time": "2022-10-12T10:35:26.374Z"
      },
      {
        "duration": 10,
        "start_time": "2022-10-12T10:42:05.639Z"
      },
      {
        "duration": 16,
        "start_time": "2022-10-12T10:51:45.048Z"
      },
      {
        "duration": 15,
        "start_time": "2022-10-12T10:53:30.845Z"
      },
      {
        "duration": 16,
        "start_time": "2022-10-12T11:01:26.928Z"
      },
      {
        "duration": 14,
        "start_time": "2022-10-12T11:01:42.372Z"
      },
      {
        "duration": 14,
        "start_time": "2022-10-12T11:01:56.134Z"
      },
      {
        "duration": 14,
        "start_time": "2022-10-12T11:02:05.523Z"
      },
      {
        "duration": 15,
        "start_time": "2022-10-12T11:07:45.678Z"
      },
      {
        "duration": 3,
        "start_time": "2022-10-12T11:12:34.135Z"
      },
      {
        "duration": 15,
        "start_time": "2022-10-12T11:12:45.316Z"
      },
      {
        "duration": 13,
        "start_time": "2022-10-12T11:12:57.803Z"
      },
      {
        "duration": 18,
        "start_time": "2022-10-12T11:21:13.570Z"
      },
      {
        "duration": 17,
        "start_time": "2022-10-12T11:21:28.168Z"
      },
      {
        "duration": 4,
        "start_time": "2022-10-12T11:26:50.888Z"
      },
      {
        "duration": 17,
        "start_time": "2022-10-12T11:27:26.584Z"
      },
      {
        "duration": 13,
        "start_time": "2022-10-12T11:27:36.155Z"
      },
      {
        "duration": 18,
        "start_time": "2022-10-12T11:27:50.150Z"
      },
      {
        "duration": 150,
        "start_time": "2022-10-12T11:28:10.209Z"
      },
      {
        "duration": 378,
        "start_time": "2022-10-12T11:33:23.476Z"
      },
      {
        "duration": 456,
        "start_time": "2022-10-12T11:33:38.099Z"
      },
      {
        "duration": 102,
        "start_time": "2022-10-12T12:49:50.934Z"
      },
      {
        "duration": 11,
        "start_time": "2022-10-12T12:52:32.998Z"
      },
      {
        "duration": 9,
        "start_time": "2022-10-12T13:06:38.612Z"
      },
      {
        "duration": 10,
        "start_time": "2022-10-12T13:07:18.512Z"
      },
      {
        "duration": 1356,
        "start_time": "2022-10-12T13:07:24.658Z"
      },
      {
        "duration": 22,
        "start_time": "2022-10-12T13:07:26.017Z"
      },
      {
        "duration": 9,
        "start_time": "2022-10-12T13:07:26.041Z"
      },
      {
        "duration": 827,
        "start_time": "2022-10-12T13:07:26.053Z"
      },
      {
        "duration": 68,
        "start_time": "2022-10-12T13:07:26.882Z"
      },
      {
        "duration": 15,
        "start_time": "2022-10-12T13:07:26.951Z"
      },
      {
        "duration": 3,
        "start_time": "2022-10-12T13:07:26.967Z"
      },
      {
        "duration": 24,
        "start_time": "2022-10-12T13:07:26.971Z"
      },
      {
        "duration": 92,
        "start_time": "2022-10-12T13:07:26.996Z"
      },
      {
        "duration": 60,
        "start_time": "2022-10-12T13:07:27.091Z"
      },
      {
        "duration": 369,
        "start_time": "2022-10-12T13:07:27.153Z"
      },
      {
        "duration": 29,
        "start_time": "2022-10-12T13:07:27.523Z"
      },
      {
        "duration": 4,
        "start_time": "2022-10-12T13:07:27.555Z"
      },
      {
        "duration": 118,
        "start_time": "2022-10-12T13:07:27.561Z"
      },
      {
        "duration": 9,
        "start_time": "2022-10-12T13:07:49.776Z"
      },
      {
        "duration": 14,
        "start_time": "2022-10-12T13:10:08.896Z"
      },
      {
        "duration": 33,
        "start_time": "2022-10-12T13:10:27.892Z"
      },
      {
        "duration": 270,
        "start_time": "2022-10-12T13:12:02.123Z"
      },
      {
        "duration": 609,
        "start_time": "2022-10-12T13:12:14.852Z"
      },
      {
        "duration": 284,
        "start_time": "2022-10-12T13:17:02.218Z"
      },
      {
        "duration": 514,
        "start_time": "2022-10-12T13:18:03.600Z"
      },
      {
        "duration": 365,
        "start_time": "2022-10-12T13:18:17.513Z"
      },
      {
        "duration": 292,
        "start_time": "2022-10-12T13:18:40.694Z"
      },
      {
        "duration": 196,
        "start_time": "2022-10-12T13:19:52.105Z"
      },
      {
        "duration": 271,
        "start_time": "2022-10-12T13:19:57.162Z"
      },
      {
        "duration": 281,
        "start_time": "2022-10-12T13:25:53.269Z"
      },
      {
        "duration": 192,
        "start_time": "2022-10-12T13:26:08.188Z"
      },
      {
        "duration": 333,
        "start_time": "2022-10-12T13:27:14.077Z"
      },
      {
        "duration": 3,
        "start_time": "2022-10-12T13:27:45.558Z"
      },
      {
        "duration": 206,
        "start_time": "2022-10-12T13:29:18.198Z"
      },
      {
        "duration": 160,
        "start_time": "2022-10-12T13:29:58.529Z"
      },
      {
        "duration": 245,
        "start_time": "2022-10-12T13:36:08.418Z"
      },
      {
        "duration": 22,
        "start_time": "2022-10-12T13:37:34.327Z"
      },
      {
        "duration": 223,
        "start_time": "2022-10-12T13:37:44.062Z"
      },
      {
        "duration": 21,
        "start_time": "2022-10-12T13:37:52.712Z"
      },
      {
        "duration": 27,
        "start_time": "2022-10-12T13:38:51.254Z"
      },
      {
        "duration": 20,
        "start_time": "2022-10-12T13:46:52.313Z"
      },
      {
        "duration": 4,
        "start_time": "2022-10-12T13:47:20.256Z"
      },
      {
        "duration": 4,
        "start_time": "2022-10-12T13:47:43.068Z"
      },
      {
        "duration": 5,
        "start_time": "2022-10-12T13:47:58.501Z"
      },
      {
        "duration": 28,
        "start_time": "2022-10-12T13:48:07.405Z"
      },
      {
        "duration": 0,
        "start_time": "2022-10-12T13:50:36.433Z"
      },
      {
        "duration": 1195,
        "start_time": "2022-10-12T13:50:36.466Z"
      },
      {
        "duration": 0,
        "start_time": "2022-10-12T13:50:37.663Z"
      },
      {
        "duration": 0,
        "start_time": "2022-10-12T13:50:37.664Z"
      },
      {
        "duration": 0,
        "start_time": "2022-10-12T13:50:37.665Z"
      },
      {
        "duration": 0,
        "start_time": "2022-10-12T13:50:37.666Z"
      },
      {
        "duration": 0,
        "start_time": "2022-10-12T13:50:37.667Z"
      },
      {
        "duration": 0,
        "start_time": "2022-10-12T13:50:37.668Z"
      },
      {
        "duration": 0,
        "start_time": "2022-10-12T13:50:37.668Z"
      },
      {
        "duration": 0,
        "start_time": "2022-10-12T13:50:37.670Z"
      },
      {
        "duration": 0,
        "start_time": "2022-10-12T13:50:37.671Z"
      },
      {
        "duration": 0,
        "start_time": "2022-10-12T13:50:37.671Z"
      },
      {
        "duration": 0,
        "start_time": "2022-10-12T13:50:37.672Z"
      },
      {
        "duration": 0,
        "start_time": "2022-10-12T13:50:37.673Z"
      },
      {
        "duration": 0,
        "start_time": "2022-10-12T13:50:37.674Z"
      },
      {
        "duration": 0,
        "start_time": "2022-10-12T13:50:37.675Z"
      },
      {
        "duration": 9,
        "start_time": "2022-10-12T13:50:41.920Z"
      },
      {
        "duration": 1269,
        "start_time": "2022-10-12T13:50:47.126Z"
      },
      {
        "duration": 0,
        "start_time": "2022-10-12T13:50:48.397Z"
      },
      {
        "duration": 0,
        "start_time": "2022-10-12T13:50:48.398Z"
      },
      {
        "duration": 0,
        "start_time": "2022-10-12T13:50:48.399Z"
      },
      {
        "duration": 0,
        "start_time": "2022-10-12T13:50:48.400Z"
      },
      {
        "duration": 0,
        "start_time": "2022-10-12T13:50:48.401Z"
      },
      {
        "duration": 0,
        "start_time": "2022-10-12T13:50:48.403Z"
      },
      {
        "duration": 0,
        "start_time": "2022-10-12T13:50:48.404Z"
      },
      {
        "duration": 0,
        "start_time": "2022-10-12T13:50:48.405Z"
      },
      {
        "duration": 0,
        "start_time": "2022-10-12T13:50:48.407Z"
      },
      {
        "duration": 0,
        "start_time": "2022-10-12T13:50:48.408Z"
      },
      {
        "duration": 0,
        "start_time": "2022-10-12T13:50:48.409Z"
      },
      {
        "duration": 0,
        "start_time": "2022-10-12T13:50:48.410Z"
      },
      {
        "duration": 0,
        "start_time": "2022-10-12T13:50:48.411Z"
      },
      {
        "duration": 0,
        "start_time": "2022-10-12T13:50:48.413Z"
      },
      {
        "duration": 8,
        "start_time": "2022-10-12T13:50:52.803Z"
      },
      {
        "duration": 1363,
        "start_time": "2022-10-12T13:51:02.220Z"
      },
      {
        "duration": 0,
        "start_time": "2022-10-12T13:51:03.586Z"
      },
      {
        "duration": 0,
        "start_time": "2022-10-12T13:51:03.587Z"
      },
      {
        "duration": 0,
        "start_time": "2022-10-12T13:51:03.588Z"
      },
      {
        "duration": 0,
        "start_time": "2022-10-12T13:51:03.589Z"
      },
      {
        "duration": 0,
        "start_time": "2022-10-12T13:51:03.589Z"
      },
      {
        "duration": 0,
        "start_time": "2022-10-12T13:51:03.591Z"
      },
      {
        "duration": 0,
        "start_time": "2022-10-12T13:51:03.592Z"
      },
      {
        "duration": 0,
        "start_time": "2022-10-12T13:51:03.594Z"
      },
      {
        "duration": 0,
        "start_time": "2022-10-12T13:51:03.594Z"
      },
      {
        "duration": 0,
        "start_time": "2022-10-12T13:51:03.595Z"
      },
      {
        "duration": 0,
        "start_time": "2022-10-12T13:51:03.596Z"
      },
      {
        "duration": 0,
        "start_time": "2022-10-12T13:51:03.597Z"
      },
      {
        "duration": 0,
        "start_time": "2022-10-12T13:51:03.598Z"
      },
      {
        "duration": 0,
        "start_time": "2022-10-12T13:51:03.599Z"
      },
      {
        "duration": 9,
        "start_time": "2022-10-12T13:51:07.183Z"
      },
      {
        "duration": 11,
        "start_time": "2022-10-12T13:51:14.096Z"
      },
      {
        "duration": 9,
        "start_time": "2022-10-12T13:51:31.568Z"
      },
      {
        "duration": 19,
        "start_time": "2022-10-12T13:51:36.011Z"
      },
      {
        "duration": 1209,
        "start_time": "2022-10-12T13:51:51.570Z"
      },
      {
        "duration": 0,
        "start_time": "2022-10-12T13:51:52.781Z"
      },
      {
        "duration": 0,
        "start_time": "2022-10-12T13:51:52.782Z"
      },
      {
        "duration": 0,
        "start_time": "2022-10-12T13:51:52.783Z"
      },
      {
        "duration": 0,
        "start_time": "2022-10-12T13:51:52.783Z"
      },
      {
        "duration": 1,
        "start_time": "2022-10-12T13:51:52.784Z"
      },
      {
        "duration": 0,
        "start_time": "2022-10-12T13:51:52.786Z"
      },
      {
        "duration": 1,
        "start_time": "2022-10-12T13:51:52.786Z"
      },
      {
        "duration": 0,
        "start_time": "2022-10-12T13:51:52.787Z"
      },
      {
        "duration": 0,
        "start_time": "2022-10-12T13:51:52.788Z"
      },
      {
        "duration": 0,
        "start_time": "2022-10-12T13:51:52.789Z"
      },
      {
        "duration": 0,
        "start_time": "2022-10-12T13:51:52.790Z"
      },
      {
        "duration": 0,
        "start_time": "2022-10-12T13:51:52.791Z"
      },
      {
        "duration": 0,
        "start_time": "2022-10-12T13:51:52.792Z"
      },
      {
        "duration": 0,
        "start_time": "2022-10-12T13:51:52.793Z"
      },
      {
        "duration": 8,
        "start_time": "2022-10-12T13:51:57.890Z"
      },
      {
        "duration": 18,
        "start_time": "2022-10-12T13:52:21.797Z"
      },
      {
        "duration": 1246,
        "start_time": "2022-10-12T13:52:27.427Z"
      },
      {
        "duration": 0,
        "start_time": "2022-10-12T13:52:28.675Z"
      },
      {
        "duration": 0,
        "start_time": "2022-10-12T13:52:28.676Z"
      },
      {
        "duration": 0,
        "start_time": "2022-10-12T13:52:28.677Z"
      },
      {
        "duration": 0,
        "start_time": "2022-10-12T13:52:28.678Z"
      },
      {
        "duration": 0,
        "start_time": "2022-10-12T13:52:28.679Z"
      },
      {
        "duration": 0,
        "start_time": "2022-10-12T13:52:28.679Z"
      },
      {
        "duration": 0,
        "start_time": "2022-10-12T13:52:28.680Z"
      },
      {
        "duration": 0,
        "start_time": "2022-10-12T13:52:28.681Z"
      },
      {
        "duration": 0,
        "start_time": "2022-10-12T13:52:28.682Z"
      },
      {
        "duration": 0,
        "start_time": "2022-10-12T13:52:28.683Z"
      },
      {
        "duration": 0,
        "start_time": "2022-10-12T13:52:28.684Z"
      },
      {
        "duration": 0,
        "start_time": "2022-10-12T13:52:28.685Z"
      },
      {
        "duration": 0,
        "start_time": "2022-10-12T13:52:28.685Z"
      },
      {
        "duration": 0,
        "start_time": "2022-10-12T13:52:28.686Z"
      },
      {
        "duration": 10,
        "start_time": "2022-10-12T13:52:32.440Z"
      },
      {
        "duration": 18,
        "start_time": "2022-10-12T13:52:53.368Z"
      },
      {
        "duration": 1598,
        "start_time": "2022-10-13T10:43:08.458Z"
      },
      {
        "duration": 22,
        "start_time": "2022-10-13T10:43:10.058Z"
      },
      {
        "duration": 9,
        "start_time": "2022-10-13T10:43:10.081Z"
      },
      {
        "duration": 765,
        "start_time": "2022-10-13T10:43:10.091Z"
      },
      {
        "duration": 53,
        "start_time": "2022-10-13T10:43:10.858Z"
      },
      {
        "duration": 14,
        "start_time": "2022-10-13T10:43:10.922Z"
      },
      {
        "duration": 5,
        "start_time": "2022-10-13T10:43:10.938Z"
      },
      {
        "duration": 24,
        "start_time": "2022-10-13T10:43:10.945Z"
      },
      {
        "duration": 101,
        "start_time": "2022-10-13T10:43:10.971Z"
      },
      {
        "duration": 58,
        "start_time": "2022-10-13T10:43:11.075Z"
      },
      {
        "duration": 390,
        "start_time": "2022-10-13T10:43:11.135Z"
      },
      {
        "duration": 21,
        "start_time": "2022-10-13T10:43:11.527Z"
      },
      {
        "duration": 8,
        "start_time": "2022-10-13T10:43:11.550Z"
      },
      {
        "duration": 28,
        "start_time": "2022-10-13T10:43:11.561Z"
      },
      {
        "duration": 44,
        "start_time": "2022-10-13T10:43:11.591Z"
      },
      {
        "duration": 119,
        "start_time": "2022-10-13T10:43:15.235Z"
      },
      {
        "duration": 22,
        "start_time": "2022-10-13T10:43:16.345Z"
      },
      {
        "duration": 638,
        "start_time": "2022-10-13T10:43:45.640Z"
      },
      {
        "duration": 422,
        "start_time": "2022-10-13T10:44:08.122Z"
      },
      {
        "duration": 18,
        "start_time": "2022-10-13T10:44:15.304Z"
      },
      {
        "duration": 17,
        "start_time": "2022-10-13T10:44:30.150Z"
      },
      {
        "duration": 690,
        "start_time": "2022-10-13T10:44:57.665Z"
      },
      {
        "duration": 28,
        "start_time": "2022-10-13T10:47:12.581Z"
      },
      {
        "duration": 21,
        "start_time": "2022-10-13T10:47:39.435Z"
      },
      {
        "duration": 1200,
        "start_time": "2022-10-13T10:47:51.866Z"
      },
      {
        "duration": 24,
        "start_time": "2022-10-13T10:47:53.068Z"
      },
      {
        "duration": 9,
        "start_time": "2022-10-13T10:47:53.094Z"
      },
      {
        "duration": 710,
        "start_time": "2022-10-13T10:47:53.105Z"
      },
      {
        "duration": 57,
        "start_time": "2022-10-13T10:47:53.823Z"
      },
      {
        "duration": 16,
        "start_time": "2022-10-13T10:47:53.881Z"
      },
      {
        "duration": 2,
        "start_time": "2022-10-13T10:47:53.899Z"
      },
      {
        "duration": 40,
        "start_time": "2022-10-13T10:47:53.902Z"
      },
      {
        "duration": 65,
        "start_time": "2022-10-13T10:47:53.943Z"
      },
      {
        "duration": 59,
        "start_time": "2022-10-13T10:47:54.010Z"
      },
      {
        "duration": 368,
        "start_time": "2022-10-13T10:47:54.070Z"
      },
      {
        "duration": 18,
        "start_time": "2022-10-13T10:47:54.439Z"
      },
      {
        "duration": 9,
        "start_time": "2022-10-13T10:47:54.458Z"
      },
      {
        "duration": 30,
        "start_time": "2022-10-13T10:47:54.469Z"
      },
      {
        "duration": 35,
        "start_time": "2022-10-13T10:47:54.500Z"
      },
      {
        "duration": 16,
        "start_time": "2022-10-13T11:14:35.114Z"
      },
      {
        "duration": 98,
        "start_time": "2022-10-13T11:15:10.486Z"
      },
      {
        "duration": 14,
        "start_time": "2022-10-13T11:16:31.029Z"
      },
      {
        "duration": 14,
        "start_time": "2022-10-13T11:17:31.562Z"
      },
      {
        "duration": 15,
        "start_time": "2022-10-13T11:18:29.856Z"
      },
      {
        "duration": 13,
        "start_time": "2022-10-13T11:19:06.172Z"
      },
      {
        "duration": 14,
        "start_time": "2022-10-13T11:19:14.143Z"
      },
      {
        "duration": 13,
        "start_time": "2022-10-13T11:23:52.716Z"
      },
      {
        "duration": 2076,
        "start_time": "2022-10-13T11:25:33.156Z"
      },
      {
        "duration": 1235,
        "start_time": "2022-10-13T11:25:43.184Z"
      },
      {
        "duration": 5,
        "start_time": "2022-10-13T11:25:44.420Z"
      },
      {
        "duration": 32,
        "start_time": "2022-10-13T11:25:44.426Z"
      },
      {
        "duration": 8,
        "start_time": "2022-10-13T11:25:44.460Z"
      },
      {
        "duration": 699,
        "start_time": "2022-10-13T11:25:44.469Z"
      },
      {
        "duration": 59,
        "start_time": "2022-10-13T11:25:45.170Z"
      },
      {
        "duration": 14,
        "start_time": "2022-10-13T11:25:45.231Z"
      },
      {
        "duration": 2,
        "start_time": "2022-10-13T11:25:45.246Z"
      },
      {
        "duration": 22,
        "start_time": "2022-10-13T11:25:45.250Z"
      },
      {
        "duration": 98,
        "start_time": "2022-10-13T11:25:45.274Z"
      },
      {
        "duration": 55,
        "start_time": "2022-10-13T11:25:45.374Z"
      },
      {
        "duration": 396,
        "start_time": "2022-10-13T11:25:45.431Z"
      },
      {
        "duration": 17,
        "start_time": "2022-10-13T11:25:45.828Z"
      },
      {
        "duration": 4,
        "start_time": "2022-10-13T11:25:45.847Z"
      },
      {
        "duration": 27,
        "start_time": "2022-10-13T11:25:45.852Z"
      },
      {
        "duration": 43,
        "start_time": "2022-10-13T11:25:45.880Z"
      },
      {
        "duration": 16,
        "start_time": "2022-10-13T11:25:45.925Z"
      },
      {
        "duration": 1610,
        "start_time": "2022-10-13T11:26:21.342Z"
      },
      {
        "duration": 1385,
        "start_time": "2022-10-13T11:26:54.079Z"
      },
      {
        "duration": 2081,
        "start_time": "2022-10-13T11:27:01.869Z"
      },
      {
        "duration": 2148,
        "start_time": "2022-10-13T11:27:25.593Z"
      },
      {
        "duration": 1197,
        "start_time": "2022-10-13T11:27:41.964Z"
      },
      {
        "duration": 3,
        "start_time": "2022-10-13T11:27:43.163Z"
      },
      {
        "duration": 25,
        "start_time": "2022-10-13T11:27:43.167Z"
      },
      {
        "duration": 9,
        "start_time": "2022-10-13T11:27:43.194Z"
      },
      {
        "duration": 712,
        "start_time": "2022-10-13T11:27:43.204Z"
      },
      {
        "duration": 55,
        "start_time": "2022-10-13T11:27:43.918Z"
      },
      {
        "duration": 15,
        "start_time": "2022-10-13T11:27:43.975Z"
      },
      {
        "duration": 2,
        "start_time": "2022-10-13T11:27:43.991Z"
      },
      {
        "duration": 44,
        "start_time": "2022-10-13T11:27:43.995Z"
      },
      {
        "duration": 71,
        "start_time": "2022-10-13T11:27:44.041Z"
      },
      {
        "duration": 51,
        "start_time": "2022-10-13T11:27:44.114Z"
      },
      {
        "duration": 360,
        "start_time": "2022-10-13T11:27:44.166Z"
      },
      {
        "duration": 17,
        "start_time": "2022-10-13T11:27:44.528Z"
      },
      {
        "duration": 4,
        "start_time": "2022-10-13T11:27:44.546Z"
      },
      {
        "duration": 23,
        "start_time": "2022-10-13T11:27:44.551Z"
      },
      {
        "duration": 19,
        "start_time": "2022-10-13T11:27:44.575Z"
      },
      {
        "duration": 15,
        "start_time": "2022-10-13T11:27:44.621Z"
      },
      {
        "duration": 1285,
        "start_time": "2022-10-13T11:27:54.367Z"
      },
      {
        "duration": 1288,
        "start_time": "2022-10-13T11:28:01.181Z"
      },
      {
        "duration": 7,
        "start_time": "2022-10-13T11:28:02.471Z"
      },
      {
        "duration": 29,
        "start_time": "2022-10-13T11:28:02.480Z"
      },
      {
        "duration": 18,
        "start_time": "2022-10-13T11:28:02.511Z"
      },
      {
        "duration": 709,
        "start_time": "2022-10-13T11:28:02.532Z"
      },
      {
        "duration": 54,
        "start_time": "2022-10-13T11:28:03.243Z"
      },
      {
        "duration": 31,
        "start_time": "2022-10-13T11:28:03.299Z"
      },
      {
        "duration": 2,
        "start_time": "2022-10-13T11:28:03.332Z"
      },
      {
        "duration": 25,
        "start_time": "2022-10-13T11:28:03.336Z"
      },
      {
        "duration": 117,
        "start_time": "2022-10-13T11:28:03.363Z"
      },
      {
        "duration": 62,
        "start_time": "2022-10-13T11:28:03.483Z"
      },
      {
        "duration": 388,
        "start_time": "2022-10-13T11:28:03.547Z"
      },
      {
        "duration": 18,
        "start_time": "2022-10-13T11:28:03.936Z"
      },
      {
        "duration": 4,
        "start_time": "2022-10-13T11:28:03.956Z"
      },
      {
        "duration": 38,
        "start_time": "2022-10-13T11:28:03.961Z"
      },
      {
        "duration": 25,
        "start_time": "2022-10-13T11:28:04.001Z"
      },
      {
        "duration": 15,
        "start_time": "2022-10-13T11:28:04.027Z"
      },
      {
        "duration": 2577,
        "start_time": "2022-10-13T11:39:33.258Z"
      },
      {
        "duration": 1173,
        "start_time": "2022-10-13T11:39:45.874Z"
      },
      {
        "duration": 102,
        "start_time": "2022-10-13T11:39:47.049Z"
      },
      {
        "duration": 0,
        "start_time": "2022-10-13T11:39:47.153Z"
      },
      {
        "duration": 0,
        "start_time": "2022-10-13T11:39:47.154Z"
      },
      {
        "duration": 0,
        "start_time": "2022-10-13T11:39:47.156Z"
      },
      {
        "duration": 0,
        "start_time": "2022-10-13T11:39:47.157Z"
      },
      {
        "duration": 0,
        "start_time": "2022-10-13T11:39:47.158Z"
      },
      {
        "duration": 0,
        "start_time": "2022-10-13T11:39:47.159Z"
      },
      {
        "duration": 0,
        "start_time": "2022-10-13T11:39:47.160Z"
      },
      {
        "duration": 0,
        "start_time": "2022-10-13T11:39:47.161Z"
      },
      {
        "duration": 0,
        "start_time": "2022-10-13T11:39:47.163Z"
      },
      {
        "duration": 0,
        "start_time": "2022-10-13T11:39:47.164Z"
      },
      {
        "duration": 0,
        "start_time": "2022-10-13T11:39:47.165Z"
      },
      {
        "duration": 0,
        "start_time": "2022-10-13T11:39:47.166Z"
      },
      {
        "duration": 0,
        "start_time": "2022-10-13T11:39:47.167Z"
      },
      {
        "duration": 0,
        "start_time": "2022-10-13T11:39:47.168Z"
      },
      {
        "duration": 0,
        "start_time": "2022-10-13T11:39:47.169Z"
      },
      {
        "duration": 12,
        "start_time": "2022-10-13T11:40:07.537Z"
      },
      {
        "duration": 89233,
        "start_time": "2022-10-13T11:40:46.748Z"
      },
      {
        "duration": 47,
        "start_time": "2022-10-14T05:58:31.962Z"
      },
      {
        "duration": 1502,
        "start_time": "2022-10-14T05:58:39.920Z"
      },
      {
        "duration": 20,
        "start_time": "2022-10-14T05:58:41.424Z"
      },
      {
        "duration": 9,
        "start_time": "2022-10-14T05:58:41.445Z"
      },
      {
        "duration": 780,
        "start_time": "2022-10-14T05:58:41.455Z"
      },
      {
        "duration": 53,
        "start_time": "2022-10-14T05:58:42.237Z"
      },
      {
        "duration": 23,
        "start_time": "2022-10-14T05:58:42.292Z"
      },
      {
        "duration": 9,
        "start_time": "2022-10-14T05:58:42.317Z"
      },
      {
        "duration": 28,
        "start_time": "2022-10-14T05:58:42.327Z"
      },
      {
        "duration": 71,
        "start_time": "2022-10-14T05:58:42.357Z"
      },
      {
        "duration": 52,
        "start_time": "2022-10-14T05:58:42.430Z"
      },
      {
        "duration": 377,
        "start_time": "2022-10-14T05:58:42.484Z"
      },
      {
        "duration": 16,
        "start_time": "2022-10-14T05:58:42.862Z"
      },
      {
        "duration": 4,
        "start_time": "2022-10-14T05:58:42.880Z"
      },
      {
        "duration": 42,
        "start_time": "2022-10-14T05:58:42.886Z"
      },
      {
        "duration": 18,
        "start_time": "2022-10-14T05:58:42.930Z"
      },
      {
        "duration": 20,
        "start_time": "2022-10-14T05:58:42.950Z"
      },
      {
        "duration": 11,
        "start_time": "2022-10-14T05:59:30.091Z"
      },
      {
        "duration": 46,
        "start_time": "2022-10-14T05:59:35.874Z"
      },
      {
        "duration": 17,
        "start_time": "2022-10-14T05:59:41.634Z"
      },
      {
        "duration": 14,
        "start_time": "2022-10-14T05:59:57.751Z"
      },
      {
        "duration": 146,
        "start_time": "2022-10-14T06:00:39.891Z"
      },
      {
        "duration": 267,
        "start_time": "2022-10-14T06:02:36.630Z"
      },
      {
        "duration": 202,
        "start_time": "2022-10-14T06:02:44.301Z"
      },
      {
        "duration": 177,
        "start_time": "2022-10-14T06:07:55.955Z"
      },
      {
        "duration": 242,
        "start_time": "2022-10-14T06:08:00.944Z"
      },
      {
        "duration": 171,
        "start_time": "2022-10-14T06:09:31.853Z"
      },
      {
        "duration": 117,
        "start_time": "2022-10-14T06:10:26.409Z"
      },
      {
        "duration": 168,
        "start_time": "2022-10-14T06:10:31.168Z"
      },
      {
        "duration": 153,
        "start_time": "2022-10-14T06:13:14.660Z"
      },
      {
        "duration": 163,
        "start_time": "2022-10-14T06:13:31.512Z"
      },
      {
        "duration": 194,
        "start_time": "2022-10-14T06:14:54.357Z"
      },
      {
        "duration": 1530,
        "start_time": "2022-10-14T06:15:19.844Z"
      },
      {
        "duration": 274,
        "start_time": "2022-10-14T06:15:26.896Z"
      },
      {
        "duration": 242,
        "start_time": "2022-10-14T06:15:34.213Z"
      },
      {
        "duration": 166,
        "start_time": "2022-10-14T06:15:53.051Z"
      },
      {
        "duration": 192,
        "start_time": "2022-10-14T06:22:05.106Z"
      },
      {
        "duration": 171,
        "start_time": "2022-10-14T06:22:11.775Z"
      },
      {
        "duration": 11,
        "start_time": "2022-10-14T06:24:01.017Z"
      },
      {
        "duration": 130,
        "start_time": "2022-10-14T06:24:13.378Z"
      },
      {
        "duration": 125,
        "start_time": "2022-10-14T06:24:52.478Z"
      },
      {
        "duration": 131,
        "start_time": "2022-10-14T06:25:01.085Z"
      },
      {
        "duration": 126,
        "start_time": "2022-10-14T06:26:39.242Z"
      },
      {
        "duration": 186,
        "start_time": "2022-10-14T06:27:20.972Z"
      },
      {
        "duration": 121,
        "start_time": "2022-10-14T06:27:29.129Z"
      },
      {
        "duration": 121,
        "start_time": "2022-10-14T06:30:29.042Z"
      },
      {
        "duration": 137,
        "start_time": "2022-10-14T06:31:03.976Z"
      },
      {
        "duration": 213,
        "start_time": "2022-10-14T06:31:23.334Z"
      },
      {
        "duration": 14,
        "start_time": "2022-10-14T06:33:10.412Z"
      },
      {
        "duration": 12,
        "start_time": "2022-10-14T06:33:22.587Z"
      },
      {
        "duration": 149,
        "start_time": "2022-10-14T06:34:31.165Z"
      },
      {
        "duration": 778,
        "start_time": "2022-10-14T06:45:15.372Z"
      },
      {
        "duration": 712,
        "start_time": "2022-10-14T06:45:32.341Z"
      },
      {
        "duration": 177,
        "start_time": "2022-10-14T06:45:49.008Z"
      },
      {
        "duration": 185,
        "start_time": "2022-10-14T06:46:12.399Z"
      },
      {
        "duration": 928,
        "start_time": "2022-10-14T06:46:28.649Z"
      },
      {
        "duration": 742,
        "start_time": "2022-10-14T06:46:47.256Z"
      },
      {
        "duration": 180,
        "start_time": "2022-10-14T06:47:23.973Z"
      },
      {
        "duration": 54,
        "start_time": "2022-10-14T06:53:55.847Z"
      },
      {
        "duration": 295,
        "start_time": "2022-10-14T06:54:11.916Z"
      },
      {
        "duration": 422,
        "start_time": "2022-10-14T06:54:36.752Z"
      },
      {
        "duration": 289,
        "start_time": "2022-10-14T06:54:48.940Z"
      },
      {
        "duration": 14,
        "start_time": "2022-10-14T06:55:00.736Z"
      },
      {
        "duration": 231,
        "start_time": "2022-10-14T06:55:07.918Z"
      },
      {
        "duration": 144,
        "start_time": "2022-10-14T06:55:29.073Z"
      },
      {
        "duration": 151,
        "start_time": "2022-10-14T06:55:55.115Z"
      },
      {
        "duration": 142,
        "start_time": "2022-10-14T06:56:08.211Z"
      },
      {
        "duration": 337,
        "start_time": "2022-10-14T06:56:36.077Z"
      },
      {
        "duration": 295,
        "start_time": "2022-10-14T06:56:48.865Z"
      },
      {
        "duration": 288,
        "start_time": "2022-10-14T06:57:02.372Z"
      },
      {
        "duration": 1235,
        "start_time": "2022-10-14T06:57:10.732Z"
      },
      {
        "duration": 20,
        "start_time": "2022-10-14T06:57:11.970Z"
      },
      {
        "duration": 11,
        "start_time": "2022-10-14T06:57:11.992Z"
      },
      {
        "duration": 805,
        "start_time": "2022-10-14T06:57:12.005Z"
      },
      {
        "duration": 55,
        "start_time": "2022-10-14T06:57:12.812Z"
      },
      {
        "duration": 14,
        "start_time": "2022-10-14T06:57:12.869Z"
      },
      {
        "duration": 24,
        "start_time": "2022-10-14T06:57:12.885Z"
      },
      {
        "duration": 32,
        "start_time": "2022-10-14T06:57:12.911Z"
      },
      {
        "duration": 102,
        "start_time": "2022-10-14T06:57:12.946Z"
      },
      {
        "duration": 68,
        "start_time": "2022-10-14T06:57:13.050Z"
      },
      {
        "duration": 391,
        "start_time": "2022-10-14T06:57:13.119Z"
      },
      {
        "duration": 19,
        "start_time": "2022-10-14T06:57:13.511Z"
      },
      {
        "duration": 6,
        "start_time": "2022-10-14T06:57:13.532Z"
      },
      {
        "duration": 28,
        "start_time": "2022-10-14T06:57:13.541Z"
      },
      {
        "duration": 45,
        "start_time": "2022-10-14T06:57:13.570Z"
      },
      {
        "duration": 312,
        "start_time": "2022-10-14T06:57:13.616Z"
      },
      {
        "duration": 288,
        "start_time": "2022-10-14T07:02:43.571Z"
      },
      {
        "duration": 365,
        "start_time": "2022-10-14T07:02:59.166Z"
      },
      {
        "duration": 117,
        "start_time": "2022-10-14T07:13:07.782Z"
      },
      {
        "duration": 5,
        "start_time": "2022-10-14T07:13:31.670Z"
      },
      {
        "duration": 7,
        "start_time": "2022-10-14T07:13:42.971Z"
      },
      {
        "duration": 10,
        "start_time": "2022-10-14T07:14:04.026Z"
      },
      {
        "duration": 9,
        "start_time": "2022-10-14T07:14:37.371Z"
      },
      {
        "duration": 10,
        "start_time": "2022-10-14T07:15:23.963Z"
      },
      {
        "duration": 16,
        "start_time": "2022-10-14T07:15:56.957Z"
      },
      {
        "duration": 13,
        "start_time": "2022-10-14T07:16:14.689Z"
      },
      {
        "duration": 161,
        "start_time": "2022-10-14T07:16:32.066Z"
      },
      {
        "duration": 176,
        "start_time": "2022-10-14T07:17:12.587Z"
      },
      {
        "duration": 170,
        "start_time": "2022-10-14T07:17:38.158Z"
      },
      {
        "duration": 163,
        "start_time": "2022-10-14T07:18:22.022Z"
      },
      {
        "duration": 161,
        "start_time": "2022-10-14T07:18:44.152Z"
      },
      {
        "duration": 184,
        "start_time": "2022-10-14T07:19:06.102Z"
      },
      {
        "duration": 157,
        "start_time": "2022-10-14T07:19:29.040Z"
      },
      {
        "duration": 201,
        "start_time": "2022-10-14T07:22:16.372Z"
      },
      {
        "duration": 180,
        "start_time": "2022-10-14T08:54:53.574Z"
      },
      {
        "duration": 177,
        "start_time": "2022-10-14T08:55:20.384Z"
      },
      {
        "duration": 6,
        "start_time": "2022-10-14T09:20:24.762Z"
      },
      {
        "duration": 1244,
        "start_time": "2022-10-14T09:24:16.234Z"
      },
      {
        "duration": 19,
        "start_time": "2022-10-14T09:24:17.480Z"
      },
      {
        "duration": 9,
        "start_time": "2022-10-14T09:24:17.500Z"
      },
      {
        "duration": 797,
        "start_time": "2022-10-14T09:24:17.511Z"
      },
      {
        "duration": 54,
        "start_time": "2022-10-14T09:24:18.310Z"
      },
      {
        "duration": 13,
        "start_time": "2022-10-14T09:24:18.366Z"
      },
      {
        "duration": 2,
        "start_time": "2022-10-14T09:24:18.380Z"
      },
      {
        "duration": 40,
        "start_time": "2022-10-14T09:24:18.384Z"
      },
      {
        "duration": 66,
        "start_time": "2022-10-14T09:24:18.426Z"
      },
      {
        "duration": 50,
        "start_time": "2022-10-14T09:24:18.493Z"
      },
      {
        "duration": 364,
        "start_time": "2022-10-14T09:24:18.545Z"
      },
      {
        "duration": 18,
        "start_time": "2022-10-14T09:24:18.910Z"
      },
      {
        "duration": 3,
        "start_time": "2022-10-14T09:24:18.930Z"
      },
      {
        "duration": 30,
        "start_time": "2022-10-14T09:24:18.935Z"
      },
      {
        "duration": 17,
        "start_time": "2022-10-14T09:24:18.966Z"
      },
      {
        "duration": 277,
        "start_time": "2022-10-14T09:24:19.012Z"
      },
      {
        "duration": 1,
        "start_time": "2022-10-14T09:24:19.290Z"
      },
      {
        "duration": 171,
        "start_time": "2022-10-14T09:24:33.323Z"
      },
      {
        "duration": 6,
        "start_time": "2022-10-14T09:24:42.366Z"
      },
      {
        "duration": 5,
        "start_time": "2022-10-14T09:26:40.745Z"
      },
      {
        "duration": 5,
        "start_time": "2022-10-14T09:30:15.158Z"
      },
      {
        "duration": 6,
        "start_time": "2022-10-14T09:38:42.902Z"
      },
      {
        "duration": 9,
        "start_time": "2022-10-14T09:39:11.176Z"
      },
      {
        "duration": 9,
        "start_time": "2022-10-14T09:39:38.538Z"
      },
      {
        "duration": 9,
        "start_time": "2022-10-14T09:39:47.597Z"
      },
      {
        "duration": 9,
        "start_time": "2022-10-14T09:40:10.739Z"
      },
      {
        "duration": 9,
        "start_time": "2022-10-14T09:41:10.053Z"
      },
      {
        "duration": 9,
        "start_time": "2022-10-14T09:41:32.151Z"
      },
      {
        "duration": 9,
        "start_time": "2022-10-14T09:41:48.244Z"
      },
      {
        "duration": 3,
        "start_time": "2022-10-14T09:44:09.984Z"
      },
      {
        "duration": 5,
        "start_time": "2022-10-14T09:44:35.302Z"
      },
      {
        "duration": 4,
        "start_time": "2022-10-14T09:44:42.285Z"
      },
      {
        "duration": 4,
        "start_time": "2022-10-14T09:44:49.820Z"
      },
      {
        "duration": 4,
        "start_time": "2022-10-14T09:44:58.743Z"
      },
      {
        "duration": 4,
        "start_time": "2022-10-14T09:46:17.561Z"
      },
      {
        "duration": 3,
        "start_time": "2022-10-14T09:47:12.845Z"
      },
      {
        "duration": 4,
        "start_time": "2022-10-14T09:47:18.889Z"
      },
      {
        "duration": 9,
        "start_time": "2022-10-14T09:47:29.557Z"
      },
      {
        "duration": 4,
        "start_time": "2022-10-14T09:47:45.989Z"
      },
      {
        "duration": 410,
        "start_time": "2022-10-14T09:47:57.743Z"
      },
      {
        "duration": 3,
        "start_time": "2022-10-14T09:48:08.123Z"
      },
      {
        "duration": 67,
        "start_time": "2022-10-14T09:48:49.398Z"
      },
      {
        "duration": 56,
        "start_time": "2022-10-14T09:48:54.859Z"
      },
      {
        "duration": 4,
        "start_time": "2022-10-14T09:48:59.834Z"
      },
      {
        "duration": 4,
        "start_time": "2022-10-14T09:49:13.396Z"
      },
      {
        "duration": 23,
        "start_time": "2022-10-14T09:52:31.315Z"
      },
      {
        "duration": 23,
        "start_time": "2022-10-14T09:52:48.705Z"
      },
      {
        "duration": 24,
        "start_time": "2022-10-14T09:53:16.703Z"
      },
      {
        "duration": 16,
        "start_time": "2022-10-14T09:53:28.249Z"
      },
      {
        "duration": 83,
        "start_time": "2022-10-14T10:02:18.121Z"
      },
      {
        "duration": 122,
        "start_time": "2022-10-14T10:03:14.288Z"
      },
      {
        "duration": 1348,
        "start_time": "2022-10-14T10:03:29.293Z"
      },
      {
        "duration": 22,
        "start_time": "2022-10-14T10:03:30.642Z"
      },
      {
        "duration": 18,
        "start_time": "2022-10-14T10:03:30.665Z"
      },
      {
        "duration": 863,
        "start_time": "2022-10-14T10:03:30.685Z"
      },
      {
        "duration": 71,
        "start_time": "2022-10-14T10:03:31.551Z"
      },
      {
        "duration": 13,
        "start_time": "2022-10-14T10:03:31.624Z"
      },
      {
        "duration": 11,
        "start_time": "2022-10-14T10:03:31.639Z"
      },
      {
        "duration": 35,
        "start_time": "2022-10-14T10:03:31.652Z"
      },
      {
        "duration": 79,
        "start_time": "2022-10-14T10:03:31.689Z"
      },
      {
        "duration": 53,
        "start_time": "2022-10-14T10:03:31.769Z"
      },
      {
        "duration": 375,
        "start_time": "2022-10-14T10:03:31.823Z"
      },
      {
        "duration": 24,
        "start_time": "2022-10-14T10:03:32.200Z"
      },
      {
        "duration": 46,
        "start_time": "2022-10-14T10:03:32.226Z"
      },
      {
        "duration": 37,
        "start_time": "2022-10-14T10:03:32.275Z"
      },
      {
        "duration": 20,
        "start_time": "2022-10-14T10:03:32.314Z"
      },
      {
        "duration": 197,
        "start_time": "2022-10-14T10:03:32.336Z"
      },
      {
        "duration": 4,
        "start_time": "2022-10-14T10:03:32.535Z"
      },
      {
        "duration": 312,
        "start_time": "2022-10-14T10:03:32.541Z"
      },
      {
        "duration": 14,
        "start_time": "2022-10-14T10:04:27.480Z"
      },
      {
        "duration": 1314,
        "start_time": "2022-10-14T10:05:06.598Z"
      },
      {
        "duration": 24,
        "start_time": "2022-10-14T10:05:07.914Z"
      },
      {
        "duration": 11,
        "start_time": "2022-10-14T10:05:07.940Z"
      },
      {
        "duration": 820,
        "start_time": "2022-10-14T10:05:07.953Z"
      },
      {
        "duration": 63,
        "start_time": "2022-10-14T10:05:08.775Z"
      },
      {
        "duration": 12,
        "start_time": "2022-10-14T10:05:08.840Z"
      },
      {
        "duration": 9,
        "start_time": "2022-10-14T10:05:08.853Z"
      },
      {
        "duration": 32,
        "start_time": "2022-10-14T10:05:08.864Z"
      },
      {
        "duration": 82,
        "start_time": "2022-10-14T10:05:08.898Z"
      },
      {
        "duration": 52,
        "start_time": "2022-10-14T10:05:08.981Z"
      },
      {
        "duration": 406,
        "start_time": "2022-10-14T10:05:09.034Z"
      },
      {
        "duration": 16,
        "start_time": "2022-10-14T10:05:09.442Z"
      },
      {
        "duration": 5,
        "start_time": "2022-10-14T10:05:09.459Z"
      },
      {
        "duration": 43,
        "start_time": "2022-10-14T10:05:09.466Z"
      },
      {
        "duration": 19,
        "start_time": "2022-10-14T10:05:09.510Z"
      },
      {
        "duration": 206,
        "start_time": "2022-10-14T10:05:09.531Z"
      },
      {
        "duration": 3,
        "start_time": "2022-10-14T10:05:09.739Z"
      },
      {
        "duration": 23,
        "start_time": "2022-10-14T10:05:09.744Z"
      },
      {
        "duration": 11,
        "start_time": "2022-10-14T10:25:36.452Z"
      },
      {
        "duration": 213,
        "start_time": "2022-10-14T10:26:26.159Z"
      },
      {
        "duration": 202,
        "start_time": "2022-10-14T10:28:26.547Z"
      },
      {
        "duration": 173,
        "start_time": "2022-10-14T10:28:41.660Z"
      },
      {
        "duration": 196,
        "start_time": "2022-10-14T10:28:46.992Z"
      },
      {
        "duration": 231,
        "start_time": "2022-10-14T10:29:32.709Z"
      },
      {
        "duration": 173,
        "start_time": "2022-10-14T10:29:41.627Z"
      },
      {
        "duration": 111,
        "start_time": "2022-10-14T10:31:08.821Z"
      },
      {
        "duration": 181,
        "start_time": "2022-10-14T10:33:33.939Z"
      },
      {
        "duration": 178,
        "start_time": "2022-10-14T10:34:13.931Z"
      },
      {
        "duration": 171,
        "start_time": "2022-10-14T10:34:58.504Z"
      },
      {
        "duration": 13,
        "start_time": "2022-10-14T11:02:32.412Z"
      },
      {
        "duration": 10,
        "start_time": "2022-10-14T11:02:36.768Z"
      },
      {
        "duration": 15,
        "start_time": "2022-10-14T11:02:56.806Z"
      },
      {
        "duration": 148,
        "start_time": "2022-10-14T11:05:39.451Z"
      },
      {
        "duration": 155,
        "start_time": "2022-10-14T11:15:28.127Z"
      },
      {
        "duration": 154,
        "start_time": "2022-10-14T11:16:13.144Z"
      },
      {
        "duration": 117,
        "start_time": "2022-10-14T11:16:32.358Z"
      },
      {
        "duration": 163,
        "start_time": "2022-10-14T11:16:41.136Z"
      },
      {
        "duration": 122,
        "start_time": "2022-10-14T11:22:47.355Z"
      },
      {
        "duration": 219,
        "start_time": "2022-10-14T11:22:58.955Z"
      },
      {
        "duration": 160,
        "start_time": "2022-10-14T11:23:22.844Z"
      },
      {
        "duration": 159,
        "start_time": "2022-10-14T11:23:39.590Z"
      },
      {
        "duration": 159,
        "start_time": "2022-10-14T11:23:57.578Z"
      },
      {
        "duration": 7,
        "start_time": "2022-10-14T11:41:49.328Z"
      },
      {
        "duration": 19,
        "start_time": "2022-10-14T11:46:35.121Z"
      },
      {
        "duration": 14,
        "start_time": "2022-10-14T11:46:53.677Z"
      },
      {
        "duration": 18,
        "start_time": "2022-10-14T11:47:20.502Z"
      },
      {
        "duration": 21,
        "start_time": "2022-10-14T11:48:44.703Z"
      },
      {
        "duration": 33,
        "start_time": "2022-10-14T12:30:06.861Z"
      },
      {
        "duration": 18,
        "start_time": "2022-10-14T12:32:30.978Z"
      },
      {
        "duration": 26,
        "start_time": "2022-10-14T12:33:57.374Z"
      },
      {
        "duration": 42,
        "start_time": "2022-10-14T12:34:04.682Z"
      },
      {
        "duration": 4,
        "start_time": "2022-10-14T12:34:11.744Z"
      },
      {
        "duration": 19,
        "start_time": "2022-10-14T12:34:36.634Z"
      },
      {
        "duration": 21,
        "start_time": "2022-10-14T12:37:57.289Z"
      },
      {
        "duration": 177,
        "start_time": "2022-10-14T12:38:59.774Z"
      },
      {
        "duration": 172,
        "start_time": "2022-10-14T12:39:28.837Z"
      },
      {
        "duration": 192,
        "start_time": "2022-10-14T12:40:25.291Z"
      },
      {
        "duration": 179,
        "start_time": "2022-10-14T12:40:55.944Z"
      },
      {
        "duration": 191,
        "start_time": "2022-10-14T12:41:52.181Z"
      },
      {
        "duration": 189,
        "start_time": "2022-10-14T12:42:55.009Z"
      },
      {
        "duration": 218,
        "start_time": "2022-10-14T12:44:20.883Z"
      },
      {
        "duration": 448,
        "start_time": "2022-10-14T12:59:21.004Z"
      },
      {
        "duration": 748,
        "start_time": "2022-10-14T13:01:55.447Z"
      },
      {
        "duration": 442,
        "start_time": "2022-10-14T13:02:09.885Z"
      },
      {
        "duration": 433,
        "start_time": "2022-10-14T13:04:22.401Z"
      },
      {
        "duration": 415,
        "start_time": "2022-10-14T13:50:34.662Z"
      },
      {
        "duration": 26,
        "start_time": "2022-10-14T13:55:30.757Z"
      },
      {
        "duration": 124,
        "start_time": "2022-10-14T13:55:46.030Z"
      },
      {
        "duration": 162,
        "start_time": "2022-10-14T13:57:25.289Z"
      },
      {
        "duration": 124,
        "start_time": "2022-10-14T13:58:22.631Z"
      },
      {
        "duration": 26,
        "start_time": "2022-10-14T13:58:48.168Z"
      },
      {
        "duration": 6,
        "start_time": "2022-10-14T14:16:59.013Z"
      },
      {
        "duration": 10,
        "start_time": "2022-10-14T14:17:56.444Z"
      },
      {
        "duration": 6,
        "start_time": "2022-10-14T14:21:54.311Z"
      },
      {
        "duration": 5,
        "start_time": "2022-10-14T14:22:04.005Z"
      },
      {
        "duration": 10,
        "start_time": "2022-10-14T14:22:19.930Z"
      },
      {
        "duration": 5,
        "start_time": "2022-10-14T14:22:32.138Z"
      },
      {
        "duration": 30,
        "start_time": "2022-10-14T14:22:48.144Z"
      },
      {
        "duration": 5,
        "start_time": "2022-10-14T14:23:42.407Z"
      },
      {
        "duration": 827,
        "start_time": "2022-10-14T14:23:57.357Z"
      },
      {
        "duration": 771,
        "start_time": "2022-10-14T14:24:15.466Z"
      },
      {
        "duration": 749,
        "start_time": "2022-10-14T14:24:33.080Z"
      },
      {
        "duration": 5,
        "start_time": "2022-10-14T14:24:55.315Z"
      },
      {
        "duration": 5,
        "start_time": "2022-10-14T14:25:14.268Z"
      },
      {
        "duration": 8,
        "start_time": "2022-10-16T10:44:34.939Z"
      },
      {
        "duration": 40,
        "start_time": "2022-10-16T10:44:41.854Z"
      },
      {
        "duration": 1466,
        "start_time": "2022-10-16T10:44:50.831Z"
      },
      {
        "duration": 20,
        "start_time": "2022-10-16T10:44:52.299Z"
      },
      {
        "duration": 26,
        "start_time": "2022-10-16T10:44:52.320Z"
      },
      {
        "duration": 9,
        "start_time": "2022-10-16T10:44:52.348Z"
      },
      {
        "duration": 683,
        "start_time": "2022-10-16T10:44:52.358Z"
      },
      {
        "duration": 56,
        "start_time": "2022-10-16T10:44:53.043Z"
      },
      {
        "duration": 25,
        "start_time": "2022-10-16T10:44:53.100Z"
      },
      {
        "duration": 6,
        "start_time": "2022-10-16T10:44:53.126Z"
      },
      {
        "duration": 29,
        "start_time": "2022-10-16T10:44:53.134Z"
      },
      {
        "duration": 71,
        "start_time": "2022-10-16T10:44:53.165Z"
      },
      {
        "duration": 49,
        "start_time": "2022-10-16T10:44:53.238Z"
      },
      {
        "duration": 352,
        "start_time": "2022-10-16T10:44:53.289Z"
      },
      {
        "duration": 16,
        "start_time": "2022-10-16T10:44:53.642Z"
      },
      {
        "duration": 9,
        "start_time": "2022-10-16T10:44:53.659Z"
      },
      {
        "duration": 28,
        "start_time": "2022-10-16T10:44:53.669Z"
      },
      {
        "duration": 31,
        "start_time": "2022-10-16T10:44:53.699Z"
      },
      {
        "duration": 180,
        "start_time": "2022-10-16T10:44:53.731Z"
      },
      {
        "duration": 9,
        "start_time": "2022-10-16T10:44:53.913Z"
      },
      {
        "duration": 184,
        "start_time": "2022-10-16T10:44:53.923Z"
      },
      {
        "duration": 183,
        "start_time": "2022-10-16T10:44:54.109Z"
      },
      {
        "duration": 273,
        "start_time": "2022-10-16T10:44:54.294Z"
      },
      {
        "duration": 397,
        "start_time": "2022-10-16T10:44:54.568Z"
      },
      {
        "duration": 22,
        "start_time": "2022-10-16T10:44:54.966Z"
      },
      {
        "duration": 23,
        "start_time": "2022-10-16T10:45:50.143Z"
      },
      {
        "duration": 53,
        "start_time": "2022-10-16T10:53:52.045Z"
      },
      {
        "duration": 8,
        "start_time": "2022-10-16T10:54:30.408Z"
      },
      {
        "duration": 8,
        "start_time": "2022-10-16T10:54:39.964Z"
      },
      {
        "duration": 10,
        "start_time": "2022-10-16T10:55:52.688Z"
      },
      {
        "duration": 9,
        "start_time": "2022-10-16T10:56:10.083Z"
      },
      {
        "duration": 10,
        "start_time": "2022-10-16T10:57:04.875Z"
      },
      {
        "duration": 10,
        "start_time": "2022-10-16T10:57:21.808Z"
      },
      {
        "duration": 10,
        "start_time": "2022-10-16T10:59:07.885Z"
      },
      {
        "duration": 11,
        "start_time": "2022-10-16T10:59:43.086Z"
      },
      {
        "duration": 1160,
        "start_time": "2022-10-16T11:00:57.794Z"
      },
      {
        "duration": 694,
        "start_time": "2022-10-16T11:01:21.645Z"
      },
      {
        "duration": 17,
        "start_time": "2022-10-16T11:01:33.200Z"
      },
      {
        "duration": 15,
        "start_time": "2022-10-16T11:02:25.225Z"
      },
      {
        "duration": 11,
        "start_time": "2022-10-16T11:02:37.577Z"
      },
      {
        "duration": 16,
        "start_time": "2022-10-16T11:02:49.669Z"
      },
      {
        "duration": 15,
        "start_time": "2022-10-16T11:03:08.744Z"
      },
      {
        "duration": 16,
        "start_time": "2022-10-16T11:03:22.505Z"
      },
      {
        "duration": 16,
        "start_time": "2022-10-16T11:04:55.083Z"
      },
      {
        "duration": 13,
        "start_time": "2022-10-16T11:06:26.095Z"
      },
      {
        "duration": 13,
        "start_time": "2022-10-16T11:06:52.196Z"
      },
      {
        "duration": 13,
        "start_time": "2022-10-16T11:08:16.523Z"
      },
      {
        "duration": 41,
        "start_time": "2022-10-16T11:23:42.722Z"
      },
      {
        "duration": 43,
        "start_time": "2022-10-16T11:24:04.045Z"
      },
      {
        "duration": 30,
        "start_time": "2022-10-16T11:24:37.661Z"
      },
      {
        "duration": 20,
        "start_time": "2022-10-16T11:25:12.283Z"
      },
      {
        "duration": 17,
        "start_time": "2022-10-16T11:25:23.241Z"
      },
      {
        "duration": 8,
        "start_time": "2022-10-16T11:30:04.801Z"
      },
      {
        "duration": 10,
        "start_time": "2022-10-16T11:30:16.810Z"
      },
      {
        "duration": 4,
        "start_time": "2022-10-16T11:30:26.006Z"
      },
      {
        "duration": 8,
        "start_time": "2022-10-16T11:30:35.936Z"
      },
      {
        "duration": 10,
        "start_time": "2022-10-16T11:41:41.244Z"
      },
      {
        "duration": 64,
        "start_time": "2022-10-16T11:42:09.218Z"
      },
      {
        "duration": 81,
        "start_time": "2022-10-16T11:42:46.258Z"
      },
      {
        "duration": 5,
        "start_time": "2022-10-16T11:46:47.901Z"
      },
      {
        "duration": 11,
        "start_time": "2022-10-16T11:47:12.794Z"
      },
      {
        "duration": 7,
        "start_time": "2022-10-16T11:47:19.485Z"
      },
      {
        "duration": 5,
        "start_time": "2022-10-16T11:47:37.915Z"
      },
      {
        "duration": 6,
        "start_time": "2022-10-16T11:47:49.211Z"
      },
      {
        "duration": 8,
        "start_time": "2022-10-16T11:48:04.229Z"
      },
      {
        "duration": 144,
        "start_time": "2022-10-16T11:48:14.960Z"
      },
      {
        "duration": 105,
        "start_time": "2022-10-16T11:50:32.650Z"
      },
      {
        "duration": 4,
        "start_time": "2022-10-16T11:51:48.318Z"
      },
      {
        "duration": 147,
        "start_time": "2022-10-16T11:52:31.312Z"
      },
      {
        "duration": 150,
        "start_time": "2022-10-16T11:55:04.390Z"
      },
      {
        "duration": 146,
        "start_time": "2022-10-16T11:57:38.525Z"
      },
      {
        "duration": 46,
        "start_time": "2022-10-17T08:38:02.735Z"
      },
      {
        "duration": 1617,
        "start_time": "2022-10-17T08:38:16.036Z"
      },
      {
        "duration": 19,
        "start_time": "2022-10-17T08:38:17.656Z"
      },
      {
        "duration": 29,
        "start_time": "2022-10-17T08:38:17.677Z"
      },
      {
        "duration": 15,
        "start_time": "2022-10-17T08:38:17.708Z"
      },
      {
        "duration": 716,
        "start_time": "2022-10-17T08:38:17.725Z"
      },
      {
        "duration": 53,
        "start_time": "2022-10-17T08:38:18.443Z"
      },
      {
        "duration": 31,
        "start_time": "2022-10-17T08:38:18.498Z"
      },
      {
        "duration": 2,
        "start_time": "2022-10-17T08:38:18.531Z"
      },
      {
        "duration": 26,
        "start_time": "2022-10-17T08:38:18.535Z"
      },
      {
        "duration": 65,
        "start_time": "2022-10-17T08:38:18.563Z"
      },
      {
        "duration": 53,
        "start_time": "2022-10-17T08:38:18.630Z"
      },
      {
        "duration": 417,
        "start_time": "2022-10-17T08:38:18.685Z"
      },
      {
        "duration": 23,
        "start_time": "2022-10-17T08:38:19.104Z"
      },
      {
        "duration": 4,
        "start_time": "2022-10-17T08:38:19.129Z"
      },
      {
        "duration": 26,
        "start_time": "2022-10-17T08:38:19.134Z"
      },
      {
        "duration": 20,
        "start_time": "2022-10-17T08:38:19.161Z"
      },
      {
        "duration": 197,
        "start_time": "2022-10-17T08:38:19.183Z"
      },
      {
        "duration": 4,
        "start_time": "2022-10-17T08:38:19.381Z"
      },
      {
        "duration": 185,
        "start_time": "2022-10-17T08:38:19.387Z"
      },
      {
        "duration": 164,
        "start_time": "2022-10-17T08:38:19.573Z"
      },
      {
        "duration": 211,
        "start_time": "2022-10-17T08:38:19.739Z"
      },
      {
        "duration": 396,
        "start_time": "2022-10-17T08:38:19.952Z"
      },
      {
        "duration": 15,
        "start_time": "2022-10-17T08:38:20.349Z"
      },
      {
        "duration": 153,
        "start_time": "2022-10-17T08:38:20.365Z"
      },
      {
        "duration": 153,
        "start_time": "2022-10-17T08:38:20.522Z"
      },
      {
        "duration": 155,
        "start_time": "2022-10-17T08:38:20.676Z"
      },
      {
        "duration": 61,
        "start_time": "2022-10-17T08:38:20.832Z"
      },
      {
        "duration": 0,
        "start_time": "2022-10-17T08:38:20.894Z"
      },
      {
        "duration": 5,
        "start_time": "2022-10-17T08:38:41.974Z"
      },
      {
        "duration": 9,
        "start_time": "2022-10-17T08:39:09.343Z"
      },
      {
        "duration": 9,
        "start_time": "2022-10-17T08:40:09.016Z"
      },
      {
        "duration": 6,
        "start_time": "2022-10-17T08:40:29.137Z"
      },
      {
        "duration": 7,
        "start_time": "2022-10-17T08:40:59.752Z"
      },
      {
        "duration": 7,
        "start_time": "2022-10-17T08:41:22.352Z"
      },
      {
        "duration": 10,
        "start_time": "2022-10-17T08:41:28.946Z"
      },
      {
        "duration": 7,
        "start_time": "2022-10-17T08:41:39.221Z"
      },
      {
        "duration": 7,
        "start_time": "2022-10-17T08:43:32.384Z"
      },
      {
        "duration": 6,
        "start_time": "2022-10-17T08:43:38.784Z"
      },
      {
        "duration": 109,
        "start_time": "2022-10-17T08:44:18.162Z"
      },
      {
        "duration": 11,
        "start_time": "2022-10-17T08:45:00.094Z"
      },
      {
        "duration": 11,
        "start_time": "2022-10-17T08:49:12.119Z"
      },
      {
        "duration": 14,
        "start_time": "2022-10-17T08:49:35.408Z"
      },
      {
        "duration": 12,
        "start_time": "2022-10-17T08:50:29.938Z"
      },
      {
        "duration": 15,
        "start_time": "2022-10-17T08:50:48.006Z"
      },
      {
        "duration": 25,
        "start_time": "2022-10-17T08:57:38.913Z"
      },
      {
        "duration": 28,
        "start_time": "2022-10-17T08:57:59.064Z"
      },
      {
        "duration": 18,
        "start_time": "2022-10-17T08:58:28.109Z"
      },
      {
        "duration": 23,
        "start_time": "2022-10-17T08:58:53.663Z"
      },
      {
        "duration": 21,
        "start_time": "2022-10-17T08:59:10.154Z"
      },
      {
        "duration": 22,
        "start_time": "2022-10-17T08:59:34.213Z"
      },
      {
        "duration": 24,
        "start_time": "2022-10-17T09:00:03.075Z"
      },
      {
        "duration": 11,
        "start_time": "2022-10-17T09:02:54.052Z"
      },
      {
        "duration": 19,
        "start_time": "2022-10-17T09:10:01.682Z"
      },
      {
        "duration": 80,
        "start_time": "2022-10-17T09:10:04.383Z"
      },
      {
        "duration": 147,
        "start_time": "2022-10-17T09:10:18.067Z"
      },
      {
        "duration": 143,
        "start_time": "2022-10-17T09:10:20.134Z"
      },
      {
        "duration": 14,
        "start_time": "2022-10-17T09:11:06.389Z"
      },
      {
        "duration": 16,
        "start_time": "2022-10-17T09:11:53.102Z"
      },
      {
        "duration": 14,
        "start_time": "2022-10-17T09:12:02.919Z"
      },
      {
        "duration": 15,
        "start_time": "2022-10-17T09:12:14.284Z"
      },
      {
        "duration": 36,
        "start_time": "2022-10-17T09:18:56.713Z"
      },
      {
        "duration": 28,
        "start_time": "2022-10-17T09:19:11.484Z"
      },
      {
        "duration": 10,
        "start_time": "2022-10-17T09:25:48.448Z"
      },
      {
        "duration": 9,
        "start_time": "2022-10-17T09:26:14.309Z"
      },
      {
        "duration": 9,
        "start_time": "2022-10-17T09:28:47.509Z"
      },
      {
        "duration": 8,
        "start_time": "2022-10-17T09:31:03.756Z"
      },
      {
        "duration": 192,
        "start_time": "2022-10-17T09:33:53.876Z"
      },
      {
        "duration": 201,
        "start_time": "2022-10-17T09:34:23.847Z"
      },
      {
        "duration": 252,
        "start_time": "2022-10-17T09:34:58.910Z"
      },
      {
        "duration": 186,
        "start_time": "2022-10-17T09:35:27.624Z"
      },
      {
        "duration": 9,
        "start_time": "2022-10-17T09:35:38.438Z"
      },
      {
        "duration": 205,
        "start_time": "2022-10-17T09:35:58.850Z"
      },
      {
        "duration": 427,
        "start_time": "2022-10-17T09:43:10.552Z"
      },
      {
        "duration": 409,
        "start_time": "2022-10-17T09:43:38.515Z"
      },
      {
        "duration": 372,
        "start_time": "2022-10-17T09:44:12.774Z"
      },
      {
        "duration": 424,
        "start_time": "2022-10-17T09:44:40.357Z"
      },
      {
        "duration": 375,
        "start_time": "2022-10-17T09:45:41.119Z"
      },
      {
        "duration": 362,
        "start_time": "2022-10-17T09:46:46.351Z"
      },
      {
        "duration": 378,
        "start_time": "2022-10-17T09:50:43.252Z"
      },
      {
        "duration": 392,
        "start_time": "2022-10-17T09:51:03.495Z"
      },
      {
        "duration": 411,
        "start_time": "2022-10-17T09:51:11.161Z"
      },
      {
        "duration": 451,
        "start_time": "2022-10-17T09:52:50.814Z"
      },
      {
        "duration": 311,
        "start_time": "2022-10-17T10:01:14.965Z"
      },
      {
        "duration": 313,
        "start_time": "2022-10-17T10:01:49.116Z"
      },
      {
        "duration": 124,
        "start_time": "2022-10-17T10:08:32.065Z"
      },
      {
        "duration": 117,
        "start_time": "2022-10-17T10:09:12.264Z"
      },
      {
        "duration": 125,
        "start_time": "2022-10-17T10:10:07.789Z"
      },
      {
        "duration": 124,
        "start_time": "2022-10-17T10:10:28.641Z"
      },
      {
        "duration": 115,
        "start_time": "2022-10-17T10:10:40.944Z"
      },
      {
        "duration": 119,
        "start_time": "2022-10-17T10:11:12.674Z"
      },
      {
        "duration": 119,
        "start_time": "2022-10-17T10:11:18.592Z"
      },
      {
        "duration": 158,
        "start_time": "2022-10-17T10:12:12.263Z"
      },
      {
        "duration": 283,
        "start_time": "2022-10-17T10:12:34.411Z"
      },
      {
        "duration": 284,
        "start_time": "2022-10-17T10:13:27.694Z"
      },
      {
        "duration": 95,
        "start_time": "2022-10-17T10:14:37.528Z"
      },
      {
        "duration": 74,
        "start_time": "2022-10-17T10:15:06.308Z"
      },
      {
        "duration": 112,
        "start_time": "2022-10-17T10:15:23.457Z"
      },
      {
        "duration": 138,
        "start_time": "2022-10-17T10:17:28.381Z"
      },
      {
        "duration": 227,
        "start_time": "2022-10-17T10:17:45.853Z"
      },
      {
        "duration": 118,
        "start_time": "2022-10-17T10:18:23.843Z"
      },
      {
        "duration": 147,
        "start_time": "2022-10-17T10:19:18.975Z"
      },
      {
        "duration": 116,
        "start_time": "2022-10-17T10:19:44.215Z"
      },
      {
        "duration": 108,
        "start_time": "2022-10-17T10:19:58.928Z"
      },
      {
        "duration": 125,
        "start_time": "2022-10-17T10:20:11.916Z"
      },
      {
        "duration": 144,
        "start_time": "2022-10-17T10:20:40.633Z"
      },
      {
        "duration": 286,
        "start_time": "2022-10-17T10:21:02.045Z"
      },
      {
        "duration": 309,
        "start_time": "2022-10-17T10:21:23.267Z"
      },
      {
        "duration": 370,
        "start_time": "2022-10-17T10:24:05.512Z"
      },
      {
        "duration": 357,
        "start_time": "2022-10-17T10:24:33.785Z"
      },
      {
        "duration": 357,
        "start_time": "2022-10-17T10:24:54.339Z"
      },
      {
        "duration": 57,
        "start_time": "2022-10-17T10:34:31.245Z"
      },
      {
        "duration": 16,
        "start_time": "2022-10-17T10:35:00.863Z"
      },
      {
        "duration": 17,
        "start_time": "2022-10-17T10:35:24.771Z"
      },
      {
        "duration": 47,
        "start_time": "2022-10-17T10:36:14.042Z"
      },
      {
        "duration": 367,
        "start_time": "2022-10-17T10:37:43.008Z"
      },
      {
        "duration": 12,
        "start_time": "2022-10-17T10:41:46.105Z"
      },
      {
        "duration": 11,
        "start_time": "2022-10-17T10:42:52.639Z"
      },
      {
        "duration": 20,
        "start_time": "2022-10-17T10:44:14.283Z"
      },
      {
        "duration": 25,
        "start_time": "2022-10-17T10:44:33.149Z"
      },
      {
        "duration": 729,
        "start_time": "2022-10-17T10:44:43.230Z"
      },
      {
        "duration": 10,
        "start_time": "2022-10-17T10:45:01.204Z"
      },
      {
        "duration": 10,
        "start_time": "2022-10-17T10:49:03.066Z"
      },
      {
        "duration": 12,
        "start_time": "2022-10-17T10:49:34.274Z"
      },
      {
        "duration": 4,
        "start_time": "2022-10-17T10:50:10.549Z"
      },
      {
        "duration": 12,
        "start_time": "2022-10-17T10:54:05.438Z"
      },
      {
        "duration": 12,
        "start_time": "2022-10-17T10:54:11.980Z"
      },
      {
        "duration": 9,
        "start_time": "2022-10-17T10:55:04.031Z"
      },
      {
        "duration": 7,
        "start_time": "2022-10-17T10:55:44.304Z"
      },
      {
        "duration": 12,
        "start_time": "2022-10-17T10:56:00.750Z"
      },
      {
        "duration": 10,
        "start_time": "2022-10-17T10:56:40.226Z"
      },
      {
        "duration": 11,
        "start_time": "2022-10-17T10:57:20.975Z"
      },
      {
        "duration": 10,
        "start_time": "2022-10-17T10:57:30.021Z"
      },
      {
        "duration": 14,
        "start_time": "2022-10-17T10:57:38.349Z"
      },
      {
        "duration": 1221,
        "start_time": "2022-10-17T10:58:23.503Z"
      },
      {
        "duration": 21,
        "start_time": "2022-10-17T10:58:24.726Z"
      },
      {
        "duration": 30,
        "start_time": "2022-10-17T10:58:24.748Z"
      },
      {
        "duration": 9,
        "start_time": "2022-10-17T10:58:24.780Z"
      },
      {
        "duration": 738,
        "start_time": "2022-10-17T10:58:24.791Z"
      },
      {
        "duration": 69,
        "start_time": "2022-10-17T10:58:25.531Z"
      },
      {
        "duration": 31,
        "start_time": "2022-10-17T10:58:25.602Z"
      },
      {
        "duration": 4,
        "start_time": "2022-10-17T10:58:25.635Z"
      },
      {
        "duration": 27,
        "start_time": "2022-10-17T10:58:25.641Z"
      },
      {
        "duration": 89,
        "start_time": "2022-10-17T10:58:25.671Z"
      },
      {
        "duration": 56,
        "start_time": "2022-10-17T10:58:25.762Z"
      },
      {
        "duration": 378,
        "start_time": "2022-10-17T10:58:25.820Z"
      },
      {
        "duration": 25,
        "start_time": "2022-10-17T10:58:26.200Z"
      },
      {
        "duration": 3,
        "start_time": "2022-10-17T10:58:26.227Z"
      },
      {
        "duration": 29,
        "start_time": "2022-10-17T10:58:26.231Z"
      },
      {
        "duration": 18,
        "start_time": "2022-10-17T10:58:26.262Z"
      },
      {
        "duration": 197,
        "start_time": "2022-10-17T10:58:26.282Z"
      },
      {
        "duration": 4,
        "start_time": "2022-10-17T10:58:26.481Z"
      },
      {
        "duration": 177,
        "start_time": "2022-10-17T10:58:26.486Z"
      },
      {
        "duration": 175,
        "start_time": "2022-10-17T10:58:26.664Z"
      },
      {
        "duration": 207,
        "start_time": "2022-10-17T10:58:26.841Z"
      },
      {
        "duration": 400,
        "start_time": "2022-10-17T10:58:27.049Z"
      },
      {
        "duration": 19,
        "start_time": "2022-10-17T10:58:27.451Z"
      },
      {
        "duration": 172,
        "start_time": "2022-10-17T10:58:27.472Z"
      },
      {
        "duration": 153,
        "start_time": "2022-10-17T10:58:27.645Z"
      },
      {
        "duration": 152,
        "start_time": "2022-10-17T10:58:27.800Z"
      },
      {
        "duration": 22,
        "start_time": "2022-10-17T10:58:27.954Z"
      },
      {
        "duration": 392,
        "start_time": "2022-10-17T10:58:27.979Z"
      },
      {
        "duration": 13,
        "start_time": "2022-10-17T10:58:28.373Z"
      },
      {
        "duration": 58,
        "start_time": "2022-10-17T11:00:13.335Z"
      },
      {
        "duration": 41,
        "start_time": "2022-10-18T12:37:54.406Z"
      },
      {
        "duration": 1736,
        "start_time": "2022-10-18T12:38:06.429Z"
      },
      {
        "duration": 20,
        "start_time": "2022-10-18T12:38:08.167Z"
      },
      {
        "duration": 29,
        "start_time": "2022-10-18T12:38:10.260Z"
      },
      {
        "duration": 1183,
        "start_time": "2022-10-18T12:38:24.649Z"
      },
      {
        "duration": 18,
        "start_time": "2022-10-18T12:38:25.834Z"
      },
      {
        "duration": 26,
        "start_time": "2022-10-18T12:38:25.854Z"
      },
      {
        "duration": 22,
        "start_time": "2022-10-18T12:38:25.883Z"
      },
      {
        "duration": 658,
        "start_time": "2022-10-18T12:38:25.907Z"
      },
      {
        "duration": 61,
        "start_time": "2022-10-18T12:38:26.566Z"
      },
      {
        "duration": 11,
        "start_time": "2022-10-18T12:38:26.628Z"
      },
      {
        "duration": 4,
        "start_time": "2022-10-18T12:38:26.641Z"
      },
      {
        "duration": 21,
        "start_time": "2022-10-18T12:38:26.646Z"
      },
      {
        "duration": 98,
        "start_time": "2022-10-18T12:38:26.669Z"
      },
      {
        "duration": 48,
        "start_time": "2022-10-18T12:38:26.769Z"
      },
      {
        "duration": 346,
        "start_time": "2022-10-18T12:38:26.818Z"
      },
      {
        "duration": 17,
        "start_time": "2022-10-18T12:38:27.165Z"
      },
      {
        "duration": 7,
        "start_time": "2022-10-18T12:38:27.183Z"
      },
      {
        "duration": 35,
        "start_time": "2022-10-18T12:38:27.191Z"
      },
      {
        "duration": 17,
        "start_time": "2022-10-18T12:38:27.227Z"
      },
      {
        "duration": 216,
        "start_time": "2022-10-18T12:38:27.246Z"
      },
      {
        "duration": 5,
        "start_time": "2022-10-18T12:38:27.465Z"
      },
      {
        "duration": 200,
        "start_time": "2022-10-18T12:38:27.472Z"
      },
      {
        "duration": 174,
        "start_time": "2022-10-18T12:38:27.673Z"
      },
      {
        "duration": 226,
        "start_time": "2022-10-18T12:38:27.849Z"
      },
      {
        "duration": 382,
        "start_time": "2022-10-18T12:38:28.076Z"
      },
      {
        "duration": 16,
        "start_time": "2022-10-18T12:38:28.459Z"
      },
      {
        "duration": 158,
        "start_time": "2022-10-18T12:38:28.476Z"
      },
      {
        "duration": 148,
        "start_time": "2022-10-18T12:38:28.636Z"
      },
      {
        "duration": 144,
        "start_time": "2022-10-18T12:38:28.786Z"
      },
      {
        "duration": 19,
        "start_time": "2022-10-18T12:38:28.932Z"
      },
      {
        "duration": 376,
        "start_time": "2022-10-18T12:38:28.953Z"
      },
      {
        "duration": 13,
        "start_time": "2022-10-18T12:38:29.330Z"
      },
      {
        "duration": 100,
        "start_time": "2022-10-18T12:42:44.773Z"
      },
      {
        "duration": 1250,
        "start_time": "2022-10-18T12:43:04.395Z"
      },
      {
        "duration": 18,
        "start_time": "2022-10-18T12:43:05.647Z"
      },
      {
        "duration": 45,
        "start_time": "2022-10-18T12:43:05.667Z"
      },
      {
        "duration": 9,
        "start_time": "2022-10-18T12:43:05.713Z"
      },
      {
        "duration": 750,
        "start_time": "2022-10-18T12:43:05.723Z"
      },
      {
        "duration": 85,
        "start_time": "2022-10-18T12:43:06.475Z"
      },
      {
        "duration": 18,
        "start_time": "2022-10-18T12:43:06.562Z"
      },
      {
        "duration": 3,
        "start_time": "2022-10-18T12:43:06.582Z"
      },
      {
        "duration": 37,
        "start_time": "2022-10-18T12:43:06.587Z"
      },
      {
        "duration": 81,
        "start_time": "2022-10-18T12:43:06.626Z"
      },
      {
        "duration": 49,
        "start_time": "2022-10-18T12:43:06.709Z"
      },
      {
        "duration": 403,
        "start_time": "2022-10-18T12:43:06.759Z"
      },
      {
        "duration": 25,
        "start_time": "2022-10-18T12:43:07.163Z"
      },
      {
        "duration": 19,
        "start_time": "2022-10-18T12:43:07.191Z"
      },
      {
        "duration": 55,
        "start_time": "2022-10-18T12:43:07.212Z"
      },
      {
        "duration": 22,
        "start_time": "2022-10-18T12:43:07.269Z"
      },
      {
        "duration": 215,
        "start_time": "2022-10-18T12:43:07.293Z"
      },
      {
        "duration": 5,
        "start_time": "2022-10-18T12:43:07.511Z"
      },
      {
        "duration": 253,
        "start_time": "2022-10-18T12:43:07.518Z"
      },
      {
        "duration": 217,
        "start_time": "2022-10-18T12:43:07.772Z"
      },
      {
        "duration": 239,
        "start_time": "2022-10-18T12:43:07.991Z"
      },
      {
        "duration": 410,
        "start_time": "2022-10-18T12:43:08.232Z"
      },
      {
        "duration": 20,
        "start_time": "2022-10-18T12:43:08.645Z"
      },
      {
        "duration": 187,
        "start_time": "2022-10-18T12:43:08.667Z"
      },
      {
        "duration": 167,
        "start_time": "2022-10-18T12:43:08.856Z"
      },
      {
        "duration": 172,
        "start_time": "2022-10-18T12:43:09.025Z"
      },
      {
        "duration": 20,
        "start_time": "2022-10-18T12:43:09.205Z"
      },
      {
        "duration": 401,
        "start_time": "2022-10-18T12:43:09.226Z"
      },
      {
        "duration": 15,
        "start_time": "2022-10-18T12:43:09.629Z"
      },
      {
        "duration": 13,
        "start_time": "2022-10-18T12:51:17.778Z"
      },
      {
        "duration": 18,
        "start_time": "2022-10-18T12:51:48.813Z"
      },
      {
        "duration": 54,
        "start_time": "2022-10-18T12:54:31.606Z"
      },
      {
        "duration": 50,
        "start_time": "2022-10-18T12:54:52.963Z"
      },
      {
        "duration": 37,
        "start_time": "2022-10-18T12:55:19.842Z"
      },
      {
        "duration": 28,
        "start_time": "2022-10-18T12:57:03.075Z"
      },
      {
        "duration": 29,
        "start_time": "2022-10-18T12:57:35.527Z"
      },
      {
        "duration": 16,
        "start_time": "2022-10-18T13:01:46.650Z"
      },
      {
        "duration": 18,
        "start_time": "2022-10-18T13:06:47.636Z"
      },
      {
        "duration": 110,
        "start_time": "2022-10-18T13:15:40.516Z"
      },
      {
        "duration": 124,
        "start_time": "2022-10-18T13:15:53.482Z"
      },
      {
        "duration": 28,
        "start_time": "2022-10-18T13:16:29.260Z"
      },
      {
        "duration": 161,
        "start_time": "2022-10-18T13:16:54.543Z"
      },
      {
        "duration": 201,
        "start_time": "2022-10-18T13:30:30.214Z"
      },
      {
        "duration": 455,
        "start_time": "2022-10-18T13:32:08.682Z"
      },
      {
        "duration": 193,
        "start_time": "2022-10-18T13:32:33.674Z"
      },
      {
        "duration": 373,
        "start_time": "2022-10-18T13:35:14.129Z"
      },
      {
        "duration": 70,
        "start_time": "2022-10-18T13:40:44.794Z"
      },
      {
        "duration": 59,
        "start_time": "2022-10-18T19:13:57.925Z"
      },
      {
        "duration": 2063,
        "start_time": "2022-10-18T19:14:09.714Z"
      },
      {
        "duration": 23,
        "start_time": "2022-10-18T19:14:11.779Z"
      },
      {
        "duration": 32,
        "start_time": "2022-10-18T19:14:11.804Z"
      },
      {
        "duration": 14,
        "start_time": "2022-10-18T19:14:11.838Z"
      },
      {
        "duration": 817,
        "start_time": "2022-10-18T19:14:11.854Z"
      },
      {
        "duration": 70,
        "start_time": "2022-10-18T19:14:12.673Z"
      },
      {
        "duration": 16,
        "start_time": "2022-10-18T19:14:12.745Z"
      },
      {
        "duration": 47,
        "start_time": "2022-10-18T19:14:12.763Z"
      },
      {
        "duration": 65,
        "start_time": "2022-10-18T19:14:12.811Z"
      },
      {
        "duration": 40,
        "start_time": "2022-10-18T19:14:12.879Z"
      },
      {
        "duration": 21,
        "start_time": "2022-10-18T19:14:12.920Z"
      },
      {
        "duration": 14,
        "start_time": "2022-10-18T19:14:12.943Z"
      },
      {
        "duration": 11,
        "start_time": "2022-10-18T19:14:12.959Z"
      },
      {
        "duration": 51,
        "start_time": "2022-10-18T19:14:12.971Z"
      },
      {
        "duration": 29,
        "start_time": "2022-10-18T19:14:13.024Z"
      },
      {
        "duration": 229,
        "start_time": "2022-10-18T19:14:13.055Z"
      },
      {
        "duration": 12,
        "start_time": "2022-10-18T19:14:13.286Z"
      },
      {
        "duration": 225,
        "start_time": "2022-10-18T19:14:13.300Z"
      },
      {
        "duration": 201,
        "start_time": "2022-10-18T19:14:13.526Z"
      },
      {
        "duration": 246,
        "start_time": "2022-10-18T19:14:13.728Z"
      },
      {
        "duration": 480,
        "start_time": "2022-10-18T19:14:13.976Z"
      },
      {
        "duration": 26,
        "start_time": "2022-10-18T19:14:14.458Z"
      },
      {
        "duration": 115,
        "start_time": "2022-10-18T19:14:14.486Z"
      },
      {
        "duration": 193,
        "start_time": "2022-10-18T19:14:14.603Z"
      },
      {
        "duration": 276,
        "start_time": "2022-10-18T19:14:14.798Z"
      },
      {
        "duration": 35,
        "start_time": "2022-10-18T19:14:15.076Z"
      },
      {
        "duration": 445,
        "start_time": "2022-10-18T19:14:15.113Z"
      },
      {
        "duration": 13,
        "start_time": "2022-10-18T19:14:15.562Z"
      },
      {
        "duration": 227,
        "start_time": "2022-10-18T19:15:38.615Z"
      },
      {
        "duration": 218,
        "start_time": "2022-10-18T19:16:24.596Z"
      },
      {
        "duration": 205,
        "start_time": "2022-10-18T19:16:32.357Z"
      },
      {
        "duration": 202,
        "start_time": "2022-10-18T19:19:23.945Z"
      },
      {
        "duration": 213,
        "start_time": "2022-10-18T19:19:32.592Z"
      },
      {
        "duration": 272,
        "start_time": "2022-10-18T19:21:53.623Z"
      },
      {
        "duration": 146,
        "start_time": "2022-10-18T19:22:54.189Z"
      },
      {
        "duration": 36,
        "start_time": "2022-10-18T19:23:10.261Z"
      },
      {
        "duration": 257,
        "start_time": "2022-10-18T19:23:33.321Z"
      },
      {
        "duration": 210,
        "start_time": "2022-10-18T19:24:55.084Z"
      },
      {
        "duration": 341,
        "start_time": "2022-10-18T19:26:39.632Z"
      },
      {
        "duration": 210,
        "start_time": "2022-10-18T19:27:01.680Z"
      },
      {
        "duration": 227,
        "start_time": "2022-10-18T19:27:19.818Z"
      },
      {
        "duration": 194,
        "start_time": "2022-10-18T19:31:32.982Z"
      },
      {
        "duration": 204,
        "start_time": "2022-10-18T19:34:37.576Z"
      },
      {
        "duration": 213,
        "start_time": "2022-10-18T19:34:50.960Z"
      },
      {
        "duration": 114,
        "start_time": "2022-10-18T19:36:37.577Z"
      },
      {
        "duration": 1516,
        "start_time": "2022-10-18T19:36:51.343Z"
      },
      {
        "duration": 192,
        "start_time": "2022-10-18T19:37:15.486Z"
      },
      {
        "duration": 5,
        "start_time": "2022-10-18T20:01:06.153Z"
      },
      {
        "duration": 22,
        "start_time": "2022-10-18T20:01:15.702Z"
      },
      {
        "duration": 14,
        "start_time": "2022-10-18T20:06:25.768Z"
      },
      {
        "duration": 16,
        "start_time": "2022-10-18T20:08:30.522Z"
      },
      {
        "duration": 28,
        "start_time": "2022-10-18T20:09:24.997Z"
      },
      {
        "duration": 21,
        "start_time": "2022-10-18T20:10:25.460Z"
      },
      {
        "duration": 21,
        "start_time": "2022-10-18T20:10:55.670Z"
      },
      {
        "duration": 19,
        "start_time": "2022-10-18T20:11:24.957Z"
      },
      {
        "duration": 21,
        "start_time": "2022-10-18T20:12:39.566Z"
      },
      {
        "duration": 18,
        "start_time": "2022-10-18T20:13:08.814Z"
      },
      {
        "duration": 20,
        "start_time": "2022-10-18T20:13:53.334Z"
      },
      {
        "duration": 15,
        "start_time": "2022-10-18T20:14:21.221Z"
      },
      {
        "duration": 174,
        "start_time": "2022-10-18T20:15:30.189Z"
      },
      {
        "duration": 183,
        "start_time": "2022-10-18T20:15:44.790Z"
      },
      {
        "duration": 162,
        "start_time": "2022-10-18T20:16:10.251Z"
      },
      {
        "duration": 188,
        "start_time": "2022-10-18T20:16:24.428Z"
      },
      {
        "duration": 208,
        "start_time": "2022-10-18T20:17:50.213Z"
      },
      {
        "duration": 304,
        "start_time": "2022-10-18T20:30:08.120Z"
      },
      {
        "duration": 1726,
        "start_time": "2022-10-19T13:15:14.672Z"
      },
      {
        "duration": 24,
        "start_time": "2022-10-19T13:15:16.401Z"
      },
      {
        "duration": 30,
        "start_time": "2022-10-19T13:15:16.428Z"
      },
      {
        "duration": 35,
        "start_time": "2022-10-19T13:15:16.460Z"
      },
      {
        "duration": 869,
        "start_time": "2022-10-19T13:15:16.498Z"
      },
      {
        "duration": 67,
        "start_time": "2022-10-19T13:15:17.368Z"
      },
      {
        "duration": 13,
        "start_time": "2022-10-19T13:15:17.436Z"
      },
      {
        "duration": 21,
        "start_time": "2022-10-19T13:15:17.451Z"
      },
      {
        "duration": 58,
        "start_time": "2022-10-19T13:15:17.496Z"
      },
      {
        "duration": 53,
        "start_time": "2022-10-19T13:15:17.557Z"
      },
      {
        "duration": 23,
        "start_time": "2022-10-19T13:15:17.612Z"
      },
      {
        "duration": 16,
        "start_time": "2022-10-19T13:15:17.637Z"
      },
      {
        "duration": 6,
        "start_time": "2022-10-19T13:15:17.655Z"
      },
      {
        "duration": 52,
        "start_time": "2022-10-19T13:15:17.663Z"
      },
      {
        "duration": 27,
        "start_time": "2022-10-19T13:15:17.717Z"
      },
      {
        "duration": 222,
        "start_time": "2022-10-19T13:15:17.746Z"
      },
      {
        "duration": 5,
        "start_time": "2022-10-19T13:15:17.970Z"
      },
      {
        "duration": 218,
        "start_time": "2022-10-19T13:15:17.976Z"
      },
      {
        "duration": 204,
        "start_time": "2022-10-19T13:15:18.196Z"
      },
      {
        "duration": 235,
        "start_time": "2022-10-19T13:15:18.403Z"
      },
      {
        "duration": 426,
        "start_time": "2022-10-19T13:15:18.639Z"
      },
      {
        "duration": 27,
        "start_time": "2022-10-19T13:15:19.067Z"
      },
      {
        "duration": 83,
        "start_time": "2022-10-19T13:15:19.096Z"
      },
      {
        "duration": 188,
        "start_time": "2022-10-19T13:15:19.181Z"
      },
      {
        "duration": 260,
        "start_time": "2022-10-19T13:15:19.370Z"
      },
      {
        "duration": 22,
        "start_time": "2022-10-19T13:15:19.632Z"
      },
      {
        "duration": 433,
        "start_time": "2022-10-19T13:15:19.655Z"
      },
      {
        "duration": 25,
        "start_time": "2022-10-19T13:15:20.090Z"
      },
      {
        "duration": 253,
        "start_time": "2022-10-19T13:15:20.117Z"
      },
      {
        "duration": 45,
        "start_time": "2022-10-19T19:21:49.366Z"
      },
      {
        "duration": 7,
        "start_time": "2022-10-19T19:22:04.617Z"
      },
      {
        "duration": 1649,
        "start_time": "2022-10-19T19:22:19.613Z"
      },
      {
        "duration": 21,
        "start_time": "2022-10-19T19:22:21.264Z"
      },
      {
        "duration": 5,
        "start_time": "2022-10-19T19:22:21.286Z"
      },
      {
        "duration": 30,
        "start_time": "2022-10-19T19:22:21.293Z"
      },
      {
        "duration": 11,
        "start_time": "2022-10-19T19:22:21.326Z"
      },
      {
        "duration": 760,
        "start_time": "2022-10-19T19:22:21.339Z"
      },
      {
        "duration": 59,
        "start_time": "2022-10-19T19:22:22.101Z"
      },
      {
        "duration": 11,
        "start_time": "2022-10-19T19:22:22.162Z"
      },
      {
        "duration": 37,
        "start_time": "2022-10-19T19:22:22.175Z"
      },
      {
        "duration": 83,
        "start_time": "2022-10-19T19:22:22.215Z"
      },
      {
        "duration": 29,
        "start_time": "2022-10-19T19:22:22.299Z"
      },
      {
        "duration": 18,
        "start_time": "2022-10-19T19:22:22.329Z"
      },
      {
        "duration": 17,
        "start_time": "2022-10-19T19:22:22.349Z"
      },
      {
        "duration": 30,
        "start_time": "2022-10-19T19:22:22.367Z"
      },
      {
        "duration": 30,
        "start_time": "2022-10-19T19:22:22.399Z"
      },
      {
        "duration": 27,
        "start_time": "2022-10-19T19:22:22.431Z"
      },
      {
        "duration": 238,
        "start_time": "2022-10-19T19:22:22.460Z"
      },
      {
        "duration": 4,
        "start_time": "2022-10-19T19:22:22.700Z"
      },
      {
        "duration": 212,
        "start_time": "2022-10-19T19:22:22.706Z"
      },
      {
        "duration": 181,
        "start_time": "2022-10-19T19:22:22.920Z"
      },
      {
        "duration": 225,
        "start_time": "2022-10-19T19:22:23.103Z"
      },
      {
        "duration": 409,
        "start_time": "2022-10-19T19:22:23.330Z"
      },
      {
        "duration": 18,
        "start_time": "2022-10-19T19:22:23.741Z"
      },
      {
        "duration": 92,
        "start_time": "2022-10-19T19:22:23.761Z"
      },
      {
        "duration": 171,
        "start_time": "2022-10-19T19:22:23.855Z"
      },
      {
        "duration": 258,
        "start_time": "2022-10-19T19:22:24.029Z"
      },
      {
        "duration": 25,
        "start_time": "2022-10-19T19:22:24.288Z"
      },
      {
        "duration": 401,
        "start_time": "2022-10-19T19:22:24.316Z"
      },
      {
        "duration": 22,
        "start_time": "2022-10-19T19:22:24.719Z"
      },
      {
        "duration": 226,
        "start_time": "2022-10-19T19:22:24.742Z"
      },
      {
        "duration": 1247,
        "start_time": "2022-10-19T19:23:11.650Z"
      },
      {
        "duration": 1121,
        "start_time": "2022-10-19T19:23:27.416Z"
      },
      {
        "duration": 131,
        "start_time": "2022-10-19T19:23:37.421Z"
      },
      {
        "duration": 19,
        "start_time": "2022-10-19T19:23:40.481Z"
      },
      {
        "duration": 1192,
        "start_time": "2022-10-19T19:23:57.531Z"
      },
      {
        "duration": 4,
        "start_time": "2022-10-19T19:24:15.239Z"
      },
      {
        "duration": 40,
        "start_time": "2022-10-19T19:25:57.735Z"
      },
      {
        "duration": 22,
        "start_time": "2022-10-19T19:28:09.143Z"
      },
      {
        "duration": 3,
        "start_time": "2022-10-19T19:57:48.265Z"
      },
      {
        "duration": 4,
        "start_time": "2022-10-19T19:57:56.769Z"
      },
      {
        "duration": 8,
        "start_time": "2022-10-19T19:58:57.185Z"
      },
      {
        "duration": 9,
        "start_time": "2022-10-19T19:59:45.713Z"
      },
      {
        "duration": 26,
        "start_time": "2022-10-19T20:03:10.917Z"
      },
      {
        "duration": 28,
        "start_time": "2022-10-19T20:03:41.870Z"
      },
      {
        "duration": 28,
        "start_time": "2022-10-19T20:03:56.231Z"
      },
      {
        "duration": 6,
        "start_time": "2022-10-19T20:05:14.695Z"
      },
      {
        "duration": 62,
        "start_time": "2022-10-19T20:06:25.673Z"
      },
      {
        "duration": 8,
        "start_time": "2022-10-19T20:06:36.833Z"
      },
      {
        "duration": 4,
        "start_time": "2022-10-19T20:07:33.853Z"
      },
      {
        "duration": 8,
        "start_time": "2022-10-19T20:08:59.635Z"
      },
      {
        "duration": 21,
        "start_time": "2022-10-19T20:11:49.507Z"
      },
      {
        "duration": 9,
        "start_time": "2022-10-19T20:43:11.843Z"
      },
      {
        "duration": 9,
        "start_time": "2022-10-19T20:43:50.627Z"
      },
      {
        "duration": 5,
        "start_time": "2022-10-19T20:44:25.231Z"
      },
      {
        "duration": 16,
        "start_time": "2022-10-19T20:44:26.162Z"
      },
      {
        "duration": 8,
        "start_time": "2022-10-19T20:44:28.708Z"
      },
      {
        "duration": 9,
        "start_time": "2022-10-19T20:45:22.280Z"
      },
      {
        "duration": 11,
        "start_time": "2022-10-19T20:46:55.270Z"
      },
      {
        "duration": 9,
        "start_time": "2022-10-19T20:47:04.593Z"
      },
      {
        "duration": 11,
        "start_time": "2022-10-19T20:55:13.833Z"
      },
      {
        "duration": 14,
        "start_time": "2022-10-19T20:55:29.714Z"
      },
      {
        "duration": 13,
        "start_time": "2022-10-19T20:55:43.013Z"
      },
      {
        "duration": 18,
        "start_time": "2022-10-19T20:56:32.030Z"
      },
      {
        "duration": 17,
        "start_time": "2022-10-19T20:56:44.971Z"
      },
      {
        "duration": 18,
        "start_time": "2022-10-19T20:58:28.247Z"
      },
      {
        "duration": 16,
        "start_time": "2022-10-19T20:58:59.349Z"
      },
      {
        "duration": 15,
        "start_time": "2022-10-19T20:59:09.309Z"
      },
      {
        "duration": 13,
        "start_time": "2022-10-19T20:59:44.716Z"
      },
      {
        "duration": 4,
        "start_time": "2022-10-19T21:00:07.182Z"
      },
      {
        "duration": 6,
        "start_time": "2022-10-19T21:00:52.547Z"
      },
      {
        "duration": 5,
        "start_time": "2022-10-19T21:04:27.223Z"
      },
      {
        "duration": 9,
        "start_time": "2022-10-19T21:04:57.748Z"
      },
      {
        "duration": 9,
        "start_time": "2022-10-19T21:05:08.576Z"
      },
      {
        "duration": 10,
        "start_time": "2022-10-19T21:05:28.483Z"
      },
      {
        "duration": 9,
        "start_time": "2022-10-19T21:06:13.686Z"
      },
      {
        "duration": 10,
        "start_time": "2022-10-19T21:06:22.142Z"
      },
      {
        "duration": 5,
        "start_time": "2022-10-19T21:06:34.690Z"
      },
      {
        "duration": 8,
        "start_time": "2022-10-19T21:06:57.337Z"
      },
      {
        "duration": 6,
        "start_time": "2022-10-19T21:07:06.889Z"
      },
      {
        "duration": 4,
        "start_time": "2022-10-19T21:07:39.137Z"
      },
      {
        "duration": 4,
        "start_time": "2022-10-19T21:07:58.520Z"
      },
      {
        "duration": 3,
        "start_time": "2022-10-19T21:09:26.338Z"
      },
      {
        "duration": 3,
        "start_time": "2022-10-19T21:09:38.411Z"
      },
      {
        "duration": 24,
        "start_time": "2022-10-19T21:12:47.144Z"
      },
      {
        "duration": 43,
        "start_time": "2022-10-19T21:12:59.287Z"
      },
      {
        "duration": 18,
        "start_time": "2022-10-19T21:14:11.854Z"
      },
      {
        "duration": 29,
        "start_time": "2022-10-19T21:16:43.631Z"
      },
      {
        "duration": 23,
        "start_time": "2022-10-19T21:17:51.880Z"
      },
      {
        "duration": 3,
        "start_time": "2022-10-19T21:25:43.212Z"
      },
      {
        "duration": 44,
        "start_time": "2022-10-20T03:59:24.875Z"
      },
      {
        "duration": 1434,
        "start_time": "2022-10-20T03:59:32.917Z"
      },
      {
        "duration": 20,
        "start_time": "2022-10-20T03:59:34.353Z"
      },
      {
        "duration": 36,
        "start_time": "2022-10-20T03:59:34.374Z"
      },
      {
        "duration": 27,
        "start_time": "2022-10-20T03:59:34.413Z"
      },
      {
        "duration": 12,
        "start_time": "2022-10-20T03:59:34.442Z"
      },
      {
        "duration": 714,
        "start_time": "2022-10-20T03:59:34.455Z"
      },
      {
        "duration": 56,
        "start_time": "2022-10-20T03:59:35.170Z"
      },
      {
        "duration": 10,
        "start_time": "2022-10-20T03:59:35.228Z"
      },
      {
        "duration": 19,
        "start_time": "2022-10-20T03:59:35.239Z"
      },
      {
        "duration": 4,
        "start_time": "2022-10-20T03:59:35.261Z"
      },
      {
        "duration": 39,
        "start_time": "2022-10-20T03:59:35.267Z"
      },
      {
        "duration": 10,
        "start_time": "2022-10-20T03:59:35.307Z"
      },
      {
        "duration": 32,
        "start_time": "2022-10-20T03:59:35.320Z"
      },
      {
        "duration": 54,
        "start_time": "2022-10-20T03:59:35.353Z"
      },
      {
        "duration": 27,
        "start_time": "2022-10-20T03:59:35.409Z"
      },
      {
        "duration": 18,
        "start_time": "2022-10-20T03:59:35.438Z"
      },
      {
        "duration": 11,
        "start_time": "2022-10-20T03:59:35.458Z"
      },
      {
        "duration": 6,
        "start_time": "2022-10-20T03:59:35.471Z"
      },
      {
        "duration": 26,
        "start_time": "2022-10-20T03:59:35.500Z"
      },
      {
        "duration": 24,
        "start_time": "2022-10-20T03:59:35.527Z"
      },
      {
        "duration": 208,
        "start_time": "2022-10-20T03:59:35.552Z"
      },
      {
        "duration": 4,
        "start_time": "2022-10-20T03:59:35.762Z"
      },
      {
        "duration": 182,
        "start_time": "2022-10-20T03:59:35.767Z"
      },
      {
        "duration": 175,
        "start_time": "2022-10-20T03:59:35.951Z"
      },
      {
        "duration": 215,
        "start_time": "2022-10-20T03:59:36.128Z"
      },
      {
        "duration": 387,
        "start_time": "2022-10-20T03:59:36.344Z"
      },
      {
        "duration": 15,
        "start_time": "2022-10-20T03:59:36.733Z"
      },
      {
        "duration": 88,
        "start_time": "2022-10-20T03:59:36.751Z"
      },
      {
        "duration": 148,
        "start_time": "2022-10-20T03:59:36.840Z"
      },
      {
        "duration": 230,
        "start_time": "2022-10-20T03:59:36.990Z"
      },
      {
        "duration": 19,
        "start_time": "2022-10-20T03:59:37.221Z"
      },
      {
        "duration": 387,
        "start_time": "2022-10-20T03:59:37.242Z"
      },
      {
        "duration": 23,
        "start_time": "2022-10-20T03:59:37.631Z"
      },
      {
        "duration": 228,
        "start_time": "2022-10-20T03:59:37.656Z"
      },
      {
        "duration": 74,
        "start_time": "2022-10-20T06:18:26.794Z"
      },
      {
        "duration": 1565,
        "start_time": "2022-10-20T06:18:36.178Z"
      },
      {
        "duration": 21,
        "start_time": "2022-10-20T06:18:37.746Z"
      },
      {
        "duration": 30,
        "start_time": "2022-10-20T06:18:37.768Z"
      },
      {
        "duration": 24,
        "start_time": "2022-10-20T06:18:37.809Z"
      },
      {
        "duration": 10,
        "start_time": "2022-10-20T06:18:37.835Z"
      },
      {
        "duration": 813,
        "start_time": "2022-10-20T06:18:37.848Z"
      },
      {
        "duration": 67,
        "start_time": "2022-10-20T06:18:38.663Z"
      },
      {
        "duration": 12,
        "start_time": "2022-10-20T06:18:38.732Z"
      },
      {
        "duration": 24,
        "start_time": "2022-10-20T06:18:38.746Z"
      },
      {
        "duration": 8,
        "start_time": "2022-10-20T06:18:38.774Z"
      },
      {
        "duration": 24,
        "start_time": "2022-10-20T06:18:38.809Z"
      },
      {
        "duration": 19,
        "start_time": "2022-10-20T06:18:38.834Z"
      },
      {
        "duration": 50,
        "start_time": "2022-10-20T06:18:38.855Z"
      },
      {
        "duration": 47,
        "start_time": "2022-10-20T06:18:38.906Z"
      },
      {
        "duration": 32,
        "start_time": "2022-10-20T06:18:38.955Z"
      },
      {
        "duration": 35,
        "start_time": "2022-10-20T06:18:38.988Z"
      },
      {
        "duration": 10,
        "start_time": "2022-10-20T06:18:39.025Z"
      },
      {
        "duration": 7,
        "start_time": "2022-10-20T06:18:39.037Z"
      },
      {
        "duration": 26,
        "start_time": "2022-10-20T06:18:39.045Z"
      },
      {
        "duration": 56,
        "start_time": "2022-10-20T06:18:39.073Z"
      },
      {
        "duration": 210,
        "start_time": "2022-10-20T06:18:39.131Z"
      },
      {
        "duration": 7,
        "start_time": "2022-10-20T06:18:39.343Z"
      },
      {
        "duration": 207,
        "start_time": "2022-10-20T06:18:39.352Z"
      },
      {
        "duration": 212,
        "start_time": "2022-10-20T06:18:39.562Z"
      },
      {
        "duration": 236,
        "start_time": "2022-10-20T06:18:39.775Z"
      },
      {
        "duration": 434,
        "start_time": "2022-10-20T06:18:40.013Z"
      },
      {
        "duration": 18,
        "start_time": "2022-10-20T06:18:40.448Z"
      },
      {
        "duration": 112,
        "start_time": "2022-10-20T06:18:40.469Z"
      },
      {
        "duration": 186,
        "start_time": "2022-10-20T06:18:40.583Z"
      },
      {
        "duration": 273,
        "start_time": "2022-10-20T06:18:40.770Z"
      },
      {
        "duration": 22,
        "start_time": "2022-10-20T06:18:41.044Z"
      },
      {
        "duration": 438,
        "start_time": "2022-10-20T06:18:41.067Z"
      },
      {
        "duration": 23,
        "start_time": "2022-10-20T06:18:41.509Z"
      },
      {
        "duration": 241,
        "start_time": "2022-10-20T06:18:41.534Z"
      },
      {
        "duration": 6,
        "start_time": "2022-10-20T06:31:24.673Z"
      },
      {
        "duration": 47,
        "start_time": "2022-10-20T06:31:53.644Z"
      },
      {
        "duration": 48,
        "start_time": "2022-10-20T06:33:07.482Z"
      },
      {
        "duration": 43,
        "start_time": "2022-10-20T06:33:24.938Z"
      },
      {
        "duration": 63,
        "start_time": "2022-10-20T06:33:39.733Z"
      },
      {
        "duration": 38,
        "start_time": "2022-10-20T06:34:50.171Z"
      },
      {
        "duration": 36,
        "start_time": "2022-10-20T06:37:45.669Z"
      },
      {
        "duration": 37,
        "start_time": "2022-10-20T06:37:58.038Z"
      },
      {
        "duration": 6,
        "start_time": "2022-10-20T06:40:50.437Z"
      },
      {
        "duration": 12,
        "start_time": "2022-10-20T06:40:55.556Z"
      },
      {
        "duration": 26,
        "start_time": "2022-10-20T06:41:28.201Z"
      },
      {
        "duration": 41,
        "start_time": "2022-10-20T06:42:53.576Z"
      },
      {
        "duration": 5,
        "start_time": "2022-10-20T08:12:17.133Z"
      },
      {
        "duration": 13,
        "start_time": "2022-10-20T08:12:26.537Z"
      },
      {
        "duration": 34,
        "start_time": "2022-10-20T08:19:14.149Z"
      },
      {
        "duration": 37,
        "start_time": "2022-10-20T08:19:28.437Z"
      },
      {
        "duration": 59,
        "start_time": "2022-10-20T08:22:55.184Z"
      },
      {
        "duration": 13,
        "start_time": "2022-10-20T08:23:04.164Z"
      },
      {
        "duration": 9,
        "start_time": "2022-10-20T08:24:23.113Z"
      },
      {
        "duration": 6,
        "start_time": "2022-10-20T08:30:55.736Z"
      },
      {
        "duration": 13,
        "start_time": "2022-10-20T08:31:10.184Z"
      },
      {
        "duration": 15,
        "start_time": "2022-10-20T08:31:42.730Z"
      },
      {
        "duration": 10,
        "start_time": "2022-10-20T08:31:50.088Z"
      },
      {
        "duration": 144,
        "start_time": "2022-10-20T08:39:32.864Z"
      },
      {
        "duration": 11,
        "start_time": "2022-10-20T08:43:46.190Z"
      },
      {
        "duration": 18,
        "start_time": "2022-10-20T08:43:58.987Z"
      },
      {
        "duration": 15,
        "start_time": "2022-10-20T08:44:35.236Z"
      },
      {
        "duration": 8,
        "start_time": "2022-10-20T08:44:48.049Z"
      },
      {
        "duration": 14,
        "start_time": "2022-10-20T08:45:43.153Z"
      },
      {
        "duration": 1409,
        "start_time": "2022-10-20T08:45:54.320Z"
      },
      {
        "duration": 21,
        "start_time": "2022-10-20T08:45:55.731Z"
      },
      {
        "duration": 28,
        "start_time": "2022-10-20T08:45:55.753Z"
      },
      {
        "duration": 56,
        "start_time": "2022-10-20T08:45:55.783Z"
      },
      {
        "duration": 12,
        "start_time": "2022-10-20T08:45:55.841Z"
      },
      {
        "duration": 872,
        "start_time": "2022-10-20T08:45:55.855Z"
      },
      {
        "duration": 60,
        "start_time": "2022-10-20T08:45:56.729Z"
      },
      {
        "duration": 28,
        "start_time": "2022-10-20T08:45:56.791Z"
      },
      {
        "duration": 32,
        "start_time": "2022-10-20T08:45:56.821Z"
      },
      {
        "duration": 8,
        "start_time": "2022-10-20T08:45:56.856Z"
      },
      {
        "duration": 48,
        "start_time": "2022-10-20T08:45:56.866Z"
      },
      {
        "duration": 9,
        "start_time": "2022-10-20T08:45:56.916Z"
      },
      {
        "duration": 26,
        "start_time": "2022-10-20T08:45:56.927Z"
      },
      {
        "duration": 9,
        "start_time": "2022-10-20T08:45:56.954Z"
      },
      {
        "duration": 53,
        "start_time": "2022-10-20T08:45:56.965Z"
      },
      {
        "duration": 62,
        "start_time": "2022-10-20T08:45:57.020Z"
      },
      {
        "duration": 53,
        "start_time": "2022-10-20T08:45:57.084Z"
      },
      {
        "duration": 23,
        "start_time": "2022-10-20T08:45:57.139Z"
      },
      {
        "duration": 14,
        "start_time": "2022-10-20T08:45:57.164Z"
      },
      {
        "duration": 65,
        "start_time": "2022-10-20T08:45:57.180Z"
      },
      {
        "duration": 9,
        "start_time": "2022-10-20T08:45:57.246Z"
      },
      {
        "duration": 10,
        "start_time": "2022-10-20T08:45:57.256Z"
      },
      {
        "duration": 155,
        "start_time": "2022-10-20T08:45:57.268Z"
      },
      {
        "duration": 0,
        "start_time": "2022-10-20T08:45:57.425Z"
      },
      {
        "duration": 0,
        "start_time": "2022-10-20T08:45:57.426Z"
      },
      {
        "duration": 0,
        "start_time": "2022-10-20T08:45:57.427Z"
      },
      {
        "duration": 0,
        "start_time": "2022-10-20T08:45:57.429Z"
      },
      {
        "duration": 0,
        "start_time": "2022-10-20T08:45:57.431Z"
      },
      {
        "duration": 0,
        "start_time": "2022-10-20T08:45:57.432Z"
      },
      {
        "duration": 0,
        "start_time": "2022-10-20T08:45:57.433Z"
      },
      {
        "duration": 0,
        "start_time": "2022-10-20T08:45:57.435Z"
      },
      {
        "duration": 0,
        "start_time": "2022-10-20T08:45:57.436Z"
      },
      {
        "duration": 0,
        "start_time": "2022-10-20T08:45:57.438Z"
      },
      {
        "duration": 0,
        "start_time": "2022-10-20T08:45:57.439Z"
      },
      {
        "duration": 0,
        "start_time": "2022-10-20T08:45:57.440Z"
      },
      {
        "duration": 0,
        "start_time": "2022-10-20T08:45:57.441Z"
      },
      {
        "duration": 0,
        "start_time": "2022-10-20T08:45:57.443Z"
      },
      {
        "duration": 0,
        "start_time": "2022-10-20T08:45:57.444Z"
      },
      {
        "duration": 0,
        "start_time": "2022-10-20T08:45:57.446Z"
      },
      {
        "duration": 0,
        "start_time": "2022-10-20T08:45:57.447Z"
      },
      {
        "duration": 23,
        "start_time": "2022-10-20T08:51:47.136Z"
      },
      {
        "duration": 134,
        "start_time": "2022-10-20T08:55:22.526Z"
      },
      {
        "duration": 99,
        "start_time": "2022-10-20T08:56:18.883Z"
      },
      {
        "duration": 114,
        "start_time": "2022-10-20T08:56:29.125Z"
      },
      {
        "duration": 28,
        "start_time": "2022-10-20T09:01:14.495Z"
      },
      {
        "duration": 11,
        "start_time": "2022-10-20T09:01:30.444Z"
      },
      {
        "duration": 11,
        "start_time": "2022-10-20T09:01:39.852Z"
      },
      {
        "duration": 16,
        "start_time": "2022-10-20T09:02:08.437Z"
      },
      {
        "duration": 13,
        "start_time": "2022-10-20T09:15:39.963Z"
      },
      {
        "duration": 14,
        "start_time": "2022-10-20T09:17:13.190Z"
      },
      {
        "duration": 14,
        "start_time": "2022-10-20T09:18:11.375Z"
      },
      {
        "duration": 142,
        "start_time": "2022-10-20T09:18:34.491Z"
      },
      {
        "duration": 140,
        "start_time": "2022-10-20T09:19:30.602Z"
      },
      {
        "duration": 210,
        "start_time": "2022-10-20T09:22:27.991Z"
      },
      {
        "duration": 154,
        "start_time": "2022-10-20T09:23:43.011Z"
      },
      {
        "duration": 11,
        "start_time": "2022-10-20T09:32:30.748Z"
      },
      {
        "duration": 231,
        "start_time": "2022-10-20T09:32:36.541Z"
      },
      {
        "duration": 143,
        "start_time": "2022-10-20T09:36:16.176Z"
      },
      {
        "duration": 146,
        "start_time": "2022-10-20T09:37:47.897Z"
      },
      {
        "duration": 148,
        "start_time": "2022-10-20T09:38:15.219Z"
      },
      {
        "duration": 48,
        "start_time": "2022-10-20T09:39:58.977Z"
      },
      {
        "duration": 1336,
        "start_time": "2022-10-20T09:40:31.579Z"
      },
      {
        "duration": 25,
        "start_time": "2022-10-20T09:40:32.917Z"
      },
      {
        "duration": 34,
        "start_time": "2022-10-20T09:40:32.944Z"
      },
      {
        "duration": 35,
        "start_time": "2022-10-20T09:40:32.980Z"
      },
      {
        "duration": 9,
        "start_time": "2022-10-20T09:40:33.017Z"
      },
      {
        "duration": 831,
        "start_time": "2022-10-20T09:40:33.027Z"
      },
      {
        "duration": 73,
        "start_time": "2022-10-20T09:40:33.860Z"
      },
      {
        "duration": 12,
        "start_time": "2022-10-20T09:40:33.935Z"
      },
      {
        "duration": 22,
        "start_time": "2022-10-20T09:40:33.948Z"
      },
      {
        "duration": 6,
        "start_time": "2022-10-20T09:40:33.973Z"
      },
      {
        "duration": 45,
        "start_time": "2022-10-20T09:40:33.980Z"
      },
      {
        "duration": 10,
        "start_time": "2022-10-20T09:40:34.026Z"
      },
      {
        "duration": 30,
        "start_time": "2022-10-20T09:40:34.038Z"
      },
      {
        "duration": 12,
        "start_time": "2022-10-20T09:40:34.070Z"
      },
      {
        "duration": 46,
        "start_time": "2022-10-20T09:40:34.085Z"
      },
      {
        "duration": 76,
        "start_time": "2022-10-20T09:40:34.133Z"
      },
      {
        "duration": 28,
        "start_time": "2022-10-20T09:40:34.211Z"
      },
      {
        "duration": 16,
        "start_time": "2022-10-20T09:40:34.241Z"
      },
      {
        "duration": 10,
        "start_time": "2022-10-20T09:40:34.258Z"
      },
      {
        "duration": 68,
        "start_time": "2022-10-20T09:40:34.269Z"
      },
      {
        "duration": 10,
        "start_time": "2022-10-20T09:40:34.338Z"
      },
      {
        "duration": 18,
        "start_time": "2022-10-20T09:40:34.349Z"
      },
      {
        "duration": 121,
        "start_time": "2022-10-20T09:40:34.368Z"
      },
      {
        "duration": 24,
        "start_time": "2022-10-20T09:40:34.491Z"
      },
      {
        "duration": 66,
        "start_time": "2022-10-20T09:40:34.516Z"
      },
      {
        "duration": 0,
        "start_time": "2022-10-20T09:40:34.584Z"
      },
      {
        "duration": 0,
        "start_time": "2022-10-20T09:40:34.585Z"
      },
      {
        "duration": 0,
        "start_time": "2022-10-20T09:40:34.586Z"
      },
      {
        "duration": 0,
        "start_time": "2022-10-20T09:40:34.587Z"
      },
      {
        "duration": 0,
        "start_time": "2022-10-20T09:40:34.588Z"
      },
      {
        "duration": 0,
        "start_time": "2022-10-20T09:40:34.589Z"
      },
      {
        "duration": 0,
        "start_time": "2022-10-20T09:40:34.590Z"
      },
      {
        "duration": 0,
        "start_time": "2022-10-20T09:40:34.591Z"
      },
      {
        "duration": 0,
        "start_time": "2022-10-20T09:40:34.592Z"
      },
      {
        "duration": 0,
        "start_time": "2022-10-20T09:40:34.593Z"
      },
      {
        "duration": 0,
        "start_time": "2022-10-20T09:40:34.594Z"
      },
      {
        "duration": 0,
        "start_time": "2022-10-20T09:40:34.595Z"
      },
      {
        "duration": 0,
        "start_time": "2022-10-20T09:40:34.596Z"
      },
      {
        "duration": 0,
        "start_time": "2022-10-20T09:40:34.598Z"
      },
      {
        "duration": 0,
        "start_time": "2022-10-20T09:40:34.599Z"
      },
      {
        "duration": 0,
        "start_time": "2022-10-20T09:40:34.600Z"
      },
      {
        "duration": 0,
        "start_time": "2022-10-20T09:40:34.601Z"
      },
      {
        "duration": 55,
        "start_time": "2022-10-20T09:40:47.335Z"
      },
      {
        "duration": 49,
        "start_time": "2022-10-20T09:41:26.824Z"
      },
      {
        "duration": 66,
        "start_time": "2022-10-20T09:42:15.967Z"
      },
      {
        "duration": 101,
        "start_time": "2022-10-20T09:42:31.177Z"
      },
      {
        "duration": 45,
        "start_time": "2022-10-20T09:42:36.463Z"
      },
      {
        "duration": 131,
        "start_time": "2022-10-20T09:45:03.364Z"
      },
      {
        "duration": 9,
        "start_time": "2022-10-20T09:45:12.060Z"
      },
      {
        "duration": 11,
        "start_time": "2022-10-20T09:45:55.755Z"
      },
      {
        "duration": 168,
        "start_time": "2022-10-20T09:49:11.521Z"
      },
      {
        "duration": 1262,
        "start_time": "2022-10-20T09:58:13.595Z"
      },
      {
        "duration": 22,
        "start_time": "2022-10-20T09:58:14.859Z"
      },
      {
        "duration": 36,
        "start_time": "2022-10-20T09:58:14.885Z"
      },
      {
        "duration": 22,
        "start_time": "2022-10-20T09:58:14.923Z"
      },
      {
        "duration": 9,
        "start_time": "2022-10-20T09:58:14.947Z"
      },
      {
        "duration": 818,
        "start_time": "2022-10-20T09:58:14.958Z"
      },
      {
        "duration": 62,
        "start_time": "2022-10-20T09:58:15.778Z"
      },
      {
        "duration": 12,
        "start_time": "2022-10-20T09:58:15.842Z"
      },
      {
        "duration": 20,
        "start_time": "2022-10-20T09:58:15.858Z"
      },
      {
        "duration": 32,
        "start_time": "2022-10-20T09:58:15.880Z"
      },
      {
        "duration": 21,
        "start_time": "2022-10-20T09:58:15.914Z"
      },
      {
        "duration": 9,
        "start_time": "2022-10-20T09:58:15.937Z"
      },
      {
        "duration": 24,
        "start_time": "2022-10-20T09:58:15.948Z"
      },
      {
        "duration": 39,
        "start_time": "2022-10-20T09:58:15.974Z"
      },
      {
        "duration": 24,
        "start_time": "2022-10-20T09:58:16.016Z"
      },
      {
        "duration": 73,
        "start_time": "2022-10-20T09:58:16.042Z"
      },
      {
        "duration": 30,
        "start_time": "2022-10-20T09:58:16.116Z"
      },
      {
        "duration": 14,
        "start_time": "2022-10-20T09:58:16.148Z"
      },
      {
        "duration": 10,
        "start_time": "2022-10-20T09:58:16.163Z"
      },
      {
        "duration": 64,
        "start_time": "2022-10-20T09:58:16.174Z"
      },
      {
        "duration": 9,
        "start_time": "2022-10-20T09:58:16.240Z"
      },
      {
        "duration": 15,
        "start_time": "2022-10-20T09:58:16.250Z"
      },
      {
        "duration": 130,
        "start_time": "2022-10-20T09:58:16.267Z"
      },
      {
        "duration": 22,
        "start_time": "2022-10-20T09:58:16.398Z"
      },
      {
        "duration": 156,
        "start_time": "2022-10-20T09:58:16.421Z"
      },
      {
        "duration": 4,
        "start_time": "2022-10-20T09:58:16.578Z"
      },
      {
        "duration": 31,
        "start_time": "2022-10-20T09:58:16.586Z"
      },
      {
        "duration": 21,
        "start_time": "2022-10-20T09:58:16.619Z"
      },
      {
        "duration": 199,
        "start_time": "2022-10-20T09:58:16.642Z"
      },
      {
        "duration": 5,
        "start_time": "2022-10-20T09:58:16.842Z"
      },
      {
        "duration": 199,
        "start_time": "2022-10-20T09:58:16.849Z"
      },
      {
        "duration": 184,
        "start_time": "2022-10-20T09:58:17.050Z"
      },
      {
        "duration": 231,
        "start_time": "2022-10-20T09:58:17.235Z"
      },
      {
        "duration": 417,
        "start_time": "2022-10-20T09:58:17.467Z"
      },
      {
        "duration": 27,
        "start_time": "2022-10-20T09:58:17.886Z"
      },
      {
        "duration": 154,
        "start_time": "2022-10-20T09:58:17.914Z"
      },
      {
        "duration": 178,
        "start_time": "2022-10-20T09:58:18.070Z"
      },
      {
        "duration": 190,
        "start_time": "2022-10-20T09:58:18.249Z"
      },
      {
        "duration": 23,
        "start_time": "2022-10-20T09:58:18.441Z"
      },
      {
        "duration": 438,
        "start_time": "2022-10-20T09:58:18.466Z"
      },
      {
        "duration": 21,
        "start_time": "2022-10-20T09:58:18.909Z"
      },
      {
        "duration": 228,
        "start_time": "2022-10-20T09:58:18.932Z"
      }
    ],
    "colab": {
      "provenance": []
    },
    "kernelspec": {
      "display_name": "Python 3 (ipykernel)",
      "language": "python",
      "name": "python3"
    },
    "language_info": {
      "codemirror_mode": {
        "name": "ipython",
        "version": 3
      },
      "file_extension": ".py",
      "mimetype": "text/x-python",
      "name": "python",
      "nbconvert_exporter": "python",
      "pygments_lexer": "ipython3",
      "version": "3.9.5"
    },
    "toc": {
      "base_numbering": 1,
      "nav_menu": {},
      "number_sections": true,
      "sideBar": true,
      "skip_h1_title": true,
      "title_cell": "Table of Contents",
      "title_sidebar": "Contents",
      "toc_cell": false,
      "toc_position": {
        "height": "calc(100% - 180px)",
        "left": "10px",
        "top": "150px",
        "width": "375.391px"
      },
      "toc_section_display": true,
      "toc_window_display": false
    }
  },
  "nbformat": 4,
  "nbformat_minor": 0
}
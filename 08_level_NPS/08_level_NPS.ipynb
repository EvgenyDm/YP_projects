{
  "cells": [
    {
      "cell_type": "markdown",
      "source": [
        "# Описание проекта\n",
        "Заказчик этого исследования — большая телекоммуникационная компания, которая оказывает услуги на территории всего СНГ. Перед компанией стоит задача определить текущий уровень потребительской лояльности, или NPS (от англ. Net Promoter Score), среди клиентов из России.  \n",
        "Чтобы определить уровень лояльности, клиентам задавали классический вопрос: «Оцените по шкале от 1 до 10 вероятность того, что вы порекомендуете компанию друзьям и знакомым».  \n",
        "Компания провела опрос и попросила вас подготовить дашборд с его итогами. Большую базу данных для такой задачи разворачивать не стали и выгрузили данные в SQLite.  \n",
        "Чтобы оценить результаты опроса, оценки обычно делят на три группы:  \n",
        "9-10 баллов — «cторонники» (англ. promoters);  \n",
        "7-8 баллов — «нейтралы» (англ. passives);  \n",
        "0-6 баллов — «критики» (англ. detractors).  \n",
        "# Данные\n",
        "Таблица `user`  \n",
        "Содержит основную информацию о клиентах.  \n",
        "`user_id`\t- идентификатор клиента, первичный ключ таблицы;  \n",
        "`lt_day` - количество дней «жизни» клиента;  \n",
        "`age` - возраст клиента в годах;  \n",
        "`gender_segment` - пол клиента (1 – женщина, 0 – мужчина);  \n",
        "`os_name` - тип операционной системы;  \n",
        "`cpe_type_name` - тип устройства;  \n",
        "`location_id` - идентификатор домашнего региона клиента, внешний ключ, отсылающий к таблице location;  \n",
        "`age_gr_id` - идентификатор возрастного сегмента клиента, внешний ключ, отсылающий к таблице age_segment;  \n",
        "`tr_gr_id`- идентификатор сегмента клиента по объёму потребляемого трафика в месяц, внешний ключ, отсылающий к таблице traffic_segment;  \n",
        "`lt_gr_id` - идентификатор сегмента клиента по количеству месяцев «жизни», внешний ключ, отсылающий к таблице lifetime_segment;  \n",
        "`nps_score` - оценка клиента в NPS-опросе (от 1 до 10).  \n",
        "\n",
        "Таблица `location`  \n",
        "Справочник территорий, в которых телеком-компания оказывает услуги.  \n",
        "`location_id` - идентификатор записи, первичный ключ;  \n",
        "`country` - страна;  \n",
        "`city` - город.\n",
        "\n",
        "Таблица `age_segment`  \n",
        "Данные о возрастных сегментах клиентов.  \n",
        "`age_gr_id` - идентификатор сегмента, первичный ключ;  \n",
        "`bucket_min` - минимальная граница сегмента;  \n",
        "`bucket_max` - максимальная граница сегмента;  \n",
        "`title` - название сегмента.  \n",
        "\n",
        "Таблица `traffic_segment`  \n",
        "Данные о выделяемых сегментах по объёму потребляемого трафика.  \n",
        "`tr_gr_id` - идентификатор сегмента, первичный ключ;  \n",
        "`bucket_min` - минимальная граница сегмента;  \n",
        "`bucket_max` - максимальная граница сегмента;  \n",
        "`title` - название сегмента.  \n",
        "\n",
        "Таблица `lifetime_segment`  \n",
        "Данные о выделяемых сегментах по количеству месяцев «жизни» клиента — лайфтайму.  \n",
        "`lt_gr_id` - идентификатор сегмента, первичный ключ;  \n",
        "`bucket_min` - минимальная граница сегмента;  \n",
        "`bucket_max` - максимальная граница сегмента;  \n",
        "`title` - название сегмента."
      ],
      "metadata": {
        "id": "qFyrIeqe0Vda"
      },
      "id": "qFyrIeqe0Vda"
    },
    {
      "cell_type": "markdown",
      "id": "a45c72a5",
      "metadata": {
        "id": "a45c72a5"
      },
      "source": [
        "# Ссылка на дашборд Tableau Public:\n",
        "[Ссылка](https://public.tableau.com/app/profile/evgeny3184/viz/Big_project2_dashboard/Dashboard2?publish=yes)"
      ]
    },
    {
      "cell_type": "markdown",
      "source": [
        "# Подключаемся к базе"
      ],
      "metadata": {
        "id": "WBs5WTwJ43Sh"
      },
      "id": "WBs5WTwJ43Sh"
    },
    {
      "cell_type": "code",
      "execution_count": null,
      "id": "672a32a2",
      "metadata": {
        "tags": [
          "aa81075c-062f-4de0-b5fe-14c73dc7468e"
        ],
        "id": "672a32a2"
      },
      "outputs": [],
      "source": [
        "import pandas as pd\n",
        "import numpy as np\n",
        "\n",
        "from sqlalchemy import create_engine"
      ]
    },
    {
      "cell_type": "code",
      "execution_count": null,
      "id": "e9214506",
      "metadata": {
        "id": "e9214506"
      },
      "outputs": [],
      "source": [
        "path_to_db = '/datasets/telecomm_csi.db'\n",
        "engine = create_engine(f'sqlite:///{path_to_db}', echo = False)"
      ]
    },
    {
      "cell_type": "code",
      "execution_count": null,
      "id": "eb732ba3",
      "metadata": {
        "id": "eb732ba3"
      },
      "outputs": [],
      "source": [
        "query = \"\"\"\n",
        "WITH\n",
        "\n",
        "u AS (SELECT user_id,\n",
        "        lt_day,\n",
        "        CASE\n",
        "            WHEN lt_day <= 365 THEN 'new'\n",
        "            WHEN lt_day > 365 THEN 'old' END\n",
        "        AS is_new,\n",
        "        age,\n",
        "        gender_segment,\n",
        "        CASE\n",
        "            WHEN CAST(gender_segment AS real) = 1 THEN 'female'\n",
        "            WHEN CAST(gender_segment AS real) = 0 THEN 'male' END\n",
        "        AS gender_segment,\n",
        "        os_name,\n",
        "        cpe_type_name,\n",
        "        location_id,\n",
        "        age_gr_id,\n",
        "        tr_gr_id,\n",
        "        lt_gr_id,\n",
        "        nps_score\n",
        "      FROM user),\n",
        "\n",
        "l AS (SELECT * FROM location),\n",
        "\n",
        "age_s AS (SELECT age_gr_id, title FROM age_segment),\n",
        "\n",
        "tr AS (SELECT tr_gr_id, title FROM traffic_segment),\n",
        "\n",
        "ls AS (SELECT lt_gr_id, title FROM lifetime_segment)\n",
        "\n",
        "SELECT  u.user_id,\n",
        "        u.lt_day,\n",
        "        u.is_new,\n",
        "        u.age,\n",
        "        u.gender_segment,\n",
        "        u.os_name,\n",
        "        u.cpe_type_name,\n",
        "        l.country,\n",
        "        l.city,\n",
        "        age_s.title AS age_segment,\n",
        "        tr.title AS traffic_segment,\n",
        "        ls.title AS lifetime_segment,\n",
        "        u.nps_score,\n",
        "        CASE\n",
        "            WHEN u.nps_score >= 9 THEN 'protomers'\n",
        "            WHEN u.nps_score = 7 OR u.nps_score = 8 THEN 'passives'\n",
        "            WHEN u.nps_score <= 6 THEN 'detractors'\n",
        "        END AS nps_group\n",
        "FROM u\n",
        "INNER JOIN l ON u.location_id = l.location_id\n",
        "INNER JOIN age_s ON u.age_gr_id = age_s.age_gr_id\n",
        "INNER JOIN tr ON u.tr_gr_id = tr.tr_gr_id\n",
        "INNER JOIN ls ON u.lt_gr_id = ls.lt_gr_id\n",
        "\"\"\""
      ]
    },
    {
      "cell_type": "code",
      "execution_count": null,
      "id": "d9cc9850",
      "metadata": {
        "id": "d9cc9850",
        "outputId": "cf6bd50e-e72d-4e10-de25-5573549746fd"
      },
      "outputs": [
        {
          "data": {
            "text/html": [
              "<div>\n",
              "<style scoped>\n",
              "    .dataframe tbody tr th:only-of-type {\n",
              "        vertical-align: middle;\n",
              "    }\n",
              "\n",
              "    .dataframe tbody tr th {\n",
              "        vertical-align: top;\n",
              "    }\n",
              "\n",
              "    .dataframe thead th {\n",
              "        text-align: right;\n",
              "    }\n",
              "</style>\n",
              "<table border=\"1\" class=\"dataframe\">\n",
              "  <thead>\n",
              "    <tr style=\"text-align: right;\">\n",
              "      <th></th>\n",
              "      <th>user_id</th>\n",
              "      <th>lt_day</th>\n",
              "      <th>is_new</th>\n",
              "      <th>age</th>\n",
              "      <th>gender_segment</th>\n",
              "      <th>os_name</th>\n",
              "      <th>cpe_type_name</th>\n",
              "      <th>country</th>\n",
              "      <th>city</th>\n",
              "      <th>age_segment</th>\n",
              "      <th>traffic_segment</th>\n",
              "      <th>lifetime_segment</th>\n",
              "      <th>nps_score</th>\n",
              "      <th>nps_group</th>\n",
              "    </tr>\n",
              "  </thead>\n",
              "  <tbody>\n",
              "    <tr>\n",
              "      <th>0</th>\n",
              "      <td>A001A2</td>\n",
              "      <td>2320</td>\n",
              "      <td>old</td>\n",
              "      <td>45.0</td>\n",
              "      <td>1.0</td>\n",
              "      <td>ANDROID</td>\n",
              "      <td>SMARTPHONE</td>\n",
              "      <td>Россия</td>\n",
              "      <td>Уфа</td>\n",
              "      <td>05 45-54</td>\n",
              "      <td>04 1-5</td>\n",
              "      <td>08 36+</td>\n",
              "      <td>10</td>\n",
              "      <td>protomers</td>\n",
              "    </tr>\n",
              "    <tr>\n",
              "      <th>1</th>\n",
              "      <td>A001WF</td>\n",
              "      <td>2344</td>\n",
              "      <td>old</td>\n",
              "      <td>53.0</td>\n",
              "      <td>0.0</td>\n",
              "      <td>ANDROID</td>\n",
              "      <td>SMARTPHONE</td>\n",
              "      <td>Россия</td>\n",
              "      <td>Киров</td>\n",
              "      <td>05 45-54</td>\n",
              "      <td>04 1-5</td>\n",
              "      <td>08 36+</td>\n",
              "      <td>10</td>\n",
              "      <td>protomers</td>\n",
              "    </tr>\n",
              "    <tr>\n",
              "      <th>2</th>\n",
              "      <td>A003Q7</td>\n",
              "      <td>467</td>\n",
              "      <td>old</td>\n",
              "      <td>57.0</td>\n",
              "      <td>0.0</td>\n",
              "      <td>ANDROID</td>\n",
              "      <td>SMARTPHONE</td>\n",
              "      <td>Россия</td>\n",
              "      <td>Москва</td>\n",
              "      <td>06 55-64</td>\n",
              "      <td>08 20-25</td>\n",
              "      <td>06 13-24</td>\n",
              "      <td>10</td>\n",
              "      <td>protomers</td>\n",
              "    </tr>\n",
              "    <tr>\n",
              "      <th>3</th>\n",
              "      <td>A004TB</td>\n",
              "      <td>4190</td>\n",
              "      <td>old</td>\n",
              "      <td>44.0</td>\n",
              "      <td>1.0</td>\n",
              "      <td>IOS</td>\n",
              "      <td>SMARTPHONE</td>\n",
              "      <td>Россия</td>\n",
              "      <td>РостовнаДону</td>\n",
              "      <td>04 35-44</td>\n",
              "      <td>03 0.1-1</td>\n",
              "      <td>08 36+</td>\n",
              "      <td>10</td>\n",
              "      <td>protomers</td>\n",
              "    </tr>\n",
              "    <tr>\n",
              "      <th>4</th>\n",
              "      <td>A004XT</td>\n",
              "      <td>1163</td>\n",
              "      <td>old</td>\n",
              "      <td>24.0</td>\n",
              "      <td>0.0</td>\n",
              "      <td>ANDROID</td>\n",
              "      <td>SMARTPHONE</td>\n",
              "      <td>Россия</td>\n",
              "      <td>Рязань</td>\n",
              "      <td>02 16-24</td>\n",
              "      <td>05 5-10</td>\n",
              "      <td>08 36+</td>\n",
              "      <td>10</td>\n",
              "      <td>protomers</td>\n",
              "    </tr>\n",
              "    <tr>\n",
              "      <th>5</th>\n",
              "      <td>A005O0</td>\n",
              "      <td>5501</td>\n",
              "      <td>old</td>\n",
              "      <td>42.0</td>\n",
              "      <td>1.0</td>\n",
              "      <td>ANDROID</td>\n",
              "      <td>SMARTPHONE</td>\n",
              "      <td>Россия</td>\n",
              "      <td>Омск</td>\n",
              "      <td>04 35-44</td>\n",
              "      <td>05 5-10</td>\n",
              "      <td>08 36+</td>\n",
              "      <td>6</td>\n",
              "      <td>detractors</td>\n",
              "    </tr>\n",
              "    <tr>\n",
              "      <th>6</th>\n",
              "      <td>A0061R</td>\n",
              "      <td>1236</td>\n",
              "      <td>old</td>\n",
              "      <td>45.0</td>\n",
              "      <td>0.0</td>\n",
              "      <td>ANDROID</td>\n",
              "      <td>SMARTPHONE</td>\n",
              "      <td>Россия</td>\n",
              "      <td>Уфа</td>\n",
              "      <td>05 45-54</td>\n",
              "      <td>06 10-15</td>\n",
              "      <td>08 36+</td>\n",
              "      <td>10</td>\n",
              "      <td>protomers</td>\n",
              "    </tr>\n",
              "    <tr>\n",
              "      <th>7</th>\n",
              "      <td>A009KS</td>\n",
              "      <td>313</td>\n",
              "      <td>new</td>\n",
              "      <td>35.0</td>\n",
              "      <td>0.0</td>\n",
              "      <td>ANDROID</td>\n",
              "      <td>SMARTPHONE</td>\n",
              "      <td>Россия</td>\n",
              "      <td>Москва</td>\n",
              "      <td>04 35-44</td>\n",
              "      <td>13 45-50</td>\n",
              "      <td>05 7-12</td>\n",
              "      <td>10</td>\n",
              "      <td>protomers</td>\n",
              "    </tr>\n",
              "    <tr>\n",
              "      <th>8</th>\n",
              "      <td>A00AES</td>\n",
              "      <td>3238</td>\n",
              "      <td>old</td>\n",
              "      <td>36.0</td>\n",
              "      <td>1.0</td>\n",
              "      <td>ANDROID</td>\n",
              "      <td>SMARTPHONE</td>\n",
              "      <td>Россия</td>\n",
              "      <td>СанктПетербург</td>\n",
              "      <td>04 35-44</td>\n",
              "      <td>04 1-5</td>\n",
              "      <td>08 36+</td>\n",
              "      <td>10</td>\n",
              "      <td>protomers</td>\n",
              "    </tr>\n",
              "    <tr>\n",
              "      <th>9</th>\n",
              "      <td>A00F70</td>\n",
              "      <td>4479</td>\n",
              "      <td>old</td>\n",
              "      <td>54.0</td>\n",
              "      <td>1.0</td>\n",
              "      <td>ANDROID</td>\n",
              "      <td>SMARTPHONE</td>\n",
              "      <td>Россия</td>\n",
              "      <td>Волгоград</td>\n",
              "      <td>05 45-54</td>\n",
              "      <td>07 15-20</td>\n",
              "      <td>08 36+</td>\n",
              "      <td>9</td>\n",
              "      <td>protomers</td>\n",
              "    </tr>\n",
              "  </tbody>\n",
              "</table>\n",
              "</div>"
            ],
            "text/plain": [
              "  user_id  lt_day is_new   age  gender_segment  os_name cpe_type_name country  \\\n",
              "0  A001A2    2320    old  45.0             1.0  ANDROID    SMARTPHONE  Россия   \n",
              "1  A001WF    2344    old  53.0             0.0  ANDROID    SMARTPHONE  Россия   \n",
              "2  A003Q7     467    old  57.0             0.0  ANDROID    SMARTPHONE  Россия   \n",
              "3  A004TB    4190    old  44.0             1.0      IOS    SMARTPHONE  Россия   \n",
              "4  A004XT    1163    old  24.0             0.0  ANDROID    SMARTPHONE  Россия   \n",
              "5  A005O0    5501    old  42.0             1.0  ANDROID    SMARTPHONE  Россия   \n",
              "6  A0061R    1236    old  45.0             0.0  ANDROID    SMARTPHONE  Россия   \n",
              "7  A009KS     313    new  35.0             0.0  ANDROID    SMARTPHONE  Россия   \n",
              "8  A00AES    3238    old  36.0             1.0  ANDROID    SMARTPHONE  Россия   \n",
              "9  A00F70    4479    old  54.0             1.0  ANDROID    SMARTPHONE  Россия   \n",
              "\n",
              "             city age_segment traffic_segment lifetime_segment  nps_score  \\\n",
              "0             Уфа    05 45-54          04 1-5           08 36+         10   \n",
              "1           Киров    05 45-54          04 1-5           08 36+         10   \n",
              "2          Москва    06 55-64        08 20-25         06 13-24         10   \n",
              "3    РостовнаДону    04 35-44        03 0.1-1           08 36+         10   \n",
              "4          Рязань    02 16-24         05 5-10           08 36+         10   \n",
              "5            Омск    04 35-44         05 5-10           08 36+          6   \n",
              "6             Уфа    05 45-54        06 10-15           08 36+         10   \n",
              "7          Москва    04 35-44        13 45-50          05 7-12         10   \n",
              "8  СанктПетербург    04 35-44          04 1-5           08 36+         10   \n",
              "9       Волгоград    05 45-54        07 15-20           08 36+          9   \n",
              "\n",
              "    nps_group  \n",
              "0   protomers  \n",
              "1   protomers  \n",
              "2   protomers  \n",
              "3   protomers  \n",
              "4   protomers  \n",
              "5  detractors  \n",
              "6   protomers  \n",
              "7   protomers  \n",
              "8   protomers  \n",
              "9   protomers  "
            ]
          },
          "execution_count": 4,
          "metadata": {},
          "output_type": "execute_result"
        }
      ],
      "source": [
        "df = pd.read_sql(query, engine)\n",
        "df.head(10)"
      ]
    },
    {
      "cell_type": "code",
      "execution_count": null,
      "id": "77fbf12d",
      "metadata": {
        "id": "77fbf12d"
      },
      "outputs": [],
      "source": [
        "df.to_csv('telecomm_csi_tableau.csv', index=False)"
      ]
    },
    {
      "cell_type": "code",
      "execution_count": null,
      "id": "ba5e727f",
      "metadata": {
        "scrolled": true,
        "id": "ba5e727f"
      },
      "outputs": [],
      "source": [
        "import seaborn as sns\n",
        "import matplotlib.pyplot as plt\n",
        "d = df.assign(total_nps=lambda row: row['nps_group'].map({'protomers': 1, 'passives': 0, 'detractors': -1}))\\\n",
        "  .pivot_table(index=['gender_segment', 'age_segment'], columns=['lifetime_segment'], values='total_nps', aggfunc='mean')\n",
        "display(d)\n",
        "plt.figure(figsize=(15,8))\n",
        "sns.heatmap(d, annot=True);"
      ]
    }
  ],
  "metadata": {
    "ExecuteTimeLog": [
      {
        "duration": 752,
        "start_time": "2021-10-03T17:40:52.731Z"
      },
      {
        "duration": 20,
        "start_time": "2021-10-03T17:40:53.486Z"
      },
      {
        "duration": 4,
        "start_time": "2021-10-03T17:41:04.638Z"
      },
      {
        "duration": 461,
        "start_time": "2021-10-03T17:41:04.912Z"
      },
      {
        "duration": 284,
        "start_time": "2021-10-03T17:41:05.376Z"
      },
      {
        "duration": 574,
        "start_time": "2021-10-06T07:55:05.029Z"
      },
      {
        "duration": 6,
        "start_time": "2021-10-06T07:55:05.605Z"
      },
      {
        "duration": 3,
        "start_time": "2021-10-06T07:55:14.685Z"
      },
      {
        "duration": 406,
        "start_time": "2021-10-06T07:55:15.522Z"
      },
      {
        "duration": 67,
        "start_time": "2021-10-06T07:55:15.929Z"
      },
      {
        "duration": 840,
        "start_time": "2021-10-07T07:54:04.647Z"
      },
      {
        "duration": 10,
        "start_time": "2021-10-07T07:54:05.490Z"
      },
      {
        "duration": 4,
        "start_time": "2021-10-07T07:54:05.544Z"
      },
      {
        "duration": 391,
        "start_time": "2021-10-07T07:54:06.237Z"
      },
      {
        "duration": 293,
        "start_time": "2021-10-07T07:54:06.654Z"
      },
      {
        "duration": 468,
        "start_time": "2023-01-09T20:19:57.130Z"
      },
      {
        "duration": 31,
        "start_time": "2023-01-09T20:19:58.324Z"
      },
      {
        "duration": 2,
        "start_time": "2023-01-09T20:19:59.555Z"
      },
      {
        "duration": 478,
        "start_time": "2023-01-09T20:20:00.659Z"
      },
      {
        "duration": 194,
        "start_time": "2023-01-09T20:20:02.339Z"
      },
      {
        "duration": 45,
        "start_time": "2023-01-10T09:27:09.747Z"
      },
      {
        "duration": 483,
        "start_time": "2023-01-10T09:27:16.038Z"
      },
      {
        "duration": 10,
        "start_time": "2023-01-10T09:27:16.523Z"
      },
      {
        "duration": 3,
        "start_time": "2023-01-10T09:27:16.534Z"
      },
      {
        "duration": 504,
        "start_time": "2023-01-10T09:27:16.538Z"
      },
      {
        "duration": 53,
        "start_time": "2023-01-10T09:27:17.044Z"
      },
      {
        "duration": 418,
        "start_time": "2023-01-10T09:27:22.554Z"
      },
      {
        "duration": 2,
        "start_time": "2023-01-10T09:29:26.778Z"
      },
      {
        "duration": 1371,
        "start_time": "2023-01-10T09:29:32.104Z"
      },
      {
        "duration": 2,
        "start_time": "2023-01-10T09:30:07.690Z"
      },
      {
        "duration": 421,
        "start_time": "2023-01-10T09:30:10.985Z"
      },
      {
        "duration": 6,
        "start_time": "2023-01-10T19:03:17.941Z"
      },
      {
        "duration": 509,
        "start_time": "2023-01-10T19:03:29.577Z"
      },
      {
        "duration": 22,
        "start_time": "2023-01-10T19:03:30.088Z"
      },
      {
        "duration": 3,
        "start_time": "2023-01-10T19:03:30.111Z"
      },
      {
        "duration": 3274,
        "start_time": "2023-01-10T19:03:30.115Z"
      },
      {
        "duration": 2388,
        "start_time": "2023-01-10T19:03:33.390Z"
      },
      {
        "duration": 3,
        "start_time": "2023-01-10T19:40:43.505Z"
      },
      {
        "duration": 1593,
        "start_time": "2023-01-10T19:40:46.762Z"
      },
      {
        "duration": 4,
        "start_time": "2023-01-10T19:52:54.110Z"
      },
      {
        "duration": 2013,
        "start_time": "2023-01-10T19:52:57.115Z"
      },
      {
        "duration": 2,
        "start_time": "2023-01-10T19:54:37.997Z"
      },
      {
        "duration": 2054,
        "start_time": "2023-01-10T19:54:43.735Z"
      },
      {
        "duration": 3,
        "start_time": "2023-01-10T19:55:11.476Z"
      },
      {
        "duration": 2078,
        "start_time": "2023-01-10T19:55:13.145Z"
      },
      {
        "duration": 2,
        "start_time": "2023-01-10T19:56:26.164Z"
      },
      {
        "duration": 2066,
        "start_time": "2023-01-10T19:56:27.257Z"
      },
      {
        "duration": 2,
        "start_time": "2023-01-10T19:57:11.364Z"
      },
      {
        "duration": 2058,
        "start_time": "2023-01-10T19:57:12.605Z"
      },
      {
        "duration": 3,
        "start_time": "2023-01-10T19:58:06.608Z"
      },
      {
        "duration": 2388,
        "start_time": "2023-01-10T19:58:08.037Z"
      },
      {
        "duration": 3,
        "start_time": "2023-01-10T20:05:11.215Z"
      },
      {
        "duration": 350,
        "start_time": "2023-01-10T20:05:12.137Z"
      },
      {
        "duration": 2,
        "start_time": "2023-01-10T20:05:40.820Z"
      },
      {
        "duration": 289,
        "start_time": "2023-01-10T20:05:41.782Z"
      },
      {
        "duration": 3,
        "start_time": "2023-01-10T20:05:59.126Z"
      },
      {
        "duration": 315,
        "start_time": "2023-01-10T20:05:59.798Z"
      },
      {
        "duration": 3,
        "start_time": "2023-01-10T20:28:37.537Z"
      },
      {
        "duration": 1720,
        "start_time": "2023-01-10T20:28:40.816Z"
      },
      {
        "duration": 4,
        "start_time": "2023-01-10T21:00:09.873Z"
      },
      {
        "duration": 505,
        "start_time": "2023-01-10T21:00:13.347Z"
      },
      {
        "duration": 3,
        "start_time": "2023-01-10T21:00:29.406Z"
      },
      {
        "duration": 3660,
        "start_time": "2023-01-10T21:00:30.663Z"
      },
      {
        "duration": 3,
        "start_time": "2023-01-10T21:02:36.269Z"
      },
      {
        "duration": 3483,
        "start_time": "2023-01-10T21:02:39.934Z"
      },
      {
        "duration": 3,
        "start_time": "2023-01-10T21:03:30.746Z"
      },
      {
        "duration": 3794,
        "start_time": "2023-01-10T21:03:31.803Z"
      },
      {
        "duration": 3,
        "start_time": "2023-01-10T21:03:57.325Z"
      },
      {
        "duration": 3590,
        "start_time": "2023-01-10T21:03:58.847Z"
      },
      {
        "duration": 3,
        "start_time": "2023-01-10T21:17:07.309Z"
      },
      {
        "duration": 483,
        "start_time": "2023-01-10T21:17:08.544Z"
      },
      {
        "duration": 3,
        "start_time": "2023-01-10T21:20:03.556Z"
      },
      {
        "duration": 469,
        "start_time": "2023-01-10T21:20:28.319Z"
      },
      {
        "duration": 24,
        "start_time": "2023-01-10T21:20:28.790Z"
      },
      {
        "duration": 3,
        "start_time": "2023-01-10T21:20:28.815Z"
      },
      {
        "duration": 491,
        "start_time": "2023-01-10T21:21:01.708Z"
      },
      {
        "duration": 23,
        "start_time": "2023-01-10T21:21:02.200Z"
      },
      {
        "duration": 3,
        "start_time": "2023-01-10T21:21:02.225Z"
      },
      {
        "duration": 8,
        "start_time": "2023-01-10T21:21:57.004Z"
      },
      {
        "duration": 41,
        "start_time": "2023-01-10T21:21:58.318Z"
      },
      {
        "duration": 527,
        "start_time": "2023-01-10T21:22:08.164Z"
      },
      {
        "duration": 19,
        "start_time": "2023-01-10T21:22:08.692Z"
      },
      {
        "duration": 4,
        "start_time": "2023-01-10T21:22:08.712Z"
      },
      {
        "duration": 8,
        "start_time": "2023-01-10T21:24:13.164Z"
      },
      {
        "duration": 40,
        "start_time": "2023-01-10T21:24:14.564Z"
      },
      {
        "duration": 539,
        "start_time": "2023-01-10T21:24:22.150Z"
      },
      {
        "duration": 18,
        "start_time": "2023-01-10T21:24:22.691Z"
      },
      {
        "duration": 3,
        "start_time": "2023-01-10T21:24:22.710Z"
      },
      {
        "duration": 16227,
        "start_time": "2023-01-10T21:24:22.715Z"
      },
      {
        "duration": 0,
        "start_time": "2023-01-10T21:24:38.943Z"
      },
      {
        "duration": 5,
        "start_time": "2023-01-10T21:24:43.751Z"
      },
      {
        "duration": 4806,
        "start_time": "2023-01-10T21:24:45.067Z"
      },
      {
        "duration": 4555,
        "start_time": "2023-01-10T21:26:05.068Z"
      },
      {
        "duration": 3771,
        "start_time": "2023-01-10T21:27:12.554Z"
      },
      {
        "duration": 3,
        "start_time": "2023-01-11T05:48:52.468Z"
      },
      {
        "duration": 4792,
        "start_time": "2023-01-11T05:48:54.100Z"
      },
      {
        "duration": 3,
        "start_time": "2023-01-11T05:49:30.784Z"
      },
      {
        "duration": 4672,
        "start_time": "2023-01-11T05:49:31.270Z"
      },
      {
        "duration": 4693,
        "start_time": "2023-01-11T05:49:55.541Z"
      },
      {
        "duration": 4,
        "start_time": "2023-01-11T20:06:33.961Z"
      },
      {
        "duration": 4796,
        "start_time": "2023-01-11T20:06:35.599Z"
      },
      {
        "duration": 3,
        "start_time": "2023-01-11T20:07:40.128Z"
      },
      {
        "duration": 486,
        "start_time": "2023-01-11T20:07:41.094Z"
      },
      {
        "duration": 4,
        "start_time": "2023-01-11T20:07:57.913Z"
      },
      {
        "duration": 512,
        "start_time": "2023-01-11T20:07:59.430Z"
      },
      {
        "duration": 3,
        "start_time": "2023-01-11T20:10:09.473Z"
      },
      {
        "duration": 476,
        "start_time": "2023-01-11T20:10:11.201Z"
      },
      {
        "duration": 540,
        "start_time": "2023-01-11T20:10:23.880Z"
      },
      {
        "duration": 15,
        "start_time": "2023-01-11T20:10:24.422Z"
      },
      {
        "duration": 4,
        "start_time": "2023-01-11T20:10:24.438Z"
      },
      {
        "duration": 550,
        "start_time": "2023-01-11T20:10:24.444Z"
      },
      {
        "duration": 0,
        "start_time": "2023-01-11T20:10:24.995Z"
      },
      {
        "duration": 3,
        "start_time": "2023-01-11T20:11:36.643Z"
      },
      {
        "duration": 4752,
        "start_time": "2023-01-11T20:11:37.549Z"
      },
      {
        "duration": 3,
        "start_time": "2023-01-11T20:14:13.110Z"
      },
      {
        "duration": 4920,
        "start_time": "2023-01-11T20:14:14.641Z"
      },
      {
        "duration": 4,
        "start_time": "2023-01-11T20:15:29.934Z"
      },
      {
        "duration": 492,
        "start_time": "2023-01-11T20:15:30.536Z"
      },
      {
        "duration": 3,
        "start_time": "2023-01-11T20:15:56.970Z"
      },
      {
        "duration": 483,
        "start_time": "2023-01-11T20:15:57.595Z"
      },
      {
        "duration": 4,
        "start_time": "2023-01-11T20:17:38.737Z"
      },
      {
        "duration": 484,
        "start_time": "2023-01-11T20:17:39.482Z"
      },
      {
        "duration": 4,
        "start_time": "2023-01-11T20:18:01.050Z"
      },
      {
        "duration": 5072,
        "start_time": "2023-01-11T20:18:02.075Z"
      },
      {
        "duration": 3,
        "start_time": "2023-01-11T20:19:25.019Z"
      },
      {
        "duration": 4758,
        "start_time": "2023-01-11T20:19:26.397Z"
      },
      {
        "duration": 2,
        "start_time": "2023-01-11T20:20:25.227Z"
      },
      {
        "duration": 3,
        "start_time": "2023-01-11T20:20:26.199Z"
      },
      {
        "duration": 3,
        "start_time": "2023-01-11T20:20:26.777Z"
      },
      {
        "duration": 4807,
        "start_time": "2023-01-11T20:20:27.602Z"
      },
      {
        "duration": 4191,
        "start_time": "2023-01-11T20:20:32.411Z"
      },
      {
        "duration": 2,
        "start_time": "2023-01-11T20:26:42.240Z"
      },
      {
        "duration": 308,
        "start_time": "2023-01-11T20:26:43.416Z"
      },
      {
        "duration": 3,
        "start_time": "2023-01-11T20:27:10.980Z"
      },
      {
        "duration": 5024,
        "start_time": "2023-01-11T20:27:12.007Z"
      },
      {
        "duration": 3,
        "start_time": "2023-01-11T20:28:01.151Z"
      },
      {
        "duration": 4841,
        "start_time": "2023-01-11T20:28:03.624Z"
      },
      {
        "duration": 4,
        "start_time": "2023-01-11T20:29:43.798Z"
      },
      {
        "duration": 4864,
        "start_time": "2023-01-11T20:29:47.221Z"
      },
      {
        "duration": 3,
        "start_time": "2023-01-11T20:30:42.096Z"
      },
      {
        "duration": 501,
        "start_time": "2023-01-11T20:31:00.425Z"
      },
      {
        "duration": 42,
        "start_time": "2023-01-11T20:31:00.929Z"
      },
      {
        "duration": 4,
        "start_time": "2023-01-11T20:31:00.973Z"
      },
      {
        "duration": 5093,
        "start_time": "2023-01-11T20:31:00.979Z"
      },
      {
        "duration": 3793,
        "start_time": "2023-01-11T20:31:06.077Z"
      },
      {
        "duration": 3,
        "start_time": "2023-01-11T20:33:15.813Z"
      },
      {
        "duration": 4849,
        "start_time": "2023-01-11T20:33:17.035Z"
      },
      {
        "duration": 4,
        "start_time": "2023-01-11T20:35:30.083Z"
      },
      {
        "duration": 5089,
        "start_time": "2023-01-11T20:35:31.981Z"
      },
      {
        "duration": 1562,
        "start_time": "2023-01-18T10:28:58.230Z"
      },
      {
        "duration": 521,
        "start_time": "2023-01-18T10:29:06.332Z"
      },
      {
        "duration": 16,
        "start_time": "2023-01-18T10:29:06.855Z"
      },
      {
        "duration": 10,
        "start_time": "2023-01-18T10:29:06.873Z"
      },
      {
        "duration": 5438,
        "start_time": "2023-01-18T10:29:06.885Z"
      },
      {
        "duration": 5868,
        "start_time": "2023-01-18T10:29:12.325Z"
      },
      {
        "duration": 3585,
        "start_time": "2023-01-18T10:29:18.196Z"
      },
      {
        "duration": 9,
        "start_time": "2023-01-18T20:09:16.359Z"
      },
      {
        "duration": 4,
        "start_time": "2023-01-18T20:09:19.607Z"
      },
      {
        "duration": 530,
        "start_time": "2023-01-18T20:21:23.704Z"
      },
      {
        "duration": 24,
        "start_time": "2023-01-18T20:21:25.064Z"
      },
      {
        "duration": 6,
        "start_time": "2023-01-18T20:21:27.060Z"
      },
      {
        "duration": 5442,
        "start_time": "2023-01-18T20:21:35.485Z"
      },
      {
        "duration": 4573,
        "start_time": "2023-01-18T20:21:42.886Z"
      },
      {
        "duration": 535,
        "start_time": "2023-01-21T06:11:27.456Z"
      },
      {
        "duration": 21,
        "start_time": "2023-01-21T06:11:27.993Z"
      },
      {
        "duration": 3,
        "start_time": "2023-01-21T06:11:28.015Z"
      },
      {
        "duration": 5358,
        "start_time": "2023-01-21T06:11:28.020Z"
      },
      {
        "duration": 5141,
        "start_time": "2023-01-21T06:11:33.380Z"
      },
      {
        "duration": 3405,
        "start_time": "2023-01-21T06:11:38.523Z"
      },
      {
        "duration": 536,
        "start_time": "2023-04-27T12:59:45.524Z"
      },
      {
        "duration": 21,
        "start_time": "2023-04-27T12:59:46.062Z"
      },
      {
        "duration": 4,
        "start_time": "2023-04-27T12:59:46.085Z"
      },
      {
        "duration": 5402,
        "start_time": "2023-04-27T12:59:46.090Z"
      },
      {
        "duration": 4339,
        "start_time": "2023-04-27T12:59:51.495Z"
      },
      {
        "duration": 3692,
        "start_time": "2023-04-27T12:59:55.836Z"
      }
    ],
    "kernelspec": {
      "display_name": "Python 3 (ipykernel)",
      "language": "python",
      "name": "python3"
    },
    "language_info": {
      "codemirror_mode": {
        "name": "ipython",
        "version": 3
      },
      "file_extension": ".py",
      "mimetype": "text/x-python",
      "name": "python",
      "nbconvert_exporter": "python",
      "pygments_lexer": "ipython3",
      "version": "3.9.5"
    },
    "toc": {
      "base_numbering": 1,
      "nav_menu": {},
      "number_sections": true,
      "sideBar": true,
      "skip_h1_title": true,
      "title_cell": "Table of Contents",
      "title_sidebar": "Contents",
      "toc_cell": false,
      "toc_position": {},
      "toc_section_display": true,
      "toc_window_display": false
    },
    "colab": {
      "provenance": []
    }
  },
  "nbformat": 4,
  "nbformat_minor": 5
}
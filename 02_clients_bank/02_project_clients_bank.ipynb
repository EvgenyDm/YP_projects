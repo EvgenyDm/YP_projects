{
  "cells": [
    {
      "cell_type": "markdown",
      "source": [
        "## Описание проекта\n",
        "Заказчик — кредитный отдел банка. Нужно разобраться, влияет ли семейное положение и количество детей клиента на факт погашения кредита в срок. Входные данные от банка — статистика о платёжеспособности клиентов.\n",
        "Результаты исследования будут учтены при построении модели кредитного скоринга — специальной системы, которая оценивает способность потенциального заёмщика вернуть кредит банку.\n",
        "## Описание данных\n",
        "`children` — количество детей в семье;  \n",
        "`days_employed` — общий трудовой стаж в днях;  \n",
        "`dob_years` — возраст клиента в годах;  \n",
        "`education` — уровень образования клиента;  \n",
        "`education_id` — идентификатор уровня образования;  \n",
        "`family_status` — семейное положение;  \n",
        "`family_status_id` — идентификатор семейного положения;  \n",
        "`gender` — пол клиента;  \n",
        "`income_type` — тип занятости;  \n",
        "`debt` — имел ли задолженность по возврату кредитов;  \n",
        "`total_income` — ежемесячный доход;  \n",
        "`purpose` — цель получения кредита"
      ],
      "metadata": {
        "id": "nrNJYMQhRQTI"
      },
      "id": "nrNJYMQhRQTI"
    },
    {
      "cell_type": "markdown",
      "id": "7046ff28",
      "metadata": {
        "deletable": false,
        "editable": false,
        "id": "7046ff28"
      },
      "source": [
        "## 1. Предобработка данных"
      ]
    },
    {
      "cell_type": "code",
      "execution_count": null,
      "id": "863ab07a",
      "metadata": {
        "deletable": false,
        "id": "863ab07a"
      },
      "outputs": [],
      "source": [
        "import pandas as pd\n",
        "\n",
        "try:\n",
        "    data = pd.read_csv('/datasets/data.csv')\n",
        "except:\n",
        "    data = pd.read_csv('https://code.s3.yandex.net/datasets/data.csv')"
      ]
    },
    {
      "cell_type": "code",
      "execution_count": null,
      "id": "6a70cc16",
      "metadata": {
        "deletable": false,
        "id": "6a70cc16",
        "outputId": "1a8f3ef2-d323-4ec2-ddf7-89670b5944c4",
        "scrolled": false
      },
      "outputs": [
        {
          "data": {
            "text/html": [
              "<div>\n",
              "<style scoped>\n",
              "    .dataframe tbody tr th:only-of-type {\n",
              "        vertical-align: middle;\n",
              "    }\n",
              "\n",
              "    .dataframe tbody tr th {\n",
              "        vertical-align: top;\n",
              "    }\n",
              "\n",
              "    .dataframe thead th {\n",
              "        text-align: right;\n",
              "    }\n",
              "</style>\n",
              "<table border=\"1\" class=\"dataframe\">\n",
              "  <thead>\n",
              "    <tr style=\"text-align: right;\">\n",
              "      <th></th>\n",
              "      <th>children</th>\n",
              "      <th>days_employed</th>\n",
              "      <th>dob_years</th>\n",
              "      <th>education</th>\n",
              "      <th>education_id</th>\n",
              "      <th>family_status</th>\n",
              "      <th>family_status_id</th>\n",
              "      <th>gender</th>\n",
              "      <th>income_type</th>\n",
              "      <th>debt</th>\n",
              "      <th>total_income</th>\n",
              "      <th>purpose</th>\n",
              "    </tr>\n",
              "  </thead>\n",
              "  <tbody>\n",
              "    <tr>\n",
              "      <th>0</th>\n",
              "      <td>1</td>\n",
              "      <td>-8437.673028</td>\n",
              "      <td>42</td>\n",
              "      <td>высшее</td>\n",
              "      <td>0</td>\n",
              "      <td>женат / замужем</td>\n",
              "      <td>0</td>\n",
              "      <td>F</td>\n",
              "      <td>сотрудник</td>\n",
              "      <td>0</td>\n",
              "      <td>253875.639453</td>\n",
              "      <td>покупка жилья</td>\n",
              "    </tr>\n",
              "    <tr>\n",
              "      <th>1</th>\n",
              "      <td>1</td>\n",
              "      <td>-4024.803754</td>\n",
              "      <td>36</td>\n",
              "      <td>среднее</td>\n",
              "      <td>1</td>\n",
              "      <td>женат / замужем</td>\n",
              "      <td>0</td>\n",
              "      <td>F</td>\n",
              "      <td>сотрудник</td>\n",
              "      <td>0</td>\n",
              "      <td>112080.014102</td>\n",
              "      <td>приобретение автомобиля</td>\n",
              "    </tr>\n",
              "    <tr>\n",
              "      <th>2</th>\n",
              "      <td>0</td>\n",
              "      <td>-5623.422610</td>\n",
              "      <td>33</td>\n",
              "      <td>Среднее</td>\n",
              "      <td>1</td>\n",
              "      <td>женат / замужем</td>\n",
              "      <td>0</td>\n",
              "      <td>M</td>\n",
              "      <td>сотрудник</td>\n",
              "      <td>0</td>\n",
              "      <td>145885.952297</td>\n",
              "      <td>покупка жилья</td>\n",
              "    </tr>\n",
              "    <tr>\n",
              "      <th>3</th>\n",
              "      <td>3</td>\n",
              "      <td>-4124.747207</td>\n",
              "      <td>32</td>\n",
              "      <td>среднее</td>\n",
              "      <td>1</td>\n",
              "      <td>женат / замужем</td>\n",
              "      <td>0</td>\n",
              "      <td>M</td>\n",
              "      <td>сотрудник</td>\n",
              "      <td>0</td>\n",
              "      <td>267628.550329</td>\n",
              "      <td>дополнительное образование</td>\n",
              "    </tr>\n",
              "    <tr>\n",
              "      <th>4</th>\n",
              "      <td>0</td>\n",
              "      <td>340266.072047</td>\n",
              "      <td>53</td>\n",
              "      <td>среднее</td>\n",
              "      <td>1</td>\n",
              "      <td>гражданский брак</td>\n",
              "      <td>1</td>\n",
              "      <td>F</td>\n",
              "      <td>пенсионер</td>\n",
              "      <td>0</td>\n",
              "      <td>158616.077870</td>\n",
              "      <td>сыграть свадьбу</td>\n",
              "    </tr>\n",
              "    <tr>\n",
              "      <th>5</th>\n",
              "      <td>0</td>\n",
              "      <td>-926.185831</td>\n",
              "      <td>27</td>\n",
              "      <td>высшее</td>\n",
              "      <td>0</td>\n",
              "      <td>гражданский брак</td>\n",
              "      <td>1</td>\n",
              "      <td>M</td>\n",
              "      <td>компаньон</td>\n",
              "      <td>0</td>\n",
              "      <td>255763.565419</td>\n",
              "      <td>покупка жилья</td>\n",
              "    </tr>\n",
              "    <tr>\n",
              "      <th>6</th>\n",
              "      <td>0</td>\n",
              "      <td>-2879.202052</td>\n",
              "      <td>43</td>\n",
              "      <td>высшее</td>\n",
              "      <td>0</td>\n",
              "      <td>женат / замужем</td>\n",
              "      <td>0</td>\n",
              "      <td>F</td>\n",
              "      <td>компаньон</td>\n",
              "      <td>0</td>\n",
              "      <td>240525.971920</td>\n",
              "      <td>операции с жильем</td>\n",
              "    </tr>\n",
              "    <tr>\n",
              "      <th>7</th>\n",
              "      <td>0</td>\n",
              "      <td>-152.779569</td>\n",
              "      <td>50</td>\n",
              "      <td>СРЕДНЕЕ</td>\n",
              "      <td>1</td>\n",
              "      <td>женат / замужем</td>\n",
              "      <td>0</td>\n",
              "      <td>M</td>\n",
              "      <td>сотрудник</td>\n",
              "      <td>0</td>\n",
              "      <td>135823.934197</td>\n",
              "      <td>образование</td>\n",
              "    </tr>\n",
              "    <tr>\n",
              "      <th>8</th>\n",
              "      <td>2</td>\n",
              "      <td>-6929.865299</td>\n",
              "      <td>35</td>\n",
              "      <td>ВЫСШЕЕ</td>\n",
              "      <td>0</td>\n",
              "      <td>гражданский брак</td>\n",
              "      <td>1</td>\n",
              "      <td>F</td>\n",
              "      <td>сотрудник</td>\n",
              "      <td>0</td>\n",
              "      <td>95856.832424</td>\n",
              "      <td>на проведение свадьбы</td>\n",
              "    </tr>\n",
              "    <tr>\n",
              "      <th>9</th>\n",
              "      <td>0</td>\n",
              "      <td>-2188.756445</td>\n",
              "      <td>41</td>\n",
              "      <td>среднее</td>\n",
              "      <td>1</td>\n",
              "      <td>женат / замужем</td>\n",
              "      <td>0</td>\n",
              "      <td>M</td>\n",
              "      <td>сотрудник</td>\n",
              "      <td>0</td>\n",
              "      <td>144425.938277</td>\n",
              "      <td>покупка жилья для семьи</td>\n",
              "    </tr>\n",
              "    <tr>\n",
              "      <th>10</th>\n",
              "      <td>2</td>\n",
              "      <td>-4171.483647</td>\n",
              "      <td>36</td>\n",
              "      <td>высшее</td>\n",
              "      <td>0</td>\n",
              "      <td>женат / замужем</td>\n",
              "      <td>0</td>\n",
              "      <td>M</td>\n",
              "      <td>компаньон</td>\n",
              "      <td>0</td>\n",
              "      <td>113943.491460</td>\n",
              "      <td>покупка недвижимости</td>\n",
              "    </tr>\n",
              "    <tr>\n",
              "      <th>11</th>\n",
              "      <td>0</td>\n",
              "      <td>-792.701887</td>\n",
              "      <td>40</td>\n",
              "      <td>среднее</td>\n",
              "      <td>1</td>\n",
              "      <td>женат / замужем</td>\n",
              "      <td>0</td>\n",
              "      <td>F</td>\n",
              "      <td>сотрудник</td>\n",
              "      <td>0</td>\n",
              "      <td>77069.234271</td>\n",
              "      <td>покупка коммерческой недвижимости</td>\n",
              "    </tr>\n",
              "    <tr>\n",
              "      <th>12</th>\n",
              "      <td>0</td>\n",
              "      <td>NaN</td>\n",
              "      <td>65</td>\n",
              "      <td>среднее</td>\n",
              "      <td>1</td>\n",
              "      <td>гражданский брак</td>\n",
              "      <td>1</td>\n",
              "      <td>M</td>\n",
              "      <td>пенсионер</td>\n",
              "      <td>0</td>\n",
              "      <td>NaN</td>\n",
              "      <td>сыграть свадьбу</td>\n",
              "    </tr>\n",
              "    <tr>\n",
              "      <th>13</th>\n",
              "      <td>0</td>\n",
              "      <td>-1846.641941</td>\n",
              "      <td>54</td>\n",
              "      <td>неоконченное высшее</td>\n",
              "      <td>2</td>\n",
              "      <td>женат / замужем</td>\n",
              "      <td>0</td>\n",
              "      <td>F</td>\n",
              "      <td>сотрудник</td>\n",
              "      <td>0</td>\n",
              "      <td>130458.228857</td>\n",
              "      <td>приобретение автомобиля</td>\n",
              "    </tr>\n",
              "    <tr>\n",
              "      <th>14</th>\n",
              "      <td>0</td>\n",
              "      <td>-1844.956182</td>\n",
              "      <td>56</td>\n",
              "      <td>высшее</td>\n",
              "      <td>0</td>\n",
              "      <td>гражданский брак</td>\n",
              "      <td>1</td>\n",
              "      <td>F</td>\n",
              "      <td>компаньон</td>\n",
              "      <td>1</td>\n",
              "      <td>165127.911772</td>\n",
              "      <td>покупка жилой недвижимости</td>\n",
              "    </tr>\n",
              "    <tr>\n",
              "      <th>15</th>\n",
              "      <td>1</td>\n",
              "      <td>-972.364419</td>\n",
              "      <td>26</td>\n",
              "      <td>среднее</td>\n",
              "      <td>1</td>\n",
              "      <td>женат / замужем</td>\n",
              "      <td>0</td>\n",
              "      <td>F</td>\n",
              "      <td>сотрудник</td>\n",
              "      <td>0</td>\n",
              "      <td>116820.904450</td>\n",
              "      <td>строительство собственной недвижимости</td>\n",
              "    </tr>\n",
              "    <tr>\n",
              "      <th>16</th>\n",
              "      <td>0</td>\n",
              "      <td>-1719.934226</td>\n",
              "      <td>35</td>\n",
              "      <td>среднее</td>\n",
              "      <td>1</td>\n",
              "      <td>женат / замужем</td>\n",
              "      <td>0</td>\n",
              "      <td>F</td>\n",
              "      <td>сотрудник</td>\n",
              "      <td>0</td>\n",
              "      <td>289202.704229</td>\n",
              "      <td>недвижимость</td>\n",
              "    </tr>\n",
              "    <tr>\n",
              "      <th>17</th>\n",
              "      <td>0</td>\n",
              "      <td>-2369.999720</td>\n",
              "      <td>33</td>\n",
              "      <td>высшее</td>\n",
              "      <td>0</td>\n",
              "      <td>гражданский брак</td>\n",
              "      <td>1</td>\n",
              "      <td>M</td>\n",
              "      <td>сотрудник</td>\n",
              "      <td>0</td>\n",
              "      <td>90410.586745</td>\n",
              "      <td>строительство недвижимости</td>\n",
              "    </tr>\n",
              "    <tr>\n",
              "      <th>18</th>\n",
              "      <td>0</td>\n",
              "      <td>400281.136913</td>\n",
              "      <td>53</td>\n",
              "      <td>среднее</td>\n",
              "      <td>1</td>\n",
              "      <td>вдовец / вдова</td>\n",
              "      <td>2</td>\n",
              "      <td>F</td>\n",
              "      <td>пенсионер</td>\n",
              "      <td>0</td>\n",
              "      <td>56823.777243</td>\n",
              "      <td>на покупку подержанного автомобиля</td>\n",
              "    </tr>\n",
              "    <tr>\n",
              "      <th>19</th>\n",
              "      <td>0</td>\n",
              "      <td>-10038.818549</td>\n",
              "      <td>48</td>\n",
              "      <td>СРЕДНЕЕ</td>\n",
              "      <td>1</td>\n",
              "      <td>в разводе</td>\n",
              "      <td>3</td>\n",
              "      <td>F</td>\n",
              "      <td>сотрудник</td>\n",
              "      <td>0</td>\n",
              "      <td>242831.107982</td>\n",
              "      <td>на покупку своего автомобиля</td>\n",
              "    </tr>\n",
              "  </tbody>\n",
              "</table>\n",
              "</div>"
            ],
            "text/plain": [
              "    children  days_employed  dob_years            education  education_id  \\\n",
              "0          1   -8437.673028         42               высшее             0   \n",
              "1          1   -4024.803754         36              среднее             1   \n",
              "2          0   -5623.422610         33              Среднее             1   \n",
              "3          3   -4124.747207         32              среднее             1   \n",
              "4          0  340266.072047         53              среднее             1   \n",
              "5          0    -926.185831         27               высшее             0   \n",
              "6          0   -2879.202052         43               высшее             0   \n",
              "7          0    -152.779569         50              СРЕДНЕЕ             1   \n",
              "8          2   -6929.865299         35               ВЫСШЕЕ             0   \n",
              "9          0   -2188.756445         41              среднее             1   \n",
              "10         2   -4171.483647         36               высшее             0   \n",
              "11         0    -792.701887         40              среднее             1   \n",
              "12         0            NaN         65              среднее             1   \n",
              "13         0   -1846.641941         54  неоконченное высшее             2   \n",
              "14         0   -1844.956182         56               высшее             0   \n",
              "15         1    -972.364419         26              среднее             1   \n",
              "16         0   -1719.934226         35              среднее             1   \n",
              "17         0   -2369.999720         33               высшее             0   \n",
              "18         0  400281.136913         53              среднее             1   \n",
              "19         0  -10038.818549         48              СРЕДНЕЕ             1   \n",
              "\n",
              "       family_status  family_status_id gender income_type  debt  \\\n",
              "0    женат / замужем                 0      F   сотрудник     0   \n",
              "1    женат / замужем                 0      F   сотрудник     0   \n",
              "2    женат / замужем                 0      M   сотрудник     0   \n",
              "3    женат / замужем                 0      M   сотрудник     0   \n",
              "4   гражданский брак                 1      F   пенсионер     0   \n",
              "5   гражданский брак                 1      M   компаньон     0   \n",
              "6    женат / замужем                 0      F   компаньон     0   \n",
              "7    женат / замужем                 0      M   сотрудник     0   \n",
              "8   гражданский брак                 1      F   сотрудник     0   \n",
              "9    женат / замужем                 0      M   сотрудник     0   \n",
              "10   женат / замужем                 0      M   компаньон     0   \n",
              "11   женат / замужем                 0      F   сотрудник     0   \n",
              "12  гражданский брак                 1      M   пенсионер     0   \n",
              "13   женат / замужем                 0      F   сотрудник     0   \n",
              "14  гражданский брак                 1      F   компаньон     1   \n",
              "15   женат / замужем                 0      F   сотрудник     0   \n",
              "16   женат / замужем                 0      F   сотрудник     0   \n",
              "17  гражданский брак                 1      M   сотрудник     0   \n",
              "18    вдовец / вдова                 2      F   пенсионер     0   \n",
              "19         в разводе                 3      F   сотрудник     0   \n",
              "\n",
              "     total_income                                 purpose  \n",
              "0   253875.639453                           покупка жилья  \n",
              "1   112080.014102                 приобретение автомобиля  \n",
              "2   145885.952297                           покупка жилья  \n",
              "3   267628.550329              дополнительное образование  \n",
              "4   158616.077870                         сыграть свадьбу  \n",
              "5   255763.565419                           покупка жилья  \n",
              "6   240525.971920                       операции с жильем  \n",
              "7   135823.934197                             образование  \n",
              "8    95856.832424                   на проведение свадьбы  \n",
              "9   144425.938277                 покупка жилья для семьи  \n",
              "10  113943.491460                    покупка недвижимости  \n",
              "11   77069.234271       покупка коммерческой недвижимости  \n",
              "12            NaN                         сыграть свадьбу  \n",
              "13  130458.228857                 приобретение автомобиля  \n",
              "14  165127.911772              покупка жилой недвижимости  \n",
              "15  116820.904450  строительство собственной недвижимости  \n",
              "16  289202.704229                            недвижимость  \n",
              "17   90410.586745              строительство недвижимости  \n",
              "18   56823.777243      на покупку подержанного автомобиля  \n",
              "19  242831.107982            на покупку своего автомобиля  "
            ]
          },
          "execution_count": 2,
          "metadata": {},
          "output_type": "execute_result"
        }
      ],
      "source": [
        "data.head(20)"
      ]
    },
    {
      "cell_type": "code",
      "execution_count": null,
      "id": "ec57a756",
      "metadata": {
        "deletable": false,
        "id": "ec57a756",
        "outputId": "15376089-8dad-46c9-b520-c05248d43158"
      },
      "outputs": [
        {
          "name": "stdout",
          "output_type": "stream",
          "text": [
            "<class 'pandas.core.frame.DataFrame'>\n",
            "RangeIndex: 21525 entries, 0 to 21524\n",
            "Data columns (total 12 columns):\n",
            " #   Column            Non-Null Count  Dtype  \n",
            "---  ------            --------------  -----  \n",
            " 0   children          21525 non-null  int64  \n",
            " 1   days_employed     19351 non-null  float64\n",
            " 2   dob_years         21525 non-null  int64  \n",
            " 3   education         21525 non-null  object \n",
            " 4   education_id      21525 non-null  int64  \n",
            " 5   family_status     21525 non-null  object \n",
            " 6   family_status_id  21525 non-null  int64  \n",
            " 7   gender            21525 non-null  object \n",
            " 8   income_type       21525 non-null  object \n",
            " 9   debt              21525 non-null  int64  \n",
            " 10  total_income      19351 non-null  float64\n",
            " 11  purpose           21525 non-null  object \n",
            "dtypes: float64(2), int64(5), object(5)\n",
            "memory usage: 2.0+ MB\n"
          ]
        }
      ],
      "source": [
        "data.info()"
      ]
    },
    {
      "cell_type": "markdown",
      "id": "4d169fe0",
      "metadata": {
        "deletable": false,
        "editable": false,
        "id": "4d169fe0"
      },
      "source": [
        "Работаем с пропусками"
      ]
    },
    {
      "cell_type": "code",
      "execution_count": null,
      "id": "c390824d",
      "metadata": {
        "deletable": false,
        "id": "c390824d",
        "outputId": "81f4d817-781c-465c-ed15-91ce4446810d"
      },
      "outputs": [
        {
          "data": {
            "text/plain": [
              "children               0\n",
              "days_employed       2174\n",
              "dob_years              0\n",
              "education              0\n",
              "education_id           0\n",
              "family_status          0\n",
              "family_status_id       0\n",
              "gender                 0\n",
              "income_type            0\n",
              "debt                   0\n",
              "total_income        2174\n",
              "purpose                0\n",
              "dtype: int64"
            ]
          },
          "execution_count": 4,
          "metadata": {},
          "output_type": "execute_result"
        }
      ],
      "source": [
        "data.isna().sum()"
      ]
    },
    {
      "cell_type": "markdown",
      "id": "1e72e19a",
      "metadata": {
        "deletable": false,
        "editable": false,
        "id": "1e72e19a"
      },
      "source": [
        "В двух столбцах есть пропущенные значения. Один из них — `days_employed`. Другой столбец с пропущенными значениями — `total_income` — хранит данные о доходах. На сумму дохода сильнее всего влияет тип занятости, поэтому заполнить пропуски в этом столбце нужно медианным значением по каждому типу из столбца `income_type`."
      ]
    },
    {
      "cell_type": "code",
      "execution_count": null,
      "id": "e24ea247",
      "metadata": {
        "deletable": false,
        "id": "e24ea247"
      },
      "outputs": [],
      "source": [
        "for t in data['income_type'].unique():\n",
        "    data.loc[(data['income_type'] == t) & (data['total_income'].isna()), 'total_income'] = \\\n",
        "    data.loc[(data['income_type'] == t), 'total_income'].median()"
      ]
    },
    {
      "cell_type": "markdown",
      "id": "0610ee17",
      "metadata": {
        "deletable": false,
        "editable": false,
        "id": "0610ee17"
      },
      "source": [
        "Работа с аномальными значениями. Заменяем все отрицательные значения положительными."
      ]
    },
    {
      "cell_type": "code",
      "execution_count": null,
      "id": "9cd265fc",
      "metadata": {
        "deletable": false,
        "id": "9cd265fc"
      },
      "outputs": [],
      "source": [
        "data['days_employed'] = data['days_employed'].abs()"
      ]
    },
    {
      "cell_type": "markdown",
      "id": "7c0abc61",
      "metadata": {
        "deletable": false,
        "editable": false,
        "id": "7c0abc61"
      },
      "source": [
        "Для каждого типа занятости выводим медианное значение трудового стажа `days_employed` в днях"
      ]
    },
    {
      "cell_type": "code",
      "execution_count": null,
      "id": "372abe84",
      "metadata": {
        "deletable": false,
        "id": "372abe84",
        "outputId": "801ef80e-522b-4668-f34e-565af7432bcf"
      },
      "outputs": [
        {
          "data": {
            "text/plain": [
              "income_type\n",
              "безработный        366413.652744\n",
              "в декрете            3296.759962\n",
              "госслужащий          2689.368353\n",
              "компаньон            1547.382223\n",
              "пенсионер          365213.306266\n",
              "предприниматель       520.848083\n",
              "сотрудник            1574.202821\n",
              "студент               578.751554\n",
              "Name: days_employed, dtype: float64"
            ]
          },
          "execution_count": 7,
          "metadata": {},
          "output_type": "execute_result"
        }
      ],
      "source": [
        "data.groupby('income_type')['days_employed'].agg('median')"
      ]
    },
    {
      "cell_type": "markdown",
      "id": "18ceaaa5",
      "metadata": {
        "deletable": false,
        "editable": false,
        "id": "18ceaaa5"
      },
      "source": [
        "У двух типов (безработные и пенсионеры) получатся аномально большие значения. Исправить такие значения сложно, поэтому не трогаем их. Тем более этот столбец не понадобится для исследования."
      ]
    },
    {
      "cell_type": "markdown",
      "id": "b297df04",
      "metadata": {
        "deletable": false,
        "editable": false,
        "id": "b297df04"
      },
      "source": [
        "Выводим перечень уникальных значений столбца `children`"
      ]
    },
    {
      "cell_type": "code",
      "execution_count": null,
      "id": "a310a94e",
      "metadata": {
        "deletable": false,
        "id": "a310a94e",
        "outputId": "6975b15c-7f95-4697-d16d-a0c79b657b03"
      },
      "outputs": [
        {
          "data": {
            "text/plain": [
              "array([ 1,  0,  3,  2, -1,  4, 20,  5])"
            ]
          },
          "execution_count": 8,
          "metadata": {},
          "output_type": "execute_result"
        }
      ],
      "source": [
        "data['children'].unique()"
      ]
    },
    {
      "cell_type": "markdown",
      "id": "46a4b1c0",
      "metadata": {
        "deletable": false,
        "editable": false,
        "id": "46a4b1c0"
      },
      "source": [
        "Удаляем аномальные значения"
      ]
    },
    {
      "cell_type": "code",
      "execution_count": null,
      "id": "e8222dbc",
      "metadata": {
        "deletable": false,
        "id": "e8222dbc"
      },
      "outputs": [],
      "source": [
        "data = data[(data['children'] != -1) & (data['children'] != 20)]"
      ]
    },
    {
      "cell_type": "markdown",
      "id": "fe6ea479",
      "metadata": {
        "deletable": false,
        "editable": false,
        "id": "fe6ea479"
      },
      "source": [
        "Проверяем принятые изменения"
      ]
    },
    {
      "cell_type": "code",
      "execution_count": null,
      "id": "354e2efb",
      "metadata": {
        "deletable": false,
        "id": "354e2efb",
        "outputId": "b2097101-d49d-44d9-901b-32a65c9463d1"
      },
      "outputs": [
        {
          "data": {
            "text/plain": [
              "array([1, 0, 3, 2, 4, 5])"
            ]
          },
          "execution_count": 10,
          "metadata": {},
          "output_type": "execute_result"
        }
      ],
      "source": [
        "data['children'].unique()"
      ]
    },
    {
      "cell_type": "markdown",
      "id": "8ca7b24d",
      "metadata": {
        "deletable": false,
        "editable": false,
        "id": "8ca7b24d"
      },
      "source": [
        "Заполняем пропуски в столбце `days_employed` медианными значениями по каждого типа занятости `income_type`"
      ]
    },
    {
      "cell_type": "code",
      "execution_count": null,
      "id": "888d5374",
      "metadata": {
        "deletable": false,
        "id": "888d5374"
      },
      "outputs": [],
      "source": [
        "for t in data['income_type'].unique():\n",
        "    data.loc[(data['income_type'] == t) & (data['days_employed'].isna()), 'days_employed'] = \\\n",
        "    data.loc[(data['income_type'] == t), 'days_employed'].median()"
      ]
    },
    {
      "cell_type": "markdown",
      "id": "9efedb00",
      "metadata": {
        "deletable": false,
        "editable": false,
        "id": "9efedb00"
      },
      "source": [
        "Проверяем принятые изменения"
      ]
    },
    {
      "cell_type": "code",
      "execution_count": null,
      "id": "6d571e86",
      "metadata": {
        "deletable": false,
        "id": "6d571e86",
        "outputId": "8da1e4e1-358e-4e87-98c9-f261bce0a7b2"
      },
      "outputs": [
        {
          "data": {
            "text/plain": [
              "children            0\n",
              "days_employed       0\n",
              "dob_years           0\n",
              "education           0\n",
              "education_id        0\n",
              "family_status       0\n",
              "family_status_id    0\n",
              "gender              0\n",
              "income_type         0\n",
              "debt                0\n",
              "total_income        0\n",
              "purpose             0\n",
              "dtype: int64"
            ]
          },
          "execution_count": 12,
          "metadata": {},
          "output_type": "execute_result"
        }
      ],
      "source": [
        "data.isna().sum()"
      ]
    },
    {
      "cell_type": "markdown",
      "id": "d4fa93f3",
      "metadata": {
        "deletable": false,
        "editable": false,
        "id": "d4fa93f3"
      },
      "source": [
        "Заменяем вещественный тип данных в столбце `total_income` на целочисленный"
      ]
    },
    {
      "cell_type": "code",
      "execution_count": null,
      "id": "fa27b948",
      "metadata": {
        "deletable": false,
        "id": "fa27b948"
      },
      "outputs": [],
      "source": [
        "data['total_income'] = data['total_income'].astype(int)"
      ]
    },
    {
      "cell_type": "markdown",
      "id": "c6a6fa84",
      "metadata": {
        "deletable": false,
        "editable": false,
        "id": "c6a6fa84"
      },
      "source": [
        "Обработаем неявные дубликаты в столбце `education`. Приведем их к нижнему регистру и проверим остальные столбцы"
      ]
    },
    {
      "cell_type": "code",
      "execution_count": null,
      "id": "2ecc9a2a",
      "metadata": {
        "deletable": false,
        "id": "2ecc9a2a"
      },
      "outputs": [],
      "source": [
        "data['education'] = data['education'].str.lower()"
      ]
    },
    {
      "cell_type": "markdown",
      "id": "0faa05d8",
      "metadata": {
        "deletable": false,
        "editable": false,
        "id": "0faa05d8"
      },
      "source": [
        "Смотрим на дубликаты и удаляем их"
      ]
    },
    {
      "cell_type": "code",
      "execution_count": null,
      "id": "513e9a78",
      "metadata": {
        "deletable": false,
        "id": "513e9a78",
        "outputId": "9684deba-1934-42d1-99e1-cda61740f822"
      },
      "outputs": [
        {
          "data": {
            "text/plain": [
              "71"
            ]
          },
          "execution_count": 15,
          "metadata": {},
          "output_type": "execute_result"
        }
      ],
      "source": [
        "data.duplicated().sum()"
      ]
    },
    {
      "cell_type": "code",
      "execution_count": null,
      "id": "1a7bd326",
      "metadata": {
        "deletable": false,
        "id": "1a7bd326"
      },
      "outputs": [],
      "source": [
        "data = data.drop_duplicates()"
      ]
    },
    {
      "cell_type": "markdown",
      "id": "e938ac70",
      "metadata": {
        "deletable": false,
        "editable": false,
        "id": "e938ac70"
      },
      "source": [
        "На основании диапазонов, указанных ниже, создадим в датафрейме `data` столбец `total_income_category` с категориями:\n",
        "\n",
        "- 0–30000 — `'E'`;\n",
        "- 30001–50000 — `'D'`;\n",
        "- 50001–200000 — `'C'`;\n",
        "- 200001–1000000 — `'B'`;\n",
        "- 1000001 и выше — `'A'`.\n",
        "\n",
        "\n",
        "Например, кредитополучателю с доходом 25000 нужно назначить категорию `'E'`, а клиенту, получающему 235000, — `'B'`"
      ]
    },
    {
      "cell_type": "code",
      "execution_count": null,
      "id": "5ef4d9cc",
      "metadata": {
        "deletable": false,
        "id": "5ef4d9cc"
      },
      "outputs": [],
      "source": [
        "def categorize_income(income):\n",
        "    try:\n",
        "        if 0 <= income <= 30000:\n",
        "            return 'E'\n",
        "        elif 30001 <= income <= 50000:\n",
        "            return 'D'\n",
        "        elif 50001 <= income <= 200000:\n",
        "            return 'C'\n",
        "        elif 200001 <= income <= 1000000:\n",
        "            return 'B'\n",
        "        elif income >= 1000001:\n",
        "            return 'A'\n",
        "    except:\n",
        "        pass"
      ]
    },
    {
      "cell_type": "code",
      "execution_count": null,
      "id": "be2dfba5",
      "metadata": {
        "deletable": false,
        "id": "be2dfba5"
      },
      "outputs": [],
      "source": [
        "data['total_income_category'] = data['total_income'].apply(categorize_income)"
      ]
    },
    {
      "cell_type": "markdown",
      "id": "446b5e6f",
      "metadata": {
        "deletable": false,
        "editable": false,
        "id": "446b5e6f"
      },
      "source": [
        "Выведем перечень уникальных целей взятия кредита из столбца `purpose`"
      ]
    },
    {
      "cell_type": "code",
      "execution_count": null,
      "id": "a575dd3b",
      "metadata": {
        "deletable": false,
        "id": "a575dd3b",
        "outputId": "673c12d9-7d7e-4ae0-9812-c622c89dd244"
      },
      "outputs": [
        {
          "data": {
            "text/plain": [
              "array(['покупка жилья', 'приобретение автомобиля',\n",
              "       'дополнительное образование', 'сыграть свадьбу',\n",
              "       'операции с жильем', 'образование', 'на проведение свадьбы',\n",
              "       'покупка жилья для семьи', 'покупка недвижимости',\n",
              "       'покупка коммерческой недвижимости', 'покупка жилой недвижимости',\n",
              "       'строительство собственной недвижимости', 'недвижимость',\n",
              "       'строительство недвижимости', 'на покупку подержанного автомобиля',\n",
              "       'на покупку своего автомобиля',\n",
              "       'операции с коммерческой недвижимостью',\n",
              "       'строительство жилой недвижимости', 'жилье',\n",
              "       'операции со своей недвижимостью', 'автомобили',\n",
              "       'заняться образованием', 'сделка с подержанным автомобилем',\n",
              "       'получение образования', 'автомобиль', 'свадьба',\n",
              "       'получение дополнительного образования', 'покупка своего жилья',\n",
              "       'операции с недвижимостью', 'получение высшего образования',\n",
              "       'свой автомобиль', 'сделка с автомобилем',\n",
              "       'профильное образование', 'высшее образование',\n",
              "       'покупка жилья для сдачи', 'на покупку автомобиля', 'ремонт жилью',\n",
              "       'заняться высшим образованием'], dtype=object)"
            ]
          },
          "execution_count": 19,
          "metadata": {},
          "output_type": "execute_result"
        }
      ],
      "source": [
        "data['purpose'].unique()"
      ]
    },
    {
      "cell_type": "markdown",
      "id": "61cf62f1",
      "metadata": {
        "deletable": false,
        "editable": false,
        "id": "61cf62f1"
      },
      "source": [
        "Создадим функцию, которая на основании данных из столбца `purpose` сформирует новый столбец `purpose_category`, в который войдут следующие категории:\n",
        "\n",
        "- `'операции с автомобилем'`,\n",
        "- `'операции с недвижимостью'`,\n",
        "- `'проведение свадьбы'`,\n",
        "- `'получение образования'`.\n"
      ]
    },
    {
      "cell_type": "code",
      "execution_count": null,
      "id": "2856ad16",
      "metadata": {
        "deletable": false,
        "id": "2856ad16"
      },
      "outputs": [],
      "source": [
        "def categorize_purpose(row):\n",
        "    try:\n",
        "        if 'автом' in row:\n",
        "            return 'операции с автомобилем'\n",
        "        elif 'жил' in row or 'недвиж' in row:\n",
        "            return 'операции с недвижимостью'\n",
        "        elif 'свад' in row:\n",
        "            return 'проведение свадьбы'\n",
        "        elif 'образов' in row:\n",
        "            return 'получение образования'\n",
        "    except:\n",
        "        return 'нет категории'"
      ]
    },
    {
      "cell_type": "code",
      "execution_count": null,
      "id": "6368af48",
      "metadata": {
        "deletable": false,
        "id": "6368af48"
      },
      "outputs": [],
      "source": [
        "data['purpose_category'] = data['purpose'].apply(categorize_purpose)"
      ]
    },
    {
      "cell_type": "markdown",
      "id": "a8aa10f4",
      "metadata": {
        "deletable": false,
        "editable": false,
        "id": "a8aa10f4"
      },
      "source": [
        "Проверим гипотезу о зависимости между количеством детей и возвратом кредита в срок"
      ]
    },
    {
      "cell_type": "code",
      "execution_count": null,
      "id": "27ec4fc0",
      "metadata": {
        "deletable": false,
        "id": "27ec4fc0",
        "scrolled": true,
        "outputId": "7a990851-ef3b-4e1f-deaa-6f05aa322e23"
      },
      "outputs": [
        {
          "name": "stdout",
          "output_type": "stream",
          "text": [
            "children\n",
            "4    9.756098\n",
            "2    9.454191\n",
            "1    9.234609\n",
            "3    8.181818\n",
            "0    7.543822\n",
            "5    0.000000\n",
            "Name: debt, dtype: float64\n"
          ]
        }
      ],
      "source": [
        "children_debt = [] # создаем пустой список для результата вычисления\n",
        "# вычисляем процент просроченных кредитов относительно выданных по каждому типу:\n",
        "# сколько было всего просрочек по каждому типу (кол-ву детей) /\n",
        "# сколько всего выдано кредитов по каждому типу (кол-ву детей)\n",
        "children_debt = data.groupby('children')['debt'].sum() / data.groupby('children')['debt'].count() * 100\n",
        "print(children_debt.sort_values(ascending = False)) # выводим результат и сортируем по убыванию"
      ]
    },
    {
      "cell_type": "markdown",
      "id": "ef6202ae",
      "metadata": {
        "deletable": false,
        "id": "ef6202ae"
      },
      "source": [
        "Вывод:\n",
        "Явной зависимости между количеством детей и возвратом кредита в срок нет."
      ]
    },
    {
      "cell_type": "markdown",
      "id": "e40d2b13",
      "metadata": {
        "deletable": false,
        "editable": false,
        "id": "e40d2b13"
      },
      "source": [
        "Проверим гипотезу зависимости между семейным положением и возвратом кредита в срок"
      ]
    },
    {
      "cell_type": "code",
      "execution_count": null,
      "id": "be55fa6d",
      "metadata": {
        "deletable": false,
        "id": "be55fa6d",
        "scrolled": true,
        "outputId": "ceec4a40-fd92-4fe0-aabe-693de2f52f77"
      },
      "outputs": [
        {
          "name": "stdout",
          "output_type": "stream",
          "text": [
            "family_status\n",
            "Не женат / не замужем    9.763948\n",
            "гражданский брак         9.313014\n",
            "женат / замужем          7.560558\n",
            "в разводе                7.064760\n",
            "вдовец / вдова           6.624606\n",
            "Name: debt, dtype: float64\n"
          ]
        }
      ],
      "source": [
        "family_status_debt = [] # создаем пустой список для результата вычисления\n",
        "# вычисляем процент просроченных кредитов относительно выданных по каждому типу:\n",
        "# сколько было всего просрочек по каждому типу (семейное положение) /\n",
        "# сколько всего выдано кредитов по каждому типу (семейное положение)\n",
        "family_status_debt = data.groupby('family_status')['debt'].sum() / data.groupby('family_status')['debt'].count() * 100\n",
        "print(family_status_debt.sort_values(ascending = False)) # выводим результат и сортируем по убыванию"
      ]
    },
    {
      "cell_type": "markdown",
      "id": "0cf21823",
      "metadata": {
        "deletable": false,
        "id": "0cf21823"
      },
      "source": [
        "Вывод:\n",
        "Наибольший процент просрочек по кредиту имеют клиенты, которые не состоят или не состояли в официальных отношениях."
      ]
    },
    {
      "cell_type": "markdown",
      "id": "eec906f2",
      "metadata": {
        "deletable": false,
        "editable": false,
        "id": "eec906f2"
      },
      "source": [
        "Проверим гипотезу о зависимости между уровнем дохода и возвратом кредита в срок?"
      ]
    },
    {
      "cell_type": "code",
      "execution_count": null,
      "id": "a8df2040",
      "metadata": {
        "deletable": false,
        "id": "a8df2040",
        "outputId": "fd5a437e-2c04-4a76-b37d-6159c03d1569"
      },
      "outputs": [
        {
          "name": "stdout",
          "output_type": "stream",
          "text": [
            "Медианное значение дохода: 142594.0\n",
            "total_income_category\n",
            "E    9.090909\n",
            "C    8.498210\n",
            "A    8.000000\n",
            "B    7.060231\n",
            "D    6.017192\n",
            "Name: debt, dtype: float64\n"
          ]
        }
      ],
      "source": [
        "print('Медианное значение дохода:', data['total_income'].median())\n",
        "print((data.groupby('total_income_category')['debt'].mean()*100).sort_values(ascending = False)) # выводим результат и сортируем по убыванию"
      ]
    },
    {
      "cell_type": "markdown",
      "id": "0069081d",
      "metadata": {
        "deletable": false,
        "id": "0069081d"
      },
      "source": [
        "Вывод: \n",
        "выборка по заемщикам, как с наименьшим доходом, так и с наибольшим крайне недостаточна для формирования однозначных выводов. Можно думать, что E-категория самая низкооплачиваемая не может корректно распоряжаться деньгами и «влезает» в кредиты, но тогда неясно почему у А-категории также достаточно высокий процент задолженности. В общем вывод по группам А и Е неочевиден, мало данных.\n",
        "Если же взять для анализа только группы В, С и D, то по полученным данным не наблюдаем зависимости \"те, кто получает больше ЗП, лучше возвращает кредит». В целом это логично, так как материальный достаток - не единственная переменная, которая влияет на качество кредитной истории."
      ]
    },
    {
      "cell_type": "markdown",
      "id": "9f979083",
      "metadata": {
        "deletable": false,
        "editable": false,
        "id": "9f979083"
      },
      "source": [
        "Проверим гипотезу как разные цели кредита влияют на его возврат в срок"
      ]
    },
    {
      "cell_type": "code",
      "execution_count": null,
      "id": "e26c1488",
      "metadata": {
        "deletable": false,
        "id": "e26c1488",
        "outputId": "f3ddb0e5-7025-492f-ba37-c40f66de346c"
      },
      "outputs": [
        {
          "name": "stdout",
          "output_type": "stream",
          "text": [
            "purpose_category\n",
            "операции с автомобилем      9.347978\n",
            "получение образования       9.252758\n",
            "проведение свадьбы          7.911803\n",
            "операции с недвижимостью    7.255139\n",
            "Name: debt, dtype: float64\n"
          ]
        }
      ],
      "source": [
        "data['purpose_category'].unique() # Смотрим уникальные значения по столбцу \n",
        "purpose_category_debt = [] # создаем пустой список для результата вычисления\n",
        "# вычисляем процент просроченных кредитов относительно выданных по каждому типу:\n",
        "purpose_category_debt = data.groupby('purpose_category')['debt'].sum() / data.groupby('purpose_category')['debt'].count() * 100\n",
        "print(purpose_category_debt.sort_values(ascending = False)) # выводим результат и сортируем по убыванию"
      ]
    },
    {
      "cell_type": "markdown",
      "id": "54c6916c",
      "metadata": {
        "deletable": false,
        "id": "54c6916c"
      },
      "source": [
        "Вывод:\n",
        "Наибольший процент просрочек по кредиту на автокредите и на получении образования. Меньший процент просрочек при кредитовании недвижимости и свадеб."
      ]
    },
    {
      "cell_type": "markdown",
      "id": "6c85d868",
      "metadata": {
        "id": "6c85d868"
      },
      "source": [
        "## Итог  \n",
        "***Задача:***  \n",
        "Кредитным отделом банка поставлена задача - проверить зависимость семейного положения и количества детей клиента на факт\n",
        "погашения кредита в срок.  \n",
        "В качестве исходных данных предоставлена статистика о платежеспособности клиента.  \n",
        "Результат исследования будет учтен при построении модели кредитного скоринга - системы способной оценить вероятность возврата кредита банку потенциальным заёмщиком.\n",
        "  \n",
        "***Гипотезы:***  \n",
        "Для решения задачи было поставлено несколько гипотез:  \n",
        "1 Возврат кредита в срок зависит от количества детей\n",
        "2 Возврат кредита в срок зависит от семейного положения\n",
        "3 Возврат кредита в срок зависит от уровня дохода\n",
        "4 Возврат кредита в срок зависит от цели кредита\n",
        "  \n",
        "***Результаты:***  \n",
        "  \n",
        "*Гипотеза 1. Возврат кредита в срок зависит от количества детей.*  \n",
        "а. С 4 детьми доля просроченных кредитов составляет   9.75%  \n",
        "б. С 2 детьми доля просроченных кредитов составляет   9.45%  \n",
        "в. С 1 ребенком доля просроченных кредитов составляет 9.23%  \n",
        "г. С 3 детьми доля просроченных кредитов составляет   8.18%  \n",
        "д. Для людей без детей доля просроченных кредитов составляет 7.54%  \n",
        "е. С 5 детьми доля просроченных кредитов составляет    0.00%\n",
        "\n",
        "Гипотеза 1 не подтвердилась, явной зависимости не наблюдается.\n",
        "\n",
        "*Гипотеза 2. Возврат кредита в срок зависит от семейного положения.*  \n",
        "а. По группе \"Не женат / не замужем\" доля просроченных кредитов составляет 9.76%\n",
        "б. По группе \"гражданский брак\" доля просроченных кредитов составляет 9.31%\n",
        "в. По группе \"женат / замужем\"доля просроченных кредитов составляет 7.56%\n",
        "г. По группе \"в разводе\" доля просроченных кредитов составляет 7.06%\n",
        "д. По группе \"вдовец / вдова\" доля просроченных кредитов составляет 6.62%\n",
        "  \n",
        "Гипотеза 2 подтверждена. Люди, которые состояли в официальных отношениях чаще отдают кредит в срок относительно  \n",
        "людей, которые в них не состояли.\n",
        "  \n",
        "*Гипотеза 3. Возврат кредита в срок зависит от уровня дохода.*  \n",
        "а. У людей с доходом в интервале от 0...30 000 доля просрочек по кредиту составляет 9.09%  \n",
        "б. У людей с доходом в интервале от 50 001...200 000 доля просрочек по кредиту составляет 8.49%  \n",
        "в. У людей с доходом в интервале от 1 000 001 и выше доля просрочек по кредиту составляет 8.00%  \n",
        "г. У людей с доходом в интервале от 200 001...1 000 000 доля просрочек по кредиту составляет 7.06%  \n",
        "д. У людей с доходом в интервале от 30 001...50 000 доля просрочек по кредиту составляет 6.01%  \n",
        "  \n",
        "Гипотеза 3 частично подтвердилась. У людей с доходом до 30 000 процент просрочек выше.  \n",
        "Рекомендации: провести анализ с большим количеством выборки по уровню дохода.  \n",
        "  \n",
        "*Гипотеза 4. Возврат кредита в срок зависит от цели кредита.*  \n",
        "а. В категории \"операции с автомобилем\" доля просроченных кредитов составляет 9.34%  \n",
        "б. В категории \"получение образования\" доля просроченных кредитов составляет 9.25%  \n",
        "в. В категории \"проведение свадьбы\" доля просроченных кредитов составляет 7.91%  \n",
        "г. В категории \"операции с недвижимостью\" доля просроченных кредитов составляет 7.25%  \n",
        "  \n",
        "Гипотеза 4 подтверждена. Наименьший процент просрочки имеют кредиты с целями \"операции с недвижимостью\" и \"проведение свадьбы\".  \n",
        "  \n",
        "**Общий вывод**  \n",
        "  \n",
        "а. Для построения модели кредитного скоринга следует опираться на гипотезы 2 (Возврат кредита в срок зависит от  \n",
        "семейного положения) и 4 (возврат кредита в срок зависит от цели кредита)  \n",
        "б. Для гипотезы 3 (возврат кредита в срок зависит от уровня дохода) необходимо повторить анализ с большим количеством выборки."
      ]
    }
  ],
  "metadata": {
    "ExecuteTimeLog": [
      {
        "duration": 462,
        "start_time": "2022-09-06T09:58:29.666Z"
      },
      {
        "duration": 21,
        "start_time": "2022-09-06T09:58:30.131Z"
      },
      {
        "duration": 32,
        "start_time": "2022-09-06T09:58:30.154Z"
      },
      {
        "duration": 28,
        "start_time": "2022-09-06T09:58:30.188Z"
      },
      {
        "duration": 52,
        "start_time": "2022-09-06T09:58:30.217Z"
      },
      {
        "duration": 4,
        "start_time": "2022-09-06T09:58:30.271Z"
      },
      {
        "duration": 24,
        "start_time": "2022-09-06T09:58:30.277Z"
      },
      {
        "duration": 14,
        "start_time": "2022-09-06T09:58:30.302Z"
      },
      {
        "duration": 17,
        "start_time": "2022-09-06T09:58:30.318Z"
      },
      {
        "duration": 22,
        "start_time": "2022-09-06T09:58:30.337Z"
      },
      {
        "duration": 53,
        "start_time": "2022-09-06T09:58:30.361Z"
      },
      {
        "duration": 10,
        "start_time": "2022-09-06T09:58:30.415Z"
      },
      {
        "duration": 17,
        "start_time": "2022-09-06T09:58:30.427Z"
      },
      {
        "duration": 19,
        "start_time": "2022-09-06T09:58:30.446Z"
      },
      {
        "duration": 30,
        "start_time": "2022-09-06T09:58:30.467Z"
      },
      {
        "duration": 20,
        "start_time": "2022-09-06T09:58:30.499Z"
      },
      {
        "duration": 18,
        "start_time": "2022-09-06T09:58:30.521Z"
      },
      {
        "duration": 30,
        "start_time": "2022-09-06T09:58:30.541Z"
      },
      {
        "duration": 9,
        "start_time": "2022-09-06T09:58:30.572Z"
      },
      {
        "duration": 27,
        "start_time": "2022-09-06T09:58:30.583Z"
      },
      {
        "duration": 41,
        "start_time": "2022-09-06T09:58:30.612Z"
      },
      {
        "duration": 19,
        "start_time": "2022-09-06T09:58:30.655Z"
      },
      {
        "duration": 19,
        "start_time": "2022-09-06T09:58:30.676Z"
      },
      {
        "duration": 38,
        "start_time": "2022-09-06T09:58:30.697Z"
      },
      {
        "duration": 24,
        "start_time": "2022-09-06T09:58:30.737Z"
      },
      {
        "duration": 4,
        "start_time": "2022-09-06T10:08:10.928Z"
      },
      {
        "duration": 3,
        "start_time": "2022-09-06T10:08:27.153Z"
      },
      {
        "duration": 464,
        "start_time": "2022-09-06T10:09:31.538Z"
      },
      {
        "duration": 20,
        "start_time": "2022-09-06T10:09:32.004Z"
      },
      {
        "duration": 17,
        "start_time": "2022-09-06T10:09:32.025Z"
      },
      {
        "duration": 9,
        "start_time": "2022-09-06T10:09:32.044Z"
      },
      {
        "duration": 53,
        "start_time": "2022-09-06T10:09:32.055Z"
      },
      {
        "duration": 3,
        "start_time": "2022-09-06T10:09:32.110Z"
      },
      {
        "duration": 28,
        "start_time": "2022-09-06T10:09:32.115Z"
      },
      {
        "duration": 14,
        "start_time": "2022-09-06T10:09:32.145Z"
      },
      {
        "duration": 30,
        "start_time": "2022-09-06T10:09:32.161Z"
      },
      {
        "duration": 16,
        "start_time": "2022-09-06T10:09:32.192Z"
      },
      {
        "duration": 58,
        "start_time": "2022-09-06T10:09:32.209Z"
      },
      {
        "duration": 9,
        "start_time": "2022-09-06T10:09:32.269Z"
      },
      {
        "duration": 19,
        "start_time": "2022-09-06T10:09:32.280Z"
      },
      {
        "duration": 35,
        "start_time": "2022-09-06T10:09:32.302Z"
      },
      {
        "duration": 38,
        "start_time": "2022-09-06T10:09:32.339Z"
      },
      {
        "duration": 29,
        "start_time": "2022-09-06T10:09:32.379Z"
      },
      {
        "duration": 17,
        "start_time": "2022-09-06T10:09:32.409Z"
      },
      {
        "duration": 28,
        "start_time": "2022-09-06T10:09:32.428Z"
      },
      {
        "duration": 42,
        "start_time": "2022-09-06T10:09:32.458Z"
      },
      {
        "duration": 23,
        "start_time": "2022-09-06T10:09:32.502Z"
      },
      {
        "duration": 37,
        "start_time": "2022-09-06T10:09:32.527Z"
      },
      {
        "duration": 17,
        "start_time": "2022-09-06T10:09:32.566Z"
      },
      {
        "duration": 11,
        "start_time": "2022-09-06T10:09:32.585Z"
      },
      {
        "duration": 5,
        "start_time": "2022-09-06T10:09:32.598Z"
      },
      {
        "duration": 5,
        "start_time": "2022-09-06T10:09:32.604Z"
      },
      {
        "duration": 3,
        "start_time": "2022-09-06T10:09:35.842Z"
      },
      {
        "duration": 59,
        "start_time": "2022-09-06T10:10:34.071Z"
      },
      {
        "duration": 7,
        "start_time": "2022-09-06T10:10:46.636Z"
      },
      {
        "duration": 6,
        "start_time": "2022-09-06T10:11:09.543Z"
      },
      {
        "duration": 5,
        "start_time": "2022-09-06T10:28:02.743Z"
      },
      {
        "duration": 7,
        "start_time": "2022-09-06T10:32:38.235Z"
      },
      {
        "duration": 11,
        "start_time": "2022-09-06T10:34:09.578Z"
      },
      {
        "duration": 11,
        "start_time": "2022-09-06T10:35:03.394Z"
      },
      {
        "duration": 10,
        "start_time": "2022-09-06T10:35:16.170Z"
      },
      {
        "duration": 10,
        "start_time": "2022-09-06T10:36:28.631Z"
      },
      {
        "duration": 14,
        "start_time": "2022-09-06T10:37:47.838Z"
      },
      {
        "duration": 11,
        "start_time": "2022-09-06T10:37:58.203Z"
      },
      {
        "duration": 11,
        "start_time": "2022-09-06T10:38:11.573Z"
      },
      {
        "duration": 10,
        "start_time": "2022-09-06T10:38:49.350Z"
      },
      {
        "duration": 10,
        "start_time": "2022-09-06T10:38:58.656Z"
      },
      {
        "duration": 10,
        "start_time": "2022-09-06T10:39:38.499Z"
      },
      {
        "duration": 13,
        "start_time": "2022-09-06T10:39:48.886Z"
      },
      {
        "duration": 49,
        "start_time": "2022-09-06T10:40:22.251Z"
      },
      {
        "duration": 8,
        "start_time": "2022-09-06T10:40:32.430Z"
      },
      {
        "duration": 12,
        "start_time": "2022-09-06T10:43:25.485Z"
      },
      {
        "duration": 7,
        "start_time": "2022-09-06T10:45:00.495Z"
      },
      {
        "duration": 8,
        "start_time": "2022-09-06T10:45:18.939Z"
      },
      {
        "duration": 7,
        "start_time": "2022-09-06T10:46:07.433Z"
      },
      {
        "duration": 9,
        "start_time": "2022-09-06T10:58:57.028Z"
      },
      {
        "duration": 14,
        "start_time": "2022-09-06T10:59:31.900Z"
      },
      {
        "duration": 12,
        "start_time": "2022-09-06T10:59:37.573Z"
      },
      {
        "duration": 6,
        "start_time": "2022-09-06T11:01:24.603Z"
      },
      {
        "duration": 6,
        "start_time": "2022-09-06T11:03:29.373Z"
      },
      {
        "duration": 5,
        "start_time": "2022-09-06T11:06:56.603Z"
      },
      {
        "duration": 4,
        "start_time": "2022-09-06T11:07:10.331Z"
      },
      {
        "duration": 6,
        "start_time": "2022-09-06T11:07:45.991Z"
      },
      {
        "duration": 4,
        "start_time": "2022-09-06T11:08:11.542Z"
      },
      {
        "duration": 6,
        "start_time": "2022-09-06T11:08:45.958Z"
      },
      {
        "duration": 5,
        "start_time": "2022-09-06T11:09:28.237Z"
      },
      {
        "duration": 8,
        "start_time": "2022-09-06T11:09:38.593Z"
      },
      {
        "duration": 4,
        "start_time": "2022-09-06T11:10:09.330Z"
      },
      {
        "duration": 6,
        "start_time": "2022-09-06T11:10:23.819Z"
      },
      {
        "duration": 75,
        "start_time": "2022-09-06T11:11:13.994Z"
      },
      {
        "duration": 8,
        "start_time": "2022-09-06T11:11:21.990Z"
      },
      {
        "duration": 3,
        "start_time": "2022-09-06T11:29:57.197Z"
      },
      {
        "duration": 6,
        "start_time": "2022-09-06T11:31:07.002Z"
      },
      {
        "duration": 2,
        "start_time": "2022-09-06T12:12:43.120Z"
      },
      {
        "duration": 9,
        "start_time": "2022-09-06T13:06:05.195Z"
      },
      {
        "duration": 7,
        "start_time": "2022-09-06T13:07:32.689Z"
      },
      {
        "duration": 74,
        "start_time": "2022-09-06T13:09:34.993Z"
      },
      {
        "duration": 14,
        "start_time": "2022-09-06T13:10:58.525Z"
      },
      {
        "duration": 483,
        "start_time": "2022-09-06T13:12:02.230Z"
      },
      {
        "duration": 21,
        "start_time": "2022-09-06T13:12:02.715Z"
      },
      {
        "duration": 14,
        "start_time": "2022-09-06T13:12:02.737Z"
      },
      {
        "duration": 14,
        "start_time": "2022-09-06T13:12:02.754Z"
      },
      {
        "duration": 49,
        "start_time": "2022-09-06T13:12:02.769Z"
      },
      {
        "duration": 3,
        "start_time": "2022-09-06T13:12:02.820Z"
      },
      {
        "duration": 32,
        "start_time": "2022-09-06T13:12:02.825Z"
      },
      {
        "duration": 7,
        "start_time": "2022-09-06T13:12:02.858Z"
      },
      {
        "duration": 9,
        "start_time": "2022-09-06T13:12:02.867Z"
      },
      {
        "duration": 5,
        "start_time": "2022-09-06T13:12:02.879Z"
      },
      {
        "duration": 47,
        "start_time": "2022-09-06T13:12:02.886Z"
      },
      {
        "duration": 11,
        "start_time": "2022-09-06T13:12:02.934Z"
      },
      {
        "duration": 5,
        "start_time": "2022-09-06T13:12:02.946Z"
      },
      {
        "duration": 14,
        "start_time": "2022-09-06T13:12:02.953Z"
      },
      {
        "duration": 49,
        "start_time": "2022-09-06T13:12:02.969Z"
      },
      {
        "duration": 16,
        "start_time": "2022-09-06T13:12:03.019Z"
      },
      {
        "duration": 4,
        "start_time": "2022-09-06T13:12:03.037Z"
      },
      {
        "duration": 23,
        "start_time": "2022-09-06T13:12:03.043Z"
      },
      {
        "duration": 10,
        "start_time": "2022-09-06T13:12:03.068Z"
      },
      {
        "duration": 5,
        "start_time": "2022-09-06T13:12:03.080Z"
      },
      {
        "duration": 16,
        "start_time": "2022-09-06T13:12:03.087Z"
      },
      {
        "duration": 7,
        "start_time": "2022-09-06T13:12:03.105Z"
      },
      {
        "duration": 72,
        "start_time": "2022-09-06T13:12:03.114Z"
      },
      {
        "duration": 0,
        "start_time": "2022-09-06T13:12:03.187Z"
      },
      {
        "duration": 0,
        "start_time": "2022-09-06T13:12:03.188Z"
      },
      {
        "duration": 52,
        "start_time": "2022-09-06T13:12:23.235Z"
      },
      {
        "duration": 12,
        "start_time": "2022-09-06T13:14:05.725Z"
      },
      {
        "duration": 8,
        "start_time": "2022-09-06T13:15:20.213Z"
      },
      {
        "duration": 11,
        "start_time": "2022-09-06T13:19:29.002Z"
      },
      {
        "duration": 13,
        "start_time": "2022-09-06T13:19:51.439Z"
      },
      {
        "duration": 10,
        "start_time": "2022-09-06T13:20:01.092Z"
      },
      {
        "duration": 9,
        "start_time": "2022-09-06T13:21:13.647Z"
      },
      {
        "duration": 11,
        "start_time": "2022-09-06T13:21:17.445Z"
      },
      {
        "duration": 6,
        "start_time": "2022-09-06T13:32:30.958Z"
      },
      {
        "duration": 6,
        "start_time": "2022-09-06T13:32:49.739Z"
      },
      {
        "duration": 6,
        "start_time": "2022-09-06T13:33:04.106Z"
      },
      {
        "duration": 6,
        "start_time": "2022-09-06T13:33:37.108Z"
      },
      {
        "duration": 7,
        "start_time": "2022-09-06T13:34:04.835Z"
      },
      {
        "duration": 8,
        "start_time": "2022-09-06T13:35:12.477Z"
      },
      {
        "duration": 644,
        "start_time": "2022-09-06T13:35:48.324Z"
      },
      {
        "duration": 8,
        "start_time": "2022-09-06T13:38:07.893Z"
      },
      {
        "duration": 10,
        "start_time": "2022-09-06T13:40:00.635Z"
      },
      {
        "duration": 12,
        "start_time": "2022-09-06T13:40:16.703Z"
      },
      {
        "duration": 63,
        "start_time": "2022-09-06T13:41:08.084Z"
      },
      {
        "duration": 10,
        "start_time": "2022-09-06T13:41:21.683Z"
      },
      {
        "duration": 7,
        "start_time": "2022-09-06T13:43:40.631Z"
      },
      {
        "duration": 13,
        "start_time": "2022-09-06T14:02:13.277Z"
      },
      {
        "duration": 7,
        "start_time": "2022-09-06T14:08:58.937Z"
      },
      {
        "duration": 12,
        "start_time": "2022-09-06T14:11:52.665Z"
      },
      {
        "duration": 11,
        "start_time": "2022-09-06T14:12:26.547Z"
      },
      {
        "duration": 427,
        "start_time": "2022-09-06T14:12:37.869Z"
      },
      {
        "duration": 20,
        "start_time": "2022-09-06T14:12:38.298Z"
      },
      {
        "duration": 14,
        "start_time": "2022-09-06T14:12:38.320Z"
      },
      {
        "duration": 11,
        "start_time": "2022-09-06T14:12:38.336Z"
      },
      {
        "duration": 40,
        "start_time": "2022-09-06T14:12:38.349Z"
      },
      {
        "duration": 21,
        "start_time": "2022-09-06T14:12:38.390Z"
      },
      {
        "duration": 14,
        "start_time": "2022-09-06T14:12:38.412Z"
      },
      {
        "duration": 4,
        "start_time": "2022-09-06T14:12:38.428Z"
      },
      {
        "duration": 11,
        "start_time": "2022-09-06T14:12:38.433Z"
      },
      {
        "duration": 4,
        "start_time": "2022-09-06T14:12:38.446Z"
      },
      {
        "duration": 38,
        "start_time": "2022-09-06T14:12:38.452Z"
      },
      {
        "duration": 21,
        "start_time": "2022-09-06T14:12:38.492Z"
      },
      {
        "duration": 7,
        "start_time": "2022-09-06T14:12:38.515Z"
      },
      {
        "duration": 20,
        "start_time": "2022-09-06T14:12:38.524Z"
      },
      {
        "duration": 19,
        "start_time": "2022-09-06T14:12:38.545Z"
      },
      {
        "duration": 16,
        "start_time": "2022-09-06T14:12:38.566Z"
      },
      {
        "duration": 4,
        "start_time": "2022-09-06T14:12:38.583Z"
      },
      {
        "duration": 13,
        "start_time": "2022-09-06T14:12:38.608Z"
      },
      {
        "duration": 11,
        "start_time": "2022-09-06T14:12:38.622Z"
      },
      {
        "duration": 5,
        "start_time": "2022-09-06T14:12:38.635Z"
      },
      {
        "duration": 15,
        "start_time": "2022-09-06T14:12:38.641Z"
      },
      {
        "duration": 69,
        "start_time": "2022-09-06T14:12:38.658Z"
      },
      {
        "duration": 0,
        "start_time": "2022-09-06T14:12:38.729Z"
      },
      {
        "duration": 13,
        "start_time": "2022-09-06T14:13:58.332Z"
      },
      {
        "duration": 7,
        "start_time": "2022-09-06T14:14:42.435Z"
      },
      {
        "duration": 9,
        "start_time": "2022-09-06T14:18:55.578Z"
      },
      {
        "duration": 13,
        "start_time": "2022-09-06T14:21:21.927Z"
      },
      {
        "duration": 444,
        "start_time": "2022-09-06T14:22:16.537Z"
      },
      {
        "duration": 21,
        "start_time": "2022-09-06T14:22:16.983Z"
      },
      {
        "duration": 14,
        "start_time": "2022-09-06T14:22:17.006Z"
      },
      {
        "duration": 10,
        "start_time": "2022-09-06T14:22:17.022Z"
      },
      {
        "duration": 31,
        "start_time": "2022-09-06T14:22:17.033Z"
      },
      {
        "duration": 2,
        "start_time": "2022-09-06T14:22:17.066Z"
      },
      {
        "duration": 13,
        "start_time": "2022-09-06T14:22:17.070Z"
      },
      {
        "duration": 26,
        "start_time": "2022-09-06T14:22:17.084Z"
      },
      {
        "duration": 6,
        "start_time": "2022-09-06T14:22:17.111Z"
      },
      {
        "duration": 6,
        "start_time": "2022-09-06T14:22:17.120Z"
      },
      {
        "duration": 33,
        "start_time": "2022-09-06T14:22:17.127Z"
      },
      {
        "duration": 9,
        "start_time": "2022-09-06T14:22:17.162Z"
      },
      {
        "duration": 5,
        "start_time": "2022-09-06T14:22:17.172Z"
      },
      {
        "duration": 36,
        "start_time": "2022-09-06T14:22:17.178Z"
      },
      {
        "duration": 34,
        "start_time": "2022-09-06T14:22:17.216Z"
      },
      {
        "duration": 17,
        "start_time": "2022-09-06T14:22:17.253Z"
      },
      {
        "duration": 4,
        "start_time": "2022-09-06T14:22:17.272Z"
      },
      {
        "duration": 20,
        "start_time": "2022-09-06T14:22:17.278Z"
      },
      {
        "duration": 17,
        "start_time": "2022-09-06T14:22:17.300Z"
      },
      {
        "duration": 6,
        "start_time": "2022-09-06T14:22:17.319Z"
      },
      {
        "duration": 14,
        "start_time": "2022-09-06T14:22:17.326Z"
      },
      {
        "duration": 98,
        "start_time": "2022-09-06T14:22:17.343Z"
      },
      {
        "duration": 0,
        "start_time": "2022-09-06T14:22:17.443Z"
      },
      {
        "duration": 6,
        "start_time": "2022-09-06T14:29:45.133Z"
      },
      {
        "duration": 45,
        "start_time": "2022-09-07T07:48:45.560Z"
      },
      {
        "duration": 559,
        "start_time": "2022-09-07T07:48:57.242Z"
      },
      {
        "duration": 37,
        "start_time": "2022-09-07T07:48:57.803Z"
      },
      {
        "duration": 14,
        "start_time": "2022-09-07T07:48:57.842Z"
      },
      {
        "duration": 9,
        "start_time": "2022-09-07T07:48:57.859Z"
      },
      {
        "duration": 63,
        "start_time": "2022-09-07T07:48:57.869Z"
      },
      {
        "duration": 4,
        "start_time": "2022-09-07T07:48:57.934Z"
      },
      {
        "duration": 14,
        "start_time": "2022-09-07T07:48:57.940Z"
      },
      {
        "duration": 8,
        "start_time": "2022-09-07T07:48:57.956Z"
      },
      {
        "duration": 10,
        "start_time": "2022-09-07T07:48:57.966Z"
      },
      {
        "duration": 6,
        "start_time": "2022-09-07T07:48:57.979Z"
      },
      {
        "duration": 63,
        "start_time": "2022-09-07T07:48:57.986Z"
      },
      {
        "duration": 12,
        "start_time": "2022-09-07T07:48:58.051Z"
      },
      {
        "duration": 8,
        "start_time": "2022-09-07T07:48:58.065Z"
      },
      {
        "duration": 13,
        "start_time": "2022-09-07T07:48:58.075Z"
      },
      {
        "duration": 65,
        "start_time": "2022-09-07T07:48:58.090Z"
      },
      {
        "duration": 23,
        "start_time": "2022-09-07T07:48:58.157Z"
      },
      {
        "duration": 4,
        "start_time": "2022-09-07T07:48:58.181Z"
      },
      {
        "duration": 25,
        "start_time": "2022-09-07T07:48:58.187Z"
      },
      {
        "duration": 30,
        "start_time": "2022-09-07T07:48:58.220Z"
      },
      {
        "duration": 4,
        "start_time": "2022-09-07T07:48:58.252Z"
      },
      {
        "duration": 11,
        "start_time": "2022-09-07T07:48:58.258Z"
      },
      {
        "duration": 13,
        "start_time": "2022-09-07T07:48:58.271Z"
      },
      {
        "duration": 2,
        "start_time": "2022-09-07T07:48:58.286Z"
      },
      {
        "duration": 8,
        "start_time": "2022-09-07T07:49:50.091Z"
      },
      {
        "duration": 9,
        "start_time": "2022-09-07T07:50:12.939Z"
      },
      {
        "duration": 8,
        "start_time": "2022-09-07T07:51:38.257Z"
      },
      {
        "duration": 9,
        "start_time": "2022-09-07T07:56:27.365Z"
      },
      {
        "duration": 10,
        "start_time": "2022-09-07T07:57:13.833Z"
      },
      {
        "duration": 81,
        "start_time": "2022-09-07T07:57:30.564Z"
      },
      {
        "duration": 13,
        "start_time": "2022-09-07T07:57:37.453Z"
      },
      {
        "duration": 13,
        "start_time": "2022-09-07T07:58:06.756Z"
      },
      {
        "duration": 21,
        "start_time": "2022-09-07T07:58:18.804Z"
      },
      {
        "duration": 14,
        "start_time": "2022-09-07T08:00:41.664Z"
      },
      {
        "duration": 24,
        "start_time": "2022-09-07T08:00:59.824Z"
      },
      {
        "duration": 14,
        "start_time": "2022-09-07T08:02:58.890Z"
      },
      {
        "duration": 14,
        "start_time": "2022-09-07T08:04:40.727Z"
      },
      {
        "duration": 21,
        "start_time": "2022-09-07T08:04:54.003Z"
      },
      {
        "duration": 11,
        "start_time": "2022-09-07T08:05:56.072Z"
      },
      {
        "duration": 10,
        "start_time": "2022-09-07T08:06:54.962Z"
      },
      {
        "duration": 22,
        "start_time": "2022-09-07T08:10:01.643Z"
      },
      {
        "duration": 12,
        "start_time": "2022-09-07T08:10:42.144Z"
      },
      {
        "duration": 107,
        "start_time": "2022-09-07T08:10:58.351Z"
      },
      {
        "duration": 10,
        "start_time": "2022-09-07T08:11:05.138Z"
      },
      {
        "duration": 8,
        "start_time": "2022-09-07T08:22:20.035Z"
      },
      {
        "duration": 8,
        "start_time": "2022-09-07T08:23:01.969Z"
      },
      {
        "duration": 21,
        "start_time": "2022-09-07T08:37:13.389Z"
      },
      {
        "duration": 8,
        "start_time": "2022-09-07T08:46:42.094Z"
      },
      {
        "duration": 7,
        "start_time": "2022-09-07T08:48:53.161Z"
      },
      {
        "duration": 11,
        "start_time": "2022-09-07T08:49:40.235Z"
      },
      {
        "duration": 13,
        "start_time": "2022-09-07T08:53:48.959Z"
      },
      {
        "duration": 15,
        "start_time": "2022-09-07T08:55:01.863Z"
      },
      {
        "duration": 11,
        "start_time": "2022-09-07T08:56:01.949Z"
      },
      {
        "duration": 30,
        "start_time": "2022-09-07T08:56:14.298Z"
      },
      {
        "duration": 15,
        "start_time": "2022-09-07T08:56:23.145Z"
      },
      {
        "duration": 11,
        "start_time": "2022-09-07T08:56:29.480Z"
      },
      {
        "duration": 1436,
        "start_time": "2022-09-07T08:58:11.745Z"
      },
      {
        "duration": 7,
        "start_time": "2022-09-07T08:58:34.874Z"
      },
      {
        "duration": 1609,
        "start_time": "2022-09-07T08:58:38.050Z"
      },
      {
        "duration": 1661,
        "start_time": "2022-09-07T08:59:09.137Z"
      },
      {
        "duration": 5,
        "start_time": "2022-09-07T08:59:18.078Z"
      },
      {
        "duration": 10,
        "start_time": "2022-09-07T08:59:31.171Z"
      },
      {
        "duration": 4,
        "start_time": "2022-09-07T09:02:54.647Z"
      },
      {
        "duration": 6,
        "start_time": "2022-09-07T09:03:29.851Z"
      },
      {
        "duration": 124,
        "start_time": "2022-09-07T10:33:30.025Z"
      },
      {
        "duration": 20,
        "start_time": "2022-09-07T10:34:01.897Z"
      },
      {
        "duration": 14,
        "start_time": "2022-09-07T10:36:28.137Z"
      },
      {
        "duration": 13,
        "start_time": "2022-09-07T10:47:39.331Z"
      },
      {
        "duration": 16,
        "start_time": "2022-09-07T10:56:10.317Z"
      },
      {
        "duration": 16,
        "start_time": "2022-09-07T11:01:39.445Z"
      },
      {
        "duration": 96,
        "start_time": "2022-09-07T11:04:13.770Z"
      },
      {
        "duration": 4,
        "start_time": "2022-09-07T11:04:33.124Z"
      },
      {
        "duration": 5,
        "start_time": "2022-09-07T11:09:56.249Z"
      },
      {
        "duration": 5,
        "start_time": "2022-09-07T11:10:08.721Z"
      },
      {
        "duration": 6,
        "start_time": "2022-09-07T11:27:14.130Z"
      },
      {
        "duration": 5,
        "start_time": "2022-09-07T11:28:31.290Z"
      },
      {
        "duration": 27,
        "start_time": "2022-09-07T14:46:13.874Z"
      },
      {
        "duration": 18,
        "start_time": "2022-09-07T14:47:21.272Z"
      },
      {
        "duration": 47,
        "start_time": "2022-09-08T07:40:23.771Z"
      },
      {
        "duration": 10,
        "start_time": "2022-09-08T07:41:43.699Z"
      },
      {
        "duration": 105,
        "start_time": "2022-09-08T07:42:00.164Z"
      },
      {
        "duration": 7,
        "start_time": "2022-09-08T07:42:09.322Z"
      },
      {
        "duration": 752,
        "start_time": "2022-09-08T07:44:16.903Z"
      },
      {
        "duration": 21,
        "start_time": "2022-09-08T07:44:17.657Z"
      },
      {
        "duration": 46,
        "start_time": "2022-09-08T07:44:17.679Z"
      },
      {
        "duration": 16,
        "start_time": "2022-09-08T07:44:17.728Z"
      },
      {
        "duration": 36,
        "start_time": "2022-09-08T07:44:17.746Z"
      },
      {
        "duration": 3,
        "start_time": "2022-09-08T07:44:17.784Z"
      },
      {
        "duration": 22,
        "start_time": "2022-09-08T07:44:17.788Z"
      },
      {
        "duration": 4,
        "start_time": "2022-09-08T07:44:17.811Z"
      },
      {
        "duration": 11,
        "start_time": "2022-09-08T07:44:17.816Z"
      },
      {
        "duration": 4,
        "start_time": "2022-09-08T07:44:17.829Z"
      },
      {
        "duration": 37,
        "start_time": "2022-09-08T07:44:17.834Z"
      },
      {
        "duration": 9,
        "start_time": "2022-09-08T07:44:17.872Z"
      },
      {
        "duration": 27,
        "start_time": "2022-09-08T07:44:17.882Z"
      },
      {
        "duration": 11,
        "start_time": "2022-09-08T07:44:17.910Z"
      },
      {
        "duration": 30,
        "start_time": "2022-09-08T07:44:17.922Z"
      },
      {
        "duration": 43,
        "start_time": "2022-09-08T07:44:17.953Z"
      },
      {
        "duration": 4,
        "start_time": "2022-09-08T07:44:17.998Z"
      },
      {
        "duration": 14,
        "start_time": "2022-09-08T07:44:18.004Z"
      },
      {
        "duration": 6,
        "start_time": "2022-09-08T07:44:18.019Z"
      },
      {
        "duration": 4,
        "start_time": "2022-09-08T07:44:18.027Z"
      },
      {
        "duration": 10,
        "start_time": "2022-09-08T07:44:18.033Z"
      },
      {
        "duration": 8,
        "start_time": "2022-09-08T07:44:18.045Z"
      },
      {
        "duration": 12,
        "start_time": "2022-09-08T07:44:18.055Z"
      },
      {
        "duration": 48,
        "start_time": "2022-09-08T07:44:18.069Z"
      },
      {
        "duration": 13,
        "start_time": "2022-09-08T07:44:18.119Z"
      },
      {
        "duration": 32,
        "start_time": "2022-09-08T07:44:47.374Z"
      },
      {
        "duration": 19,
        "start_time": "2022-09-08T07:45:21.040Z"
      },
      {
        "duration": 20,
        "start_time": "2022-09-08T07:47:22.774Z"
      },
      {
        "duration": 20,
        "start_time": "2022-09-08T07:47:40.001Z"
      },
      {
        "duration": 21,
        "start_time": "2022-09-08T07:48:06.921Z"
      },
      {
        "duration": 18,
        "start_time": "2022-09-08T07:48:28.946Z"
      },
      {
        "duration": 29,
        "start_time": "2022-09-08T07:49:40.776Z"
      },
      {
        "duration": 27,
        "start_time": "2022-09-08T07:50:17.074Z"
      },
      {
        "duration": 21,
        "start_time": "2022-09-08T07:51:16.588Z"
      },
      {
        "duration": 20,
        "start_time": "2022-09-08T08:13:54.851Z"
      },
      {
        "duration": 20,
        "start_time": "2022-09-08T08:16:42.792Z"
      },
      {
        "duration": 74,
        "start_time": "2022-09-08T08:17:39.113Z"
      },
      {
        "duration": 21,
        "start_time": "2022-09-08T08:18:01.587Z"
      },
      {
        "duration": 20,
        "start_time": "2022-09-08T08:36:27.077Z"
      },
      {
        "duration": 21,
        "start_time": "2022-09-08T08:36:39.987Z"
      },
      {
        "duration": 20,
        "start_time": "2022-09-08T08:36:54.873Z"
      },
      {
        "duration": 20,
        "start_time": "2022-09-08T08:40:39.268Z"
      },
      {
        "duration": 758,
        "start_time": "2022-09-08T09:51:26.168Z"
      },
      {
        "duration": 27,
        "start_time": "2022-09-08T09:51:26.929Z"
      },
      {
        "duration": 18,
        "start_time": "2022-09-08T09:51:26.958Z"
      },
      {
        "duration": 18,
        "start_time": "2022-09-08T09:51:26.979Z"
      },
      {
        "duration": 53,
        "start_time": "2022-09-08T09:51:26.999Z"
      },
      {
        "duration": 4,
        "start_time": "2022-09-08T09:51:27.054Z"
      },
      {
        "duration": 22,
        "start_time": "2022-09-08T09:51:27.060Z"
      },
      {
        "duration": 24,
        "start_time": "2022-09-08T09:51:27.083Z"
      },
      {
        "duration": 23,
        "start_time": "2022-09-08T09:51:27.109Z"
      },
      {
        "duration": 10,
        "start_time": "2022-09-08T09:51:27.134Z"
      },
      {
        "duration": 38,
        "start_time": "2022-09-08T09:51:27.146Z"
      },
      {
        "duration": 9,
        "start_time": "2022-09-08T09:51:27.186Z"
      },
      {
        "duration": 7,
        "start_time": "2022-09-08T09:51:27.196Z"
      },
      {
        "duration": 15,
        "start_time": "2022-09-08T09:51:27.204Z"
      },
      {
        "duration": 26,
        "start_time": "2022-09-08T09:51:27.221Z"
      },
      {
        "duration": 20,
        "start_time": "2022-09-08T09:51:27.249Z"
      },
      {
        "duration": 3,
        "start_time": "2022-09-08T09:51:27.270Z"
      },
      {
        "duration": 14,
        "start_time": "2022-09-08T09:51:27.275Z"
      },
      {
        "duration": 11,
        "start_time": "2022-09-08T09:51:27.290Z"
      },
      {
        "duration": 8,
        "start_time": "2022-09-08T09:51:27.302Z"
      },
      {
        "duration": 15,
        "start_time": "2022-09-08T09:51:27.311Z"
      },
      {
        "duration": 11,
        "start_time": "2022-09-08T09:51:27.327Z"
      },
      {
        "duration": 9,
        "start_time": "2022-09-08T09:51:27.347Z"
      },
      {
        "duration": 25,
        "start_time": "2022-09-08T09:51:27.358Z"
      },
      {
        "duration": 14,
        "start_time": "2022-09-08T09:51:27.385Z"
      },
      {
        "duration": 481,
        "start_time": "2022-09-08T10:13:36.718Z"
      },
      {
        "duration": 21,
        "start_time": "2022-09-08T10:13:37.200Z"
      },
      {
        "duration": 14,
        "start_time": "2022-09-08T10:13:37.222Z"
      },
      {
        "duration": 16,
        "start_time": "2022-09-08T10:13:37.238Z"
      },
      {
        "duration": 33,
        "start_time": "2022-09-08T10:13:37.255Z"
      },
      {
        "duration": 3,
        "start_time": "2022-09-08T10:13:37.290Z"
      },
      {
        "duration": 10,
        "start_time": "2022-09-08T10:13:37.295Z"
      },
      {
        "duration": 4,
        "start_time": "2022-09-08T10:13:37.307Z"
      },
      {
        "duration": 8,
        "start_time": "2022-09-08T10:13:37.312Z"
      },
      {
        "duration": 26,
        "start_time": "2022-09-08T10:13:37.323Z"
      },
      {
        "duration": 39,
        "start_time": "2022-09-08T10:13:37.351Z"
      },
      {
        "duration": 10,
        "start_time": "2022-09-08T10:13:37.392Z"
      },
      {
        "duration": 16,
        "start_time": "2022-09-08T10:13:37.403Z"
      },
      {
        "duration": 13,
        "start_time": "2022-09-08T10:13:37.420Z"
      },
      {
        "duration": 27,
        "start_time": "2022-09-08T10:13:37.435Z"
      },
      {
        "duration": 16,
        "start_time": "2022-09-08T10:13:37.463Z"
      },
      {
        "duration": 4,
        "start_time": "2022-09-08T10:13:37.481Z"
      },
      {
        "duration": 17,
        "start_time": "2022-09-08T10:13:37.486Z"
      },
      {
        "duration": 6,
        "start_time": "2022-09-08T10:13:37.504Z"
      },
      {
        "duration": 7,
        "start_time": "2022-09-08T10:13:37.511Z"
      },
      {
        "duration": 29,
        "start_time": "2022-09-08T10:13:37.519Z"
      },
      {
        "duration": 13,
        "start_time": "2022-09-08T10:13:37.550Z"
      },
      {
        "duration": 10,
        "start_time": "2022-09-08T10:13:37.565Z"
      },
      {
        "duration": 20,
        "start_time": "2022-09-08T10:13:37.576Z"
      },
      {
        "duration": 11,
        "start_time": "2022-09-08T10:13:37.598Z"
      },
      {
        "duration": 50,
        "start_time": "2022-09-08T11:05:40.118Z"
      },
      {
        "duration": 758,
        "start_time": "2022-09-08T11:05:49.249Z"
      },
      {
        "duration": 21,
        "start_time": "2022-09-08T11:05:50.009Z"
      },
      {
        "duration": 13,
        "start_time": "2022-09-08T11:05:50.032Z"
      },
      {
        "duration": 24,
        "start_time": "2022-09-08T11:05:50.046Z"
      },
      {
        "duration": 39,
        "start_time": "2022-09-08T11:05:50.072Z"
      },
      {
        "duration": 3,
        "start_time": "2022-09-08T11:05:50.113Z"
      },
      {
        "duration": 24,
        "start_time": "2022-09-08T11:05:50.117Z"
      },
      {
        "duration": 5,
        "start_time": "2022-09-08T11:05:50.142Z"
      },
      {
        "duration": 13,
        "start_time": "2022-09-08T11:05:50.149Z"
      },
      {
        "duration": 13,
        "start_time": "2022-09-08T11:05:50.163Z"
      },
      {
        "duration": 32,
        "start_time": "2022-09-08T11:05:50.178Z"
      },
      {
        "duration": 9,
        "start_time": "2022-09-08T11:05:50.211Z"
      },
      {
        "duration": 7,
        "start_time": "2022-09-08T11:05:50.221Z"
      },
      {
        "duration": 18,
        "start_time": "2022-09-08T11:05:50.231Z"
      },
      {
        "duration": 22,
        "start_time": "2022-09-08T11:05:50.251Z"
      },
      {
        "duration": 35,
        "start_time": "2022-09-08T11:05:50.274Z"
      },
      {
        "duration": 4,
        "start_time": "2022-09-08T11:05:50.310Z"
      },
      {
        "duration": 33,
        "start_time": "2022-09-08T11:05:50.315Z"
      },
      {
        "duration": 14,
        "start_time": "2022-09-08T11:05:50.350Z"
      },
      {
        "duration": 10,
        "start_time": "2022-09-08T11:05:50.366Z"
      },
      {
        "duration": 17,
        "start_time": "2022-09-08T11:05:50.377Z"
      },
      {
        "duration": 8,
        "start_time": "2022-09-08T11:05:50.396Z"
      },
      {
        "duration": 16,
        "start_time": "2022-09-08T11:05:50.406Z"
      },
      {
        "duration": 23,
        "start_time": "2022-09-08T11:05:50.424Z"
      },
      {
        "duration": 59,
        "start_time": "2022-09-08T11:05:50.449Z"
      },
      {
        "duration": 16,
        "start_time": "2022-09-08T11:06:26.109Z"
      },
      {
        "duration": 13,
        "start_time": "2022-09-08T11:09:33.952Z"
      },
      {
        "duration": 10,
        "start_time": "2022-09-08T11:11:07.274Z"
      },
      {
        "duration": 10,
        "start_time": "2022-09-08T11:11:31.879Z"
      },
      {
        "duration": 6,
        "start_time": "2022-09-08T11:12:29.237Z"
      },
      {
        "duration": 66,
        "start_time": "2022-09-08T11:41:51.694Z"
      },
      {
        "duration": 451,
        "start_time": "2022-09-08T11:42:34.720Z"
      },
      {
        "duration": 20,
        "start_time": "2022-09-08T11:42:35.173Z"
      },
      {
        "duration": 13,
        "start_time": "2022-09-08T11:42:35.195Z"
      },
      {
        "duration": 12,
        "start_time": "2022-09-08T11:42:35.210Z"
      },
      {
        "duration": 29,
        "start_time": "2022-09-08T11:42:35.224Z"
      },
      {
        "duration": 3,
        "start_time": "2022-09-08T11:42:35.255Z"
      },
      {
        "duration": 27,
        "start_time": "2022-09-08T11:42:35.259Z"
      },
      {
        "duration": 7,
        "start_time": "2022-09-08T11:42:35.288Z"
      },
      {
        "duration": 23,
        "start_time": "2022-09-08T11:42:35.297Z"
      },
      {
        "duration": 15,
        "start_time": "2022-09-08T11:42:35.322Z"
      },
      {
        "duration": 41,
        "start_time": "2022-09-08T11:42:35.338Z"
      },
      {
        "duration": 9,
        "start_time": "2022-09-08T11:42:35.380Z"
      },
      {
        "duration": 11,
        "start_time": "2022-09-08T11:42:35.390Z"
      },
      {
        "duration": 13,
        "start_time": "2022-09-08T11:42:35.403Z"
      },
      {
        "duration": 21,
        "start_time": "2022-09-08T11:42:35.417Z"
      },
      {
        "duration": 18,
        "start_time": "2022-09-08T11:42:35.439Z"
      },
      {
        "duration": 3,
        "start_time": "2022-09-08T11:42:35.458Z"
      },
      {
        "duration": 27,
        "start_time": "2022-09-08T11:42:35.462Z"
      },
      {
        "duration": 18,
        "start_time": "2022-09-08T11:42:35.490Z"
      },
      {
        "duration": 9,
        "start_time": "2022-09-08T11:42:35.510Z"
      },
      {
        "duration": 33,
        "start_time": "2022-09-08T11:42:35.520Z"
      },
      {
        "duration": 16,
        "start_time": "2022-09-08T11:42:35.555Z"
      },
      {
        "duration": 28,
        "start_time": "2022-09-08T11:42:35.572Z"
      },
      {
        "duration": 71,
        "start_time": "2022-09-08T11:42:35.602Z"
      },
      {
        "duration": 0,
        "start_time": "2022-09-08T11:42:35.674Z"
      },
      {
        "duration": 10,
        "start_time": "2022-09-08T11:43:04.262Z"
      },
      {
        "duration": 8,
        "start_time": "2022-09-08T11:43:13.619Z"
      },
      {
        "duration": 6,
        "start_time": "2022-09-08T11:43:37.266Z"
      },
      {
        "duration": 7,
        "start_time": "2022-09-08T11:46:51.493Z"
      },
      {
        "duration": 421,
        "start_time": "2022-09-08T11:47:49.147Z"
      },
      {
        "duration": 20,
        "start_time": "2022-09-08T11:47:49.570Z"
      },
      {
        "duration": 13,
        "start_time": "2022-09-08T11:47:49.591Z"
      },
      {
        "duration": 9,
        "start_time": "2022-09-08T11:47:49.607Z"
      },
      {
        "duration": 29,
        "start_time": "2022-09-08T11:47:49.617Z"
      },
      {
        "duration": 3,
        "start_time": "2022-09-08T11:47:49.648Z"
      },
      {
        "duration": 9,
        "start_time": "2022-09-08T11:47:49.652Z"
      },
      {
        "duration": 4,
        "start_time": "2022-09-08T11:47:49.662Z"
      },
      {
        "duration": 7,
        "start_time": "2022-09-08T11:47:49.667Z"
      },
      {
        "duration": 4,
        "start_time": "2022-09-08T11:47:49.676Z"
      },
      {
        "duration": 51,
        "start_time": "2022-09-08T11:47:49.681Z"
      },
      {
        "duration": 7,
        "start_time": "2022-09-08T11:47:49.733Z"
      },
      {
        "duration": 4,
        "start_time": "2022-09-08T11:47:49.741Z"
      },
      {
        "duration": 12,
        "start_time": "2022-09-08T11:47:49.746Z"
      },
      {
        "duration": 22,
        "start_time": "2022-09-08T11:47:49.759Z"
      },
      {
        "duration": 37,
        "start_time": "2022-09-08T11:47:49.782Z"
      },
      {
        "duration": 3,
        "start_time": "2022-09-08T11:47:49.820Z"
      },
      {
        "duration": 9,
        "start_time": "2022-09-08T11:47:49.825Z"
      },
      {
        "duration": 5,
        "start_time": "2022-09-08T11:47:49.835Z"
      },
      {
        "duration": 4,
        "start_time": "2022-09-08T11:47:49.841Z"
      },
      {
        "duration": 11,
        "start_time": "2022-09-08T11:47:49.846Z"
      },
      {
        "duration": 15,
        "start_time": "2022-09-08T11:47:49.858Z"
      },
      {
        "duration": 10,
        "start_time": "2022-09-08T11:47:49.874Z"
      },
      {
        "duration": 85,
        "start_time": "2022-09-08T11:47:49.885Z"
      },
      {
        "duration": 0,
        "start_time": "2022-09-08T11:47:49.972Z"
      },
      {
        "duration": 8,
        "start_time": "2022-09-08T11:48:19.046Z"
      },
      {
        "duration": 7,
        "start_time": "2022-09-08T11:48:53.902Z"
      },
      {
        "duration": 18,
        "start_time": "2022-09-08T11:52:57.090Z"
      },
      {
        "duration": 17,
        "start_time": "2022-09-08T12:00:17.917Z"
      },
      {
        "duration": 24,
        "start_time": "2022-09-08T12:02:17.072Z"
      },
      {
        "duration": 16,
        "start_time": "2022-09-08T12:02:41.780Z"
      },
      {
        "duration": 68,
        "start_time": "2022-09-09T14:19:40.796Z"
      },
      {
        "duration": 53,
        "start_time": "2022-09-09T14:19:54.210Z"
      },
      {
        "duration": 48,
        "start_time": "2022-09-09T19:53:47.766Z"
      },
      {
        "duration": 672,
        "start_time": "2022-09-09T19:53:57.238Z"
      },
      {
        "duration": 28,
        "start_time": "2022-09-09T19:53:57.912Z"
      },
      {
        "duration": 19,
        "start_time": "2022-09-09T19:53:57.942Z"
      },
      {
        "duration": 14,
        "start_time": "2022-09-09T19:53:57.963Z"
      },
      {
        "duration": 33,
        "start_time": "2022-09-09T19:53:57.979Z"
      },
      {
        "duration": 3,
        "start_time": "2022-09-09T19:53:58.014Z"
      },
      {
        "duration": 9,
        "start_time": "2022-09-09T19:53:58.019Z"
      },
      {
        "duration": 5,
        "start_time": "2022-09-09T19:53:58.030Z"
      },
      {
        "duration": 10,
        "start_time": "2022-09-09T19:53:58.036Z"
      },
      {
        "duration": 27,
        "start_time": "2022-09-09T19:53:58.050Z"
      },
      {
        "duration": 30,
        "start_time": "2022-09-09T19:53:58.079Z"
      },
      {
        "duration": 9,
        "start_time": "2022-09-09T19:53:58.111Z"
      },
      {
        "duration": 5,
        "start_time": "2022-09-09T19:53:58.121Z"
      },
      {
        "duration": 11,
        "start_time": "2022-09-09T19:53:58.128Z"
      },
      {
        "duration": 42,
        "start_time": "2022-09-09T19:53:58.141Z"
      },
      {
        "duration": 16,
        "start_time": "2022-09-09T19:53:58.184Z"
      },
      {
        "duration": 4,
        "start_time": "2022-09-09T19:53:58.201Z"
      },
      {
        "duration": 12,
        "start_time": "2022-09-09T19:53:58.206Z"
      },
      {
        "duration": 8,
        "start_time": "2022-09-09T19:53:58.219Z"
      },
      {
        "duration": 4,
        "start_time": "2022-09-09T19:53:58.228Z"
      },
      {
        "duration": 9,
        "start_time": "2022-09-09T19:53:58.233Z"
      },
      {
        "duration": 32,
        "start_time": "2022-09-09T19:53:58.244Z"
      },
      {
        "duration": 10,
        "start_time": "2022-09-09T19:53:58.278Z"
      },
      {
        "duration": 8,
        "start_time": "2022-09-09T19:53:58.289Z"
      },
      {
        "duration": 11,
        "start_time": "2022-09-09T19:53:58.298Z"
      },
      {
        "duration": 66,
        "start_time": "2022-09-09T19:53:58.311Z"
      },
      {
        "duration": 462,
        "start_time": "2023-04-25T21:08:37.232Z"
      },
      {
        "duration": 20,
        "start_time": "2023-04-25T21:08:37.696Z"
      },
      {
        "duration": 15,
        "start_time": "2023-04-25T21:08:37.717Z"
      },
      {
        "duration": 16,
        "start_time": "2023-04-25T21:08:37.733Z"
      },
      {
        "duration": 37,
        "start_time": "2023-04-25T21:08:37.753Z"
      },
      {
        "duration": 3,
        "start_time": "2023-04-25T21:08:37.791Z"
      },
      {
        "duration": 21,
        "start_time": "2023-04-25T21:08:37.796Z"
      },
      {
        "duration": 36,
        "start_time": "2023-04-25T21:08:37.819Z"
      },
      {
        "duration": 11,
        "start_time": "2023-04-25T21:08:37.857Z"
      },
      {
        "duration": 5,
        "start_time": "2023-04-25T21:08:37.870Z"
      },
      {
        "duration": 36,
        "start_time": "2023-04-25T21:08:37.876Z"
      },
      {
        "duration": 10,
        "start_time": "2023-04-25T21:08:37.914Z"
      },
      {
        "duration": 4,
        "start_time": "2023-04-25T21:08:37.926Z"
      },
      {
        "duration": 26,
        "start_time": "2023-04-25T21:08:37.933Z"
      },
      {
        "duration": 22,
        "start_time": "2023-04-25T21:08:37.960Z"
      },
      {
        "duration": 15,
        "start_time": "2023-04-25T21:08:37.984Z"
      },
      {
        "duration": 3,
        "start_time": "2023-04-25T21:08:38.000Z"
      },
      {
        "duration": 17,
        "start_time": "2023-04-25T21:08:38.005Z"
      },
      {
        "duration": 24,
        "start_time": "2023-04-25T21:08:38.024Z"
      },
      {
        "duration": 6,
        "start_time": "2023-04-25T21:08:38.050Z"
      },
      {
        "duration": 15,
        "start_time": "2023-04-25T21:08:38.058Z"
      },
      {
        "duration": 11,
        "start_time": "2023-04-25T21:08:38.075Z"
      },
      {
        "duration": 13,
        "start_time": "2023-04-25T21:08:38.088Z"
      },
      {
        "duration": 15,
        "start_time": "2023-04-25T21:08:38.103Z"
      },
      {
        "duration": 24,
        "start_time": "2023-04-25T21:08:38.119Z"
      }
    ],
    "colab": {
      "provenance": []
    },
    "kernelspec": {
      "display_name": "Python 3 (ipykernel)",
      "language": "python",
      "name": "python3"
    },
    "language_info": {
      "codemirror_mode": {
        "name": "ipython",
        "version": 3
      },
      "file_extension": ".py",
      "mimetype": "text/x-python",
      "name": "python",
      "nbconvert_exporter": "python",
      "pygments_lexer": "ipython3",
      "version": "3.9.5"
    },
    "toc": {
      "base_numbering": 1,
      "nav_menu": {},
      "number_sections": true,
      "sideBar": true,
      "skip_h1_title": true,
      "title_cell": "Table of Contents",
      "title_sidebar": "Contents",
      "toc_cell": false,
      "toc_position": {},
      "toc_section_display": true,
      "toc_window_display": true
    }
  },
  "nbformat": 4,
  "nbformat_minor": 5
}
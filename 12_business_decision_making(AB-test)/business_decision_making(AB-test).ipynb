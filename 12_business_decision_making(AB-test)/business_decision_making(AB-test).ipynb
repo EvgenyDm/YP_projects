{
 "cells": [
  {
   "cell_type": "markdown",
   "metadata": {},
   "source": [
    "## Описание проекта\n",
    "Аналитики крупного интернет-магазина вместе с отделом маркетинга подготовили список гипотез для увеличения выручки.  \n",
    "Необходимо приоритизировать гипотезы, запустить A/B-тест и проанализировать результаты. "
   ]
  },
  {
   "cell_type": "markdown",
   "metadata": {},
   "source": [
    "## Данные\n",
    "1. Файл `/datasets/hypothesis.csv`  \n",
    "`Hypothesis` — краткое описание гипотезы;  \n",
    "`Reach` — охват пользователей по 10-балльной шкале;  \n",
    "`Impact` — влияние на пользователей по 10-балльной шкале;  \n",
    "`Confidence` — уверенность в гипотезе по 10-балльной шкале;  \n",
    "`Efforts` — затраты ресурсов на проверку гипотезы по 10-балльной шкале. Чем больше значение Efforts, тем дороже проверка гипотезы.  \n",
    "2. Файл `/datasets/orders.csv`  \n",
    "`transactionId` — идентификатор заказа;  \n",
    "`visitorId` — идентификатор пользователя, совершившего заказ;  \n",
    "`date` — дата, когда был совершён заказ;  \n",
    "`revenue` — выручка заказа;  \n",
    "`group` — группа A/B-теста, в которую попал заказ.  \n",
    "3. Файл `/datasets/visitors.csv`  \n",
    "`date` — дата;  \n",
    "`group` — группа A/B-теста;  \n",
    "`visitors` — количество пользователей в указанную дату в указанной группе A/B-теста."
   ]
  },
  {
   "cell_type": "markdown",
   "metadata": {},
   "source": [
    "## Загружаем необходимые библиотеки"
   ]
  },
  {
   "cell_type": "code",
   "execution_count": 1,
   "metadata": {},
   "outputs": [],
   "source": [
    "import pandas as pd\n",
    "import datetime as dt\n",
    "import numpy as np\n",
    "import matplotlib.pyplot as plt\n",
    "from pandas.plotting import register_matplotlib_converters\n",
    "import warnings\n",
    "import scipy.stats as stats\n",
    "# конвертеры, которые позволяют использовать типы pandas в matplotlib  \n",
    "register_matplotlib_converters()"
   ]
  },
  {
   "cell_type": "markdown",
   "metadata": {},
   "source": [
    "## Приоритизация гипотез"
   ]
  },
  {
   "cell_type": "code",
   "execution_count": 2,
   "metadata": {},
   "outputs": [
    {
     "ename": "FileNotFoundError",
     "evalue": "[Errno 2] No such file or directory: '/datasets/hypothesis.csv'",
     "output_type": "error",
     "traceback": [
      "\u001b[1;31m---------------------------------------------------------------------------\u001b[0m",
      "\u001b[1;31mFileNotFoundError\u001b[0m                         Traceback (most recent call last)",
      "\u001b[1;32m~\\AppData\\Local\\Temp\\ipykernel_9256\\4202168982.py\u001b[0m in \u001b[0;36m<module>\u001b[1;34m\u001b[0m\n\u001b[0;32m      1\u001b[0m \u001b[1;31m# запишем датафрейм\u001b[0m\u001b[1;33m\u001b[0m\u001b[1;33m\u001b[0m\u001b[0m\n\u001b[1;32m----> 2\u001b[1;33m \u001b[0mhypothesis\u001b[0m \u001b[1;33m=\u001b[0m \u001b[0mpd\u001b[0m\u001b[1;33m.\u001b[0m\u001b[0mread_csv\u001b[0m\u001b[1;33m(\u001b[0m\u001b[1;34m'/datasets/hypothesis.csv'\u001b[0m\u001b[1;33m)\u001b[0m\u001b[1;33m\u001b[0m\u001b[1;33m\u001b[0m\u001b[0m\n\u001b[0m",
      "\u001b[1;32m~\\anaconda3\\lib\\site-packages\\pandas\\util\\_decorators.py\u001b[0m in \u001b[0;36mwrapper\u001b[1;34m(*args, **kwargs)\u001b[0m\n\u001b[0;32m    309\u001b[0m                     \u001b[0mstacklevel\u001b[0m\u001b[1;33m=\u001b[0m\u001b[0mstacklevel\u001b[0m\u001b[1;33m,\u001b[0m\u001b[1;33m\u001b[0m\u001b[1;33m\u001b[0m\u001b[0m\n\u001b[0;32m    310\u001b[0m                 )\n\u001b[1;32m--> 311\u001b[1;33m             \u001b[1;32mreturn\u001b[0m \u001b[0mfunc\u001b[0m\u001b[1;33m(\u001b[0m\u001b[1;33m*\u001b[0m\u001b[0margs\u001b[0m\u001b[1;33m,\u001b[0m \u001b[1;33m**\u001b[0m\u001b[0mkwargs\u001b[0m\u001b[1;33m)\u001b[0m\u001b[1;33m\u001b[0m\u001b[1;33m\u001b[0m\u001b[0m\n\u001b[0m\u001b[0;32m    312\u001b[0m \u001b[1;33m\u001b[0m\u001b[0m\n\u001b[0;32m    313\u001b[0m         \u001b[1;32mreturn\u001b[0m \u001b[0mwrapper\u001b[0m\u001b[1;33m\u001b[0m\u001b[1;33m\u001b[0m\u001b[0m\n",
      "\u001b[1;32m~\\anaconda3\\lib\\site-packages\\pandas\\io\\parsers\\readers.py\u001b[0m in \u001b[0;36mread_csv\u001b[1;34m(filepath_or_buffer, sep, delimiter, header, names, index_col, usecols, squeeze, prefix, mangle_dupe_cols, dtype, engine, converters, true_values, false_values, skipinitialspace, skiprows, skipfooter, nrows, na_values, keep_default_na, na_filter, verbose, skip_blank_lines, parse_dates, infer_datetime_format, keep_date_col, date_parser, dayfirst, cache_dates, iterator, chunksize, compression, thousands, decimal, lineterminator, quotechar, quoting, doublequote, escapechar, comment, encoding, encoding_errors, dialect, error_bad_lines, warn_bad_lines, on_bad_lines, delim_whitespace, low_memory, memory_map, float_precision, storage_options)\u001b[0m\n\u001b[0;32m    676\u001b[0m     \u001b[0mkwds\u001b[0m\u001b[1;33m.\u001b[0m\u001b[0mupdate\u001b[0m\u001b[1;33m(\u001b[0m\u001b[0mkwds_defaults\u001b[0m\u001b[1;33m)\u001b[0m\u001b[1;33m\u001b[0m\u001b[1;33m\u001b[0m\u001b[0m\n\u001b[0;32m    677\u001b[0m \u001b[1;33m\u001b[0m\u001b[0m\n\u001b[1;32m--> 678\u001b[1;33m     \u001b[1;32mreturn\u001b[0m \u001b[0m_read\u001b[0m\u001b[1;33m(\u001b[0m\u001b[0mfilepath_or_buffer\u001b[0m\u001b[1;33m,\u001b[0m \u001b[0mkwds\u001b[0m\u001b[1;33m)\u001b[0m\u001b[1;33m\u001b[0m\u001b[1;33m\u001b[0m\u001b[0m\n\u001b[0m\u001b[0;32m    679\u001b[0m \u001b[1;33m\u001b[0m\u001b[0m\n\u001b[0;32m    680\u001b[0m \u001b[1;33m\u001b[0m\u001b[0m\n",
      "\u001b[1;32m~\\anaconda3\\lib\\site-packages\\pandas\\io\\parsers\\readers.py\u001b[0m in \u001b[0;36m_read\u001b[1;34m(filepath_or_buffer, kwds)\u001b[0m\n\u001b[0;32m    573\u001b[0m \u001b[1;33m\u001b[0m\u001b[0m\n\u001b[0;32m    574\u001b[0m     \u001b[1;31m# Create the parser.\u001b[0m\u001b[1;33m\u001b[0m\u001b[1;33m\u001b[0m\u001b[0m\n\u001b[1;32m--> 575\u001b[1;33m     \u001b[0mparser\u001b[0m \u001b[1;33m=\u001b[0m \u001b[0mTextFileReader\u001b[0m\u001b[1;33m(\u001b[0m\u001b[0mfilepath_or_buffer\u001b[0m\u001b[1;33m,\u001b[0m \u001b[1;33m**\u001b[0m\u001b[0mkwds\u001b[0m\u001b[1;33m)\u001b[0m\u001b[1;33m\u001b[0m\u001b[1;33m\u001b[0m\u001b[0m\n\u001b[0m\u001b[0;32m    576\u001b[0m \u001b[1;33m\u001b[0m\u001b[0m\n\u001b[0;32m    577\u001b[0m     \u001b[1;32mif\u001b[0m \u001b[0mchunksize\u001b[0m \u001b[1;32mor\u001b[0m \u001b[0miterator\u001b[0m\u001b[1;33m:\u001b[0m\u001b[1;33m\u001b[0m\u001b[1;33m\u001b[0m\u001b[0m\n",
      "\u001b[1;32m~\\anaconda3\\lib\\site-packages\\pandas\\io\\parsers\\readers.py\u001b[0m in \u001b[0;36m__init__\u001b[1;34m(self, f, engine, **kwds)\u001b[0m\n\u001b[0;32m    930\u001b[0m \u001b[1;33m\u001b[0m\u001b[0m\n\u001b[0;32m    931\u001b[0m         \u001b[0mself\u001b[0m\u001b[1;33m.\u001b[0m\u001b[0mhandles\u001b[0m\u001b[1;33m:\u001b[0m \u001b[0mIOHandles\u001b[0m \u001b[1;33m|\u001b[0m \u001b[1;32mNone\u001b[0m \u001b[1;33m=\u001b[0m \u001b[1;32mNone\u001b[0m\u001b[1;33m\u001b[0m\u001b[1;33m\u001b[0m\u001b[0m\n\u001b[1;32m--> 932\u001b[1;33m         \u001b[0mself\u001b[0m\u001b[1;33m.\u001b[0m\u001b[0m_engine\u001b[0m \u001b[1;33m=\u001b[0m \u001b[0mself\u001b[0m\u001b[1;33m.\u001b[0m\u001b[0m_make_engine\u001b[0m\u001b[1;33m(\u001b[0m\u001b[0mf\u001b[0m\u001b[1;33m,\u001b[0m \u001b[0mself\u001b[0m\u001b[1;33m.\u001b[0m\u001b[0mengine\u001b[0m\u001b[1;33m)\u001b[0m\u001b[1;33m\u001b[0m\u001b[1;33m\u001b[0m\u001b[0m\n\u001b[0m\u001b[0;32m    933\u001b[0m \u001b[1;33m\u001b[0m\u001b[0m\n\u001b[0;32m    934\u001b[0m     \u001b[1;32mdef\u001b[0m \u001b[0mclose\u001b[0m\u001b[1;33m(\u001b[0m\u001b[0mself\u001b[0m\u001b[1;33m)\u001b[0m\u001b[1;33m:\u001b[0m\u001b[1;33m\u001b[0m\u001b[1;33m\u001b[0m\u001b[0m\n",
      "\u001b[1;32m~\\anaconda3\\lib\\site-packages\\pandas\\io\\parsers\\readers.py\u001b[0m in \u001b[0;36m_make_engine\u001b[1;34m(self, f, engine)\u001b[0m\n\u001b[0;32m   1214\u001b[0m             \u001b[1;31m# \"Union[str, PathLike[str], ReadCsvBuffer[bytes], ReadCsvBuffer[str]]\"\u001b[0m\u001b[1;33m\u001b[0m\u001b[1;33m\u001b[0m\u001b[0m\n\u001b[0;32m   1215\u001b[0m             \u001b[1;31m# , \"str\", \"bool\", \"Any\", \"Any\", \"Any\", \"Any\", \"Any\"\u001b[0m\u001b[1;33m\u001b[0m\u001b[1;33m\u001b[0m\u001b[0m\n\u001b[1;32m-> 1216\u001b[1;33m             self.handles = get_handle(  # type: ignore[call-overload]\n\u001b[0m\u001b[0;32m   1217\u001b[0m                 \u001b[0mf\u001b[0m\u001b[1;33m,\u001b[0m\u001b[1;33m\u001b[0m\u001b[1;33m\u001b[0m\u001b[0m\n\u001b[0;32m   1218\u001b[0m                 \u001b[0mmode\u001b[0m\u001b[1;33m,\u001b[0m\u001b[1;33m\u001b[0m\u001b[1;33m\u001b[0m\u001b[0m\n",
      "\u001b[1;32m~\\anaconda3\\lib\\site-packages\\pandas\\io\\common.py\u001b[0m in \u001b[0;36mget_handle\u001b[1;34m(path_or_buf, mode, encoding, compression, memory_map, is_text, errors, storage_options)\u001b[0m\n\u001b[0;32m    784\u001b[0m         \u001b[1;32mif\u001b[0m \u001b[0mioargs\u001b[0m\u001b[1;33m.\u001b[0m\u001b[0mencoding\u001b[0m \u001b[1;32mand\u001b[0m \u001b[1;34m\"b\"\u001b[0m \u001b[1;32mnot\u001b[0m \u001b[1;32min\u001b[0m \u001b[0mioargs\u001b[0m\u001b[1;33m.\u001b[0m\u001b[0mmode\u001b[0m\u001b[1;33m:\u001b[0m\u001b[1;33m\u001b[0m\u001b[1;33m\u001b[0m\u001b[0m\n\u001b[0;32m    785\u001b[0m             \u001b[1;31m# Encoding\u001b[0m\u001b[1;33m\u001b[0m\u001b[1;33m\u001b[0m\u001b[0m\n\u001b[1;32m--> 786\u001b[1;33m             handle = open(\n\u001b[0m\u001b[0;32m    787\u001b[0m                 \u001b[0mhandle\u001b[0m\u001b[1;33m,\u001b[0m\u001b[1;33m\u001b[0m\u001b[1;33m\u001b[0m\u001b[0m\n\u001b[0;32m    788\u001b[0m                 \u001b[0mioargs\u001b[0m\u001b[1;33m.\u001b[0m\u001b[0mmode\u001b[0m\u001b[1;33m,\u001b[0m\u001b[1;33m\u001b[0m\u001b[1;33m\u001b[0m\u001b[0m\n",
      "\u001b[1;31mFileNotFoundError\u001b[0m: [Errno 2] No such file or directory: '/datasets/hypothesis.csv'"
     ]
    }
   ],
   "source": [
    "# запишем датафрейм\n",
    "hypothesis = pd.read_csv('/datasets/hypothesis.csv')"
   ]
  },
  {
   "cell_type": "code",
   "execution_count": null,
   "metadata": {},
   "outputs": [],
   "source": [
    "# смотрим на содержимое датафрейма\n",
    "pd.set_option('max_colwidth', 200) # добавляю\n",
    "display(hypothesis)"
   ]
  },
  {
   "cell_type": "markdown",
   "metadata": {},
   "source": [
    "<div class=\"alert alert-block alert-warning\">\n",
    "    \n",
    "\n",
    "**Комментарий от ревьюера**\n",
    "\n",
    "Удобнее вывести названия гипотез целиком: `pd.set_option('max_colwidth', 200)` и округлить значения в колонке ICE до 2 знаков после запятой.\n",
    "    \n",
    "\n",
    "</div>"
   ]
  },
  {
   "cell_type": "markdown",
   "metadata": {},
   "source": [
    "<div class=\"alert alert-info\">\n",
    "Исправляю\n",
    "</div>"
   ]
  },
  {
   "cell_type": "markdown",
   "metadata": {},
   "source": [
    "<div class=\"alert alert-success\">\n",
    "<b> Комментарий от ревьюера 2</b>\n",
    "\n",
    "Молодец, что отредактировал таблицу, теперь она выглядит лучше. \n",
    "\n",
    "</div>"
   ]
  },
  {
   "cell_type": "code",
   "execution_count": null,
   "metadata": {},
   "outputs": [],
   "source": [
    "# применим фреймворк ICE для приоритизации гипотез, отсортируем их по убыванию приоритета\n",
    "hypothesis['ICE'] = (hypothesis['Impact'] * hypothesis['Confidence'] / hypothesis['Efforts']).round(2) # добавил .round(2)\n",
    "display(hypothesis[['Hypothesis', 'ICE']].sort_values(by = 'ICE', ascending = False))"
   ]
  },
  {
   "cell_type": "code",
   "execution_count": null,
   "metadata": {},
   "outputs": [],
   "source": [
    "# Применим фреймворк RICE для приоритизации гипотез, Отсортируем их по убыванию приоритета.\n",
    "hypothesis['RICE'] = hypothesis['Reach'] * hypothesis['Impact'] * hypothesis['Confidence'] / hypothesis['Efforts']\n",
    "display(hypothesis[['Hypothesis', 'RICE']].sort_values(by = 'RICE', ascending = False))"
   ]
  },
  {
   "cell_type": "markdown",
   "metadata": {},
   "source": [
    "<div class=\"alert alert-block alert-success\">\n",
    "    \n",
    "**Комментарий от ревьюера**\n",
    "\n",
    "Молодец, что выводишь таблицу дважды, каждый раз с сортировкой по одному из фреймворков - так различия в их работе максимально наглядны.\n",
    "</div>"
   ]
  },
  {
   "cell_type": "markdown",
   "metadata": {},
   "source": [
    "**Вывод:**  \n",
    "Самый высокий ICE у 8, 0 и 7 гипотезы.  \n",
    "Самый высокий RICE у 7, 2, 0 и 6 гипотезы.  \n",
    "Изменение приоритизации по RICE связано с максимальным значением Reach (затрагиваемый охват пользователей) у 7 гипотезы.  \n",
    "В нашем случае приоритетными гипотезами будут 7, 2, 0."
   ]
  },
  {
   "cell_type": "markdown",
   "metadata": {},
   "source": [
    "<div class=\"alert alert-block alert-warning\">\n",
    "    \n",
    "\n",
    "**Комментарий от ревьюера**\n",
    "\n",
    "Стоит привести названия гипотез полностью или использовать нумерацию, указанную в таблице (либо изменить ее, чтобы она начиналась не с нуля). Также здесь можно выбрать гипотезу, которую мы будем тестировать первой, чтобы между частями проекта была логическая связь.\n",
    "\n",
    "</div>"
   ]
  },
  {
   "cell_type": "markdown",
   "metadata": {},
   "source": [
    "## Анализ A/B-теста\n",
    "A/B тест проведен, необходимо проанализировать результаты"
   ]
  },
  {
   "cell_type": "code",
   "execution_count": null,
   "metadata": {},
   "outputs": [],
   "source": [
    "# записываем получившиеся датафреймы\n",
    "orders = pd.read_csv('/datasets/orders.csv')\n",
    "visitors = pd.read_csv('/datasets/visitors.csv')"
   ]
  },
  {
   "cell_type": "code",
   "execution_count": null,
   "metadata": {},
   "outputs": [],
   "source": [
    "# смотрим на получившиеся датафреймы\n",
    "display(orders)\n",
    "orders.info()"
   ]
  },
  {
   "cell_type": "code",
   "execution_count": null,
   "metadata": {},
   "outputs": [],
   "source": [
    "# смотрим на получившиеся датафреймы\n",
    "display(visitors)\n",
    "visitors.info()"
   ]
  },
  {
   "cell_type": "markdown",
   "metadata": {},
   "source": [
    "<div class=\"alert alert-block alert-danger\">\n",
    "    \n",
    "**Комментарий от ревьюера**\n",
    "При знакомстве с данными нам нужно еще выполнить проверку на дубликаты.\n",
    "</div>"
   ]
  },
  {
   "cell_type": "markdown",
   "metadata": {},
   "source": [
    "<div class=\"alert alert-info\">\n",
    "Исправляю\n",
    "</div>"
   ]
  },
  {
   "cell_type": "markdown",
   "metadata": {},
   "source": [
    "<div class=\"alert alert-success\">\n",
    "<b> Комментарий от ревьюера 2</b>\n",
    "\n",
    "Здорово, теперь все необходимые проверки у нас есть.\n",
    "\n",
    "</div>"
   ]
  },
  {
   "cell_type": "code",
   "execution_count": null,
   "metadata": {},
   "outputs": [],
   "source": [
    "# проверяем на наличие явные дубликатов\n",
    "print('Явных дубликатов по orders:', orders.duplicated().sum())\n",
    "print('Явных дубликатов по visitors:', visitors.duplicated().sum())"
   ]
  },
  {
   "cell_type": "markdown",
   "metadata": {},
   "source": [
    "<div class=\"alert alert-block alert-warning\">\n",
    "    \n",
    "**Комментарий от ревьюера**\n",
    "\n",
    "Полезно также выполнить проверку, не попадают ли какие-то пользователи в обе группы - по таблице с заказами.\n",
    "\n",
    "</div>"
   ]
  },
  {
   "cell_type": "code",
   "execution_count": null,
   "metadata": {},
   "outputs": [],
   "source": [
    "# приводим в формату дата по столбцам date обоих датафреймов\n",
    "orders['date'] = pd.to_datetime(orders['date'])\n",
    "visitors['date'] = pd.to_datetime(visitors['date'])"
   ]
  },
  {
   "cell_type": "markdown",
   "metadata": {},
   "source": [
    "<div class=\"alert alert-block alert-success\">\n",
    "    \n",
    "**Комментарий от ревьюера**\n",
    "\n",
    "Да, здесь нужно поменять формат даты.\n",
    "</div>"
   ]
  },
  {
   "cell_type": "code",
   "execution_count": null,
   "metadata": {},
   "outputs": [],
   "source": [
    "# создаем массив уникальных пар значений дат и групп теста\n",
    "datesGroups = orders[['date','group']].drop_duplicates()\n",
    "# получаем агрегированные кумулятивные по дням данные о заказах \n",
    "ordersAggregated = datesGroups.apply(lambda x: orders[np.logical_and(orders['date'] <= x['date'], orders['group'] == x['group'])].agg({'date' : 'max', 'group' : 'max', 'transactionId' : 'nunique', 'visitorId' : 'nunique', 'revenue' : 'sum'}), axis=1).sort_values(by=['date','group'])\n",
    "# получаем агрегированные кумулятивные по дням данные о посетителях интернет-магазина \n",
    "visitorsAggregated = datesGroups.apply(lambda x: visitors[np.logical_and(visitors['date'] <= x['date'], visitors['group'] == x['group'])].agg({'date' : 'max', 'group' : 'max', 'visitors' : 'sum'}), axis=1).sort_values(by=['date','group'])\n",
    "# объединяем кумулятивные данные в одной таблице и присваиваем ее столбцам понятные названия\n",
    "cumulativeData = ordersAggregated.merge(visitorsAggregated, left_on=['date', 'group'], right_on=['date', 'group'])\n",
    "cumulativeData.columns = ['date', 'group', 'orders', 'buyers', 'revenue', 'visitors']\n",
    "\n",
    "display(cumulativeData)"
   ]
  },
  {
   "cell_type": "markdown",
   "metadata": {},
   "source": [
    "<div class=\"alert alert-block alert-warning\">\n",
    "\n",
    "**Комментарий от ревьюера**\n",
    "\n",
    "Здесь можно проверить, корректно ли был создан датафрейм cumulativeData. Например, совпадают ли минимальная и максимальная даты в этом датафрейме с минимальной и максимальной датой в исходных данных.\n",
    "\n",
    "</div>"
   ]
  },
  {
   "cell_type": "code",
   "execution_count": null,
   "metadata": {},
   "outputs": [],
   "source": [
    "# строим график кумулятивной выручки по дням и группам\n",
    "\n",
    "# датафрейм с кумулятивным количеством заказов и кумулятивной выручкой по дням в группе А\n",
    "cumulativeRevenueA = cumulativeData[cumulativeData['group']=='A'][['date','revenue', 'orders']]\n",
    "\n",
    "# датафрейм с кумулятивным количеством заказов и кумулятивной выручкой по дням в группе B\n",
    "cumulativeRevenueB = cumulativeData[cumulativeData['group']=='B'][['date','revenue', 'orders']]\n",
    "# оформляем график\n",
    "plt.figure(figsize=(16,6)) #добавил\n",
    "plt.title(\"График кумулятивной выручки по дням и группам\") #добавил\n",
    "plt.xlabel(\"Дата\") #добавил\n",
    "plt.ylabel(\"Выручка\") #добавил\n",
    "plt.grid() #добавил\n",
    "# Строим график выручки группы А\n",
    "plt.plot(cumulativeRevenueA['date'], cumulativeRevenueA['revenue'], label='A')\n",
    "# Строим график выручки группы B\n",
    "plt.plot(cumulativeRevenueB['date'], cumulativeRevenueB['revenue'], label='B')\n",
    "#plt.xticks(rotation=90)\n",
    "plt.legend()\n",
    "plt.show()"
   ]
  },
  {
   "cell_type": "markdown",
   "metadata": {},
   "source": [
    "<div class=\"alert alert-block alert-danger\">\n",
    "    \n",
    "\n",
    "**Комментарий от ревьюера**\n",
    "\n",
    "Стоит немного увеличить размер графика (чтобы для дат было достаточно места), добавить название графика и названия осей. Этот комментарий относится ко всем графикам в проекте. \n",
    "</div>"
   ]
  },
  {
   "cell_type": "markdown",
   "metadata": {},
   "source": [
    "<div class=\"alert alert-info\">\n",
    "Исправляю\n",
    "</div>"
   ]
  },
  {
   "cell_type": "markdown",
   "metadata": {},
   "source": [
    "<div class=\"alert alert-block alert-success\">\n",
    "    \n",
    "**Комментарий от ревьюера 2**\n",
    "\n",
    "Теперь графики оформлены очень аккуратно: есть названия, подписи осей, настроен размер 👍\n",
    "</div>"
   ]
  },
  {
   "cell_type": "markdown",
   "metadata": {},
   "source": [
    "**Вывод:**  \n",
    "Выручка по группе В в середине теста (2019-08-17) резко вырастает и продолжает расти значительно превышая выручку по группе А.  \n",
    "Это может свидетельствовать или о резком росте числа заказов, или об увеличении среднего чека заказов."
   ]
  },
  {
   "cell_type": "markdown",
   "metadata": {},
   "source": [
    "<div class=\"alert alert-block alert-success\">\n",
    "    \n",
    "**Комментарий от ревьюера**\n",
    "\n",
    "Верно, пока мы не знаем, с чем связан скачок в группе B: с резким увеличением количества заказов или с ростом стоимости.\n",
    "</div>"
   ]
  },
  {
   "cell_type": "code",
   "execution_count": null,
   "metadata": {},
   "outputs": [],
   "source": [
    "# построим график кумулятивного среднего чека по группам\n",
    "# оформляем график\n",
    "plt.figure(figsize=(16,6)) #добавил\n",
    "plt.title(\"График кумулятивного среднего чека по группам\") #добавил\n",
    "plt.xlabel(\"Дата\") #добавил\n",
    "plt.ylabel(\"Средний чек\") #добавил\n",
    "plt.grid() #добавил\n",
    "plt.plot(cumulativeRevenueA['date'], cumulativeRevenueA['revenue']/cumulativeRevenueA['orders'], label='A')\n",
    "plt.plot(cumulativeRevenueB['date'], cumulativeRevenueB['revenue']/cumulativeRevenueB['orders'], label='B')\n",
    "#plt.xticks(rotation=90)\n",
    "plt.legend()\n",
    "plt.show()"
   ]
  },
  {
   "cell_type": "markdown",
   "metadata": {},
   "source": [
    "**Вывод:**  \n",
    "Снова виден резкий всплеск 2019-08-17 и затем медленное снижение среднего чека по группе В. Вероятно был крупный заказ на эту дату."
   ]
  },
  {
   "cell_type": "markdown",
   "metadata": {},
   "source": [
    "<div class=\"alert alert-block alert-success\">\n",
    "    \n",
    "**Комментарий от ревьюера**\n",
    "    \n",
    "Видим резкий всплеск на графике, возможно, в середине теста в группу B попали крупные заказы.\n",
    "</div>"
   ]
  },
  {
   "cell_type": "code",
   "execution_count": null,
   "metadata": {},
   "outputs": [],
   "source": [
    "# строим график относительного изменения кумулятивного среднего чека группы B к группе A\n",
    "# собираем данные в одном датафрейме\n",
    "mergedCumulativeRevenue = cumulativeRevenueA.merge(cumulativeRevenueB, left_on='date', right_on='date', how='left', suffixes=['A', 'B'])\n",
    "# оформляем график\n",
    "plt.figure(figsize=(16,6)) #добавил\n",
    "plt.title(\"График относительного изменения кумулятивного среднего чека группы B к группе A\") #добавил\n",
    "plt.xlabel(\"Дата\") #добавил\n",
    "plt.ylabel(\"Отношение среднего чека\") #добавил\n",
    "plt.grid() #добавил\n",
    "# cтроим отношение средних чеков\n",
    "plt.plot(mergedCumulativeRevenue['date'], (mergedCumulativeRevenue['revenueB']/mergedCumulativeRevenue['ordersB'])/(mergedCumulativeRevenue['revenueA']/mergedCumulativeRevenue['ordersA'])-1)\n",
    "# добавляем ось X\n",
    "plt.axhline(y=0, color='black', linestyle='--') \n",
    "#plt.xticks(rotation=90)\n",
    "plt.show()"
   ]
  },
  {
   "cell_type": "markdown",
   "metadata": {},
   "source": [
    "**Вывод:**  \n",
    "Наблюдаются постоянные резкие скачки среднего чека. Вероятно были крупные заказы по группе В."
   ]
  },
  {
   "cell_type": "markdown",
   "metadata": {},
   "source": [
    "<div class=\"alert alert-block alert-success\">\n",
    "    \n",
    "**Комментарий от ревьюера**\n",
    "    \n",
    "Действительно, этот график не стабилизировался.\n",
    "</div>"
   ]
  },
  {
   "cell_type": "code",
   "execution_count": null,
   "metadata": {},
   "outputs": [],
   "source": [
    "# строим график кумулятивного среднего количества заказов на посетителя по группам\n",
    "# датафрейм с кумулятивным средним количеством заказов на посетителя по группе А\n",
    "cumulativeRevenueA = cumulativeData[cumulativeData['group']=='A'][['date','visitors', 'orders']]\n",
    "# датафрейм с кумулятивным средним количеством заказов на посетителя по группе В\n",
    "cumulativeRevenueB = cumulativeData[cumulativeData['group']=='B'][['date','visitors', 'orders']]\n",
    "# оформляем график\n",
    "plt.figure(figsize=(16,6)) #добавил\n",
    "plt.title(\"График кумулятивного среднего количества заказов на посетителя по группам\") #добавил\n",
    "plt.xlabel(\"Дата\") #добавил\n",
    "plt.ylabel(\"Среднее количество заказов на посетителя\") #добавил\n",
    "plt.grid() #добавил\n",
    "# строим график среднего количества заказов по посетителям по группе А\n",
    "plt.plot(cumulativeRevenueA['date'], cumulativeRevenueA['orders']/cumulativeRevenueA['visitors'], label='A')\n",
    "# строим график среднего количества заказов по посетителям по группе В\n",
    "plt.plot(cumulativeRevenueB['date'], cumulativeRevenueB['orders']/cumulativeRevenueB['visitors'], label='B')\n",
    "#plt.xticks(rotation=90)\n",
    "plt.legend()\n",
    "plt.show()"
   ]
  },
  {
   "cell_type": "markdown",
   "metadata": {},
   "source": [
    "**Вывод:**  \n",
    "По группе В среднее количество заказов на посетителей превышает среднее количество заказов по группе А."
   ]
  },
  {
   "cell_type": "markdown",
   "metadata": {},
   "source": [
    "<div class=\"alert alert-block alert-success\">\n",
    "    \n",
    "**Комментарий от ревьюера**\n",
    "    \n",
    "Да, группа В выигрывает на протяжении всего теста.\n",
    "</div>"
   ]
  },
  {
   "cell_type": "code",
   "execution_count": null,
   "metadata": {},
   "outputs": [],
   "source": [
    "# строим график относительного изменения кумулятивного среднего количества заказов на посетителя группы B к группе A\n",
    "# собираем данные в одном датафрейме\n",
    "mergedCumulativeRevenue = cumulativeRevenueA.merge(cumulativeRevenueB, left_on='date', right_on='date', how='left', suffixes=['A', 'B'])\n",
    "# оформляем график\n",
    "plt.figure(figsize=(16,6)) #добавил\n",
    "plt.title(\"График относительного изменения кумулятивного среднего количества заказов на посетителя группы B к группе A\") #добавил\n",
    "plt.xlabel(\"Дата\") #добавил\n",
    "plt.ylabel(\"Отношение среднего количества заказов\") #добавил\n",
    "plt.grid() #добавил\n",
    "# cтроим отношение среднего количества заказов\n",
    "plt.plot(mergedCumulativeRevenue['date'], (mergedCumulativeRevenue['ordersB']/mergedCumulativeRevenue['visitorsB'])/(mergedCumulativeRevenue['ordersA']/mergedCumulativeRevenue['visitorsA'])-1)\n",
    "# добавляем ось X\n",
    "plt.axhline(y=0, color='black', linestyle='--') \n",
    "plt.axhline(y=0.15, color='black', linestyle='--') #добавил\n",
    "#plt.xticks(rotation=90)\n",
    "plt.show()"
   ]
  },
  {
   "cell_type": "markdown",
   "metadata": {},
   "source": [
    "<div class=\"alert alert-block alert-warning\">\n",
    "    \n",
    "**Комментарий от ревьюера**\n",
    "\n",
    "Для удобства на график можно добавить еще одну линию серым цветом на значение 0.15 по оси y, так как около этого значения намечается тенденция к стабилизации.\n",
    "    \n",
    "</div>"
   ]
  },
  {
   "cell_type": "markdown",
   "metadata": {},
   "source": [
    "<div class=\"alert alert-info\">\n",
    "Исправляю\n",
    "</div>"
   ]
  },
  {
   "cell_type": "markdown",
   "metadata": {},
   "source": [
    "<div class=\"alert alert-block alert-success\">\n",
    "    \n",
    "**Комментарий от ревьюера 2**\n",
    "\n",
    "👍\n",
    "</div>"
   ]
  },
  {
   "cell_type": "markdown",
   "metadata": {},
   "source": [
    "**Вывод:**  \n",
    "Резкий всплекск наблюдается 05.08.2019, затем идет плавное снижение. Возможно выброс таким образом влияет на показатели."
   ]
  },
  {
   "cell_type": "code",
   "execution_count": null,
   "metadata": {},
   "outputs": [],
   "source": [
    "# строим точечный график количества заказов по пользователям.\n",
    "# готовим таблицу для исследования по кол-ву заказов\n",
    "ordersByUsers = orders.groupby('visitorId', as_index=False).agg({'transactionId': 'nunique'})\n",
    "# переименовываем столбцы\n",
    "ordersByUsers.columns = ['userId', 'orders']\n",
    "display(ordersByUsers.sort_values(by='orders', ascending=False).head(10))\n",
    "# серия из чисел от 0 до количества наблюдений в ordersByUsers\n",
    "x_values = pd.Series(range(0, len(ordersByUsers)))\n",
    "# оформляем график\n",
    "plt.figure(figsize=(16,6)) #добавил\n",
    "plt.title(\"График количества заказов по пользователям\") #добавил\n",
    "plt.xlabel(\"Количество пользователей\") #добавил\n",
    "plt.ylabel(\"Количество заказов\") #добавил\n",
    "plt.grid() #добавил\n",
    "plt.scatter(x_values, ordersByUsers['orders'])\n",
    "plt.show()"
   ]
  },
  {
   "cell_type": "markdown",
   "metadata": {},
   "source": [
    "**Вывод:**  \n",
    "Пользователей, заказавших 2 и более раза немного."
   ]
  },
  {
   "cell_type": "code",
   "execution_count": null,
   "metadata": {},
   "outputs": [],
   "source": [
    "# посчитаем 95-й и 99-й перцентили количества заказов на пользователя\n",
    "display(np.percentile(ordersByUsers['orders'], [90, 95, 99]))"
   ]
  },
  {
   "cell_type": "markdown",
   "metadata": {},
   "source": [
    "**Вывод:**  \n",
    "Не более 5% посетителей делали 2 заказа, не более 1% делали более 4 заказов."
   ]
  },
  {
   "cell_type": "markdown",
   "metadata": {},
   "source": [
    "<div class=\"alert alert-block alert-danger\">\n",
    "    \n",
    "**Комментарий от ревьюера**\n",
    "\n",
    "Здесь и для следующего вопроса надо добавить, какой перцентиль ты будешь считать границей выбросов.\n",
    "\n",
    "</div>"
   ]
  },
  {
   "cell_type": "markdown",
   "metadata": {},
   "source": [
    "<div class=\"alert alert-info\">\n",
    "Исправляю\n",
    "</div>"
   ]
  },
  {
   "cell_type": "markdown",
   "metadata": {},
   "source": [
    "**Принимаем, что выбросом будет считаться свыше двух заказов.**"
   ]
  },
  {
   "cell_type": "markdown",
   "metadata": {},
   "source": [
    "<div class=\"alert alert-block alert-success\">\n",
    "    \n",
    "**Комментарий от ревьюера 2**\n",
    "    \n",
    "Такое определение выбросов для количества заказов корректно.\n",
    "</div>"
   ]
  },
  {
   "cell_type": "code",
   "execution_count": null,
   "metadata": {},
   "outputs": [],
   "source": [
    "# построим точечный график стоимостей заказов\n",
    "# готовим данные для анализа по стоимости заказа\n",
    "transactionBySumm = orders.groupby('transactionId', as_index=False).agg({'revenue': 'sum'})\n",
    "# переименовываем столбцы\n",
    "transactionBySumm.columns = ['transactionId', 'revenue']\n",
    "display(transactionBySumm.sort_values(by='revenue', ascending=False).head(10))\n",
    "# серия из чисел от 0 до количества наблюдений в ordersByUsers\n",
    "x_values = pd.Series(range(0, len(transactionBySumm)))\n",
    "# оформляем график\n",
    "plt.figure(figsize=(16,6)) #добавил\n",
    "plt.title(\"График стоимостей заказов\") #добавил\n",
    "plt.xlabel(\"Количество пользователей\") #добавил\n",
    "plt.ylabel(\"Стоимость заказов\") #добавил\n",
    "plt.grid() #добавил\n",
    "plt.scatter(x_values, transactionBySumm['revenue'])\n",
    "plt.show()"
   ]
  },
  {
   "cell_type": "markdown",
   "metadata": {},
   "source": [
    "**Вывод:**  \n",
    "Явно просматривается аномалия - покупка на 1294500 и 202740."
   ]
  },
  {
   "cell_type": "markdown",
   "metadata": {},
   "source": [
    "<div class=\"alert alert-block alert-warning\">\n",
    "    \n",
    "**Комментарий от ревьюера**\n",
    "\n",
    "Полезно добавить еще один график, ограничив значения по оси Y. Чтобы двух явных выбросов не было видно, а мы могли рассмотреть основную часть заказов.\n",
    "\n",
    "</div>"
   ]
  },
  {
   "cell_type": "markdown",
   "metadata": {},
   "source": [
    "<div class=\"alert alert-info\">\n",
    "Исправляю\n",
    "</div>"
   ]
  },
  {
   "cell_type": "markdown",
   "metadata": {},
   "source": [
    "<div class=\"alert alert-block alert-success\">\n",
    "    \n",
    "**Комментарий от ревьюера 2**\n",
    "    \n",
    "Удобно, когда можно рассмотреть и выбросы, и основную часть заказов.\n",
    "</div>"
   ]
  },
  {
   "cell_type": "code",
   "execution_count": null,
   "metadata": {},
   "outputs": [],
   "source": [
    "# исключаем выбросы, строим график заказов\n",
    "# готовим данные для анализа по стоимости заказа\n",
    "transactionBySummClear = transactionBySumm[transactionBySumm['revenue'] < 200000]\n",
    "display(transactionBySummClear.sort_values(by='revenue', ascending=False).head(10))\n",
    "# серия из чисел от 0 до количества наблюдений в ordersByUsers\n",
    "x_values = pd.Series(range(0, len(transactionBySummClear)))\n",
    "# оформляем график\n",
    "plt.figure(figsize=(16,6)) #добавил\n",
    "plt.title(\"График стоимостей заказов\") #добавил\n",
    "plt.xlabel(\"Количество пользователей\") #добавил\n",
    "plt.ylabel(\"Стоимость заказов\") #добавил\n",
    "plt.grid() #добавил\n",
    "plt.scatter(x_values, transactionBySummClear['revenue'])\n",
    "plt.show()"
   ]
  },
  {
   "cell_type": "code",
   "execution_count": null,
   "metadata": {},
   "outputs": [],
   "source": [
    "# посчитаем 95-й и 99-й перцентили стоимости заказов\n",
    "display(np.percentile(transactionBySumm['revenue'], [90, 95, 99]))"
   ]
  },
  {
   "cell_type": "markdown",
   "metadata": {},
   "source": [
    "**Вывод:**  \n",
    "Не более чем у 5% посетителей заказы стоят выше 28000 и только у 1% выше 58233."
   ]
  },
  {
   "cell_type": "markdown",
   "metadata": {},
   "source": [
    "<div class=\"alert alert-block alert-danger\">\n",
    "    \n",
    "**Комментарий от ревьюера 2**\n",
    "\n",
    "Здесь тоже надо добавить, какой перцентиль ты будешь считать границей выбросов.\n",
    "\n",
    "</div>"
   ]
  },
  {
   "cell_type": "markdown",
   "metadata": {},
   "source": [
    "<div class=\"alert alert-info\">\n",
    "Исправляю\n",
    "</div>"
   ]
  },
  {
   "cell_type": "markdown",
   "metadata": {},
   "source": [
    "<div class=\"alert alert-block alert-success\">\n",
    "    \n",
    "**Комментарий от ревьюера 3**\n",
    "    \n",
    "Отлично, теперь здесь есть все что нужно.\n",
    "</div>"
   ]
  },
  {
   "cell_type": "markdown",
   "metadata": {},
   "source": [
    "**Принимаем, что заказы выше 28000 считаются выбросом.**"
   ]
  },
  {
   "cell_type": "markdown",
   "metadata": {},
   "source": [
    "<div class=\"alert alert-block alert-success\"> <b>Комментарий от ревьюера:</b> Молодец, что разобрался с аномалиями в данных и корректно освоил расчет кумулятивных метрик.\n",
    "</div>"
   ]
  },
  {
   "cell_type": "markdown",
   "metadata": {},
   "source": [
    "--------------------------------"
   ]
  },
  {
   "cell_type": "markdown",
   "metadata": {},
   "source": [
    "<div class=\"alert alert-block alert-danger\">\n",
    "    \n",
    "**Комментарий от ревьюера**\n",
    "    \n",
    "Чтобы расчеты было проще понять, перед каждым из 4 расчетов надо добавить вступление:\n",
    "\n",
    "* сформулируй нулевую и альтернативную гипотезы;\n",
    "* укажи, какое значение alpha ты будешь использовать, чтобы не искать его в коде;\n",
    "* укажи, какой метод ты используешь для проверки и почему он подходит здесь лучше всего.\n",
    "  \n",
    "</div>"
   ]
  },
  {
   "cell_type": "markdown",
   "metadata": {},
   "source": [
    "~~Проверим нулевую гипотезу: между группами А и В есть статистически значимое различие.  \n",
    "Принимаем значение alpha = 0.05.  \n",
    "Применим метод Уилкоксона-Манна-Уитни для двух выборок с вероятными выбросами.~~"
   ]
  },
  {
   "cell_type": "markdown",
   "metadata": {},
   "source": [
    "<div class=\"alert alert-block alert-danger\">\n",
    "    \n",
    "**Комментарий от ревьюера 2**\n",
    "\n",
    "Во вступления к расчетам надо добавить еще альтернативную гипотезу.\n",
    "    \n",
    "Чтобы в гипотезах была полная информация о каждом расчете, можно сформулировать их примерно так:\n",
    " \n",
    "**Нулевая гипотеза** Статистически значимых различий в ... между группами по ... данным нет.\n",
    "\n",
    "**Альтернативная гипотеза** Статистически значимые различия в ... между группами по ... данным есть.\n",
    "\n",
    "</div>"
   ]
  },
  {
   "cell_type": "markdown",
   "metadata": {},
   "source": [
    "<div class=\"alert alert-info\">\n",
    "Исправляю\n",
    "</div>"
   ]
  },
  {
   "cell_type": "markdown",
   "metadata": {},
   "source": [
    "Проверим **нулевую гипотезу**:  \n",
    "Статистически значимых различий в среднем количестве заказов по посетителям между группами по \"сырым\" данным нет.  \n",
    "и **альтернативную гипотезу**:  \n",
    "Статистически значимые различия в среднем количестве заказов по посетителям между группами по \"сырым\" данным есть.  \n",
    "Принимаем значение alpha = 0.05.  \n",
    "Применим метод Уилкоксона-Манна-Уитни для двух выборок с вероятными выбросами."
   ]
  },
  {
   "cell_type": "markdown",
   "metadata": {},
   "source": [
    "<div class=\"alert alert-block alert-success\">\n",
    "    \n",
    "**Комментарий от ревьюера 3**\n",
    "\n",
    "Хорошо получилось, так сразу понятна суть расчета.\n",
    "</div>"
   ]
  },
  {
   "cell_type": "code",
   "execution_count": null,
   "metadata": {},
   "outputs": [],
   "source": [
    "# посчитаем статистическую значимость различий в среднем количестве заказов на посетителя между группами по «сырым» данным\n",
    "visitorsADaily = visitors[visitors['group'] == 'A'][['date', 'visitors']]\n",
    "visitorsADaily.columns = ['date', 'visitorsPerDateA']\n",
    "\n",
    "visitorsACummulative = visitorsADaily.apply(\n",
    "    lambda x: visitorsADaily[visitorsADaily['date'] <= x['date']].agg(\n",
    "        {'date': 'max', 'visitorsPerDateA': 'sum'}\n",
    "    ),\n",
    "    axis=1,\n",
    ")\n",
    "visitorsACummulative.columns = ['date', 'visitorsCummulativeA']\n",
    "\n",
    "visitorsBDaily = visitors[visitors['group'] == 'B'][['date', 'visitors']]\n",
    "visitorsBDaily.columns = ['date', 'visitorsPerDateB']\n",
    "\n",
    "visitorsBCummulative = visitorsBDaily.apply(\n",
    "    lambda x: visitorsBDaily[visitorsBDaily['date'] <= x['date']].agg(\n",
    "        {'date': 'max', 'visitorsPerDateB': 'sum'}\n",
    "    ),\n",
    "    axis=1,\n",
    ")\n",
    "visitorsBCummulative.columns = ['date', 'visitorsCummulativeB']\n",
    "\n",
    "ordersADaily = (\n",
    "    orders[orders['group'] == 'A'][['date', 'transactionId', 'visitorId', 'revenue']]\n",
    "    .groupby('date', as_index=False)\n",
    "    .agg({'transactionId': pd.Series.nunique, 'revenue': 'sum'})\n",
    ")\n",
    "ordersADaily.columns = ['date', 'ordersPerDateA', 'revenuePerDateA']\n",
    "\n",
    "ordersACummulative = ordersADaily.apply(\n",
    "    lambda x: ordersADaily[ordersADaily['date'] <= x['date']].agg(\n",
    "        {'date': 'max', 'ordersPerDateA': 'sum', 'revenuePerDateA': 'sum'}\n",
    "    ),\n",
    "    axis=1,\n",
    ").sort_values(by=['date'])\n",
    "ordersACummulative.columns = [\n",
    "    'date',\n",
    "    'ordersCummulativeA',\n",
    "    'revenueCummulativeA',\n",
    "]\n",
    "\n",
    "ordersBDaily = (\n",
    "    orders[orders['group'] == 'B'][['date', 'transactionId', 'visitorId', 'revenue']]\n",
    "    .groupby('date', as_index=False)\n",
    "    .agg({'transactionId': pd.Series.nunique, 'revenue': 'sum'})\n",
    ")\n",
    "ordersBDaily.columns = ['date', 'ordersPerDateB', 'revenuePerDateB']\n",
    "\n",
    "ordersBCummulative = ordersBDaily.apply(\n",
    "    lambda x: ordersBDaily[ordersBDaily['date'] <= x['date']].agg(\n",
    "        {'date': 'max', 'ordersPerDateB': 'sum', 'revenuePerDateB': 'sum'}\n",
    "    ),\n",
    "    axis=1,\n",
    ").sort_values(by=['date'])\n",
    "ordersBCummulative.columns = [\n",
    "    'date',\n",
    "    'ordersCummulativeB',\n",
    "    'revenueCummulativeB',\n",
    "]\n",
    "\n",
    "data = (\n",
    "    ordersADaily.merge(\n",
    "        ordersBDaily, left_on='date', right_on='date', how='left'\n",
    "    )\n",
    "    .merge(ordersACummulative, left_on='date', right_on='date', how='left')\n",
    "    .merge(ordersBCummulative, left_on='date', right_on='date', how='left')\n",
    "    .merge(visitorsADaily, left_on='date', right_on='date', how='left')\n",
    "    .merge(visitorsBDaily, left_on='date', right_on='date', how='left')\n",
    "    .merge(visitorsACummulative, left_on='date', right_on='date', how='left')\n",
    "    .merge(visitorsBCummulative, left_on='date', right_on='date', how='left')\n",
    ")\n",
    "\n",
    "#print(data.head(5))\n",
    "\n",
    "ordersByUsersA = (\n",
    "    orders[orders['group'] == 'A']\n",
    "    .groupby('visitorId', as_index=False)\n",
    "    .agg({'transactionId': pd.Series.nunique})\n",
    ")\n",
    "ordersByUsersA.columns = ['visitorId', 'orders']\n",
    "\n",
    "ordersByUsersB = (\n",
    "    orders[orders['group'] == 'B']\n",
    "    .groupby('visitorId', as_index=False)\n",
    "    .agg({'transactionId': pd.Series.nunique})\n",
    ")\n",
    "ordersByUsersB.columns = ['visitorId', 'orders'] \n",
    "\n",
    "sampleA = pd.concat([ordersByUsersA['orders'],pd.Series(0, index=np.arange(data['visitorsPerDateA'].sum() - len(ordersByUsersA['orders'])), name='orders')],axis=0)\n",
    "\n",
    "sampleB = pd.concat([ordersByUsersB['orders'],pd.Series(0, index=np.arange(data['visitorsPerDateB'].sum() - len(ordersByUsersB['orders'])), name='orders')],axis=0)\n",
    "\n",
    "print('p-value =','{0:.5f}'.format(stats.mannwhitneyu(sampleA, sampleB)[1]))\n",
    "print('Относительное различие между группами В и А =', '{0:.3f}'.format(sampleB.mean()/sampleA.mean()-1)) "
   ]
  },
  {
   "cell_type": "markdown",
   "metadata": {},
   "source": [
    "<div class=\"alert alert-block alert-warning\">\n",
    "    \n",
    "**Комментарий от ревьюера**\n",
    "\n",
    "Этот код можно сократить: нам не нужно собирать кумулятивные данные для проверки гипотез, потому что это уже сделано выше.\n",
    "\n",
    "</div>"
   ]
  },
  {
   "cell_type": "markdown",
   "metadata": {},
   "source": [
    "**Вывод:**  \n",
    "p-value = 0.01679 - это меньше 0.05, поэтому нулевую гипотезу отвергаем. Анализ \"сырых\" данных показывает, что в среднем количестве заказов между группами есть статистически значимые различия.  \n",
    "Относительный прирост среднего группы В к группе А составляет 13,8%."
   ]
  },
  {
   "cell_type": "markdown",
   "metadata": {},
   "source": [
    "<div class=\"alert alert-block alert-success\">\n",
    "    \n",
    "**Комментарий от ревьюера**\n",
    "\n",
    "Верно, отвергаем нулевую гипотезу: между группами есть статистически значимое различие.\n",
    "</div>"
   ]
  },
  {
   "cell_type": "markdown",
   "metadata": {},
   "source": [
    "~~Проверим нулевую гипотезу: между группами А и В нет статистически значимых различий.  \n",
    "Принимаем значение alpha = 0.05.  \n",
    "Применим метод Уилкоксона-Манна-Уитни для двух выборок с вероятными выбросами.~~"
   ]
  },
  {
   "cell_type": "markdown",
   "metadata": {},
   "source": [
    "Проверим **нулевую гипотезу**:  \n",
    "Статистически значимых различий в среднем чеке заказа по посетителям между группами по \"сырым\" данным нет.  \n",
    "и **альтернативную гипотезу**:  \n",
    "Статистически значимые различия в среднем чеке заказа по посетителям между группами по \"сырым\" данным есть.  \n",
    "Принимаем значение alpha = 0.05.  \n",
    "Применим метод Уилкоксона-Манна-Уитни для двух выборок с вероятными выбросами."
   ]
  },
  {
   "cell_type": "code",
   "execution_count": null,
   "metadata": {},
   "outputs": [],
   "source": [
    "# посчитаем статистическую значимость различий в среднем чеке заказа между группами по «сырым» данным\n",
    "print('p-value =','{0:.3f}'.format(stats.mannwhitneyu(orders[orders['group']=='A']['revenue'], orders[orders['group']=='B']['revenue'])[1]))\n",
    "print('Относительное различие между группами В и А =','{0:.3f}'.format(orders[orders['group']=='B']['revenue'].mean()/orders[orders['group']=='A']['revenue'].mean()-1)) \n"
   ]
  },
  {
   "cell_type": "markdown",
   "metadata": {},
   "source": [
    "<div class=\"alert alert-block alert-warning\">\n",
    "    \n",
    "**Комментарий от ревьюера**\n",
    "\n",
    "Будет удобно, если ты добавишь названия обоих выводимых чисел для всех расчетов. Так их нельзя будет перепутать.\n",
    "\n",
    "</div>"
   ]
  },
  {
   "cell_type": "markdown",
   "metadata": {},
   "source": [
    "<div class=\"alert alert-block alert-success\">\n",
    "    \n",
    "**Комментарий от ревьюера 2**\n",
    "\n",
    "Когда числа подписаны, вывод сделать проще.\n",
    "</div>"
   ]
  },
  {
   "cell_type": "markdown",
   "metadata": {},
   "source": [
    "**Вывод:**  \n",
    "p-value = 0.729 - это больше 0.05, нулевую гипотезу не отвергаем. Статистически значимых отличий в среднем чеке между группами нет.  \n",
    "Относительное различие между группами составляет 25,9%."
   ]
  },
  {
   "cell_type": "markdown",
   "metadata": {},
   "source": [
    "<div class=\"alert alert-block alert-success\">\n",
    "    \n",
    "**Комментарий от ревьюера**\n",
    "\n",
    "Да, по этому показателю между группами нет статистически значимых различий.\n",
    "</div>"
   ]
  },
  {
   "cell_type": "markdown",
   "metadata": {},
   "source": [
    "~~Проверим нулевую гипотезу: между группами А и В нет статистически значимых различий.  \n",
    "Принимаем значение alpha = 0.05.  \n",
    "Применим метод Уилкоксона-Манна-Уитни для двух выборок с вероятными выбросами.~~"
   ]
  },
  {
   "cell_type": "markdown",
   "metadata": {},
   "source": [
    "Проверим **нулевую гипотезу**:  \n",
    "Статистически значимых различий в среднем количестве заказов на посетителя между группами по \"очищенным\" данным нет.  \n",
    "и **альтернативную гипотезу**:  \n",
    "Статистически значимые различия в среднем количестве заказов на посетителя между группами по \"очищенным\" данным есть.  \n",
    "Принимаем значение alpha = 0.05.  \n",
    "Применим метод Уилкоксона-Манна-Уитни для двух выборок с вероятными выбросами."
   ]
  },
  {
   "cell_type": "code",
   "execution_count": null,
   "metadata": {},
   "outputs": [],
   "source": [
    "#зададим предельные кол-во заказов и сумму покупки для формирования списка аномальных пользователей\n",
    "limit_orders = np.percentile(ordersByUsers['orders'], 95) # принимаем границу выбросов по количеству заказов\n",
    "limit_revenue = np.percentile(transactionBySumm['revenue'], 95) # примимаем границу выбросов по сумме заказов"
   ]
  },
  {
   "cell_type": "code",
   "execution_count": null,
   "metadata": {},
   "outputs": [],
   "source": [
    "# посчитаем статистическую значимость различий в среднем количестве заказов на посетителя между группами по «очищенным» данным\n",
    "\n",
    "usersWithManyOrders = pd.concat(\n",
    "    [\n",
    "        ordersByUsersA[ordersByUsersA['orders'] > limit_orders]['visitorId'],\n",
    "        ordersByUsersB[ordersByUsersB['orders'] > limit_orders]['visitorId'],\n",
    "    ],\n",
    "    axis=0,\n",
    ")\n",
    "usersWithExpensiveOrders = orders[orders['revenue'] > limit_revenue]['visitorId']\n",
    "abnormalUsers = (\n",
    "    pd.concat([usersWithManyOrders, usersWithExpensiveOrders], axis=0)\n",
    "    .drop_duplicates()\n",
    "    .sort_values()\n",
    ")\n",
    "#4\n",
    "sampleAFiltered = pd.concat(\n",
    "    [\n",
    "        ordersByUsersA[\n",
    "            np.logical_not(ordersByUsersA['visitorId'].isin(abnormalUsers))\n",
    "        ]['orders'],\n",
    "        pd.Series(\n",
    "            0,\n",
    "            index=np.arange(\n",
    "                data['visitorsPerDateA'].sum() - len(ordersByUsersA['orders'])\n",
    "            ),\n",
    "            name='orders',\n",
    "        ),\n",
    "    ],\n",
    "    axis=0,\n",
    ")\n",
    "\n",
    "sampleBFiltered = pd.concat(\n",
    "    [\n",
    "        ordersByUsersB[\n",
    "            np.logical_not(ordersByUsersB['visitorId'].isin(abnormalUsers))\n",
    "        ]['orders'],\n",
    "        pd.Series(\n",
    "            0,\n",
    "            index=np.arange(\n",
    "                data['visitorsPerDateB'].sum() - len(ordersByUsersB['orders'])\n",
    "            ),\n",
    "            name='orders',\n",
    "        ),\n",
    "    ],\n",
    "    axis=0,\n",
    ")\n",
    "\n",
    "print('p-value =','{0:.5f}'.format(stats.mannwhitneyu(sampleAFiltered, sampleBFiltered)[1]))\n",
    "print('Относительное различие между группами В и А =','{0:.3f}'.format(sampleBFiltered.mean()/sampleAFiltered.mean()-1))"
   ]
  },
  {
   "cell_type": "markdown",
   "metadata": {},
   "source": [
    "<div class=\"alert alert-block alert-danger\">\n",
    "    \n",
    "**Комментарий от ревьюера**\n",
    "\n",
    "Лучше избегать ручного ввода значений при фильтрации: можно использовать непосредственно результат расчета выбранного перцентиля. \n",
    "    \n",
    "Для этого вписанные вручную числа надо заменить на такие же расчеты, как ты использовал для границы определения аномальных заказов, только там ты указываешь список перцентилей, а здесь нам нужен один.\n",
    "    \n",
    "Кроме того выбор границы выбросов в 200 000 получается не совсем удобным. Если сейчас тебя спросят, по какому перцентилю ты провел границу выбросов, ты не сможешь точно ответить. Лучше определять выбросы по тому перцентилю, показатели по которому были рассчитаны. Или рассчитать перцентиль для того количества заказов, которое ты выбираешь как границу выбросов.\n",
    "\n",
    "</div>"
   ]
  },
  {
   "cell_type": "markdown",
   "metadata": {},
   "source": [
    "<div class=\"alert alert-info\">\n",
    "Не понимаю каким образом это реализовать, добавляю переменные.\n",
    "</div>"
   ]
  },
  {
   "cell_type": "markdown",
   "metadata": {},
   "source": [
    "<div class=\"alert alert-block alert-danger\">\n",
    "    \n",
    "**Комментарий от ревьюера 2**\n",
    "\n",
    "Здесь суть в том, чтобы не менять вписанные вручную числа, если поменяются данные. Например, вместо числа 2 можно добавить автоматический расчет перцентиля так:\n",
    "    \n",
    "    np.percentile(ordersByUsers['orders'], 95)\n",
    "</div>"
   ]
  },
  {
   "cell_type": "markdown",
   "metadata": {},
   "source": [
    "<div class=\"alert alert-block alert-success\">\n",
    "    \n",
    "**Комментарий от ревьюера 3**\n",
    "\n",
    "Теперь все правильно, супер.\n",
    "</div>"
   ]
  },
  {
   "cell_type": "markdown",
   "metadata": {},
   "source": [
    "---------------------------"
   ]
  },
  {
   "cell_type": "markdown",
   "metadata": {},
   "source": [
    "~~**Вывод:**  \n",
    "Как и в случае с \"сырыми\" данными, статистическая значимость достигнута.  \n",
    "Группа В превышает А на 16,6%.~~"
   ]
  },
  {
   "cell_type": "markdown",
   "metadata": {},
   "source": [
    "<div class=\"alert alert-block alert-danger\">\n",
    "    \n",
    "**Комментарий от ревьюера**\n",
    "\n",
    "Здесь и для следующего вопроса надо добавить в вывод, можем ли мы отвергнуть нулевую гипотезу.\n",
    "\n",
    "</div>"
   ]
  },
  {
   "cell_type": "markdown",
   "metadata": {},
   "source": [
    "<div class=\"alert alert-block alert-danger\">\n",
    "    \n",
    "**Комментарий от ревьюера 2**\n",
    "\n",
    "В вывод все еще надо добавить, можем ли мы отвергнуть нулевую гипотезу.\n",
    "\n",
    "</div>"
   ]
  },
  {
   "cell_type": "markdown",
   "metadata": {},
   "source": [
    "<div class=\"alert alert-info\">\n",
    "Исправляю\n",
    "</div>"
   ]
  },
  {
   "cell_type": "markdown",
   "metadata": {},
   "source": [
    "p-value = 0.01304 - это меньше 0.05, поэтому нулевую гипотезу отвергаем. Анализ \"очищенных\" данных показывает, что в среднем количестве заказов на посетителя между группами есть статистически значимые различия.\n",
    "Относительный прирост среднего группы В к группе А составляет 17,3%."
   ]
  },
  {
   "cell_type": "markdown",
   "metadata": {},
   "source": [
    "~~Проверим нулевую гипотезу: между группами А и В нет статистически значимых различий.  \n",
    "Принимаем значение alpha = 0.05.  \n",
    "Применим метод Уилкоксона-Манна-Уитни для двух выборок с вероятными выбросами.~~"
   ]
  },
  {
   "cell_type": "markdown",
   "metadata": {},
   "source": [
    "Проверим **нулевую гипотезу**:  \n",
    "Статистически значимых различий в среднем чеке заказа между группами по \"очищенным\" данным нет.  \n",
    "и **альтернативную гипотезу**:  \n",
    "Статистически значимые различия в среднем чеке заказа между группами по \"очищенным\" данным есть.  \n",
    "Принимаем значение alpha = 0.05.  \n",
    "Применим метод Уилкоксона-Манна-Уитни для двух выборок с вероятными выбросами."
   ]
  },
  {
   "cell_type": "code",
   "execution_count": null,
   "metadata": {},
   "outputs": [],
   "source": [
    "# посчитаем статистическую значимость различий в среднем чеке заказа между группами по «очищенным» данным. \n",
    "print('p-value =',\n",
    "    '{0:.3f}'.format(\n",
    "        stats.mannwhitneyu(\n",
    "            orders[\n",
    "                np.logical_and(\n",
    "                    orders['group'] == 'A',\n",
    "                    np.logical_not(orders['visitorId'].isin(abnormalUsers)),\n",
    "                )\n",
    "            ]['revenue'],\n",
    "            orders[\n",
    "                np.logical_and(\n",
    "                    orders['group'] == 'B',\n",
    "                    np.logical_not(orders['visitorId'].isin(abnormalUsers)),\n",
    "                )\n",
    "            ]['revenue'],\n",
    "        )[1]\n",
    "    )\n",
    ")\n",
    "\n",
    "print('Относительное различие между группами В и А ='\n",
    "    \"{0:.3f}\".format(\n",
    "        orders[\n",
    "            np.logical_and(\n",
    "                orders['group'] == 'B',\n",
    "                np.logical_not(orders['visitorId'].isin(abnormalUsers)),\n",
    "            )\n",
    "        ]['revenue'].mean()\n",
    "        / orders[\n",
    "            np.logical_and(\n",
    "                orders['group'] == 'A',\n",
    "                np.logical_not(orders['visitorId'].isin(abnormalUsers)),\n",
    "            )\n",
    "        ]['revenue'].mean()\n",
    "        - 1\n",
    "    )\n",
    ")"
   ]
  },
  {
   "cell_type": "markdown",
   "metadata": {},
   "source": [
    "**Вывод:**  \n",
    "После исключения выбросов p-value уменьшился и разница между средними чеками по группам сократилась до 2%."
   ]
  },
  {
   "cell_type": "markdown",
   "metadata": {},
   "source": [
    "p-value = 0.738 - это больше 0.05, нулевую гипотезу не отвергаем. Статистически значимых отличий в среднем чеке между группами нет.\n",
    "Относительное различие между группами В и А составляет -2 %."
   ]
  },
  {
   "cell_type": "markdown",
   "metadata": {},
   "source": [
    "<div class=\"alert alert-block alert-success\">\n",
    "    \n",
    "**Комментарий от ревьюера**\n",
    "\n",
    "Да, скорее всего на разницу повлияли выбросы.\n",
    "</div>"
   ]
  },
  {
   "cell_type": "markdown",
   "metadata": {},
   "source": [
    "**ОБЩИЙ ВЫВОД:**  \n",
    "1. Нет статистически значимого различия по среднему количеству заказов между группами ни по «сырым», ни по данным после фильтрации аномалий;\n",
    "2. Есть статистически значимое различие по среднему чеку между группами по «сырым» и по данным после фильтрации аномалий;\n",
    "3. График различия среднего количества заказов между группами сообщает, что результаты группы B лучше группы A и нет значительной тенденции к улучшению:\n",
    "4. График различия среднего чека колеблется: он-то и позволил найти аномалии. Сделать из этого графика определённые выводы нельзя.  \n",
    "Исходя из обнаруженных фактов, тест следует остановить и признать его успешным. Победителем стоит признать группу В, в которой среднее количество заказов значительно выше, чем в группе А."
   ]
  },
  {
   "cell_type": "markdown",
   "metadata": {},
   "source": [
    "<div class=\"alert alert-block alert-success\">\n",
    "    \n",
    "**Комментарий от ревьюера**\n",
    "    \n",
    "Верно, данных для принятия решения у нас уже достаточно. \n",
    "</div>"
   ]
  },
  {
   "cell_type": "markdown",
   "metadata": {},
   "source": [
    "<div class=\"alert alert-block alert-info\">\n",
    "\n",
    "<b>Итоговый комментарий ревьюера:</b>\n",
    "\n",
    "Благодарю тебя за выполнение проекта. Вижу ты постарался, когда работал над ним. Однако, в проекте есть несколько замечаний, которые надо исправить:\n",
    "\n",
    "* добавить проверку на дубликаты;\n",
    "* дополнить оформление графиков;\n",
    "* выбрать границу выбросов в разделе с точечными графиками;\n",
    "* оформить статистические расчеты;\n",
    "* не использовать ручной ввод при фильтрации.\n",
    "       \n",
    "Жду проект после доработки. Уверена, ты справишься. 💪\n",
    "</div>"
   ]
  },
  {
   "cell_type": "markdown",
   "metadata": {},
   "source": [
    "<div class=\"alert alert-block alert-info\">\n",
    "\n",
    "<b>Итоговый комментарий ревьюера 2:</b>\n",
    "\n",
    "Замечания, которые осталось исправить:\n",
    "\n",
    "* выбрать границу выбросов в разделе с точечными графиками;\n",
    "* оформить статистические расчеты;\n",
    "* не использовать ручной ввод при фильтрации.\n",
    "       \n",
    "</div>"
   ]
  },
  {
   "cell_type": "markdown",
   "metadata": {},
   "source": [
    "<div class=\"alert alert-info\">\n",
    "Кажется ничего не забыл\n",
    "</div>"
   ]
  }
 ],
 "metadata": {
  "ExecuteTimeLog": [
   {
    "duration": 359,
    "start_time": "2023-05-07T20:30:11.691Z"
   },
   {
    "duration": 81,
    "start_time": "2023-05-07T20:31:19.297Z"
   },
   {
    "duration": 16,
    "start_time": "2023-05-07T20:31:30.771Z"
   },
   {
    "duration": 7,
    "start_time": "2023-05-07T20:31:54.706Z"
   },
   {
    "duration": 63,
    "start_time": "2023-05-07T20:40:40.171Z"
   },
   {
    "duration": 7,
    "start_time": "2023-05-07T20:41:01.833Z"
   },
   {
    "duration": 6,
    "start_time": "2023-05-07T20:54:40.765Z"
   },
   {
    "duration": 9,
    "start_time": "2023-05-07T20:57:23.714Z"
   },
   {
    "duration": 7,
    "start_time": "2023-05-07T20:57:36.627Z"
   },
   {
    "duration": 12,
    "start_time": "2023-05-07T20:57:48.255Z"
   },
   {
    "duration": 6,
    "start_time": "2023-05-07T20:58:36.888Z"
   },
   {
    "duration": 9,
    "start_time": "2023-05-07T20:58:57.186Z"
   },
   {
    "duration": 9,
    "start_time": "2023-05-07T21:09:02.956Z"
   },
   {
    "duration": 9,
    "start_time": "2023-05-07T21:09:17.035Z"
   },
   {
    "duration": 4,
    "start_time": "2023-05-08T20:03:22.775Z"
   },
   {
    "duration": 53,
    "start_time": "2023-05-08T20:04:41.792Z"
   },
   {
    "duration": 446,
    "start_time": "2023-05-08T20:04:53.818Z"
   },
   {
    "duration": 85,
    "start_time": "2023-05-08T20:04:54.266Z"
   },
   {
    "duration": 15,
    "start_time": "2023-05-08T20:04:54.355Z"
   },
   {
    "duration": 17,
    "start_time": "2023-05-08T20:04:54.372Z"
   },
   {
    "duration": 14,
    "start_time": "2023-05-08T20:04:54.391Z"
   },
   {
    "duration": 173,
    "start_time": "2023-05-08T20:04:54.406Z"
   },
   {
    "duration": 3,
    "start_time": "2023-05-08T20:05:24.078Z"
   },
   {
    "duration": 26,
    "start_time": "2023-05-08T20:05:56.796Z"
   },
   {
    "duration": 19,
    "start_time": "2023-05-08T20:07:14.854Z"
   },
   {
    "duration": 23,
    "start_time": "2023-05-08T20:07:27.433Z"
   },
   {
    "duration": 17,
    "start_time": "2023-05-08T20:08:27.091Z"
   },
   {
    "duration": 6,
    "start_time": "2023-05-08T20:14:47.466Z"
   },
   {
    "duration": 16,
    "start_time": "2023-05-08T20:15:05.385Z"
   },
   {
    "duration": 21,
    "start_time": "2023-05-08T20:15:15.866Z"
   },
   {
    "duration": 21,
    "start_time": "2023-05-08T20:15:59.947Z"
   },
   {
    "duration": 6,
    "start_time": "2023-05-08T20:16:23.120Z"
   },
   {
    "duration": 492,
    "start_time": "2023-05-08T20:28:16.277Z"
   },
   {
    "duration": 740,
    "start_time": "2023-05-08T20:28:24.473Z"
   },
   {
    "duration": 30,
    "start_time": "2023-05-08T20:28:25.226Z"
   },
   {
    "duration": 13,
    "start_time": "2023-05-08T20:28:25.258Z"
   },
   {
    "duration": 15,
    "start_time": "2023-05-08T20:28:25.274Z"
   },
   {
    "duration": 15,
    "start_time": "2023-05-08T20:28:25.291Z"
   },
   {
    "duration": 58,
    "start_time": "2023-05-08T20:28:25.308Z"
   },
   {
    "duration": 22,
    "start_time": "2023-05-08T20:28:25.368Z"
   },
   {
    "duration": 18,
    "start_time": "2023-05-08T20:28:25.393Z"
   },
   {
    "duration": 9,
    "start_time": "2023-05-08T20:28:25.413Z"
   },
   {
    "duration": 11,
    "start_time": "2023-05-08T20:29:02.558Z"
   },
   {
    "duration": 718,
    "start_time": "2023-05-08T20:29:09.638Z"
   },
   {
    "duration": 28,
    "start_time": "2023-05-08T20:29:10.358Z"
   },
   {
    "duration": 13,
    "start_time": "2023-05-08T20:29:10.388Z"
   },
   {
    "duration": 40,
    "start_time": "2023-05-08T20:29:10.403Z"
   },
   {
    "duration": 11,
    "start_time": "2023-05-08T20:29:10.445Z"
   },
   {
    "duration": 70,
    "start_time": "2023-05-08T20:29:10.458Z"
   },
   {
    "duration": 26,
    "start_time": "2023-05-08T20:29:10.531Z"
   },
   {
    "duration": 18,
    "start_time": "2023-05-08T20:29:10.559Z"
   },
   {
    "duration": 6,
    "start_time": "2023-05-08T20:29:10.579Z"
   },
   {
    "duration": 6,
    "start_time": "2023-05-08T20:30:36.468Z"
   },
   {
    "duration": 11,
    "start_time": "2023-05-08T20:31:00.746Z"
   },
   {
    "duration": 122,
    "start_time": "2023-05-08T20:36:20.498Z"
   },
   {
    "duration": 212,
    "start_time": "2023-05-08T20:46:10.809Z"
   },
   {
    "duration": 202,
    "start_time": "2023-05-08T20:46:30.271Z"
   },
   {
    "duration": 387,
    "start_time": "2023-05-08T20:54:46.913Z"
   },
   {
    "duration": 300,
    "start_time": "2023-05-08T20:57:41.426Z"
   },
   {
    "duration": 326,
    "start_time": "2023-05-08T20:58:03.323Z"
   },
   {
    "duration": 344,
    "start_time": "2023-05-08T21:01:13.359Z"
   },
   {
    "duration": 172,
    "start_time": "2023-05-08T21:03:04.564Z"
   },
   {
    "duration": 365,
    "start_time": "2023-05-08T21:04:10.036Z"
   },
   {
    "duration": 439,
    "start_time": "2023-05-08T21:04:27.082Z"
   },
   {
    "duration": 255,
    "start_time": "2023-05-08T21:04:41.114Z"
   },
   {
    "duration": 206,
    "start_time": "2023-05-08T21:05:35.493Z"
   },
   {
    "duration": 263,
    "start_time": "2023-05-08T21:05:52.300Z"
   },
   {
    "duration": 210,
    "start_time": "2023-05-08T21:06:26.290Z"
   },
   {
    "duration": 306,
    "start_time": "2023-05-08T21:06:45.101Z"
   },
   {
    "duration": 293,
    "start_time": "2023-05-08T21:07:53.350Z"
   },
   {
    "duration": 203,
    "start_time": "2023-05-08T21:08:10.821Z"
   },
   {
    "duration": 218,
    "start_time": "2023-05-08T21:17:49.505Z"
   },
   {
    "duration": 270,
    "start_time": "2023-05-08T21:18:12.782Z"
   },
   {
    "duration": 206,
    "start_time": "2023-05-08T21:23:24.748Z"
   },
   {
    "duration": 179,
    "start_time": "2023-05-08T21:23:34.652Z"
   },
   {
    "duration": 165,
    "start_time": "2023-05-08T21:33:55.646Z"
   },
   {
    "duration": 319,
    "start_time": "2023-05-08T21:42:53.208Z"
   },
   {
    "duration": 784,
    "start_time": "2023-05-10T20:14:19.726Z"
   },
   {
    "duration": 29,
    "start_time": "2023-05-10T20:14:20.512Z"
   },
   {
    "duration": 16,
    "start_time": "2023-05-10T20:14:20.543Z"
   },
   {
    "duration": 31,
    "start_time": "2023-05-10T20:14:20.562Z"
   },
   {
    "duration": 22,
    "start_time": "2023-05-10T20:14:20.595Z"
   },
   {
    "duration": 70,
    "start_time": "2023-05-10T20:14:20.618Z"
   },
   {
    "duration": 21,
    "start_time": "2023-05-10T20:14:20.690Z"
   },
   {
    "duration": 52,
    "start_time": "2023-05-10T20:14:20.713Z"
   },
   {
    "duration": 21,
    "start_time": "2023-05-10T20:14:20.767Z"
   },
   {
    "duration": 330,
    "start_time": "2023-05-10T20:14:20.790Z"
   },
   {
    "duration": 314,
    "start_time": "2023-05-10T20:14:21.122Z"
   },
   {
    "duration": 224,
    "start_time": "2023-05-10T20:14:21.439Z"
   },
   {
    "duration": 307,
    "start_time": "2023-05-10T20:14:21.665Z"
   },
   {
    "duration": 3,
    "start_time": "2023-05-10T20:14:21.974Z"
   },
   {
    "duration": 274,
    "start_time": "2023-05-10T20:18:31.830Z"
   },
   {
    "duration": 1455,
    "start_time": "2023-05-10T20:28:58.214Z"
   },
   {
    "duration": 202,
    "start_time": "2023-05-10T20:31:27.969Z"
   },
   {
    "duration": 267,
    "start_time": "2023-05-10T20:43:24.570Z"
   },
   {
    "duration": 9,
    "start_time": "2023-05-10T21:06:28.269Z"
   },
   {
    "duration": 85,
    "start_time": "2023-05-10T21:08:13.194Z"
   },
   {
    "duration": 98,
    "start_time": "2023-05-10T21:08:55.402Z"
   },
   {
    "duration": 155,
    "start_time": "2023-05-10T21:09:14.402Z"
   },
   {
    "duration": 136,
    "start_time": "2023-05-10T21:09:32.659Z"
   },
   {
    "duration": 14,
    "start_time": "2023-05-10T21:16:25.940Z"
   },
   {
    "duration": 145,
    "start_time": "2023-05-10T21:25:21.578Z"
   },
   {
    "duration": 5,
    "start_time": "2023-05-10T21:29:23.545Z"
   },
   {
    "duration": 828,
    "start_time": "2023-05-11T20:07:44.550Z"
   },
   {
    "duration": 55,
    "start_time": "2023-05-11T20:07:45.380Z"
   },
   {
    "duration": 10,
    "start_time": "2023-05-11T20:07:45.437Z"
   },
   {
    "duration": 10,
    "start_time": "2023-05-11T20:07:45.449Z"
   },
   {
    "duration": 9,
    "start_time": "2023-05-11T20:07:45.461Z"
   },
   {
    "duration": 128,
    "start_time": "2023-05-11T20:07:45.472Z"
   },
   {
    "duration": 31,
    "start_time": "2023-05-11T20:07:45.601Z"
   },
   {
    "duration": 15,
    "start_time": "2023-05-11T20:07:45.634Z"
   },
   {
    "duration": 5,
    "start_time": "2023-05-11T20:07:45.651Z"
   },
   {
    "duration": 329,
    "start_time": "2023-05-11T20:07:45.658Z"
   },
   {
    "duration": 269,
    "start_time": "2023-05-11T20:07:45.989Z"
   },
   {
    "duration": 197,
    "start_time": "2023-05-11T20:07:46.259Z"
   },
   {
    "duration": 325,
    "start_time": "2023-05-11T20:07:46.457Z"
   },
   {
    "duration": 231,
    "start_time": "2023-05-11T20:07:46.784Z"
   },
   {
    "duration": 273,
    "start_time": "2023-05-11T20:07:47.016Z"
   },
   {
    "duration": 123,
    "start_time": "2023-05-11T20:07:47.292Z"
   },
   {
    "duration": 4,
    "start_time": "2023-05-11T20:07:47.417Z"
   },
   {
    "duration": 156,
    "start_time": "2023-05-11T20:07:47.423Z"
   },
   {
    "duration": 4,
    "start_time": "2023-05-11T20:07:47.581Z"
   },
   {
    "duration": 24,
    "start_time": "2023-05-11T20:55:41.377Z"
   },
   {
    "duration": 202,
    "start_time": "2023-05-11T21:00:55.290Z"
   },
   {
    "duration": 131,
    "start_time": "2023-05-11T21:02:07.152Z"
   },
   {
    "duration": 117,
    "start_time": "2023-05-11T21:03:15.675Z"
   },
   {
    "duration": 414,
    "start_time": "2023-05-11T21:03:43.558Z"
   },
   {
    "duration": 515,
    "start_time": "2023-05-11T21:04:39.848Z"
   },
   {
    "duration": 1262,
    "start_time": "2023-05-11T21:04:47.527Z"
   },
   {
    "duration": 22,
    "start_time": "2023-05-11T21:04:48.791Z"
   },
   {
    "duration": 18,
    "start_time": "2023-05-11T21:04:48.816Z"
   },
   {
    "duration": 19,
    "start_time": "2023-05-11T21:04:48.836Z"
   },
   {
    "duration": 16,
    "start_time": "2023-05-11T21:04:48.857Z"
   },
   {
    "duration": 39,
    "start_time": "2023-05-11T21:04:48.875Z"
   },
   {
    "duration": 33,
    "start_time": "2023-05-11T21:04:48.916Z"
   },
   {
    "duration": 22,
    "start_time": "2023-05-11T21:04:48.952Z"
   },
   {
    "duration": 29,
    "start_time": "2023-05-11T21:04:48.977Z"
   },
   {
    "duration": 399,
    "start_time": "2023-05-11T21:04:49.009Z"
   },
   {
    "duration": 358,
    "start_time": "2023-05-11T21:04:49.411Z"
   },
   {
    "duration": 254,
    "start_time": "2023-05-11T21:04:49.771Z"
   },
   {
    "duration": 310,
    "start_time": "2023-05-11T21:04:50.028Z"
   },
   {
    "duration": 217,
    "start_time": "2023-05-11T21:04:50.341Z"
   },
   {
    "duration": 324,
    "start_time": "2023-05-11T21:04:50.560Z"
   },
   {
    "duration": 133,
    "start_time": "2023-05-11T21:04:50.886Z"
   },
   {
    "duration": 7,
    "start_time": "2023-05-11T21:04:51.022Z"
   },
   {
    "duration": 158,
    "start_time": "2023-05-11T21:04:51.031Z"
   },
   {
    "duration": 6,
    "start_time": "2023-05-11T21:04:51.191Z"
   },
   {
    "duration": 20,
    "start_time": "2023-05-11T21:04:51.207Z"
   },
   {
    "duration": 472,
    "start_time": "2023-05-11T21:04:51.229Z"
   },
   {
    "duration": 413,
    "start_time": "2023-05-11T21:05:10.391Z"
   },
   {
    "duration": 543,
    "start_time": "2023-05-11T21:09:22.237Z"
   },
   {
    "duration": 321,
    "start_time": "2023-05-11T21:09:31.095Z"
   },
   {
    "duration": 20,
    "start_time": "2023-05-11T21:16:30.896Z"
   },
   {
    "duration": 16,
    "start_time": "2023-05-11T21:17:18.930Z"
   },
   {
    "duration": 14,
    "start_time": "2023-05-11T21:18:01.834Z"
   },
   {
    "duration": 824,
    "start_time": "2023-05-11T21:29:33.416Z"
   },
   {
    "duration": 753,
    "start_time": "2023-05-11T21:30:32.944Z"
   },
   {
    "duration": 451,
    "start_time": "2023-05-11T21:32:44.129Z"
   },
   {
    "duration": 40,
    "start_time": "2023-05-11T21:32:52.675Z"
   },
   {
    "duration": 29,
    "start_time": "2023-05-11T21:39:13.329Z"
   },
   {
    "duration": 17,
    "start_time": "2023-05-11T21:40:38.125Z"
   },
   {
    "duration": 969,
    "start_time": "2023-05-11T21:42:05.984Z"
   },
   {
    "duration": 30,
    "start_time": "2023-05-11T21:42:34.298Z"
   },
   {
    "duration": 1141,
    "start_time": "2023-05-11T23:34:02.818Z"
   },
   {
    "duration": 34,
    "start_time": "2023-05-11T23:34:03.961Z"
   },
   {
    "duration": 12,
    "start_time": "2023-05-11T23:34:03.997Z"
   },
   {
    "duration": 31,
    "start_time": "2023-05-11T23:34:04.011Z"
   },
   {
    "duration": 18,
    "start_time": "2023-05-11T23:34:04.044Z"
   },
   {
    "duration": 69,
    "start_time": "2023-05-11T23:34:04.064Z"
   },
   {
    "duration": 21,
    "start_time": "2023-05-11T23:34:04.134Z"
   },
   {
    "duration": 33,
    "start_time": "2023-05-11T23:34:04.156Z"
   },
   {
    "duration": 23,
    "start_time": "2023-05-11T23:34:04.192Z"
   },
   {
    "duration": 300,
    "start_time": "2023-05-11T23:34:04.218Z"
   },
   {
    "duration": 288,
    "start_time": "2023-05-11T23:34:04.520Z"
   },
   {
    "duration": 196,
    "start_time": "2023-05-11T23:34:04.810Z"
   },
   {
    "duration": 284,
    "start_time": "2023-05-11T23:34:05.008Z"
   },
   {
    "duration": 227,
    "start_time": "2023-05-11T23:34:05.295Z"
   },
   {
    "duration": 285,
    "start_time": "2023-05-11T23:34:05.524Z"
   },
   {
    "duration": 146,
    "start_time": "2023-05-11T23:34:05.812Z"
   },
   {
    "duration": 5,
    "start_time": "2023-05-11T23:34:05.959Z"
   },
   {
    "duration": 153,
    "start_time": "2023-05-11T23:34:05.966Z"
   },
   {
    "duration": 6,
    "start_time": "2023-05-11T23:34:06.121Z"
   },
   {
    "duration": 374,
    "start_time": "2023-05-11T23:34:06.129Z"
   },
   {
    "duration": 11,
    "start_time": "2023-05-11T23:34:06.504Z"
   },
   {
    "duration": 30,
    "start_time": "2023-05-11T23:34:06.517Z"
   },
   {
    "duration": 42,
    "start_time": "2023-05-11T23:34:06.549Z"
   },
   {
    "duration": 73,
    "start_time": "2023-05-12T13:38:34.159Z"
   },
   {
    "duration": 1370,
    "start_time": "2023-05-12T13:38:40.395Z"
   },
   {
    "duration": 61,
    "start_time": "2023-05-12T13:38:41.767Z"
   },
   {
    "duration": 13,
    "start_time": "2023-05-12T13:38:41.830Z"
   },
   {
    "duration": 13,
    "start_time": "2023-05-12T13:38:41.845Z"
   },
   {
    "duration": 14,
    "start_time": "2023-05-12T13:38:41.860Z"
   },
   {
    "duration": 169,
    "start_time": "2023-05-12T13:38:41.876Z"
   },
   {
    "duration": 29,
    "start_time": "2023-05-12T13:38:42.047Z"
   },
   {
    "duration": 25,
    "start_time": "2023-05-12T13:38:42.082Z"
   },
   {
    "duration": 16,
    "start_time": "2023-05-12T13:38:42.109Z"
   },
   {
    "duration": 302,
    "start_time": "2023-05-12T13:38:42.127Z"
   },
   {
    "duration": 281,
    "start_time": "2023-05-12T13:38:42.432Z"
   },
   {
    "duration": 212,
    "start_time": "2023-05-12T13:38:42.715Z"
   },
   {
    "duration": 329,
    "start_time": "2023-05-12T13:38:42.929Z"
   },
   {
    "duration": 212,
    "start_time": "2023-05-12T13:38:43.261Z"
   },
   {
    "duration": 285,
    "start_time": "2023-05-12T13:38:43.477Z"
   },
   {
    "duration": 145,
    "start_time": "2023-05-12T13:38:43.764Z"
   },
   {
    "duration": 6,
    "start_time": "2023-05-12T13:38:43.911Z"
   },
   {
    "duration": 160,
    "start_time": "2023-05-12T13:38:43.918Z"
   },
   {
    "duration": 12,
    "start_time": "2023-05-12T13:38:44.079Z"
   },
   {
    "duration": 414,
    "start_time": "2023-05-12T13:38:44.093Z"
   },
   {
    "duration": 12,
    "start_time": "2023-05-12T13:38:44.509Z"
   },
   {
    "duration": 57,
    "start_time": "2023-05-12T13:38:44.524Z"
   },
   {
    "duration": 18,
    "start_time": "2023-05-12T13:38:44.586Z"
   },
   {
    "duration": 11,
    "start_time": "2023-05-12T13:39:18.290Z"
   },
   {
    "duration": 11,
    "start_time": "2023-05-12T13:39:35.243Z"
   },
   {
    "duration": 11,
    "start_time": "2023-05-12T13:39:56.908Z"
   },
   {
    "duration": 10,
    "start_time": "2023-05-12T13:39:59.895Z"
   },
   {
    "duration": 22,
    "start_time": "2023-05-12T13:40:23.803Z"
   },
   {
    "duration": 9,
    "start_time": "2023-05-12T13:40:24.793Z"
   },
   {
    "duration": 9,
    "start_time": "2023-05-12T13:40:31.792Z"
   },
   {
    "duration": 1068,
    "start_time": "2023-05-12T13:40:51.990Z"
   },
   {
    "duration": 34,
    "start_time": "2023-05-12T13:40:53.060Z"
   },
   {
    "duration": 11,
    "start_time": "2023-05-12T13:40:53.096Z"
   },
   {
    "duration": 10,
    "start_time": "2023-05-12T13:40:53.109Z"
   },
   {
    "duration": 11,
    "start_time": "2023-05-12T13:40:53.121Z"
   },
   {
    "duration": 55,
    "start_time": "2023-05-12T13:40:53.134Z"
   },
   {
    "duration": 21,
    "start_time": "2023-05-12T13:40:53.191Z"
   },
   {
    "duration": 78,
    "start_time": "2023-05-12T13:40:53.213Z"
   },
   {
    "duration": 45,
    "start_time": "2023-05-12T13:40:53.294Z"
   },
   {
    "duration": 303,
    "start_time": "2023-05-12T13:40:53.341Z"
   },
   {
    "duration": 279,
    "start_time": "2023-05-12T13:40:53.646Z"
   },
   {
    "duration": 196,
    "start_time": "2023-05-12T13:40:53.926Z"
   },
   {
    "duration": 279,
    "start_time": "2023-05-12T13:40:54.124Z"
   },
   {
    "duration": 206,
    "start_time": "2023-05-12T13:40:54.405Z"
   },
   {
    "duration": 279,
    "start_time": "2023-05-12T13:40:54.613Z"
   },
   {
    "duration": 127,
    "start_time": "2023-05-12T13:40:54.894Z"
   },
   {
    "duration": 5,
    "start_time": "2023-05-12T13:40:55.023Z"
   },
   {
    "duration": 160,
    "start_time": "2023-05-12T13:40:55.030Z"
   },
   {
    "duration": 4,
    "start_time": "2023-05-12T13:40:55.192Z"
   },
   {
    "duration": 391,
    "start_time": "2023-05-12T13:40:55.198Z"
   },
   {
    "duration": 13,
    "start_time": "2023-05-12T13:40:55.590Z"
   },
   {
    "duration": 33,
    "start_time": "2023-05-12T13:40:55.605Z"
   },
   {
    "duration": 17,
    "start_time": "2023-05-12T13:40:55.640Z"
   },
   {
    "duration": 11,
    "start_time": "2023-05-12T13:41:29.841Z"
   },
   {
    "duration": 4,
    "start_time": "2023-05-12T13:41:55.646Z"
   },
   {
    "duration": 4,
    "start_time": "2023-05-12T13:42:00.537Z"
   },
   {
    "duration": 23,
    "start_time": "2023-05-12T13:42:17.808Z"
   },
   {
    "duration": 4,
    "start_time": "2023-05-12T13:42:18.569Z"
   },
   {
    "duration": 38,
    "start_time": "2023-05-12T13:42:29.181Z"
   },
   {
    "duration": 10,
    "start_time": "2023-05-12T13:42:29.904Z"
   },
   {
    "duration": 1120,
    "start_time": "2023-05-12T13:43:24.450Z"
   },
   {
    "duration": 34,
    "start_time": "2023-05-12T13:43:25.572Z"
   },
   {
    "duration": 13,
    "start_time": "2023-05-12T13:43:25.607Z"
   },
   {
    "duration": 14,
    "start_time": "2023-05-12T13:43:25.623Z"
   },
   {
    "duration": 12,
    "start_time": "2023-05-12T13:43:25.639Z"
   },
   {
    "duration": 71,
    "start_time": "2023-05-12T13:43:25.653Z"
   },
   {
    "duration": 21,
    "start_time": "2023-05-12T13:43:25.725Z"
   },
   {
    "duration": 16,
    "start_time": "2023-05-12T13:43:25.748Z"
   },
   {
    "duration": 6,
    "start_time": "2023-05-12T13:43:25.765Z"
   },
   {
    "duration": 348,
    "start_time": "2023-05-12T13:43:25.774Z"
   },
   {
    "duration": 318,
    "start_time": "2023-05-12T13:43:26.124Z"
   },
   {
    "duration": 225,
    "start_time": "2023-05-12T13:43:26.444Z"
   },
   {
    "duration": 329,
    "start_time": "2023-05-12T13:43:26.671Z"
   },
   {
    "duration": 236,
    "start_time": "2023-05-12T13:43:27.003Z"
   },
   {
    "duration": 361,
    "start_time": "2023-05-12T13:43:27.241Z"
   },
   {
    "duration": 158,
    "start_time": "2023-05-12T13:43:27.610Z"
   },
   {
    "duration": 24,
    "start_time": "2023-05-12T13:43:27.770Z"
   },
   {
    "duration": 175,
    "start_time": "2023-05-12T13:43:27.796Z"
   },
   {
    "duration": 21,
    "start_time": "2023-05-12T13:43:27.972Z"
   },
   {
    "duration": 378,
    "start_time": "2023-05-12T13:43:27.995Z"
   },
   {
    "duration": 27,
    "start_time": "2023-05-12T13:43:28.375Z"
   },
   {
    "duration": 33,
    "start_time": "2023-05-12T13:43:28.404Z"
   },
   {
    "duration": 14,
    "start_time": "2023-05-12T13:43:28.439Z"
   },
   {
    "duration": 11,
    "start_time": "2023-05-12T13:43:58.458Z"
   },
   {
    "duration": 21,
    "start_time": "2023-05-12T13:44:34.282Z"
   },
   {
    "duration": 11,
    "start_time": "2023-05-12T13:45:17.332Z"
   },
   {
    "duration": 14,
    "start_time": "2023-05-12T13:46:19.898Z"
   },
   {
    "duration": 1112,
    "start_time": "2023-05-12T13:46:32.810Z"
   },
   {
    "duration": 22,
    "start_time": "2023-05-12T13:46:33.924Z"
   },
   {
    "duration": 1077,
    "start_time": "2023-05-12T13:46:33.948Z"
   },
   {
    "duration": 0,
    "start_time": "2023-05-12T13:46:35.027Z"
   },
   {
    "duration": 0,
    "start_time": "2023-05-12T13:46:35.028Z"
   },
   {
    "duration": 0,
    "start_time": "2023-05-12T13:46:35.030Z"
   },
   {
    "duration": 0,
    "start_time": "2023-05-12T13:46:35.031Z"
   },
   {
    "duration": 0,
    "start_time": "2023-05-12T13:46:35.033Z"
   },
   {
    "duration": 0,
    "start_time": "2023-05-12T13:46:35.034Z"
   },
   {
    "duration": 0,
    "start_time": "2023-05-12T13:46:35.035Z"
   },
   {
    "duration": 0,
    "start_time": "2023-05-12T13:46:35.036Z"
   },
   {
    "duration": 0,
    "start_time": "2023-05-12T13:46:35.037Z"
   },
   {
    "duration": 0,
    "start_time": "2023-05-12T13:46:35.038Z"
   },
   {
    "duration": 0,
    "start_time": "2023-05-12T13:46:35.040Z"
   },
   {
    "duration": 0,
    "start_time": "2023-05-12T13:46:35.041Z"
   },
   {
    "duration": 0,
    "start_time": "2023-05-12T13:46:35.042Z"
   },
   {
    "duration": 0,
    "start_time": "2023-05-12T13:46:35.043Z"
   },
   {
    "duration": 0,
    "start_time": "2023-05-12T13:46:35.044Z"
   },
   {
    "duration": 0,
    "start_time": "2023-05-12T13:46:35.045Z"
   },
   {
    "duration": 0,
    "start_time": "2023-05-12T13:46:35.047Z"
   },
   {
    "duration": 0,
    "start_time": "2023-05-12T13:46:35.048Z"
   },
   {
    "duration": 0,
    "start_time": "2023-05-12T13:46:35.049Z"
   },
   {
    "duration": 0,
    "start_time": "2023-05-12T13:46:35.050Z"
   },
   {
    "duration": 22,
    "start_time": "2023-05-12T13:46:54.904Z"
   },
   {
    "duration": 901,
    "start_time": "2023-05-12T13:46:57.405Z"
   },
   {
    "duration": 17,
    "start_time": "2023-05-12T13:47:13.173Z"
   },
   {
    "duration": 1141,
    "start_time": "2023-05-12T13:47:29.214Z"
   },
   {
    "duration": 30,
    "start_time": "2023-05-12T13:47:30.357Z"
   },
   {
    "duration": 37,
    "start_time": "2023-05-12T13:47:30.396Z"
   },
   {
    "duration": 83,
    "start_time": "2023-05-12T13:47:30.434Z"
   },
   {
    "duration": 46,
    "start_time": "2023-05-12T13:47:30.519Z"
   },
   {
    "duration": 105,
    "start_time": "2023-05-12T13:47:30.567Z"
   },
   {
    "duration": 36,
    "start_time": "2023-05-12T13:47:30.674Z"
   },
   {
    "duration": 26,
    "start_time": "2023-05-12T13:47:30.712Z"
   },
   {
    "duration": 41,
    "start_time": "2023-05-12T13:47:30.740Z"
   },
   {
    "duration": 335,
    "start_time": "2023-05-12T13:47:30.792Z"
   },
   {
    "duration": 302,
    "start_time": "2023-05-12T13:47:31.129Z"
   },
   {
    "duration": 213,
    "start_time": "2023-05-12T13:47:31.433Z"
   },
   {
    "duration": 364,
    "start_time": "2023-05-12T13:47:31.648Z"
   },
   {
    "duration": 231,
    "start_time": "2023-05-12T13:47:32.015Z"
   },
   {
    "duration": 325,
    "start_time": "2023-05-12T13:47:32.247Z"
   },
   {
    "duration": 145,
    "start_time": "2023-05-12T13:47:32.574Z"
   },
   {
    "duration": 5,
    "start_time": "2023-05-12T13:47:32.721Z"
   },
   {
    "duration": 173,
    "start_time": "2023-05-12T13:47:32.727Z"
   },
   {
    "duration": 5,
    "start_time": "2023-05-12T13:47:32.902Z"
   },
   {
    "duration": 391,
    "start_time": "2023-05-12T13:47:32.909Z"
   },
   {
    "duration": 17,
    "start_time": "2023-05-12T13:47:33.302Z"
   },
   {
    "duration": 31,
    "start_time": "2023-05-12T13:47:33.321Z"
   },
   {
    "duration": 39,
    "start_time": "2023-05-12T13:47:33.354Z"
   },
   {
    "duration": 1218,
    "start_time": "2023-05-12T13:48:39.372Z"
   },
   {
    "duration": 24,
    "start_time": "2023-05-12T13:48:40.598Z"
   },
   {
    "duration": 13,
    "start_time": "2023-05-12T13:48:40.624Z"
   },
   {
    "duration": 15,
    "start_time": "2023-05-12T13:48:40.640Z"
   },
   {
    "duration": 12,
    "start_time": "2023-05-12T13:48:40.656Z"
   },
   {
    "duration": 57,
    "start_time": "2023-05-12T13:48:40.670Z"
   },
   {
    "duration": 23,
    "start_time": "2023-05-12T13:48:40.729Z"
   },
   {
    "duration": 20,
    "start_time": "2023-05-12T13:48:40.754Z"
   },
   {
    "duration": 19,
    "start_time": "2023-05-12T13:48:40.775Z"
   },
   {
    "duration": 321,
    "start_time": "2023-05-12T13:48:40.801Z"
   },
   {
    "duration": 304,
    "start_time": "2023-05-12T13:48:41.124Z"
   },
   {
    "duration": 208,
    "start_time": "2023-05-12T13:48:41.429Z"
   },
   {
    "duration": 293,
    "start_time": "2023-05-12T13:48:41.638Z"
   },
   {
    "duration": 226,
    "start_time": "2023-05-12T13:48:41.934Z"
   },
   {
    "duration": 336,
    "start_time": "2023-05-12T13:48:42.162Z"
   },
   {
    "duration": 141,
    "start_time": "2023-05-12T13:48:42.500Z"
   },
   {
    "duration": 5,
    "start_time": "2023-05-12T13:48:42.644Z"
   },
   {
    "duration": 184,
    "start_time": "2023-05-12T13:48:42.651Z"
   },
   {
    "duration": 6,
    "start_time": "2023-05-12T13:48:42.837Z"
   },
   {
    "duration": 399,
    "start_time": "2023-05-12T13:48:42.844Z"
   },
   {
    "duration": 9,
    "start_time": "2023-05-12T13:48:43.245Z"
   },
   {
    "duration": 52,
    "start_time": "2023-05-12T13:48:43.256Z"
   },
   {
    "duration": 18,
    "start_time": "2023-05-12T13:48:43.310Z"
   },
   {
    "duration": 10,
    "start_time": "2023-05-12T13:51:38.143Z"
   },
   {
    "duration": 1160,
    "start_time": "2023-05-12T13:52:01.805Z"
   },
   {
    "duration": 44,
    "start_time": "2023-05-12T13:52:02.967Z"
   },
   {
    "duration": 13,
    "start_time": "2023-05-12T13:52:03.013Z"
   },
   {
    "duration": 12,
    "start_time": "2023-05-12T13:52:03.028Z"
   },
   {
    "duration": 19,
    "start_time": "2023-05-12T13:52:03.042Z"
   },
   {
    "duration": 79,
    "start_time": "2023-05-12T13:52:03.062Z"
   },
   {
    "duration": 20,
    "start_time": "2023-05-12T13:52:03.143Z"
   },
   {
    "duration": 30,
    "start_time": "2023-05-12T13:52:03.164Z"
   },
   {
    "duration": 11,
    "start_time": "2023-05-12T13:52:03.198Z"
   },
   {
    "duration": 316,
    "start_time": "2023-05-12T13:52:03.211Z"
   },
   {
    "duration": 291,
    "start_time": "2023-05-12T13:52:03.528Z"
   },
   {
    "duration": 197,
    "start_time": "2023-05-12T13:52:03.821Z"
   },
   {
    "duration": 285,
    "start_time": "2023-05-12T13:52:04.020Z"
   },
   {
    "duration": 217,
    "start_time": "2023-05-12T13:52:04.308Z"
   },
   {
    "duration": 296,
    "start_time": "2023-05-12T13:52:04.527Z"
   },
   {
    "duration": 145,
    "start_time": "2023-05-12T13:52:04.824Z"
   },
   {
    "duration": 15,
    "start_time": "2023-05-12T13:52:04.971Z"
   },
   {
    "duration": 163,
    "start_time": "2023-05-12T13:52:04.988Z"
   },
   {
    "duration": 5,
    "start_time": "2023-05-12T13:52:05.153Z"
   },
   {
    "duration": 440,
    "start_time": "2023-05-12T13:52:05.160Z"
   },
   {
    "duration": 15,
    "start_time": "2023-05-12T13:52:05.606Z"
   },
   {
    "duration": 63,
    "start_time": "2023-05-12T13:52:05.623Z"
   },
   {
    "duration": 17,
    "start_time": "2023-05-12T13:52:05.688Z"
   },
   {
    "duration": 14,
    "start_time": "2023-05-12T13:58:21.671Z"
   },
   {
    "duration": 10,
    "start_time": "2023-05-12T14:00:13.799Z"
   },
   {
    "duration": 289,
    "start_time": "2023-05-12T14:01:25.621Z"
   },
   {
    "duration": 198,
    "start_time": "2023-05-12T14:01:31.204Z"
   },
   {
    "duration": 194,
    "start_time": "2023-05-12T14:01:36.673Z"
   },
   {
    "duration": 212,
    "start_time": "2023-05-12T14:01:44.661Z"
   },
   {
    "duration": 183,
    "start_time": "2023-05-12T14:02:33.426Z"
   },
   {
    "duration": 267,
    "start_time": "2023-05-12T14:02:39.946Z"
   },
   {
    "duration": 223,
    "start_time": "2023-05-12T14:02:51.960Z"
   },
   {
    "duration": 223,
    "start_time": "2023-05-12T14:03:29.843Z"
   },
   {
    "duration": 227,
    "start_time": "2023-05-12T14:04:46.747Z"
   },
   {
    "duration": 222,
    "start_time": "2023-05-12T14:05:03.001Z"
   },
   {
    "duration": 214,
    "start_time": "2023-05-12T14:05:42.428Z"
   },
   {
    "duration": 340,
    "start_time": "2023-05-12T14:06:04.592Z"
   },
   {
    "duration": 224,
    "start_time": "2023-05-12T14:09:08.705Z"
   },
   {
    "duration": 217,
    "start_time": "2023-05-12T14:10:38.786Z"
   },
   {
    "duration": 272,
    "start_time": "2023-05-12T14:11:02.025Z"
   },
   {
    "duration": 342,
    "start_time": "2023-05-12T14:12:31.201Z"
   },
   {
    "duration": 319,
    "start_time": "2023-05-12T14:12:39.226Z"
   },
   {
    "duration": 283,
    "start_time": "2023-05-12T14:14:44.732Z"
   },
   {
    "duration": 367,
    "start_time": "2023-05-12T14:16:10.437Z"
   },
   {
    "duration": 449,
    "start_time": "2023-05-12T14:16:45.800Z"
   },
   {
    "duration": 327,
    "start_time": "2023-05-12T14:16:59.834Z"
   },
   {
    "duration": 51,
    "start_time": "2023-05-12T14:17:59.854Z"
   },
   {
    "duration": 349,
    "start_time": "2023-05-12T14:18:14.141Z"
   },
   {
    "duration": 448,
    "start_time": "2023-05-12T14:18:23.097Z"
   },
   {
    "duration": 334,
    "start_time": "2023-05-12T14:18:26.807Z"
   },
   {
    "duration": 351,
    "start_time": "2023-05-12T14:18:30.280Z"
   },
   {
    "duration": 194,
    "start_time": "2023-05-12T14:22:12.100Z"
   },
   {
    "duration": 203,
    "start_time": "2023-05-12T14:24:19.450Z"
   },
   {
    "duration": 185,
    "start_time": "2023-05-12T14:24:53.909Z"
   },
   {
    "duration": 210,
    "start_time": "2023-05-12T14:26:20.751Z"
   },
   {
    "duration": 59,
    "start_time": "2023-05-12T20:41:45.311Z"
   },
   {
    "duration": 10,
    "start_time": "2023-05-12T20:42:00.292Z"
   },
   {
    "duration": 1332,
    "start_time": "2023-05-12T20:42:18.189Z"
   },
   {
    "duration": 81,
    "start_time": "2023-05-12T20:42:19.523Z"
   },
   {
    "duration": 13,
    "start_time": "2023-05-12T20:42:19.606Z"
   },
   {
    "duration": 21,
    "start_time": "2023-05-12T20:42:19.621Z"
   },
   {
    "duration": 12,
    "start_time": "2023-05-12T20:42:19.644Z"
   },
   {
    "duration": 198,
    "start_time": "2023-05-12T20:42:19.658Z"
   },
   {
    "duration": 33,
    "start_time": "2023-05-12T20:42:19.860Z"
   },
   {
    "duration": 19,
    "start_time": "2023-05-12T20:42:19.895Z"
   },
   {
    "duration": 7,
    "start_time": "2023-05-12T20:42:19.915Z"
   },
   {
    "duration": 7,
    "start_time": "2023-05-12T20:42:19.923Z"
   },
   {
    "duration": 323,
    "start_time": "2023-05-12T20:42:19.932Z"
   },
   {
    "duration": 332,
    "start_time": "2023-05-12T20:42:20.270Z"
   },
   {
    "duration": 241,
    "start_time": "2023-05-12T20:42:20.604Z"
   },
   {
    "duration": 398,
    "start_time": "2023-05-12T20:42:20.849Z"
   },
   {
    "duration": 298,
    "start_time": "2023-05-12T20:42:21.249Z"
   },
   {
    "duration": 370,
    "start_time": "2023-05-12T20:42:21.549Z"
   },
   {
    "duration": 190,
    "start_time": "2023-05-12T20:42:21.921Z"
   },
   {
    "duration": 5,
    "start_time": "2023-05-12T20:42:22.112Z"
   },
   {
    "duration": 211,
    "start_time": "2023-05-12T20:42:22.119Z"
   },
   {
    "duration": 192,
    "start_time": "2023-05-12T20:42:22.332Z"
   },
   {
    "duration": 5,
    "start_time": "2023-05-12T20:42:22.525Z"
   },
   {
    "duration": 499,
    "start_time": "2023-05-12T20:42:22.532Z"
   },
   {
    "duration": 11,
    "start_time": "2023-05-12T20:42:23.033Z"
   },
   {
    "duration": 65,
    "start_time": "2023-05-12T20:42:23.046Z"
   },
   {
    "duration": 14,
    "start_time": "2023-05-12T20:42:23.113Z"
   },
   {
    "duration": 82,
    "start_time": "2023-05-12T20:44:21.829Z"
   },
   {
    "duration": 200,
    "start_time": "2023-05-12T20:47:52.439Z"
   },
   {
    "duration": 8,
    "start_time": "2023-05-12T20:47:55.971Z"
   },
   {
    "duration": 1135,
    "start_time": "2023-05-12T20:48:05.654Z"
   },
   {
    "duration": 22,
    "start_time": "2023-05-12T20:48:06.791Z"
   },
   {
    "duration": 11,
    "start_time": "2023-05-12T20:48:06.815Z"
   },
   {
    "duration": 20,
    "start_time": "2023-05-12T20:48:06.828Z"
   },
   {
    "duration": 19,
    "start_time": "2023-05-12T20:48:06.850Z"
   },
   {
    "duration": 46,
    "start_time": "2023-05-12T20:48:06.876Z"
   },
   {
    "duration": 27,
    "start_time": "2023-05-12T20:48:06.924Z"
   },
   {
    "duration": 29,
    "start_time": "2023-05-12T20:48:06.952Z"
   },
   {
    "duration": 8,
    "start_time": "2023-05-12T20:48:06.989Z"
   },
   {
    "duration": 9,
    "start_time": "2023-05-12T20:48:07.000Z"
   },
   {
    "duration": 330,
    "start_time": "2023-05-12T20:48:07.011Z"
   },
   {
    "duration": 336,
    "start_time": "2023-05-12T20:48:07.343Z"
   },
   {
    "duration": 224,
    "start_time": "2023-05-12T20:48:07.686Z"
   },
   {
    "duration": 332,
    "start_time": "2023-05-12T20:48:07.912Z"
   },
   {
    "duration": 281,
    "start_time": "2023-05-12T20:48:08.246Z"
   },
   {
    "duration": 374,
    "start_time": "2023-05-12T20:48:08.529Z"
   },
   {
    "duration": 206,
    "start_time": "2023-05-12T20:48:08.905Z"
   },
   {
    "duration": 4,
    "start_time": "2023-05-12T20:48:09.113Z"
   },
   {
    "duration": 189,
    "start_time": "2023-05-12T20:48:09.120Z"
   },
   {
    "duration": 274,
    "start_time": "2023-05-12T20:48:09.310Z"
   },
   {
    "duration": 0,
    "start_time": "2023-05-12T20:48:09.586Z"
   },
   {
    "duration": 0,
    "start_time": "2023-05-12T20:48:09.587Z"
   },
   {
    "duration": 0,
    "start_time": "2023-05-12T20:48:09.588Z"
   },
   {
    "duration": 0,
    "start_time": "2023-05-12T20:48:09.589Z"
   },
   {
    "duration": 0,
    "start_time": "2023-05-12T20:48:09.590Z"
   },
   {
    "duration": 289,
    "start_time": "2023-05-12T20:48:50.725Z"
   },
   {
    "duration": 5,
    "start_time": "2023-05-12T20:48:57.775Z"
   },
   {
    "duration": 1129,
    "start_time": "2023-05-12T20:49:06.292Z"
   },
   {
    "duration": 25,
    "start_time": "2023-05-12T20:49:07.423Z"
   },
   {
    "duration": 20,
    "start_time": "2023-05-12T20:49:07.450Z"
   },
   {
    "duration": 26,
    "start_time": "2023-05-12T20:49:07.472Z"
   },
   {
    "duration": 15,
    "start_time": "2023-05-12T20:49:07.501Z"
   },
   {
    "duration": 61,
    "start_time": "2023-05-12T20:49:07.518Z"
   },
   {
    "duration": 24,
    "start_time": "2023-05-12T20:49:07.581Z"
   },
   {
    "duration": 21,
    "start_time": "2023-05-12T20:49:07.606Z"
   },
   {
    "duration": 6,
    "start_time": "2023-05-12T20:49:07.629Z"
   },
   {
    "duration": 9,
    "start_time": "2023-05-12T20:49:07.637Z"
   },
   {
    "duration": 325,
    "start_time": "2023-05-12T20:49:07.648Z"
   },
   {
    "duration": 329,
    "start_time": "2023-05-12T20:49:07.975Z"
   },
   {
    "duration": 278,
    "start_time": "2023-05-12T20:49:08.306Z"
   },
   {
    "duration": 330,
    "start_time": "2023-05-12T20:49:08.586Z"
   },
   {
    "duration": 301,
    "start_time": "2023-05-12T20:49:08.918Z"
   },
   {
    "duration": 341,
    "start_time": "2023-05-12T20:49:09.221Z"
   },
   {
    "duration": 174,
    "start_time": "2023-05-12T20:49:09.567Z"
   },
   {
    "duration": 5,
    "start_time": "2023-05-12T20:49:09.743Z"
   },
   {
    "duration": 213,
    "start_time": "2023-05-12T20:49:09.749Z"
   },
   {
    "duration": 200,
    "start_time": "2023-05-12T20:49:09.963Z"
   },
   {
    "duration": 9,
    "start_time": "2023-05-12T20:49:10.165Z"
   },
   {
    "duration": 482,
    "start_time": "2023-05-12T20:49:10.179Z"
   },
   {
    "duration": 16,
    "start_time": "2023-05-12T20:49:10.664Z"
   },
   {
    "duration": 44,
    "start_time": "2023-05-12T20:49:10.682Z"
   },
   {
    "duration": 13,
    "start_time": "2023-05-12T20:49:10.728Z"
   },
   {
    "duration": 376,
    "start_time": "2023-05-12T21:55:30.020Z"
   },
   {
    "duration": 9,
    "start_time": "2023-05-12T21:55:55.933Z"
   },
   {
    "duration": 30,
    "start_time": "2023-05-12T21:56:39.636Z"
   },
   {
    "duration": 17,
    "start_time": "2023-05-12T21:57:19.589Z"
   },
   {
    "duration": 17,
    "start_time": "2023-05-12T21:57:35.710Z"
   },
   {
    "duration": 415,
    "start_time": "2023-05-12T22:06:08.110Z"
   },
   {
    "duration": 371,
    "start_time": "2023-05-12T22:06:14.883Z"
   },
   {
    "duration": 65,
    "start_time": "2023-05-12T22:22:59.416Z"
   },
   {
    "duration": 13,
    "start_time": "2023-05-12T22:23:57.899Z"
   },
   {
    "duration": 3,
    "start_time": "2023-05-12T22:24:03.380Z"
   },
   {
    "duration": 33,
    "start_time": "2023-05-12T22:24:05.238Z"
   },
   {
    "duration": 1245,
    "start_time": "2023-05-13T02:37:28.944Z"
   },
   {
    "duration": 91,
    "start_time": "2023-05-13T02:37:30.191Z"
   },
   {
    "duration": 17,
    "start_time": "2023-05-13T02:37:30.284Z"
   },
   {
    "duration": 58,
    "start_time": "2023-05-13T02:37:30.308Z"
   },
   {
    "duration": 23,
    "start_time": "2023-05-13T02:37:30.368Z"
   },
   {
    "duration": 189,
    "start_time": "2023-05-13T02:37:30.392Z"
   },
   {
    "duration": 30,
    "start_time": "2023-05-13T02:37:30.583Z"
   },
   {
    "duration": 58,
    "start_time": "2023-05-13T02:37:30.616Z"
   },
   {
    "duration": 49,
    "start_time": "2023-05-13T02:37:30.675Z"
   },
   {
    "duration": 51,
    "start_time": "2023-05-13T02:37:30.726Z"
   },
   {
    "duration": 360,
    "start_time": "2023-05-13T02:37:30.779Z"
   },
   {
    "duration": 392,
    "start_time": "2023-05-13T02:37:31.141Z"
   },
   {
    "duration": 283,
    "start_time": "2023-05-13T02:37:31.536Z"
   },
   {
    "duration": 421,
    "start_time": "2023-05-13T02:37:31.821Z"
   },
   {
    "duration": 359,
    "start_time": "2023-05-13T02:37:32.244Z"
   },
   {
    "duration": 353,
    "start_time": "2023-05-13T02:37:32.605Z"
   },
   {
    "duration": 183,
    "start_time": "2023-05-13T02:37:32.960Z"
   },
   {
    "duration": 5,
    "start_time": "2023-05-13T02:37:33.145Z"
   },
   {
    "duration": 228,
    "start_time": "2023-05-13T02:37:33.152Z"
   },
   {
    "duration": 198,
    "start_time": "2023-05-13T02:37:33.382Z"
   },
   {
    "duration": 16,
    "start_time": "2023-05-13T02:37:33.582Z"
   },
   {
    "duration": 484,
    "start_time": "2023-05-13T02:37:33.606Z"
   },
   {
    "duration": 17,
    "start_time": "2023-05-13T02:37:34.092Z"
   },
   {
    "duration": 12,
    "start_time": "2023-05-13T02:37:34.111Z"
   },
   {
    "duration": 33,
    "start_time": "2023-05-13T02:37:34.125Z"
   },
   {
    "duration": 33,
    "start_time": "2023-05-13T02:37:34.160Z"
   },
   {
    "duration": 7,
    "start_time": "2023-05-13T02:48:12.495Z"
   },
   {
    "duration": 54,
    "start_time": "2023-05-15T03:39:30.038Z"
   },
   {
    "duration": 1314,
    "start_time": "2023-05-15T03:39:38.955Z"
   },
   {
    "duration": 100,
    "start_time": "2023-05-15T03:39:40.271Z"
   },
   {
    "duration": 13,
    "start_time": "2023-05-15T03:39:40.373Z"
   },
   {
    "duration": 15,
    "start_time": "2023-05-15T03:39:40.388Z"
   },
   {
    "duration": 41,
    "start_time": "2023-05-15T03:39:40.406Z"
   },
   {
    "duration": 191,
    "start_time": "2023-05-15T03:39:40.448Z"
   },
   {
    "duration": 20,
    "start_time": "2023-05-15T03:39:40.641Z"
   },
   {
    "duration": 16,
    "start_time": "2023-05-15T03:39:40.663Z"
   },
   {
    "duration": 11,
    "start_time": "2023-05-15T03:39:40.681Z"
   },
   {
    "duration": 40,
    "start_time": "2023-05-15T03:39:40.695Z"
   },
   {
    "duration": 317,
    "start_time": "2023-05-15T03:39:40.737Z"
   },
   {
    "duration": 392,
    "start_time": "2023-05-15T03:39:41.056Z"
   },
   {
    "duration": 300,
    "start_time": "2023-05-15T03:39:41.449Z"
   },
   {
    "duration": 431,
    "start_time": "2023-05-15T03:39:41.751Z"
   },
   {
    "duration": 399,
    "start_time": "2023-05-15T03:39:42.185Z"
   },
   {
    "duration": 414,
    "start_time": "2023-05-15T03:39:42.586Z"
   },
   {
    "duration": 207,
    "start_time": "2023-05-15T03:39:43.004Z"
   },
   {
    "duration": 14,
    "start_time": "2023-05-15T03:39:43.214Z"
   },
   {
    "duration": 239,
    "start_time": "2023-05-15T03:39:43.231Z"
   },
   {
    "duration": 218,
    "start_time": "2023-05-15T03:39:43.472Z"
   },
   {
    "duration": 5,
    "start_time": "2023-05-15T03:39:43.692Z"
   },
   {
    "duration": 584,
    "start_time": "2023-05-15T03:39:43.699Z"
   },
   {
    "duration": 19,
    "start_time": "2023-05-15T03:39:44.284Z"
   },
   {
    "duration": 48,
    "start_time": "2023-05-15T03:39:44.306Z"
   },
   {
    "duration": 35,
    "start_time": "2023-05-15T03:39:44.356Z"
   },
   {
    "duration": 20,
    "start_time": "2023-05-15T03:39:44.393Z"
   },
   {
    "duration": 16,
    "start_time": "2023-05-15T03:40:31.786Z"
   },
   {
    "duration": 3,
    "start_time": "2023-05-15T03:43:52.028Z"
   },
   {
    "duration": 36,
    "start_time": "2023-05-15T03:44:00.014Z"
   },
   {
    "duration": 46,
    "start_time": "2023-05-15T09:13:12.986Z"
   },
   {
    "duration": 1568,
    "start_time": "2023-05-15T09:13:18.500Z"
   },
   {
    "duration": 71,
    "start_time": "2023-05-15T09:13:20.070Z"
   },
   {
    "duration": 11,
    "start_time": "2023-05-15T09:13:20.143Z"
   },
   {
    "duration": 13,
    "start_time": "2023-05-15T09:13:20.156Z"
   },
   {
    "duration": 17,
    "start_time": "2023-05-15T09:13:20.171Z"
   },
   {
    "duration": 148,
    "start_time": "2023-05-15T09:13:20.190Z"
   },
   {
    "duration": 18,
    "start_time": "2023-05-15T09:13:20.340Z"
   },
   {
    "duration": 13,
    "start_time": "2023-05-15T09:13:20.360Z"
   },
   {
    "duration": 5,
    "start_time": "2023-05-15T09:13:20.374Z"
   },
   {
    "duration": 24,
    "start_time": "2023-05-15T09:13:20.380Z"
   },
   {
    "duration": 296,
    "start_time": "2023-05-15T09:13:20.406Z"
   },
   {
    "duration": 291,
    "start_time": "2023-05-15T09:13:20.703Z"
   },
   {
    "duration": 215,
    "start_time": "2023-05-15T09:13:20.996Z"
   },
   {
    "duration": 358,
    "start_time": "2023-05-15T09:13:21.214Z"
   },
   {
    "duration": 271,
    "start_time": "2023-05-15T09:13:21.574Z"
   },
   {
    "duration": 290,
    "start_time": "2023-05-15T09:13:21.846Z"
   },
   {
    "duration": 163,
    "start_time": "2023-05-15T09:13:22.137Z"
   },
   {
    "duration": 13,
    "start_time": "2023-05-15T09:13:22.302Z"
   },
   {
    "duration": 183,
    "start_time": "2023-05-15T09:13:22.319Z"
   },
   {
    "duration": 192,
    "start_time": "2023-05-15T09:13:22.510Z"
   },
   {
    "duration": 6,
    "start_time": "2023-05-15T09:13:22.705Z"
   },
   {
    "duration": 438,
    "start_time": "2023-05-15T09:13:22.716Z"
   },
   {
    "duration": 11,
    "start_time": "2023-05-15T09:13:23.155Z"
   },
   {
    "duration": 5,
    "start_time": "2023-05-15T09:13:23.167Z"
   },
   {
    "duration": 48,
    "start_time": "2023-05-15T09:13:23.174Z"
   },
   {
    "duration": 17,
    "start_time": "2023-05-15T09:13:23.225Z"
   },
   {
    "duration": 4,
    "start_time": "2023-05-15T09:16:16.888Z"
   },
   {
    "duration": 26,
    "start_time": "2023-05-15T09:16:19.431Z"
   },
   {
    "duration": 3,
    "start_time": "2023-05-15T09:36:02.189Z"
   },
   {
    "duration": 1122,
    "start_time": "2023-05-15T09:36:41.574Z"
   },
   {
    "duration": 24,
    "start_time": "2023-05-15T09:36:42.698Z"
   },
   {
    "duration": 11,
    "start_time": "2023-05-15T09:36:42.724Z"
   },
   {
    "duration": 38,
    "start_time": "2023-05-15T09:36:42.737Z"
   },
   {
    "duration": 15,
    "start_time": "2023-05-15T09:36:42.777Z"
   },
   {
    "duration": 48,
    "start_time": "2023-05-15T09:36:42.794Z"
   },
   {
    "duration": 25,
    "start_time": "2023-05-15T09:36:42.844Z"
   },
   {
    "duration": 23,
    "start_time": "2023-05-15T09:36:42.871Z"
   },
   {
    "duration": 7,
    "start_time": "2023-05-15T09:36:42.896Z"
   },
   {
    "duration": 10,
    "start_time": "2023-05-15T09:36:42.904Z"
   },
   {
    "duration": 278,
    "start_time": "2023-05-15T09:36:42.915Z"
   },
   {
    "duration": 296,
    "start_time": "2023-05-15T09:36:43.195Z"
   },
   {
    "duration": 216,
    "start_time": "2023-05-15T09:36:43.493Z"
   },
   {
    "duration": 359,
    "start_time": "2023-05-15T09:36:43.713Z"
   },
   {
    "duration": 255,
    "start_time": "2023-05-15T09:36:44.074Z"
   },
   {
    "duration": 319,
    "start_time": "2023-05-15T09:36:44.331Z"
   },
   {
    "duration": 184,
    "start_time": "2023-05-15T09:36:44.652Z"
   },
   {
    "duration": 5,
    "start_time": "2023-05-15T09:36:44.838Z"
   },
   {
    "duration": 204,
    "start_time": "2023-05-15T09:36:44.844Z"
   },
   {
    "duration": 188,
    "start_time": "2023-05-15T09:36:45.050Z"
   },
   {
    "duration": 5,
    "start_time": "2023-05-15T09:36:45.240Z"
   },
   {
    "duration": 448,
    "start_time": "2023-05-15T09:36:45.246Z"
   },
   {
    "duration": 14,
    "start_time": "2023-05-15T09:36:45.696Z"
   },
   {
    "duration": 27,
    "start_time": "2023-05-15T09:36:45.712Z"
   },
   {
    "duration": 31,
    "start_time": "2023-05-15T09:36:45.741Z"
   },
   {
    "duration": 14,
    "start_time": "2023-05-15T09:36:45.774Z"
   },
   {
    "duration": 1461,
    "start_time": "2023-05-15T09:39:12.675Z"
   },
   {
    "duration": 23,
    "start_time": "2023-05-15T09:39:14.138Z"
   },
   {
    "duration": 11,
    "start_time": "2023-05-15T09:39:14.163Z"
   },
   {
    "duration": 15,
    "start_time": "2023-05-15T09:39:14.176Z"
   },
   {
    "duration": 26,
    "start_time": "2023-05-15T09:39:14.192Z"
   },
   {
    "duration": 46,
    "start_time": "2023-05-15T09:39:14.220Z"
   },
   {
    "duration": 28,
    "start_time": "2023-05-15T09:39:14.268Z"
   },
   {
    "duration": 21,
    "start_time": "2023-05-15T09:39:14.298Z"
   },
   {
    "duration": 19,
    "start_time": "2023-05-15T09:39:14.321Z"
   },
   {
    "duration": 5,
    "start_time": "2023-05-15T09:39:14.343Z"
   },
   {
    "duration": 280,
    "start_time": "2023-05-15T09:39:14.350Z"
   },
   {
    "duration": 312,
    "start_time": "2023-05-15T09:39:14.632Z"
   },
   {
    "duration": 233,
    "start_time": "2023-05-15T09:39:14.945Z"
   },
   {
    "duration": 336,
    "start_time": "2023-05-15T09:39:15.180Z"
   },
   {
    "duration": 307,
    "start_time": "2023-05-15T09:39:15.518Z"
   },
   {
    "duration": 295,
    "start_time": "2023-05-15T09:39:15.827Z"
   },
   {
    "duration": 158,
    "start_time": "2023-05-15T09:39:16.124Z"
   },
   {
    "duration": 5,
    "start_time": "2023-05-15T09:39:16.284Z"
   },
   {
    "duration": 177,
    "start_time": "2023-05-15T09:39:16.291Z"
   },
   {
    "duration": 164,
    "start_time": "2023-05-15T09:39:16.470Z"
   },
   {
    "duration": 5,
    "start_time": "2023-05-15T09:39:16.636Z"
   },
   {
    "duration": 404,
    "start_time": "2023-05-15T09:39:16.643Z"
   },
   {
    "duration": 10,
    "start_time": "2023-05-15T09:39:17.049Z"
   },
   {
    "duration": 4,
    "start_time": "2023-05-15T09:39:17.060Z"
   },
   {
    "duration": 57,
    "start_time": "2023-05-15T09:39:17.065Z"
   },
   {
    "duration": 13,
    "start_time": "2023-05-15T09:39:17.123Z"
   },
   {
    "duration": 1619,
    "start_time": "2023-05-15T09:54:52.384Z"
   },
   {
    "duration": 67,
    "start_time": "2023-05-15T09:54:54.005Z"
   },
   {
    "duration": 17,
    "start_time": "2023-05-15T09:54:54.077Z"
   },
   {
    "duration": 15,
    "start_time": "2023-05-15T09:54:54.098Z"
   },
   {
    "duration": 11,
    "start_time": "2023-05-15T09:54:54.115Z"
   },
   {
    "duration": 133,
    "start_time": "2023-05-15T09:54:54.127Z"
   },
   {
    "duration": 30,
    "start_time": "2023-05-15T09:54:54.263Z"
   },
   {
    "duration": 30,
    "start_time": "2023-05-15T09:54:54.296Z"
   },
   {
    "duration": 8,
    "start_time": "2023-05-15T09:54:54.328Z"
   },
   {
    "duration": 7,
    "start_time": "2023-05-15T09:54:54.338Z"
   },
   {
    "duration": 427,
    "start_time": "2023-05-15T09:54:54.347Z"
   },
   {
    "duration": 368,
    "start_time": "2023-05-15T09:54:54.776Z"
   },
   {
    "duration": 267,
    "start_time": "2023-05-15T09:54:55.147Z"
   },
   {
    "duration": 425,
    "start_time": "2023-05-15T09:54:55.416Z"
   },
   {
    "duration": 324,
    "start_time": "2023-05-15T09:54:55.844Z"
   },
   {
    "duration": 392,
    "start_time": "2023-05-15T09:54:56.170Z"
   },
   {
    "duration": 189,
    "start_time": "2023-05-15T09:54:56.564Z"
   },
   {
    "duration": 6,
    "start_time": "2023-05-15T09:54:56.755Z"
   },
   {
    "duration": 215,
    "start_time": "2023-05-15T09:54:56.763Z"
   },
   {
    "duration": 217,
    "start_time": "2023-05-15T09:54:56.979Z"
   },
   {
    "duration": 6,
    "start_time": "2023-05-15T09:54:57.197Z"
   },
   {
    "duration": 475,
    "start_time": "2023-05-15T09:54:57.205Z"
   },
   {
    "duration": 17,
    "start_time": "2023-05-15T09:54:57.681Z"
   },
   {
    "duration": 8,
    "start_time": "2023-05-15T09:54:57.699Z"
   },
   {
    "duration": 43,
    "start_time": "2023-05-15T09:54:57.710Z"
   },
   {
    "duration": 15,
    "start_time": "2023-05-15T09:54:57.755Z"
   }
  ],
  "kernelspec": {
   "display_name": "Python 3 (ipykernel)",
   "language": "python",
   "name": "python3"
  },
  "language_info": {
   "codemirror_mode": {
    "name": "ipython",
    "version": 3
   },
   "file_extension": ".py",
   "mimetype": "text/x-python",
   "name": "python",
   "nbconvert_exporter": "python",
   "pygments_lexer": "ipython3",
   "version": "3.9.13"
  },
  "toc": {
   "base_numbering": 1,
   "nav_menu": {},
   "number_sections": true,
   "sideBar": true,
   "skip_h1_title": true,
   "title_cell": "Table of Contents",
   "title_sidebar": "Contents",
   "toc_cell": false,
   "toc_position": {},
   "toc_section_display": true,
   "toc_window_display": false
  }
 },
 "nbformat": 4,
 "nbformat_minor": 2
}

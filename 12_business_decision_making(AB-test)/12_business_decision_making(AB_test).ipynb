{
  "cells": [
    {
      "cell_type": "markdown",
      "metadata": {
        "id": "SGeJEsQxMBPy"
      },
      "source": [
        "## Описание проекта\n",
        "Аналитики крупного интернет-магазина вместе с отделом маркетинга подготовили список гипотез для увеличения выручки.  \n",
        "Необходимо приоритизировать гипотезы, запустить A/B-тест и проанализировать результаты. "
      ]
    },
    {
      "cell_type": "markdown",
      "metadata": {
        "id": "4FlywT2NMBPy"
      },
      "source": [
        "## Данные\n",
        "1. Файл `/datasets/hypothesis.csv`  \n",
        "`Hypothesis` — краткое описание гипотезы;  \n",
        "`Reach` — охват пользователей по 10-балльной шкале;  \n",
        "`Impact` — влияние на пользователей по 10-балльной шкале;  \n",
        "`Confidence` — уверенность в гипотезе по 10-балльной шкале;  \n",
        "`Efforts` — затраты ресурсов на проверку гипотезы по 10-балльной шкале. Чем больше значение Efforts, тем дороже проверка гипотезы.  \n",
        "2. Файл `/datasets/orders.csv`  \n",
        "`transactionId` — идентификатор заказа;  \n",
        "`visitorId` — идентификатор пользователя, совершившего заказ;  \n",
        "`date` — дата, когда был совершён заказ;  \n",
        "`revenue` — выручка заказа;  \n",
        "`group` — группа A/B-теста, в которую попал заказ.  \n",
        "3. Файл `/datasets/visitors.csv`  \n",
        "`date` — дата;  \n",
        "`group` — группа A/B-теста;  \n",
        "`visitors` — количество пользователей в указанную дату в указанной группе A/B-теста."
      ]
    },
    {
      "cell_type": "markdown",
      "metadata": {
        "id": "i8_43LSCMBPz"
      },
      "source": [
        "## Загружаем необходимые библиотеки"
      ]
    },
    {
      "cell_type": "code",
      "execution_count": null,
      "metadata": {
        "id": "6wyfCZv_MBP0"
      },
      "outputs": [],
      "source": [
        "import pandas as pd\n",
        "import datetime as dt\n",
        "import numpy as np\n",
        "import matplotlib.pyplot as plt\n",
        "from pandas.plotting import register_matplotlib_converters\n",
        "import warnings\n",
        "import scipy.stats as stats\n",
        "# конвертеры, которые позволяют использовать типы pandas в matplotlib  \n",
        "register_matplotlib_converters()"
      ]
    },
    {
      "cell_type": "markdown",
      "metadata": {
        "id": "Qy8eRIRhMBP2"
      },
      "source": [
        "## Приоритизация гипотез"
      ]
    },
    {
      "cell_type": "code",
      "execution_count": null,
      "metadata": {
        "id": "leWJ0EdTMBP2"
      },
      "outputs": [],
      "source": [
        "# запишем датафрейм\n",
        "hypothesis = pd.read_csv('/datasets/hypothesis.csv')"
      ]
    },
    {
      "cell_type": "code",
      "execution_count": null,
      "metadata": {
        "id": "sfQjK3JbMBP2",
        "outputId": "2dba0e07-5d03-405e-e42f-12691b430d58"
      },
      "outputs": [
        {
          "data": {
            "text/html": [
              "<div>\n",
              "<style scoped>\n",
              "    .dataframe tbody tr th:only-of-type {\n",
              "        vertical-align: middle;\n",
              "    }\n",
              "\n",
              "    .dataframe tbody tr th {\n",
              "        vertical-align: top;\n",
              "    }\n",
              "\n",
              "    .dataframe thead th {\n",
              "        text-align: right;\n",
              "    }\n",
              "</style>\n",
              "<table border=\"1\" class=\"dataframe\">\n",
              "  <thead>\n",
              "    <tr style=\"text-align: right;\">\n",
              "      <th></th>\n",
              "      <th>Hypothesis</th>\n",
              "      <th>Reach</th>\n",
              "      <th>Impact</th>\n",
              "      <th>Confidence</th>\n",
              "      <th>Efforts</th>\n",
              "    </tr>\n",
              "  </thead>\n",
              "  <tbody>\n",
              "    <tr>\n",
              "      <th>0</th>\n",
              "      <td>Добавить два новых канала привлечения трафика, что позволит привлекать на 30% больше пользователей</td>\n",
              "      <td>3</td>\n",
              "      <td>10</td>\n",
              "      <td>8</td>\n",
              "      <td>6</td>\n",
              "    </tr>\n",
              "    <tr>\n",
              "      <th>1</th>\n",
              "      <td>Запустить собственную службу доставки, что сократит срок доставки заказов</td>\n",
              "      <td>2</td>\n",
              "      <td>5</td>\n",
              "      <td>4</td>\n",
              "      <td>10</td>\n",
              "    </tr>\n",
              "    <tr>\n",
              "      <th>2</th>\n",
              "      <td>Добавить блоки рекомендаций товаров на сайт интернет магазина, чтобы повысить конверсию и средний чек заказа</td>\n",
              "      <td>8</td>\n",
              "      <td>3</td>\n",
              "      <td>7</td>\n",
              "      <td>3</td>\n",
              "    </tr>\n",
              "    <tr>\n",
              "      <th>3</th>\n",
              "      <td>Изменить структура категорий, что увеличит конверсию, т.к. пользователи быстрее найдут нужный товар</td>\n",
              "      <td>8</td>\n",
              "      <td>3</td>\n",
              "      <td>3</td>\n",
              "      <td>8</td>\n",
              "    </tr>\n",
              "    <tr>\n",
              "      <th>4</th>\n",
              "      <td>Изменить цвет фона главной страницы, чтобы увеличить вовлеченность пользователей</td>\n",
              "      <td>3</td>\n",
              "      <td>1</td>\n",
              "      <td>1</td>\n",
              "      <td>1</td>\n",
              "    </tr>\n",
              "    <tr>\n",
              "      <th>5</th>\n",
              "      <td>Добавить страницу отзывов клиентов о магазине, что позволит увеличить количество заказов</td>\n",
              "      <td>3</td>\n",
              "      <td>2</td>\n",
              "      <td>2</td>\n",
              "      <td>3</td>\n",
              "    </tr>\n",
              "    <tr>\n",
              "      <th>6</th>\n",
              "      <td>Показать на главной странице баннеры с актуальными акциями и распродажами, чтобы увеличить конверсию</td>\n",
              "      <td>5</td>\n",
              "      <td>3</td>\n",
              "      <td>8</td>\n",
              "      <td>3</td>\n",
              "    </tr>\n",
              "    <tr>\n",
              "      <th>7</th>\n",
              "      <td>Добавить форму подписки на все основные страницы, чтобы собрать базу клиентов для email-рассылок</td>\n",
              "      <td>10</td>\n",
              "      <td>7</td>\n",
              "      <td>8</td>\n",
              "      <td>5</td>\n",
              "    </tr>\n",
              "    <tr>\n",
              "      <th>8</th>\n",
              "      <td>Запустить акцию, дающую скидку на товар в день рождения</td>\n",
              "      <td>1</td>\n",
              "      <td>9</td>\n",
              "      <td>9</td>\n",
              "      <td>5</td>\n",
              "    </tr>\n",
              "  </tbody>\n",
              "</table>\n",
              "</div>"
            ],
            "text/plain": [
              "                                                                                                     Hypothesis  \\\n",
              "0            Добавить два новых канала привлечения трафика, что позволит привлекать на 30% больше пользователей   \n",
              "1                                     Запустить собственную службу доставки, что сократит срок доставки заказов   \n",
              "2  Добавить блоки рекомендаций товаров на сайт интернет магазина, чтобы повысить конверсию и средний чек заказа   \n",
              "3           Изменить структура категорий, что увеличит конверсию, т.к. пользователи быстрее найдут нужный товар   \n",
              "4                              Изменить цвет фона главной страницы, чтобы увеличить вовлеченность пользователей   \n",
              "5                      Добавить страницу отзывов клиентов о магазине, что позволит увеличить количество заказов   \n",
              "6          Показать на главной странице баннеры с актуальными акциями и распродажами, чтобы увеличить конверсию   \n",
              "7              Добавить форму подписки на все основные страницы, чтобы собрать базу клиентов для email-рассылок   \n",
              "8                                                       Запустить акцию, дающую скидку на товар в день рождения   \n",
              "\n",
              "   Reach  Impact  Confidence  Efforts  \n",
              "0      3      10           8        6  \n",
              "1      2       5           4       10  \n",
              "2      8       3           7        3  \n",
              "3      8       3           3        8  \n",
              "4      3       1           1        1  \n",
              "5      3       2           2        3  \n",
              "6      5       3           8        3  \n",
              "7     10       7           8        5  \n",
              "8      1       9           9        5  "
            ]
          },
          "metadata": {},
          "output_type": "display_data"
        }
      ],
      "source": [
        "# смотрим на содержимое датафрейма\n",
        "pd.set_option('max_colwidth', 200) # добавляю\n",
        "display(hypothesis)"
      ]
    },
    {
      "cell_type": "code",
      "execution_count": null,
      "metadata": {
        "id": "yOwa_5kUMBP5",
        "outputId": "e3ec0a43-d216-4b8a-aae4-ac17022a53eb"
      },
      "outputs": [
        {
          "data": {
            "text/html": [
              "<div>\n",
              "<style scoped>\n",
              "    .dataframe tbody tr th:only-of-type {\n",
              "        vertical-align: middle;\n",
              "    }\n",
              "\n",
              "    .dataframe tbody tr th {\n",
              "        vertical-align: top;\n",
              "    }\n",
              "\n",
              "    .dataframe thead th {\n",
              "        text-align: right;\n",
              "    }\n",
              "</style>\n",
              "<table border=\"1\" class=\"dataframe\">\n",
              "  <thead>\n",
              "    <tr style=\"text-align: right;\">\n",
              "      <th></th>\n",
              "      <th>Hypothesis</th>\n",
              "      <th>ICE</th>\n",
              "    </tr>\n",
              "  </thead>\n",
              "  <tbody>\n",
              "    <tr>\n",
              "      <th>8</th>\n",
              "      <td>Запустить акцию, дающую скидку на товар в день рождения</td>\n",
              "      <td>16.20</td>\n",
              "    </tr>\n",
              "    <tr>\n",
              "      <th>0</th>\n",
              "      <td>Добавить два новых канала привлечения трафика, что позволит привлекать на 30% больше пользователей</td>\n",
              "      <td>13.33</td>\n",
              "    </tr>\n",
              "    <tr>\n",
              "      <th>7</th>\n",
              "      <td>Добавить форму подписки на все основные страницы, чтобы собрать базу клиентов для email-рассылок</td>\n",
              "      <td>11.20</td>\n",
              "    </tr>\n",
              "    <tr>\n",
              "      <th>6</th>\n",
              "      <td>Показать на главной странице баннеры с актуальными акциями и распродажами, чтобы увеличить конверсию</td>\n",
              "      <td>8.00</td>\n",
              "    </tr>\n",
              "    <tr>\n",
              "      <th>2</th>\n",
              "      <td>Добавить блоки рекомендаций товаров на сайт интернет магазина, чтобы повысить конверсию и средний чек заказа</td>\n",
              "      <td>7.00</td>\n",
              "    </tr>\n",
              "    <tr>\n",
              "      <th>1</th>\n",
              "      <td>Запустить собственную службу доставки, что сократит срок доставки заказов</td>\n",
              "      <td>2.00</td>\n",
              "    </tr>\n",
              "    <tr>\n",
              "      <th>5</th>\n",
              "      <td>Добавить страницу отзывов клиентов о магазине, что позволит увеличить количество заказов</td>\n",
              "      <td>1.33</td>\n",
              "    </tr>\n",
              "    <tr>\n",
              "      <th>3</th>\n",
              "      <td>Изменить структура категорий, что увеличит конверсию, т.к. пользователи быстрее найдут нужный товар</td>\n",
              "      <td>1.12</td>\n",
              "    </tr>\n",
              "    <tr>\n",
              "      <th>4</th>\n",
              "      <td>Изменить цвет фона главной страницы, чтобы увеличить вовлеченность пользователей</td>\n",
              "      <td>1.00</td>\n",
              "    </tr>\n",
              "  </tbody>\n",
              "</table>\n",
              "</div>"
            ],
            "text/plain": [
              "                                                                                                     Hypothesis  \\\n",
              "8                                                       Запустить акцию, дающую скидку на товар в день рождения   \n",
              "0            Добавить два новых канала привлечения трафика, что позволит привлекать на 30% больше пользователей   \n",
              "7              Добавить форму подписки на все основные страницы, чтобы собрать базу клиентов для email-рассылок   \n",
              "6          Показать на главной странице баннеры с актуальными акциями и распродажами, чтобы увеличить конверсию   \n",
              "2  Добавить блоки рекомендаций товаров на сайт интернет магазина, чтобы повысить конверсию и средний чек заказа   \n",
              "1                                     Запустить собственную службу доставки, что сократит срок доставки заказов   \n",
              "5                      Добавить страницу отзывов клиентов о магазине, что позволит увеличить количество заказов   \n",
              "3           Изменить структура категорий, что увеличит конверсию, т.к. пользователи быстрее найдут нужный товар   \n",
              "4                              Изменить цвет фона главной страницы, чтобы увеличить вовлеченность пользователей   \n",
              "\n",
              "     ICE  \n",
              "8  16.20  \n",
              "0  13.33  \n",
              "7  11.20  \n",
              "6   8.00  \n",
              "2   7.00  \n",
              "1   2.00  \n",
              "5   1.33  \n",
              "3   1.12  \n",
              "4   1.00  "
            ]
          },
          "metadata": {},
          "output_type": "display_data"
        }
      ],
      "source": [
        "# применим фреймворк ICE для приоритизации гипотез, отсортируем их по убыванию приоритета\n",
        "hypothesis['ICE'] = (hypothesis['Impact'] * hypothesis['Confidence'] / hypothesis['Efforts']).round(2) # добавил .round(2)\n",
        "display(hypothesis[['Hypothesis', 'ICE']].sort_values(by = 'ICE', ascending = False))"
      ]
    },
    {
      "cell_type": "code",
      "execution_count": null,
      "metadata": {
        "id": "8VDndrYJMBP5",
        "outputId": "64997321-0c4b-4063-c6c6-f82dc47f4fdf"
      },
      "outputs": [
        {
          "data": {
            "text/html": [
              "<div>\n",
              "<style scoped>\n",
              "    .dataframe tbody tr th:only-of-type {\n",
              "        vertical-align: middle;\n",
              "    }\n",
              "\n",
              "    .dataframe tbody tr th {\n",
              "        vertical-align: top;\n",
              "    }\n",
              "\n",
              "    .dataframe thead th {\n",
              "        text-align: right;\n",
              "    }\n",
              "</style>\n",
              "<table border=\"1\" class=\"dataframe\">\n",
              "  <thead>\n",
              "    <tr style=\"text-align: right;\">\n",
              "      <th></th>\n",
              "      <th>Hypothesis</th>\n",
              "      <th>RICE</th>\n",
              "    </tr>\n",
              "  </thead>\n",
              "  <tbody>\n",
              "    <tr>\n",
              "      <th>7</th>\n",
              "      <td>Добавить форму подписки на все основные страницы, чтобы собрать базу клиентов для email-рассылок</td>\n",
              "      <td>112.0</td>\n",
              "    </tr>\n",
              "    <tr>\n",
              "      <th>2</th>\n",
              "      <td>Добавить блоки рекомендаций товаров на сайт интернет магазина, чтобы повысить конверсию и средний чек заказа</td>\n",
              "      <td>56.0</td>\n",
              "    </tr>\n",
              "    <tr>\n",
              "      <th>0</th>\n",
              "      <td>Добавить два новых канала привлечения трафика, что позволит привлекать на 30% больше пользователей</td>\n",
              "      <td>40.0</td>\n",
              "    </tr>\n",
              "    <tr>\n",
              "      <th>6</th>\n",
              "      <td>Показать на главной странице баннеры с актуальными акциями и распродажами, чтобы увеличить конверсию</td>\n",
              "      <td>40.0</td>\n",
              "    </tr>\n",
              "    <tr>\n",
              "      <th>8</th>\n",
              "      <td>Запустить акцию, дающую скидку на товар в день рождения</td>\n",
              "      <td>16.2</td>\n",
              "    </tr>\n",
              "    <tr>\n",
              "      <th>3</th>\n",
              "      <td>Изменить структура категорий, что увеличит конверсию, т.к. пользователи быстрее найдут нужный товар</td>\n",
              "      <td>9.0</td>\n",
              "    </tr>\n",
              "    <tr>\n",
              "      <th>1</th>\n",
              "      <td>Запустить собственную службу доставки, что сократит срок доставки заказов</td>\n",
              "      <td>4.0</td>\n",
              "    </tr>\n",
              "    <tr>\n",
              "      <th>5</th>\n",
              "      <td>Добавить страницу отзывов клиентов о магазине, что позволит увеличить количество заказов</td>\n",
              "      <td>4.0</td>\n",
              "    </tr>\n",
              "    <tr>\n",
              "      <th>4</th>\n",
              "      <td>Изменить цвет фона главной страницы, чтобы увеличить вовлеченность пользователей</td>\n",
              "      <td>3.0</td>\n",
              "    </tr>\n",
              "  </tbody>\n",
              "</table>\n",
              "</div>"
            ],
            "text/plain": [
              "                                                                                                     Hypothesis  \\\n",
              "7              Добавить форму подписки на все основные страницы, чтобы собрать базу клиентов для email-рассылок   \n",
              "2  Добавить блоки рекомендаций товаров на сайт интернет магазина, чтобы повысить конверсию и средний чек заказа   \n",
              "0            Добавить два новых канала привлечения трафика, что позволит привлекать на 30% больше пользователей   \n",
              "6          Показать на главной странице баннеры с актуальными акциями и распродажами, чтобы увеличить конверсию   \n",
              "8                                                       Запустить акцию, дающую скидку на товар в день рождения   \n",
              "3           Изменить структура категорий, что увеличит конверсию, т.к. пользователи быстрее найдут нужный товар   \n",
              "1                                     Запустить собственную службу доставки, что сократит срок доставки заказов   \n",
              "5                      Добавить страницу отзывов клиентов о магазине, что позволит увеличить количество заказов   \n",
              "4                              Изменить цвет фона главной страницы, чтобы увеличить вовлеченность пользователей   \n",
              "\n",
              "    RICE  \n",
              "7  112.0  \n",
              "2   56.0  \n",
              "0   40.0  \n",
              "6   40.0  \n",
              "8   16.2  \n",
              "3    9.0  \n",
              "1    4.0  \n",
              "5    4.0  \n",
              "4    3.0  "
            ]
          },
          "metadata": {},
          "output_type": "display_data"
        }
      ],
      "source": [
        "# Применим фреймворк RICE для приоритизации гипотез, Отсортируем их по убыванию приоритета.\n",
        "hypothesis['RICE'] = hypothesis['Reach'] * hypothesis['Impact'] * hypothesis['Confidence'] / hypothesis['Efforts']\n",
        "display(hypothesis[['Hypothesis', 'RICE']].sort_values(by = 'RICE', ascending = False))"
      ]
    },
    {
      "cell_type": "markdown",
      "metadata": {
        "id": "ng-X-j--MBP6"
      },
      "source": [
        "**Вывод:**  \n",
        "Самый высокий ICE у 8, 0 и 7 гипотезы.  \n",
        "Самый высокий RICE у 7, 2, 0 и 6 гипотезы.  \n",
        "Изменение приоритизации по RICE связано с максимальным значением Reach (затрагиваемый охват пользователей) у 7 гипотезы.  \n",
        "В нашем случае приоритетными гипотезами будут 7, 2, 0."
      ]
    },
    {
      "cell_type": "markdown",
      "metadata": {
        "id": "LD3KO8UaMBP7"
      },
      "source": [
        "## Анализ A/B-теста\n",
        "A/B тест проведен, необходимо проанализировать результаты"
      ]
    },
    {
      "cell_type": "code",
      "execution_count": null,
      "metadata": {
        "id": "bPAMuqa3MBP7"
      },
      "outputs": [],
      "source": [
        "# записываем получившиеся датафреймы\n",
        "orders = pd.read_csv('/datasets/orders.csv')\n",
        "visitors = pd.read_csv('/datasets/visitors.csv')"
      ]
    },
    {
      "cell_type": "code",
      "execution_count": null,
      "metadata": {
        "id": "6Jd6eHY_MBP7",
        "outputId": "59c7645b-c2b9-4c34-bae9-0cbf2685d910"
      },
      "outputs": [
        {
          "data": {
            "text/html": [
              "<div>\n",
              "<style scoped>\n",
              "    .dataframe tbody tr th:only-of-type {\n",
              "        vertical-align: middle;\n",
              "    }\n",
              "\n",
              "    .dataframe tbody tr th {\n",
              "        vertical-align: top;\n",
              "    }\n",
              "\n",
              "    .dataframe thead th {\n",
              "        text-align: right;\n",
              "    }\n",
              "</style>\n",
              "<table border=\"1\" class=\"dataframe\">\n",
              "  <thead>\n",
              "    <tr style=\"text-align: right;\">\n",
              "      <th></th>\n",
              "      <th>transactionId</th>\n",
              "      <th>visitorId</th>\n",
              "      <th>date</th>\n",
              "      <th>revenue</th>\n",
              "      <th>group</th>\n",
              "    </tr>\n",
              "  </thead>\n",
              "  <tbody>\n",
              "    <tr>\n",
              "      <th>0</th>\n",
              "      <td>3667963787</td>\n",
              "      <td>3312258926</td>\n",
              "      <td>2019-08-15</td>\n",
              "      <td>1650</td>\n",
              "      <td>B</td>\n",
              "    </tr>\n",
              "    <tr>\n",
              "      <th>1</th>\n",
              "      <td>2804400009</td>\n",
              "      <td>3642806036</td>\n",
              "      <td>2019-08-15</td>\n",
              "      <td>730</td>\n",
              "      <td>B</td>\n",
              "    </tr>\n",
              "    <tr>\n",
              "      <th>2</th>\n",
              "      <td>2961555356</td>\n",
              "      <td>4069496402</td>\n",
              "      <td>2019-08-15</td>\n",
              "      <td>400</td>\n",
              "      <td>A</td>\n",
              "    </tr>\n",
              "    <tr>\n",
              "      <th>3</th>\n",
              "      <td>3797467345</td>\n",
              "      <td>1196621759</td>\n",
              "      <td>2019-08-15</td>\n",
              "      <td>9759</td>\n",
              "      <td>B</td>\n",
              "    </tr>\n",
              "    <tr>\n",
              "      <th>4</th>\n",
              "      <td>2282983706</td>\n",
              "      <td>2322279887</td>\n",
              "      <td>2019-08-15</td>\n",
              "      <td>2308</td>\n",
              "      <td>B</td>\n",
              "    </tr>\n",
              "    <tr>\n",
              "      <th>...</th>\n",
              "      <td>...</td>\n",
              "      <td>...</td>\n",
              "      <td>...</td>\n",
              "      <td>...</td>\n",
              "      <td>...</td>\n",
              "    </tr>\n",
              "    <tr>\n",
              "      <th>1192</th>\n",
              "      <td>2662137336</td>\n",
              "      <td>3733762160</td>\n",
              "      <td>2019-08-14</td>\n",
              "      <td>6490</td>\n",
              "      <td>B</td>\n",
              "    </tr>\n",
              "    <tr>\n",
              "      <th>1193</th>\n",
              "      <td>2203539145</td>\n",
              "      <td>370388673</td>\n",
              "      <td>2019-08-14</td>\n",
              "      <td>3190</td>\n",
              "      <td>A</td>\n",
              "    </tr>\n",
              "    <tr>\n",
              "      <th>1194</th>\n",
              "      <td>1807773912</td>\n",
              "      <td>573423106</td>\n",
              "      <td>2019-08-14</td>\n",
              "      <td>10550</td>\n",
              "      <td>A</td>\n",
              "    </tr>\n",
              "    <tr>\n",
              "      <th>1195</th>\n",
              "      <td>1947021204</td>\n",
              "      <td>1614305549</td>\n",
              "      <td>2019-08-14</td>\n",
              "      <td>100</td>\n",
              "      <td>A</td>\n",
              "    </tr>\n",
              "    <tr>\n",
              "      <th>1196</th>\n",
              "      <td>3936777065</td>\n",
              "      <td>2108080724</td>\n",
              "      <td>2019-08-15</td>\n",
              "      <td>202740</td>\n",
              "      <td>B</td>\n",
              "    </tr>\n",
              "  </tbody>\n",
              "</table>\n",
              "<p>1197 rows × 5 columns</p>\n",
              "</div>"
            ],
            "text/plain": [
              "      transactionId   visitorId        date  revenue group\n",
              "0        3667963787  3312258926  2019-08-15     1650     B\n",
              "1        2804400009  3642806036  2019-08-15      730     B\n",
              "2        2961555356  4069496402  2019-08-15      400     A\n",
              "3        3797467345  1196621759  2019-08-15     9759     B\n",
              "4        2282983706  2322279887  2019-08-15     2308     B\n",
              "...             ...         ...         ...      ...   ...\n",
              "1192     2662137336  3733762160  2019-08-14     6490     B\n",
              "1193     2203539145   370388673  2019-08-14     3190     A\n",
              "1194     1807773912   573423106  2019-08-14    10550     A\n",
              "1195     1947021204  1614305549  2019-08-14      100     A\n",
              "1196     3936777065  2108080724  2019-08-15   202740     B\n",
              "\n",
              "[1197 rows x 5 columns]"
            ]
          },
          "metadata": {},
          "output_type": "display_data"
        },
        {
          "name": "stdout",
          "output_type": "stream",
          "text": [
            "<class 'pandas.core.frame.DataFrame'>\n",
            "RangeIndex: 1197 entries, 0 to 1196\n",
            "Data columns (total 5 columns):\n",
            " #   Column         Non-Null Count  Dtype \n",
            "---  ------         --------------  ----- \n",
            " 0   transactionId  1197 non-null   int64 \n",
            " 1   visitorId      1197 non-null   int64 \n",
            " 2   date           1197 non-null   object\n",
            " 3   revenue        1197 non-null   int64 \n",
            " 4   group          1197 non-null   object\n",
            "dtypes: int64(3), object(2)\n",
            "memory usage: 46.9+ KB\n"
          ]
        }
      ],
      "source": [
        "# смотрим на получившиеся датафреймы\n",
        "display(orders)\n",
        "orders.info()"
      ]
    },
    {
      "cell_type": "code",
      "execution_count": null,
      "metadata": {
        "id": "n50Ed8U7MBP8",
        "outputId": "0ff6a871-854d-4a08-c151-d59472d20a07"
      },
      "outputs": [
        {
          "data": {
            "text/html": [
              "<div>\n",
              "<style scoped>\n",
              "    .dataframe tbody tr th:only-of-type {\n",
              "        vertical-align: middle;\n",
              "    }\n",
              "\n",
              "    .dataframe tbody tr th {\n",
              "        vertical-align: top;\n",
              "    }\n",
              "\n",
              "    .dataframe thead th {\n",
              "        text-align: right;\n",
              "    }\n",
              "</style>\n",
              "<table border=\"1\" class=\"dataframe\">\n",
              "  <thead>\n",
              "    <tr style=\"text-align: right;\">\n",
              "      <th></th>\n",
              "      <th>date</th>\n",
              "      <th>group</th>\n",
              "      <th>visitors</th>\n",
              "    </tr>\n",
              "  </thead>\n",
              "  <tbody>\n",
              "    <tr>\n",
              "      <th>0</th>\n",
              "      <td>2019-08-01</td>\n",
              "      <td>A</td>\n",
              "      <td>719</td>\n",
              "    </tr>\n",
              "    <tr>\n",
              "      <th>1</th>\n",
              "      <td>2019-08-02</td>\n",
              "      <td>A</td>\n",
              "      <td>619</td>\n",
              "    </tr>\n",
              "    <tr>\n",
              "      <th>2</th>\n",
              "      <td>2019-08-03</td>\n",
              "      <td>A</td>\n",
              "      <td>507</td>\n",
              "    </tr>\n",
              "    <tr>\n",
              "      <th>3</th>\n",
              "      <td>2019-08-04</td>\n",
              "      <td>A</td>\n",
              "      <td>717</td>\n",
              "    </tr>\n",
              "    <tr>\n",
              "      <th>4</th>\n",
              "      <td>2019-08-05</td>\n",
              "      <td>A</td>\n",
              "      <td>756</td>\n",
              "    </tr>\n",
              "    <tr>\n",
              "      <th>...</th>\n",
              "      <td>...</td>\n",
              "      <td>...</td>\n",
              "      <td>...</td>\n",
              "    </tr>\n",
              "    <tr>\n",
              "      <th>57</th>\n",
              "      <td>2019-08-27</td>\n",
              "      <td>B</td>\n",
              "      <td>720</td>\n",
              "    </tr>\n",
              "    <tr>\n",
              "      <th>58</th>\n",
              "      <td>2019-08-28</td>\n",
              "      <td>B</td>\n",
              "      <td>654</td>\n",
              "    </tr>\n",
              "    <tr>\n",
              "      <th>59</th>\n",
              "      <td>2019-08-29</td>\n",
              "      <td>B</td>\n",
              "      <td>531</td>\n",
              "    </tr>\n",
              "    <tr>\n",
              "      <th>60</th>\n",
              "      <td>2019-08-30</td>\n",
              "      <td>B</td>\n",
              "      <td>490</td>\n",
              "    </tr>\n",
              "    <tr>\n",
              "      <th>61</th>\n",
              "      <td>2019-08-31</td>\n",
              "      <td>B</td>\n",
              "      <td>718</td>\n",
              "    </tr>\n",
              "  </tbody>\n",
              "</table>\n",
              "<p>62 rows × 3 columns</p>\n",
              "</div>"
            ],
            "text/plain": [
              "          date group  visitors\n",
              "0   2019-08-01     A       719\n",
              "1   2019-08-02     A       619\n",
              "2   2019-08-03     A       507\n",
              "3   2019-08-04     A       717\n",
              "4   2019-08-05     A       756\n",
              "..         ...   ...       ...\n",
              "57  2019-08-27     B       720\n",
              "58  2019-08-28     B       654\n",
              "59  2019-08-29     B       531\n",
              "60  2019-08-30     B       490\n",
              "61  2019-08-31     B       718\n",
              "\n",
              "[62 rows x 3 columns]"
            ]
          },
          "metadata": {},
          "output_type": "display_data"
        },
        {
          "name": "stdout",
          "output_type": "stream",
          "text": [
            "<class 'pandas.core.frame.DataFrame'>\n",
            "RangeIndex: 62 entries, 0 to 61\n",
            "Data columns (total 3 columns):\n",
            " #   Column    Non-Null Count  Dtype \n",
            "---  ------    --------------  ----- \n",
            " 0   date      62 non-null     object\n",
            " 1   group     62 non-null     object\n",
            " 2   visitors  62 non-null     int64 \n",
            "dtypes: int64(1), object(2)\n",
            "memory usage: 1.6+ KB\n"
          ]
        }
      ],
      "source": [
        "# смотрим на получившиеся датафреймы\n",
        "display(visitors)\n",
        "visitors.info()"
      ]
    },
    {
      "cell_type": "code",
      "execution_count": null,
      "metadata": {
        "id": "BttSEOKsMBP9",
        "outputId": "70e43771-905a-4c16-d4af-549016607a44"
      },
      "outputs": [
        {
          "name": "stdout",
          "output_type": "stream",
          "text": [
            "Явных дубликатов по orders: 0\n",
            "Явных дубликатов по visitors: 0\n"
          ]
        }
      ],
      "source": [
        "# проверяем на наличие явные дубликатов\n",
        "print('Явных дубликатов по orders:', orders.duplicated().sum())\n",
        "print('Явных дубликатов по visitors:', visitors.duplicated().sum())"
      ]
    },
    {
      "cell_type": "code",
      "execution_count": null,
      "metadata": {
        "id": "Z460JD5iMBP-"
      },
      "outputs": [],
      "source": [
        "# приводим в формату дата по столбцам date обоих датафреймов\n",
        "orders['date'] = pd.to_datetime(orders['date'])\n",
        "visitors['date'] = pd.to_datetime(visitors['date'])"
      ]
    },
    {
      "cell_type": "code",
      "execution_count": null,
      "metadata": {
        "id": "kgfa6O21MBP-",
        "outputId": "93926300-4eee-4709-d153-a40132d093ca"
      },
      "outputs": [
        {
          "data": {
            "text/html": [
              "<div>\n",
              "<style scoped>\n",
              "    .dataframe tbody tr th:only-of-type {\n",
              "        vertical-align: middle;\n",
              "    }\n",
              "\n",
              "    .dataframe tbody tr th {\n",
              "        vertical-align: top;\n",
              "    }\n",
              "\n",
              "    .dataframe thead th {\n",
              "        text-align: right;\n",
              "    }\n",
              "</style>\n",
              "<table border=\"1\" class=\"dataframe\">\n",
              "  <thead>\n",
              "    <tr style=\"text-align: right;\">\n",
              "      <th></th>\n",
              "      <th>date</th>\n",
              "      <th>group</th>\n",
              "      <th>orders</th>\n",
              "      <th>buyers</th>\n",
              "      <th>revenue</th>\n",
              "      <th>visitors</th>\n",
              "    </tr>\n",
              "  </thead>\n",
              "  <tbody>\n",
              "    <tr>\n",
              "      <th>0</th>\n",
              "      <td>2019-08-01</td>\n",
              "      <td>A</td>\n",
              "      <td>24</td>\n",
              "      <td>20</td>\n",
              "      <td>148579</td>\n",
              "      <td>719</td>\n",
              "    </tr>\n",
              "    <tr>\n",
              "      <th>1</th>\n",
              "      <td>2019-08-01</td>\n",
              "      <td>B</td>\n",
              "      <td>21</td>\n",
              "      <td>20</td>\n",
              "      <td>101217</td>\n",
              "      <td>713</td>\n",
              "    </tr>\n",
              "    <tr>\n",
              "      <th>2</th>\n",
              "      <td>2019-08-02</td>\n",
              "      <td>A</td>\n",
              "      <td>44</td>\n",
              "      <td>38</td>\n",
              "      <td>242401</td>\n",
              "      <td>1338</td>\n",
              "    </tr>\n",
              "    <tr>\n",
              "      <th>3</th>\n",
              "      <td>2019-08-02</td>\n",
              "      <td>B</td>\n",
              "      <td>45</td>\n",
              "      <td>43</td>\n",
              "      <td>266748</td>\n",
              "      <td>1294</td>\n",
              "    </tr>\n",
              "    <tr>\n",
              "      <th>4</th>\n",
              "      <td>2019-08-03</td>\n",
              "      <td>A</td>\n",
              "      <td>68</td>\n",
              "      <td>62</td>\n",
              "      <td>354874</td>\n",
              "      <td>1845</td>\n",
              "    </tr>\n",
              "    <tr>\n",
              "      <th>...</th>\n",
              "      <td>...</td>\n",
              "      <td>...</td>\n",
              "      <td>...</td>\n",
              "      <td>...</td>\n",
              "      <td>...</td>\n",
              "      <td>...</td>\n",
              "    </tr>\n",
              "    <tr>\n",
              "      <th>57</th>\n",
              "      <td>2019-08-29</td>\n",
              "      <td>B</td>\n",
              "      <td>596</td>\n",
              "      <td>544</td>\n",
              "      <td>5559398</td>\n",
              "      <td>17708</td>\n",
              "    </tr>\n",
              "    <tr>\n",
              "      <th>58</th>\n",
              "      <td>2019-08-30</td>\n",
              "      <td>A</td>\n",
              "      <td>545</td>\n",
              "      <td>493</td>\n",
              "      <td>4022970</td>\n",
              "      <td>18037</td>\n",
              "    </tr>\n",
              "    <tr>\n",
              "      <th>59</th>\n",
              "      <td>2019-08-30</td>\n",
              "      <td>B</td>\n",
              "      <td>620</td>\n",
              "      <td>567</td>\n",
              "      <td>5774631</td>\n",
              "      <td>18198</td>\n",
              "    </tr>\n",
              "    <tr>\n",
              "      <th>60</th>\n",
              "      <td>2019-08-31</td>\n",
              "      <td>A</td>\n",
              "      <td>557</td>\n",
              "      <td>503</td>\n",
              "      <td>4084803</td>\n",
              "      <td>18736</td>\n",
              "    </tr>\n",
              "    <tr>\n",
              "      <th>61</th>\n",
              "      <td>2019-08-31</td>\n",
              "      <td>B</td>\n",
              "      <td>640</td>\n",
              "      <td>586</td>\n",
              "      <td>5907760</td>\n",
              "      <td>18916</td>\n",
              "    </tr>\n",
              "  </tbody>\n",
              "</table>\n",
              "<p>62 rows × 6 columns</p>\n",
              "</div>"
            ],
            "text/plain": [
              "         date group  orders  buyers  revenue  visitors\n",
              "0  2019-08-01     A      24      20   148579       719\n",
              "1  2019-08-01     B      21      20   101217       713\n",
              "2  2019-08-02     A      44      38   242401      1338\n",
              "3  2019-08-02     B      45      43   266748      1294\n",
              "4  2019-08-03     A      68      62   354874      1845\n",
              "..        ...   ...     ...     ...      ...       ...\n",
              "57 2019-08-29     B     596     544  5559398     17708\n",
              "58 2019-08-30     A     545     493  4022970     18037\n",
              "59 2019-08-30     B     620     567  5774631     18198\n",
              "60 2019-08-31     A     557     503  4084803     18736\n",
              "61 2019-08-31     B     640     586  5907760     18916\n",
              "\n",
              "[62 rows x 6 columns]"
            ]
          },
          "metadata": {},
          "output_type": "display_data"
        }
      ],
      "source": [
        "# создаем массив уникальных пар значений дат и групп теста\n",
        "datesGroups = orders[['date','group']].drop_duplicates()\n",
        "# получаем агрегированные кумулятивные по дням данные о заказах \n",
        "ordersAggregated = datesGroups.apply(lambda x: orders[np.logical_and(orders['date'] <= x['date'], orders['group'] == x['group'])].agg({'date' : 'max', 'group' : 'max', 'transactionId' : 'nunique', 'visitorId' : 'nunique', 'revenue' : 'sum'}), axis=1).sort_values(by=['date','group'])\n",
        "# получаем агрегированные кумулятивные по дням данные о посетителях интернет-магазина \n",
        "visitorsAggregated = datesGroups.apply(lambda x: visitors[np.logical_and(visitors['date'] <= x['date'], visitors['group'] == x['group'])].agg({'date' : 'max', 'group' : 'max', 'visitors' : 'sum'}), axis=1).sort_values(by=['date','group'])\n",
        "# объединяем кумулятивные данные в одной таблице и присваиваем ее столбцам понятные названия\n",
        "cumulativeData = ordersAggregated.merge(visitorsAggregated, left_on=['date', 'group'], right_on=['date', 'group'])\n",
        "cumulativeData.columns = ['date', 'group', 'orders', 'buyers', 'revenue', 'visitors']\n",
        "\n",
        "display(cumulativeData)"
      ]
    },
    {
      "cell_type": "code",
      "execution_count": null,
      "metadata": {
        "id": "FMiIMmT6MBP_",
        "outputId": "f585a3fd-7c0c-4a5b-9cdf-43afca83fab8"
      },
      "outputs": [
        {
          "data": {
            "image/png": "[encoded data removed]",
            "text/plain": [
              "<Figure size 1152x432 with 1 Axes>"
            ]
          },
          "metadata": {
            "needs_background": "light"
          },
          "output_type": "display_data"
        }
      ],
      "source": [
        "# строим график кумулятивной выручки по дням и группам\n",
        "\n",
        "# датафрейм с кумулятивным количеством заказов и кумулятивной выручкой по дням в группе А\n",
        "cumulativeRevenueA = cumulativeData[cumulativeData['group']=='A'][['date','revenue', 'orders']]\n",
        "\n",
        "# датафрейм с кумулятивным количеством заказов и кумулятивной выручкой по дням в группе B\n",
        "cumulativeRevenueB = cumulativeData[cumulativeData['group']=='B'][['date','revenue', 'orders']]\n",
        "# оформляем график\n",
        "plt.figure(figsize=(16,6)) #добавил\n",
        "plt.title(\"График кумулятивной выручки по дням и группам\") #добавил\n",
        "plt.xlabel(\"Дата\") #добавил\n",
        "plt.ylabel(\"Выручка\") #добавил\n",
        "plt.grid() #добавил\n",
        "# Строим график выручки группы А\n",
        "plt.plot(cumulativeRevenueA['date'], cumulativeRevenueA['revenue'], label='A')\n",
        "# Строим график выручки группы B\n",
        "plt.plot(cumulativeRevenueB['date'], cumulativeRevenueB['revenue'], label='B')\n",
        "#plt.xticks(rotation=90)\n",
        "plt.legend()\n",
        "plt.show()"
      ]
    },
    {
      "cell_type": "markdown",
      "metadata": {
        "id": "WMItGXV-MBQA"
      },
      "source": [
        "**Вывод:**  \n",
        "Выручка по группе В в середине теста (2019-08-17) резко вырастает и продолжает расти значительно превышая выручку по группе А.  \n",
        "Это может свидетельствовать или о резком росте числа заказов, или об увеличении среднего чека заказов."
      ]
    },
    {
      "cell_type": "code",
      "execution_count": null,
      "metadata": {
        "id": "XrbMMCR3MBQT",
        "outputId": "789a4192-6a0e-48b2-b858-1048909eb236"
      },
      "outputs": [
        {
          "data": {
            "image/png": "[encoded data removed]",
            "text/plain": [
              "<Figure size 1152x432 with 1 Axes>"
            ]
          },
          "metadata": {
            "needs_background": "light"
          },
          "output_type": "display_data"
        }
      ],
      "source": [
        "# построим график кумулятивного среднего чека по группам\n",
        "# оформляем график\n",
        "plt.figure(figsize=(16,6)) #добавил\n",
        "plt.title(\"График кумулятивного среднего чека по группам\") #добавил\n",
        "plt.xlabel(\"Дата\") #добавил\n",
        "plt.ylabel(\"Средний чек\") #добавил\n",
        "plt.grid() #добавил\n",
        "plt.plot(cumulativeRevenueA['date'], cumulativeRevenueA['revenue']/cumulativeRevenueA['orders'], label='A')\n",
        "plt.plot(cumulativeRevenueB['date'], cumulativeRevenueB['revenue']/cumulativeRevenueB['orders'], label='B')\n",
        "#plt.xticks(rotation=90)\n",
        "plt.legend()\n",
        "plt.show()"
      ]
    },
    {
      "cell_type": "code",
      "execution_count": null,
      "metadata": {
        "id": "WEVaDmLFMBQU",
        "outputId": "927e4795-ea11-47f8-d34f-f730153c44b0"
      },
      "outputs": [
        {
          "data": {
            "image/png": "[encoded data removed]",
            "text/plain": [
              "<Figure size 1152x432 with 1 Axes>"
            ]
          },
          "metadata": {
            "needs_background": "light"
          },
          "output_type": "display_data"
        }
      ],
      "source": [
        "# строим график относительного изменения кумулятивного среднего чека группы B к группе A\n",
        "# собираем данные в одном датафрейме\n",
        "mergedCumulativeRevenue = cumulativeRevenueA.merge(cumulativeRevenueB, left_on='date', right_on='date', how='left', suffixes=['A', 'B'])\n",
        "# оформляем график\n",
        "plt.figure(figsize=(16,6)) #добавил\n",
        "plt.title(\"График относительного изменения кумулятивного среднего чека группы B к группе A\") #добавил\n",
        "plt.xlabel(\"Дата\") #добавил\n",
        "plt.ylabel(\"Отношение среднего чека\") #добавил\n",
        "plt.grid() #добавил\n",
        "# cтроим отношение средних чеков\n",
        "plt.plot(mergedCumulativeRevenue['date'], (mergedCumulativeRevenue['revenueB']/mergedCumulativeRevenue['ordersB'])/(mergedCumulativeRevenue['revenueA']/mergedCumulativeRevenue['ordersA'])-1)\n",
        "# добавляем ось X\n",
        "plt.axhline(y=0, color='black', linestyle='--') \n",
        "#plt.xticks(rotation=90)\n",
        "plt.show()"
      ]
    },
    {
      "cell_type": "markdown",
      "metadata": {
        "id": "c6cBHT6GMBQV"
      },
      "source": [
        "**Вывод:**  \n",
        "Наблюдаются постоянные резкие скачки среднего чека. Вероятно были крупные заказы по группе В."
      ]
    },
    {
      "cell_type": "code",
      "execution_count": null,
      "metadata": {
        "id": "LufTHgcQMBQV",
        "outputId": "bf63a584-c429-4375-8e00-ff4143d17dff"
      },
      "outputs": [
        {
          "data": {
            "image/png": "[encoded data removed]",
            "text/plain": [
              "<Figure size 1152x432 with 1 Axes>"
            ]
          },
          "metadata": {
            "needs_background": "light"
          },
          "output_type": "display_data"
        }
      ],
      "source": [
        "# строим график кумулятивного среднего количества заказов на посетителя по группам\n",
        "# датафрейм с кумулятивным средним количеством заказов на посетителя по группе А\n",
        "cumulativeRevenueA = cumulativeData[cumulativeData['group']=='A'][['date','visitors', 'orders']]\n",
        "# датафрейм с кумулятивным средним количеством заказов на посетителя по группе В\n",
        "cumulativeRevenueB = cumulativeData[cumulativeData['group']=='B'][['date','visitors', 'orders']]\n",
        "# оформляем график\n",
        "plt.figure(figsize=(16,6)) #добавил\n",
        "plt.title(\"График кумулятивного среднего количества заказов на посетителя по группам\") #добавил\n",
        "plt.xlabel(\"Дата\") #добавил\n",
        "plt.ylabel(\"Среднее количество заказов на посетителя\") #добавил\n",
        "plt.grid() #добавил\n",
        "# строим график среднего количества заказов по посетителям по группе А\n",
        "plt.plot(cumulativeRevenueA['date'], cumulativeRevenueA['orders']/cumulativeRevenueA['visitors'], label='A')\n",
        "# строим график среднего количества заказов по посетителям по группе В\n",
        "plt.plot(cumulativeRevenueB['date'], cumulativeRevenueB['orders']/cumulativeRevenueB['visitors'], label='B')\n",
        "#plt.xticks(rotation=90)\n",
        "plt.legend()\n",
        "plt.show()"
      ]
    },
    {
      "cell_type": "markdown",
      "metadata": {
        "id": "hIqcQXNRMBQW"
      },
      "source": [
        "**Вывод:**  \n",
        "По группе В среднее количество заказов на посетителей превышает среднее количество заказов по группе А."
      ]
    },
    {
      "cell_type": "code",
      "execution_count": null,
      "metadata": {
        "id": "oe2nFqMDMBQX",
        "outputId": "204510dd-ca6e-479f-fad2-bf4a30ab53a6"
      },
      "outputs": [
        {
          "data": {
            "image/png": "[encoded data removed]",
            "text/plain": [
              "<Figure size 1152x432 with 1 Axes>"
            ]
          },
          "metadata": {
            "needs_background": "light"
          },
          "output_type": "display_data"
        }
      ],
      "source": [
        "# строим график относительного изменения кумулятивного среднего количества заказов на посетителя группы B к группе A\n",
        "# собираем данные в одном датафрейме\n",
        "mergedCumulativeRevenue = cumulativeRevenueA.merge(cumulativeRevenueB, left_on='date', right_on='date', how='left', suffixes=['A', 'B'])\n",
        "# оформляем график\n",
        "plt.figure(figsize=(16,6)) #добавил\n",
        "plt.title(\"График относительного изменения кумулятивного среднего количества заказов на посетителя группы B к группе A\") #добавил\n",
        "plt.xlabel(\"Дата\") #добавил\n",
        "plt.ylabel(\"Отношение среднего количества заказов\") #добавил\n",
        "plt.grid() #добавил\n",
        "# cтроим отношение среднего количества заказов\n",
        "plt.plot(mergedCumulativeRevenue['date'], (mergedCumulativeRevenue['ordersB']/mergedCumulativeRevenue['visitorsB'])/(mergedCumulativeRevenue['ordersA']/mergedCumulativeRevenue['visitorsA'])-1)\n",
        "# добавляем ось X\n",
        "plt.axhline(y=0, color='black', linestyle='--') \n",
        "plt.axhline(y=0.15, color='black', linestyle='--') #добавил\n",
        "#plt.xticks(rotation=90)\n",
        "plt.show()"
      ]
    },
    {
      "cell_type": "markdown",
      "metadata": {
        "id": "HMcu0yvtMBQY"
      },
      "source": [
        "**Вывод:**  \n",
        "Резкий всплекск наблюдается 05.08.2019, затем идет плавное снижение. Возможно выброс таким образом влияет на показатели."
      ]
    },
    {
      "cell_type": "code",
      "execution_count": null,
      "metadata": {
        "id": "4t6Eogm6MBQZ",
        "outputId": "4c5fbd68-6abe-4702-8c6c-20ae38ba499b"
      },
      "outputs": [
        {
          "data": {
            "text/html": [
              "<div>\n",
              "<style scoped>\n",
              "    .dataframe tbody tr th:only-of-type {\n",
              "        vertical-align: middle;\n",
              "    }\n",
              "\n",
              "    .dataframe tbody tr th {\n",
              "        vertical-align: top;\n",
              "    }\n",
              "\n",
              "    .dataframe thead th {\n",
              "        text-align: right;\n",
              "    }\n",
              "</style>\n",
              "<table border=\"1\" class=\"dataframe\">\n",
              "  <thead>\n",
              "    <tr style=\"text-align: right;\">\n",
              "      <th></th>\n",
              "      <th>userId</th>\n",
              "      <th>orders</th>\n",
              "    </tr>\n",
              "  </thead>\n",
              "  <tbody>\n",
              "    <tr>\n",
              "      <th>1023</th>\n",
              "      <td>4256040402</td>\n",
              "      <td>11</td>\n",
              "    </tr>\n",
              "    <tr>\n",
              "      <th>591</th>\n",
              "      <td>2458001652</td>\n",
              "      <td>11</td>\n",
              "    </tr>\n",
              "    <tr>\n",
              "      <th>569</th>\n",
              "      <td>2378935119</td>\n",
              "      <td>9</td>\n",
              "    </tr>\n",
              "    <tr>\n",
              "      <th>487</th>\n",
              "      <td>2038680547</td>\n",
              "      <td>8</td>\n",
              "    </tr>\n",
              "    <tr>\n",
              "      <th>44</th>\n",
              "      <td>199603092</td>\n",
              "      <td>5</td>\n",
              "    </tr>\n",
              "    <tr>\n",
              "      <th>744</th>\n",
              "      <td>3062433592</td>\n",
              "      <td>5</td>\n",
              "    </tr>\n",
              "    <tr>\n",
              "      <th>55</th>\n",
              "      <td>237748145</td>\n",
              "      <td>5</td>\n",
              "    </tr>\n",
              "    <tr>\n",
              "      <th>917</th>\n",
              "      <td>3803269165</td>\n",
              "      <td>5</td>\n",
              "    </tr>\n",
              "    <tr>\n",
              "      <th>299</th>\n",
              "      <td>1230306981</td>\n",
              "      <td>5</td>\n",
              "    </tr>\n",
              "    <tr>\n",
              "      <th>897</th>\n",
              "      <td>3717692402</td>\n",
              "      <td>5</td>\n",
              "    </tr>\n",
              "  </tbody>\n",
              "</table>\n",
              "</div>"
            ],
            "text/plain": [
              "          userId  orders\n",
              "1023  4256040402      11\n",
              "591   2458001652      11\n",
              "569   2378935119       9\n",
              "487   2038680547       8\n",
              "44     199603092       5\n",
              "744   3062433592       5\n",
              "55     237748145       5\n",
              "917   3803269165       5\n",
              "299   1230306981       5\n",
              "897   3717692402       5"
            ]
          },
          "metadata": {},
          "output_type": "display_data"
        },
        {
          "data": {
            "image/png": "[encoded data removed]",
            "text/plain": [
              "<Figure size 1152x432 with 1 Axes>"
            ]
          },
          "metadata": {
            "needs_background": "light"
          },
          "output_type": "display_data"
        }
      ],
      "source": [
        "# строим точечный график количества заказов по пользователям.\n",
        "# готовим таблицу для исследования по кол-ву заказов\n",
        "ordersByUsers = orders.groupby('visitorId', as_index=False).agg({'transactionId': 'nunique'})\n",
        "# переименовываем столбцы\n",
        "ordersByUsers.columns = ['userId', 'orders']\n",
        "display(ordersByUsers.sort_values(by='orders', ascending=False).head(10))\n",
        "# серия из чисел от 0 до количества наблюдений в ordersByUsers\n",
        "x_values = pd.Series(range(0, len(ordersByUsers)))\n",
        "# оформляем график\n",
        "plt.figure(figsize=(16,6)) #добавил\n",
        "plt.title(\"График количества заказов по пользователям\") #добавил\n",
        "plt.xlabel(\"Количество пользователей\") #добавил\n",
        "plt.ylabel(\"Количество заказов\") #добавил\n",
        "plt.grid() #добавил\n",
        "plt.scatter(x_values, ordersByUsers['orders'])\n",
        "plt.show()"
      ]
    },
    {
      "cell_type": "markdown",
      "metadata": {
        "id": "SGeB_D9_MBQZ"
      },
      "source": [
        "**Вывод:**  \n",
        "Пользователей, заказавших 2 и более раза немного."
      ]
    },
    {
      "cell_type": "code",
      "execution_count": null,
      "metadata": {
        "id": "cdPUnqwHMBQa",
        "outputId": "db44d323-9bbf-4d8b-c92b-092c619b4636"
      },
      "outputs": [
        {
          "data": {
            "text/plain": [
              "array([1., 2., 4.])"
            ]
          },
          "metadata": {},
          "output_type": "display_data"
        }
      ],
      "source": [
        "# посчитаем 95-й и 99-й перцентили количества заказов на пользователя\n",
        "display(np.percentile(ordersByUsers['orders'], [90, 95, 99]))"
      ]
    },
    {
      "cell_type": "markdown",
      "metadata": {
        "id": "qnvI8xrIMBQa"
      },
      "source": [
        "**Вывод:**  \n",
        "Не более 5% посетителей делали 2 заказа, не более 1% делали более 4 заказов."
      ]
    },
    {
      "cell_type": "markdown",
      "metadata": {
        "id": "nQ5CTD1RMBQb"
      },
      "source": [
        "**Принимаем, что выбросом будет считаться свыше двух заказов.**"
      ]
    },
    {
      "cell_type": "code",
      "execution_count": null,
      "metadata": {
        "id": "_qIUNkK-MBQc",
        "outputId": "72d84881-ae12-4e60-c3aa-12f2cc3da1e6"
      },
      "outputs": [
        {
          "data": {
            "text/html": [
              "<div>\n",
              "<style scoped>\n",
              "    .dataframe tbody tr th:only-of-type {\n",
              "        vertical-align: middle;\n",
              "    }\n",
              "\n",
              "    .dataframe tbody tr th {\n",
              "        vertical-align: top;\n",
              "    }\n",
              "\n",
              "    .dataframe thead th {\n",
              "        text-align: right;\n",
              "    }\n",
              "</style>\n",
              "<table border=\"1\" class=\"dataframe\">\n",
              "  <thead>\n",
              "    <tr style=\"text-align: right;\">\n",
              "      <th></th>\n",
              "      <th>transactionId</th>\n",
              "      <th>revenue</th>\n",
              "    </tr>\n",
              "  </thead>\n",
              "  <tbody>\n",
              "    <tr>\n",
              "      <th>168</th>\n",
              "      <td>590470918</td>\n",
              "      <td>1294500</td>\n",
              "    </tr>\n",
              "    <tr>\n",
              "      <th>1107</th>\n",
              "      <td>3936777065</td>\n",
              "      <td>202740</td>\n",
              "    </tr>\n",
              "    <tr>\n",
              "      <th>49</th>\n",
              "      <td>192721366</td>\n",
              "      <td>93940</td>\n",
              "    </tr>\n",
              "    <tr>\n",
              "      <th>188</th>\n",
              "      <td>666610489</td>\n",
              "      <td>92550</td>\n",
              "    </tr>\n",
              "    <tr>\n",
              "      <th>1029</th>\n",
              "      <td>3668308183</td>\n",
              "      <td>86620</td>\n",
              "    </tr>\n",
              "    <tr>\n",
              "      <th>322</th>\n",
              "      <td>1216533772</td>\n",
              "      <td>78990</td>\n",
              "    </tr>\n",
              "    <tr>\n",
              "      <th>503</th>\n",
              "      <td>1811671147</td>\n",
              "      <td>78990</td>\n",
              "    </tr>\n",
              "    <tr>\n",
              "      <th>1000</th>\n",
              "      <td>3603576309</td>\n",
              "      <td>67990</td>\n",
              "    </tr>\n",
              "    <tr>\n",
              "      <th>364</th>\n",
              "      <td>1348774318</td>\n",
              "      <td>66350</td>\n",
              "    </tr>\n",
              "    <tr>\n",
              "      <th>81</th>\n",
              "      <td>316924019</td>\n",
              "      <td>65710</td>\n",
              "    </tr>\n",
              "  </tbody>\n",
              "</table>\n",
              "</div>"
            ],
            "text/plain": [
              "      transactionId  revenue\n",
              "168       590470918  1294500\n",
              "1107     3936777065   202740\n",
              "49        192721366    93940\n",
              "188       666610489    92550\n",
              "1029     3668308183    86620\n",
              "322      1216533772    78990\n",
              "503      1811671147    78990\n",
              "1000     3603576309    67990\n",
              "364      1348774318    66350\n",
              "81        316924019    65710"
            ]
          },
          "metadata": {},
          "output_type": "display_data"
        },
        {
          "data": {
            "image/png": "[encoded data removed]",
            "text/plain": [
              "<Figure size 1152x432 with 1 Axes>"
            ]
          },
          "metadata": {
            "needs_background": "light"
          },
          "output_type": "display_data"
        }
      ],
      "source": [
        "# построим точечный график стоимостей заказов\n",
        "# готовим данные для анализа по стоимости заказа\n",
        "transactionBySumm = orders.groupby('transactionId', as_index=False).agg({'revenue': 'sum'})\n",
        "# переименовываем столбцы\n",
        "transactionBySumm.columns = ['transactionId', 'revenue']\n",
        "display(transactionBySumm.sort_values(by='revenue', ascending=False).head(10))\n",
        "# серия из чисел от 0 до количества наблюдений в ordersByUsers\n",
        "x_values = pd.Series(range(0, len(transactionBySumm)))\n",
        "# оформляем график\n",
        "plt.figure(figsize=(16,6)) #добавил\n",
        "plt.title(\"График стоимостей заказов\") #добавил\n",
        "plt.xlabel(\"Количество пользователей\") #добавил\n",
        "plt.ylabel(\"Стоимость заказов\") #добавил\n",
        "plt.grid() #добавил\n",
        "plt.scatter(x_values, transactionBySumm['revenue'])\n",
        "plt.show()"
      ]
    },
    {
      "cell_type": "markdown",
      "metadata": {
        "id": "iC5Bgi_VMBQd"
      },
      "source": [
        "**Вывод:**  \n",
        "Явно просматривается аномалия - покупка на 1294500 и 202740."
      ]
    },
    {
      "cell_type": "code",
      "execution_count": null,
      "metadata": {
        "id": "aQuR0D51MBQe",
        "outputId": "d72177ee-266d-4a23-8ce6-9a9ca7d0f80d"
      },
      "outputs": [
        {
          "data": {
            "text/html": [
              "<div>\n",
              "<style scoped>\n",
              "    .dataframe tbody tr th:only-of-type {\n",
              "        vertical-align: middle;\n",
              "    }\n",
              "\n",
              "    .dataframe tbody tr th {\n",
              "        vertical-align: top;\n",
              "    }\n",
              "\n",
              "    .dataframe thead th {\n",
              "        text-align: right;\n",
              "    }\n",
              "</style>\n",
              "<table border=\"1\" class=\"dataframe\">\n",
              "  <thead>\n",
              "    <tr style=\"text-align: right;\">\n",
              "      <th></th>\n",
              "      <th>transactionId</th>\n",
              "      <th>revenue</th>\n",
              "    </tr>\n",
              "  </thead>\n",
              "  <tbody>\n",
              "    <tr>\n",
              "      <th>49</th>\n",
              "      <td>192721366</td>\n",
              "      <td>93940</td>\n",
              "    </tr>\n",
              "    <tr>\n",
              "      <th>188</th>\n",
              "      <td>666610489</td>\n",
              "      <td>92550</td>\n",
              "    </tr>\n",
              "    <tr>\n",
              "      <th>1029</th>\n",
              "      <td>3668308183</td>\n",
              "      <td>86620</td>\n",
              "    </tr>\n",
              "    <tr>\n",
              "      <th>322</th>\n",
              "      <td>1216533772</td>\n",
              "      <td>78990</td>\n",
              "    </tr>\n",
              "    <tr>\n",
              "      <th>503</th>\n",
              "      <td>1811671147</td>\n",
              "      <td>78990</td>\n",
              "    </tr>\n",
              "    <tr>\n",
              "      <th>1000</th>\n",
              "      <td>3603576309</td>\n",
              "      <td>67990</td>\n",
              "    </tr>\n",
              "    <tr>\n",
              "      <th>364</th>\n",
              "      <td>1348774318</td>\n",
              "      <td>66350</td>\n",
              "    </tr>\n",
              "    <tr>\n",
              "      <th>81</th>\n",
              "      <td>316924019</td>\n",
              "      <td>65710</td>\n",
              "    </tr>\n",
              "    <tr>\n",
              "      <th>363</th>\n",
              "      <td>1347999392</td>\n",
              "      <td>60450</td>\n",
              "    </tr>\n",
              "    <tr>\n",
              "      <th>689</th>\n",
              "      <td>2420050534</td>\n",
              "      <td>58550</td>\n",
              "    </tr>\n",
              "  </tbody>\n",
              "</table>\n",
              "</div>"
            ],
            "text/plain": [
              "      transactionId  revenue\n",
              "49        192721366    93940\n",
              "188       666610489    92550\n",
              "1029     3668308183    86620\n",
              "322      1216533772    78990\n",
              "503      1811671147    78990\n",
              "1000     3603576309    67990\n",
              "364      1348774318    66350\n",
              "81        316924019    65710\n",
              "363      1347999392    60450\n",
              "689      2420050534    58550"
            ]
          },
          "metadata": {},
          "output_type": "display_data"
        },
        {
          "data": {
            "image/png": "[encoded data removed]",
            "text/plain": [
              "<Figure size 1152x432 with 1 Axes>"
            ]
          },
          "metadata": {
            "needs_background": "light"
          },
          "output_type": "display_data"
        }
      ],
      "source": [
        "# исключаем выбросы, строим график заказов\n",
        "# готовим данные для анализа по стоимости заказа\n",
        "transactionBySummClear = transactionBySumm[transactionBySumm['revenue'] < 200000]\n",
        "display(transactionBySummClear.sort_values(by='revenue', ascending=False).head(10))\n",
        "# серия из чисел от 0 до количества наблюдений в ordersByUsers\n",
        "x_values = pd.Series(range(0, len(transactionBySummClear)))\n",
        "# оформляем график\n",
        "plt.figure(figsize=(16,6)) #добавил\n",
        "plt.title(\"График стоимостей заказов\") #добавил\n",
        "plt.xlabel(\"Количество пользователей\") #добавил\n",
        "plt.ylabel(\"Стоимость заказов\") #добавил\n",
        "plt.grid() #добавил\n",
        "plt.scatter(x_values, transactionBySummClear['revenue'])\n",
        "plt.show()"
      ]
    },
    {
      "cell_type": "code",
      "execution_count": null,
      "metadata": {
        "id": "pVs6jQhMMBQf",
        "outputId": "e33651a3-dfba-47c5-bf2e-d079a910004f"
      },
      "outputs": [
        {
          "data": {
            "text/plain": [
              "array([18168. , 28000. , 58233.2])"
            ]
          },
          "metadata": {},
          "output_type": "display_data"
        }
      ],
      "source": [
        "# посчитаем 95-й и 99-й перцентили стоимости заказов\n",
        "display(np.percentile(transactionBySumm['revenue'], [90, 95, 99]))"
      ]
    },
    {
      "cell_type": "markdown",
      "metadata": {
        "id": "3YcoY1v3MBQf"
      },
      "source": [
        "**Вывод:**  \n",
        "Не более чем у 5% посетителей заказы стоят выше 28000 и только у 1% выше 58233."
      ]
    },
    {
      "cell_type": "markdown",
      "metadata": {
        "id": "_NhoflYZMBQh"
      },
      "source": [
        "**Принимаем, что заказы выше 28000 считаются выбросом.**"
      ]
    },
    {
      "cell_type": "markdown",
      "metadata": {
        "id": "AuOIgN2eMBQj"
      },
      "source": [
        "Проверим **нулевую гипотезу**:  \n",
        "Статистически значимых различий в среднем количестве заказов по посетителям между группами по \"сырым\" данным нет.  \n",
        "и **альтернативную гипотезу**:  \n",
        "Статистически значимые различия в среднем количестве заказов по посетителям между группами по \"сырым\" данным есть.  \n",
        "Принимаем значение alpha = 0.05.  \n",
        "Применим метод Уилкоксона-Манна-Уитни для двух выборок с вероятными выбросами."
      ]
    },
    {
      "cell_type": "code",
      "execution_count": null,
      "metadata": {
        "id": "r8Lr7vDnMBQk",
        "outputId": "13c2402d-a9ce-4d24-f78f-05722c78f74c"
      },
      "outputs": [
        {
          "name": "stdout",
          "output_type": "stream",
          "text": [
            "p-value = 0.01679\n",
            "Относительное различие между группами В и А = 0.138\n"
          ]
        }
      ],
      "source": [
        "# посчитаем статистическую значимость различий в среднем количестве заказов на посетителя между группами по «сырым» данным\n",
        "visitorsADaily = visitors[visitors['group'] == 'A'][['date', 'visitors']]\n",
        "visitorsADaily.columns = ['date', 'visitorsPerDateA']\n",
        "\n",
        "visitorsACummulative = visitorsADaily.apply(\n",
        "    lambda x: visitorsADaily[visitorsADaily['date'] <= x['date']].agg(\n",
        "        {'date': 'max', 'visitorsPerDateA': 'sum'}\n",
        "    ),\n",
        "    axis=1,\n",
        ")\n",
        "visitorsACummulative.columns = ['date', 'visitorsCummulativeA']\n",
        "\n",
        "visitorsBDaily = visitors[visitors['group'] == 'B'][['date', 'visitors']]\n",
        "visitorsBDaily.columns = ['date', 'visitorsPerDateB']\n",
        "\n",
        "visitorsBCummulative = visitorsBDaily.apply(\n",
        "    lambda x: visitorsBDaily[visitorsBDaily['date'] <= x['date']].agg(\n",
        "        {'date': 'max', 'visitorsPerDateB': 'sum'}\n",
        "    ),\n",
        "    axis=1,\n",
        ")\n",
        "visitorsBCummulative.columns = ['date', 'visitorsCummulativeB']\n",
        "\n",
        "ordersADaily = (\n",
        "    orders[orders['group'] == 'A'][['date', 'transactionId', 'visitorId', 'revenue']]\n",
        "    .groupby('date', as_index=False)\n",
        "    .agg({'transactionId': pd.Series.nunique, 'revenue': 'sum'})\n",
        ")\n",
        "ordersADaily.columns = ['date', 'ordersPerDateA', 'revenuePerDateA']\n",
        "\n",
        "ordersACummulative = ordersADaily.apply(\n",
        "    lambda x: ordersADaily[ordersADaily['date'] <= x['date']].agg(\n",
        "        {'date': 'max', 'ordersPerDateA': 'sum', 'revenuePerDateA': 'sum'}\n",
        "    ),\n",
        "    axis=1,\n",
        ").sort_values(by=['date'])\n",
        "ordersACummulative.columns = [\n",
        "    'date',\n",
        "    'ordersCummulativeA',\n",
        "    'revenueCummulativeA',\n",
        "]\n",
        "\n",
        "ordersBDaily = (\n",
        "    orders[orders['group'] == 'B'][['date', 'transactionId', 'visitorId', 'revenue']]\n",
        "    .groupby('date', as_index=False)\n",
        "    .agg({'transactionId': pd.Series.nunique, 'revenue': 'sum'})\n",
        ")\n",
        "ordersBDaily.columns = ['date', 'ordersPerDateB', 'revenuePerDateB']\n",
        "\n",
        "ordersBCummulative = ordersBDaily.apply(\n",
        "    lambda x: ordersBDaily[ordersBDaily['date'] <= x['date']].agg(\n",
        "        {'date': 'max', 'ordersPerDateB': 'sum', 'revenuePerDateB': 'sum'}\n",
        "    ),\n",
        "    axis=1,\n",
        ").sort_values(by=['date'])\n",
        "ordersBCummulative.columns = [\n",
        "    'date',\n",
        "    'ordersCummulativeB',\n",
        "    'revenueCummulativeB',\n",
        "]\n",
        "\n",
        "data = (\n",
        "    ordersADaily.merge(\n",
        "        ordersBDaily, left_on='date', right_on='date', how='left'\n",
        "    )\n",
        "    .merge(ordersACummulative, left_on='date', right_on='date', how='left')\n",
        "    .merge(ordersBCummulative, left_on='date', right_on='date', how='left')\n",
        "    .merge(visitorsADaily, left_on='date', right_on='date', how='left')\n",
        "    .merge(visitorsBDaily, left_on='date', right_on='date', how='left')\n",
        "    .merge(visitorsACummulative, left_on='date', right_on='date', how='left')\n",
        "    .merge(visitorsBCummulative, left_on='date', right_on='date', how='left')\n",
        ")\n",
        "\n",
        "#print(data.head(5))\n",
        "\n",
        "ordersByUsersA = (\n",
        "    orders[orders['group'] == 'A']\n",
        "    .groupby('visitorId', as_index=False)\n",
        "    .agg({'transactionId': pd.Series.nunique})\n",
        ")\n",
        "ordersByUsersA.columns = ['visitorId', 'orders']\n",
        "\n",
        "ordersByUsersB = (\n",
        "    orders[orders['group'] == 'B']\n",
        "    .groupby('visitorId', as_index=False)\n",
        "    .agg({'transactionId': pd.Series.nunique})\n",
        ")\n",
        "ordersByUsersB.columns = ['visitorId', 'orders'] \n",
        "\n",
        "sampleA = pd.concat([ordersByUsersA['orders'],pd.Series(0, index=np.arange(data['visitorsPerDateA'].sum() - len(ordersByUsersA['orders'])), name='orders')],axis=0)\n",
        "\n",
        "sampleB = pd.concat([ordersByUsersB['orders'],pd.Series(0, index=np.arange(data['visitorsPerDateB'].sum() - len(ordersByUsersB['orders'])), name='orders')],axis=0)\n",
        "\n",
        "print('p-value =','{0:.5f}'.format(stats.mannwhitneyu(sampleA, sampleB)[1]))\n",
        "print('Относительное различие между группами В и А =', '{0:.3f}'.format(sampleB.mean()/sampleA.mean()-1)) "
      ]
    },
    {
      "cell_type": "markdown",
      "metadata": {
        "id": "BN_xUsphMBQl"
      },
      "source": [
        "**Вывод:**  \n",
        "p-value = 0.01679 - это меньше 0.05, поэтому нулевую гипотезу отвергаем. Анализ \"сырых\" данных показывает, что в среднем количестве заказов между группами есть статистически значимые различия.  \n",
        "Относительный прирост среднего группы В к группе А составляет 13,8%."
      ]
    },
    {
      "cell_type": "markdown",
      "metadata": {
        "id": "kgs6b6D3MBQm"
      },
      "source": [
        "Проверим **нулевую гипотезу**:  \n",
        "Статистически значимых различий в среднем чеке заказа по посетителям между группами по \"сырым\" данным нет.  \n",
        "и **альтернативную гипотезу**:  \n",
        "Статистически значимые различия в среднем чеке заказа по посетителям между группами по \"сырым\" данным есть.  \n",
        "Принимаем значение alpha = 0.05.  \n",
        "Применим метод Уилкоксона-Манна-Уитни для двух выборок с вероятными выбросами."
      ]
    },
    {
      "cell_type": "code",
      "execution_count": null,
      "metadata": {
        "id": "R7ULyNdAMBQm",
        "outputId": "2f5c7ff8-5148-4f48-a334-5ef514635506"
      },
      "outputs": [
        {
          "name": "stdout",
          "output_type": "stream",
          "text": [
            "p-value = 0.729\n",
            "Относительное различие между группами В и А = 0.259\n"
          ]
        }
      ],
      "source": [
        "# посчитаем статистическую значимость различий в среднем чеке заказа между группами по «сырым» данным\n",
        "print('p-value =','{0:.3f}'.format(stats.mannwhitneyu(orders[orders['group']=='A']['revenue'], orders[orders['group']=='B']['revenue'])[1]))\n",
        "print('Относительное различие между группами В и А =','{0:.3f}'.format(orders[orders['group']=='B']['revenue'].mean()/orders[orders['group']=='A']['revenue'].mean()-1)) \n"
      ]
    },
    {
      "cell_type": "markdown",
      "metadata": {
        "id": "5-5ddC4UMBQn"
      },
      "source": [
        "**Вывод:**  \n",
        "p-value = 0.729 - это больше 0.05, нулевую гипотезу не отвергаем. Статистически значимых отличий в среднем чеке между группами нет.  \n",
        "Относительное различие между группами составляет 25,9%."
      ]
    },
    {
      "cell_type": "markdown",
      "metadata": {
        "id": "4Ea9yaXOMBQo"
      },
      "source": [
        "Проверим **нулевую гипотезу**:  \n",
        "Статистически значимых различий в среднем количестве заказов на посетителя между группами по \"очищенным\" данным нет.  \n",
        "и **альтернативную гипотезу**:  \n",
        "Статистически значимые различия в среднем количестве заказов на посетителя между группами по \"очищенным\" данным есть.  \n",
        "Принимаем значение alpha = 0.05.  \n",
        "Применим метод Уилкоксона-Манна-Уитни для двух выборок с вероятными выбросами."
      ]
    },
    {
      "cell_type": "code",
      "execution_count": null,
      "metadata": {
        "id": "6iLuIlUFMBQp"
      },
      "outputs": [],
      "source": [
        "#зададим предельные кол-во заказов и сумму покупки для формирования списка аномальных пользователей\n",
        "limit_orders = np.percentile(ordersByUsers['orders'], 95) # принимаем границу выбросов по количеству заказов\n",
        "limit_revenue = np.percentile(transactionBySumm['revenue'], 95) # примимаем границу выбросов по сумме заказов"
      ]
    },
    {
      "cell_type": "code",
      "execution_count": null,
      "metadata": {
        "id": "p7RZ9eeoMBQp",
        "outputId": "3e568a36-9d5e-4923-9a36-c3b031ca3895"
      },
      "outputs": [
        {
          "name": "stdout",
          "output_type": "stream",
          "text": [
            "p-value = 0.01304\n",
            "Относительное различие между группами В и А = 0.173\n"
          ]
        }
      ],
      "source": [
        "# посчитаем статистическую значимость различий в среднем количестве заказов на посетителя между группами по «очищенным» данным\n",
        "\n",
        "usersWithManyOrders = pd.concat(\n",
        "    [\n",
        "        ordersByUsersA[ordersByUsersA['orders'] > limit_orders]['visitorId'],\n",
        "        ordersByUsersB[ordersByUsersB['orders'] > limit_orders]['visitorId'],\n",
        "    ],\n",
        "    axis=0,\n",
        ")\n",
        "usersWithExpensiveOrders = orders[orders['revenue'] > limit_revenue]['visitorId']\n",
        "abnormalUsers = (\n",
        "    pd.concat([usersWithManyOrders, usersWithExpensiveOrders], axis=0)\n",
        "    .drop_duplicates()\n",
        "    .sort_values()\n",
        ")\n",
        "#4\n",
        "sampleAFiltered = pd.concat(\n",
        "    [\n",
        "        ordersByUsersA[\n",
        "            np.logical_not(ordersByUsersA['visitorId'].isin(abnormalUsers))\n",
        "        ]['orders'],\n",
        "        pd.Series(\n",
        "            0,\n",
        "            index=np.arange(\n",
        "                data['visitorsPerDateA'].sum() - len(ordersByUsersA['orders'])\n",
        "            ),\n",
        "            name='orders',\n",
        "        ),\n",
        "    ],\n",
        "    axis=0,\n",
        ")\n",
        "\n",
        "sampleBFiltered = pd.concat(\n",
        "    [\n",
        "        ordersByUsersB[\n",
        "            np.logical_not(ordersByUsersB['visitorId'].isin(abnormalUsers))\n",
        "        ]['orders'],\n",
        "        pd.Series(\n",
        "            0,\n",
        "            index=np.arange(\n",
        "                data['visitorsPerDateB'].sum() - len(ordersByUsersB['orders'])\n",
        "            ),\n",
        "            name='orders',\n",
        "        ),\n",
        "    ],\n",
        "    axis=0,\n",
        ")\n",
        "\n",
        "print('p-value =','{0:.5f}'.format(stats.mannwhitneyu(sampleAFiltered, sampleBFiltered)[1]))\n",
        "print('Относительное различие между группами В и А =','{0:.3f}'.format(sampleBFiltered.mean()/sampleAFiltered.mean()-1))"
      ]
    },
    {
      "cell_type": "markdown",
      "metadata": {
        "id": "sOgDtAfzMBQs"
      },
      "source": [
        "p-value = 0.01304 - это меньше 0.05, поэтому нулевую гипотезу отвергаем. Анализ \"очищенных\" данных показывает, что в среднем количестве заказов на посетителя между группами есть статистически значимые различия.\n",
        "Относительный прирост среднего группы В к группе А составляет 17,3%."
      ]
    },
    {
      "cell_type": "markdown",
      "metadata": {
        "id": "5R8NfjLvMBQt"
      },
      "source": [
        "Проверим **нулевую гипотезу**:  \n",
        "Статистически значимых различий в среднем чеке заказа между группами по \"очищенным\" данным нет.  \n",
        "и **альтернативную гипотезу**:  \n",
        "Статистически значимые различия в среднем чеке заказа между группами по \"очищенным\" данным есть.  \n",
        "Принимаем значение alpha = 0.05.  \n",
        "Применим метод Уилкоксона-Манна-Уитни для двух выборок с вероятными выбросами."
      ]
    },
    {
      "cell_type": "code",
      "execution_count": null,
      "metadata": {
        "id": "xeQ3azBJMBQt",
        "outputId": "c9dd5703-9284-48bc-8911-672a4aa42164"
      },
      "outputs": [
        {
          "name": "stdout",
          "output_type": "stream",
          "text": [
            "p-value = 0.738\n",
            "Относительное различие между группами В и А =-0.020\n"
          ]
        }
      ],
      "source": [
        "# посчитаем статистическую значимость различий в среднем чеке заказа между группами по «очищенным» данным. \n",
        "print('p-value =',\n",
        "    '{0:.3f}'.format(\n",
        "        stats.mannwhitneyu(\n",
        "            orders[\n",
        "                np.logical_and(\n",
        "                    orders['group'] == 'A',\n",
        "                    np.logical_not(orders['visitorId'].isin(abnormalUsers)),\n",
        "                )\n",
        "            ]['revenue'],\n",
        "            orders[\n",
        "                np.logical_and(\n",
        "                    orders['group'] == 'B',\n",
        "                    np.logical_not(orders['visitorId'].isin(abnormalUsers)),\n",
        "                )\n",
        "            ]['revenue'],\n",
        "        )[1]\n",
        "    )\n",
        ")\n",
        "\n",
        "print('Относительное различие между группами В и А ='\n",
        "    \"{0:.3f}\".format(\n",
        "        orders[\n",
        "            np.logical_and(\n",
        "                orders['group'] == 'B',\n",
        "                np.logical_not(orders['visitorId'].isin(abnormalUsers)),\n",
        "            )\n",
        "        ]['revenue'].mean()\n",
        "        / orders[\n",
        "            np.logical_and(\n",
        "                orders['group'] == 'A',\n",
        "                np.logical_not(orders['visitorId'].isin(abnormalUsers)),\n",
        "            )\n",
        "        ]['revenue'].mean()\n",
        "        - 1\n",
        "    )\n",
        ")"
      ]
    },
    {
      "cell_type": "markdown",
      "metadata": {
        "id": "1aUobSYRMBQu"
      },
      "source": [
        "**Вывод:**  \n",
        "После исключения выбросов p-value уменьшился и разница между средними чеками по группам сократилась до 2%."
      ]
    },
    {
      "cell_type": "markdown",
      "metadata": {
        "id": "qGuRJkPqMBQu"
      },
      "source": [
        "p-value = 0.738 - это больше 0.05, нулевую гипотезу не отвергаем. Статистически значимых отличий в среднем чеке между группами нет.\n",
        "Относительное различие между группами В и А составляет -2 %."
      ]
    },
    {
      "cell_type": "markdown",
      "metadata": {
        "id": "sWhJE9aKMBQu"
      },
      "source": [
        "**ОБЩИЙ ВЫВОД:**  \n",
        "1. Нет статистически значимого различия по среднему количеству заказов между группами ни по «сырым», ни по данным после фильтрации аномалий;\n",
        "2. Есть статистически значимое различие по среднему чеку между группами по «сырым» и по данным после фильтрации аномалий;\n",
        "3. График различия среднего количества заказов между группами сообщает, что результаты группы B лучше группы A и нет значительной тенденции к улучшению:\n",
        "4. График различия среднего чека колеблется: он-то и позволил найти аномалии. Сделать из этого графика определённые выводы нельзя.  \n",
        "Исходя из обнаруженных фактов, тест следует остановить и признать его успешным. Победителем стоит признать группу В, в которой среднее количество заказов значительно выше, чем в группе А."
      ]
    }
  ],
  "metadata": {
    "ExecuteTimeLog": [
      {
        "duration": 359,
        "start_time": "2023-05-07T20:30:11.691Z"
      },
      {
        "duration": 81,
        "start_time": "2023-05-07T20:31:19.297Z"
      },
      {
        "duration": 16,
        "start_time": "2023-05-07T20:31:30.771Z"
      },
      {
        "duration": 7,
        "start_time": "2023-05-07T20:31:54.706Z"
      },
      {
        "duration": 63,
        "start_time": "2023-05-07T20:40:40.171Z"
      },
      {
        "duration": 7,
        "start_time": "2023-05-07T20:41:01.833Z"
      },
      {
        "duration": 6,
        "start_time": "2023-05-07T20:54:40.765Z"
      },
      {
        "duration": 9,
        "start_time": "2023-05-07T20:57:23.714Z"
      },
      {
        "duration": 7,
        "start_time": "2023-05-07T20:57:36.627Z"
      },
      {
        "duration": 12,
        "start_time": "2023-05-07T20:57:48.255Z"
      },
      {
        "duration": 6,
        "start_time": "2023-05-07T20:58:36.888Z"
      },
      {
        "duration": 9,
        "start_time": "2023-05-07T20:58:57.186Z"
      },
      {
        "duration": 9,
        "start_time": "2023-05-07T21:09:02.956Z"
      },
      {
        "duration": 9,
        "start_time": "2023-05-07T21:09:17.035Z"
      },
      {
        "duration": 4,
        "start_time": "2023-05-08T20:03:22.775Z"
      },
      {
        "duration": 53,
        "start_time": "2023-05-08T20:04:41.792Z"
      },
      {
        "duration": 446,
        "start_time": "2023-05-08T20:04:53.818Z"
      },
      {
        "duration": 85,
        "start_time": "2023-05-08T20:04:54.266Z"
      },
      {
        "duration": 15,
        "start_time": "2023-05-08T20:04:54.355Z"
      },
      {
        "duration": 17,
        "start_time": "2023-05-08T20:04:54.372Z"
      },
      {
        "duration": 14,
        "start_time": "2023-05-08T20:04:54.391Z"
      },
      {
        "duration": 173,
        "start_time": "2023-05-08T20:04:54.406Z"
      },
      {
        "duration": 3,
        "start_time": "2023-05-08T20:05:24.078Z"
      },
      {
        "duration": 26,
        "start_time": "2023-05-08T20:05:56.796Z"
      },
      {
        "duration": 19,
        "start_time": "2023-05-08T20:07:14.854Z"
      },
      {
        "duration": 23,
        "start_time": "2023-05-08T20:07:27.433Z"
      },
      {
        "duration": 17,
        "start_time": "2023-05-08T20:08:27.091Z"
      },
      {
        "duration": 6,
        "start_time": "2023-05-08T20:14:47.466Z"
      },
      {
        "duration": 16,
        "start_time": "2023-05-08T20:15:05.385Z"
      },
      {
        "duration": 21,
        "start_time": "2023-05-08T20:15:15.866Z"
      },
      {
        "duration": 21,
        "start_time": "2023-05-08T20:15:59.947Z"
      },
      {
        "duration": 6,
        "start_time": "2023-05-08T20:16:23.120Z"
      },
      {
        "duration": 492,
        "start_time": "2023-05-08T20:28:16.277Z"
      },
      {
        "duration": 740,
        "start_time": "2023-05-08T20:28:24.473Z"
      },
      {
        "duration": 30,
        "start_time": "2023-05-08T20:28:25.226Z"
      },
      {
        "duration": 13,
        "start_time": "2023-05-08T20:28:25.258Z"
      },
      {
        "duration": 15,
        "start_time": "2023-05-08T20:28:25.274Z"
      },
      {
        "duration": 15,
        "start_time": "2023-05-08T20:28:25.291Z"
      },
      {
        "duration": 58,
        "start_time": "2023-05-08T20:28:25.308Z"
      },
      {
        "duration": 22,
        "start_time": "2023-05-08T20:28:25.368Z"
      },
      {
        "duration": 18,
        "start_time": "2023-05-08T20:28:25.393Z"
      },
      {
        "duration": 9,
        "start_time": "2023-05-08T20:28:25.413Z"
      },
      {
        "duration": 11,
        "start_time": "2023-05-08T20:29:02.558Z"
      },
      {
        "duration": 718,
        "start_time": "2023-05-08T20:29:09.638Z"
      },
      {
        "duration": 28,
        "start_time": "2023-05-08T20:29:10.358Z"
      },
      {
        "duration": 13,
        "start_time": "2023-05-08T20:29:10.388Z"
      },
      {
        "duration": 40,
        "start_time": "2023-05-08T20:29:10.403Z"
      },
      {
        "duration": 11,
        "start_time": "2023-05-08T20:29:10.445Z"
      },
      {
        "duration": 70,
        "start_time": "2023-05-08T20:29:10.458Z"
      },
      {
        "duration": 26,
        "start_time": "2023-05-08T20:29:10.531Z"
      },
      {
        "duration": 18,
        "start_time": "2023-05-08T20:29:10.559Z"
      },
      {
        "duration": 6,
        "start_time": "2023-05-08T20:29:10.579Z"
      },
      {
        "duration": 6,
        "start_time": "2023-05-08T20:30:36.468Z"
      },
      {
        "duration": 11,
        "start_time": "2023-05-08T20:31:00.746Z"
      },
      {
        "duration": 122,
        "start_time": "2023-05-08T20:36:20.498Z"
      },
      {
        "duration": 212,
        "start_time": "2023-05-08T20:46:10.809Z"
      },
      {
        "duration": 202,
        "start_time": "2023-05-08T20:46:30.271Z"
      },
      {
        "duration": 387,
        "start_time": "2023-05-08T20:54:46.913Z"
      },
      {
        "duration": 300,
        "start_time": "2023-05-08T20:57:41.426Z"
      },
      {
        "duration": 326,
        "start_time": "2023-05-08T20:58:03.323Z"
      },
      {
        "duration": 344,
        "start_time": "2023-05-08T21:01:13.359Z"
      },
      {
        "duration": 172,
        "start_time": "2023-05-08T21:03:04.564Z"
      },
      {
        "duration": 365,
        "start_time": "2023-05-08T21:04:10.036Z"
      },
      {
        "duration": 439,
        "start_time": "2023-05-08T21:04:27.082Z"
      },
      {
        "duration": 255,
        "start_time": "2023-05-08T21:04:41.114Z"
      },
      {
        "duration": 206,
        "start_time": "2023-05-08T21:05:35.493Z"
      },
      {
        "duration": 263,
        "start_time": "2023-05-08T21:05:52.300Z"
      },
      {
        "duration": 210,
        "start_time": "2023-05-08T21:06:26.290Z"
      },
      {
        "duration": 306,
        "start_time": "2023-05-08T21:06:45.101Z"
      },
      {
        "duration": 293,
        "start_time": "2023-05-08T21:07:53.350Z"
      },
      {
        "duration": 203,
        "start_time": "2023-05-08T21:08:10.821Z"
      },
      {
        "duration": 218,
        "start_time": "2023-05-08T21:17:49.505Z"
      },
      {
        "duration": 270,
        "start_time": "2023-05-08T21:18:12.782Z"
      },
      {
        "duration": 206,
        "start_time": "2023-05-08T21:23:24.748Z"
      },
      {
        "duration": 179,
        "start_time": "2023-05-08T21:23:34.652Z"
      },
      {
        "duration": 165,
        "start_time": "2023-05-08T21:33:55.646Z"
      },
      {
        "duration": 319,
        "start_time": "2023-05-08T21:42:53.208Z"
      },
      {
        "duration": 784,
        "start_time": "2023-05-10T20:14:19.726Z"
      },
      {
        "duration": 29,
        "start_time": "2023-05-10T20:14:20.512Z"
      },
      {
        "duration": 16,
        "start_time": "2023-05-10T20:14:20.543Z"
      },
      {
        "duration": 31,
        "start_time": "2023-05-10T20:14:20.562Z"
      },
      {
        "duration": 22,
        "start_time": "2023-05-10T20:14:20.595Z"
      },
      {
        "duration": 70,
        "start_time": "2023-05-10T20:14:20.618Z"
      },
      {
        "duration": 21,
        "start_time": "2023-05-10T20:14:20.690Z"
      },
      {
        "duration": 52,
        "start_time": "2023-05-10T20:14:20.713Z"
      },
      {
        "duration": 21,
        "start_time": "2023-05-10T20:14:20.767Z"
      },
      {
        "duration": 330,
        "start_time": "2023-05-10T20:14:20.790Z"
      },
      {
        "duration": 314,
        "start_time": "2023-05-10T20:14:21.122Z"
      },
      {
        "duration": 224,
        "start_time": "2023-05-10T20:14:21.439Z"
      },
      {
        "duration": 307,
        "start_time": "2023-05-10T20:14:21.665Z"
      },
      {
        "duration": 3,
        "start_time": "2023-05-10T20:14:21.974Z"
      },
      {
        "duration": 274,
        "start_time": "2023-05-10T20:18:31.830Z"
      },
      {
        "duration": 1455,
        "start_time": "2023-05-10T20:28:58.214Z"
      },
      {
        "duration": 202,
        "start_time": "2023-05-10T20:31:27.969Z"
      },
      {
        "duration": 267,
        "start_time": "2023-05-10T20:43:24.570Z"
      },
      {
        "duration": 9,
        "start_time": "2023-05-10T21:06:28.269Z"
      },
      {
        "duration": 85,
        "start_time": "2023-05-10T21:08:13.194Z"
      },
      {
        "duration": 98,
        "start_time": "2023-05-10T21:08:55.402Z"
      },
      {
        "duration": 155,
        "start_time": "2023-05-10T21:09:14.402Z"
      },
      {
        "duration": 136,
        "start_time": "2023-05-10T21:09:32.659Z"
      },
      {
        "duration": 14,
        "start_time": "2023-05-10T21:16:25.940Z"
      },
      {
        "duration": 145,
        "start_time": "2023-05-10T21:25:21.578Z"
      },
      {
        "duration": 5,
        "start_time": "2023-05-10T21:29:23.545Z"
      },
      {
        "duration": 828,
        "start_time": "2023-05-11T20:07:44.550Z"
      },
      {
        "duration": 55,
        "start_time": "2023-05-11T20:07:45.380Z"
      },
      {
        "duration": 10,
        "start_time": "2023-05-11T20:07:45.437Z"
      },
      {
        "duration": 10,
        "start_time": "2023-05-11T20:07:45.449Z"
      },
      {
        "duration": 9,
        "start_time": "2023-05-11T20:07:45.461Z"
      },
      {
        "duration": 128,
        "start_time": "2023-05-11T20:07:45.472Z"
      },
      {
        "duration": 31,
        "start_time": "2023-05-11T20:07:45.601Z"
      },
      {
        "duration": 15,
        "start_time": "2023-05-11T20:07:45.634Z"
      },
      {
        "duration": 5,
        "start_time": "2023-05-11T20:07:45.651Z"
      },
      {
        "duration": 329,
        "start_time": "2023-05-11T20:07:45.658Z"
      },
      {
        "duration": 269,
        "start_time": "2023-05-11T20:07:45.989Z"
      },
      {
        "duration": 197,
        "start_time": "2023-05-11T20:07:46.259Z"
      },
      {
        "duration": 325,
        "start_time": "2023-05-11T20:07:46.457Z"
      },
      {
        "duration": 231,
        "start_time": "2023-05-11T20:07:46.784Z"
      },
      {
        "duration": 273,
        "start_time": "2023-05-11T20:07:47.016Z"
      },
      {
        "duration": 123,
        "start_time": "2023-05-11T20:07:47.292Z"
      },
      {
        "duration": 4,
        "start_time": "2023-05-11T20:07:47.417Z"
      },
      {
        "duration": 156,
        "start_time": "2023-05-11T20:07:47.423Z"
      },
      {
        "duration": 4,
        "start_time": "2023-05-11T20:07:47.581Z"
      },
      {
        "duration": 24,
        "start_time": "2023-05-11T20:55:41.377Z"
      },
      {
        "duration": 202,
        "start_time": "2023-05-11T21:00:55.290Z"
      },
      {
        "duration": 131,
        "start_time": "2023-05-11T21:02:07.152Z"
      },
      {
        "duration": 117,
        "start_time": "2023-05-11T21:03:15.675Z"
      },
      {
        "duration": 414,
        "start_time": "2023-05-11T21:03:43.558Z"
      },
      {
        "duration": 515,
        "start_time": "2023-05-11T21:04:39.848Z"
      },
      {
        "duration": 1262,
        "start_time": "2023-05-11T21:04:47.527Z"
      },
      {
        "duration": 22,
        "start_time": "2023-05-11T21:04:48.791Z"
      },
      {
        "duration": 18,
        "start_time": "2023-05-11T21:04:48.816Z"
      },
      {
        "duration": 19,
        "start_time": "2023-05-11T21:04:48.836Z"
      },
      {
        "duration": 16,
        "start_time": "2023-05-11T21:04:48.857Z"
      },
      {
        "duration": 39,
        "start_time": "2023-05-11T21:04:48.875Z"
      },
      {
        "duration": 33,
        "start_time": "2023-05-11T21:04:48.916Z"
      },
      {
        "duration": 22,
        "start_time": "2023-05-11T21:04:48.952Z"
      },
      {
        "duration": 29,
        "start_time": "2023-05-11T21:04:48.977Z"
      },
      {
        "duration": 399,
        "start_time": "2023-05-11T21:04:49.009Z"
      },
      {
        "duration": 358,
        "start_time": "2023-05-11T21:04:49.411Z"
      },
      {
        "duration": 254,
        "start_time": "2023-05-11T21:04:49.771Z"
      },
      {
        "duration": 310,
        "start_time": "2023-05-11T21:04:50.028Z"
      },
      {
        "duration": 217,
        "start_time": "2023-05-11T21:04:50.341Z"
      },
      {
        "duration": 324,
        "start_time": "2023-05-11T21:04:50.560Z"
      },
      {
        "duration": 133,
        "start_time": "2023-05-11T21:04:50.886Z"
      },
      {
        "duration": 7,
        "start_time": "2023-05-11T21:04:51.022Z"
      },
      {
        "duration": 158,
        "start_time": "2023-05-11T21:04:51.031Z"
      },
      {
        "duration": 6,
        "start_time": "2023-05-11T21:04:51.191Z"
      },
      {
        "duration": 20,
        "start_time": "2023-05-11T21:04:51.207Z"
      },
      {
        "duration": 472,
        "start_time": "2023-05-11T21:04:51.229Z"
      },
      {
        "duration": 413,
        "start_time": "2023-05-11T21:05:10.391Z"
      },
      {
        "duration": 543,
        "start_time": "2023-05-11T21:09:22.237Z"
      },
      {
        "duration": 321,
        "start_time": "2023-05-11T21:09:31.095Z"
      },
      {
        "duration": 20,
        "start_time": "2023-05-11T21:16:30.896Z"
      },
      {
        "duration": 16,
        "start_time": "2023-05-11T21:17:18.930Z"
      },
      {
        "duration": 14,
        "start_time": "2023-05-11T21:18:01.834Z"
      },
      {
        "duration": 824,
        "start_time": "2023-05-11T21:29:33.416Z"
      },
      {
        "duration": 753,
        "start_time": "2023-05-11T21:30:32.944Z"
      },
      {
        "duration": 451,
        "start_time": "2023-05-11T21:32:44.129Z"
      },
      {
        "duration": 40,
        "start_time": "2023-05-11T21:32:52.675Z"
      },
      {
        "duration": 29,
        "start_time": "2023-05-11T21:39:13.329Z"
      },
      {
        "duration": 17,
        "start_time": "2023-05-11T21:40:38.125Z"
      },
      {
        "duration": 969,
        "start_time": "2023-05-11T21:42:05.984Z"
      },
      {
        "duration": 30,
        "start_time": "2023-05-11T21:42:34.298Z"
      },
      {
        "duration": 1141,
        "start_time": "2023-05-11T23:34:02.818Z"
      },
      {
        "duration": 34,
        "start_time": "2023-05-11T23:34:03.961Z"
      },
      {
        "duration": 12,
        "start_time": "2023-05-11T23:34:03.997Z"
      },
      {
        "duration": 31,
        "start_time": "2023-05-11T23:34:04.011Z"
      },
      {
        "duration": 18,
        "start_time": "2023-05-11T23:34:04.044Z"
      },
      {
        "duration": 69,
        "start_time": "2023-05-11T23:34:04.064Z"
      },
      {
        "duration": 21,
        "start_time": "2023-05-11T23:34:04.134Z"
      },
      {
        "duration": 33,
        "start_time": "2023-05-11T23:34:04.156Z"
      },
      {
        "duration": 23,
        "start_time": "2023-05-11T23:34:04.192Z"
      },
      {
        "duration": 300,
        "start_time": "2023-05-11T23:34:04.218Z"
      },
      {
        "duration": 288,
        "start_time": "2023-05-11T23:34:04.520Z"
      },
      {
        "duration": 196,
        "start_time": "2023-05-11T23:34:04.810Z"
      },
      {
        "duration": 284,
        "start_time": "2023-05-11T23:34:05.008Z"
      },
      {
        "duration": 227,
        "start_time": "2023-05-11T23:34:05.295Z"
      },
      {
        "duration": 285,
        "start_time": "2023-05-11T23:34:05.524Z"
      },
      {
        "duration": 146,
        "start_time": "2023-05-11T23:34:05.812Z"
      },
      {
        "duration": 5,
        "start_time": "2023-05-11T23:34:05.959Z"
      },
      {
        "duration": 153,
        "start_time": "2023-05-11T23:34:05.966Z"
      },
      {
        "duration": 6,
        "start_time": "2023-05-11T23:34:06.121Z"
      },
      {
        "duration": 374,
        "start_time": "2023-05-11T23:34:06.129Z"
      },
      {
        "duration": 11,
        "start_time": "2023-05-11T23:34:06.504Z"
      },
      {
        "duration": 30,
        "start_time": "2023-05-11T23:34:06.517Z"
      },
      {
        "duration": 42,
        "start_time": "2023-05-11T23:34:06.549Z"
      },
      {
        "duration": 73,
        "start_time": "2023-05-12T13:38:34.159Z"
      },
      {
        "duration": 1370,
        "start_time": "2023-05-12T13:38:40.395Z"
      },
      {
        "duration": 61,
        "start_time": "2023-05-12T13:38:41.767Z"
      },
      {
        "duration": 13,
        "start_time": "2023-05-12T13:38:41.830Z"
      },
      {
        "duration": 13,
        "start_time": "2023-05-12T13:38:41.845Z"
      },
      {
        "duration": 14,
        "start_time": "2023-05-12T13:38:41.860Z"
      },
      {
        "duration": 169,
        "start_time": "2023-05-12T13:38:41.876Z"
      },
      {
        "duration": 29,
        "start_time": "2023-05-12T13:38:42.047Z"
      },
      {
        "duration": 25,
        "start_time": "2023-05-12T13:38:42.082Z"
      },
      {
        "duration": 16,
        "start_time": "2023-05-12T13:38:42.109Z"
      },
      {
        "duration": 302,
        "start_time": "2023-05-12T13:38:42.127Z"
      },
      {
        "duration": 281,
        "start_time": "2023-05-12T13:38:42.432Z"
      },
      {
        "duration": 212,
        "start_time": "2023-05-12T13:38:42.715Z"
      },
      {
        "duration": 329,
        "start_time": "2023-05-12T13:38:42.929Z"
      },
      {
        "duration": 212,
        "start_time": "2023-05-12T13:38:43.261Z"
      },
      {
        "duration": 285,
        "start_time": "2023-05-12T13:38:43.477Z"
      },
      {
        "duration": 145,
        "start_time": "2023-05-12T13:38:43.764Z"
      },
      {
        "duration": 6,
        "start_time": "2023-05-12T13:38:43.911Z"
      },
      {
        "duration": 160,
        "start_time": "2023-05-12T13:38:43.918Z"
      },
      {
        "duration": 12,
        "start_time": "2023-05-12T13:38:44.079Z"
      },
      {
        "duration": 414,
        "start_time": "2023-05-12T13:38:44.093Z"
      },
      {
        "duration": 12,
        "start_time": "2023-05-12T13:38:44.509Z"
      },
      {
        "duration": 57,
        "start_time": "2023-05-12T13:38:44.524Z"
      },
      {
        "duration": 18,
        "start_time": "2023-05-12T13:38:44.586Z"
      },
      {
        "duration": 11,
        "start_time": "2023-05-12T13:39:18.290Z"
      },
      {
        "duration": 11,
        "start_time": "2023-05-12T13:39:35.243Z"
      },
      {
        "duration": 11,
        "start_time": "2023-05-12T13:39:56.908Z"
      },
      {
        "duration": 10,
        "start_time": "2023-05-12T13:39:59.895Z"
      },
      {
        "duration": 22,
        "start_time": "2023-05-12T13:40:23.803Z"
      },
      {
        "duration": 9,
        "start_time": "2023-05-12T13:40:24.793Z"
      },
      {
        "duration": 9,
        "start_time": "2023-05-12T13:40:31.792Z"
      },
      {
        "duration": 1068,
        "start_time": "2023-05-12T13:40:51.990Z"
      },
      {
        "duration": 34,
        "start_time": "2023-05-12T13:40:53.060Z"
      },
      {
        "duration": 11,
        "start_time": "2023-05-12T13:40:53.096Z"
      },
      {
        "duration": 10,
        "start_time": "2023-05-12T13:40:53.109Z"
      },
      {
        "duration": 11,
        "start_time": "2023-05-12T13:40:53.121Z"
      },
      {
        "duration": 55,
        "start_time": "2023-05-12T13:40:53.134Z"
      },
      {
        "duration": 21,
        "start_time": "2023-05-12T13:40:53.191Z"
      },
      {
        "duration": 78,
        "start_time": "2023-05-12T13:40:53.213Z"
      },
      {
        "duration": 45,
        "start_time": "2023-05-12T13:40:53.294Z"
      },
      {
        "duration": 303,
        "start_time": "2023-05-12T13:40:53.341Z"
      },
      {
        "duration": 279,
        "start_time": "2023-05-12T13:40:53.646Z"
      },
      {
        "duration": 196,
        "start_time": "2023-05-12T13:40:53.926Z"
      },
      {
        "duration": 279,
        "start_time": "2023-05-12T13:40:54.124Z"
      },
      {
        "duration": 206,
        "start_time": "2023-05-12T13:40:54.405Z"
      },
      {
        "duration": 279,
        "start_time": "2023-05-12T13:40:54.613Z"
      },
      {
        "duration": 127,
        "start_time": "2023-05-12T13:40:54.894Z"
      },
      {
        "duration": 5,
        "start_time": "2023-05-12T13:40:55.023Z"
      },
      {
        "duration": 160,
        "start_time": "2023-05-12T13:40:55.030Z"
      },
      {
        "duration": 4,
        "start_time": "2023-05-12T13:40:55.192Z"
      },
      {
        "duration": 391,
        "start_time": "2023-05-12T13:40:55.198Z"
      },
      {
        "duration": 13,
        "start_time": "2023-05-12T13:40:55.590Z"
      },
      {
        "duration": 33,
        "start_time": "2023-05-12T13:40:55.605Z"
      },
      {
        "duration": 17,
        "start_time": "2023-05-12T13:40:55.640Z"
      },
      {
        "duration": 11,
        "start_time": "2023-05-12T13:41:29.841Z"
      },
      {
        "duration": 4,
        "start_time": "2023-05-12T13:41:55.646Z"
      },
      {
        "duration": 4,
        "start_time": "2023-05-12T13:42:00.537Z"
      },
      {
        "duration": 23,
        "start_time": "2023-05-12T13:42:17.808Z"
      },
      {
        "duration": 4,
        "start_time": "2023-05-12T13:42:18.569Z"
      },
      {
        "duration": 38,
        "start_time": "2023-05-12T13:42:29.181Z"
      },
      {
        "duration": 10,
        "start_time": "2023-05-12T13:42:29.904Z"
      },
      {
        "duration": 1120,
        "start_time": "2023-05-12T13:43:24.450Z"
      },
      {
        "duration": 34,
        "start_time": "2023-05-12T13:43:25.572Z"
      },
      {
        "duration": 13,
        "start_time": "2023-05-12T13:43:25.607Z"
      },
      {
        "duration": 14,
        "start_time": "2023-05-12T13:43:25.623Z"
      },
      {
        "duration": 12,
        "start_time": "2023-05-12T13:43:25.639Z"
      },
      {
        "duration": 71,
        "start_time": "2023-05-12T13:43:25.653Z"
      },
      {
        "duration": 21,
        "start_time": "2023-05-12T13:43:25.725Z"
      },
      {
        "duration": 16,
        "start_time": "2023-05-12T13:43:25.748Z"
      },
      {
        "duration": 6,
        "start_time": "2023-05-12T13:43:25.765Z"
      },
      {
        "duration": 348,
        "start_time": "2023-05-12T13:43:25.774Z"
      },
      {
        "duration": 318,
        "start_time": "2023-05-12T13:43:26.124Z"
      },
      {
        "duration": 225,
        "start_time": "2023-05-12T13:43:26.444Z"
      },
      {
        "duration": 329,
        "start_time": "2023-05-12T13:43:26.671Z"
      },
      {
        "duration": 236,
        "start_time": "2023-05-12T13:43:27.003Z"
      },
      {
        "duration": 361,
        "start_time": "2023-05-12T13:43:27.241Z"
      },
      {
        "duration": 158,
        "start_time": "2023-05-12T13:43:27.610Z"
      },
      {
        "duration": 24,
        "start_time": "2023-05-12T13:43:27.770Z"
      },
      {
        "duration": 175,
        "start_time": "2023-05-12T13:43:27.796Z"
      },
      {
        "duration": 21,
        "start_time": "2023-05-12T13:43:27.972Z"
      },
      {
        "duration": 378,
        "start_time": "2023-05-12T13:43:27.995Z"
      },
      {
        "duration": 27,
        "start_time": "2023-05-12T13:43:28.375Z"
      },
      {
        "duration": 33,
        "start_time": "2023-05-12T13:43:28.404Z"
      },
      {
        "duration": 14,
        "start_time": "2023-05-12T13:43:28.439Z"
      },
      {
        "duration": 11,
        "start_time": "2023-05-12T13:43:58.458Z"
      },
      {
        "duration": 21,
        "start_time": "2023-05-12T13:44:34.282Z"
      },
      {
        "duration": 11,
        "start_time": "2023-05-12T13:45:17.332Z"
      },
      {
        "duration": 14,
        "start_time": "2023-05-12T13:46:19.898Z"
      },
      {
        "duration": 1112,
        "start_time": "2023-05-12T13:46:32.810Z"
      },
      {
        "duration": 22,
        "start_time": "2023-05-12T13:46:33.924Z"
      },
      {
        "duration": 1077,
        "start_time": "2023-05-12T13:46:33.948Z"
      },
      {
        "duration": 0,
        "start_time": "2023-05-12T13:46:35.027Z"
      },
      {
        "duration": 0,
        "start_time": "2023-05-12T13:46:35.028Z"
      },
      {
        "duration": 0,
        "start_time": "2023-05-12T13:46:35.030Z"
      },
      {
        "duration": 0,
        "start_time": "2023-05-12T13:46:35.031Z"
      },
      {
        "duration": 0,
        "start_time": "2023-05-12T13:46:35.033Z"
      },
      {
        "duration": 0,
        "start_time": "2023-05-12T13:46:35.034Z"
      },
      {
        "duration": 0,
        "start_time": "2023-05-12T13:46:35.035Z"
      },
      {
        "duration": 0,
        "start_time": "2023-05-12T13:46:35.036Z"
      },
      {
        "duration": 0,
        "start_time": "2023-05-12T13:46:35.037Z"
      },
      {
        "duration": 0,
        "start_time": "2023-05-12T13:46:35.038Z"
      },
      {
        "duration": 0,
        "start_time": "2023-05-12T13:46:35.040Z"
      },
      {
        "duration": 0,
        "start_time": "2023-05-12T13:46:35.041Z"
      },
      {
        "duration": 0,
        "start_time": "2023-05-12T13:46:35.042Z"
      },
      {
        "duration": 0,
        "start_time": "2023-05-12T13:46:35.043Z"
      },
      {
        "duration": 0,
        "start_time": "2023-05-12T13:46:35.044Z"
      },
      {
        "duration": 0,
        "start_time": "2023-05-12T13:46:35.045Z"
      },
      {
        "duration": 0,
        "start_time": "2023-05-12T13:46:35.047Z"
      },
      {
        "duration": 0,
        "start_time": "2023-05-12T13:46:35.048Z"
      },
      {
        "duration": 0,
        "start_time": "2023-05-12T13:46:35.049Z"
      },
      {
        "duration": 0,
        "start_time": "2023-05-12T13:46:35.050Z"
      },
      {
        "duration": 22,
        "start_time": "2023-05-12T13:46:54.904Z"
      },
      {
        "duration": 901,
        "start_time": "2023-05-12T13:46:57.405Z"
      },
      {
        "duration": 17,
        "start_time": "2023-05-12T13:47:13.173Z"
      },
      {
        "duration": 1141,
        "start_time": "2023-05-12T13:47:29.214Z"
      },
      {
        "duration": 30,
        "start_time": "2023-05-12T13:47:30.357Z"
      },
      {
        "duration": 37,
        "start_time": "2023-05-12T13:47:30.396Z"
      },
      {
        "duration": 83,
        "start_time": "2023-05-12T13:47:30.434Z"
      },
      {
        "duration": 46,
        "start_time": "2023-05-12T13:47:30.519Z"
      },
      {
        "duration": 105,
        "start_time": "2023-05-12T13:47:30.567Z"
      },
      {
        "duration": 36,
        "start_time": "2023-05-12T13:47:30.674Z"
      },
      {
        "duration": 26,
        "start_time": "2023-05-12T13:47:30.712Z"
      },
      {
        "duration": 41,
        "start_time": "2023-05-12T13:47:30.740Z"
      },
      {
        "duration": 335,
        "start_time": "2023-05-12T13:47:30.792Z"
      },
      {
        "duration": 302,
        "start_time": "2023-05-12T13:47:31.129Z"
      },
      {
        "duration": 213,
        "start_time": "2023-05-12T13:47:31.433Z"
      },
      {
        "duration": 364,
        "start_time": "2023-05-12T13:47:31.648Z"
      },
      {
        "duration": 231,
        "start_time": "2023-05-12T13:47:32.015Z"
      },
      {
        "duration": 325,
        "start_time": "2023-05-12T13:47:32.247Z"
      },
      {
        "duration": 145,
        "start_time": "2023-05-12T13:47:32.574Z"
      },
      {
        "duration": 5,
        "start_time": "2023-05-12T13:47:32.721Z"
      },
      {
        "duration": 173,
        "start_time": "2023-05-12T13:47:32.727Z"
      },
      {
        "duration": 5,
        "start_time": "2023-05-12T13:47:32.902Z"
      },
      {
        "duration": 391,
        "start_time": "2023-05-12T13:47:32.909Z"
      },
      {
        "duration": 17,
        "start_time": "2023-05-12T13:47:33.302Z"
      },
      {
        "duration": 31,
        "start_time": "2023-05-12T13:47:33.321Z"
      },
      {
        "duration": 39,
        "start_time": "2023-05-12T13:47:33.354Z"
      },
      {
        "duration": 1218,
        "start_time": "2023-05-12T13:48:39.372Z"
      },
      {
        "duration": 24,
        "start_time": "2023-05-12T13:48:40.598Z"
      },
      {
        "duration": 13,
        "start_time": "2023-05-12T13:48:40.624Z"
      },
      {
        "duration": 15,
        "start_time": "2023-05-12T13:48:40.640Z"
      },
      {
        "duration": 12,
        "start_time": "2023-05-12T13:48:40.656Z"
      },
      {
        "duration": 57,
        "start_time": "2023-05-12T13:48:40.670Z"
      },
      {
        "duration": 23,
        "start_time": "2023-05-12T13:48:40.729Z"
      },
      {
        "duration": 20,
        "start_time": "2023-05-12T13:48:40.754Z"
      },
      {
        "duration": 19,
        "start_time": "2023-05-12T13:48:40.775Z"
      },
      {
        "duration": 321,
        "start_time": "2023-05-12T13:48:40.801Z"
      },
      {
        "duration": 304,
        "start_time": "2023-05-12T13:48:41.124Z"
      },
      {
        "duration": 208,
        "start_time": "2023-05-12T13:48:41.429Z"
      },
      {
        "duration": 293,
        "start_time": "2023-05-12T13:48:41.638Z"
      },
      {
        "duration": 226,
        "start_time": "2023-05-12T13:48:41.934Z"
      },
      {
        "duration": 336,
        "start_time": "2023-05-12T13:48:42.162Z"
      },
      {
        "duration": 141,
        "start_time": "2023-05-12T13:48:42.500Z"
      },
      {
        "duration": 5,
        "start_time": "2023-05-12T13:48:42.644Z"
      },
      {
        "duration": 184,
        "start_time": "2023-05-12T13:48:42.651Z"
      },
      {
        "duration": 6,
        "start_time": "2023-05-12T13:48:42.837Z"
      },
      {
        "duration": 399,
        "start_time": "2023-05-12T13:48:42.844Z"
      },
      {
        "duration": 9,
        "start_time": "2023-05-12T13:48:43.245Z"
      },
      {
        "duration": 52,
        "start_time": "2023-05-12T13:48:43.256Z"
      },
      {
        "duration": 18,
        "start_time": "2023-05-12T13:48:43.310Z"
      },
      {
        "duration": 10,
        "start_time": "2023-05-12T13:51:38.143Z"
      },
      {
        "duration": 1160,
        "start_time": "2023-05-12T13:52:01.805Z"
      },
      {
        "duration": 44,
        "start_time": "2023-05-12T13:52:02.967Z"
      },
      {
        "duration": 13,
        "start_time": "2023-05-12T13:52:03.013Z"
      },
      {
        "duration": 12,
        "start_time": "2023-05-12T13:52:03.028Z"
      },
      {
        "duration": 19,
        "start_time": "2023-05-12T13:52:03.042Z"
      },
      {
        "duration": 79,
        "start_time": "2023-05-12T13:52:03.062Z"
      },
      {
        "duration": 20,
        "start_time": "2023-05-12T13:52:03.143Z"
      },
      {
        "duration": 30,
        "start_time": "2023-05-12T13:52:03.164Z"
      },
      {
        "duration": 11,
        "start_time": "2023-05-12T13:52:03.198Z"
      },
      {
        "duration": 316,
        "start_time": "2023-05-12T13:52:03.211Z"
      },
      {
        "duration": 291,
        "start_time": "2023-05-12T13:52:03.528Z"
      },
      {
        "duration": 197,
        "start_time": "2023-05-12T13:52:03.821Z"
      },
      {
        "duration": 285,
        "start_time": "2023-05-12T13:52:04.020Z"
      },
      {
        "duration": 217,
        "start_time": "2023-05-12T13:52:04.308Z"
      },
      {
        "duration": 296,
        "start_time": "2023-05-12T13:52:04.527Z"
      },
      {
        "duration": 145,
        "start_time": "2023-05-12T13:52:04.824Z"
      },
      {
        "duration": 15,
        "start_time": "2023-05-12T13:52:04.971Z"
      },
      {
        "duration": 163,
        "start_time": "2023-05-12T13:52:04.988Z"
      },
      {
        "duration": 5,
        "start_time": "2023-05-12T13:52:05.153Z"
      },
      {
        "duration": 440,
        "start_time": "2023-05-12T13:52:05.160Z"
      },
      {
        "duration": 15,
        "start_time": "2023-05-12T13:52:05.606Z"
      },
      {
        "duration": 63,
        "start_time": "2023-05-12T13:52:05.623Z"
      },
      {
        "duration": 17,
        "start_time": "2023-05-12T13:52:05.688Z"
      },
      {
        "duration": 14,
        "start_time": "2023-05-12T13:58:21.671Z"
      },
      {
        "duration": 10,
        "start_time": "2023-05-12T14:00:13.799Z"
      },
      {
        "duration": 289,
        "start_time": "2023-05-12T14:01:25.621Z"
      },
      {
        "duration": 198,
        "start_time": "2023-05-12T14:01:31.204Z"
      },
      {
        "duration": 194,
        "start_time": "2023-05-12T14:01:36.673Z"
      },
      {
        "duration": 212,
        "start_time": "2023-05-12T14:01:44.661Z"
      },
      {
        "duration": 183,
        "start_time": "2023-05-12T14:02:33.426Z"
      },
      {
        "duration": 267,
        "start_time": "2023-05-12T14:02:39.946Z"
      },
      {
        "duration": 223,
        "start_time": "2023-05-12T14:02:51.960Z"
      },
      {
        "duration": 223,
        "start_time": "2023-05-12T14:03:29.843Z"
      },
      {
        "duration": 227,
        "start_time": "2023-05-12T14:04:46.747Z"
      },
      {
        "duration": 222,
        "start_time": "2023-05-12T14:05:03.001Z"
      },
      {
        "duration": 214,
        "start_time": "2023-05-12T14:05:42.428Z"
      },
      {
        "duration": 340,
        "start_time": "2023-05-12T14:06:04.592Z"
      },
      {
        "duration": 224,
        "start_time": "2023-05-12T14:09:08.705Z"
      },
      {
        "duration": 217,
        "start_time": "2023-05-12T14:10:38.786Z"
      },
      {
        "duration": 272,
        "start_time": "2023-05-12T14:11:02.025Z"
      },
      {
        "duration": 342,
        "start_time": "2023-05-12T14:12:31.201Z"
      },
      {
        "duration": 319,
        "start_time": "2023-05-12T14:12:39.226Z"
      },
      {
        "duration": 283,
        "start_time": "2023-05-12T14:14:44.732Z"
      },
      {
        "duration": 367,
        "start_time": "2023-05-12T14:16:10.437Z"
      },
      {
        "duration": 449,
        "start_time": "2023-05-12T14:16:45.800Z"
      },
      {
        "duration": 327,
        "start_time": "2023-05-12T14:16:59.834Z"
      },
      {
        "duration": 51,
        "start_time": "2023-05-12T14:17:59.854Z"
      },
      {
        "duration": 349,
        "start_time": "2023-05-12T14:18:14.141Z"
      },
      {
        "duration": 448,
        "start_time": "2023-05-12T14:18:23.097Z"
      },
      {
        "duration": 334,
        "start_time": "2023-05-12T14:18:26.807Z"
      },
      {
        "duration": 351,
        "start_time": "2023-05-12T14:18:30.280Z"
      },
      {
        "duration": 194,
        "start_time": "2023-05-12T14:22:12.100Z"
      },
      {
        "duration": 203,
        "start_time": "2023-05-12T14:24:19.450Z"
      },
      {
        "duration": 185,
        "start_time": "2023-05-12T14:24:53.909Z"
      },
      {
        "duration": 210,
        "start_time": "2023-05-12T14:26:20.751Z"
      },
      {
        "duration": 59,
        "start_time": "2023-05-12T20:41:45.311Z"
      },
      {
        "duration": 10,
        "start_time": "2023-05-12T20:42:00.292Z"
      },
      {
        "duration": 1332,
        "start_time": "2023-05-12T20:42:18.189Z"
      },
      {
        "duration": 81,
        "start_time": "2023-05-12T20:42:19.523Z"
      },
      {
        "duration": 13,
        "start_time": "2023-05-12T20:42:19.606Z"
      },
      {
        "duration": 21,
        "start_time": "2023-05-12T20:42:19.621Z"
      },
      {
        "duration": 12,
        "start_time": "2023-05-12T20:42:19.644Z"
      },
      {
        "duration": 198,
        "start_time": "2023-05-12T20:42:19.658Z"
      },
      {
        "duration": 33,
        "start_time": "2023-05-12T20:42:19.860Z"
      },
      {
        "duration": 19,
        "start_time": "2023-05-12T20:42:19.895Z"
      },
      {
        "duration": 7,
        "start_time": "2023-05-12T20:42:19.915Z"
      },
      {
        "duration": 7,
        "start_time": "2023-05-12T20:42:19.923Z"
      },
      {
        "duration": 323,
        "start_time": "2023-05-12T20:42:19.932Z"
      },
      {
        "duration": 332,
        "start_time": "2023-05-12T20:42:20.270Z"
      },
      {
        "duration": 241,
        "start_time": "2023-05-12T20:42:20.604Z"
      },
      {
        "duration": 398,
        "start_time": "2023-05-12T20:42:20.849Z"
      },
      {
        "duration": 298,
        "start_time": "2023-05-12T20:42:21.249Z"
      },
      {
        "duration": 370,
        "start_time": "2023-05-12T20:42:21.549Z"
      },
      {
        "duration": 190,
        "start_time": "2023-05-12T20:42:21.921Z"
      },
      {
        "duration": 5,
        "start_time": "2023-05-12T20:42:22.112Z"
      },
      {
        "duration": 211,
        "start_time": "2023-05-12T20:42:22.119Z"
      },
      {
        "duration": 192,
        "start_time": "2023-05-12T20:42:22.332Z"
      },
      {
        "duration": 5,
        "start_time": "2023-05-12T20:42:22.525Z"
      },
      {
        "duration": 499,
        "start_time": "2023-05-12T20:42:22.532Z"
      },
      {
        "duration": 11,
        "start_time": "2023-05-12T20:42:23.033Z"
      },
      {
        "duration": 65,
        "start_time": "2023-05-12T20:42:23.046Z"
      },
      {
        "duration": 14,
        "start_time": "2023-05-12T20:42:23.113Z"
      },
      {
        "duration": 82,
        "start_time": "2023-05-12T20:44:21.829Z"
      },
      {
        "duration": 200,
        "start_time": "2023-05-12T20:47:52.439Z"
      },
      {
        "duration": 8,
        "start_time": "2023-05-12T20:47:55.971Z"
      },
      {
        "duration": 1135,
        "start_time": "2023-05-12T20:48:05.654Z"
      },
      {
        "duration": 22,
        "start_time": "2023-05-12T20:48:06.791Z"
      },
      {
        "duration": 11,
        "start_time": "2023-05-12T20:48:06.815Z"
      },
      {
        "duration": 20,
        "start_time": "2023-05-12T20:48:06.828Z"
      },
      {
        "duration": 19,
        "start_time": "2023-05-12T20:48:06.850Z"
      },
      {
        "duration": 46,
        "start_time": "2023-05-12T20:48:06.876Z"
      },
      {
        "duration": 27,
        "start_time": "2023-05-12T20:48:06.924Z"
      },
      {
        "duration": 29,
        "start_time": "2023-05-12T20:48:06.952Z"
      },
      {
        "duration": 8,
        "start_time": "2023-05-12T20:48:06.989Z"
      },
      {
        "duration": 9,
        "start_time": "2023-05-12T20:48:07.000Z"
      },
      {
        "duration": 330,
        "start_time": "2023-05-12T20:48:07.011Z"
      },
      {
        "duration": 336,
        "start_time": "2023-05-12T20:48:07.343Z"
      },
      {
        "duration": 224,
        "start_time": "2023-05-12T20:48:07.686Z"
      },
      {
        "duration": 332,
        "start_time": "2023-05-12T20:48:07.912Z"
      },
      {
        "duration": 281,
        "start_time": "2023-05-12T20:48:08.246Z"
      },
      {
        "duration": 374,
        "start_time": "2023-05-12T20:48:08.529Z"
      },
      {
        "duration": 206,
        "start_time": "2023-05-12T20:48:08.905Z"
      },
      {
        "duration": 4,
        "start_time": "2023-05-12T20:48:09.113Z"
      },
      {
        "duration": 189,
        "start_time": "2023-05-12T20:48:09.120Z"
      },
      {
        "duration": 274,
        "start_time": "2023-05-12T20:48:09.310Z"
      },
      {
        "duration": 0,
        "start_time": "2023-05-12T20:48:09.586Z"
      },
      {
        "duration": 0,
        "start_time": "2023-05-12T20:48:09.587Z"
      },
      {
        "duration": 0,
        "start_time": "2023-05-12T20:48:09.588Z"
      },
      {
        "duration": 0,
        "start_time": "2023-05-12T20:48:09.589Z"
      },
      {
        "duration": 0,
        "start_time": "2023-05-12T20:48:09.590Z"
      },
      {
        "duration": 289,
        "start_time": "2023-05-12T20:48:50.725Z"
      },
      {
        "duration": 5,
        "start_time": "2023-05-12T20:48:57.775Z"
      },
      {
        "duration": 1129,
        "start_time": "2023-05-12T20:49:06.292Z"
      },
      {
        "duration": 25,
        "start_time": "2023-05-12T20:49:07.423Z"
      },
      {
        "duration": 20,
        "start_time": "2023-05-12T20:49:07.450Z"
      },
      {
        "duration": 26,
        "start_time": "2023-05-12T20:49:07.472Z"
      },
      {
        "duration": 15,
        "start_time": "2023-05-12T20:49:07.501Z"
      },
      {
        "duration": 61,
        "start_time": "2023-05-12T20:49:07.518Z"
      },
      {
        "duration": 24,
        "start_time": "2023-05-12T20:49:07.581Z"
      },
      {
        "duration": 21,
        "start_time": "2023-05-12T20:49:07.606Z"
      },
      {
        "duration": 6,
        "start_time": "2023-05-12T20:49:07.629Z"
      },
      {
        "duration": 9,
        "start_time": "2023-05-12T20:49:07.637Z"
      },
      {
        "duration": 325,
        "start_time": "2023-05-12T20:49:07.648Z"
      },
      {
        "duration": 329,
        "start_time": "2023-05-12T20:49:07.975Z"
      },
      {
        "duration": 278,
        "start_time": "2023-05-12T20:49:08.306Z"
      },
      {
        "duration": 330,
        "start_time": "2023-05-12T20:49:08.586Z"
      },
      {
        "duration": 301,
        "start_time": "2023-05-12T20:49:08.918Z"
      },
      {
        "duration": 341,
        "start_time": "2023-05-12T20:49:09.221Z"
      },
      {
        "duration": 174,
        "start_time": "2023-05-12T20:49:09.567Z"
      },
      {
        "duration": 5,
        "start_time": "2023-05-12T20:49:09.743Z"
      },
      {
        "duration": 213,
        "start_time": "2023-05-12T20:49:09.749Z"
      },
      {
        "duration": 200,
        "start_time": "2023-05-12T20:49:09.963Z"
      },
      {
        "duration": 9,
        "start_time": "2023-05-12T20:49:10.165Z"
      },
      {
        "duration": 482,
        "start_time": "2023-05-12T20:49:10.179Z"
      },
      {
        "duration": 16,
        "start_time": "2023-05-12T20:49:10.664Z"
      },
      {
        "duration": 44,
        "start_time": "2023-05-12T20:49:10.682Z"
      },
      {
        "duration": 13,
        "start_time": "2023-05-12T20:49:10.728Z"
      },
      {
        "duration": 376,
        "start_time": "2023-05-12T21:55:30.020Z"
      },
      {
        "duration": 9,
        "start_time": "2023-05-12T21:55:55.933Z"
      },
      {
        "duration": 30,
        "start_time": "2023-05-12T21:56:39.636Z"
      },
      {
        "duration": 17,
        "start_time": "2023-05-12T21:57:19.589Z"
      },
      {
        "duration": 17,
        "start_time": "2023-05-12T21:57:35.710Z"
      },
      {
        "duration": 415,
        "start_time": "2023-05-12T22:06:08.110Z"
      },
      {
        "duration": 371,
        "start_time": "2023-05-12T22:06:14.883Z"
      },
      {
        "duration": 65,
        "start_time": "2023-05-12T22:22:59.416Z"
      },
      {
        "duration": 13,
        "start_time": "2023-05-12T22:23:57.899Z"
      },
      {
        "duration": 3,
        "start_time": "2023-05-12T22:24:03.380Z"
      },
      {
        "duration": 33,
        "start_time": "2023-05-12T22:24:05.238Z"
      },
      {
        "duration": 1245,
        "start_time": "2023-05-13T02:37:28.944Z"
      },
      {
        "duration": 91,
        "start_time": "2023-05-13T02:37:30.191Z"
      },
      {
        "duration": 17,
        "start_time": "2023-05-13T02:37:30.284Z"
      },
      {
        "duration": 58,
        "start_time": "2023-05-13T02:37:30.308Z"
      },
      {
        "duration": 23,
        "start_time": "2023-05-13T02:37:30.368Z"
      },
      {
        "duration": 189,
        "start_time": "2023-05-13T02:37:30.392Z"
      },
      {
        "duration": 30,
        "start_time": "2023-05-13T02:37:30.583Z"
      },
      {
        "duration": 58,
        "start_time": "2023-05-13T02:37:30.616Z"
      },
      {
        "duration": 49,
        "start_time": "2023-05-13T02:37:30.675Z"
      },
      {
        "duration": 51,
        "start_time": "2023-05-13T02:37:30.726Z"
      },
      {
        "duration": 360,
        "start_time": "2023-05-13T02:37:30.779Z"
      },
      {
        "duration": 392,
        "start_time": "2023-05-13T02:37:31.141Z"
      },
      {
        "duration": 283,
        "start_time": "2023-05-13T02:37:31.536Z"
      },
      {
        "duration": 421,
        "start_time": "2023-05-13T02:37:31.821Z"
      },
      {
        "duration": 359,
        "start_time": "2023-05-13T02:37:32.244Z"
      },
      {
        "duration": 353,
        "start_time": "2023-05-13T02:37:32.605Z"
      },
      {
        "duration": 183,
        "start_time": "2023-05-13T02:37:32.960Z"
      },
      {
        "duration": 5,
        "start_time": "2023-05-13T02:37:33.145Z"
      },
      {
        "duration": 228,
        "start_time": "2023-05-13T02:37:33.152Z"
      },
      {
        "duration": 198,
        "start_time": "2023-05-13T02:37:33.382Z"
      },
      {
        "duration": 16,
        "start_time": "2023-05-13T02:37:33.582Z"
      },
      {
        "duration": 484,
        "start_time": "2023-05-13T02:37:33.606Z"
      },
      {
        "duration": 17,
        "start_time": "2023-05-13T02:37:34.092Z"
      },
      {
        "duration": 12,
        "start_time": "2023-05-13T02:37:34.111Z"
      },
      {
        "duration": 33,
        "start_time": "2023-05-13T02:37:34.125Z"
      },
      {
        "duration": 33,
        "start_time": "2023-05-13T02:37:34.160Z"
      },
      {
        "duration": 7,
        "start_time": "2023-05-13T02:48:12.495Z"
      },
      {
        "duration": 54,
        "start_time": "2023-05-15T03:39:30.038Z"
      },
      {
        "duration": 1314,
        "start_time": "2023-05-15T03:39:38.955Z"
      },
      {
        "duration": 100,
        "start_time": "2023-05-15T03:39:40.271Z"
      },
      {
        "duration": 13,
        "start_time": "2023-05-15T03:39:40.373Z"
      },
      {
        "duration": 15,
        "start_time": "2023-05-15T03:39:40.388Z"
      },
      {
        "duration": 41,
        "start_time": "2023-05-15T03:39:40.406Z"
      },
      {
        "duration": 191,
        "start_time": "2023-05-15T03:39:40.448Z"
      },
      {
        "duration": 20,
        "start_time": "2023-05-15T03:39:40.641Z"
      },
      {
        "duration": 16,
        "start_time": "2023-05-15T03:39:40.663Z"
      },
      {
        "duration": 11,
        "start_time": "2023-05-15T03:39:40.681Z"
      },
      {
        "duration": 40,
        "start_time": "2023-05-15T03:39:40.695Z"
      },
      {
        "duration": 317,
        "start_time": "2023-05-15T03:39:40.737Z"
      },
      {
        "duration": 392,
        "start_time": "2023-05-15T03:39:41.056Z"
      },
      {
        "duration": 300,
        "start_time": "2023-05-15T03:39:41.449Z"
      },
      {
        "duration": 431,
        "start_time": "2023-05-15T03:39:41.751Z"
      },
      {
        "duration": 399,
        "start_time": "2023-05-15T03:39:42.185Z"
      },
      {
        "duration": 414,
        "start_time": "2023-05-15T03:39:42.586Z"
      },
      {
        "duration": 207,
        "start_time": "2023-05-15T03:39:43.004Z"
      },
      {
        "duration": 14,
        "start_time": "2023-05-15T03:39:43.214Z"
      },
      {
        "duration": 239,
        "start_time": "2023-05-15T03:39:43.231Z"
      },
      {
        "duration": 218,
        "start_time": "2023-05-15T03:39:43.472Z"
      },
      {
        "duration": 5,
        "start_time": "2023-05-15T03:39:43.692Z"
      },
      {
        "duration": 584,
        "start_time": "2023-05-15T03:39:43.699Z"
      },
      {
        "duration": 19,
        "start_time": "2023-05-15T03:39:44.284Z"
      },
      {
        "duration": 48,
        "start_time": "2023-05-15T03:39:44.306Z"
      },
      {
        "duration": 35,
        "start_time": "2023-05-15T03:39:44.356Z"
      },
      {
        "duration": 20,
        "start_time": "2023-05-15T03:39:44.393Z"
      },
      {
        "duration": 16,
        "start_time": "2023-05-15T03:40:31.786Z"
      },
      {
        "duration": 3,
        "start_time": "2023-05-15T03:43:52.028Z"
      },
      {
        "duration": 36,
        "start_time": "2023-05-15T03:44:00.014Z"
      },
      {
        "duration": 46,
        "start_time": "2023-05-15T09:13:12.986Z"
      },
      {
        "duration": 1568,
        "start_time": "2023-05-15T09:13:18.500Z"
      },
      {
        "duration": 71,
        "start_time": "2023-05-15T09:13:20.070Z"
      },
      {
        "duration": 11,
        "start_time": "2023-05-15T09:13:20.143Z"
      },
      {
        "duration": 13,
        "start_time": "2023-05-15T09:13:20.156Z"
      },
      {
        "duration": 17,
        "start_time": "2023-05-15T09:13:20.171Z"
      },
      {
        "duration": 148,
        "start_time": "2023-05-15T09:13:20.190Z"
      },
      {
        "duration": 18,
        "start_time": "2023-05-15T09:13:20.340Z"
      },
      {
        "duration": 13,
        "start_time": "2023-05-15T09:13:20.360Z"
      },
      {
        "duration": 5,
        "start_time": "2023-05-15T09:13:20.374Z"
      },
      {
        "duration": 24,
        "start_time": "2023-05-15T09:13:20.380Z"
      },
      {
        "duration": 296,
        "start_time": "2023-05-15T09:13:20.406Z"
      },
      {
        "duration": 291,
        "start_time": "2023-05-15T09:13:20.703Z"
      },
      {
        "duration": 215,
        "start_time": "2023-05-15T09:13:20.996Z"
      },
      {
        "duration": 358,
        "start_time": "2023-05-15T09:13:21.214Z"
      },
      {
        "duration": 271,
        "start_time": "2023-05-15T09:13:21.574Z"
      },
      {
        "duration": 290,
        "start_time": "2023-05-15T09:13:21.846Z"
      },
      {
        "duration": 163,
        "start_time": "2023-05-15T09:13:22.137Z"
      },
      {
        "duration": 13,
        "start_time": "2023-05-15T09:13:22.302Z"
      },
      {
        "duration": 183,
        "start_time": "2023-05-15T09:13:22.319Z"
      },
      {
        "duration": 192,
        "start_time": "2023-05-15T09:13:22.510Z"
      },
      {
        "duration": 6,
        "start_time": "2023-05-15T09:13:22.705Z"
      },
      {
        "duration": 438,
        "start_time": "2023-05-15T09:13:22.716Z"
      },
      {
        "duration": 11,
        "start_time": "2023-05-15T09:13:23.155Z"
      },
      {
        "duration": 5,
        "start_time": "2023-05-15T09:13:23.167Z"
      },
      {
        "duration": 48,
        "start_time": "2023-05-15T09:13:23.174Z"
      },
      {
        "duration": 17,
        "start_time": "2023-05-15T09:13:23.225Z"
      },
      {
        "duration": 4,
        "start_time": "2023-05-15T09:16:16.888Z"
      },
      {
        "duration": 26,
        "start_time": "2023-05-15T09:16:19.431Z"
      },
      {
        "duration": 3,
        "start_time": "2023-05-15T09:36:02.189Z"
      },
      {
        "duration": 1122,
        "start_time": "2023-05-15T09:36:41.574Z"
      },
      {
        "duration": 24,
        "start_time": "2023-05-15T09:36:42.698Z"
      },
      {
        "duration": 11,
        "start_time": "2023-05-15T09:36:42.724Z"
      },
      {
        "duration": 38,
        "start_time": "2023-05-15T09:36:42.737Z"
      },
      {
        "duration": 15,
        "start_time": "2023-05-15T09:36:42.777Z"
      },
      {
        "duration": 48,
        "start_time": "2023-05-15T09:36:42.794Z"
      },
      {
        "duration": 25,
        "start_time": "2023-05-15T09:36:42.844Z"
      },
      {
        "duration": 23,
        "start_time": "2023-05-15T09:36:42.871Z"
      },
      {
        "duration": 7,
        "start_time": "2023-05-15T09:36:42.896Z"
      },
      {
        "duration": 10,
        "start_time": "2023-05-15T09:36:42.904Z"
      },
      {
        "duration": 278,
        "start_time": "2023-05-15T09:36:42.915Z"
      },
      {
        "duration": 296,
        "start_time": "2023-05-15T09:36:43.195Z"
      },
      {
        "duration": 216,
        "start_time": "2023-05-15T09:36:43.493Z"
      },
      {
        "duration": 359,
        "start_time": "2023-05-15T09:36:43.713Z"
      },
      {
        "duration": 255,
        "start_time": "2023-05-15T09:36:44.074Z"
      },
      {
        "duration": 319,
        "start_time": "2023-05-15T09:36:44.331Z"
      },
      {
        "duration": 184,
        "start_time": "2023-05-15T09:36:44.652Z"
      },
      {
        "duration": 5,
        "start_time": "2023-05-15T09:36:44.838Z"
      },
      {
        "duration": 204,
        "start_time": "2023-05-15T09:36:44.844Z"
      },
      {
        "duration": 188,
        "start_time": "2023-05-15T09:36:45.050Z"
      },
      {
        "duration": 5,
        "start_time": "2023-05-15T09:36:45.240Z"
      },
      {
        "duration": 448,
        "start_time": "2023-05-15T09:36:45.246Z"
      },
      {
        "duration": 14,
        "start_time": "2023-05-15T09:36:45.696Z"
      },
      {
        "duration": 27,
        "start_time": "2023-05-15T09:36:45.712Z"
      },
      {
        "duration": 31,
        "start_time": "2023-05-15T09:36:45.741Z"
      },
      {
        "duration": 14,
        "start_time": "2023-05-15T09:36:45.774Z"
      },
      {
        "duration": 1461,
        "start_time": "2023-05-15T09:39:12.675Z"
      },
      {
        "duration": 23,
        "start_time": "2023-05-15T09:39:14.138Z"
      },
      {
        "duration": 11,
        "start_time": "2023-05-15T09:39:14.163Z"
      },
      {
        "duration": 15,
        "start_time": "2023-05-15T09:39:14.176Z"
      },
      {
        "duration": 26,
        "start_time": "2023-05-15T09:39:14.192Z"
      },
      {
        "duration": 46,
        "start_time": "2023-05-15T09:39:14.220Z"
      },
      {
        "duration": 28,
        "start_time": "2023-05-15T09:39:14.268Z"
      },
      {
        "duration": 21,
        "start_time": "2023-05-15T09:39:14.298Z"
      },
      {
        "duration": 19,
        "start_time": "2023-05-15T09:39:14.321Z"
      },
      {
        "duration": 5,
        "start_time": "2023-05-15T09:39:14.343Z"
      },
      {
        "duration": 280,
        "start_time": "2023-05-15T09:39:14.350Z"
      },
      {
        "duration": 312,
        "start_time": "2023-05-15T09:39:14.632Z"
      },
      {
        "duration": 233,
        "start_time": "2023-05-15T09:39:14.945Z"
      },
      {
        "duration": 336,
        "start_time": "2023-05-15T09:39:15.180Z"
      },
      {
        "duration": 307,
        "start_time": "2023-05-15T09:39:15.518Z"
      },
      {
        "duration": 295,
        "start_time": "2023-05-15T09:39:15.827Z"
      },
      {
        "duration": 158,
        "start_time": "2023-05-15T09:39:16.124Z"
      },
      {
        "duration": 5,
        "start_time": "2023-05-15T09:39:16.284Z"
      },
      {
        "duration": 177,
        "start_time": "2023-05-15T09:39:16.291Z"
      },
      {
        "duration": 164,
        "start_time": "2023-05-15T09:39:16.470Z"
      },
      {
        "duration": 5,
        "start_time": "2023-05-15T09:39:16.636Z"
      },
      {
        "duration": 404,
        "start_time": "2023-05-15T09:39:16.643Z"
      },
      {
        "duration": 10,
        "start_time": "2023-05-15T09:39:17.049Z"
      },
      {
        "duration": 4,
        "start_time": "2023-05-15T09:39:17.060Z"
      },
      {
        "duration": 57,
        "start_time": "2023-05-15T09:39:17.065Z"
      },
      {
        "duration": 13,
        "start_time": "2023-05-15T09:39:17.123Z"
      },
      {
        "duration": 1619,
        "start_time": "2023-05-15T09:54:52.384Z"
      },
      {
        "duration": 67,
        "start_time": "2023-05-15T09:54:54.005Z"
      },
      {
        "duration": 17,
        "start_time": "2023-05-15T09:54:54.077Z"
      },
      {
        "duration": 15,
        "start_time": "2023-05-15T09:54:54.098Z"
      },
      {
        "duration": 11,
        "start_time": "2023-05-15T09:54:54.115Z"
      },
      {
        "duration": 133,
        "start_time": "2023-05-15T09:54:54.127Z"
      },
      {
        "duration": 30,
        "start_time": "2023-05-15T09:54:54.263Z"
      },
      {
        "duration": 30,
        "start_time": "2023-05-15T09:54:54.296Z"
      },
      {
        "duration": 8,
        "start_time": "2023-05-15T09:54:54.328Z"
      },
      {
        "duration": 7,
        "start_time": "2023-05-15T09:54:54.338Z"
      },
      {
        "duration": 427,
        "start_time": "2023-05-15T09:54:54.347Z"
      },
      {
        "duration": 368,
        "start_time": "2023-05-15T09:54:54.776Z"
      },
      {
        "duration": 267,
        "start_time": "2023-05-15T09:54:55.147Z"
      },
      {
        "duration": 425,
        "start_time": "2023-05-15T09:54:55.416Z"
      },
      {
        "duration": 324,
        "start_time": "2023-05-15T09:54:55.844Z"
      },
      {
        "duration": 392,
        "start_time": "2023-05-15T09:54:56.170Z"
      },
      {
        "duration": 189,
        "start_time": "2023-05-15T09:54:56.564Z"
      },
      {
        "duration": 6,
        "start_time": "2023-05-15T09:54:56.755Z"
      },
      {
        "duration": 215,
        "start_time": "2023-05-15T09:54:56.763Z"
      },
      {
        "duration": 217,
        "start_time": "2023-05-15T09:54:56.979Z"
      },
      {
        "duration": 6,
        "start_time": "2023-05-15T09:54:57.197Z"
      },
      {
        "duration": 475,
        "start_time": "2023-05-15T09:54:57.205Z"
      },
      {
        "duration": 17,
        "start_time": "2023-05-15T09:54:57.681Z"
      },
      {
        "duration": 8,
        "start_time": "2023-05-15T09:54:57.699Z"
      },
      {
        "duration": 43,
        "start_time": "2023-05-15T09:54:57.710Z"
      },
      {
        "duration": 15,
        "start_time": "2023-05-15T09:54:57.755Z"
      },
      {
        "duration": 1371,
        "start_time": "2023-06-07T18:45:06.712Z"
      },
      {
        "duration": 65,
        "start_time": "2023-06-07T18:45:08.086Z"
      },
      {
        "duration": 16,
        "start_time": "2023-06-07T18:45:08.154Z"
      },
      {
        "duration": 25,
        "start_time": "2023-06-07T18:45:08.173Z"
      },
      {
        "duration": 13,
        "start_time": "2023-06-07T18:45:08.200Z"
      },
      {
        "duration": 142,
        "start_time": "2023-06-07T18:45:08.215Z"
      },
      {
        "duration": 25,
        "start_time": "2023-06-07T18:45:08.360Z"
      },
      {
        "duration": 28,
        "start_time": "2023-06-07T18:45:08.387Z"
      },
      {
        "duration": 9,
        "start_time": "2023-06-07T18:45:08.417Z"
      },
      {
        "duration": 9,
        "start_time": "2023-06-07T18:45:08.430Z"
      },
      {
        "duration": 352,
        "start_time": "2023-06-07T18:45:08.441Z"
      },
      {
        "duration": 372,
        "start_time": "2023-06-07T18:45:08.795Z"
      },
      {
        "duration": 264,
        "start_time": "2023-06-07T18:45:09.169Z"
      },
      {
        "duration": 471,
        "start_time": "2023-06-07T18:45:09.435Z"
      },
      {
        "duration": 329,
        "start_time": "2023-06-07T18:45:09.908Z"
      },
      {
        "duration": 369,
        "start_time": "2023-06-07T18:45:10.240Z"
      },
      {
        "duration": 213,
        "start_time": "2023-06-07T18:45:10.611Z"
      },
      {
        "duration": 6,
        "start_time": "2023-06-07T18:45:10.827Z"
      },
      {
        "duration": 237,
        "start_time": "2023-06-07T18:45:10.835Z"
      },
      {
        "duration": 221,
        "start_time": "2023-06-07T18:45:11.077Z"
      },
      {
        "duration": 6,
        "start_time": "2023-06-07T18:45:11.300Z"
      },
      {
        "duration": 516,
        "start_time": "2023-06-07T18:45:11.308Z"
      },
      {
        "duration": 15,
        "start_time": "2023-06-07T18:45:11.826Z"
      },
      {
        "duration": 7,
        "start_time": "2023-06-07T18:45:11.843Z"
      },
      {
        "duration": 70,
        "start_time": "2023-06-07T18:45:11.852Z"
      },
      {
        "duration": 21,
        "start_time": "2023-06-07T18:45:11.924Z"
      }
    ],
    "kernelspec": {
      "display_name": "Python 3 (ipykernel)",
      "language": "python",
      "name": "python3"
    },
    "language_info": {
      "codemirror_mode": {
        "name": "ipython",
        "version": 3
      },
      "file_extension": ".py",
      "mimetype": "text/x-python",
      "name": "python",
      "nbconvert_exporter": "python",
      "pygments_lexer": "ipython3",
      "version": "3.9.5"
    },
    "toc": {
      "base_numbering": 1,
      "nav_menu": {},
      "number_sections": true,
      "sideBar": true,
      "skip_h1_title": true,
      "title_cell": "Table of Contents",
      "title_sidebar": "Contents",
      "toc_cell": false,
      "toc_position": {},
      "toc_section_display": true,
      "toc_window_display": false
    },
    "colab": {
      "provenance": []
    }
  },
  "nbformat": 4,
  "nbformat_minor": 0
}
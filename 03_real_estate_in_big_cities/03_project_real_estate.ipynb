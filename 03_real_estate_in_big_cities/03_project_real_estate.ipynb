{
  "cells": [
    {
      "cell_type": "markdown",
      "metadata": {
        "id": "WSWHWlnkhEYq"
      },
      "source": [
        "## Описание проекта\n",
        "\n",
        "В нашем распоряжении данные сервиса Яндекс.Недвижимость — архив объявлений о продаже квартир в Санкт-Петербурге и соседних населённых пунктов за несколько лет. Нужно определить рыночную стоимость объектов недвижимости. Задача — установить параметры. Это позволит построить автоматизированную систему: она отследит аномалии и мошенническую деятельность. \n",
        "\n",
        "По каждой квартире на продажу доступны два вида данных. Первые вписаны пользователем, вторые — получены автоматически на основе картографических данных. Например, расстояние до центра, аэропорта, ближайшего парка и водоёма.  \n",
        "## Данные\n",
        "airports_nearest — расстояние до ближайшего аэропорта в метрах (м);  \n",
        "balcony — число балконов;  \n",
        "ceiling_height — высота потолков (м);  \n",
        "cityCenters_nearest — расстояние до центра города (м);  \n",
        "days_exposition — сколько дней было размещено объявление (от публикации до снятия);  \n",
        "first_day_exposition — дата публикации;  \n",
        "floor — этаж;  \n",
        "floors_total — всего этажей в доме;  \n",
        "is_apartment — апартаменты (булев тип);  \n",
        "kitchen_area — площадь кухни в квадратных метрах (м²);  \n",
        "last_price — цена на момент снятия с публикации;  \n",
        "living_area — жилая площадь в квадратных метрах (м²);  \n",
        "locality_name — название населённого пункта;  \n",
        "open_plan — свободная планировка (булев тип);  \n",
        "parks_around3000 — число парков в радиусе 3 км;  \n",
        "parks_nearest — расстояние до ближайшего парка (м);  \n",
        "ponds_around3000 — число водоёмов в радиусе 3 км;  \n",
        "ponds_nearest — расстояние до ближайшего водоёма (м);  \n",
        "rooms — число комнат;  \n",
        "studio — квартира-студия (булев тип);  \n",
        "total_area — общая площадь квартиры в квадратных метрах (м²);  \n",
        "total_images — число фотографий квартиры в объявлении."
      ]
    },
    {
      "cell_type": "markdown",
      "metadata": {
        "id": "a0Mki_K_hEYr"
      },
      "source": [
        "## 1. Открываем файл с данными и изучаем общую информацию. "
      ]
    },
    {
      "cell_type": "code",
      "execution_count": null,
      "metadata": {
        "scrolled": false,
        "id": "_TkI8RLNhEYr",
        "outputId": "0c7885ac-c39a-4307-b204-926534b50a73"
      },
      "outputs": [
        {
          "name": "stdout",
          "output_type": "stream",
          "text": [
            "<class 'pandas.core.frame.DataFrame'>\n",
            "RangeIndex: 23699 entries, 0 to 23698\n",
            "Data columns (total 22 columns):\n",
            " #   Column                Non-Null Count  Dtype  \n",
            "---  ------                --------------  -----  \n",
            " 0   total_images          23699 non-null  int64  \n",
            " 1   last_price            23699 non-null  float64\n",
            " 2   total_area            23699 non-null  float64\n",
            " 3   first_day_exposition  23699 non-null  object \n",
            " 4   rooms                 23699 non-null  int64  \n",
            " 5   ceiling_height        14504 non-null  float64\n",
            " 6   floors_total          23613 non-null  float64\n",
            " 7   living_area           21796 non-null  float64\n",
            " 8   floor                 23699 non-null  int64  \n",
            " 9   is_apartment          2775 non-null   object \n",
            " 10  studio                23699 non-null  bool   \n",
            " 11  open_plan             23699 non-null  bool   \n",
            " 12  kitchen_area          21421 non-null  float64\n",
            " 13  balcony               12180 non-null  float64\n",
            " 14  locality_name         23650 non-null  object \n",
            " 15  airports_nearest      18157 non-null  float64\n",
            " 16  cityCenters_nearest   18180 non-null  float64\n",
            " 17  parks_around3000      18181 non-null  float64\n",
            " 18  parks_nearest         8079 non-null   float64\n",
            " 19  ponds_around3000      18181 non-null  float64\n",
            " 20  ponds_nearest         9110 non-null   float64\n",
            " 21  days_exposition       20518 non-null  float64\n",
            "dtypes: bool(2), float64(14), int64(3), object(3)\n",
            "memory usage: 3.7+ MB\n"
          ]
        },
        {
          "data": {
            "text/html": [
              "<div>\n",
              "<style scoped>\n",
              "    .dataframe tbody tr th:only-of-type {\n",
              "        vertical-align: middle;\n",
              "    }\n",
              "\n",
              "    .dataframe tbody tr th {\n",
              "        vertical-align: top;\n",
              "    }\n",
              "\n",
              "    .dataframe thead th {\n",
              "        text-align: right;\n",
              "    }\n",
              "</style>\n",
              "<table border=\"1\" class=\"dataframe\">\n",
              "  <thead>\n",
              "    <tr style=\"text-align: right;\">\n",
              "      <th></th>\n",
              "      <th>total_images</th>\n",
              "      <th>last_price</th>\n",
              "      <th>total_area</th>\n",
              "      <th>first_day_exposition</th>\n",
              "      <th>rooms</th>\n",
              "      <th>ceiling_height</th>\n",
              "      <th>floors_total</th>\n",
              "      <th>living_area</th>\n",
              "      <th>floor</th>\n",
              "      <th>is_apartment</th>\n",
              "      <th>...</th>\n",
              "      <th>kitchen_area</th>\n",
              "      <th>balcony</th>\n",
              "      <th>locality_name</th>\n",
              "      <th>airports_nearest</th>\n",
              "      <th>cityCenters_nearest</th>\n",
              "      <th>parks_around3000</th>\n",
              "      <th>parks_nearest</th>\n",
              "      <th>ponds_around3000</th>\n",
              "      <th>ponds_nearest</th>\n",
              "      <th>days_exposition</th>\n",
              "    </tr>\n",
              "  </thead>\n",
              "  <tbody>\n",
              "    <tr>\n",
              "      <th>0</th>\n",
              "      <td>20</td>\n",
              "      <td>13000000.0</td>\n",
              "      <td>108.00</td>\n",
              "      <td>2019-03-07T00:00:00</td>\n",
              "      <td>3</td>\n",
              "      <td>2.70</td>\n",
              "      <td>16.0</td>\n",
              "      <td>51.00</td>\n",
              "      <td>8</td>\n",
              "      <td>NaN</td>\n",
              "      <td>...</td>\n",
              "      <td>25.00</td>\n",
              "      <td>NaN</td>\n",
              "      <td>Санкт-Петербург</td>\n",
              "      <td>18863.0</td>\n",
              "      <td>16028.0</td>\n",
              "      <td>1.0</td>\n",
              "      <td>482.0</td>\n",
              "      <td>2.0</td>\n",
              "      <td>755.0</td>\n",
              "      <td>NaN</td>\n",
              "    </tr>\n",
              "    <tr>\n",
              "      <th>1</th>\n",
              "      <td>7</td>\n",
              "      <td>3350000.0</td>\n",
              "      <td>40.40</td>\n",
              "      <td>2018-12-04T00:00:00</td>\n",
              "      <td>1</td>\n",
              "      <td>NaN</td>\n",
              "      <td>11.0</td>\n",
              "      <td>18.60</td>\n",
              "      <td>1</td>\n",
              "      <td>NaN</td>\n",
              "      <td>...</td>\n",
              "      <td>11.00</td>\n",
              "      <td>2.0</td>\n",
              "      <td>посёлок Шушары</td>\n",
              "      <td>12817.0</td>\n",
              "      <td>18603.0</td>\n",
              "      <td>0.0</td>\n",
              "      <td>NaN</td>\n",
              "      <td>0.0</td>\n",
              "      <td>NaN</td>\n",
              "      <td>81.0</td>\n",
              "    </tr>\n",
              "    <tr>\n",
              "      <th>2</th>\n",
              "      <td>10</td>\n",
              "      <td>5196000.0</td>\n",
              "      <td>56.00</td>\n",
              "      <td>2015-08-20T00:00:00</td>\n",
              "      <td>2</td>\n",
              "      <td>NaN</td>\n",
              "      <td>5.0</td>\n",
              "      <td>34.30</td>\n",
              "      <td>4</td>\n",
              "      <td>NaN</td>\n",
              "      <td>...</td>\n",
              "      <td>8.30</td>\n",
              "      <td>0.0</td>\n",
              "      <td>Санкт-Петербург</td>\n",
              "      <td>21741.0</td>\n",
              "      <td>13933.0</td>\n",
              "      <td>1.0</td>\n",
              "      <td>90.0</td>\n",
              "      <td>2.0</td>\n",
              "      <td>574.0</td>\n",
              "      <td>558.0</td>\n",
              "    </tr>\n",
              "    <tr>\n",
              "      <th>3</th>\n",
              "      <td>0</td>\n",
              "      <td>64900000.0</td>\n",
              "      <td>159.00</td>\n",
              "      <td>2015-07-24T00:00:00</td>\n",
              "      <td>3</td>\n",
              "      <td>NaN</td>\n",
              "      <td>14.0</td>\n",
              "      <td>NaN</td>\n",
              "      <td>9</td>\n",
              "      <td>NaN</td>\n",
              "      <td>...</td>\n",
              "      <td>NaN</td>\n",
              "      <td>0.0</td>\n",
              "      <td>Санкт-Петербург</td>\n",
              "      <td>28098.0</td>\n",
              "      <td>6800.0</td>\n",
              "      <td>2.0</td>\n",
              "      <td>84.0</td>\n",
              "      <td>3.0</td>\n",
              "      <td>234.0</td>\n",
              "      <td>424.0</td>\n",
              "    </tr>\n",
              "    <tr>\n",
              "      <th>4</th>\n",
              "      <td>2</td>\n",
              "      <td>10000000.0</td>\n",
              "      <td>100.00</td>\n",
              "      <td>2018-06-19T00:00:00</td>\n",
              "      <td>2</td>\n",
              "      <td>3.03</td>\n",
              "      <td>14.0</td>\n",
              "      <td>32.00</td>\n",
              "      <td>13</td>\n",
              "      <td>NaN</td>\n",
              "      <td>...</td>\n",
              "      <td>41.00</td>\n",
              "      <td>NaN</td>\n",
              "      <td>Санкт-Петербург</td>\n",
              "      <td>31856.0</td>\n",
              "      <td>8098.0</td>\n",
              "      <td>2.0</td>\n",
              "      <td>112.0</td>\n",
              "      <td>1.0</td>\n",
              "      <td>48.0</td>\n",
              "      <td>121.0</td>\n",
              "    </tr>\n",
              "    <tr>\n",
              "      <th>5</th>\n",
              "      <td>10</td>\n",
              "      <td>2890000.0</td>\n",
              "      <td>30.40</td>\n",
              "      <td>2018-09-10T00:00:00</td>\n",
              "      <td>1</td>\n",
              "      <td>NaN</td>\n",
              "      <td>12.0</td>\n",
              "      <td>14.40</td>\n",
              "      <td>5</td>\n",
              "      <td>NaN</td>\n",
              "      <td>...</td>\n",
              "      <td>9.10</td>\n",
              "      <td>NaN</td>\n",
              "      <td>городской посёлок Янино-1</td>\n",
              "      <td>NaN</td>\n",
              "      <td>NaN</td>\n",
              "      <td>NaN</td>\n",
              "      <td>NaN</td>\n",
              "      <td>NaN</td>\n",
              "      <td>NaN</td>\n",
              "      <td>55.0</td>\n",
              "    </tr>\n",
              "    <tr>\n",
              "      <th>6</th>\n",
              "      <td>6</td>\n",
              "      <td>3700000.0</td>\n",
              "      <td>37.30</td>\n",
              "      <td>2017-11-02T00:00:00</td>\n",
              "      <td>1</td>\n",
              "      <td>NaN</td>\n",
              "      <td>26.0</td>\n",
              "      <td>10.60</td>\n",
              "      <td>6</td>\n",
              "      <td>NaN</td>\n",
              "      <td>...</td>\n",
              "      <td>14.40</td>\n",
              "      <td>1.0</td>\n",
              "      <td>посёлок Парголово</td>\n",
              "      <td>52996.0</td>\n",
              "      <td>19143.0</td>\n",
              "      <td>0.0</td>\n",
              "      <td>NaN</td>\n",
              "      <td>0.0</td>\n",
              "      <td>NaN</td>\n",
              "      <td>155.0</td>\n",
              "    </tr>\n",
              "    <tr>\n",
              "      <th>7</th>\n",
              "      <td>5</td>\n",
              "      <td>7915000.0</td>\n",
              "      <td>71.60</td>\n",
              "      <td>2019-04-18T00:00:00</td>\n",
              "      <td>2</td>\n",
              "      <td>NaN</td>\n",
              "      <td>24.0</td>\n",
              "      <td>NaN</td>\n",
              "      <td>22</td>\n",
              "      <td>NaN</td>\n",
              "      <td>...</td>\n",
              "      <td>18.90</td>\n",
              "      <td>2.0</td>\n",
              "      <td>Санкт-Петербург</td>\n",
              "      <td>23982.0</td>\n",
              "      <td>11634.0</td>\n",
              "      <td>0.0</td>\n",
              "      <td>NaN</td>\n",
              "      <td>0.0</td>\n",
              "      <td>NaN</td>\n",
              "      <td>NaN</td>\n",
              "    </tr>\n",
              "    <tr>\n",
              "      <th>8</th>\n",
              "      <td>20</td>\n",
              "      <td>2900000.0</td>\n",
              "      <td>33.16</td>\n",
              "      <td>2018-05-23T00:00:00</td>\n",
              "      <td>1</td>\n",
              "      <td>NaN</td>\n",
              "      <td>27.0</td>\n",
              "      <td>15.43</td>\n",
              "      <td>26</td>\n",
              "      <td>NaN</td>\n",
              "      <td>...</td>\n",
              "      <td>8.81</td>\n",
              "      <td>NaN</td>\n",
              "      <td>посёлок Мурино</td>\n",
              "      <td>NaN</td>\n",
              "      <td>NaN</td>\n",
              "      <td>NaN</td>\n",
              "      <td>NaN</td>\n",
              "      <td>NaN</td>\n",
              "      <td>NaN</td>\n",
              "      <td>189.0</td>\n",
              "    </tr>\n",
              "    <tr>\n",
              "      <th>9</th>\n",
              "      <td>18</td>\n",
              "      <td>5400000.0</td>\n",
              "      <td>61.00</td>\n",
              "      <td>2017-02-26T00:00:00</td>\n",
              "      <td>3</td>\n",
              "      <td>2.50</td>\n",
              "      <td>9.0</td>\n",
              "      <td>43.60</td>\n",
              "      <td>7</td>\n",
              "      <td>NaN</td>\n",
              "      <td>...</td>\n",
              "      <td>6.50</td>\n",
              "      <td>2.0</td>\n",
              "      <td>Санкт-Петербург</td>\n",
              "      <td>50898.0</td>\n",
              "      <td>15008.0</td>\n",
              "      <td>0.0</td>\n",
              "      <td>NaN</td>\n",
              "      <td>0.0</td>\n",
              "      <td>NaN</td>\n",
              "      <td>289.0</td>\n",
              "    </tr>\n",
              "  </tbody>\n",
              "</table>\n",
              "<p>10 rows × 22 columns</p>\n",
              "</div>"
            ],
            "text/plain": [
              "   total_images  last_price  total_area first_day_exposition  rooms  \\\n",
              "0            20  13000000.0      108.00  2019-03-07T00:00:00      3   \n",
              "1             7   3350000.0       40.40  2018-12-04T00:00:00      1   \n",
              "2            10   5196000.0       56.00  2015-08-20T00:00:00      2   \n",
              "3             0  64900000.0      159.00  2015-07-24T00:00:00      3   \n",
              "4             2  10000000.0      100.00  2018-06-19T00:00:00      2   \n",
              "5            10   2890000.0       30.40  2018-09-10T00:00:00      1   \n",
              "6             6   3700000.0       37.30  2017-11-02T00:00:00      1   \n",
              "7             5   7915000.0       71.60  2019-04-18T00:00:00      2   \n",
              "8            20   2900000.0       33.16  2018-05-23T00:00:00      1   \n",
              "9            18   5400000.0       61.00  2017-02-26T00:00:00      3   \n",
              "\n",
              "   ceiling_height  floors_total  living_area  floor is_apartment  ...  \\\n",
              "0            2.70          16.0        51.00      8          NaN  ...   \n",
              "1             NaN          11.0        18.60      1          NaN  ...   \n",
              "2             NaN           5.0        34.30      4          NaN  ...   \n",
              "3             NaN          14.0          NaN      9          NaN  ...   \n",
              "4            3.03          14.0        32.00     13          NaN  ...   \n",
              "5             NaN          12.0        14.40      5          NaN  ...   \n",
              "6             NaN          26.0        10.60      6          NaN  ...   \n",
              "7             NaN          24.0          NaN     22          NaN  ...   \n",
              "8             NaN          27.0        15.43     26          NaN  ...   \n",
              "9            2.50           9.0        43.60      7          NaN  ...   \n",
              "\n",
              "   kitchen_area  balcony              locality_name  airports_nearest  \\\n",
              "0         25.00      NaN            Санкт-Петербург           18863.0   \n",
              "1         11.00      2.0             посёлок Шушары           12817.0   \n",
              "2          8.30      0.0            Санкт-Петербург           21741.0   \n",
              "3           NaN      0.0            Санкт-Петербург           28098.0   \n",
              "4         41.00      NaN            Санкт-Петербург           31856.0   \n",
              "5          9.10      NaN  городской посёлок Янино-1               NaN   \n",
              "6         14.40      1.0          посёлок Парголово           52996.0   \n",
              "7         18.90      2.0            Санкт-Петербург           23982.0   \n",
              "8          8.81      NaN             посёлок Мурино               NaN   \n",
              "9          6.50      2.0            Санкт-Петербург           50898.0   \n",
              "\n",
              "  cityCenters_nearest  parks_around3000  parks_nearest  ponds_around3000  \\\n",
              "0             16028.0               1.0          482.0               2.0   \n",
              "1             18603.0               0.0            NaN               0.0   \n",
              "2             13933.0               1.0           90.0               2.0   \n",
              "3              6800.0               2.0           84.0               3.0   \n",
              "4              8098.0               2.0          112.0               1.0   \n",
              "5                 NaN               NaN            NaN               NaN   \n",
              "6             19143.0               0.0            NaN               0.0   \n",
              "7             11634.0               0.0            NaN               0.0   \n",
              "8                 NaN               NaN            NaN               NaN   \n",
              "9             15008.0               0.0            NaN               0.0   \n",
              "\n",
              "   ponds_nearest  days_exposition  \n",
              "0          755.0              NaN  \n",
              "1            NaN             81.0  \n",
              "2          574.0            558.0  \n",
              "3          234.0            424.0  \n",
              "4           48.0            121.0  \n",
              "5            NaN             55.0  \n",
              "6            NaN            155.0  \n",
              "7            NaN              NaN  \n",
              "8            NaN            189.0  \n",
              "9            NaN            289.0  \n",
              "\n",
              "[10 rows x 22 columns]"
            ]
          },
          "metadata": {},
          "output_type": "display_data"
        },
        {
          "data": {
            "image/png": "[encoded data removed]",
            "text/plain": [
              "<Figure size 1080x1440 with 20 Axes>"
            ]
          },
          "metadata": {
            "needs_background": "light"
          },
          "output_type": "display_data"
        }
      ],
      "source": [
        "import pandas as pd\n",
        "import math\n",
        "import re\n",
        "import matplotlib\n",
        "import matplotlib.pyplot as plt\n",
        "import warnings #вызываем библиоткеку\n",
        "warnings.filterwarnings('ignore') #отключаем предупреждения\n",
        "data = pd.read_csv('/datasets/real_estate_data.csv', sep = '\\t') # открываем файл\n",
        "data.info() #  получаем информацию о файле\n",
        "display(data.head(10)) # выводим первые 10 строк data\n",
        "data.hist(figsize=(15, 20)); # строим гистограммы по data"
      ]
    },
    {
      "cell_type": "markdown",
      "metadata": {
        "id": "-8X-hBp-hEYt"
      },
      "source": [
        "## 2.Предобработка данных"
      ]
    },
    {
      "cell_type": "code",
      "execution_count": null,
      "metadata": {
        "scrolled": false,
        "id": "0ysDOSWThEYu",
        "outputId": "90ad1ee2-31c8-4222-c2dd-a9d0f07ac1bd"
      },
      "outputs": [
        {
          "name": "stdout",
          "output_type": "stream",
          "text": [
            "total_images                0\n",
            "last_price                  0\n",
            "total_area                  0\n",
            "first_day_exposition        0\n",
            "rooms                       0\n",
            "ceiling_height           9195\n",
            "floors_total               86\n",
            "living_area              1903\n",
            "floor                       0\n",
            "is_apartment            20924\n",
            "studio                      0\n",
            "open_plan                   0\n",
            "kitchen_area             2278\n",
            "balcony                 11519\n",
            "locality_name              49\n",
            "airports_nearest         5542\n",
            "cityCenters_nearest      5519\n",
            "parks_around3000         5518\n",
            "parks_nearest           15620\n",
            "ponds_around3000         5518\n",
            "ponds_nearest           14589\n",
            "days_exposition          3181\n",
            "dtype: int64\n"
          ]
        },
        {
          "data": {
            "text/html": [
              "<style  type=\"text/css\" >\n",
              "#T_eaa6b_row0_col0,#T_eaa6b_row1_col0,#T_eaa6b_row2_col0,#T_eaa6b_row3_col0,#T_eaa6b_row4_col0,#T_eaa6b_row6_col0,#T_eaa6b_row8_col0,#T_eaa6b_row10_col0,#T_eaa6b_row11_col0,#T_eaa6b_row14_col0{\n",
              "            background-color:  #3b4cc0;\n",
              "            color:  #f1f1f1;\n",
              "        }#T_eaa6b_row5_col0{\n",
              "            background-color:  #cdd9ec;\n",
              "            color:  #000000;\n",
              "        }#T_eaa6b_row7_col0{\n",
              "            background-color:  #5673e0;\n",
              "            color:  #000000;\n",
              "        }#T_eaa6b_row9_col0{\n",
              "            background-color:  #b40426;\n",
              "            color:  #f1f1f1;\n",
              "        }#T_eaa6b_row12_col0{\n",
              "            background-color:  #5e7de7;\n",
              "            color:  #000000;\n",
              "        }#T_eaa6b_row13_col0{\n",
              "            background-color:  #ead4c8;\n",
              "            color:  #000000;\n",
              "        }#T_eaa6b_row15_col0,#T_eaa6b_row16_col0,#T_eaa6b_row17_col0,#T_eaa6b_row19_col0{\n",
              "            background-color:  #90b2fe;\n",
              "            color:  #000000;\n",
              "        }#T_eaa6b_row18_col0{\n",
              "            background-color:  #f4987a;\n",
              "            color:  #000000;\n",
              "        }#T_eaa6b_row20_col0{\n",
              "            background-color:  #f7aa8c;\n",
              "            color:  #000000;\n",
              "        }#T_eaa6b_row21_col0{\n",
              "            background-color:  #688aef;\n",
              "            color:  #000000;\n",
              "        }</style><table id=\"T_eaa6b_\" ><thead>    <tr>        <th class=\"blank level0\" ></th>        <th class=\"col_heading level0 col0\" >0</th>    </tr></thead><tbody>\n",
              "                <tr>\n",
              "                        <th id=\"T_eaa6b_level0_row0\" class=\"row_heading level0 row0\" >total_images</th>\n",
              "                        <td id=\"T_eaa6b_row0_col0\" class=\"data row0 col0\" >0.000000</td>\n",
              "            </tr>\n",
              "            <tr>\n",
              "                        <th id=\"T_eaa6b_level0_row1\" class=\"row_heading level0 row1\" >last_price</th>\n",
              "                        <td id=\"T_eaa6b_row1_col0\" class=\"data row1 col0\" >0.000000</td>\n",
              "            </tr>\n",
              "            <tr>\n",
              "                        <th id=\"T_eaa6b_level0_row2\" class=\"row_heading level0 row2\" >total_area</th>\n",
              "                        <td id=\"T_eaa6b_row2_col0\" class=\"data row2 col0\" >0.000000</td>\n",
              "            </tr>\n",
              "            <tr>\n",
              "                        <th id=\"T_eaa6b_level0_row3\" class=\"row_heading level0 row3\" >first_day_exposition</th>\n",
              "                        <td id=\"T_eaa6b_row3_col0\" class=\"data row3 col0\" >0.000000</td>\n",
              "            </tr>\n",
              "            <tr>\n",
              "                        <th id=\"T_eaa6b_level0_row4\" class=\"row_heading level0 row4\" >rooms</th>\n",
              "                        <td id=\"T_eaa6b_row4_col0\" class=\"data row4 col0\" >0.000000</td>\n",
              "            </tr>\n",
              "            <tr>\n",
              "                        <th id=\"T_eaa6b_level0_row5\" class=\"row_heading level0 row5\" >ceiling_height</th>\n",
              "                        <td id=\"T_eaa6b_row5_col0\" class=\"data row5 col0\" >39.000000</td>\n",
              "            </tr>\n",
              "            <tr>\n",
              "                        <th id=\"T_eaa6b_level0_row6\" class=\"row_heading level0 row6\" >floors_total</th>\n",
              "                        <td id=\"T_eaa6b_row6_col0\" class=\"data row6 col0\" >0.000000</td>\n",
              "            </tr>\n",
              "            <tr>\n",
              "                        <th id=\"T_eaa6b_level0_row7\" class=\"row_heading level0 row7\" >living_area</th>\n",
              "                        <td id=\"T_eaa6b_row7_col0\" class=\"data row7 col0\" >8.000000</td>\n",
              "            </tr>\n",
              "            <tr>\n",
              "                        <th id=\"T_eaa6b_level0_row8\" class=\"row_heading level0 row8\" >floor</th>\n",
              "                        <td id=\"T_eaa6b_row8_col0\" class=\"data row8 col0\" >0.000000</td>\n",
              "            </tr>\n",
              "            <tr>\n",
              "                        <th id=\"T_eaa6b_level0_row9\" class=\"row_heading level0 row9\" >is_apartment</th>\n",
              "                        <td id=\"T_eaa6b_row9_col0\" class=\"data row9 col0\" >88.000000</td>\n",
              "            </tr>\n",
              "            <tr>\n",
              "                        <th id=\"T_eaa6b_level0_row10\" class=\"row_heading level0 row10\" >studio</th>\n",
              "                        <td id=\"T_eaa6b_row10_col0\" class=\"data row10 col0\" >0.000000</td>\n",
              "            </tr>\n",
              "            <tr>\n",
              "                        <th id=\"T_eaa6b_level0_row11\" class=\"row_heading level0 row11\" >open_plan</th>\n",
              "                        <td id=\"T_eaa6b_row11_col0\" class=\"data row11 col0\" >0.000000</td>\n",
              "            </tr>\n",
              "            <tr>\n",
              "                        <th id=\"T_eaa6b_level0_row12\" class=\"row_heading level0 row12\" >kitchen_area</th>\n",
              "                        <td id=\"T_eaa6b_row12_col0\" class=\"data row12 col0\" >10.000000</td>\n",
              "            </tr>\n",
              "            <tr>\n",
              "                        <th id=\"T_eaa6b_level0_row13\" class=\"row_heading level0 row13\" >balcony</th>\n",
              "                        <td id=\"T_eaa6b_row13_col0\" class=\"data row13 col0\" >49.000000</td>\n",
              "            </tr>\n",
              "            <tr>\n",
              "                        <th id=\"T_eaa6b_level0_row14\" class=\"row_heading level0 row14\" >locality_name</th>\n",
              "                        <td id=\"T_eaa6b_row14_col0\" class=\"data row14 col0\" >0.000000</td>\n",
              "            </tr>\n",
              "            <tr>\n",
              "                        <th id=\"T_eaa6b_level0_row15\" class=\"row_heading level0 row15\" >airports_nearest</th>\n",
              "                        <td id=\"T_eaa6b_row15_col0\" class=\"data row15 col0\" >23.000000</td>\n",
              "            </tr>\n",
              "            <tr>\n",
              "                        <th id=\"T_eaa6b_level0_row16\" class=\"row_heading level0 row16\" >cityCenters_nearest</th>\n",
              "                        <td id=\"T_eaa6b_row16_col0\" class=\"data row16 col0\" >23.000000</td>\n",
              "            </tr>\n",
              "            <tr>\n",
              "                        <th id=\"T_eaa6b_level0_row17\" class=\"row_heading level0 row17\" >parks_around3000</th>\n",
              "                        <td id=\"T_eaa6b_row17_col0\" class=\"data row17 col0\" >23.000000</td>\n",
              "            </tr>\n",
              "            <tr>\n",
              "                        <th id=\"T_eaa6b_level0_row18\" class=\"row_heading level0 row18\" >parks_nearest</th>\n",
              "                        <td id=\"T_eaa6b_row18_col0\" class=\"data row18 col0\" >66.000000</td>\n",
              "            </tr>\n",
              "            <tr>\n",
              "                        <th id=\"T_eaa6b_level0_row19\" class=\"row_heading level0 row19\" >ponds_around3000</th>\n",
              "                        <td id=\"T_eaa6b_row19_col0\" class=\"data row19 col0\" >23.000000</td>\n",
              "            </tr>\n",
              "            <tr>\n",
              "                        <th id=\"T_eaa6b_level0_row20\" class=\"row_heading level0 row20\" >ponds_nearest</th>\n",
              "                        <td id=\"T_eaa6b_row20_col0\" class=\"data row20 col0\" >62.000000</td>\n",
              "            </tr>\n",
              "            <tr>\n",
              "                        <th id=\"T_eaa6b_level0_row21\" class=\"row_heading level0 row21\" >days_exposition</th>\n",
              "                        <td id=\"T_eaa6b_row21_col0\" class=\"data row21 col0\" >13.000000</td>\n",
              "            </tr>\n",
              "    </tbody></table>"
            ],
            "text/plain": [
              "<pandas.io.formats.style.Styler at 0x7f3f153adc10>"
            ]
          },
          "execution_count": 4,
          "metadata": {},
          "output_type": "execute_result"
        }
      ],
      "source": [
        "print(data.isna().sum()) # ищем пропущенные значения\n",
        "pd.DataFrame(round(data.isna().mean()*100,)).style.background_gradient('coolwarm') # выводим % пропусков"
      ]
    },
    {
      "cell_type": "markdown",
      "metadata": {
        "id": "BNUKuz5lhEYv"
      },
      "source": [
        "**Видим следующие пропуски в данных по столбцам, вероятные причины:**  \n",
        "ceiling_height - продавца не считает обязательной информацию по высоте потолков  \n",
        "floors_total - продавец не указал информацию  \n",
        "living_area - самый значимый параметр при размещении, очевидно ошибка при выгрузке  \n",
        "is_apartment - булевое значение, соответственно Nan = 0  \n",
        "kitchen_area - площадь кухни не указана, возможно это студия  \n",
        "balcony - в квартире балкона нет  \n",
        "locality_name - ошибка при выгрузке, без указания населеннного пункта невожможно разместить объявление  \n",
        "airports_nearest - расстояние до аэропорта значительное  \n",
        "cityCenters_nearest - расстояние до центра значительное  \n",
        "parks_around3000 - в радиусе 3 км нет парков  \n",
        "parks_nearest - парк находится на значительном расстоянии  \n",
        "ponds_around3000 - в радиусе 3 км нет водоемов  \n",
        "ponds_nearest - водоем находится на значительном расстоянии  \n",
        "days_exposition - объявление еще не снято с ресурса "
      ]
    },
    {
      "cell_type": "code",
      "execution_count": null,
      "metadata": {
        "scrolled": true,
        "id": "BiZ64x__hEYv",
        "outputId": "95beadfa-1053-401c-c778-21d30ef9696a"
      },
      "outputs": [
        {
          "data": {
            "text/plain": [
              "total_images                0\n",
              "last_price                  0\n",
              "total_area                  0\n",
              "first_day_exposition        0\n",
              "rooms                       0\n",
              "ceiling_height              0\n",
              "floors_total               85\n",
              "living_area              1898\n",
              "floor                       0\n",
              "is_apartment                0\n",
              "studio                      0\n",
              "open_plan                   0\n",
              "kitchen_area             2269\n",
              "balcony                     0\n",
              "locality_name               0\n",
              "airports_nearest         5534\n",
              "city_centers_nearest     5386\n",
              "parks_around3000            0\n",
              "parks_nearest           15586\n",
              "ponds_around3000            0\n",
              "ponds_nearest           14565\n",
              "days_exposition          3180\n",
              "dtype: int64"
            ]
          },
          "execution_count": 5,
          "metadata": {},
          "output_type": "execute_result"
        }
      ],
      "source": [
        "# работаем с данными:\n",
        "data = data.rename(columns={'cityCenters_nearest':'city_centers_nearest'}) # приводим к единому стилю названия столбцов\n",
        "# заполняем пропущенные значения, где это явно можно сделать:\n",
        "data['is_apartment'] = data['is_apartment'].fillna(0) # булевое значение Nan = 0\n",
        "data['balcony'] = data['balcony'].fillna(0) # балконы не указаны = 0\n",
        "data['parks_around3000'] = data['parks_around3000'].fillna(0) # парки в пределах 3 км отсутствуют = 0\n",
        "data['ponds_around3000'] = data['ponds_around3000'].fillna(0) # водоемы в пределах 3 км отсутствуют = 0\n",
        "data = data.dropna(subset=['locality_name']) # удаляем пропущенные населенные пункты\n",
        "# заполняем высоту потолков по району:\n",
        "for locality_name in data['locality_name'].unique():\n",
        "    median = data.loc[data['locality_name'] == locality_name, 'ceiling_height'].median()\n",
        "    data.loc[(data['ceiling_height'].isna()) & (data['locality_name'] == locality_name), 'ceiling_height'] = median\n",
        "data.loc[data['ceiling_height'].isna(), 'ceiling_height'] = data['ceiling_height'].median()\n",
        "# заполняем пропущенные расстояния до центра в зависимости от населенного пункта\n",
        "for locality_name in data['locality_name'].unique():\n",
        "    median = data.loc[data['locality_name'] == locality_name, 'city_centers_nearest'].median()\n",
        "    data.loc[(data['city_centers_nearest'].isna()) & (data['locality_name'] == locality_name), 'city_centers_nearest'] = median\n",
        "data.isna().sum() # проверяем результат замен"
      ]
    },
    {
      "cell_type": "code",
      "execution_count": null,
      "metadata": {
        "scrolled": false,
        "id": "C5c6kj7ShEYx",
        "outputId": "1761ae8b-9346-41be-b10d-a0ba2a61335e"
      },
      "outputs": [
        {
          "name": "stdout",
          "output_type": "stream",
          "text": [
            "<class 'pandas.core.frame.DataFrame'>\n",
            "Int64Index: 23650 entries, 0 to 23698\n",
            "Data columns (total 22 columns):\n",
            " #   Column                Non-Null Count  Dtype  \n",
            "---  ------                --------------  -----  \n",
            " 0   total_images          23650 non-null  int64  \n",
            " 1   last_price            23650 non-null  float64\n",
            " 2   total_area            23650 non-null  float64\n",
            " 3   first_day_exposition  23650 non-null  object \n",
            " 4   rooms                 23650 non-null  int64  \n",
            " 5   ceiling_height        23650 non-null  float64\n",
            " 6   floors_total          23565 non-null  float64\n",
            " 7   living_area           21752 non-null  float64\n",
            " 8   floor                 23650 non-null  int64  \n",
            " 9   is_apartment          23650 non-null  object \n",
            " 10  studio                23650 non-null  bool   \n",
            " 11  open_plan             23650 non-null  bool   \n",
            " 12  kitchen_area          21381 non-null  float64\n",
            " 13  balcony               23650 non-null  float64\n",
            " 14  locality_name         23650 non-null  object \n",
            " 15  airports_nearest      18116 non-null  float64\n",
            " 16  city_centers_nearest  18264 non-null  float64\n",
            " 17  parks_around3000      23650 non-null  float64\n",
            " 18  parks_nearest         8064 non-null   float64\n",
            " 19  ponds_around3000      23650 non-null  float64\n",
            " 20  ponds_nearest         9085 non-null   float64\n",
            " 21  days_exposition       20470 non-null  float64\n",
            "dtypes: bool(2), float64(14), int64(3), object(3)\n",
            "memory usage: 3.8+ MB\n"
          ]
        }
      ],
      "source": [
        "data.info() # проверяем типы данных"
      ]
    },
    {
      "cell_type": "markdown",
      "metadata": {
        "id": "eXspoaSjhEYx"
      },
      "source": [
        "**Видим следующие типы данных:**  \n",
        "0   total_images - int64 - целые числа, для количества корректно  \n",
        "1   last_price - float64 - дробные числа, в принципе корректно, но для удобства можно преобразовать в int \n",
        "2   total_area - float64 - дробные числа, для общей площади корректно  \n",
        "3   first_day_exposition - object - для даты и времени должен быть datatime, **некорректно**  \n",
        "4   rooms - int64 - целые числа, для количества комнат корректно  \n",
        "5   ceiling_height - float64 - дробные числа, для высоты потолков корректно  \n",
        "6   floors_total - float64 - дробные числа, количество этажей может быть только целым числом **некорректно**, корректно - int  \n",
        "7   living_area - float64 - дробные числа, для площади корректно  \n",
        "8   floor - int64 - целые числа, для номера этажа корректно  \n",
        "9   is_apartment - object - должен принимать значения True или False, верный bool, **некорректно**  \n",
        "10  studio - bool - булев тип, корректно  \n",
        "11  open_plan - ool - булев тип, корректно  \n",
        "12  kitchen_area - float64 - дробные числа, корректно  \n",
        "13  balcony - float64 - дробные числа, количество балконов может быть только целым числом, **некорректно**, корректно - int  \n",
        "14  locality_name - object - **некорректно**, для строк должен быть тип str  \n",
        "15  airports_nearest - float64 - дробные числа, корректно, но такая точность ни к чему  \n",
        "16  cityCenters_nearest - float64 - дробные числа, корректно, но такая точность ни к чему  \n",
        "17  parks_around3000 - float64 - дробные числа, количество парков может быть только целым числом, **некорректно**, корректно - int  \n",
        "18  parks_nearest - float64 - дробные числа, корректно, но такая точность ни к чему  \n",
        "19  ponds_around3000 - float64 - дробные числа, количество прудов может быть только целым числом, **некорректно**, корректно - int  \n",
        "20  ponds_nearest - float64 - дробные числа, корректно, но такая точность ни к чему  \n",
        "21  days_exposition - float64 - дробные числа, количество дней может быть только целым числом, **некорректно**, корректно - int"
      ]
    },
    {
      "cell_type": "code",
      "execution_count": null,
      "metadata": {
        "scrolled": true,
        "id": "RP5T9wNvhEYx"
      },
      "outputs": [],
      "source": [
        "# преобразование типов данных\n",
        "data['is_apartment'] = data['is_apartment'].astype(int) # преобразуем в целое\n",
        "data['balcony'] = data['balcony'].astype(int) # преобразуем в целое\n",
        "data['parks_around3000'] = data['parks_around3000'].astype(int) # преобразуем в целое\n",
        "data['ponds_around3000'] = data['ponds_around3000'].astype(int) # преобразуем в целое\n",
        "data['last_price'] = data['last_price'].astype(int) # преобразуем в целое * добавил строчку\n",
        "data['locality_name'] = data['locality_name'].astype(str) # преобразуем в строку"
      ]
    },
    {
      "cell_type": "code",
      "execution_count": null,
      "metadata": {
        "scrolled": true,
        "id": "ASOXNCp6hEYz",
        "outputId": "716dc9a3-1beb-4f50-88c3-3ec170ffca03"
      },
      "outputs": [
        {
          "name": "stdout",
          "output_type": "stream",
          "text": [
            "['Санкт-Петербург' 'посёлок Шушары' 'городской посёлок Янино-1'\n",
            " 'посёлок Парголово' 'посёлок Мурино' 'Ломоносов' 'Сертолово' 'Петергоф'\n",
            " 'Пушкин' 'деревня Кудрово' 'Коммунар' 'Колпино'\n",
            " 'поселок городского типа Красный Бор' 'Гатчина' 'поселок Мурино'\n",
            " 'деревня Фёдоровское' 'Выборг' 'Кронштадт' 'Кировск'\n",
            " 'деревня Новое Девяткино' 'посёлок Металлострой'\n",
            " 'посёлок городского типа Лебяжье' 'посёлок городского типа Сиверский'\n",
            " 'поселок Молодцово' 'поселок городского типа Кузьмоловский'\n",
            " 'садовое товарищество Новая Ропша' 'Павловск' 'деревня Пикколово'\n",
            " 'Всеволожск' 'Волхов' 'Кингисепп' 'Приозерск' 'Сестрорецк'\n",
            " 'деревня Куттузи' 'посёлок Аннино' 'поселок городского типа Ефимовский'\n",
            " 'посёлок Плодовое' 'деревня Заклинье' 'поселок Торковичи'\n",
            " 'поселок Первомайское' 'Красное Село' 'посёлок Понтонный' 'Сясьстрой'\n",
            " 'деревня Старая' 'деревня Лесколово' 'посёлок Новый Свет' 'Сланцы'\n",
            " 'село Путилово' 'Ивангород' 'Мурино' 'Шлиссельбург' 'Никольское'\n",
            " 'Зеленогорск' 'Сосновый Бор' 'поселок Новый Свет' 'деревня Оржицы'\n",
            " 'деревня Кальтино' 'Кудрово' 'поселок Романовка' 'посёлок Бугры'\n",
            " 'поселок Бугры' 'поселок городского типа Рощино' 'Кириши' 'Луга'\n",
            " 'Волосово' 'Отрадное' 'село Павлово' 'поселок Оредеж' 'село Копорье'\n",
            " 'посёлок городского типа Красный Бор' 'посёлок Молодёжное' 'Тихвин'\n",
            " 'посёлок Победа' 'деревня Нурма' 'поселок городского типа Синявино'\n",
            " 'Тосно' 'посёлок городского типа Кузьмоловский' 'посёлок Стрельна'\n",
            " 'Бокситогорск' 'посёлок Александровская' 'деревня Лопухинка' 'Пикалёво'\n",
            " 'поселок Терволово' 'поселок городского типа Советский' 'Подпорожье'\n",
            " 'посёлок Петровское' 'посёлок городского типа Токсово' 'поселок Сельцо'\n",
            " 'посёлок городского типа Вырица' 'деревня Кипень' 'деревня Келози'\n",
            " 'деревня Вартемяги' 'посёлок Тельмана' 'поселок Севастьяново'\n",
            " 'городской поселок Большая Ижора' 'городской посёлок Павлово'\n",
            " 'деревня Агалатово' 'посёлок Новогорелово'\n",
            " 'городской посёлок Лесогорский' 'деревня Лаголово' 'поселок Цвелодубово'\n",
            " 'поселок городского типа Рахья' 'поселок городского типа Вырица'\n",
            " 'деревня Белогорка' 'поселок Заводской' 'городской посёлок Новоселье'\n",
            " 'деревня Большие Колпаны' 'деревня Горбунки' 'деревня Батово'\n",
            " 'деревня Заневка' 'деревня Иссад' 'Приморск'\n",
            " 'городской посёлок Фёдоровское' 'деревня Мистолово' 'Новая Ладога'\n",
            " 'поселок Зимитицы' 'поселок Барышево' 'деревня Разметелево'\n",
            " 'поселок городского типа имени Свердлова' 'деревня Пеники'\n",
            " 'поселок Рябово' 'деревня Пудомяги' 'поселок станции Корнево'\n",
            " 'деревня Низино' 'деревня Бегуницы' 'посёлок Поляны'\n",
            " 'городской посёлок Мга' 'поселок Елизаветино'\n",
            " 'посёлок городского типа Кузнечное' 'деревня Колтуши'\n",
            " 'поселок Запорожское' 'посёлок городского типа Рощино'\n",
            " 'деревня Гостилицы' 'деревня Малое Карлино' 'посёлок Мичуринское'\n",
            " 'посёлок городского типа имени Морозова' 'посёлок Песочный'\n",
            " 'посёлок Сосново' 'деревня Аро' 'поселок Ильичёво'\n",
            " 'посёлок городского типа Тайцы' 'деревня Малое Верево' 'деревня Извара'\n",
            " 'поселок станции Вещево' 'село Паша' 'деревня Калитино'\n",
            " 'посёлок городского типа Ульяновка' 'деревня Чудской Бор'\n",
            " 'поселок городского типа Дубровка' 'деревня Мины' 'поселок Войсковицы'\n",
            " 'посёлок городского типа имени Свердлова' 'деревня Коркино'\n",
            " 'посёлок Ропша' 'поселок городского типа Приладожский' 'посёлок Щеглово'\n",
            " 'посёлок Гаврилово' 'Лодейное Поле' 'деревня Рабитицы'\n",
            " 'поселок городского типа Никольский' 'деревня Кузьмолово'\n",
            " 'деревня Малые Колпаны' 'поселок Тельмана' 'посёлок Петро-Славянка'\n",
            " 'городской посёлок Назия' 'посёлок Репино' 'посёлок Ильичёво'\n",
            " 'поселок Углово' 'поселок Старая Малукса' 'садовое товарищество Рахья'\n",
            " 'поселок Аннино' 'поселок Победа' 'деревня Меньково'\n",
            " 'деревня Старые Бегуницы' 'посёлок Сапёрный' 'поселок Семрино'\n",
            " 'поселок Гаврилово' 'поселок Глажево' 'поселок Кобринское'\n",
            " 'деревня Гарболово' 'деревня Юкки' 'поселок станции Приветнинское'\n",
            " 'деревня Мануйлово' 'деревня Пчева' 'поселок Поляны' 'поселок Цвылёво'\n",
            " 'поселок Мельниково' 'посёлок Пудость' 'посёлок Усть-Луга' 'Светогорск'\n",
            " 'Любань' 'поселок Селезнёво' 'поселок городского типа Рябово'\n",
            " 'Каменногорск' 'деревня Кривко' 'поселок Глебычево' 'деревня Парицы'\n",
            " 'поселок Жилпосёлок' 'посёлок городского типа Мга'\n",
            " 'городской поселок Янино-1' 'посёлок Войскорово' 'село Никольское'\n",
            " 'посёлок Терволово' 'поселок Стеклянный' 'посёлок городского типа Важины'\n",
            " 'посёлок Мыза-Ивановка' 'село Русско-Высоцкое'\n",
            " 'поселок городского типа Лебяжье' 'поселок городского типа Форносово'\n",
            " 'село Старая Ладога' 'поселок Житково' 'городской посёлок Виллози'\n",
            " 'деревня Лампово' 'деревня Шпаньково' 'деревня Лаврики' 'посёлок Сумино'\n",
            " 'посёлок Возрождение' 'деревня Старосиверская' 'посёлок Кикерино'\n",
            " 'поселок Возрождение' 'деревня Старое Хинколово' 'посёлок Пригородный'\n",
            " 'посёлок Торфяное' 'городской посёлок Будогощь' 'поселок Суходолье'\n",
            " 'поселок Красная Долина' 'деревня Хапо-Ое'\n",
            " 'поселок городского типа Дружная Горка' 'поселок Лисий Нос'\n",
            " 'деревня Яльгелево' 'посёлок Стеклянный' 'село Рождествено'\n",
            " 'деревня Старополье' 'посёлок Левашово' 'деревня Сяськелево'\n",
            " 'деревня Камышовка'\n",
            " 'садоводческое некоммерческое товарищество Лесная Поляна'\n",
            " 'деревня Хязельки' 'поселок Жилгородок' 'посёлок городского типа Павлово'\n",
            " 'деревня Ялгино' 'поселок Новый Учхоз' 'городской посёлок Рощино'\n",
            " 'поселок Гончарово' 'поселок Почап' 'посёлок Сапёрное'\n",
            " 'посёлок Платформа 69-й километр' 'поселок Каложицы' 'деревня Фалилеево'\n",
            " 'деревня Пельгора' 'поселок городского типа Лесогорский'\n",
            " 'деревня Торошковичи' 'посёлок Белоостров' 'посёлок Алексеевка'\n",
            " 'поселок Серебрянский' 'поселок Лукаши' 'поселок Петровское'\n",
            " 'деревня Щеглово' 'поселок Мичуринское' 'деревня Тарасово'\n",
            " 'поселок Кингисеппский' 'посёлок при железнодорожной станции Вещево'\n",
            " 'поселок Ушаки' 'деревня Котлы' 'деревня Сижно' 'деревня Торосово'\n",
            " 'посёлок Форт Красная Горка' 'поселок городского типа Токсово'\n",
            " 'деревня Новолисино' 'посёлок станции Громово' 'деревня Глинка'\n",
            " 'посёлок Мельниково' 'поселок городского типа Назия'\n",
            " 'деревня Старая Пустошь' 'поселок Коммунары' 'поселок Починок'\n",
            " 'посёлок городского типа Вознесенье' 'деревня Разбегаево'\n",
            " 'посёлок городского типа Рябово' 'поселок Гладкое'\n",
            " 'посёлок при железнодорожной станции Приветнинское' 'поселок Тёсово-4'\n",
            " 'посёлок Жилгородок' 'деревня Бор' 'посёлок Коробицыно'\n",
            " 'деревня Большая Вруда' 'деревня Курковицы' 'посёлок Лисий Нос'\n",
            " 'городской посёлок Советский' 'посёлок Кобралово' 'деревня Суоранда'\n",
            " 'поселок Кобралово' 'поселок городского типа Кондратьево'\n",
            " 'коттеджный поселок Счастье' 'поселок Любань' 'деревня Реброво'\n",
            " 'деревня Зимитицы' 'деревня Тойворово' 'поселок Семиозерье'\n",
            " 'поселок Лесное' 'поселок Совхозный' 'поселок Усть-Луга'\n",
            " 'посёлок Ленинское' 'посёлок Суйда' 'посёлок городского типа Форносово'\n",
            " 'деревня Нижние Осельки' 'посёлок станции Свирь' 'поселок Перово'\n",
            " 'Высоцк' 'поселок Гарболово' 'село Шум' 'поселок Котельский'\n",
            " 'поселок станции Лужайка' 'деревня Большая Пустомержа'\n",
            " 'поселок Красносельское' 'деревня Вахнова Кара' 'деревня Пижма'\n",
            " 'коттеджный поселок Кивеннапа Север' 'поселок Коробицыно'\n",
            " 'поселок Ромашки' 'посёлок Перово' 'деревня Каськово' 'деревня Куровицы'\n",
            " 'посёлок Плоское' 'поселок Сумино'\n",
            " 'поселок городского типа Большая Ижора' 'поселок Кирпичное'\n",
            " 'деревня Ям-Тесово' 'деревня Раздолье' 'деревня Терпилицы'\n",
            " 'посёлок Шугозеро' 'деревня Ваганово' 'поселок Пушное'\n",
            " 'садовое товарищество Садко' 'посёлок Усть-Ижора' 'деревня Выскатка'\n",
            " 'городской посёлок Свирьстрой' 'поселок Громово' 'деревня Кисельня'\n",
            " 'посёлок Старая Малукса' 'деревня Трубников Бор' 'поселок Калитино'\n",
            " 'посёлок Высокоключевой' 'садовое товарищество Приладожский'\n",
            " 'посёлок Пансионат Зелёный Бор' 'деревня Ненимяки'\n",
            " 'поселок Пансионат Зелёный Бор' 'деревня Снегирёвка' 'деревня Рапполово'\n",
            " 'деревня Пустынка' 'поселок Рабитицы' 'деревня Большой Сабск'\n",
            " 'деревня Русско' 'деревня Лупполово' 'деревня Большое Рейзино'\n",
            " 'деревня Малая Романовка' 'поселок Дружноселье' 'поселок Пчевжа'\n",
            " 'поселок Володарское' 'деревня Нижняя' 'коттеджный посёлок Лесное'\n",
            " 'деревня Тихковицы' 'деревня Борисова Грива' 'посёлок Дзержинского']\n"
          ]
        }
      ],
      "source": [
        "print(data['locality_name'].unique()) # смотрим на уникальные значения по столбцу locality_name"
      ]
    },
    {
      "cell_type": "code",
      "execution_count": null,
      "metadata": {
        "id": "gMRNlMyxhEYz"
      },
      "outputs": [],
      "source": [
        "data['locality_name'] = data['locality_name'].str.replace('ё', 'е') # заменяем ё на е"
      ]
    },
    {
      "cell_type": "code",
      "execution_count": null,
      "metadata": {
        "id": "7yhFUKHVhEY0"
      },
      "outputs": [],
      "source": [
        "# убираем аномалию из столбца locality_name\n",
        "data['locality_name_short'] = data['locality_name'].str.replace('поселок', '').str.replace('городского типа', '').str.replace('деревня', '').str.replace('садовое товарищество', '').str.replace('городской', '').str.replace('село', '').str.strip()"
      ]
    },
    {
      "cell_type": "code",
      "execution_count": null,
      "metadata": {
        "id": "gq0jKiDZhEY0",
        "outputId": "7eb14e8e-d52a-44fd-9ac3-f4aa9c40e5aa"
      },
      "outputs": [
        {
          "name": "stdout",
          "output_type": "stream",
          "text": [
            "       total_images    last_price    total_area         rooms  ceiling_height  \\\n",
            "count  23650.000000  2.365000e+04  23650.000000  23650.000000    23650.000000   \n",
            "mean       9.862326  6.541127e+06     60.329069      2.070106        2.733775   \n",
            "std        5.682278  1.089640e+07     35.661808      1.078620        1.010372   \n",
            "min        0.000000  1.219000e+04     12.000000      0.000000        1.000000   \n",
            "25%        6.000000  3.400000e+06     40.000000      1.000000        2.550000   \n",
            "50%        9.000000  4.650000e+06     52.000000      2.000000        2.700000   \n",
            "75%       14.000000  6.799000e+06     69.700000      3.000000        2.700000   \n",
            "max       50.000000  7.630000e+08    900.000000     19.000000      100.000000   \n",
            "\n",
            "       floors_total   living_area         floor  is_apartment  kitchen_area  \\\n",
            "count  23565.000000  21752.000000  23650.000000  23650.000000  21381.000000   \n",
            "mean      10.675875     34.448356      5.893277      0.002114     10.566403   \n",
            "std        6.594823     22.037664      4.883317      0.045932      5.901753   \n",
            "min        1.000000      2.000000      1.000000      0.000000      1.300000   \n",
            "25%        5.000000     18.600000      2.000000      0.000000      7.000000   \n",
            "50%        9.000000     30.000000      4.000000      0.000000      9.100000   \n",
            "75%       16.000000     42.300000      8.000000      0.000000     12.000000   \n",
            "max       60.000000    409.700000     33.000000      1.000000    112.000000   \n",
            "\n",
            "            balcony  airports_nearest  city_centers_nearest  parks_around3000  \\\n",
            "count  23650.000000      18116.000000          18264.000000      23650.000000   \n",
            "mean       0.591712      28803.225878          14238.311761          0.469091   \n",
            "std        0.959662      12637.314144           8624.455713          0.748458   \n",
            "min        0.000000          0.000000            181.000000          0.000000   \n",
            "25%        0.000000      18575.750000           9289.000000          0.000000   \n",
            "50%        0.000000      26756.500000          13107.000000          0.000000   \n",
            "75%        1.000000      37294.000000          16318.250000          1.000000   \n",
            "max        5.000000      84869.000000          65968.000000          3.000000   \n",
            "\n",
            "       parks_nearest  ponds_around3000  ponds_nearest  days_exposition  \n",
            "count    8064.000000      23650.000000    9085.000000     20470.000000  \n",
            "mean      490.830729          0.590359     518.059879       180.753200  \n",
            "std       342.554386          0.883539     277.841733       219.777916  \n",
            "min         1.000000          0.000000      13.000000         1.000000  \n",
            "25%       288.000000          0.000000     293.000000        45.000000  \n",
            "50%       454.500000          0.000000     502.000000        95.000000  \n",
            "75%       612.000000          1.000000     730.000000       231.000000  \n",
            "max      3190.000000          3.000000    1344.000000      1580.000000  \n"
          ]
        },
        {
          "data": {
            "image/png": "[encoded data removed]",
            "text/plain": [
              "<Figure size 432x288 with 1 Axes>"
            ]
          },
          "metadata": {
            "needs_background": "light"
          },
          "output_type": "display_data"
        },
        {
          "data": {
            "image/png": "[encoded data removed]",
            "text/plain": [
              "<Figure size 432x288 with 1 Axes>"
            ]
          },
          "metadata": {
            "needs_background": "light"
          },
          "output_type": "display_data"
        },
        {
          "data": {
            "image/png": "[encoded data removed]",
            "text/plain": [
              "<Figure size 432x288 with 1 Axes>"
            ]
          },
          "metadata": {
            "needs_background": "light"
          },
          "output_type": "display_data"
        },
        {
          "data": {
            "image/png": "[encoded data removed]",
            "text/plain": [
              "<Figure size 432x288 with 1 Axes>"
            ]
          },
          "metadata": {
            "needs_background": "light"
          },
          "output_type": "display_data"
        },
        {
          "data": {
            "image/png": "[encoded data removed]",
            "text/plain": [
              "<Figure size 432x288 with 1 Axes>"
            ]
          },
          "metadata": {
            "needs_background": "light"
          },
          "output_type": "display_data"
        },
        {
          "data": {
            "image/png": "[encoded data removed]",
            "text/plain": [
              "<Figure size 432x288 with 1 Axes>"
            ]
          },
          "metadata": {
            "needs_background": "light"
          },
          "output_type": "display_data"
        },
        {
          "data": {
            "image/png": "[encoded data removed]",
            "text/plain": [
              "<Figure size 432x288 with 1 Axes>"
            ]
          },
          "metadata": {
            "needs_background": "light"
          },
          "output_type": "display_data"
        },
        {
          "data": {
            "image/png": "[encoded data removed]",
            "text/plain": [
              "<Figure size 432x288 with 1 Axes>"
            ]
          },
          "metadata": {
            "needs_background": "light"
          },
          "output_type": "display_data"
        },
        {
          "data": {
            "image/png": "[encoded data removed]",
            "text/plain": [
              "<Figure size 432x288 with 1 Axes>"
            ]
          },
          "metadata": {
            "needs_background": "light"
          },
          "output_type": "display_data"
        },
        {
          "data": {
            "image/png": "[encoded data removed]",
            "text/plain": [
              "<Figure size 432x288 with 1 Axes>"
            ]
          },
          "metadata": {
            "needs_background": "light"
          },
          "output_type": "display_data"
        },
        {
          "data": {
            "image/png": "[encoded data removed]",
            "text/plain": [
              "<Figure size 432x288 with 1 Axes>"
            ]
          },
          "metadata": {
            "needs_background": "light"
          },
          "output_type": "display_data"
        },
        {
          "data": {
            "image/png": "[encoded data removed]",
            "text/plain": [
              "<Figure size 432x288 with 1 Axes>"
            ]
          },
          "metadata": {
            "needs_background": "light"
          },
          "output_type": "display_data"
        },
        {
          "data": {
            "image/png": "[encoded data removed]",
            "text/plain": [
              "<Figure size 432x288 with 1 Axes>"
            ]
          },
          "metadata": {
            "needs_background": "light"
          },
          "output_type": "display_data"
        },
        {
          "data": {
            "image/png": "[encoded data removed]",
            "text/plain": [
              "<Figure size 432x288 with 1 Axes>"
            ]
          },
          "metadata": {
            "needs_background": "light"
          },
          "output_type": "display_data"
        },
        {
          "data": {
            "image/png": "[encoded data removed]",
            "text/plain": [
              "<Figure size 432x288 with 1 Axes>"
            ]
          },
          "metadata": {
            "needs_background": "light"
          },
          "output_type": "display_data"
        }
      ],
      "source": [
        "# работаем с аномалиями\n",
        "print(data.describe())\n",
        "data.boxplot(column=['last_price'])\n",
        "plt.show()\n",
        "data.boxplot(column=['total_area'])\n",
        "plt.show()\n",
        "data.boxplot(column=['rooms'])\n",
        "plt.show()\n",
        "data.boxplot(column=['ceiling_height'])\n",
        "plt.show()\n",
        "data.boxplot(column=['floors_total'])\n",
        "plt.show()\n",
        "data.boxplot(column=['living_area'])\n",
        "plt.show()\n",
        "data.boxplot(column=['floor'])\n",
        "plt.show()\n",
        "data.boxplot(column=['is_apartment'])\n",
        "plt.show()\n",
        "data.boxplot(column=['kitchen_area'])\n",
        "plt.show()\n",
        "data.boxplot(column=['city_centers_nearest'])\n",
        "plt.show()\n",
        "data.boxplot(column=['parks_around3000'])\n",
        "plt.show()\n",
        "data.boxplot(column=['parks_nearest'])\n",
        "plt.show()\n",
        "data.boxplot(column=['ponds_around3000'])\n",
        "plt.show()\n",
        "data.boxplot(column=['ponds_nearest'])\n",
        "plt.show()\n",
        "data.boxplot(column=['days_exposition'])\n",
        "plt.show()"
      ]
    },
    {
      "cell_type": "markdown",
      "metadata": {
        "id": "b-FEuChMhEY1"
      },
      "source": [
        "Аномалия прослеживается:  \n",
        "**ceiling_height**, минимальная высота 1 м, максимальная 100 м.  \n",
        "**kitchen_area**, минимальная площадь 1,3 м2  \n",
        "**living_area**, минимальная площадь 2 м2"
      ]
    },
    {
      "cell_type": "code",
      "execution_count": null,
      "metadata": {
        "id": "w2NSUaUthEY1",
        "outputId": "e37f4fac-8ef1-4770-e61d-94e74347091d"
      },
      "outputs": [
        {
          "name": "stdout",
          "output_type": "stream",
          "text": [
            "Явных дубликатов: 0\n"
          ]
        }
      ],
      "source": [
        "print('Явных дубликатов:', data.duplicated().sum()) # проверяем на наличие явные дубликатов\n",
        "data = data.drop_duplicates() # удаляем явные дубликаты\n",
        "# замена медианным значением высоты потолков пределах нормальных значений (меньше 2,4 м и выше 3,5 м.)\n",
        "data.loc[data['ceiling_height'] < 2.4] = data['ceiling_height'].median()\n",
        "data.loc[data['ceiling_height'] > 3.5] = data['ceiling_height'].median()\n",
        "# замена медианным значением площади кухни меньше 5 м. По нормам меньше 5 м2 кухни быть не может.\n",
        "data.loc[data['kitchen_area'] < 5] = data['kitchen_area'].median()\n",
        "# замена медианным значением площади квартир\\апартаментов меньше 11 м.\n",
        "data.loc[data['living_area'] < 11] = data['living_area'].median()"
      ]
    },
    {
      "cell_type": "markdown",
      "metadata": {
        "id": "oxWtbv31hEY2"
      },
      "source": [
        "**Вывод:**\n",
        "Для более корректных результатов выполнили замены на медианы по потолкам, площадям кухонь и недвижимости.  \n",
        "Поскольку на диаграммах размаха видно наличие выбросов. При применении средного значения эти выбросы значительно будут влиять на результат."
      ]
    },
    {
      "cell_type": "code",
      "execution_count": null,
      "metadata": {
        "id": "_VlYTAkrhEY2",
        "outputId": "378a9f1e-2135-4502-dedb-92728b5eb86c"
      },
      "outputs": [
        {
          "name": "stdout",
          "output_type": "stream",
          "text": [
            "   total_images  last_price  total_area first_day_exposition  rooms  \\\n",
            "0          20.0  13000000.0       108.0           2019-03-07    3.0   \n",
            "1           7.0   3350000.0        40.4           2018-12-04    1.0   \n",
            "2          10.0   5196000.0        56.0           2015-08-20    2.0   \n",
            "3           0.0  64900000.0       159.0           2015-07-24    3.0   \n",
            "4           2.0  10000000.0       100.0           2018-06-19    2.0   \n",
            "\n",
            "   ceiling_height  floors_total  living_area  floor  is_apartment  ...  \\\n",
            "0            2.70          16.0         51.0    8.0           0.0  ...   \n",
            "1            2.63          11.0         18.6    1.0           0.0  ...   \n",
            "2            2.70           5.0         34.3    4.0           0.0  ...   \n",
            "3            2.70          14.0          NaN    9.0           0.0  ...   \n",
            "4            3.03          14.0         32.0   13.0           0.0  ...   \n",
            "\n",
            "  ponds_around3000 ponds_nearest  days_exposition  locality_name_short  \\\n",
            "0              2.0         755.0              NaN      Санкт-Петербург   \n",
            "1              0.0           NaN             81.0               Шушары   \n",
            "2              2.0         574.0            558.0      Санкт-Петербург   \n",
            "3              3.0         234.0            424.0      Санкт-Петербург   \n",
            "4              1.0          48.0            121.0      Санкт-Петербург   \n",
            "\n",
            "        price_m2  weekday_publication  month_publication  year_publication  \\\n",
            "0  120370.370370                    3                  3              2019   \n",
            "1   82920.792079                    1                 12              2018   \n",
            "2   92785.714286                    3                  8              2015   \n",
            "3  408176.100629                    4                  7              2015   \n",
            "4  100000.000000                    1                  6              2018   \n",
            "\n",
            "   floor_type  city_сenters_nearest_km  \n",
            "0      другой                     16.0  \n",
            "1      первый                     19.0  \n",
            "2      другой                     14.0  \n",
            "3      другой                      7.0  \n",
            "4      другой                      8.0  \n",
            "\n",
            "[5 rows x 29 columns]\n"
          ]
        }
      ],
      "source": [
        "# добавляем столбцы:\n",
        "data['price_m2'] = data['last_price'] / data['total_area'] # добавляем столбец \"Цена 1 м2\" price_m2\n",
        "data['first_day_exposition'] = pd.to_datetime(data['first_day_exposition'], format = '%Y-%m-%dT%H:%M:%S', errors = 'coerce') # преобразуем в дату\n",
        "data['weekday_publication'] = data['first_day_exposition'].dt.weekday # добавляем столбец \"День недели\" week_day\n",
        "data['month_publication'] = data['first_day_exposition'].dt.month # добавляем столбец \"Месяц публикации\" month_publication\n",
        "data['year_publication'] = data['first_day_exposition'].dt.year # добавляем столбец \"Год публикации\" year_publication\n",
        "# добавляем столбец \"Тип этажа квартиры\" floor_type:\n",
        "def type_floor(row):\n",
        "    floors_total = row['floors_total']\n",
        "    floor = row['floor']\n",
        "    if floor == 1:\n",
        "        return 'первый'\n",
        "    if floor == floors_total:\n",
        "        return 'последний'\n",
        "    return 'другой'\n",
        "data['floor_type'] = data.apply(type_floor, axis = 1)\n",
        "# добавляем столбец \"Расстояние до центра в км\" city_сenters_nearest_km\n",
        "data['city_сenters_nearest_km'] = round(data['city_centers_nearest'] / 1000, 0)\n",
        "print(data.head())"
      ]
    },
    {
      "cell_type": "markdown",
      "metadata": {
        "id": "t9kl_Y_nhEY3"
      },
      "source": [
        "## 3. Проведите исследовательский анализ данных"
      ]
    },
    {
      "cell_type": "code",
      "execution_count": null,
      "metadata": {
        "scrolled": false,
        "id": "_zk_eyKPhEY3",
        "outputId": "ad22f2d2-1360-4ea7-8d64-5d74cd49d846"
      },
      "outputs": [
        {
          "data": {
            "image/png": "[encoded data removed]",
            "text/plain": [
              "<Figure size 1080x216 with 1 Axes>"
            ]
          },
          "metadata": {
            "needs_background": "light"
          },
          "output_type": "display_data"
        },
        {
          "data": {
            "image/png": "[encoded data removed]",
            "text/plain": [
              "<Figure size 1080x216 with 1 Axes>"
            ]
          },
          "metadata": {
            "needs_background": "light"
          },
          "output_type": "display_data"
        },
        {
          "data": {
            "image/png": "[encoded data removed]",
            "text/plain": [
              "<Figure size 1080x216 with 1 Axes>"
            ]
          },
          "metadata": {
            "needs_background": "light"
          },
          "output_type": "display_data"
        },
        {
          "data": {
            "image/png": "[encoded data removed]",
            "text/plain": [
              "<Figure size 1080x216 with 1 Axes>"
            ]
          },
          "metadata": {
            "needs_background": "light"
          },
          "output_type": "display_data"
        },
        {
          "data": {
            "image/png": "[encoded data removed]",
            "text/plain": [
              "<Figure size 1080x216 with 1 Axes>"
            ]
          },
          "metadata": {
            "needs_background": "light"
          },
          "output_type": "display_data"
        },
        {
          "data": {
            "image/png": "[encoded data removed]",
            "text/plain": [
              "<Figure size 1080x216 with 1 Axes>"
            ]
          },
          "metadata": {
            "needs_background": "light"
          },
          "output_type": "display_data"
        },
        {
          "data": {
            "image/png": "[encoded data removed]",
            "text/plain": [
              "<Figure size 1080x216 with 1 Axes>"
            ]
          },
          "metadata": {
            "needs_background": "light"
          },
          "output_type": "display_data"
        },
        {
          "data": {
            "image/png": "[encoded data removed]",
            "text/plain": [
              "<Figure size 1080x216 with 1 Axes>"
            ]
          },
          "metadata": {
            "needs_background": "light"
          },
          "output_type": "display_data"
        },
        {
          "data": {
            "image/png": "[encoded data removed]",
            "text/plain": [
              "<Figure size 1080x216 with 1 Axes>"
            ]
          },
          "metadata": {
            "needs_background": "light"
          },
          "output_type": "display_data"
        },
        {
          "data": {
            "image/png": "[encoded data removed]",
            "text/plain": [
              "<Figure size 1080x216 with 1 Axes>"
            ]
          },
          "metadata": {
            "needs_background": "light"
          },
          "output_type": "display_data"
        },
        {
          "data": {
            "image/png": "[encoded data removed]",
            "text/plain": [
              "<Figure size 1080x216 with 1 Axes>"
            ]
          },
          "metadata": {
            "needs_background": "light"
          },
          "output_type": "display_data"
        },
        {
          "data": {
            "image/png": "[encoded data removed]",
            "text/plain": [
              "<Figure size 1080x216 with 1 Axes>"
            ]
          },
          "metadata": {
            "needs_background": "light"
          },
          "output_type": "display_data"
        },
        {
          "data": {
            "image/png": "[encoded data removed]",
            "text/plain": [
              "<Figure size 1080x216 with 1 Axes>"
            ]
          },
          "metadata": {
            "needs_background": "light"
          },
          "output_type": "display_data"
        },
        {
          "data": {
            "image/png": "[encoded data removed]",
            "text/plain": [
              "<Figure size 1080x216 with 1 Axes>"
            ]
          },
          "metadata": {
            "needs_background": "light"
          },
          "output_type": "display_data"
        }
      ],
      "source": [
        "import matplotlib.pyplot as plt\n",
        "data['total_area'].hist(bins = 100, range = (0, 250), legend = True, figsize=(15, 3))\n",
        "plt.show()\n",
        "data['living_area'].hist(bins = 100, range = (0, 200), legend = True, figsize=(15, 3))\n",
        "plt.show()\n",
        "data['kitchen_area'].hist(bins = 100, range = (0, 60), legend = True, figsize=(15, 3))\n",
        "plt.show()\n",
        "data['last_price'].hist(bins = 50, range = (0, 15000000), legend = True, figsize=(15, 3))\n",
        "plt.show()\n",
        "data['rooms'].hist(bins = 50, range = (0, 10), legend = True, figsize=(15, 3))\n",
        "plt.show()\n",
        "data['ceiling_height'].hist(bins = 50, range = (2, 4), legend = True, figsize=(15, 3))\n",
        "plt.show()\n",
        "data['floor'].hist(bins = 50, range = (1, 40), legend = True, figsize=(15, 3))\n",
        "plt.show()\n",
        "data['floor_type'].hist(bins = 100, legend = True, figsize=(15, 3))\n",
        "plt.show()\n",
        "data['floors_total'].hist(bins = 100, range = (1, 35), legend = True, figsize=(15, 3))\n",
        "plt.show()\n",
        "data['city_centers_nearest'].hist(bins = 100, range = (0, 60000), legend = True, figsize=(15, 3))\n",
        "plt.show()\n",
        "data['airports_nearest'].hist(bins = 100, range = (0, 80000), legend = True, figsize=(15, 3))\n",
        "plt.show()\n",
        "data['parks_nearest'].hist(bins = 100, legend = True, figsize=(15, 3))\n",
        "plt.show()\n",
        "data['weekday_publication'].hist(bins = 100, legend = True, figsize=(15, 3))\n",
        "plt.show()\n",
        "data['month_publication'].hist(bins = 100, legend = True, figsize=(15, 3))\n",
        "plt.show()"
      ]
    },
    {
      "cell_type": "markdown",
      "metadata": {
        "id": "mnNlUpEqhEY3"
      },
      "source": [
        "**Выводы:**  \n",
        "1. Основная часть продаваемых квартир по общей площади лежит в дианазоне: 30 - 70 м2;  \n",
        "2. Основная часть продаваемых квартир по жилой площади лежит в дианазоне: 10 - 40 м2;  \n",
        "3. Основная часть продаваемых квартир по площади кухни лежит в дианазоне: 5 - 12 м2;  \n",
        "4. Большая часть квартир продается в диапазоне 3-5 млн;\n",
        "5. Основная масса продаваемых квартир 1, 2 и 3 комнатные. При чем количество 1к примерно равно 2к, а 3к ориентировочно в 2.5 раза меньше, чем  сумма 1к и 2к;\n",
        "6. Основная масса квартир продается с высотой потолков от 2,5 до 2,75 с преймуществом в 2,5 м;\n",
        "7. В основной массе квартиры продают на этажах с 1 по 5;\n",
        "8. На первых и последних этажах продают меньше всего квартир;\n",
        "9. Преймущественно продаются квартиры в 5 и 9 этажных домах;\n",
        "10. У большинства продаваемых квартир растояние до центра 10-15 км;\n",
        "11. Большинство продавцов квартир не акцентируют внимание на расстояние до аэропорта;\n",
        "12. Большинство продавцов квартир не акцентируют внимание на расстояние до парка, большинство продаваемых квартир находится на расстоянии в 500 м;  \n",
        "13. Ожидаемо больше публикаций с понедельника по пятницу.  \n",
        "14. В январе и мае меньше всего публикуют объявлений. Наибольшее количество публикаций в феврале, марте, апреле и ноябре."
      ]
    },
    {
      "cell_type": "code",
      "execution_count": null,
      "metadata": {
        "id": "DrlmvVXzhEY4",
        "outputId": "e3526f86-8d13-4d1c-db5c-4f76daed747d"
      },
      "outputs": [
        {
          "name": "stdout",
          "output_type": "stream",
          "text": [
            "count    20566.000000\n",
            "mean       176.178012\n",
            "std        217.600408\n",
            "min          1.000000\n",
            "25%         41.000000\n",
            "50%         91.000000\n",
            "75%        223.000000\n",
            "max       1580.000000\n",
            "Name: days_exposition, dtype: float64\n"
          ]
        },
        {
          "data": {
            "image/png": "[encoded data removed]",
            "text/plain": [
              "<Figure size 720x216 with 1 Axes>"
            ]
          },
          "metadata": {
            "needs_background": "light"
          },
          "output_type": "display_data"
        }
      ],
      "source": [
        "# изучаем days_exposition\n",
        "data['days_exposition'].hist(bins = 100, range = (0, 500), legend = True, figsize=(10, 3))\n",
        "print(data['days_exposition'].describe())"
      ]
    },
    {
      "cell_type": "markdown",
      "metadata": {
        "id": "k0tbXcwihEY4"
      },
      "source": [
        "**Вывод:**  \n",
        "Самая быстрая продажа происходила через 1 день после размещения объявления.  \n",
        "При этом быстрыми продажами можно считать квартиры, которые продаются не позднее 42 дня с момента размещения.  \n",
        "Медленными продажами считаются квартиры, которые продаются после 224 дня с момента размещения.  \n",
        "Обычно квартиры продаются за 91 день."
      ]
    },
    {
      "cell_type": "code",
      "execution_count": null,
      "metadata": {
        "scrolled": false,
        "id": "vFgP6UjThEY5",
        "outputId": "da9d12f5-23d7-43de-9fe9-3b01708c7236"
      },
      "outputs": [
        {
          "data": {
            "text/plain": [
              "0.6365374329646258"
            ]
          },
          "execution_count": 15,
          "metadata": {},
          "output_type": "execute_result"
        },
        {
          "data": {
            "image/png": "[encoded data removed]",
            "text/plain": [
              "<Figure size 1080x216 with 1 Axes>"
            ]
          },
          "metadata": {
            "needs_background": "light"
          },
          "output_type": "display_data"
        }
      ],
      "source": [
        "# изучаем какие факторы влияют на полную стоимость квартир\n",
        "# зависимость общей площади от общей стоимости\n",
        "pivot_last_price_total_area = data.pivot_table(index = 'total_area', values = 'last_price', aggfunc = 'median')\n",
        "pivot_last_price_total_area.plot(style = 'o', grid = True, figsize =(15,3), legend = True)\n",
        "data['total_area'].corr(data['last_price'])"
      ]
    },
    {
      "cell_type": "markdown",
      "metadata": {
        "id": "fzuKe-azhEY5"
      },
      "source": [
        "Коэффициент Пирсона = 0.63, что говорит о наличии связи, но не очень сильной."
      ]
    },
    {
      "cell_type": "code",
      "execution_count": null,
      "metadata": {
        "id": "MG1T0-_MhEY5",
        "outputId": "4c05b9e4-7db2-4328-bb51-8bbd233b3063"
      },
      "outputs": [
        {
          "data": {
            "text/plain": [
              "0.5393558504016375"
            ]
          },
          "execution_count": 16,
          "metadata": {},
          "output_type": "execute_result"
        },
        {
          "data": {
            "image/png": "[encoded data removed]",
            "text/plain": [
              "<Figure size 1080x216 with 1 Axes>"
            ]
          },
          "metadata": {
            "needs_background": "light"
          },
          "output_type": "display_data"
        }
      ],
      "source": [
        "# общей стоимости от жилой площади\n",
        "pivot_last_price_living_area = data.pivot_table(index = 'living_area', values = 'last_price', aggfunc = 'median')\n",
        "pivot_last_price_living_area.plot(style = '*-', grid = True, figsize =(15,3), legend = True)\n",
        "data['living_area'].corr(data['last_price'])"
      ]
    },
    {
      "cell_type": "markdown",
      "metadata": {
        "id": "J9rklNqshEY5"
      },
      "source": [
        "Коэффициент Пирсона = 0.53, что говорит о наличии связи, но не очень сильной."
      ]
    },
    {
      "cell_type": "code",
      "execution_count": null,
      "metadata": {
        "id": "6sQtux4ahEY6",
        "outputId": "2b4794db-6565-4c5e-80b0-d01fcdc7163d"
      },
      "outputs": [
        {
          "data": {
            "text/plain": [
              "0.4013459375584344"
            ]
          },
          "execution_count": 17,
          "metadata": {},
          "output_type": "execute_result"
        },
        {
          "data": {
            "image/png": "[encoded data removed]",
            "text/plain": [
              "<Figure size 1080x216 with 1 Axes>"
            ]
          },
          "metadata": {
            "needs_background": "light"
          },
          "output_type": "display_data"
        }
      ],
      "source": [
        "# общей стоимости от площади кухни\n",
        "pivot_last_price_kitchen_area = data.pivot_table(index = 'kitchen_area', values = 'last_price', aggfunc = 'median')\n",
        "pivot_last_price_kitchen_area.plot(style = '*-', grid = True, figsize =(15,3), legend = True)\n",
        "data['kitchen_area'].corr(data['last_price'])"
      ]
    },
    {
      "cell_type": "markdown",
      "metadata": {
        "id": "cDsNVlsyhEY6"
      },
      "source": [
        "Коэффициент Пирсона = 0.40, что говорит о наличии связи, но не очень сильной."
      ]
    },
    {
      "cell_type": "code",
      "execution_count": null,
      "metadata": {
        "id": "zg_gA972hEY6",
        "outputId": "c2acc0c9-6909-42ed-c0b2-e8f6c845872f"
      },
      "outputs": [
        {
          "data": {
            "text/plain": [
              "-0.0025073397223408242"
            ]
          },
          "execution_count": 18,
          "metadata": {},
          "output_type": "execute_result"
        },
        {
          "data": {
            "image/png": "[encoded data removed]",
            "text/plain": [
              "<Figure size 1080x216 with 1 Axes>"
            ]
          },
          "metadata": {
            "needs_background": "light"
          },
          "output_type": "display_data"
        }
      ],
      "source": [
        "# общей стоимости от количества комнат\n",
        "pivot_last_price_price_rooms = data.pivot_table(index = 'rooms', values = 'last_price', aggfunc = 'median')\n",
        "pivot_last_price_price_rooms.plot(style = '*-', grid = True, figsize =(15,3), legend = True)\n",
        "data['rooms'].corr(data['last_price'])"
      ]
    },
    {
      "cell_type": "markdown",
      "metadata": {
        "id": "vOC9bo55hEY6"
      },
      "source": [
        "Коэффициент Пирсона = 0, что говорит о полном отсутствии связи."
      ]
    },
    {
      "cell_type": "code",
      "execution_count": null,
      "metadata": {
        "id": "uXWD9uulhEY6",
        "outputId": "cc194114-b8e8-4b2b-87e6-c149f86cf4e9"
      },
      "outputs": [
        {
          "data": {
            "text/plain": [
              "<AxesSubplot:xlabel='floor_type'>"
            ]
          },
          "execution_count": 19,
          "metadata": {},
          "output_type": "execute_result"
        },
        {
          "data": {
            "image/png": "[encoded data removed]",
            "text/plain": [
              "<Figure size 1080x216 with 1 Axes>"
            ]
          },
          "metadata": {
            "needs_background": "light"
          },
          "output_type": "display_data"
        }
      ],
      "source": [
        "# общей стоимости от этажа\n",
        "pivot_last_price_floor_type = data.pivot_table(index = 'floor_type', values = 'last_price', aggfunc = 'median')\n",
        "pivot_last_price_floor_type.plot(style = '*-', grid = True, figsize =(15,3), legend = True)"
      ]
    },
    {
      "cell_type": "markdown",
      "metadata": {
        "id": "1BlwJgiHhEY7"
      },
      "source": [
        "По графику видна прямая взаимосвязь цены с этажом. На первом и последнем цены ниже."
      ]
    },
    {
      "cell_type": "code",
      "execution_count": null,
      "metadata": {
        "id": "DlL9rMTQhEY7",
        "outputId": "8be5e2ed-1c22-44e5-b2be-46a5d9baa2ea"
      },
      "outputs": [
        {
          "data": {
            "text/plain": [
              "<AxesSubplot:xlabel='weekday_publication'>"
            ]
          },
          "execution_count": 20,
          "metadata": {},
          "output_type": "execute_result"
        },
        {
          "data": {
            "image/png": "[encoded data removed]",
            "text/plain": [
              "<Figure size 1080x216 with 1 Axes>"
            ]
          },
          "metadata": {
            "needs_background": "light"
          },
          "output_type": "display_data"
        }
      ],
      "source": [
        "# общей стоимости от дня недели\n",
        "pivot_last_price_weekday = data.pivot_table(index = 'weekday_publication', values = 'last_price', aggfunc = 'median')\n",
        "pivot_last_price_weekday.plot(style = '*-', grid = True, figsize =(15,3), legend = True)"
      ]
    },
    {
      "cell_type": "markdown",
      "metadata": {
        "id": "GIvYut-bhEY7"
      },
      "source": [
        "Самый высокие цены на недвижимость во вторник и среду"
      ]
    },
    {
      "cell_type": "code",
      "execution_count": null,
      "metadata": {
        "scrolled": false,
        "id": "OTj1JgYthEY7",
        "outputId": "42fc3fb8-8f78-4d35-a4f2-7faa2cd393a6"
      },
      "outputs": [
        {
          "data": {
            "text/plain": [
              "<AxesSubplot:xlabel='month_publication'>"
            ]
          },
          "execution_count": 21,
          "metadata": {},
          "output_type": "execute_result"
        },
        {
          "data": {
            "image/png": "[encoded data removed]",
            "text/plain": [
              "<Figure size 1080x216 with 1 Axes>"
            ]
          },
          "metadata": {
            "needs_background": "light"
          },
          "output_type": "display_data"
        }
      ],
      "source": [
        "# общей стоимости от месяца\n",
        "pivot_last_price_month = data.pivot_table(index = 'month_publication', values = 'last_price', aggfunc = 'median')\n",
        "pivot_last_price_month.plot(style = '*-', grid = True, figsize =(15,3), legend = True)"
      ]
    },
    {
      "cell_type": "markdown",
      "metadata": {
        "id": "6wDvLDvGhEY8"
      },
      "source": [
        "Самая высокая стоимость недвижимости в апреле, самая низкая в июне. Присутствует сезонность предложения."
      ]
    },
    {
      "cell_type": "code",
      "execution_count": null,
      "metadata": {
        "scrolled": true,
        "id": "3ZwHnQGPhEY8",
        "outputId": "5f213751-2adb-495f-e95c-0e44cb4540f5"
      },
      "outputs": [
        {
          "data": {
            "text/plain": [
              "<AxesSubplot:xlabel='year_publication'>"
            ]
          },
          "execution_count": 22,
          "metadata": {},
          "output_type": "execute_result"
        },
        {
          "data": {
            "image/png": "[encoded data removed]",
            "text/plain": [
              "<Figure size 1080x216 with 1 Axes>"
            ]
          },
          "metadata": {
            "needs_background": "light"
          },
          "output_type": "display_data"
        }
      ],
      "source": [
        "# общей стоимости от года\n",
        "data = data[data['year_publication'] != 1970]\n",
        "pivot_last_price_year = data.pivot_table(index = 'year_publication', values = 'last_price', aggfunc = 'median')\n",
        "pivot_last_price_year.plot(style = '*-', grid = True, figsize =(15,3), legend = True)"
      ]
    },
    {
      "cell_type": "markdown",
      "metadata": {
        "id": "vmth7UNVhEY8"
      },
      "source": [
        "Пик цен на квартиры приходился на 2014 год, далее до 2016 года было снижение, затем до 2018 года стабилизация, после 2018 года незначительный рост."
      ]
    },
    {
      "cell_type": "code",
      "execution_count": null,
      "metadata": {
        "scrolled": false,
        "id": "e5eYEYFJhEY9",
        "outputId": "fd74086b-2f14-4e7b-bdb5-adac3df911db"
      },
      "outputs": [
        {
          "name": "stdout",
          "output_type": "stream",
          "text": [
            "  locality_name_short  count    median\n",
            "0     Санкт-Петербург  15342  104535.0\n",
            "1              Мурино    578   86059.0\n",
            "2             Кудрово    470   95791.0\n",
            "3              Шушары    436   76748.0\n",
            "4          Всеволожск    395   65789.0\n",
            "5              Пушкин    360   99994.0\n",
            "6             Колпино    338   74724.0\n",
            "7           Парголово    326   91580.0\n",
            "8             Гатчина    300   67936.0\n",
            "9              Выборг    228   58233.0\n"
          ]
        }
      ],
      "source": [
        "# средняя цена одного квадратного метра в 10 населённых пунктах с наибольшим числом объявлений\n",
        "average_price_m2 = data.pivot_table(index = 'locality_name_short', values = 'price_m2', aggfunc = ['count', 'median'])\n",
        "average_price_m2.columns = ['count', 'median']\n",
        "print(average_price_m2.sort_values(by = 'count', ascending = False).round().head(10).reset_index())"
      ]
    },
    {
      "cell_type": "code",
      "execution_count": null,
      "metadata": {
        "id": "AKbps6bMhEY-",
        "outputId": "a1ee2a7b-a0ea-4a4e-e392-2592bba6c38c"
      },
      "outputs": [
        {
          "data": {
            "text/html": [
              "<div>\n",
              "<style scoped>\n",
              "    .dataframe tbody tr th:only-of-type {\n",
              "        vertical-align: middle;\n",
              "    }\n",
              "\n",
              "    .dataframe tbody tr th {\n",
              "        vertical-align: top;\n",
              "    }\n",
              "\n",
              "    .dataframe thead th {\n",
              "        text-align: right;\n",
              "    }\n",
              "</style>\n",
              "<table border=\"1\" class=\"dataframe\">\n",
              "  <thead>\n",
              "    <tr style=\"text-align: right;\">\n",
              "      <th></th>\n",
              "      <th>total_images</th>\n",
              "      <th>last_price</th>\n",
              "      <th>total_area</th>\n",
              "      <th>first_day_exposition</th>\n",
              "      <th>rooms</th>\n",
              "      <th>ceiling_height</th>\n",
              "      <th>floors_total</th>\n",
              "      <th>living_area</th>\n",
              "      <th>floor</th>\n",
              "      <th>is_apartment</th>\n",
              "      <th>...</th>\n",
              "      <th>ponds_around3000</th>\n",
              "      <th>ponds_nearest</th>\n",
              "      <th>days_exposition</th>\n",
              "      <th>locality_name_short</th>\n",
              "      <th>price_m2</th>\n",
              "      <th>weekday_publication</th>\n",
              "      <th>month_publication</th>\n",
              "      <th>year_publication</th>\n",
              "      <th>floor_type</th>\n",
              "      <th>city_сenters_nearest_km</th>\n",
              "    </tr>\n",
              "  </thead>\n",
              "  <tbody>\n",
              "    <tr>\n",
              "      <th>0</th>\n",
              "      <td>20.0</td>\n",
              "      <td>13000000.0</td>\n",
              "      <td>108.00</td>\n",
              "      <td>2019-03-07</td>\n",
              "      <td>3.0</td>\n",
              "      <td>2.70</td>\n",
              "      <td>16.0</td>\n",
              "      <td>51.0</td>\n",
              "      <td>8.0</td>\n",
              "      <td>0.0</td>\n",
              "      <td>...</td>\n",
              "      <td>2.0</td>\n",
              "      <td>755.0</td>\n",
              "      <td>NaN</td>\n",
              "      <td>Санкт-Петербург</td>\n",
              "      <td>120370.370370</td>\n",
              "      <td>3</td>\n",
              "      <td>3</td>\n",
              "      <td>2019</td>\n",
              "      <td>другой</td>\n",
              "      <td>16.0</td>\n",
              "    </tr>\n",
              "    <tr>\n",
              "      <th>1</th>\n",
              "      <td>7.0</td>\n",
              "      <td>3350000.0</td>\n",
              "      <td>40.40</td>\n",
              "      <td>2018-12-04</td>\n",
              "      <td>1.0</td>\n",
              "      <td>2.63</td>\n",
              "      <td>11.0</td>\n",
              "      <td>18.6</td>\n",
              "      <td>1.0</td>\n",
              "      <td>0.0</td>\n",
              "      <td>...</td>\n",
              "      <td>0.0</td>\n",
              "      <td>NaN</td>\n",
              "      <td>81.0</td>\n",
              "      <td>Шушары</td>\n",
              "      <td>82920.792079</td>\n",
              "      <td>1</td>\n",
              "      <td>12</td>\n",
              "      <td>2018</td>\n",
              "      <td>первый</td>\n",
              "      <td>19.0</td>\n",
              "    </tr>\n",
              "    <tr>\n",
              "      <th>2</th>\n",
              "      <td>10.0</td>\n",
              "      <td>5196000.0</td>\n",
              "      <td>56.00</td>\n",
              "      <td>2015-08-20</td>\n",
              "      <td>2.0</td>\n",
              "      <td>2.70</td>\n",
              "      <td>5.0</td>\n",
              "      <td>34.3</td>\n",
              "      <td>4.0</td>\n",
              "      <td>0.0</td>\n",
              "      <td>...</td>\n",
              "      <td>2.0</td>\n",
              "      <td>574.0</td>\n",
              "      <td>558.0</td>\n",
              "      <td>Санкт-Петербург</td>\n",
              "      <td>92785.714286</td>\n",
              "      <td>3</td>\n",
              "      <td>8</td>\n",
              "      <td>2015</td>\n",
              "      <td>другой</td>\n",
              "      <td>14.0</td>\n",
              "    </tr>\n",
              "    <tr>\n",
              "      <th>3</th>\n",
              "      <td>0.0</td>\n",
              "      <td>64900000.0</td>\n",
              "      <td>159.00</td>\n",
              "      <td>2015-07-24</td>\n",
              "      <td>3.0</td>\n",
              "      <td>2.70</td>\n",
              "      <td>14.0</td>\n",
              "      <td>NaN</td>\n",
              "      <td>9.0</td>\n",
              "      <td>0.0</td>\n",
              "      <td>...</td>\n",
              "      <td>3.0</td>\n",
              "      <td>234.0</td>\n",
              "      <td>424.0</td>\n",
              "      <td>Санкт-Петербург</td>\n",
              "      <td>408176.100629</td>\n",
              "      <td>4</td>\n",
              "      <td>7</td>\n",
              "      <td>2015</td>\n",
              "      <td>другой</td>\n",
              "      <td>7.0</td>\n",
              "    </tr>\n",
              "    <tr>\n",
              "      <th>4</th>\n",
              "      <td>2.0</td>\n",
              "      <td>10000000.0</td>\n",
              "      <td>100.00</td>\n",
              "      <td>2018-06-19</td>\n",
              "      <td>2.0</td>\n",
              "      <td>3.03</td>\n",
              "      <td>14.0</td>\n",
              "      <td>32.0</td>\n",
              "      <td>13.0</td>\n",
              "      <td>0.0</td>\n",
              "      <td>...</td>\n",
              "      <td>1.0</td>\n",
              "      <td>48.0</td>\n",
              "      <td>121.0</td>\n",
              "      <td>Санкт-Петербург</td>\n",
              "      <td>100000.000000</td>\n",
              "      <td>1</td>\n",
              "      <td>6</td>\n",
              "      <td>2018</td>\n",
              "      <td>другой</td>\n",
              "      <td>8.0</td>\n",
              "    </tr>\n",
              "    <tr>\n",
              "      <th>...</th>\n",
              "      <td>...</td>\n",
              "      <td>...</td>\n",
              "      <td>...</td>\n",
              "      <td>...</td>\n",
              "      <td>...</td>\n",
              "      <td>...</td>\n",
              "      <td>...</td>\n",
              "      <td>...</td>\n",
              "      <td>...</td>\n",
              "      <td>...</td>\n",
              "      <td>...</td>\n",
              "      <td>...</td>\n",
              "      <td>...</td>\n",
              "      <td>...</td>\n",
              "      <td>...</td>\n",
              "      <td>...</td>\n",
              "      <td>...</td>\n",
              "      <td>...</td>\n",
              "      <td>...</td>\n",
              "      <td>...</td>\n",
              "      <td>...</td>\n",
              "    </tr>\n",
              "    <tr>\n",
              "      <th>23693</th>\n",
              "      <td>9.0</td>\n",
              "      <td>4600000.0</td>\n",
              "      <td>62.40</td>\n",
              "      <td>2016-08-05</td>\n",
              "      <td>3.0</td>\n",
              "      <td>2.60</td>\n",
              "      <td>9.0</td>\n",
              "      <td>40.0</td>\n",
              "      <td>8.0</td>\n",
              "      <td>0.0</td>\n",
              "      <td>...</td>\n",
              "      <td>1.0</td>\n",
              "      <td>675.0</td>\n",
              "      <td>239.0</td>\n",
              "      <td>Петергоф</td>\n",
              "      <td>73717.948718</td>\n",
              "      <td>4</td>\n",
              "      <td>8</td>\n",
              "      <td>2016</td>\n",
              "      <td>другой</td>\n",
              "      <td>34.0</td>\n",
              "    </tr>\n",
              "    <tr>\n",
              "      <th>23695</th>\n",
              "      <td>14.0</td>\n",
              "      <td>3100000.0</td>\n",
              "      <td>59.00</td>\n",
              "      <td>2018-01-15</td>\n",
              "      <td>3.0</td>\n",
              "      <td>2.50</td>\n",
              "      <td>5.0</td>\n",
              "      <td>38.0</td>\n",
              "      <td>4.0</td>\n",
              "      <td>0.0</td>\n",
              "      <td>...</td>\n",
              "      <td>0.0</td>\n",
              "      <td>NaN</td>\n",
              "      <td>45.0</td>\n",
              "      <td>Тосно</td>\n",
              "      <td>52542.372881</td>\n",
              "      <td>0</td>\n",
              "      <td>1</td>\n",
              "      <td>2018</td>\n",
              "      <td>другой</td>\n",
              "      <td>0.0</td>\n",
              "    </tr>\n",
              "    <tr>\n",
              "      <th>23696</th>\n",
              "      <td>18.0</td>\n",
              "      <td>2500000.0</td>\n",
              "      <td>56.70</td>\n",
              "      <td>2018-02-11</td>\n",
              "      <td>2.0</td>\n",
              "      <td>2.70</td>\n",
              "      <td>3.0</td>\n",
              "      <td>29.7</td>\n",
              "      <td>1.0</td>\n",
              "      <td>0.0</td>\n",
              "      <td>...</td>\n",
              "      <td>0.0</td>\n",
              "      <td>NaN</td>\n",
              "      <td>NaN</td>\n",
              "      <td>Рождествено</td>\n",
              "      <td>44091.710758</td>\n",
              "      <td>6</td>\n",
              "      <td>2</td>\n",
              "      <td>2018</td>\n",
              "      <td>первый</td>\n",
              "      <td>0.0</td>\n",
              "    </tr>\n",
              "    <tr>\n",
              "      <th>23697</th>\n",
              "      <td>13.0</td>\n",
              "      <td>11475000.0</td>\n",
              "      <td>76.75</td>\n",
              "      <td>2017-03-28</td>\n",
              "      <td>2.0</td>\n",
              "      <td>3.00</td>\n",
              "      <td>17.0</td>\n",
              "      <td>NaN</td>\n",
              "      <td>12.0</td>\n",
              "      <td>0.0</td>\n",
              "      <td>...</td>\n",
              "      <td>3.0</td>\n",
              "      <td>196.0</td>\n",
              "      <td>602.0</td>\n",
              "      <td>Санкт-Петербург</td>\n",
              "      <td>149511.400651</td>\n",
              "      <td>1</td>\n",
              "      <td>3</td>\n",
              "      <td>2017</td>\n",
              "      <td>другой</td>\n",
              "      <td>10.0</td>\n",
              "    </tr>\n",
              "    <tr>\n",
              "      <th>23698</th>\n",
              "      <td>4.0</td>\n",
              "      <td>1350000.0</td>\n",
              "      <td>32.30</td>\n",
              "      <td>2017-07-21</td>\n",
              "      <td>1.0</td>\n",
              "      <td>2.50</td>\n",
              "      <td>5.0</td>\n",
              "      <td>12.3</td>\n",
              "      <td>1.0</td>\n",
              "      <td>0.0</td>\n",
              "      <td>...</td>\n",
              "      <td>0.0</td>\n",
              "      <td>NaN</td>\n",
              "      <td>NaN</td>\n",
              "      <td>Новый Учхоз</td>\n",
              "      <td>41795.665635</td>\n",
              "      <td>4</td>\n",
              "      <td>7</td>\n",
              "      <td>2017</td>\n",
              "      <td>первый</td>\n",
              "      <td>0.0</td>\n",
              "    </tr>\n",
              "  </tbody>\n",
              "</table>\n",
              "<p>23126 rows × 29 columns</p>\n",
              "</div>"
            ],
            "text/plain": [
              "       total_images  last_price  total_area first_day_exposition  rooms  \\\n",
              "0              20.0  13000000.0      108.00           2019-03-07    3.0   \n",
              "1               7.0   3350000.0       40.40           2018-12-04    1.0   \n",
              "2              10.0   5196000.0       56.00           2015-08-20    2.0   \n",
              "3               0.0  64900000.0      159.00           2015-07-24    3.0   \n",
              "4               2.0  10000000.0      100.00           2018-06-19    2.0   \n",
              "...             ...         ...         ...                  ...    ...   \n",
              "23693           9.0   4600000.0       62.40           2016-08-05    3.0   \n",
              "23695          14.0   3100000.0       59.00           2018-01-15    3.0   \n",
              "23696          18.0   2500000.0       56.70           2018-02-11    2.0   \n",
              "23697          13.0  11475000.0       76.75           2017-03-28    2.0   \n",
              "23698           4.0   1350000.0       32.30           2017-07-21    1.0   \n",
              "\n",
              "       ceiling_height  floors_total  living_area  floor  is_apartment  ...  \\\n",
              "0                2.70          16.0         51.0    8.0           0.0  ...   \n",
              "1                2.63          11.0         18.6    1.0           0.0  ...   \n",
              "2                2.70           5.0         34.3    4.0           0.0  ...   \n",
              "3                2.70          14.0          NaN    9.0           0.0  ...   \n",
              "4                3.03          14.0         32.0   13.0           0.0  ...   \n",
              "...               ...           ...          ...    ...           ...  ...   \n",
              "23693            2.60           9.0         40.0    8.0           0.0  ...   \n",
              "23695            2.50           5.0         38.0    4.0           0.0  ...   \n",
              "23696            2.70           3.0         29.7    1.0           0.0  ...   \n",
              "23697            3.00          17.0          NaN   12.0           0.0  ...   \n",
              "23698            2.50           5.0         12.3    1.0           0.0  ...   \n",
              "\n",
              "      ponds_around3000 ponds_nearest  days_exposition  locality_name_short  \\\n",
              "0                  2.0         755.0              NaN      Санкт-Петербург   \n",
              "1                  0.0           NaN             81.0               Шушары   \n",
              "2                  2.0         574.0            558.0      Санкт-Петербург   \n",
              "3                  3.0         234.0            424.0      Санкт-Петербург   \n",
              "4                  1.0          48.0            121.0      Санкт-Петербург   \n",
              "...                ...           ...              ...                  ...   \n",
              "23693              1.0         675.0            239.0             Петергоф   \n",
              "23695              0.0           NaN             45.0                Тосно   \n",
              "23696              0.0           NaN              NaN          Рождествено   \n",
              "23697              3.0         196.0            602.0      Санкт-Петербург   \n",
              "23698              0.0           NaN              NaN          Новый Учхоз   \n",
              "\n",
              "            price_m2  weekday_publication  month_publication  \\\n",
              "0      120370.370370                    3                  3   \n",
              "1       82920.792079                    1                 12   \n",
              "2       92785.714286                    3                  8   \n",
              "3      408176.100629                    4                  7   \n",
              "4      100000.000000                    1                  6   \n",
              "...              ...                  ...                ...   \n",
              "23693   73717.948718                    4                  8   \n",
              "23695   52542.372881                    0                  1   \n",
              "23696   44091.710758                    6                  2   \n",
              "23697  149511.400651                    1                  3   \n",
              "23698   41795.665635                    4                  7   \n",
              "\n",
              "       year_publication  floor_type  city_сenters_nearest_km  \n",
              "0                  2019      другой                     16.0  \n",
              "1                  2018      первый                     19.0  \n",
              "2                  2015      другой                     14.0  \n",
              "3                  2015      другой                      7.0  \n",
              "4                  2018      другой                      8.0  \n",
              "...                 ...         ...                      ...  \n",
              "23693              2016      другой                     34.0  \n",
              "23695              2018      другой                      0.0  \n",
              "23696              2018      первый                      0.0  \n",
              "23697              2017      другой                     10.0  \n",
              "23698              2017      первый                      0.0  \n",
              "\n",
              "[23126 rows x 29 columns]"
            ]
          },
          "execution_count": 26,
          "metadata": {},
          "output_type": "execute_result"
        }
      ],
      "source": [
        "data"
      ]
    },
    {
      "cell_type": "code",
      "execution_count": null,
      "metadata": {
        "scrolled": false,
        "id": "0P34J6D-hEY-",
        "outputId": "020cf39c-ce77-47a3-de15-a7fce381ab9e"
      },
      "outputs": [
        {
          "name": "stdout",
          "output_type": "stream",
          "text": [
            "                              price_m2\n",
            "city_сenters_nearest_km               \n",
            "1.0                      125565.610860\n",
            "2.0                      119531.250000\n",
            "3.0                      108000.000000\n",
            "4.0                      117391.304348\n",
            "5.0                      126930.052401\n"
          ]
        },
        {
          "data": {
            "image/png": "[encoded data removed]",
            "text/plain": [
              "<Figure size 432x288 with 1 Axes>"
            ]
          },
          "metadata": {
            "needs_background": "light"
          },
          "output_type": "display_data"
        }
      ],
      "source": [
        "data['city_сenters_nearest_km'] = data['city_сenters_nearest_km'].fillna(value=0) # переименовываем пропущенные значения на not_defined\n",
        "distance_price = data.query('locality_name_short == \"Санкт-Петербург\"')\n",
        "# выполняем срез по С-Петербургу, исключаем пропущенные згачения и строим график:\n",
        "distance_price = distance_price.query('locality_name_short == \"Санкт-Петербург\"' and 'city_сenters_nearest_km != 0' and 'city_сenters_nearest_km != 0')#.pivot_table(index = 'city_сenters_nearest_km', values = 'price_m2', aggfunc = 'median')\n",
        "pivot_distance_price = distance_price.pivot_table(index = 'city_сenters_nearest_km', values = 'price_m2', aggfunc = 'median')\n",
        "pivot_distance_price.plot(grid = True, style = 'o-', title = 'Заголовок')\n",
        "\n",
        "print(pivot_distance_price.head())\n"
      ]
    },
    {
      "cell_type": "markdown",
      "metadata": {
        "id": "v8Fs3dzShEY_"
      },
      "source": [
        "Ожидаемо медианная стоимость за м2 при отдалении от центра уменьшается"
      ]
    },
    {
      "cell_type": "markdown",
      "metadata": {
        "id": "zgTAxMXPhEZA"
      },
      "source": [
        "### Общий вывод"
      ]
    },
    {
      "cell_type": "markdown",
      "metadata": {
        "id": "2LQdt2JwhEZA"
      },
      "source": [
        "**Вывод:**  \n",
        "Мы проанализировали статистику по продажам недвижимости.  \n",
        "В исследовании приняли участие следующие параметры: площадь недвижимости, цена, количество комнат, высоту потолков, этаж квартиры, общее количество этажей в доме, расстояние до центра города в метрах, расстояние до ближайшего аэропорта, расстояние до ближайшего парка, день и месяц публикации объявления.  \n",
        "Следствием исследования выявлены следующие закономерности:\n",
        "1. Выгодно с точки зрения цены покупать в июне, в пятницу или воскресенье, на первом или последнем этаже, предпочтительнодальше 20 км от центра.  \n",
        "2. Максимально невыгодно приобретать недвижимость в апреле во вторник.  \n",
        "3. Медианная стоимость недвижимости с 2014 года по 2016 год снизилась на 40%. При этом виден рост на 10% с 2018 по 2019 г."
      ]
    }
  ],
  "metadata": {
    "ExecuteTimeLog": [
      {
        "duration": 509,
        "start_time": "2022-09-27T04:28:21.387Z"
      },
      {
        "duration": 111,
        "start_time": "2022-09-27T04:30:46.285Z"
      },
      {
        "duration": 2624,
        "start_time": "2022-09-27T04:38:08.240Z"
      },
      {
        "duration": 74,
        "start_time": "2022-09-29T19:08:20.009Z"
      },
      {
        "duration": 3455,
        "start_time": "2022-09-29T19:09:04.467Z"
      },
      {
        "duration": 29,
        "start_time": "2022-09-29T19:09:12.898Z"
      },
      {
        "duration": 11,
        "start_time": "2022-09-29T19:09:26.799Z"
      },
      {
        "duration": 54,
        "start_time": "2022-09-29T21:31:03.504Z"
      },
      {
        "duration": 11,
        "start_time": "2022-09-29T21:31:51.652Z"
      },
      {
        "duration": 9,
        "start_time": "2022-09-29T21:32:29.704Z"
      },
      {
        "duration": 35,
        "start_time": "2022-09-29T21:35:25.152Z"
      },
      {
        "duration": 24,
        "start_time": "2022-09-29T21:36:37.228Z"
      },
      {
        "duration": 14,
        "start_time": "2022-09-29T21:38:04.055Z"
      },
      {
        "duration": 42,
        "start_time": "2022-09-30T18:53:02.486Z"
      },
      {
        "duration": 2711,
        "start_time": "2022-09-30T18:53:14.825Z"
      },
      {
        "duration": 14,
        "start_time": "2022-09-30T18:53:17.538Z"
      },
      {
        "duration": 27,
        "start_time": "2022-09-30T18:53:30.525Z"
      },
      {
        "duration": 19,
        "start_time": "2022-09-30T18:55:36.106Z"
      },
      {
        "duration": 10,
        "start_time": "2022-09-30T18:57:05.080Z"
      },
      {
        "duration": 17,
        "start_time": "2022-09-30T18:57:10.497Z"
      },
      {
        "duration": 11,
        "start_time": "2022-09-30T19:02:43.608Z"
      },
      {
        "duration": 81,
        "start_time": "2022-09-30T19:03:53.652Z"
      },
      {
        "duration": 21,
        "start_time": "2022-09-30T19:04:02.392Z"
      },
      {
        "duration": 7,
        "start_time": "2022-09-30T19:04:19.924Z"
      },
      {
        "duration": 9,
        "start_time": "2022-09-30T19:04:35.424Z"
      },
      {
        "duration": 10,
        "start_time": "2022-09-30T19:04:44.530Z"
      },
      {
        "duration": 52,
        "start_time": "2022-09-30T19:11:44.805Z"
      },
      {
        "duration": 7,
        "start_time": "2022-09-30T19:12:06.432Z"
      },
      {
        "duration": 37,
        "start_time": "2022-09-30T19:12:55.204Z"
      },
      {
        "duration": 28,
        "start_time": "2022-09-30T19:13:42.124Z"
      },
      {
        "duration": 13,
        "start_time": "2022-09-30T19:23:25.653Z"
      },
      {
        "duration": 8,
        "start_time": "2022-09-30T19:38:21.707Z"
      },
      {
        "duration": 2,
        "start_time": "2022-09-30T19:38:36.864Z"
      },
      {
        "duration": 3,
        "start_time": "2022-09-30T19:39:29.221Z"
      },
      {
        "duration": 3,
        "start_time": "2022-09-30T19:39:42.409Z"
      },
      {
        "duration": 12,
        "start_time": "2022-09-30T20:10:10.837Z"
      },
      {
        "duration": 5,
        "start_time": "2022-09-30T20:13:39.509Z"
      },
      {
        "duration": 31,
        "start_time": "2022-09-30T20:17:35.201Z"
      },
      {
        "duration": 43,
        "start_time": "2022-09-30T20:18:24.911Z"
      },
      {
        "duration": 9,
        "start_time": "2022-09-30T20:30:23.848Z"
      },
      {
        "duration": 7,
        "start_time": "2022-09-30T20:31:04.692Z"
      },
      {
        "duration": 7,
        "start_time": "2022-09-30T20:32:12.923Z"
      },
      {
        "duration": 9,
        "start_time": "2022-09-30T20:32:27.835Z"
      },
      {
        "duration": 8,
        "start_time": "2022-09-30T20:33:14.120Z"
      },
      {
        "duration": 7,
        "start_time": "2022-09-30T20:33:52.753Z"
      },
      {
        "duration": 8,
        "start_time": "2022-09-30T20:34:13.520Z"
      },
      {
        "duration": 552,
        "start_time": "2022-09-30T20:34:26.114Z"
      },
      {
        "duration": 7,
        "start_time": "2022-09-30T20:35:04.320Z"
      },
      {
        "duration": 22,
        "start_time": "2022-09-30T20:35:10.625Z"
      },
      {
        "duration": 11,
        "start_time": "2022-09-30T20:35:23.510Z"
      },
      {
        "duration": 12,
        "start_time": "2022-09-30T20:35:25.781Z"
      },
      {
        "duration": 10,
        "start_time": "2022-09-30T20:35:27.927Z"
      },
      {
        "duration": 13,
        "start_time": "2022-09-30T20:35:29.653Z"
      },
      {
        "duration": 18,
        "start_time": "2022-09-30T20:36:49.113Z"
      },
      {
        "duration": 75,
        "start_time": "2022-09-30T20:37:22.834Z"
      },
      {
        "duration": 18,
        "start_time": "2022-09-30T20:38:39.159Z"
      },
      {
        "duration": 1227,
        "start_time": "2022-09-30T20:41:26.390Z"
      },
      {
        "duration": 12,
        "start_time": "2022-09-30T20:41:44.290Z"
      },
      {
        "duration": 11,
        "start_time": "2022-09-30T20:42:10.389Z"
      },
      {
        "duration": 11,
        "start_time": "2022-09-30T20:42:12.085Z"
      },
      {
        "duration": 20,
        "start_time": "2022-09-30T20:42:59.819Z"
      },
      {
        "duration": 13,
        "start_time": "2022-09-30T20:43:13.691Z"
      },
      {
        "duration": 15,
        "start_time": "2022-09-30T20:51:59.367Z"
      },
      {
        "duration": 10,
        "start_time": "2022-09-30T20:52:08.661Z"
      },
      {
        "duration": 12,
        "start_time": "2022-09-30T20:52:15.832Z"
      },
      {
        "duration": 18,
        "start_time": "2022-09-30T20:53:08.421Z"
      },
      {
        "duration": 6,
        "start_time": "2022-09-30T20:58:58.008Z"
      },
      {
        "duration": 17,
        "start_time": "2022-09-30T20:59:00.721Z"
      },
      {
        "duration": 8,
        "start_time": "2022-09-30T20:59:27.328Z"
      },
      {
        "duration": 15,
        "start_time": "2022-09-30T21:00:40.271Z"
      },
      {
        "duration": 14,
        "start_time": "2022-09-30T21:00:43.113Z"
      },
      {
        "duration": 71,
        "start_time": "2022-09-30T21:00:50.861Z"
      },
      {
        "duration": 12,
        "start_time": "2022-09-30T21:00:53.338Z"
      },
      {
        "duration": 13,
        "start_time": "2022-09-30T21:01:19.335Z"
      },
      {
        "duration": 12,
        "start_time": "2022-09-30T21:01:22.721Z"
      },
      {
        "duration": 12,
        "start_time": "2022-09-30T21:01:23.493Z"
      },
      {
        "duration": 9,
        "start_time": "2022-09-30T21:02:37.752Z"
      },
      {
        "duration": 21,
        "start_time": "2022-09-30T21:05:01.133Z"
      },
      {
        "duration": 25,
        "start_time": "2022-09-30T21:05:58.893Z"
      },
      {
        "duration": 7,
        "start_time": "2022-09-30T21:06:05.653Z"
      },
      {
        "duration": 7,
        "start_time": "2022-09-30T21:06:19.880Z"
      },
      {
        "duration": 4,
        "start_time": "2022-09-30T21:08:37.502Z"
      },
      {
        "duration": 15,
        "start_time": "2022-09-30T21:25:14.285Z"
      },
      {
        "duration": 51,
        "start_time": "2022-10-01T05:26:50.709Z"
      },
      {
        "duration": 8,
        "start_time": "2022-10-01T05:27:06.443Z"
      },
      {
        "duration": 8,
        "start_time": "2022-10-01T05:27:20.290Z"
      },
      {
        "duration": 3113,
        "start_time": "2022-10-01T05:27:28.427Z"
      },
      {
        "duration": 10,
        "start_time": "2022-10-01T05:27:31.543Z"
      },
      {
        "duration": 28,
        "start_time": "2022-10-01T05:27:31.555Z"
      },
      {
        "duration": 44,
        "start_time": "2022-10-01T05:27:31.585Z"
      },
      {
        "duration": 16,
        "start_time": "2022-10-01T05:27:31.631Z"
      },
      {
        "duration": 164,
        "start_time": "2022-10-01T05:27:31.648Z"
      },
      {
        "duration": 12,
        "start_time": "2022-10-01T05:28:29.161Z"
      },
      {
        "duration": 16,
        "start_time": "2022-10-01T05:31:46.315Z"
      },
      {
        "duration": 375,
        "start_time": "2022-10-01T05:31:50.512Z"
      },
      {
        "duration": 236,
        "start_time": "2022-10-01T05:33:24.709Z"
      },
      {
        "duration": 245,
        "start_time": "2022-10-01T05:33:33.689Z"
      },
      {
        "duration": 56,
        "start_time": "2022-10-01T19:43:56.011Z"
      },
      {
        "duration": 3366,
        "start_time": "2022-10-01T19:44:03.569Z"
      },
      {
        "duration": 10,
        "start_time": "2022-10-01T19:44:06.937Z"
      },
      {
        "duration": 16,
        "start_time": "2022-10-01T19:44:06.949Z"
      },
      {
        "duration": 18,
        "start_time": "2022-10-01T19:44:06.966Z"
      },
      {
        "duration": 35,
        "start_time": "2022-10-01T19:44:06.986Z"
      },
      {
        "duration": 273,
        "start_time": "2022-10-01T19:44:07.023Z"
      },
      {
        "duration": 347,
        "start_time": "2022-10-01T19:44:10.293Z"
      },
      {
        "duration": 283,
        "start_time": "2022-10-01T19:44:41.401Z"
      },
      {
        "duration": 269,
        "start_time": "2022-10-01T19:57:07.885Z"
      },
      {
        "duration": 271,
        "start_time": "2022-10-01T19:57:16.183Z"
      },
      {
        "duration": 222,
        "start_time": "2022-10-01T19:57:30.777Z"
      },
      {
        "duration": 267,
        "start_time": "2022-10-01T19:57:35.842Z"
      },
      {
        "duration": 12,
        "start_time": "2022-10-01T19:59:11.699Z"
      },
      {
        "duration": 15,
        "start_time": "2022-10-01T20:00:59.886Z"
      },
      {
        "duration": 21,
        "start_time": "2022-10-01T20:01:28.029Z"
      },
      {
        "duration": 13,
        "start_time": "2022-10-01T20:02:19.839Z"
      },
      {
        "duration": 12,
        "start_time": "2022-10-01T20:02:33.173Z"
      },
      {
        "duration": 16,
        "start_time": "2022-10-01T20:02:52.365Z"
      },
      {
        "duration": 75,
        "start_time": "2022-10-01T20:03:42.126Z"
      },
      {
        "duration": 43,
        "start_time": "2022-10-01T20:05:44.649Z"
      },
      {
        "duration": 14,
        "start_time": "2022-10-01T20:06:24.576Z"
      },
      {
        "duration": 51,
        "start_time": "2022-10-01T20:26:24.733Z"
      },
      {
        "duration": 7,
        "start_time": "2022-10-01T20:26:36.565Z"
      },
      {
        "duration": 68,
        "start_time": "2022-10-01T20:26:52.765Z"
      },
      {
        "duration": 6,
        "start_time": "2022-10-01T20:42:08.215Z"
      },
      {
        "duration": 51,
        "start_time": "2022-10-01T20:48:08.402Z"
      },
      {
        "duration": 55,
        "start_time": "2022-10-01T20:50:32.028Z"
      },
      {
        "duration": 74,
        "start_time": "2022-10-01T20:51:00.281Z"
      },
      {
        "duration": 18,
        "start_time": "2022-10-01T20:51:12.669Z"
      },
      {
        "duration": 18,
        "start_time": "2022-10-01T20:51:56.814Z"
      },
      {
        "duration": 18,
        "start_time": "2022-10-01T20:52:08.228Z"
      },
      {
        "duration": 19,
        "start_time": "2022-10-01T20:52:39.991Z"
      },
      {
        "duration": 20,
        "start_time": "2022-10-01T20:52:49.631Z"
      },
      {
        "duration": 26,
        "start_time": "2022-10-01T20:55:15.042Z"
      },
      {
        "duration": 19,
        "start_time": "2022-10-01T20:56:08.333Z"
      },
      {
        "duration": 19,
        "start_time": "2022-10-01T20:56:17.724Z"
      },
      {
        "duration": 38,
        "start_time": "2022-10-01T20:57:05.714Z"
      },
      {
        "duration": 32,
        "start_time": "2022-10-01T20:59:02.623Z"
      },
      {
        "duration": 91,
        "start_time": "2022-10-01T21:00:03.731Z"
      },
      {
        "duration": 84,
        "start_time": "2022-10-01T21:00:22.735Z"
      },
      {
        "duration": 38,
        "start_time": "2022-10-01T21:00:45.135Z"
      },
      {
        "duration": 38,
        "start_time": "2022-10-01T21:01:45.483Z"
      },
      {
        "duration": 870,
        "start_time": "2022-10-01T21:18:33.267Z"
      },
      {
        "duration": 46,
        "start_time": "2022-10-01T21:18:53.643Z"
      },
      {
        "duration": 20,
        "start_time": "2022-10-01T21:24:14.782Z"
      },
      {
        "duration": 165,
        "start_time": "2022-10-01T21:29:51.711Z"
      },
      {
        "duration": 46,
        "start_time": "2022-10-01T21:30:14.782Z"
      },
      {
        "duration": 29,
        "start_time": "2022-10-01T21:30:42.330Z"
      },
      {
        "duration": 16,
        "start_time": "2022-10-01T21:38:37.003Z"
      },
      {
        "duration": 11,
        "start_time": "2022-10-01T21:43:27.996Z"
      },
      {
        "duration": 19,
        "start_time": "2022-10-01T21:44:29.196Z"
      },
      {
        "duration": 4,
        "start_time": "2022-10-01T21:44:38.230Z"
      },
      {
        "duration": 4,
        "start_time": "2022-10-01T21:44:52.334Z"
      },
      {
        "duration": 48,
        "start_time": "2022-10-01T21:45:11.294Z"
      },
      {
        "duration": 11,
        "start_time": "2022-10-01T21:47:21.615Z"
      },
      {
        "duration": 12,
        "start_time": "2022-10-01T21:47:45.990Z"
      },
      {
        "duration": 11,
        "start_time": "2022-10-01T21:49:42.287Z"
      },
      {
        "duration": 2785,
        "start_time": "2022-10-01T21:49:53.278Z"
      },
      {
        "duration": 10,
        "start_time": "2022-10-01T21:49:56.066Z"
      },
      {
        "duration": 27,
        "start_time": "2022-10-01T21:49:56.078Z"
      },
      {
        "duration": 23,
        "start_time": "2022-10-01T21:49:56.108Z"
      },
      {
        "duration": 26,
        "start_time": "2022-10-01T21:49:56.133Z"
      },
      {
        "duration": 261,
        "start_time": "2022-10-01T21:49:56.161Z"
      },
      {
        "duration": 66,
        "start_time": "2022-10-01T21:49:56.424Z"
      },
      {
        "duration": 106,
        "start_time": "2022-10-01T21:49:56.492Z"
      },
      {
        "duration": 85,
        "start_time": "2022-10-01T21:49:56.600Z"
      },
      {
        "duration": 673,
        "start_time": "2022-10-01T21:51:22.242Z"
      },
      {
        "duration": 2809,
        "start_time": "2022-10-01T21:52:12.838Z"
      },
      {
        "duration": 9,
        "start_time": "2022-10-01T21:52:15.649Z"
      },
      {
        "duration": 25,
        "start_time": "2022-10-01T21:52:15.660Z"
      },
      {
        "duration": 15,
        "start_time": "2022-10-01T21:52:15.687Z"
      },
      {
        "duration": 27,
        "start_time": "2022-10-01T21:52:15.704Z"
      },
      {
        "duration": 279,
        "start_time": "2022-10-01T21:52:15.732Z"
      },
      {
        "duration": 68,
        "start_time": "2022-10-01T21:52:16.013Z"
      },
      {
        "duration": 101,
        "start_time": "2022-10-01T21:52:16.082Z"
      },
      {
        "duration": 89,
        "start_time": "2022-10-01T21:52:16.184Z"
      },
      {
        "duration": 547,
        "start_time": "2022-10-01T21:52:45.493Z"
      },
      {
        "duration": 696,
        "start_time": "2022-10-01T21:56:54.992Z"
      },
      {
        "duration": 41,
        "start_time": "2022-10-01T21:57:01.125Z"
      },
      {
        "duration": 69,
        "start_time": "2022-10-01T21:58:00.850Z"
      },
      {
        "duration": 55,
        "start_time": "2022-10-01T21:59:47.993Z"
      },
      {
        "duration": 1970,
        "start_time": "2022-10-01T22:00:02.292Z"
      },
      {
        "duration": 874,
        "start_time": "2022-10-01T22:01:36.959Z"
      },
      {
        "duration": 2955,
        "start_time": "2022-10-01T22:01:45.124Z"
      },
      {
        "duration": 11,
        "start_time": "2022-10-01T22:01:48.083Z"
      },
      {
        "duration": 38,
        "start_time": "2022-10-01T22:01:48.096Z"
      },
      {
        "duration": 16,
        "start_time": "2022-10-01T22:01:48.136Z"
      },
      {
        "duration": 21,
        "start_time": "2022-10-01T22:01:48.154Z"
      },
      {
        "duration": 285,
        "start_time": "2022-10-01T22:01:48.177Z"
      },
      {
        "duration": 76,
        "start_time": "2022-10-01T22:01:48.464Z"
      },
      {
        "duration": 103,
        "start_time": "2022-10-01T22:01:48.542Z"
      },
      {
        "duration": 5,
        "start_time": "2022-10-01T22:01:48.647Z"
      },
      {
        "duration": 717,
        "start_time": "2022-10-01T22:02:03.495Z"
      },
      {
        "duration": 8,
        "start_time": "2022-10-01T22:03:16.382Z"
      },
      {
        "duration": 887,
        "start_time": "2022-10-01T22:03:24.271Z"
      },
      {
        "duration": 49,
        "start_time": "2022-10-02T06:36:57.807Z"
      },
      {
        "duration": 2573,
        "start_time": "2022-10-02T06:37:27.319Z"
      },
      {
        "duration": 8,
        "start_time": "2022-10-02T06:37:29.894Z"
      },
      {
        "duration": 25,
        "start_time": "2022-10-02T06:37:29.904Z"
      },
      {
        "duration": 13,
        "start_time": "2022-10-02T06:37:29.931Z"
      },
      {
        "duration": 13,
        "start_time": "2022-10-02T06:37:29.945Z"
      },
      {
        "duration": 225,
        "start_time": "2022-10-02T06:37:29.960Z"
      },
      {
        "duration": 65,
        "start_time": "2022-10-02T06:37:30.186Z"
      },
      {
        "duration": 158,
        "start_time": "2022-10-02T06:37:30.253Z"
      },
      {
        "duration": 9,
        "start_time": "2022-10-02T06:37:30.413Z"
      },
      {
        "duration": 1262,
        "start_time": "2022-10-02T06:37:38.387Z"
      },
      {
        "duration": 2433,
        "start_time": "2022-10-02T06:45:12.083Z"
      },
      {
        "duration": 8,
        "start_time": "2022-10-02T06:45:14.518Z"
      },
      {
        "duration": 61,
        "start_time": "2022-10-02T06:45:14.527Z"
      },
      {
        "duration": 16,
        "start_time": "2022-10-02T06:45:14.590Z"
      },
      {
        "duration": 31,
        "start_time": "2022-10-02T06:45:14.607Z"
      },
      {
        "duration": 230,
        "start_time": "2022-10-02T06:45:14.639Z"
      },
      {
        "duration": 58,
        "start_time": "2022-10-02T06:45:14.870Z"
      },
      {
        "duration": 78,
        "start_time": "2022-10-02T06:45:14.930Z"
      },
      {
        "duration": 4,
        "start_time": "2022-10-02T06:45:15.022Z"
      },
      {
        "duration": 12,
        "start_time": "2022-10-02T06:49:31.443Z"
      },
      {
        "duration": 2551,
        "start_time": "2022-10-02T06:54:00.589Z"
      },
      {
        "duration": 9,
        "start_time": "2022-10-02T06:54:03.142Z"
      },
      {
        "duration": 22,
        "start_time": "2022-10-02T06:54:03.152Z"
      },
      {
        "duration": 12,
        "start_time": "2022-10-02T06:54:03.176Z"
      },
      {
        "duration": 14,
        "start_time": "2022-10-02T06:54:03.189Z"
      },
      {
        "duration": 232,
        "start_time": "2022-10-02T06:54:03.204Z"
      },
      {
        "duration": 65,
        "start_time": "2022-10-02T06:54:03.438Z"
      },
      {
        "duration": 95,
        "start_time": "2022-10-02T06:54:03.505Z"
      },
      {
        "duration": 4,
        "start_time": "2022-10-02T06:54:03.602Z"
      },
      {
        "duration": 908,
        "start_time": "2022-10-02T06:54:27.563Z"
      },
      {
        "duration": 7,
        "start_time": "2022-10-02T06:54:44.397Z"
      },
      {
        "duration": 812,
        "start_time": "2022-10-02T06:57:20.326Z"
      },
      {
        "duration": 2378,
        "start_time": "2022-10-02T06:59:54.367Z"
      },
      {
        "duration": 9,
        "start_time": "2022-10-02T06:59:56.746Z"
      },
      {
        "duration": 21,
        "start_time": "2022-10-02T06:59:56.756Z"
      },
      {
        "duration": 17,
        "start_time": "2022-10-02T06:59:56.779Z"
      },
      {
        "duration": 13,
        "start_time": "2022-10-02T06:59:56.797Z"
      },
      {
        "duration": 235,
        "start_time": "2022-10-02T06:59:56.811Z"
      },
      {
        "duration": 55,
        "start_time": "2022-10-02T06:59:57.048Z"
      },
      {
        "duration": 93,
        "start_time": "2022-10-02T06:59:57.104Z"
      },
      {
        "duration": 4,
        "start_time": "2022-10-02T06:59:57.198Z"
      },
      {
        "duration": 7,
        "start_time": "2022-10-02T07:01:39.234Z"
      },
      {
        "duration": 925,
        "start_time": "2022-10-02T07:01:41.613Z"
      },
      {
        "duration": 6,
        "start_time": "2022-10-02T07:04:08.873Z"
      },
      {
        "duration": 1068,
        "start_time": "2022-10-02T07:10:29.150Z"
      },
      {
        "duration": 2427,
        "start_time": "2022-10-02T07:19:10.413Z"
      },
      {
        "duration": 8,
        "start_time": "2022-10-02T07:19:12.843Z"
      },
      {
        "duration": 29,
        "start_time": "2022-10-02T07:19:12.853Z"
      },
      {
        "duration": 13,
        "start_time": "2022-10-02T07:19:12.884Z"
      },
      {
        "duration": 8,
        "start_time": "2022-10-02T07:19:12.899Z"
      },
      {
        "duration": 18,
        "start_time": "2022-10-02T07:19:12.909Z"
      },
      {
        "duration": 228,
        "start_time": "2022-10-02T07:19:12.928Z"
      },
      {
        "duration": 56,
        "start_time": "2022-10-02T07:19:13.157Z"
      },
      {
        "duration": 78,
        "start_time": "2022-10-02T07:19:13.222Z"
      },
      {
        "duration": 3,
        "start_time": "2022-10-02T07:19:13.302Z"
      },
      {
        "duration": 1064,
        "start_time": "2022-10-02T07:19:21.778Z"
      },
      {
        "duration": 2746,
        "start_time": "2022-10-02T07:20:48.426Z"
      },
      {
        "duration": 10,
        "start_time": "2022-10-02T07:20:51.174Z"
      },
      {
        "duration": 24,
        "start_time": "2022-10-02T07:20:51.186Z"
      },
      {
        "duration": 14,
        "start_time": "2022-10-02T07:20:51.212Z"
      },
      {
        "duration": 11,
        "start_time": "2022-10-02T07:20:51.227Z"
      },
      {
        "duration": 18,
        "start_time": "2022-10-02T07:20:51.239Z"
      },
      {
        "duration": 230,
        "start_time": "2022-10-02T07:20:51.258Z"
      },
      {
        "duration": 65,
        "start_time": "2022-10-02T07:20:51.490Z"
      },
      {
        "duration": 89,
        "start_time": "2022-10-02T07:20:51.556Z"
      },
      {
        "duration": 3,
        "start_time": "2022-10-02T07:20:51.647Z"
      },
      {
        "duration": 944,
        "start_time": "2022-10-02T07:23:46.330Z"
      },
      {
        "duration": 44,
        "start_time": "2022-10-02T08:06:26.732Z"
      },
      {
        "duration": 2402,
        "start_time": "2022-10-02T08:06:35.338Z"
      },
      {
        "duration": 8,
        "start_time": "2022-10-02T08:06:37.742Z"
      },
      {
        "duration": 33,
        "start_time": "2022-10-02T08:06:37.751Z"
      },
      {
        "duration": 12,
        "start_time": "2022-10-02T08:06:37.787Z"
      },
      {
        "duration": 7,
        "start_time": "2022-10-02T08:06:37.801Z"
      },
      {
        "duration": 15,
        "start_time": "2022-10-02T08:06:37.810Z"
      },
      {
        "duration": 222,
        "start_time": "2022-10-02T08:06:37.826Z"
      },
      {
        "duration": 55,
        "start_time": "2022-10-02T08:06:38.050Z"
      },
      {
        "duration": 88,
        "start_time": "2022-10-02T08:06:38.106Z"
      },
      {
        "duration": 3,
        "start_time": "2022-10-02T08:06:38.197Z"
      },
      {
        "duration": 15,
        "start_time": "2022-10-02T08:07:31.365Z"
      },
      {
        "duration": 2293,
        "start_time": "2022-10-02T08:22:06.951Z"
      },
      {
        "duration": 8,
        "start_time": "2022-10-02T08:22:09.246Z"
      },
      {
        "duration": 20,
        "start_time": "2022-10-02T08:22:09.255Z"
      },
      {
        "duration": 12,
        "start_time": "2022-10-02T08:22:09.277Z"
      },
      {
        "duration": 7,
        "start_time": "2022-10-02T08:22:09.290Z"
      },
      {
        "duration": 28,
        "start_time": "2022-10-02T08:22:09.299Z"
      },
      {
        "duration": 222,
        "start_time": "2022-10-02T08:22:09.329Z"
      },
      {
        "duration": 55,
        "start_time": "2022-10-02T08:22:09.553Z"
      },
      {
        "duration": 85,
        "start_time": "2022-10-02T08:22:09.609Z"
      },
      {
        "duration": 3,
        "start_time": "2022-10-02T08:22:09.696Z"
      },
      {
        "duration": 1021,
        "start_time": "2022-10-02T08:22:18.686Z"
      },
      {
        "duration": 27,
        "start_time": "2022-10-02T12:04:59.809Z"
      },
      {
        "duration": 18,
        "start_time": "2022-10-02T12:05:43.294Z"
      },
      {
        "duration": 20,
        "start_time": "2022-10-02T12:06:03.359Z"
      },
      {
        "duration": 26,
        "start_time": "2022-10-02T12:07:02.278Z"
      },
      {
        "duration": 33,
        "start_time": "2022-10-02T12:07:15.540Z"
      },
      {
        "duration": 2407,
        "start_time": "2022-10-02T12:08:22.333Z"
      },
      {
        "duration": 9,
        "start_time": "2022-10-02T12:08:24.742Z"
      },
      {
        "duration": 28,
        "start_time": "2022-10-02T12:08:24.752Z"
      },
      {
        "duration": 12,
        "start_time": "2022-10-02T12:08:24.782Z"
      },
      {
        "duration": 7,
        "start_time": "2022-10-02T12:08:24.796Z"
      },
      {
        "duration": 23,
        "start_time": "2022-10-02T12:08:24.804Z"
      },
      {
        "duration": 233,
        "start_time": "2022-10-02T12:08:24.829Z"
      },
      {
        "duration": 63,
        "start_time": "2022-10-02T12:08:25.064Z"
      },
      {
        "duration": 81,
        "start_time": "2022-10-02T12:08:25.128Z"
      },
      {
        "duration": 4,
        "start_time": "2022-10-02T12:08:25.221Z"
      },
      {
        "duration": 67,
        "start_time": "2022-10-02T12:08:58.699Z"
      },
      {
        "duration": 50,
        "start_time": "2022-10-02T15:51:39.976Z"
      },
      {
        "duration": 6,
        "start_time": "2022-10-02T15:51:56.726Z"
      },
      {
        "duration": 2904,
        "start_time": "2022-10-02T15:52:03.281Z"
      },
      {
        "duration": 9,
        "start_time": "2022-10-02T15:52:06.187Z"
      },
      {
        "duration": 57,
        "start_time": "2022-10-02T15:52:06.197Z"
      },
      {
        "duration": 12,
        "start_time": "2022-10-02T15:52:06.255Z"
      },
      {
        "duration": 30,
        "start_time": "2022-10-02T15:52:06.269Z"
      },
      {
        "duration": 27,
        "start_time": "2022-10-02T15:52:06.301Z"
      },
      {
        "duration": 281,
        "start_time": "2022-10-02T15:52:06.330Z"
      },
      {
        "duration": 58,
        "start_time": "2022-10-02T15:52:06.613Z"
      },
      {
        "duration": 145,
        "start_time": "2022-10-02T15:52:06.672Z"
      },
      {
        "duration": 4,
        "start_time": "2022-10-02T15:52:06.819Z"
      },
      {
        "duration": 625,
        "start_time": "2022-10-02T15:52:16.637Z"
      },
      {
        "duration": 42,
        "start_time": "2022-10-02T19:43:56.812Z"
      },
      {
        "duration": 2919,
        "start_time": "2022-10-02T19:44:06.532Z"
      },
      {
        "duration": 11,
        "start_time": "2022-10-02T19:44:09.453Z"
      },
      {
        "duration": 34,
        "start_time": "2022-10-02T19:44:09.466Z"
      },
      {
        "duration": 14,
        "start_time": "2022-10-02T19:44:09.501Z"
      },
      {
        "duration": 7,
        "start_time": "2022-10-02T19:44:09.516Z"
      },
      {
        "duration": 11,
        "start_time": "2022-10-02T19:44:09.525Z"
      },
      {
        "duration": 250,
        "start_time": "2022-10-02T19:44:09.538Z"
      },
      {
        "duration": 65,
        "start_time": "2022-10-02T19:44:09.789Z"
      },
      {
        "duration": 176,
        "start_time": "2022-10-02T19:44:09.855Z"
      },
      {
        "duration": 4,
        "start_time": "2022-10-02T19:44:10.033Z"
      },
      {
        "duration": 709,
        "start_time": "2022-10-02T19:44:17.685Z"
      },
      {
        "duration": 3,
        "start_time": "2022-10-02T19:44:46.277Z"
      },
      {
        "duration": 3,
        "start_time": "2022-10-02T19:44:53.054Z"
      },
      {
        "duration": 17,
        "start_time": "2022-10-02T19:44:59.828Z"
      },
      {
        "duration": 14,
        "start_time": "2022-10-02T19:45:21.066Z"
      },
      {
        "duration": 15,
        "start_time": "2022-10-02T19:46:03.084Z"
      },
      {
        "duration": 12,
        "start_time": "2022-10-02T19:49:01.464Z"
      },
      {
        "duration": 15,
        "start_time": "2022-10-02T19:49:58.105Z"
      },
      {
        "duration": 12,
        "start_time": "2022-10-02T19:52:16.641Z"
      },
      {
        "duration": 14,
        "start_time": "2022-10-02T19:53:51.480Z"
      },
      {
        "duration": 48,
        "start_time": "2022-10-02T20:19:15.111Z"
      },
      {
        "duration": 59,
        "start_time": "2022-10-02T20:19:35.474Z"
      },
      {
        "duration": 17,
        "start_time": "2022-10-02T20:19:57.511Z"
      },
      {
        "duration": 194,
        "start_time": "2022-10-02T20:21:46.752Z"
      },
      {
        "duration": 2512,
        "start_time": "2022-10-02T20:22:17.267Z"
      },
      {
        "duration": 9,
        "start_time": "2022-10-02T20:22:19.781Z"
      },
      {
        "duration": 28,
        "start_time": "2022-10-02T20:22:19.792Z"
      },
      {
        "duration": 14,
        "start_time": "2022-10-02T20:22:19.822Z"
      },
      {
        "duration": 2,
        "start_time": "2022-10-02T20:22:19.838Z"
      },
      {
        "duration": 22,
        "start_time": "2022-10-02T20:22:19.841Z"
      },
      {
        "duration": 187,
        "start_time": "2022-10-02T20:22:19.865Z"
      },
      {
        "duration": 63,
        "start_time": "2022-10-02T20:22:20.054Z"
      },
      {
        "duration": 36,
        "start_time": "2022-10-02T20:22:20.118Z"
      },
      {
        "duration": 268,
        "start_time": "2022-10-02T20:22:20.156Z"
      },
      {
        "duration": 218,
        "start_time": "2022-10-02T20:24:04.269Z"
      },
      {
        "duration": 23,
        "start_time": "2022-10-02T20:25:37.551Z"
      },
      {
        "duration": 18,
        "start_time": "2022-10-02T20:32:28.511Z"
      },
      {
        "duration": 43,
        "start_time": "2022-10-02T20:33:27.451Z"
      },
      {
        "duration": 38,
        "start_time": "2022-10-02T20:34:57.906Z"
      },
      {
        "duration": 39,
        "start_time": "2022-10-02T20:35:23.270Z"
      },
      {
        "duration": 234,
        "start_time": "2022-10-02T20:36:05.670Z"
      },
      {
        "duration": 212,
        "start_time": "2022-10-02T20:36:47.567Z"
      },
      {
        "duration": 2531,
        "start_time": "2022-10-02T20:37:19.600Z"
      },
      {
        "duration": 9,
        "start_time": "2022-10-02T20:37:22.133Z"
      },
      {
        "duration": 29,
        "start_time": "2022-10-02T20:37:22.143Z"
      },
      {
        "duration": 13,
        "start_time": "2022-10-02T20:37:22.174Z"
      },
      {
        "duration": 2,
        "start_time": "2022-10-02T20:37:22.189Z"
      },
      {
        "duration": 18,
        "start_time": "2022-10-02T20:37:22.192Z"
      },
      {
        "duration": 185,
        "start_time": "2022-10-02T20:37:22.212Z"
      },
      {
        "duration": 61,
        "start_time": "2022-10-02T20:37:22.399Z"
      },
      {
        "duration": 45,
        "start_time": "2022-10-02T20:37:22.462Z"
      },
      {
        "duration": 243,
        "start_time": "2022-10-02T20:37:22.509Z"
      },
      {
        "duration": 222,
        "start_time": "2022-10-02T20:38:02.492Z"
      },
      {
        "duration": 224,
        "start_time": "2022-10-02T20:41:53.333Z"
      },
      {
        "duration": 74,
        "start_time": "2022-10-02T20:42:11.178Z"
      },
      {
        "duration": 219,
        "start_time": "2022-10-02T20:42:18.631Z"
      },
      {
        "duration": 25,
        "start_time": "2022-10-02T20:45:09.315Z"
      },
      {
        "duration": 1844,
        "start_time": "2022-10-02T20:53:51.161Z"
      },
      {
        "duration": 928,
        "start_time": "2022-10-02T20:54:06.380Z"
      },
      {
        "duration": 962,
        "start_time": "2022-10-02T20:55:17.033Z"
      },
      {
        "duration": 1072,
        "start_time": "2022-10-02T20:55:38.681Z"
      },
      {
        "duration": 1009,
        "start_time": "2022-10-02T20:56:03.953Z"
      },
      {
        "duration": 253,
        "start_time": "2022-10-02T20:56:34.439Z"
      },
      {
        "duration": 46,
        "start_time": "2022-10-03T10:27:08.132Z"
      },
      {
        "duration": 2998,
        "start_time": "2022-10-03T10:27:13.869Z"
      },
      {
        "duration": 9,
        "start_time": "2022-10-03T10:27:16.869Z"
      },
      {
        "duration": 28,
        "start_time": "2022-10-03T10:27:16.880Z"
      },
      {
        "duration": 14,
        "start_time": "2022-10-03T10:27:16.909Z"
      },
      {
        "duration": 2,
        "start_time": "2022-10-03T10:27:16.925Z"
      },
      {
        "duration": 11,
        "start_time": "2022-10-03T10:27:16.929Z"
      },
      {
        "duration": 200,
        "start_time": "2022-10-03T10:27:16.942Z"
      },
      {
        "duration": 63,
        "start_time": "2022-10-03T10:27:17.144Z"
      },
      {
        "duration": 35,
        "start_time": "2022-10-03T10:27:17.209Z"
      },
      {
        "duration": 255,
        "start_time": "2022-10-03T10:27:17.245Z"
      },
      {
        "duration": 66,
        "start_time": "2022-10-03T10:27:17.502Z"
      },
      {
        "duration": 139,
        "start_time": "2022-10-03T10:28:04.200Z"
      },
      {
        "duration": 112,
        "start_time": "2022-10-03T10:30:19.232Z"
      },
      {
        "duration": 105,
        "start_time": "2022-10-03T10:33:59.884Z"
      },
      {
        "duration": 104,
        "start_time": "2022-10-03T10:36:49.490Z"
      },
      {
        "duration": 2469,
        "start_time": "2022-10-03T10:36:57.874Z"
      },
      {
        "duration": 8,
        "start_time": "2022-10-03T10:37:00.345Z"
      },
      {
        "duration": 54,
        "start_time": "2022-10-03T10:37:00.355Z"
      },
      {
        "duration": 13,
        "start_time": "2022-10-03T10:37:00.410Z"
      },
      {
        "duration": 4,
        "start_time": "2022-10-03T10:37:00.425Z"
      },
      {
        "duration": 36,
        "start_time": "2022-10-03T10:37:00.431Z"
      },
      {
        "duration": 196,
        "start_time": "2022-10-03T10:37:00.469Z"
      },
      {
        "duration": 65,
        "start_time": "2022-10-03T10:37:00.667Z"
      },
      {
        "duration": 45,
        "start_time": "2022-10-03T10:37:00.733Z"
      },
      {
        "duration": 235,
        "start_time": "2022-10-03T10:37:00.779Z"
      },
      {
        "duration": 175,
        "start_time": "2022-10-03T10:37:01.016Z"
      },
      {
        "duration": 246,
        "start_time": "2022-10-03T10:38:32.685Z"
      },
      {
        "duration": 7,
        "start_time": "2022-10-03T10:48:50.707Z"
      },
      {
        "duration": 14,
        "start_time": "2022-10-03T10:49:03.379Z"
      },
      {
        "duration": 362,
        "start_time": "2022-10-03T10:49:23.994Z"
      },
      {
        "duration": 2573,
        "start_time": "2022-10-03T10:49:40.362Z"
      },
      {
        "duration": 8,
        "start_time": "2022-10-03T10:49:42.937Z"
      },
      {
        "duration": 28,
        "start_time": "2022-10-03T10:49:42.947Z"
      },
      {
        "duration": 16,
        "start_time": "2022-10-03T10:49:42.977Z"
      },
      {
        "duration": 7,
        "start_time": "2022-10-03T10:49:42.995Z"
      },
      {
        "duration": 12,
        "start_time": "2022-10-03T10:49:43.004Z"
      },
      {
        "duration": 227,
        "start_time": "2022-10-03T10:49:43.018Z"
      },
      {
        "duration": 66,
        "start_time": "2022-10-03T10:49:43.247Z"
      },
      {
        "duration": 86,
        "start_time": "2022-10-03T10:49:43.315Z"
      },
      {
        "duration": 75,
        "start_time": "2022-10-03T10:49:43.403Z"
      },
      {
        "duration": 0,
        "start_time": "2022-10-03T10:49:43.481Z"
      },
      {
        "duration": 1798,
        "start_time": "2022-10-03T10:50:15.513Z"
      },
      {
        "duration": 813,
        "start_time": "2022-10-03T10:50:58.880Z"
      },
      {
        "duration": 218,
        "start_time": "2022-10-03T10:51:37.158Z"
      },
      {
        "duration": 2226,
        "start_time": "2022-10-03T10:51:47.858Z"
      },
      {
        "duration": 2260,
        "start_time": "2022-10-03T10:52:00.226Z"
      },
      {
        "duration": 2319,
        "start_time": "2022-10-03T10:52:10.922Z"
      },
      {
        "duration": 1863,
        "start_time": "2022-10-03T10:52:37.869Z"
      },
      {
        "duration": 2461,
        "start_time": "2022-10-03T10:53:18.182Z"
      },
      {
        "duration": 8,
        "start_time": "2022-10-03T10:53:20.645Z"
      },
      {
        "duration": 41,
        "start_time": "2022-10-03T10:53:20.655Z"
      },
      {
        "duration": 13,
        "start_time": "2022-10-03T10:53:20.697Z"
      },
      {
        "duration": 11,
        "start_time": "2022-10-03T10:53:20.712Z"
      },
      {
        "duration": 42,
        "start_time": "2022-10-03T10:53:20.725Z"
      },
      {
        "duration": 190,
        "start_time": "2022-10-03T10:53:20.769Z"
      },
      {
        "duration": 64,
        "start_time": "2022-10-03T10:53:20.961Z"
      },
      {
        "duration": 32,
        "start_time": "2022-10-03T10:53:21.027Z"
      },
      {
        "duration": 238,
        "start_time": "2022-10-03T10:53:21.061Z"
      },
      {
        "duration": 1897,
        "start_time": "2022-10-03T10:53:21.301Z"
      },
      {
        "duration": 110,
        "start_time": "2022-10-03T10:54:53.839Z"
      },
      {
        "duration": 113,
        "start_time": "2022-10-03T10:56:25.619Z"
      },
      {
        "duration": 112,
        "start_time": "2022-10-03T10:56:43.796Z"
      },
      {
        "duration": 104,
        "start_time": "2022-10-03T10:56:46.630Z"
      },
      {
        "duration": 2116,
        "start_time": "2022-10-03T10:56:53.103Z"
      },
      {
        "duration": 2348,
        "start_time": "2022-10-03T11:00:22.120Z"
      },
      {
        "duration": 2982,
        "start_time": "2022-10-03T11:00:36.410Z"
      },
      {
        "duration": 836,
        "start_time": "2022-10-03T11:02:19.042Z"
      },
      {
        "duration": 2590,
        "start_time": "2022-10-03T11:03:10.441Z"
      },
      {
        "duration": 9,
        "start_time": "2022-10-03T11:03:13.033Z"
      },
      {
        "duration": 33,
        "start_time": "2022-10-03T11:03:13.043Z"
      },
      {
        "duration": 13,
        "start_time": "2022-10-03T11:03:13.078Z"
      },
      {
        "duration": 2,
        "start_time": "2022-10-03T11:03:13.093Z"
      },
      {
        "duration": 13,
        "start_time": "2022-10-03T11:03:13.096Z"
      },
      {
        "duration": 167,
        "start_time": "2022-10-03T11:03:13.110Z"
      },
      {
        "duration": 70,
        "start_time": "2022-10-03T11:03:13.279Z"
      },
      {
        "duration": 35,
        "start_time": "2022-10-03T11:03:13.351Z"
      },
      {
        "duration": 248,
        "start_time": "2022-10-03T11:03:13.388Z"
      },
      {
        "duration": 907,
        "start_time": "2022-10-03T11:03:13.638Z"
      },
      {
        "duration": 677,
        "start_time": "2022-10-03T11:04:14.781Z"
      },
      {
        "duration": 228,
        "start_time": "2022-10-03T11:09:39.224Z"
      },
      {
        "duration": 225,
        "start_time": "2022-10-03T11:10:32.743Z"
      },
      {
        "duration": 214,
        "start_time": "2022-10-03T11:10:48.631Z"
      },
      {
        "duration": 10,
        "start_time": "2022-10-03T11:11:08.312Z"
      },
      {
        "duration": 196,
        "start_time": "2022-10-03T11:12:02.648Z"
      },
      {
        "duration": 210,
        "start_time": "2022-10-03T11:12:13.680Z"
      },
      {
        "duration": 208,
        "start_time": "2022-10-03T11:12:18.889Z"
      },
      {
        "duration": 200,
        "start_time": "2022-10-03T11:12:43.781Z"
      },
      {
        "duration": 825,
        "start_time": "2022-10-03T11:13:12.331Z"
      },
      {
        "duration": 815,
        "start_time": "2022-10-03T11:14:54.434Z"
      },
      {
        "duration": 838,
        "start_time": "2022-10-03T11:15:29.006Z"
      },
      {
        "duration": 3272,
        "start_time": "2022-10-03T11:16:20.796Z"
      },
      {
        "duration": 961,
        "start_time": "2022-10-03T11:18:41.279Z"
      },
      {
        "duration": 988,
        "start_time": "2022-10-03T11:19:50.192Z"
      },
      {
        "duration": 1849,
        "start_time": "2022-10-03T11:19:54.695Z"
      },
      {
        "duration": 2966,
        "start_time": "2022-10-03T11:25:41.965Z"
      },
      {
        "duration": 1813,
        "start_time": "2022-10-03T11:39:21.191Z"
      },
      {
        "duration": 2628,
        "start_time": "2022-10-03T11:39:32.279Z"
      },
      {
        "duration": 8,
        "start_time": "2022-10-03T11:39:34.909Z"
      },
      {
        "duration": 28,
        "start_time": "2022-10-03T11:39:34.919Z"
      },
      {
        "duration": 13,
        "start_time": "2022-10-03T11:39:34.948Z"
      },
      {
        "duration": 2,
        "start_time": "2022-10-03T11:39:34.962Z"
      },
      {
        "duration": 15,
        "start_time": "2022-10-03T11:39:34.966Z"
      },
      {
        "duration": 185,
        "start_time": "2022-10-03T11:39:34.983Z"
      },
      {
        "duration": 64,
        "start_time": "2022-10-03T11:39:35.170Z"
      },
      {
        "duration": 34,
        "start_time": "2022-10-03T11:39:35.235Z"
      },
      {
        "duration": 257,
        "start_time": "2022-10-03T11:39:35.270Z"
      },
      {
        "duration": 2027,
        "start_time": "2022-10-03T11:39:35.529Z"
      },
      {
        "duration": 2117,
        "start_time": "2022-10-03T11:40:38.188Z"
      },
      {
        "duration": 1299,
        "start_time": "2022-10-03T11:43:47.501Z"
      },
      {
        "duration": 1331,
        "start_time": "2022-10-03T11:48:15.380Z"
      },
      {
        "duration": 2507,
        "start_time": "2022-10-03T11:51:36.253Z"
      },
      {
        "duration": 2338,
        "start_time": "2022-10-03T11:56:22.840Z"
      },
      {
        "duration": 2576,
        "start_time": "2022-10-03T11:56:28.892Z"
      },
      {
        "duration": 2269,
        "start_time": "2022-10-03T11:56:58.926Z"
      },
      {
        "duration": 1693,
        "start_time": "2022-10-03T11:57:59.280Z"
      },
      {
        "duration": 1710,
        "start_time": "2022-10-03T11:58:17.539Z"
      },
      {
        "duration": 2136,
        "start_time": "2022-10-03T12:02:08.175Z"
      },
      {
        "duration": 1762,
        "start_time": "2022-10-03T12:02:21.949Z"
      },
      {
        "duration": 1825,
        "start_time": "2022-10-03T12:02:27.261Z"
      },
      {
        "duration": 1845,
        "start_time": "2022-10-03T12:11:19.040Z"
      },
      {
        "duration": 3261,
        "start_time": "2022-10-03T12:11:28.920Z"
      },
      {
        "duration": 1773,
        "start_time": "2022-10-03T12:11:42.283Z"
      },
      {
        "duration": 3372,
        "start_time": "2022-10-03T12:12:16.922Z"
      },
      {
        "duration": 3310,
        "start_time": "2022-10-03T12:16:49.501Z"
      },
      {
        "duration": 3734,
        "start_time": "2022-10-03T12:17:02.786Z"
      },
      {
        "duration": 3599,
        "start_time": "2022-10-03T12:17:42.144Z"
      },
      {
        "duration": 3565,
        "start_time": "2022-10-03T12:18:40.649Z"
      },
      {
        "duration": 3445,
        "start_time": "2022-10-03T12:18:53.491Z"
      },
      {
        "duration": 3479,
        "start_time": "2022-10-03T12:22:34.413Z"
      },
      {
        "duration": 3637,
        "start_time": "2022-10-03T12:22:46.338Z"
      },
      {
        "duration": 3480,
        "start_time": "2022-10-03T12:22:55.885Z"
      },
      {
        "duration": 3553,
        "start_time": "2022-10-03T12:27:52.995Z"
      },
      {
        "duration": 3357,
        "start_time": "2022-10-03T12:28:05.519Z"
      },
      {
        "duration": 3478,
        "start_time": "2022-10-03T12:28:31.723Z"
      },
      {
        "duration": 3286,
        "start_time": "2022-10-03T12:30:25.127Z"
      },
      {
        "duration": 3617,
        "start_time": "2022-10-03T12:30:44.747Z"
      },
      {
        "duration": 3300,
        "start_time": "2022-10-03T12:31:45.098Z"
      },
      {
        "duration": 3426,
        "start_time": "2022-10-03T12:32:14.499Z"
      },
      {
        "duration": 3200,
        "start_time": "2022-10-03T12:32:30.777Z"
      },
      {
        "duration": 3182,
        "start_time": "2022-10-03T12:34:15.474Z"
      },
      {
        "duration": 3292,
        "start_time": "2022-10-03T12:35:06.636Z"
      },
      {
        "duration": 3238,
        "start_time": "2022-10-03T12:35:27.291Z"
      },
      {
        "duration": 3460,
        "start_time": "2022-10-03T12:36:21.136Z"
      },
      {
        "duration": 3176,
        "start_time": "2022-10-03T12:36:44.923Z"
      },
      {
        "duration": 3218,
        "start_time": "2022-10-03T12:37:01.307Z"
      },
      {
        "duration": 3223,
        "start_time": "2022-10-03T12:40:12.958Z"
      },
      {
        "duration": 3151,
        "start_time": "2022-10-03T12:40:36.560Z"
      },
      {
        "duration": 3179,
        "start_time": "2022-10-03T12:41:22.726Z"
      },
      {
        "duration": 3040,
        "start_time": "2022-10-03T12:42:45.606Z"
      },
      {
        "duration": 3016,
        "start_time": "2022-10-03T12:43:03.611Z"
      },
      {
        "duration": 2922,
        "start_time": "2022-10-03T12:43:20.581Z"
      },
      {
        "duration": 3100,
        "start_time": "2022-10-03T12:44:28.531Z"
      },
      {
        "duration": 2842,
        "start_time": "2022-10-03T13:13:54.117Z"
      },
      {
        "duration": 2912,
        "start_time": "2022-10-03T13:14:14.030Z"
      },
      {
        "duration": 2912,
        "start_time": "2022-10-03T13:15:32.331Z"
      },
      {
        "duration": 2870,
        "start_time": "2022-10-03T13:15:56.464Z"
      },
      {
        "duration": 2886,
        "start_time": "2022-10-03T13:16:26.088Z"
      },
      {
        "duration": 2885,
        "start_time": "2022-10-03T13:19:46.628Z"
      },
      {
        "duration": 2871,
        "start_time": "2022-10-03T13:21:05.981Z"
      },
      {
        "duration": 2906,
        "start_time": "2022-10-03T13:23:58.608Z"
      },
      {
        "duration": 2920,
        "start_time": "2022-10-03T13:24:18.996Z"
      },
      {
        "duration": 242,
        "start_time": "2022-10-03T13:39:10.146Z"
      },
      {
        "duration": 259,
        "start_time": "2022-10-03T13:39:27.283Z"
      },
      {
        "duration": 259,
        "start_time": "2022-10-03T13:40:16.772Z"
      },
      {
        "duration": 162,
        "start_time": "2022-10-03T13:40:22.919Z"
      },
      {
        "duration": 267,
        "start_time": "2022-10-03T13:40:30.061Z"
      },
      {
        "duration": 264,
        "start_time": "2022-10-03T13:40:51.519Z"
      },
      {
        "duration": 288,
        "start_time": "2022-10-03T13:41:02.396Z"
      },
      {
        "duration": 368,
        "start_time": "2022-10-03T13:41:09.215Z"
      },
      {
        "duration": 296,
        "start_time": "2022-10-03T13:41:17.233Z"
      },
      {
        "duration": 251,
        "start_time": "2022-10-03T13:41:25.516Z"
      },
      {
        "duration": 286,
        "start_time": "2022-10-03T13:41:54.879Z"
      },
      {
        "duration": 289,
        "start_time": "2022-10-03T13:42:01.000Z"
      },
      {
        "duration": 187,
        "start_time": "2022-10-03T13:42:06.803Z"
      },
      {
        "duration": 228,
        "start_time": "2022-10-03T13:42:18.363Z"
      },
      {
        "duration": 324,
        "start_time": "2022-10-03T13:42:32.765Z"
      },
      {
        "duration": 279,
        "start_time": "2022-10-03T13:43:05.456Z"
      },
      {
        "duration": 40,
        "start_time": "2022-10-03T13:44:00.177Z"
      },
      {
        "duration": 140,
        "start_time": "2022-10-03T13:47:19.727Z"
      },
      {
        "duration": 135,
        "start_time": "2022-10-03T13:47:58.440Z"
      },
      {
        "duration": 138,
        "start_time": "2022-10-03T13:48:49.680Z"
      },
      {
        "duration": 165,
        "start_time": "2022-10-03T13:49:24.118Z"
      },
      {
        "duration": 2381,
        "start_time": "2022-10-03T13:49:45.050Z"
      },
      {
        "duration": 10,
        "start_time": "2022-10-03T13:49:47.433Z"
      },
      {
        "duration": 130,
        "start_time": "2022-10-03T13:49:47.445Z"
      },
      {
        "duration": 31,
        "start_time": "2022-10-03T13:49:47.576Z"
      },
      {
        "duration": 12,
        "start_time": "2022-10-03T13:49:47.610Z"
      },
      {
        "duration": 2,
        "start_time": "2022-10-03T13:49:47.623Z"
      },
      {
        "duration": 11,
        "start_time": "2022-10-03T13:49:47.626Z"
      },
      {
        "duration": 207,
        "start_time": "2022-10-03T13:49:47.639Z"
      },
      {
        "duration": 65,
        "start_time": "2022-10-03T13:49:47.847Z"
      },
      {
        "duration": 36,
        "start_time": "2022-10-03T13:49:47.914Z"
      },
      {
        "duration": 236,
        "start_time": "2022-10-03T13:49:47.952Z"
      },
      {
        "duration": 2962,
        "start_time": "2022-10-03T13:49:48.189Z"
      },
      {
        "duration": 316,
        "start_time": "2022-10-03T13:49:51.154Z"
      },
      {
        "duration": 117,
        "start_time": "2022-10-03T13:50:00.812Z"
      },
      {
        "duration": 128,
        "start_time": "2022-10-03T13:50:06.122Z"
      },
      {
        "duration": 2673,
        "start_time": "2022-10-03T14:00:35.638Z"
      },
      {
        "duration": 9,
        "start_time": "2022-10-03T14:00:38.313Z"
      },
      {
        "duration": 90,
        "start_time": "2022-10-03T14:00:38.323Z"
      },
      {
        "duration": 0,
        "start_time": "2022-10-03T14:00:38.415Z"
      },
      {
        "duration": 0,
        "start_time": "2022-10-03T14:00:38.416Z"
      },
      {
        "duration": 0,
        "start_time": "2022-10-03T14:00:38.418Z"
      },
      {
        "duration": 0,
        "start_time": "2022-10-03T14:00:38.419Z"
      },
      {
        "duration": 0,
        "start_time": "2022-10-03T14:00:38.419Z"
      },
      {
        "duration": 0,
        "start_time": "2022-10-03T14:00:38.421Z"
      },
      {
        "duration": 0,
        "start_time": "2022-10-03T14:00:38.421Z"
      },
      {
        "duration": 0,
        "start_time": "2022-10-03T14:00:38.422Z"
      },
      {
        "duration": 0,
        "start_time": "2022-10-03T14:00:38.423Z"
      },
      {
        "duration": 0,
        "start_time": "2022-10-03T14:00:38.424Z"
      },
      {
        "duration": 14,
        "start_time": "2022-10-03T14:00:53.132Z"
      },
      {
        "duration": 151,
        "start_time": "2022-10-03T14:01:17.726Z"
      },
      {
        "duration": 1574,
        "start_time": "2022-10-03T14:01:33.443Z"
      },
      {
        "duration": 1695,
        "start_time": "2022-10-03T14:03:11.255Z"
      },
      {
        "duration": 3216,
        "start_time": "2022-10-03T14:04:01.606Z"
      },
      {
        "duration": 2464,
        "start_time": "2022-10-03T14:04:46.143Z"
      },
      {
        "duration": 9,
        "start_time": "2022-10-03T14:04:48.609Z"
      },
      {
        "duration": 1536,
        "start_time": "2022-10-03T14:04:48.620Z"
      },
      {
        "duration": 30,
        "start_time": "2022-10-03T14:04:50.158Z"
      },
      {
        "duration": 13,
        "start_time": "2022-10-03T14:04:50.200Z"
      },
      {
        "duration": 2,
        "start_time": "2022-10-03T14:04:50.215Z"
      },
      {
        "duration": 12,
        "start_time": "2022-10-03T14:04:50.218Z"
      },
      {
        "duration": 201,
        "start_time": "2022-10-03T14:04:50.231Z"
      },
      {
        "duration": 60,
        "start_time": "2022-10-03T14:04:50.434Z"
      },
      {
        "duration": 37,
        "start_time": "2022-10-03T14:04:50.501Z"
      },
      {
        "duration": 246,
        "start_time": "2022-10-03T14:04:50.540Z"
      },
      {
        "duration": 2980,
        "start_time": "2022-10-03T14:04:50.787Z"
      },
      {
        "duration": 286,
        "start_time": "2022-10-03T14:04:53.769Z"
      },
      {
        "duration": 138,
        "start_time": "2022-10-03T14:06:28.340Z"
      },
      {
        "duration": 294,
        "start_time": "2022-10-03T14:06:53.457Z"
      },
      {
        "duration": 280,
        "start_time": "2022-10-03T14:07:28.852Z"
      },
      {
        "duration": 336,
        "start_time": "2022-10-03T14:08:17.943Z"
      },
      {
        "duration": 283,
        "start_time": "2022-10-03T14:08:29.269Z"
      },
      {
        "duration": 185,
        "start_time": "2022-10-03T14:08:45.798Z"
      },
      {
        "duration": 138,
        "start_time": "2022-10-03T14:09:00.433Z"
      },
      {
        "duration": 367,
        "start_time": "2022-10-03T14:09:04.055Z"
      },
      {
        "duration": 300,
        "start_time": "2022-10-03T14:09:14.204Z"
      },
      {
        "duration": 309,
        "start_time": "2022-10-03T14:09:22.400Z"
      },
      {
        "duration": 239,
        "start_time": "2022-10-03T14:09:31.730Z"
      },
      {
        "duration": 249,
        "start_time": "2022-10-03T14:10:42.943Z"
      },
      {
        "duration": 2897,
        "start_time": "2022-10-03T14:20:18.150Z"
      },
      {
        "duration": 3023,
        "start_time": "2022-10-03T14:20:35.754Z"
      },
      {
        "duration": 10,
        "start_time": "2022-10-03T19:04:12.803Z"
      },
      {
        "duration": 2883,
        "start_time": "2022-10-03T19:04:27.276Z"
      },
      {
        "duration": 12,
        "start_time": "2022-10-03T19:04:30.161Z"
      },
      {
        "duration": 45,
        "start_time": "2022-10-03T19:04:30.174Z"
      },
      {
        "duration": 16,
        "start_time": "2022-10-03T19:04:30.221Z"
      },
      {
        "duration": 8,
        "start_time": "2022-10-03T19:04:30.239Z"
      },
      {
        "duration": 11,
        "start_time": "2022-10-03T19:04:30.249Z"
      },
      {
        "duration": 285,
        "start_time": "2022-10-03T19:04:30.261Z"
      },
      {
        "duration": 86,
        "start_time": "2022-10-03T19:04:30.548Z"
      },
      {
        "duration": 115,
        "start_time": "2022-10-03T19:04:30.636Z"
      },
      {
        "duration": 295,
        "start_time": "2022-10-03T19:04:30.754Z"
      },
      {
        "duration": 3494,
        "start_time": "2022-10-03T19:04:31.050Z"
      },
      {
        "duration": 458,
        "start_time": "2022-10-03T19:04:34.546Z"
      },
      {
        "duration": 776,
        "start_time": "2022-10-03T19:04:37.442Z"
      },
      {
        "duration": 689,
        "start_time": "2022-10-03T19:06:53.528Z"
      },
      {
        "duration": 5,
        "start_time": "2022-10-03T19:07:10.256Z"
      },
      {
        "duration": 2,
        "start_time": "2022-10-03T19:07:26.416Z"
      },
      {
        "duration": 15,
        "start_time": "2022-10-03T19:28:18.833Z"
      },
      {
        "duration": 13,
        "start_time": "2022-10-03T19:28:41.292Z"
      },
      {
        "duration": 16,
        "start_time": "2022-10-03T19:36:39.674Z"
      },
      {
        "duration": 18,
        "start_time": "2022-10-03T19:36:56.680Z"
      },
      {
        "duration": 736,
        "start_time": "2022-10-03T19:39:57.920Z"
      },
      {
        "duration": 13,
        "start_time": "2022-10-03T19:41:09.900Z"
      },
      {
        "duration": 791,
        "start_time": "2022-10-03T19:41:24.092Z"
      },
      {
        "duration": 2551,
        "start_time": "2022-10-03T19:41:53.960Z"
      },
      {
        "duration": 9,
        "start_time": "2022-10-03T19:41:56.513Z"
      },
      {
        "duration": 31,
        "start_time": "2022-10-03T19:41:56.524Z"
      },
      {
        "duration": 13,
        "start_time": "2022-10-03T19:41:56.557Z"
      },
      {
        "duration": 2,
        "start_time": "2022-10-03T19:41:56.572Z"
      },
      {
        "duration": 32,
        "start_time": "2022-10-03T19:41:56.576Z"
      },
      {
        "duration": 195,
        "start_time": "2022-10-03T19:41:56.610Z"
      },
      {
        "duration": 63,
        "start_time": "2022-10-03T19:41:56.806Z"
      },
      {
        "duration": 52,
        "start_time": "2022-10-03T19:41:56.870Z"
      },
      {
        "duration": 243,
        "start_time": "2022-10-03T19:41:56.924Z"
      },
      {
        "duration": 3056,
        "start_time": "2022-10-03T19:41:57.168Z"
      },
      {
        "duration": 249,
        "start_time": "2022-10-03T19:42:00.226Z"
      },
      {
        "duration": 1011,
        "start_time": "2022-10-03T19:42:00.476Z"
      },
      {
        "duration": 128,
        "start_time": "2022-10-03T19:42:17.550Z"
      },
      {
        "duration": 127,
        "start_time": "2022-10-03T19:42:53.076Z"
      },
      {
        "duration": 979,
        "start_time": "2022-10-03T19:44:42.728Z"
      },
      {
        "duration": 2533,
        "start_time": "2022-10-03T19:45:26.446Z"
      },
      {
        "duration": 12,
        "start_time": "2022-10-03T19:45:28.982Z"
      },
      {
        "duration": 53,
        "start_time": "2022-10-03T19:45:28.996Z"
      },
      {
        "duration": 13,
        "start_time": "2022-10-03T19:45:29.051Z"
      },
      {
        "duration": 2,
        "start_time": "2022-10-03T19:45:29.067Z"
      },
      {
        "duration": 22,
        "start_time": "2022-10-03T19:45:29.071Z"
      },
      {
        "duration": 211,
        "start_time": "2022-10-03T19:45:29.095Z"
      },
      {
        "duration": 62,
        "start_time": "2022-10-03T19:45:29.307Z"
      },
      {
        "duration": 55,
        "start_time": "2022-10-03T19:45:29.371Z"
      },
      {
        "duration": 240,
        "start_time": "2022-10-03T19:45:29.428Z"
      },
      {
        "duration": 3108,
        "start_time": "2022-10-03T19:45:29.670Z"
      },
      {
        "duration": 271,
        "start_time": "2022-10-03T19:45:32.779Z"
      },
      {
        "duration": 0,
        "start_time": "2022-10-03T19:45:33.976Z"
      },
      {
        "duration": 908,
        "start_time": "2022-10-03T19:45:42.715Z"
      },
      {
        "duration": 979,
        "start_time": "2022-10-03T19:46:45.551Z"
      },
      {
        "duration": 906,
        "start_time": "2022-10-03T19:47:32.291Z"
      },
      {
        "duration": 226,
        "start_time": "2022-10-03T19:48:50.279Z"
      },
      {
        "duration": 123,
        "start_time": "2022-10-03T19:51:14.858Z"
      },
      {
        "duration": 167,
        "start_time": "2022-10-03T19:51:36.846Z"
      },
      {
        "duration": 136,
        "start_time": "2022-10-03T19:51:50.507Z"
      },
      {
        "duration": 135,
        "start_time": "2022-10-03T19:52:39.834Z"
      },
      {
        "duration": 127,
        "start_time": "2022-10-03T19:53:15.678Z"
      },
      {
        "duration": 132,
        "start_time": "2022-10-03T19:55:24.239Z"
      },
      {
        "duration": 291,
        "start_time": "2022-10-03T20:01:35.040Z"
      },
      {
        "duration": 287,
        "start_time": "2022-10-03T20:02:46.868Z"
      },
      {
        "duration": 155,
        "start_time": "2022-10-03T20:04:13.631Z"
      },
      {
        "duration": 133,
        "start_time": "2022-10-03T20:04:21.224Z"
      },
      {
        "duration": 136,
        "start_time": "2022-10-03T20:06:32.535Z"
      },
      {
        "duration": 125,
        "start_time": "2022-10-03T20:07:01.159Z"
      },
      {
        "duration": 139,
        "start_time": "2022-10-03T20:08:17.031Z"
      },
      {
        "duration": 214,
        "start_time": "2022-10-03T20:10:23.417Z"
      },
      {
        "duration": 15,
        "start_time": "2022-10-03T20:11:50.931Z"
      },
      {
        "duration": 470,
        "start_time": "2022-10-03T20:12:17.130Z"
      },
      {
        "duration": 131,
        "start_time": "2022-10-03T20:15:35.518Z"
      },
      {
        "duration": 149,
        "start_time": "2022-10-03T20:22:07.699Z"
      },
      {
        "duration": 132,
        "start_time": "2022-10-03T20:22:22.686Z"
      },
      {
        "duration": 13,
        "start_time": "2022-10-03T20:44:15.963Z"
      },
      {
        "duration": 10,
        "start_time": "2022-10-03T20:44:30.033Z"
      },
      {
        "duration": 5,
        "start_time": "2022-10-03T20:45:13.335Z"
      },
      {
        "duration": 10,
        "start_time": "2022-10-03T20:45:35.323Z"
      },
      {
        "duration": 15,
        "start_time": "2022-10-03T20:45:53.872Z"
      },
      {
        "duration": 5,
        "start_time": "2022-10-03T20:48:03.533Z"
      },
      {
        "duration": 16,
        "start_time": "2022-10-03T20:52:02.428Z"
      },
      {
        "duration": 24,
        "start_time": "2022-10-03T20:52:30.991Z"
      },
      {
        "duration": 22,
        "start_time": "2022-10-03T20:53:53.464Z"
      },
      {
        "duration": 27,
        "start_time": "2022-10-03T20:54:13.163Z"
      },
      {
        "duration": 26,
        "start_time": "2022-10-03T20:54:45.363Z"
      },
      {
        "duration": 26,
        "start_time": "2022-10-03T20:55:06.195Z"
      },
      {
        "duration": 21,
        "start_time": "2022-10-03T20:55:26.824Z"
      },
      {
        "duration": 30,
        "start_time": "2022-10-03T20:57:27.904Z"
      },
      {
        "duration": 20,
        "start_time": "2022-10-03T20:58:57.603Z"
      },
      {
        "duration": 21,
        "start_time": "2022-10-03T20:59:17.956Z"
      },
      {
        "duration": 42,
        "start_time": "2022-10-03T21:01:22.237Z"
      },
      {
        "duration": 38,
        "start_time": "2022-10-03T21:01:37.223Z"
      },
      {
        "duration": 37,
        "start_time": "2022-10-03T21:01:51.224Z"
      },
      {
        "duration": 2613,
        "start_time": "2022-10-03T21:02:06.478Z"
      },
      {
        "duration": 9,
        "start_time": "2022-10-03T21:02:09.093Z"
      },
      {
        "duration": 30,
        "start_time": "2022-10-03T21:02:09.104Z"
      },
      {
        "duration": 13,
        "start_time": "2022-10-03T21:02:09.135Z"
      },
      {
        "duration": 2,
        "start_time": "2022-10-03T21:02:09.149Z"
      },
      {
        "duration": 13,
        "start_time": "2022-10-03T21:02:09.153Z"
      },
      {
        "duration": 211,
        "start_time": "2022-10-03T21:02:09.168Z"
      },
      {
        "duration": 69,
        "start_time": "2022-10-03T21:02:09.381Z"
      },
      {
        "duration": 63,
        "start_time": "2022-10-03T21:02:09.452Z"
      },
      {
        "duration": 271,
        "start_time": "2022-10-03T21:02:09.519Z"
      },
      {
        "duration": 3117,
        "start_time": "2022-10-03T21:02:09.792Z"
      },
      {
        "duration": 268,
        "start_time": "2022-10-03T21:02:12.911Z"
      },
      {
        "duration": 151,
        "start_time": "2022-10-03T21:02:13.181Z"
      },
      {
        "duration": 179,
        "start_time": "2022-10-03T21:02:13.334Z"
      },
      {
        "duration": 150,
        "start_time": "2022-10-03T21:02:13.515Z"
      },
      {
        "duration": 81,
        "start_time": "2022-10-03T21:02:13.667Z"
      },
      {
        "duration": 0,
        "start_time": "2022-10-03T21:02:13.749Z"
      },
      {
        "duration": 0,
        "start_time": "2022-10-03T21:02:13.750Z"
      },
      {
        "duration": 0,
        "start_time": "2022-10-03T21:02:13.753Z"
      },
      {
        "duration": 0,
        "start_time": "2022-10-03T21:02:13.754Z"
      },
      {
        "duration": 46,
        "start_time": "2022-10-03T21:02:19.064Z"
      },
      {
        "duration": 22,
        "start_time": "2022-10-03T21:03:15.915Z"
      },
      {
        "duration": 8,
        "start_time": "2022-10-03T21:05:28.799Z"
      },
      {
        "duration": 37,
        "start_time": "2022-10-03T21:05:38.529Z"
      },
      {
        "duration": 198,
        "start_time": "2022-10-03T21:07:38.963Z"
      },
      {
        "duration": 2,
        "start_time": "2022-10-03T21:07:44.972Z"
      },
      {
        "duration": 182,
        "start_time": "2022-10-03T21:07:49.060Z"
      },
      {
        "duration": 2553,
        "start_time": "2022-10-03T21:07:56.650Z"
      },
      {
        "duration": 10,
        "start_time": "2022-10-03T21:07:59.205Z"
      },
      {
        "duration": 41,
        "start_time": "2022-10-03T21:07:59.216Z"
      },
      {
        "duration": 15,
        "start_time": "2022-10-03T21:07:59.259Z"
      },
      {
        "duration": 3,
        "start_time": "2022-10-03T21:07:59.275Z"
      },
      {
        "duration": 215,
        "start_time": "2022-10-03T21:07:59.279Z"
      },
      {
        "duration": 2,
        "start_time": "2022-10-03T21:07:59.495Z"
      },
      {
        "duration": 68,
        "start_time": "2022-10-03T21:07:59.500Z"
      },
      {
        "duration": 42,
        "start_time": "2022-10-03T21:07:59.569Z"
      },
      {
        "duration": 231,
        "start_time": "2022-10-03T21:07:59.614Z"
      },
      {
        "duration": 3081,
        "start_time": "2022-10-03T21:07:59.847Z"
      },
      {
        "duration": 270,
        "start_time": "2022-10-03T21:08:02.930Z"
      },
      {
        "duration": 159,
        "start_time": "2022-10-03T21:08:03.201Z"
      },
      {
        "duration": 169,
        "start_time": "2022-10-03T21:08:03.361Z"
      },
      {
        "duration": 138,
        "start_time": "2022-10-03T21:08:03.532Z"
      },
      {
        "duration": 78,
        "start_time": "2022-10-03T21:08:03.672Z"
      },
      {
        "duration": 0,
        "start_time": "2022-10-03T21:08:03.752Z"
      },
      {
        "duration": 0,
        "start_time": "2022-10-03T21:08:03.753Z"
      },
      {
        "duration": 0,
        "start_time": "2022-10-03T21:08:03.754Z"
      },
      {
        "duration": 0,
        "start_time": "2022-10-03T21:08:03.756Z"
      },
      {
        "duration": 21,
        "start_time": "2022-10-03T21:08:08.280Z"
      },
      {
        "duration": 4,
        "start_time": "2022-10-03T21:09:07.037Z"
      },
      {
        "duration": 5,
        "start_time": "2022-10-03T21:09:36.320Z"
      },
      {
        "duration": 5,
        "start_time": "2022-10-03T21:10:26.636Z"
      },
      {
        "duration": 5,
        "start_time": "2022-10-03T21:11:00.501Z"
      },
      {
        "duration": 190,
        "start_time": "2022-10-03T21:13:59.219Z"
      },
      {
        "duration": 6,
        "start_time": "2022-10-03T21:14:00.894Z"
      },
      {
        "duration": 183,
        "start_time": "2022-10-03T21:14:57.488Z"
      },
      {
        "duration": 6,
        "start_time": "2022-10-03T21:14:58.607Z"
      },
      {
        "duration": 181,
        "start_time": "2022-10-03T21:15:35.748Z"
      },
      {
        "duration": 5,
        "start_time": "2022-10-03T21:15:36.681Z"
      },
      {
        "duration": 66,
        "start_time": "2022-10-03T21:15:42.311Z"
      },
      {
        "duration": 36,
        "start_time": "2022-10-03T21:15:43.706Z"
      },
      {
        "duration": 232,
        "start_time": "2022-10-03T21:15:45.390Z"
      },
      {
        "duration": 2964,
        "start_time": "2022-10-03T21:15:46.419Z"
      },
      {
        "duration": 346,
        "start_time": "2022-10-03T21:15:49.385Z"
      },
      {
        "duration": 134,
        "start_time": "2022-10-03T21:15:49.733Z"
      },
      {
        "duration": 147,
        "start_time": "2022-10-03T21:15:49.869Z"
      },
      {
        "duration": 134,
        "start_time": "2022-10-03T21:15:50.090Z"
      },
      {
        "duration": 14,
        "start_time": "2022-10-03T21:15:50.929Z"
      },
      {
        "duration": 73,
        "start_time": "2022-10-03T21:15:51.212Z"
      },
      {
        "duration": 140,
        "start_time": "2022-10-03T21:15:51.596Z"
      },
      {
        "duration": 2,
        "start_time": "2022-10-03T21:15:52.851Z"
      },
      {
        "duration": 20,
        "start_time": "2022-10-03T21:15:53.611Z"
      },
      {
        "duration": 46,
        "start_time": "2022-10-04T05:15:15.488Z"
      },
      {
        "duration": 2798,
        "start_time": "2022-10-04T05:15:23.111Z"
      },
      {
        "duration": 10,
        "start_time": "2022-10-04T05:15:25.910Z"
      },
      {
        "duration": 28,
        "start_time": "2022-10-04T05:15:25.921Z"
      },
      {
        "duration": 14,
        "start_time": "2022-10-04T05:15:25.951Z"
      },
      {
        "duration": 2,
        "start_time": "2022-10-04T05:15:25.966Z"
      },
      {
        "duration": 195,
        "start_time": "2022-10-04T05:15:25.970Z"
      },
      {
        "duration": 6,
        "start_time": "2022-10-04T05:15:26.166Z"
      },
      {
        "duration": 71,
        "start_time": "2022-10-04T05:15:26.174Z"
      },
      {
        "duration": 35,
        "start_time": "2022-10-04T05:15:26.246Z"
      },
      {
        "duration": 278,
        "start_time": "2022-10-04T05:15:26.284Z"
      },
      {
        "duration": 3061,
        "start_time": "2022-10-04T05:15:26.564Z"
      },
      {
        "duration": 248,
        "start_time": "2022-10-04T05:15:29.627Z"
      },
      {
        "duration": 144,
        "start_time": "2022-10-04T05:15:29.876Z"
      },
      {
        "duration": 160,
        "start_time": "2022-10-04T05:15:30.022Z"
      },
      {
        "duration": 242,
        "start_time": "2022-10-04T05:15:30.183Z"
      },
      {
        "duration": 79,
        "start_time": "2022-10-04T05:15:30.427Z"
      },
      {
        "duration": 0,
        "start_time": "2022-10-04T05:15:30.507Z"
      },
      {
        "duration": 1,
        "start_time": "2022-10-04T05:15:30.508Z"
      },
      {
        "duration": 0,
        "start_time": "2022-10-04T05:15:30.509Z"
      },
      {
        "duration": 0,
        "start_time": "2022-10-04T05:15:30.511Z"
      },
      {
        "duration": 19,
        "start_time": "2022-10-04T05:15:37.954Z"
      },
      {
        "duration": 14,
        "start_time": "2022-10-04T05:15:42.713Z"
      },
      {
        "duration": 142,
        "start_time": "2022-10-04T05:16:06.845Z"
      },
      {
        "duration": 2919,
        "start_time": "2022-10-04T08:33:01.858Z"
      },
      {
        "duration": 9,
        "start_time": "2022-10-04T08:33:04.779Z"
      },
      {
        "duration": 34,
        "start_time": "2022-10-04T08:33:04.790Z"
      },
      {
        "duration": 15,
        "start_time": "2022-10-04T08:33:04.826Z"
      },
      {
        "duration": 2,
        "start_time": "2022-10-04T08:33:04.842Z"
      },
      {
        "duration": 234,
        "start_time": "2022-10-04T08:33:04.846Z"
      },
      {
        "duration": 7,
        "start_time": "2022-10-04T08:33:05.082Z"
      },
      {
        "duration": 76,
        "start_time": "2022-10-04T08:33:05.090Z"
      },
      {
        "duration": 43,
        "start_time": "2022-10-04T08:33:05.168Z"
      },
      {
        "duration": 264,
        "start_time": "2022-10-04T08:33:05.213Z"
      },
      {
        "duration": 2892,
        "start_time": "2022-10-04T08:33:05.479Z"
      },
      {
        "duration": 250,
        "start_time": "2022-10-04T08:33:08.372Z"
      },
      {
        "duration": 154,
        "start_time": "2022-10-04T08:33:08.624Z"
      },
      {
        "duration": 161,
        "start_time": "2022-10-04T08:33:08.780Z"
      },
      {
        "duration": 226,
        "start_time": "2022-10-04T08:33:08.943Z"
      },
      {
        "duration": 146,
        "start_time": "2022-10-04T08:33:09.171Z"
      },
      {
        "duration": 54,
        "start_time": "2022-10-04T08:33:09.319Z"
      },
      {
        "duration": 0,
        "start_time": "2022-10-04T08:33:09.374Z"
      },
      {
        "duration": 0,
        "start_time": "2022-10-04T08:33:09.375Z"
      },
      {
        "duration": 0,
        "start_time": "2022-10-04T08:33:09.376Z"
      },
      {
        "duration": 21,
        "start_time": "2022-10-04T08:33:43.169Z"
      },
      {
        "duration": 2,
        "start_time": "2022-10-04T08:38:08.845Z"
      },
      {
        "duration": 215,
        "start_time": "2022-10-04T08:38:11.778Z"
      },
      {
        "duration": 209,
        "start_time": "2022-10-04T08:38:23.926Z"
      },
      {
        "duration": 20,
        "start_time": "2022-10-04T08:38:40.311Z"
      },
      {
        "duration": 20,
        "start_time": "2022-10-04T08:44:30.740Z"
      },
      {
        "duration": 22,
        "start_time": "2022-10-04T08:44:57.535Z"
      },
      {
        "duration": 11,
        "start_time": "2022-10-04T08:48:22.852Z"
      },
      {
        "duration": 11,
        "start_time": "2022-10-04T08:48:30.833Z"
      },
      {
        "duration": 10,
        "start_time": "2022-10-04T08:48:33.901Z"
      },
      {
        "duration": 2536,
        "start_time": "2022-10-04T08:48:47.701Z"
      },
      {
        "duration": 10,
        "start_time": "2022-10-04T08:48:50.239Z"
      },
      {
        "duration": 36,
        "start_time": "2022-10-04T08:48:50.250Z"
      },
      {
        "duration": 13,
        "start_time": "2022-10-04T08:48:50.288Z"
      },
      {
        "duration": 8,
        "start_time": "2022-10-04T08:48:50.302Z"
      },
      {
        "duration": 274,
        "start_time": "2022-10-04T08:48:50.311Z"
      },
      {
        "duration": 5,
        "start_time": "2022-10-04T08:48:50.587Z"
      },
      {
        "duration": 65,
        "start_time": "2022-10-04T08:48:50.594Z"
      },
      {
        "duration": 104,
        "start_time": "2022-10-04T08:48:50.661Z"
      },
      {
        "duration": 266,
        "start_time": "2022-10-04T08:48:50.767Z"
      },
      {
        "duration": 3117,
        "start_time": "2022-10-04T08:48:51.034Z"
      },
      {
        "duration": 336,
        "start_time": "2022-10-04T08:48:54.153Z"
      },
      {
        "duration": 152,
        "start_time": "2022-10-04T08:48:54.491Z"
      },
      {
        "duration": 170,
        "start_time": "2022-10-04T08:48:54.645Z"
      },
      {
        "duration": 154,
        "start_time": "2022-10-04T08:48:54.817Z"
      },
      {
        "duration": 157,
        "start_time": "2022-10-04T08:48:54.973Z"
      },
      {
        "duration": 161,
        "start_time": "2022-10-04T08:48:55.131Z"
      },
      {
        "duration": 2,
        "start_time": "2022-10-04T08:48:55.293Z"
      },
      {
        "duration": 39,
        "start_time": "2022-10-04T08:48:55.297Z"
      },
      {
        "duration": 1004,
        "start_time": "2022-10-04T08:49:03.185Z"
      },
      {
        "duration": 2,
        "start_time": "2022-10-04T08:49:29.870Z"
      },
      {
        "duration": 5,
        "start_time": "2022-10-04T08:49:44.584Z"
      },
      {
        "duration": 21,
        "start_time": "2022-10-04T08:51:57.866Z"
      },
      {
        "duration": 213,
        "start_time": "2022-10-04T08:52:16.621Z"
      },
      {
        "duration": 22,
        "start_time": "2022-10-04T08:52:23.197Z"
      },
      {
        "duration": 1140,
        "start_time": "2022-10-04T09:21:01.891Z"
      },
      {
        "duration": 1801,
        "start_time": "2022-10-04T09:21:13.560Z"
      },
      {
        "duration": 1070,
        "start_time": "2022-10-04T09:21:31.584Z"
      },
      {
        "duration": 10,
        "start_time": "2022-10-04T09:23:26.238Z"
      },
      {
        "duration": 5,
        "start_time": "2022-10-04T09:23:38.404Z"
      },
      {
        "duration": 14,
        "start_time": "2022-10-04T09:30:07.942Z"
      },
      {
        "duration": 19,
        "start_time": "2022-10-04T09:31:47.098Z"
      },
      {
        "duration": 118,
        "start_time": "2022-10-04T09:32:10.110Z"
      },
      {
        "duration": 161,
        "start_time": "2022-10-04T09:32:23.559Z"
      },
      {
        "duration": 18,
        "start_time": "2022-10-04T09:32:44.589Z"
      },
      {
        "duration": 146,
        "start_time": "2022-10-04T09:34:01.044Z"
      },
      {
        "duration": 150,
        "start_time": "2022-10-04T09:37:22.224Z"
      },
      {
        "duration": 25,
        "start_time": "2022-10-04T09:37:56.124Z"
      },
      {
        "duration": 149,
        "start_time": "2022-10-04T09:38:06.237Z"
      },
      {
        "duration": 157,
        "start_time": "2022-10-04T09:38:14.518Z"
      },
      {
        "duration": 11,
        "start_time": "2022-10-04T09:59:34.945Z"
      },
      {
        "duration": 2601,
        "start_time": "2022-10-04T09:59:48.512Z"
      },
      {
        "duration": 9,
        "start_time": "2022-10-04T09:59:51.115Z"
      },
      {
        "duration": 29,
        "start_time": "2022-10-04T09:59:51.125Z"
      },
      {
        "duration": 13,
        "start_time": "2022-10-04T09:59:51.156Z"
      },
      {
        "duration": 5,
        "start_time": "2022-10-04T09:59:51.171Z"
      },
      {
        "duration": 228,
        "start_time": "2022-10-04T09:59:51.177Z"
      },
      {
        "duration": 6,
        "start_time": "2022-10-04T09:59:51.407Z"
      },
      {
        "duration": 37,
        "start_time": "2022-10-04T09:59:51.414Z"
      },
      {
        "duration": 77,
        "start_time": "2022-10-04T09:59:51.452Z"
      },
      {
        "duration": 36,
        "start_time": "2022-10-04T09:59:51.532Z"
      },
      {
        "duration": 288,
        "start_time": "2022-10-04T09:59:51.570Z"
      },
      {
        "duration": 3094,
        "start_time": "2022-10-04T09:59:51.860Z"
      },
      {
        "duration": 256,
        "start_time": "2022-10-04T09:59:54.956Z"
      },
      {
        "duration": 150,
        "start_time": "2022-10-04T09:59:55.214Z"
      },
      {
        "duration": 156,
        "start_time": "2022-10-04T09:59:55.366Z"
      },
      {
        "duration": 143,
        "start_time": "2022-10-04T09:59:55.524Z"
      },
      {
        "duration": 141,
        "start_time": "2022-10-04T09:59:55.669Z"
      },
      {
        "duration": 218,
        "start_time": "2022-10-04T09:59:55.811Z"
      },
      {
        "duration": 3,
        "start_time": "2022-10-04T09:59:56.030Z"
      },
      {
        "duration": 48,
        "start_time": "2022-10-04T09:59:56.034Z"
      },
      {
        "duration": 150,
        "start_time": "2022-10-04T09:59:56.083Z"
      },
      {
        "duration": 103,
        "start_time": "2022-10-04T10:05:31.398Z"
      },
      {
        "duration": 14,
        "start_time": "2022-10-04T10:05:50.692Z"
      },
      {
        "duration": 10,
        "start_time": "2022-10-04T10:05:54.733Z"
      },
      {
        "duration": 13,
        "start_time": "2022-10-04T10:06:14.423Z"
      },
      {
        "duration": 7,
        "start_time": "2022-10-04T10:06:15.875Z"
      },
      {
        "duration": 11,
        "start_time": "2022-10-04T10:06:17.495Z"
      },
      {
        "duration": 214,
        "start_time": "2022-10-04T10:06:18.861Z"
      },
      {
        "duration": 211,
        "start_time": "2022-10-04T10:06:22.121Z"
      },
      {
        "duration": 18,
        "start_time": "2022-10-04T10:11:34.590Z"
      },
      {
        "duration": 18,
        "start_time": "2022-10-04T10:14:00.358Z"
      },
      {
        "duration": 21,
        "start_time": "2022-10-04T10:14:04.063Z"
      },
      {
        "duration": 6,
        "start_time": "2022-10-04T10:14:12.274Z"
      },
      {
        "duration": 15,
        "start_time": "2022-10-04T10:14:21.966Z"
      },
      {
        "duration": 255,
        "start_time": "2022-10-04T10:14:27.073Z"
      },
      {
        "duration": 69,
        "start_time": "2022-10-04T10:14:30.574Z"
      },
      {
        "duration": 94,
        "start_time": "2022-10-04T10:14:44.658Z"
      },
      {
        "duration": 14,
        "start_time": "2022-10-04T10:15:01.524Z"
      },
      {
        "duration": 15,
        "start_time": "2022-10-04T10:16:34.832Z"
      },
      {
        "duration": 23,
        "start_time": "2022-10-04T10:21:10.241Z"
      },
      {
        "duration": 16,
        "start_time": "2022-10-04T10:21:21.721Z"
      },
      {
        "duration": 2724,
        "start_time": "2022-10-04T10:21:35.757Z"
      },
      {
        "duration": 15,
        "start_time": "2022-10-04T10:21:38.484Z"
      },
      {
        "duration": 39,
        "start_time": "2022-10-04T10:21:38.501Z"
      },
      {
        "duration": 19,
        "start_time": "2022-10-04T10:21:38.542Z"
      },
      {
        "duration": 15,
        "start_time": "2022-10-04T10:21:38.563Z"
      },
      {
        "duration": 8,
        "start_time": "2022-10-04T10:21:38.580Z"
      },
      {
        "duration": 44,
        "start_time": "2022-10-04T10:21:38.590Z"
      },
      {
        "duration": 361,
        "start_time": "2022-10-04T10:21:38.636Z"
      },
      {
        "duration": 68,
        "start_time": "2022-10-04T10:21:38.999Z"
      },
      {
        "duration": 109,
        "start_time": "2022-10-04T10:21:39.068Z"
      },
      {
        "duration": 100,
        "start_time": "2022-10-04T10:21:39.179Z"
      },
      {
        "duration": 0,
        "start_time": "2022-10-04T10:21:39.282Z"
      },
      {
        "duration": 0,
        "start_time": "2022-10-04T10:21:39.283Z"
      },
      {
        "duration": 0,
        "start_time": "2022-10-04T10:21:39.285Z"
      },
      {
        "duration": 0,
        "start_time": "2022-10-04T10:21:39.286Z"
      },
      {
        "duration": 0,
        "start_time": "2022-10-04T10:21:39.288Z"
      },
      {
        "duration": 0,
        "start_time": "2022-10-04T10:21:39.289Z"
      },
      {
        "duration": 0,
        "start_time": "2022-10-04T10:21:39.290Z"
      },
      {
        "duration": 0,
        "start_time": "2022-10-04T10:21:39.292Z"
      },
      {
        "duration": 0,
        "start_time": "2022-10-04T10:21:39.293Z"
      },
      {
        "duration": 0,
        "start_time": "2022-10-04T10:21:39.294Z"
      },
      {
        "duration": 698,
        "start_time": "2022-10-04T10:21:56.424Z"
      },
      {
        "duration": 265,
        "start_time": "2022-10-04T10:22:29.567Z"
      },
      {
        "duration": 1164,
        "start_time": "2022-10-04T10:22:37.904Z"
      },
      {
        "duration": 2956,
        "start_time": "2022-10-04T10:23:38.933Z"
      },
      {
        "duration": 26,
        "start_time": "2022-10-04T10:24:07.793Z"
      },
      {
        "duration": 22,
        "start_time": "2022-10-04T10:24:20.593Z"
      },
      {
        "duration": 246,
        "start_time": "2022-10-04T10:24:42.091Z"
      },
      {
        "duration": 223,
        "start_time": "2022-10-04T10:31:50.004Z"
      },
      {
        "duration": 8,
        "start_time": "2022-10-04T10:32:06.614Z"
      },
      {
        "duration": 2780,
        "start_time": "2022-10-04T10:32:21.501Z"
      },
      {
        "duration": 11,
        "start_time": "2022-10-04T10:32:24.283Z"
      },
      {
        "duration": 45,
        "start_time": "2022-10-04T10:32:24.295Z"
      },
      {
        "duration": 19,
        "start_time": "2022-10-04T10:32:24.342Z"
      },
      {
        "duration": 12,
        "start_time": "2022-10-04T10:32:24.364Z"
      },
      {
        "duration": 27,
        "start_time": "2022-10-04T10:32:24.378Z"
      },
      {
        "duration": 34,
        "start_time": "2022-10-04T10:32:24.407Z"
      },
      {
        "duration": 219,
        "start_time": "2022-10-04T10:32:24.442Z"
      },
      {
        "duration": 65,
        "start_time": "2022-10-04T10:32:24.662Z"
      },
      {
        "duration": 34,
        "start_time": "2022-10-04T10:32:24.729Z"
      },
      {
        "duration": 282,
        "start_time": "2022-10-04T10:32:24.765Z"
      },
      {
        "duration": 3150,
        "start_time": "2022-10-04T10:32:25.049Z"
      },
      {
        "duration": 261,
        "start_time": "2022-10-04T10:32:28.201Z"
      },
      {
        "duration": 158,
        "start_time": "2022-10-04T10:32:28.465Z"
      },
      {
        "duration": 164,
        "start_time": "2022-10-04T10:32:28.625Z"
      },
      {
        "duration": 164,
        "start_time": "2022-10-04T10:32:28.791Z"
      },
      {
        "duration": 169,
        "start_time": "2022-10-04T10:32:28.957Z"
      },
      {
        "duration": 223,
        "start_time": "2022-10-04T10:32:29.128Z"
      },
      {
        "duration": 2,
        "start_time": "2022-10-04T10:32:29.352Z"
      },
      {
        "duration": 31,
        "start_time": "2022-10-04T10:32:29.356Z"
      },
      {
        "duration": 185,
        "start_time": "2022-10-04T10:32:29.389Z"
      },
      {
        "duration": 30,
        "start_time": "2022-10-04T10:41:34.500Z"
      },
      {
        "duration": 208,
        "start_time": "2022-10-04T10:41:41.487Z"
      },
      {
        "duration": 23,
        "start_time": "2022-10-04T10:41:48.683Z"
      },
      {
        "duration": 169,
        "start_time": "2022-10-04T10:41:50.347Z"
      },
      {
        "duration": 20,
        "start_time": "2022-10-04T10:42:37.530Z"
      },
      {
        "duration": 8,
        "start_time": "2022-10-04T10:42:39.157Z"
      },
      {
        "duration": 29,
        "start_time": "2022-10-04T10:42:58.998Z"
      },
      {
        "duration": 115,
        "start_time": "2022-10-04T10:43:01.404Z"
      },
      {
        "duration": 97,
        "start_time": "2022-10-04T10:43:02.086Z"
      },
      {
        "duration": 44,
        "start_time": "2022-10-04T10:43:02.929Z"
      },
      {
        "duration": 308,
        "start_time": "2022-10-04T10:43:03.919Z"
      },
      {
        "duration": 3143,
        "start_time": "2022-10-04T10:43:06.026Z"
      },
      {
        "duration": 295,
        "start_time": "2022-10-04T10:43:09.171Z"
      },
      {
        "duration": 149,
        "start_time": "2022-10-04T10:43:09.605Z"
      },
      {
        "duration": 174,
        "start_time": "2022-10-04T10:43:11.250Z"
      },
      {
        "duration": 143,
        "start_time": "2022-10-04T10:43:13.233Z"
      },
      {
        "duration": 157,
        "start_time": "2022-10-04T10:43:14.574Z"
      },
      {
        "duration": 154,
        "start_time": "2022-10-04T10:43:16.002Z"
      },
      {
        "duration": 2,
        "start_time": "2022-10-04T10:43:17.600Z"
      },
      {
        "duration": 35,
        "start_time": "2022-10-04T10:43:18.502Z"
      },
      {
        "duration": 37,
        "start_time": "2022-10-04T10:47:46.227Z"
      },
      {
        "duration": 56,
        "start_time": "2022-10-04T10:49:29.122Z"
      },
      {
        "duration": 2657,
        "start_time": "2022-10-04T10:49:37.308Z"
      },
      {
        "duration": 14,
        "start_time": "2022-10-04T10:49:39.966Z"
      },
      {
        "duration": 23,
        "start_time": "2022-10-04T10:49:39.982Z"
      },
      {
        "duration": 20,
        "start_time": "2022-10-04T10:49:40.007Z"
      },
      {
        "duration": 16,
        "start_time": "2022-10-04T10:49:40.030Z"
      },
      {
        "duration": 7,
        "start_time": "2022-10-04T10:49:40.048Z"
      },
      {
        "duration": 34,
        "start_time": "2022-10-04T10:49:40.057Z"
      },
      {
        "duration": 212,
        "start_time": "2022-10-04T10:49:40.092Z"
      },
      {
        "duration": 72,
        "start_time": "2022-10-04T10:49:40.305Z"
      },
      {
        "duration": 42,
        "start_time": "2022-10-04T10:49:40.378Z"
      },
      {
        "duration": 290,
        "start_time": "2022-10-04T10:49:40.422Z"
      },
      {
        "duration": 3311,
        "start_time": "2022-10-04T10:49:40.720Z"
      },
      {
        "duration": 279,
        "start_time": "2022-10-04T10:49:44.033Z"
      },
      {
        "duration": 166,
        "start_time": "2022-10-04T10:49:44.315Z"
      },
      {
        "duration": 189,
        "start_time": "2022-10-04T10:49:44.483Z"
      },
      {
        "duration": 190,
        "start_time": "2022-10-04T10:49:44.674Z"
      },
      {
        "duration": 160,
        "start_time": "2022-10-04T10:49:44.866Z"
      },
      {
        "duration": 230,
        "start_time": "2022-10-04T10:49:45.027Z"
      },
      {
        "duration": 2,
        "start_time": "2022-10-04T10:49:45.259Z"
      },
      {
        "duration": 27,
        "start_time": "2022-10-04T10:49:45.263Z"
      },
      {
        "duration": 186,
        "start_time": "2022-10-04T10:49:45.291Z"
      },
      {
        "duration": 32,
        "start_time": "2022-10-04T10:50:35.605Z"
      },
      {
        "duration": 28,
        "start_time": "2022-10-04T11:03:11.503Z"
      },
      {
        "duration": 15,
        "start_time": "2022-10-04T11:42:21.219Z"
      },
      {
        "duration": 7,
        "start_time": "2022-10-04T11:42:26.475Z"
      },
      {
        "duration": 10,
        "start_time": "2022-10-04T11:42:27.551Z"
      },
      {
        "duration": 273,
        "start_time": "2022-10-04T11:42:28.273Z"
      },
      {
        "duration": 68,
        "start_time": "2022-10-04T11:42:28.672Z"
      },
      {
        "duration": 13,
        "start_time": "2022-10-04T11:42:47.390Z"
      },
      {
        "duration": 6,
        "start_time": "2022-10-04T11:42:49.282Z"
      },
      {
        "duration": 10,
        "start_time": "2022-10-04T11:42:49.464Z"
      },
      {
        "duration": 261,
        "start_time": "2022-10-04T11:42:49.623Z"
      },
      {
        "duration": 67,
        "start_time": "2022-10-04T11:42:49.886Z"
      },
      {
        "duration": 154,
        "start_time": "2022-10-04T11:42:50.087Z"
      },
      {
        "duration": 256,
        "start_time": "2022-10-04T11:42:50.392Z"
      },
      {
        "duration": 2905,
        "start_time": "2022-10-04T11:42:50.716Z"
      },
      {
        "duration": 352,
        "start_time": "2022-10-04T11:42:53.623Z"
      },
      {
        "duration": 149,
        "start_time": "2022-10-04T11:42:53.977Z"
      },
      {
        "duration": 171,
        "start_time": "2022-10-04T11:42:54.128Z"
      },
      {
        "duration": 146,
        "start_time": "2022-10-04T11:42:54.301Z"
      },
      {
        "duration": 147,
        "start_time": "2022-10-04T11:42:54.449Z"
      },
      {
        "duration": 141,
        "start_time": "2022-10-04T11:42:54.598Z"
      },
      {
        "duration": 2,
        "start_time": "2022-10-04T11:42:54.741Z"
      },
      {
        "duration": 34,
        "start_time": "2022-10-04T11:42:54.744Z"
      },
      {
        "duration": 165,
        "start_time": "2022-10-04T11:42:54.780Z"
      },
      {
        "duration": 99,
        "start_time": "2022-10-04T11:43:22.727Z"
      },
      {
        "duration": 675,
        "start_time": "2022-10-04T11:43:40.662Z"
      },
      {
        "duration": 15,
        "start_time": "2022-10-04T12:38:40.586Z"
      },
      {
        "duration": 14,
        "start_time": "2022-10-04T12:42:22.579Z"
      },
      {
        "duration": 17,
        "start_time": "2022-10-04T12:42:35.954Z"
      },
      {
        "duration": 252,
        "start_time": "2022-10-04T12:42:48.718Z"
      },
      {
        "duration": 672,
        "start_time": "2022-10-04T12:56:16.995Z"
      },
      {
        "duration": 8,
        "start_time": "2022-10-04T12:56:34.867Z"
      },
      {
        "duration": 2571,
        "start_time": "2022-10-04T13:04:24.818Z"
      },
      {
        "duration": 11,
        "start_time": "2022-10-04T13:04:27.392Z"
      },
      {
        "duration": 31,
        "start_time": "2022-10-04T13:04:27.404Z"
      },
      {
        "duration": 14,
        "start_time": "2022-10-04T13:04:27.437Z"
      },
      {
        "duration": 9,
        "start_time": "2022-10-04T13:04:27.453Z"
      },
      {
        "duration": 9,
        "start_time": "2022-10-04T13:04:27.464Z"
      },
      {
        "duration": 11,
        "start_time": "2022-10-04T13:04:27.474Z"
      },
      {
        "duration": 27,
        "start_time": "2022-10-04T13:04:27.486Z"
      },
      {
        "duration": 269,
        "start_time": "2022-10-04T13:04:27.514Z"
      },
      {
        "duration": 69,
        "start_time": "2022-10-04T13:04:27.785Z"
      },
      {
        "duration": 98,
        "start_time": "2022-10-04T13:04:27.855Z"
      },
      {
        "duration": 262,
        "start_time": "2022-10-04T13:04:27.955Z"
      },
      {
        "duration": 2976,
        "start_time": "2022-10-04T13:04:28.218Z"
      },
      {
        "duration": 360,
        "start_time": "2022-10-04T13:04:31.197Z"
      },
      {
        "duration": 154,
        "start_time": "2022-10-04T13:04:31.558Z"
      },
      {
        "duration": 162,
        "start_time": "2022-10-04T13:04:31.714Z"
      },
      {
        "duration": 154,
        "start_time": "2022-10-04T13:04:31.878Z"
      },
      {
        "duration": 148,
        "start_time": "2022-10-04T13:04:32.034Z"
      },
      {
        "duration": 141,
        "start_time": "2022-10-04T13:04:32.184Z"
      },
      {
        "duration": 3,
        "start_time": "2022-10-04T13:04:32.327Z"
      },
      {
        "duration": 45,
        "start_time": "2022-10-04T13:04:32.332Z"
      },
      {
        "duration": 163,
        "start_time": "2022-10-04T13:04:32.379Z"
      },
      {
        "duration": 855,
        "start_time": "2022-10-04T13:04:34.698Z"
      },
      {
        "duration": 5,
        "start_time": "2022-10-04T13:24:02.924Z"
      },
      {
        "duration": 2597,
        "start_time": "2022-10-04T13:26:10.056Z"
      },
      {
        "duration": 12,
        "start_time": "2022-10-04T13:26:12.655Z"
      },
      {
        "duration": 43,
        "start_time": "2022-10-04T13:26:12.669Z"
      },
      {
        "duration": 23,
        "start_time": "2022-10-04T13:26:12.714Z"
      },
      {
        "duration": 28,
        "start_time": "2022-10-04T13:26:12.739Z"
      },
      {
        "duration": 31,
        "start_time": "2022-10-04T13:26:12.769Z"
      },
      {
        "duration": 44,
        "start_time": "2022-10-04T13:26:12.802Z"
      },
      {
        "duration": 32,
        "start_time": "2022-10-04T13:26:12.848Z"
      },
      {
        "duration": 23,
        "start_time": "2022-10-04T13:26:12.882Z"
      },
      {
        "duration": 83,
        "start_time": "2022-10-04T13:26:12.908Z"
      },
      {
        "duration": 95,
        "start_time": "2022-10-04T13:26:12.992Z"
      },
      {
        "duration": 259,
        "start_time": "2022-10-04T13:26:13.089Z"
      },
      {
        "duration": 3024,
        "start_time": "2022-10-04T13:26:13.350Z"
      },
      {
        "duration": 260,
        "start_time": "2022-10-04T13:26:16.376Z"
      },
      {
        "duration": 255,
        "start_time": "2022-10-04T13:26:16.638Z"
      },
      {
        "duration": 167,
        "start_time": "2022-10-04T13:26:16.894Z"
      },
      {
        "duration": 148,
        "start_time": "2022-10-04T13:26:17.063Z"
      },
      {
        "duration": 153,
        "start_time": "2022-10-04T13:26:17.212Z"
      },
      {
        "duration": 150,
        "start_time": "2022-10-04T13:26:17.367Z"
      },
      {
        "duration": 3,
        "start_time": "2022-10-04T13:26:17.518Z"
      },
      {
        "duration": 107,
        "start_time": "2022-10-04T13:26:17.522Z"
      },
      {
        "duration": 0,
        "start_time": "2022-10-04T13:26:17.631Z"
      },
      {
        "duration": 772,
        "start_time": "2022-10-04T13:27:15.567Z"
      },
      {
        "duration": 8,
        "start_time": "2022-10-04T13:27:45.817Z"
      },
      {
        "duration": 11,
        "start_time": "2022-10-04T13:27:49.756Z"
      },
      {
        "duration": 310,
        "start_time": "2022-10-04T13:28:16.782Z"
      },
      {
        "duration": 10,
        "start_time": "2022-10-04T13:28:31.995Z"
      },
      {
        "duration": 378,
        "start_time": "2022-10-04T13:38:39.490Z"
      },
      {
        "duration": 3091,
        "start_time": "2022-10-04T13:39:06.611Z"
      },
      {
        "duration": 3207,
        "start_time": "2022-10-04T13:40:12.756Z"
      },
      {
        "duration": 3324,
        "start_time": "2022-10-04T13:40:41.798Z"
      },
      {
        "duration": 3487,
        "start_time": "2022-10-04T13:41:51.269Z"
      },
      {
        "duration": 3656,
        "start_time": "2022-10-04T13:42:11.399Z"
      },
      {
        "duration": 15,
        "start_time": "2022-10-04T13:47:14.817Z"
      },
      {
        "duration": 15,
        "start_time": "2022-10-04T13:52:28.662Z"
      },
      {
        "duration": 195,
        "start_time": "2022-10-04T13:53:05.811Z"
      },
      {
        "duration": 137,
        "start_time": "2022-10-04T13:58:01.663Z"
      },
      {
        "duration": 147,
        "start_time": "2022-10-04T14:00:57.254Z"
      },
      {
        "duration": 265,
        "start_time": "2022-10-04T14:02:21.620Z"
      },
      {
        "duration": 162,
        "start_time": "2022-10-04T14:02:33.091Z"
      },
      {
        "duration": 154,
        "start_time": "2022-10-04T14:02:37.302Z"
      },
      {
        "duration": 143,
        "start_time": "2022-10-04T14:02:39.270Z"
      },
      {
        "duration": 158,
        "start_time": "2022-10-04T14:02:45.106Z"
      },
      {
        "duration": 163,
        "start_time": "2022-10-04T14:02:50.628Z"
      },
      {
        "duration": 147,
        "start_time": "2022-10-04T14:02:57.343Z"
      },
      {
        "duration": 150,
        "start_time": "2022-10-04T14:03:30.992Z"
      },
      {
        "duration": 8,
        "start_time": "2022-10-04T14:08:38.773Z"
      },
      {
        "duration": 7,
        "start_time": "2022-10-04T14:11:00.587Z"
      },
      {
        "duration": 8,
        "start_time": "2022-10-04T14:11:24.982Z"
      },
      {
        "duration": 21,
        "start_time": "2022-10-04T14:18:31.521Z"
      },
      {
        "duration": 24,
        "start_time": "2022-10-04T14:18:48.514Z"
      },
      {
        "duration": 27,
        "start_time": "2022-10-04T14:19:09.926Z"
      },
      {
        "duration": 48,
        "start_time": "2022-10-04T14:20:24.972Z"
      },
      {
        "duration": 27,
        "start_time": "2022-10-04T14:20:41.021Z"
      },
      {
        "duration": 63,
        "start_time": "2022-10-04T14:21:12.667Z"
      },
      {
        "duration": 61,
        "start_time": "2022-10-04T14:21:22.634Z"
      },
      {
        "duration": 15,
        "start_time": "2022-10-04T14:21:59.214Z"
      },
      {
        "duration": 13,
        "start_time": "2022-10-04T14:22:07.203Z"
      },
      {
        "duration": 12,
        "start_time": "2022-10-04T14:22:14.937Z"
      },
      {
        "duration": 25,
        "start_time": "2022-10-04T14:22:35.203Z"
      },
      {
        "duration": 108,
        "start_time": "2022-10-04T14:23:41.105Z"
      },
      {
        "duration": 175,
        "start_time": "2022-10-04T14:26:20.542Z"
      },
      {
        "duration": 8,
        "start_time": "2022-10-04T14:29:45.809Z"
      },
      {
        "duration": 5,
        "start_time": "2022-10-04T14:29:59.381Z"
      },
      {
        "duration": 116,
        "start_time": "2022-10-04T14:30:12.671Z"
      },
      {
        "duration": 2504,
        "start_time": "2022-10-04T14:30:17.877Z"
      },
      {
        "duration": 9,
        "start_time": "2022-10-04T14:30:20.383Z"
      },
      {
        "duration": 29,
        "start_time": "2022-10-04T14:30:20.393Z"
      },
      {
        "duration": 13,
        "start_time": "2022-10-04T14:30:20.423Z"
      },
      {
        "duration": 9,
        "start_time": "2022-10-04T14:30:20.439Z"
      },
      {
        "duration": 10,
        "start_time": "2022-10-04T14:30:20.449Z"
      },
      {
        "duration": 11,
        "start_time": "2022-10-04T14:30:20.460Z"
      },
      {
        "duration": 12,
        "start_time": "2022-10-04T14:30:20.473Z"
      },
      {
        "duration": 274,
        "start_time": "2022-10-04T14:30:20.487Z"
      },
      {
        "duration": 262,
        "start_time": "2022-10-04T14:30:20.762Z"
      },
      {
        "duration": 60,
        "start_time": "2022-10-04T14:30:21.026Z"
      },
      {
        "duration": 154,
        "start_time": "2022-10-04T14:30:21.088Z"
      },
      {
        "duration": 95,
        "start_time": "2022-10-04T14:30:21.244Z"
      },
      {
        "duration": 0,
        "start_time": "2022-10-04T14:30:21.342Z"
      },
      {
        "duration": 0,
        "start_time": "2022-10-04T14:30:21.343Z"
      },
      {
        "duration": 0,
        "start_time": "2022-10-04T14:30:21.345Z"
      },
      {
        "duration": 0,
        "start_time": "2022-10-04T14:30:21.347Z"
      },
      {
        "duration": 0,
        "start_time": "2022-10-04T14:30:21.348Z"
      },
      {
        "duration": 0,
        "start_time": "2022-10-04T14:30:21.350Z"
      },
      {
        "duration": 0,
        "start_time": "2022-10-04T14:30:21.351Z"
      },
      {
        "duration": 0,
        "start_time": "2022-10-04T14:30:21.352Z"
      },
      {
        "duration": 0,
        "start_time": "2022-10-04T14:30:21.354Z"
      },
      {
        "duration": 0,
        "start_time": "2022-10-04T14:30:21.355Z"
      },
      {
        "duration": 0,
        "start_time": "2022-10-04T14:30:21.357Z"
      },
      {
        "duration": 0,
        "start_time": "2022-10-04T14:30:21.358Z"
      },
      {
        "duration": 44,
        "start_time": "2022-10-04T14:30:59.547Z"
      },
      {
        "duration": 38,
        "start_time": "2022-10-04T14:31:05.287Z"
      },
      {
        "duration": 39,
        "start_time": "2022-10-04T14:33:06.324Z"
      },
      {
        "duration": 39,
        "start_time": "2022-10-04T14:33:36.021Z"
      },
      {
        "duration": 50,
        "start_time": "2022-10-04T14:33:58.564Z"
      },
      {
        "duration": 63,
        "start_time": "2022-10-04T14:34:23.470Z"
      },
      {
        "duration": 26,
        "start_time": "2022-10-04T14:39:08.590Z"
      },
      {
        "duration": 22,
        "start_time": "2022-10-04T14:39:48.821Z"
      },
      {
        "duration": 8,
        "start_time": "2022-10-04T14:39:53.589Z"
      },
      {
        "duration": 9,
        "start_time": "2022-10-04T14:39:55.564Z"
      },
      {
        "duration": 65,
        "start_time": "2022-10-04T14:40:02.925Z"
      },
      {
        "duration": 2491,
        "start_time": "2022-10-04T14:40:24.534Z"
      },
      {
        "duration": 9,
        "start_time": "2022-10-04T14:40:27.026Z"
      },
      {
        "duration": 31,
        "start_time": "2022-10-04T14:40:27.037Z"
      },
      {
        "duration": 13,
        "start_time": "2022-10-04T14:40:27.070Z"
      },
      {
        "duration": 8,
        "start_time": "2022-10-04T14:40:27.086Z"
      },
      {
        "duration": 18,
        "start_time": "2022-10-04T14:40:27.096Z"
      },
      {
        "duration": 12,
        "start_time": "2022-10-04T14:40:27.115Z"
      },
      {
        "duration": 14,
        "start_time": "2022-10-04T14:40:27.128Z"
      },
      {
        "duration": 73,
        "start_time": "2022-10-04T14:40:27.143Z"
      },
      {
        "duration": 61,
        "start_time": "2022-10-04T14:40:27.218Z"
      },
      {
        "duration": 108,
        "start_time": "2022-10-04T14:40:27.281Z"
      },
      {
        "duration": 91,
        "start_time": "2022-10-04T14:40:27.390Z"
      },
      {
        "duration": 0,
        "start_time": "2022-10-04T14:40:27.483Z"
      },
      {
        "duration": 0,
        "start_time": "2022-10-04T14:40:27.484Z"
      },
      {
        "duration": 0,
        "start_time": "2022-10-04T14:40:27.485Z"
      },
      {
        "duration": 0,
        "start_time": "2022-10-04T14:40:27.486Z"
      },
      {
        "duration": 0,
        "start_time": "2022-10-04T14:40:27.487Z"
      },
      {
        "duration": 0,
        "start_time": "2022-10-04T14:40:27.487Z"
      },
      {
        "duration": 0,
        "start_time": "2022-10-04T14:40:27.488Z"
      },
      {
        "duration": 0,
        "start_time": "2022-10-04T14:40:27.489Z"
      },
      {
        "duration": 0,
        "start_time": "2022-10-04T14:40:27.490Z"
      },
      {
        "duration": 0,
        "start_time": "2022-10-04T14:40:27.491Z"
      },
      {
        "duration": 0,
        "start_time": "2022-10-04T14:40:27.509Z"
      },
      {
        "duration": 0,
        "start_time": "2022-10-04T14:40:27.510Z"
      },
      {
        "duration": 8,
        "start_time": "2022-10-04T14:40:57.343Z"
      },
      {
        "duration": 66,
        "start_time": "2022-10-04T14:41:06.680Z"
      },
      {
        "duration": 8,
        "start_time": "2022-10-04T14:42:08.945Z"
      },
      {
        "duration": 12,
        "start_time": "2022-10-04T14:42:10.814Z"
      },
      {
        "duration": 6,
        "start_time": "2022-10-04T14:42:11.865Z"
      },
      {
        "duration": 81,
        "start_time": "2022-10-04T14:42:43.193Z"
      },
      {
        "duration": 90,
        "start_time": "2022-10-04T14:43:13.441Z"
      },
      {
        "duration": 101,
        "start_time": "2022-10-04T14:44:06.479Z"
      },
      {
        "duration": 154,
        "start_time": "2022-10-04T14:44:33.878Z"
      },
      {
        "duration": 13,
        "start_time": "2022-10-04T14:44:37.761Z"
      },
      {
        "duration": 13,
        "start_time": "2022-10-04T14:45:09.839Z"
      },
      {
        "duration": 19,
        "start_time": "2022-10-04T14:48:57.436Z"
      },
      {
        "duration": 24,
        "start_time": "2022-10-04T14:52:03.613Z"
      },
      {
        "duration": 313,
        "start_time": "2022-10-04T14:52:14.157Z"
      },
      {
        "duration": 153,
        "start_time": "2022-10-04T14:52:35.381Z"
      },
      {
        "duration": 137,
        "start_time": "2022-10-04T14:52:43.184Z"
      },
      {
        "duration": 157,
        "start_time": "2022-10-04T14:52:53.368Z"
      },
      {
        "duration": 64,
        "start_time": "2022-10-04T19:27:22.059Z"
      },
      {
        "duration": 70,
        "start_time": "2022-10-04T19:27:49.095Z"
      },
      {
        "duration": 48,
        "start_time": "2022-10-04T19:29:02.486Z"
      },
      {
        "duration": 39,
        "start_time": "2022-10-04T19:29:13.253Z"
      },
      {
        "duration": 24,
        "start_time": "2022-10-04T19:32:26.890Z"
      },
      {
        "duration": 25,
        "start_time": "2022-10-04T19:32:47.200Z"
      },
      {
        "duration": 22,
        "start_time": "2022-10-04T19:32:55.856Z"
      },
      {
        "duration": 13,
        "start_time": "2022-10-04T19:34:19.513Z"
      },
      {
        "duration": 24,
        "start_time": "2022-10-04T19:34:55.345Z"
      },
      {
        "duration": 13,
        "start_time": "2022-10-04T19:36:43.901Z"
      },
      {
        "duration": 22,
        "start_time": "2022-10-04T19:36:55.686Z"
      },
      {
        "duration": 26,
        "start_time": "2022-10-04T19:37:49.861Z"
      },
      {
        "duration": 6,
        "start_time": "2022-10-04T19:37:56.888Z"
      },
      {
        "duration": 18,
        "start_time": "2022-10-04T19:38:10.018Z"
      },
      {
        "duration": 107,
        "start_time": "2022-10-04T19:38:11.328Z"
      },
      {
        "duration": 167,
        "start_time": "2022-10-04T19:40:53.052Z"
      },
      {
        "duration": 14,
        "start_time": "2022-10-04T19:40:54.946Z"
      },
      {
        "duration": 2560,
        "start_time": "2022-10-04T19:41:18.129Z"
      },
      {
        "duration": 12,
        "start_time": "2022-10-04T19:41:20.692Z"
      },
      {
        "duration": 47,
        "start_time": "2022-10-04T19:41:20.707Z"
      },
      {
        "duration": 16,
        "start_time": "2022-10-04T19:41:20.757Z"
      },
      {
        "duration": 10,
        "start_time": "2022-10-04T19:41:20.775Z"
      },
      {
        "duration": 27,
        "start_time": "2022-10-04T19:41:20.786Z"
      },
      {
        "duration": 17,
        "start_time": "2022-10-04T19:41:20.815Z"
      },
      {
        "duration": 19,
        "start_time": "2022-10-04T19:41:20.833Z"
      },
      {
        "duration": 98,
        "start_time": "2022-10-04T19:41:20.853Z"
      },
      {
        "duration": 68,
        "start_time": "2022-10-04T19:41:20.954Z"
      },
      {
        "duration": 108,
        "start_time": "2022-10-04T19:41:21.024Z"
      },
      {
        "duration": 106,
        "start_time": "2022-10-04T19:41:21.134Z"
      },
      {
        "duration": 0,
        "start_time": "2022-10-04T19:41:21.241Z"
      },
      {
        "duration": 0,
        "start_time": "2022-10-04T19:41:21.242Z"
      },
      {
        "duration": 0,
        "start_time": "2022-10-04T19:41:21.243Z"
      },
      {
        "duration": 0,
        "start_time": "2022-10-04T19:41:21.244Z"
      },
      {
        "duration": 0,
        "start_time": "2022-10-04T19:41:21.245Z"
      },
      {
        "duration": 0,
        "start_time": "2022-10-04T19:41:21.246Z"
      },
      {
        "duration": 0,
        "start_time": "2022-10-04T19:41:21.247Z"
      },
      {
        "duration": 0,
        "start_time": "2022-10-04T19:41:21.248Z"
      },
      {
        "duration": 0,
        "start_time": "2022-10-04T19:41:21.249Z"
      },
      {
        "duration": 0,
        "start_time": "2022-10-04T19:41:21.250Z"
      },
      {
        "duration": 0,
        "start_time": "2022-10-04T19:41:21.251Z"
      },
      {
        "duration": 0,
        "start_time": "2022-10-04T19:41:21.252Z"
      },
      {
        "duration": 148,
        "start_time": "2022-10-04T19:41:25.628Z"
      },
      {
        "duration": 22,
        "start_time": "2022-10-04T19:41:40.957Z"
      },
      {
        "duration": 20,
        "start_time": "2022-10-04T19:41:49.005Z"
      },
      {
        "duration": 531,
        "start_time": "2022-10-04T19:42:07.087Z"
      },
      {
        "duration": 23,
        "start_time": "2022-10-04T19:42:20.735Z"
      },
      {
        "duration": 92,
        "start_time": "2022-10-04T19:42:30.072Z"
      },
      {
        "duration": 18,
        "start_time": "2022-10-04T19:42:35.140Z"
      },
      {
        "duration": 66,
        "start_time": "2022-10-04T19:42:42.128Z"
      },
      {
        "duration": 168,
        "start_time": "2022-10-04T19:42:46.901Z"
      },
      {
        "duration": 12,
        "start_time": "2022-10-04T19:42:50.705Z"
      },
      {
        "duration": 13,
        "start_time": "2022-10-04T19:43:19.624Z"
      },
      {
        "duration": 577,
        "start_time": "2022-10-04T19:43:48.398Z"
      },
      {
        "duration": 3163,
        "start_time": "2022-10-04T19:44:24.362Z"
      },
      {
        "duration": 10,
        "start_time": "2022-10-04T19:44:27.527Z"
      },
      {
        "duration": 43,
        "start_time": "2022-10-04T19:44:27.538Z"
      },
      {
        "duration": 13,
        "start_time": "2022-10-04T19:44:27.584Z"
      },
      {
        "duration": 15,
        "start_time": "2022-10-04T19:44:27.599Z"
      },
      {
        "duration": 22,
        "start_time": "2022-10-04T19:44:27.615Z"
      },
      {
        "duration": 6,
        "start_time": "2022-10-04T19:44:27.638Z"
      },
      {
        "duration": 15,
        "start_time": "2022-10-04T19:44:27.645Z"
      },
      {
        "duration": 109,
        "start_time": "2022-10-04T19:44:27.661Z"
      },
      {
        "duration": 72,
        "start_time": "2022-10-04T19:44:27.773Z"
      },
      {
        "duration": 103,
        "start_time": "2022-10-04T19:44:27.847Z"
      },
      {
        "duration": 94,
        "start_time": "2022-10-04T19:44:27.952Z"
      },
      {
        "duration": 0,
        "start_time": "2022-10-04T19:44:28.048Z"
      },
      {
        "duration": 0,
        "start_time": "2022-10-04T19:44:28.049Z"
      },
      {
        "duration": 0,
        "start_time": "2022-10-04T19:44:28.051Z"
      },
      {
        "duration": 0,
        "start_time": "2022-10-04T19:44:28.052Z"
      },
      {
        "duration": 0,
        "start_time": "2022-10-04T19:44:28.053Z"
      },
      {
        "duration": 0,
        "start_time": "2022-10-04T19:44:28.055Z"
      },
      {
        "duration": 0,
        "start_time": "2022-10-04T19:44:28.056Z"
      },
      {
        "duration": 0,
        "start_time": "2022-10-04T19:44:28.057Z"
      },
      {
        "duration": 0,
        "start_time": "2022-10-04T19:44:28.058Z"
      },
      {
        "duration": 0,
        "start_time": "2022-10-04T19:44:28.060Z"
      },
      {
        "duration": 0,
        "start_time": "2022-10-04T19:44:28.061Z"
      },
      {
        "duration": 0,
        "start_time": "2022-10-04T19:44:28.062Z"
      },
      {
        "duration": 52,
        "start_time": "2022-10-04T19:53:16.517Z"
      },
      {
        "duration": 3081,
        "start_time": "2022-10-04T19:53:23.528Z"
      },
      {
        "duration": 10,
        "start_time": "2022-10-04T19:53:26.611Z"
      },
      {
        "duration": 37,
        "start_time": "2022-10-04T19:53:26.622Z"
      },
      {
        "duration": 16,
        "start_time": "2022-10-04T19:53:26.661Z"
      },
      {
        "duration": 11,
        "start_time": "2022-10-04T19:53:26.678Z"
      },
      {
        "duration": 25,
        "start_time": "2022-10-04T19:53:26.691Z"
      },
      {
        "duration": 5,
        "start_time": "2022-10-04T19:53:26.718Z"
      },
      {
        "duration": 15,
        "start_time": "2022-10-04T19:53:26.725Z"
      },
      {
        "duration": 102,
        "start_time": "2022-10-04T19:53:26.742Z"
      },
      {
        "duration": 75,
        "start_time": "2022-10-04T19:53:26.847Z"
      },
      {
        "duration": 104,
        "start_time": "2022-10-04T19:53:26.924Z"
      },
      {
        "duration": 90,
        "start_time": "2022-10-04T19:53:27.030Z"
      },
      {
        "duration": 0,
        "start_time": "2022-10-04T19:53:27.122Z"
      },
      {
        "duration": 0,
        "start_time": "2022-10-04T19:53:27.124Z"
      },
      {
        "duration": 0,
        "start_time": "2022-10-04T19:53:27.125Z"
      },
      {
        "duration": 1,
        "start_time": "2022-10-04T19:53:27.126Z"
      },
      {
        "duration": 0,
        "start_time": "2022-10-04T19:53:27.128Z"
      },
      {
        "duration": 0,
        "start_time": "2022-10-04T19:53:27.130Z"
      },
      {
        "duration": 0,
        "start_time": "2022-10-04T19:53:27.131Z"
      },
      {
        "duration": 0,
        "start_time": "2022-10-04T19:53:27.133Z"
      },
      {
        "duration": 0,
        "start_time": "2022-10-04T19:53:27.134Z"
      },
      {
        "duration": 0,
        "start_time": "2022-10-04T19:53:27.136Z"
      },
      {
        "duration": 0,
        "start_time": "2022-10-04T19:53:27.137Z"
      },
      {
        "duration": 0,
        "start_time": "2022-10-04T19:53:27.139Z"
      },
      {
        "duration": 937,
        "start_time": "2022-10-04T19:55:00.111Z"
      },
      {
        "duration": 985,
        "start_time": "2022-10-04T19:56:04.840Z"
      },
      {
        "duration": 442,
        "start_time": "2022-10-04T19:56:13.133Z"
      },
      {
        "duration": 4054,
        "start_time": "2022-10-04T19:56:19.824Z"
      },
      {
        "duration": 297,
        "start_time": "2022-10-04T19:56:27.017Z"
      },
      {
        "duration": 152,
        "start_time": "2022-10-04T19:56:33.145Z"
      },
      {
        "duration": 159,
        "start_time": "2022-10-04T19:56:37.995Z"
      },
      {
        "duration": 164,
        "start_time": "2022-10-04T19:56:44.153Z"
      },
      {
        "duration": 153,
        "start_time": "2022-10-04T19:56:48.459Z"
      },
      {
        "duration": 148,
        "start_time": "2022-10-04T19:57:11.016Z"
      },
      {
        "duration": 257,
        "start_time": "2022-10-04T19:57:17.866Z"
      },
      {
        "duration": 148,
        "start_time": "2022-10-04T19:57:28.803Z"
      },
      {
        "duration": 172,
        "start_time": "2022-10-04T19:57:37.513Z"
      },
      {
        "duration": 23,
        "start_time": "2022-10-04T19:57:45.747Z"
      },
      {
        "duration": 170,
        "start_time": "2022-10-04T19:58:01.586Z"
      },
      {
        "duration": 87,
        "start_time": "2022-10-04T19:59:00.397Z"
      },
      {
        "duration": 5,
        "start_time": "2022-10-04T19:59:42.894Z"
      },
      {
        "duration": 86,
        "start_time": "2022-10-04T19:59:52.142Z"
      },
      {
        "duration": 101,
        "start_time": "2022-10-04T20:00:17.301Z"
      },
      {
        "duration": 87,
        "start_time": "2022-10-04T20:00:27.631Z"
      },
      {
        "duration": 172,
        "start_time": "2022-10-04T20:00:47.287Z"
      },
      {
        "duration": 12,
        "start_time": "2022-10-04T20:02:13.791Z"
      },
      {
        "duration": 25,
        "start_time": "2022-10-04T20:06:35.586Z"
      },
      {
        "duration": 190,
        "start_time": "2022-10-04T20:06:56.034Z"
      },
      {
        "duration": 181,
        "start_time": "2022-10-04T20:09:12.830Z"
      },
      {
        "duration": 191,
        "start_time": "2022-10-04T20:09:56.790Z"
      },
      {
        "duration": 168,
        "start_time": "2022-10-04T20:10:55.523Z"
      },
      {
        "duration": 173,
        "start_time": "2022-10-04T20:11:48.835Z"
      },
      {
        "duration": 22,
        "start_time": "2022-10-04T20:12:33.023Z"
      },
      {
        "duration": 230,
        "start_time": "2022-10-04T20:12:35.904Z"
      },
      {
        "duration": 175,
        "start_time": "2022-10-04T20:12:45.141Z"
      },
      {
        "duration": 24,
        "start_time": "2022-10-04T20:12:48.577Z"
      },
      {
        "duration": 172,
        "start_time": "2022-10-04T20:12:49.586Z"
      },
      {
        "duration": 87,
        "start_time": "2022-10-04T20:14:15.460Z"
      },
      {
        "duration": 82,
        "start_time": "2022-10-04T20:14:16.474Z"
      },
      {
        "duration": 170,
        "start_time": "2022-10-04T20:16:52.943Z"
      },
      {
        "duration": 3,
        "start_time": "2022-10-04T20:18:28.200Z"
      },
      {
        "duration": 14,
        "start_time": "2022-10-04T20:18:36.800Z"
      },
      {
        "duration": 79,
        "start_time": "2022-10-04T20:18:38.441Z"
      },
      {
        "duration": 105,
        "start_time": "2022-10-04T20:18:51.768Z"
      },
      {
        "duration": 81,
        "start_time": "2022-10-04T20:18:53.576Z"
      },
      {
        "duration": 12,
        "start_time": "2022-10-04T20:19:11.280Z"
      },
      {
        "duration": 84,
        "start_time": "2022-10-04T20:19:26.864Z"
      },
      {
        "duration": 159,
        "start_time": "2022-10-04T20:24:35.540Z"
      },
      {
        "duration": 278,
        "start_time": "2022-10-04T20:25:38.434Z"
      },
      {
        "duration": 171,
        "start_time": "2022-10-04T20:25:46.960Z"
      },
      {
        "duration": 2442,
        "start_time": "2022-10-04T21:22:51.059Z"
      },
      {
        "duration": 17,
        "start_time": "2022-10-04T21:22:53.503Z"
      },
      {
        "duration": 35,
        "start_time": "2022-10-04T21:22:53.521Z"
      },
      {
        "duration": 14,
        "start_time": "2022-10-04T21:22:53.558Z"
      },
      {
        "duration": 8,
        "start_time": "2022-10-04T21:22:53.573Z"
      },
      {
        "duration": 37,
        "start_time": "2022-10-04T21:22:53.582Z"
      },
      {
        "duration": 9,
        "start_time": "2022-10-04T21:22:53.624Z"
      },
      {
        "duration": 12,
        "start_time": "2022-10-04T21:22:53.635Z"
      },
      {
        "duration": 99,
        "start_time": "2022-10-04T21:22:53.649Z"
      },
      {
        "duration": 76,
        "start_time": "2022-10-04T21:22:53.751Z"
      },
      {
        "duration": 35,
        "start_time": "2022-10-04T21:22:53.829Z"
      },
      {
        "duration": 340,
        "start_time": "2022-10-04T21:22:53.866Z"
      },
      {
        "duration": 3712,
        "start_time": "2022-10-04T21:22:54.209Z"
      },
      {
        "duration": 260,
        "start_time": "2022-10-04T21:22:57.924Z"
      },
      {
        "duration": 178,
        "start_time": "2022-10-04T21:22:58.186Z"
      },
      {
        "duration": 171,
        "start_time": "2022-10-04T21:22:58.366Z"
      },
      {
        "duration": 152,
        "start_time": "2022-10-04T21:22:58.538Z"
      },
      {
        "duration": 149,
        "start_time": "2022-10-04T21:22:58.692Z"
      },
      {
        "duration": 149,
        "start_time": "2022-10-04T21:22:58.842Z"
      },
      {
        "duration": 153,
        "start_time": "2022-10-04T21:22:58.993Z"
      },
      {
        "duration": 152,
        "start_time": "2022-10-04T21:22:59.147Z"
      },
      {
        "duration": 220,
        "start_time": "2022-10-04T21:22:59.301Z"
      },
      {
        "duration": 23,
        "start_time": "2022-10-04T21:22:59.523Z"
      },
      {
        "duration": 162,
        "start_time": "2022-10-04T21:22:59.547Z"
      },
      {
        "duration": 16,
        "start_time": "2022-10-04T21:24:44.125Z"
      },
      {
        "duration": 2516,
        "start_time": "2022-10-04T21:24:50.787Z"
      },
      {
        "duration": 20,
        "start_time": "2022-10-04T21:24:53.305Z"
      },
      {
        "duration": 31,
        "start_time": "2022-10-04T21:24:53.327Z"
      },
      {
        "duration": 13,
        "start_time": "2022-10-04T21:24:53.360Z"
      },
      {
        "duration": 8,
        "start_time": "2022-10-04T21:24:53.375Z"
      },
      {
        "duration": 19,
        "start_time": "2022-10-04T21:24:53.409Z"
      },
      {
        "duration": 6,
        "start_time": "2022-10-04T21:24:53.430Z"
      },
      {
        "duration": 11,
        "start_time": "2022-10-04T21:24:53.438Z"
      },
      {
        "duration": 11,
        "start_time": "2022-10-04T21:24:53.451Z"
      },
      {
        "duration": 114,
        "start_time": "2022-10-04T21:24:53.464Z"
      },
      {
        "duration": 67,
        "start_time": "2022-10-04T21:24:53.580Z"
      },
      {
        "duration": 32,
        "start_time": "2022-10-04T21:24:53.649Z"
      },
      {
        "duration": 356,
        "start_time": "2022-10-04T21:24:53.683Z"
      },
      {
        "duration": 4953,
        "start_time": "2022-10-04T21:24:54.040Z"
      },
      {
        "duration": 260,
        "start_time": "2022-10-04T21:24:58.995Z"
      },
      {
        "duration": 194,
        "start_time": "2022-10-04T21:24:59.257Z"
      },
      {
        "duration": 153,
        "start_time": "2022-10-04T21:24:59.453Z"
      },
      {
        "duration": 154,
        "start_time": "2022-10-04T21:24:59.609Z"
      },
      {
        "duration": 151,
        "start_time": "2022-10-04T21:24:59.764Z"
      },
      {
        "duration": 143,
        "start_time": "2022-10-04T21:24:59.916Z"
      },
      {
        "duration": 160,
        "start_time": "2022-10-04T21:25:00.061Z"
      },
      {
        "duration": 143,
        "start_time": "2022-10-04T21:25:00.222Z"
      },
      {
        "duration": 211,
        "start_time": "2022-10-04T21:25:00.366Z"
      },
      {
        "duration": 21,
        "start_time": "2022-10-04T21:25:00.578Z"
      },
      {
        "duration": 166,
        "start_time": "2022-10-04T21:25:00.609Z"
      },
      {
        "duration": 6,
        "start_time": "2022-10-04T21:25:40.534Z"
      },
      {
        "duration": 152,
        "start_time": "2022-10-04T21:26:45.921Z"
      },
      {
        "duration": 55,
        "start_time": "2022-10-05T05:36:37.054Z"
      },
      {
        "duration": 3295,
        "start_time": "2022-10-05T10:08:40.566Z"
      },
      {
        "duration": 2282,
        "start_time": "2022-10-05T10:09:05.033Z"
      },
      {
        "duration": 2990,
        "start_time": "2022-10-05T10:09:14.863Z"
      },
      {
        "duration": 0,
        "start_time": "2022-10-05T10:09:17.856Z"
      },
      {
        "duration": 0,
        "start_time": "2022-10-05T10:09:17.857Z"
      },
      {
        "duration": 0,
        "start_time": "2022-10-05T10:09:17.858Z"
      },
      {
        "duration": 0,
        "start_time": "2022-10-05T10:09:17.859Z"
      },
      {
        "duration": 0,
        "start_time": "2022-10-05T10:09:17.860Z"
      },
      {
        "duration": 0,
        "start_time": "2022-10-05T10:09:17.861Z"
      },
      {
        "duration": 0,
        "start_time": "2022-10-05T10:09:17.862Z"
      },
      {
        "duration": 0,
        "start_time": "2022-10-05T10:09:17.864Z"
      },
      {
        "duration": 0,
        "start_time": "2022-10-05T10:09:17.865Z"
      },
      {
        "duration": 0,
        "start_time": "2022-10-05T10:09:17.866Z"
      },
      {
        "duration": 0,
        "start_time": "2022-10-05T10:09:17.867Z"
      },
      {
        "duration": 0,
        "start_time": "2022-10-05T10:09:17.868Z"
      },
      {
        "duration": 0,
        "start_time": "2022-10-05T10:09:17.869Z"
      },
      {
        "duration": 0,
        "start_time": "2022-10-05T10:09:17.870Z"
      },
      {
        "duration": 0,
        "start_time": "2022-10-05T10:09:17.871Z"
      },
      {
        "duration": 0,
        "start_time": "2022-10-05T10:09:17.872Z"
      },
      {
        "duration": 0,
        "start_time": "2022-10-05T10:09:17.873Z"
      },
      {
        "duration": 0,
        "start_time": "2022-10-05T10:09:17.874Z"
      },
      {
        "duration": 0,
        "start_time": "2022-10-05T10:09:17.876Z"
      },
      {
        "duration": 1,
        "start_time": "2022-10-05T10:09:17.877Z"
      },
      {
        "duration": 0,
        "start_time": "2022-10-05T10:09:17.879Z"
      },
      {
        "duration": 0,
        "start_time": "2022-10-05T10:09:17.880Z"
      },
      {
        "duration": 0,
        "start_time": "2022-10-05T10:09:17.881Z"
      },
      {
        "duration": 2186,
        "start_time": "2022-10-05T10:09:36.120Z"
      },
      {
        "duration": 2227,
        "start_time": "2022-10-05T10:10:21.008Z"
      },
      {
        "duration": 10,
        "start_time": "2022-10-05T10:10:53.537Z"
      },
      {
        "duration": 70,
        "start_time": "2022-10-05T10:11:24.190Z"
      },
      {
        "duration": 22,
        "start_time": "2022-10-05T10:12:06.902Z"
      },
      {
        "duration": 5,
        "start_time": "2022-10-05T10:19:11.386Z"
      },
      {
        "duration": 32,
        "start_time": "2022-10-05T10:19:25.885Z"
      },
      {
        "duration": 1426,
        "start_time": "2022-10-05T10:19:46.540Z"
      },
      {
        "duration": 1335,
        "start_time": "2022-10-05T10:22:51.672Z"
      },
      {
        "duration": 2783,
        "start_time": "2022-10-05T10:34:59.882Z"
      },
      {
        "duration": 2831,
        "start_time": "2022-10-05T10:39:37.386Z"
      },
      {
        "duration": 63,
        "start_time": "2022-10-05T10:39:40.219Z"
      },
      {
        "duration": 2891,
        "start_time": "2022-10-05T10:39:40.286Z"
      },
      {
        "duration": 15,
        "start_time": "2022-10-05T10:39:43.180Z"
      },
      {
        "duration": 12,
        "start_time": "2022-10-05T10:39:43.197Z"
      },
      {
        "duration": 9,
        "start_time": "2022-10-05T10:39:43.210Z"
      },
      {
        "duration": 34,
        "start_time": "2022-10-05T10:39:43.221Z"
      },
      {
        "duration": 16,
        "start_time": "2022-10-05T10:39:43.256Z"
      },
      {
        "duration": 98,
        "start_time": "2022-10-05T10:39:43.275Z"
      },
      {
        "duration": 81,
        "start_time": "2022-10-05T10:39:43.375Z"
      },
      {
        "duration": 37,
        "start_time": "2022-10-05T10:39:43.458Z"
      },
      {
        "duration": 345,
        "start_time": "2022-10-05T10:39:43.497Z"
      },
      {
        "duration": 4128,
        "start_time": "2022-10-05T10:39:43.844Z"
      },
      {
        "duration": 307,
        "start_time": "2022-10-05T10:39:47.973Z"
      },
      {
        "duration": 173,
        "start_time": "2022-10-05T10:39:48.281Z"
      },
      {
        "duration": 188,
        "start_time": "2022-10-05T10:39:48.456Z"
      },
      {
        "duration": 178,
        "start_time": "2022-10-05T10:39:48.645Z"
      },
      {
        "duration": 169,
        "start_time": "2022-10-05T10:39:48.825Z"
      },
      {
        "duration": 163,
        "start_time": "2022-10-05T10:39:48.996Z"
      },
      {
        "duration": 175,
        "start_time": "2022-10-05T10:39:49.160Z"
      },
      {
        "duration": 253,
        "start_time": "2022-10-05T10:39:49.337Z"
      },
      {
        "duration": 161,
        "start_time": "2022-10-05T10:39:49.592Z"
      },
      {
        "duration": 24,
        "start_time": "2022-10-05T10:39:49.755Z"
      },
      {
        "duration": 192,
        "start_time": "2022-10-05T10:39:49.781Z"
      },
      {
        "duration": 2818,
        "start_time": "2022-10-05T10:43:54.391Z"
      },
      {
        "duration": 59,
        "start_time": "2022-10-05T10:43:57.211Z"
      },
      {
        "duration": 2747,
        "start_time": "2022-10-05T10:43:57.272Z"
      },
      {
        "duration": 15,
        "start_time": "2022-10-05T10:44:00.021Z"
      },
      {
        "duration": 25,
        "start_time": "2022-10-05T10:44:00.038Z"
      },
      {
        "duration": 12,
        "start_time": "2022-10-05T10:44:00.065Z"
      },
      {
        "duration": 27,
        "start_time": "2022-10-05T10:44:00.079Z"
      },
      {
        "duration": 32,
        "start_time": "2022-10-05T10:44:00.108Z"
      },
      {
        "duration": 110,
        "start_time": "2022-10-05T10:44:00.142Z"
      },
      {
        "duration": 69,
        "start_time": "2022-10-05T10:44:00.255Z"
      },
      {
        "duration": 53,
        "start_time": "2022-10-05T10:44:00.326Z"
      },
      {
        "duration": 342,
        "start_time": "2022-10-05T10:44:00.381Z"
      },
      {
        "duration": 4276,
        "start_time": "2022-10-05T10:44:00.725Z"
      },
      {
        "duration": 296,
        "start_time": "2022-10-05T10:44:05.003Z"
      },
      {
        "duration": 172,
        "start_time": "2022-10-05T10:44:05.301Z"
      },
      {
        "duration": 206,
        "start_time": "2022-10-05T10:44:05.475Z"
      },
      {
        "duration": 171,
        "start_time": "2022-10-05T10:44:05.683Z"
      },
      {
        "duration": 164,
        "start_time": "2022-10-05T10:44:05.856Z"
      },
      {
        "duration": 166,
        "start_time": "2022-10-05T10:44:06.022Z"
      },
      {
        "duration": 172,
        "start_time": "2022-10-05T10:44:06.190Z"
      },
      {
        "duration": 167,
        "start_time": "2022-10-05T10:44:06.364Z"
      },
      {
        "duration": 242,
        "start_time": "2022-10-05T10:44:06.533Z"
      },
      {
        "duration": 23,
        "start_time": "2022-10-05T10:44:06.777Z"
      },
      {
        "duration": 192,
        "start_time": "2022-10-05T10:44:06.802Z"
      },
      {
        "duration": 15,
        "start_time": "2022-10-05T10:46:49.505Z"
      },
      {
        "duration": 12,
        "start_time": "2022-10-05T10:47:29.297Z"
      },
      {
        "duration": 316,
        "start_time": "2022-10-05T10:49:38.558Z"
      },
      {
        "duration": 7,
        "start_time": "2022-10-05T10:51:58.316Z"
      },
      {
        "duration": 9,
        "start_time": "2022-10-05T10:54:07.571Z"
      },
      {
        "duration": 175,
        "start_time": "2022-10-05T10:55:52.723Z"
      },
      {
        "duration": 92,
        "start_time": "2022-10-05T11:03:41.229Z"
      },
      {
        "duration": 88,
        "start_time": "2022-10-05T11:03:48.445Z"
      },
      {
        "duration": 746,
        "start_time": "2022-10-05T11:05:33.066Z"
      },
      {
        "duration": 188,
        "start_time": "2022-10-05T11:06:12.437Z"
      },
      {
        "duration": 149,
        "start_time": "2022-10-05T11:06:19.233Z"
      },
      {
        "duration": 788,
        "start_time": "2022-10-05T11:06:25.507Z"
      },
      {
        "duration": 13,
        "start_time": "2022-10-05T11:10:19.397Z"
      },
      {
        "duration": 10,
        "start_time": "2022-10-05T11:13:37.337Z"
      },
      {
        "duration": 11,
        "start_time": "2022-10-05T11:13:59.202Z"
      },
      {
        "duration": 209,
        "start_time": "2022-10-05T11:20:03.819Z"
      },
      {
        "duration": 193,
        "start_time": "2022-10-05T11:20:21.131Z"
      },
      {
        "duration": 51,
        "start_time": "2022-10-05T11:22:50.273Z"
      },
      {
        "duration": 264,
        "start_time": "2022-10-05T11:23:13.136Z"
      },
      {
        "duration": 220,
        "start_time": "2022-10-05T11:23:50.022Z"
      },
      {
        "duration": 2260,
        "start_time": "2022-10-05T11:25:42.770Z"
      },
      {
        "duration": 3131,
        "start_time": "2022-10-05T11:25:53.094Z"
      },
      {
        "duration": 20,
        "start_time": "2022-10-05T11:28:50.685Z"
      },
      {
        "duration": 3037,
        "start_time": "2022-10-05T11:29:03.976Z"
      },
      {
        "duration": 65,
        "start_time": "2022-10-05T11:29:07.019Z"
      },
      {
        "duration": 2917,
        "start_time": "2022-10-05T11:29:07.087Z"
      },
      {
        "duration": 23,
        "start_time": "2022-10-05T11:29:10.006Z"
      },
      {
        "duration": 35,
        "start_time": "2022-10-05T11:29:10.031Z"
      },
      {
        "duration": 3,
        "start_time": "2022-10-05T11:29:10.069Z"
      },
      {
        "duration": 11,
        "start_time": "2022-10-05T11:29:10.074Z"
      },
      {
        "duration": 19,
        "start_time": "2022-10-05T11:29:10.088Z"
      },
      {
        "duration": 143,
        "start_time": "2022-10-05T11:29:10.111Z"
      },
      {
        "duration": 219,
        "start_time": "2022-10-05T11:29:10.256Z"
      },
      {
        "duration": 41,
        "start_time": "2022-10-05T11:29:10.477Z"
      },
      {
        "duration": 390,
        "start_time": "2022-10-05T11:29:10.520Z"
      },
      {
        "duration": 4451,
        "start_time": "2022-10-05T11:29:10.912Z"
      },
      {
        "duration": 343,
        "start_time": "2022-10-05T11:29:15.366Z"
      },
      {
        "duration": 178,
        "start_time": "2022-10-05T11:29:15.711Z"
      },
      {
        "duration": 196,
        "start_time": "2022-10-05T11:29:15.891Z"
      },
      {
        "duration": 174,
        "start_time": "2022-10-05T11:29:16.091Z"
      },
      {
        "duration": 177,
        "start_time": "2022-10-05T11:29:16.267Z"
      },
      {
        "duration": 179,
        "start_time": "2022-10-05T11:29:16.446Z"
      },
      {
        "duration": 181,
        "start_time": "2022-10-05T11:29:16.628Z"
      },
      {
        "duration": 185,
        "start_time": "2022-10-05T11:29:16.810Z"
      },
      {
        "duration": 263,
        "start_time": "2022-10-05T11:29:16.997Z"
      },
      {
        "duration": 28,
        "start_time": "2022-10-05T11:29:17.262Z"
      },
      {
        "duration": 222,
        "start_time": "2022-10-05T11:29:17.293Z"
      },
      {
        "duration": 169,
        "start_time": "2022-10-05T11:29:35.243Z"
      },
      {
        "duration": 4424,
        "start_time": "2022-10-05T11:30:42.032Z"
      },
      {
        "duration": 329,
        "start_time": "2022-10-05T11:36:21.043Z"
      },
      {
        "duration": 2033,
        "start_time": "2022-10-05T11:39:33.362Z"
      },
      {
        "duration": 238,
        "start_time": "2022-10-05T12:11:33.071Z"
      },
      {
        "duration": 93,
        "start_time": "2022-10-05T12:12:32.408Z"
      },
      {
        "duration": 115,
        "start_time": "2022-10-05T12:13:38.701Z"
      },
      {
        "duration": 160,
        "start_time": "2022-10-05T12:13:45.264Z"
      },
      {
        "duration": 146,
        "start_time": "2022-10-05T12:14:30.355Z"
      },
      {
        "duration": 147,
        "start_time": "2022-10-05T12:14:41.587Z"
      },
      {
        "duration": 124,
        "start_time": "2022-10-05T12:16:41.878Z"
      },
      {
        "duration": 376,
        "start_time": "2022-10-05T12:19:45.364Z"
      },
      {
        "duration": 4372,
        "start_time": "2022-10-05T12:19:50.049Z"
      },
      {
        "duration": 184,
        "start_time": "2022-10-05T12:20:01.282Z"
      },
      {
        "duration": 28,
        "start_time": "2022-10-05T12:20:19.804Z"
      },
      {
        "duration": 37,
        "start_time": "2022-10-05T12:22:34.882Z"
      },
      {
        "duration": 95,
        "start_time": "2022-10-05T12:23:16.013Z"
      },
      {
        "duration": 321,
        "start_time": "2022-10-05T12:23:35.436Z"
      },
      {
        "duration": 90,
        "start_time": "2022-10-05T12:29:40.894Z"
      },
      {
        "duration": 330,
        "start_time": "2022-10-05T12:29:48.288Z"
      },
      {
        "duration": 177,
        "start_time": "2022-10-05T12:30:07.995Z"
      },
      {
        "duration": 32,
        "start_time": "2022-10-05T12:32:41.896Z"
      },
      {
        "duration": 203,
        "start_time": "2022-10-05T12:33:04.425Z"
      },
      {
        "duration": 3424,
        "start_time": "2022-10-05T12:34:51.225Z"
      },
      {
        "duration": 97,
        "start_time": "2022-10-05T12:34:54.654Z"
      },
      {
        "duration": 3174,
        "start_time": "2022-10-05T12:34:54.752Z"
      },
      {
        "duration": 32,
        "start_time": "2022-10-05T12:34:57.928Z"
      },
      {
        "duration": 28,
        "start_time": "2022-10-05T12:34:57.966Z"
      },
      {
        "duration": 13,
        "start_time": "2022-10-05T12:34:57.996Z"
      },
      {
        "duration": 10,
        "start_time": "2022-10-05T12:34:58.011Z"
      },
      {
        "duration": 16,
        "start_time": "2022-10-05T12:34:58.023Z"
      },
      {
        "duration": 88,
        "start_time": "2022-10-05T12:34:58.040Z"
      },
      {
        "duration": 2150,
        "start_time": "2022-10-05T12:34:58.131Z"
      },
      {
        "duration": 96,
        "start_time": "2022-10-05T12:35:00.289Z"
      },
      {
        "duration": 484,
        "start_time": "2022-10-05T12:35:00.387Z"
      },
      {
        "duration": 4747,
        "start_time": "2022-10-05T12:35:00.873Z"
      },
      {
        "duration": 347,
        "start_time": "2022-10-05T12:35:05.622Z"
      },
      {
        "duration": 179,
        "start_time": "2022-10-05T12:35:05.971Z"
      },
      {
        "duration": 213,
        "start_time": "2022-10-05T12:35:06.152Z"
      },
      {
        "duration": 178,
        "start_time": "2022-10-05T12:35:06.367Z"
      },
      {
        "duration": 317,
        "start_time": "2022-10-05T12:35:06.547Z"
      },
      {
        "duration": 167,
        "start_time": "2022-10-05T12:35:06.867Z"
      },
      {
        "duration": 196,
        "start_time": "2022-10-05T12:35:07.035Z"
      },
      {
        "duration": 194,
        "start_time": "2022-10-05T12:35:07.233Z"
      },
      {
        "duration": 184,
        "start_time": "2022-10-05T12:35:07.429Z"
      },
      {
        "duration": 29,
        "start_time": "2022-10-05T12:35:07.615Z"
      },
      {
        "duration": 241,
        "start_time": "2022-10-05T12:35:07.655Z"
      },
      {
        "duration": 201,
        "start_time": "2022-10-05T12:35:32.012Z"
      },
      {
        "duration": 17,
        "start_time": "2022-10-05T12:36:11.895Z"
      },
      {
        "duration": 6,
        "start_time": "2022-10-05T12:36:22.588Z"
      },
      {
        "duration": 17,
        "start_time": "2022-10-05T12:36:25.581Z"
      },
      {
        "duration": 93,
        "start_time": "2022-10-05T12:36:37.148Z"
      },
      {
        "duration": 2239,
        "start_time": "2022-10-05T12:36:40.797Z"
      },
      {
        "duration": 301,
        "start_time": "2022-10-05T12:37:34.554Z"
      },
      {
        "duration": 140,
        "start_time": "2022-10-05T12:37:40.949Z"
      },
      {
        "duration": 344,
        "start_time": "2022-10-05T12:37:45.912Z"
      },
      {
        "duration": 211,
        "start_time": "2022-10-05T12:38:10.282Z"
      },
      {
        "duration": 36,
        "start_time": "2022-10-05T12:38:33.352Z"
      },
      {
        "duration": 193,
        "start_time": "2022-10-05T12:40:16.438Z"
      },
      {
        "duration": 176,
        "start_time": "2022-10-05T12:44:20.894Z"
      },
      {
        "duration": 81,
        "start_time": "2022-10-05T12:52:54.496Z"
      },
      {
        "duration": 180,
        "start_time": "2022-10-05T13:06:06.473Z"
      },
      {
        "duration": 290,
        "start_time": "2022-10-05T13:06:55.378Z"
      },
      {
        "duration": 175,
        "start_time": "2022-10-05T13:07:08.411Z"
      },
      {
        "duration": 191,
        "start_time": "2022-10-05T13:07:15.354Z"
      },
      {
        "duration": 178,
        "start_time": "2022-10-05T13:07:24.169Z"
      },
      {
        "duration": 178,
        "start_time": "2022-10-05T13:07:29.363Z"
      },
      {
        "duration": 188,
        "start_time": "2022-10-05T13:07:36.641Z"
      },
      {
        "duration": 209,
        "start_time": "2022-10-05T13:09:32.256Z"
      },
      {
        "duration": 23,
        "start_time": "2022-10-05T13:15:37.775Z"
      },
      {
        "duration": 23,
        "start_time": "2022-10-05T13:17:06.463Z"
      },
      {
        "duration": 26,
        "start_time": "2022-10-05T13:19:05.640Z"
      },
      {
        "duration": 25,
        "start_time": "2022-10-05T13:19:12.798Z"
      },
      {
        "duration": 83,
        "start_time": "2022-10-05T13:19:27.249Z"
      },
      {
        "duration": 69,
        "start_time": "2022-10-05T13:19:32.942Z"
      },
      {
        "duration": 23,
        "start_time": "2022-10-05T13:19:44.858Z"
      },
      {
        "duration": 38,
        "start_time": "2022-10-05T13:20:13.705Z"
      },
      {
        "duration": 30,
        "start_time": "2022-10-05T13:21:35.001Z"
      },
      {
        "duration": 37,
        "start_time": "2022-10-05T13:22:06.045Z"
      },
      {
        "duration": 30,
        "start_time": "2022-10-05T13:22:13.902Z"
      },
      {
        "duration": 25,
        "start_time": "2022-10-05T13:23:32.409Z"
      },
      {
        "duration": 2356,
        "start_time": "2022-10-05T13:28:55.924Z"
      },
      {
        "duration": 191,
        "start_time": "2022-10-05T13:31:36.244Z"
      },
      {
        "duration": 34,
        "start_time": "2022-10-05T13:32:51.198Z"
      },
      {
        "duration": 206,
        "start_time": "2022-10-05T13:33:31.683Z"
      },
      {
        "duration": 193,
        "start_time": "2022-10-05T13:33:42.774Z"
      },
      {
        "duration": 1946,
        "start_time": "2022-10-05T13:43:02.223Z"
      },
      {
        "duration": 1766,
        "start_time": "2022-10-05T13:43:27.498Z"
      },
      {
        "duration": 193,
        "start_time": "2022-10-05T13:44:22.033Z"
      },
      {
        "duration": 227,
        "start_time": "2022-10-05T13:44:45.575Z"
      },
      {
        "duration": 206,
        "start_time": "2022-10-05T13:45:06.197Z"
      },
      {
        "duration": 154,
        "start_time": "2022-10-05T13:45:45.232Z"
      },
      {
        "duration": 202,
        "start_time": "2022-10-05T13:46:02.357Z"
      },
      {
        "duration": 189,
        "start_time": "2022-10-05T13:46:40.723Z"
      },
      {
        "duration": 194,
        "start_time": "2022-10-05T13:47:17.254Z"
      },
      {
        "duration": 194,
        "start_time": "2022-10-05T13:47:25.764Z"
      },
      {
        "duration": 211,
        "start_time": "2022-10-05T13:49:06.446Z"
      },
      {
        "duration": 302,
        "start_time": "2022-10-05T13:50:13.679Z"
      },
      {
        "duration": 178,
        "start_time": "2022-10-05T13:50:27.717Z"
      },
      {
        "duration": 173,
        "start_time": "2022-10-05T13:51:53.383Z"
      },
      {
        "duration": 218,
        "start_time": "2022-10-05T13:52:11.678Z"
      },
      {
        "duration": 212,
        "start_time": "2022-10-05T13:53:08.334Z"
      },
      {
        "duration": 217,
        "start_time": "2022-10-05T13:54:05.158Z"
      },
      {
        "duration": 206,
        "start_time": "2022-10-05T13:58:03.801Z"
      },
      {
        "duration": 2349,
        "start_time": "2022-10-05T13:58:14.276Z"
      },
      {
        "duration": 198,
        "start_time": "2022-10-05T13:58:45.889Z"
      },
      {
        "duration": 22,
        "start_time": "2022-10-05T14:02:03.120Z"
      },
      {
        "duration": 22,
        "start_time": "2022-10-05T14:03:11.587Z"
      },
      {
        "duration": 2847,
        "start_time": "2022-10-05T14:03:17.270Z"
      },
      {
        "duration": 64,
        "start_time": "2022-10-05T14:03:20.119Z"
      },
      {
        "duration": 2947,
        "start_time": "2022-10-05T14:03:20.189Z"
      },
      {
        "duration": 33,
        "start_time": "2022-10-05T14:03:23.138Z"
      },
      {
        "duration": 14,
        "start_time": "2022-10-05T14:03:23.173Z"
      },
      {
        "duration": 6,
        "start_time": "2022-10-05T14:03:23.189Z"
      },
      {
        "duration": 13,
        "start_time": "2022-10-05T14:03:23.197Z"
      },
      {
        "duration": 11,
        "start_time": "2022-10-05T14:03:23.212Z"
      },
      {
        "duration": 101,
        "start_time": "2022-10-05T14:03:23.253Z"
      },
      {
        "duration": 1968,
        "start_time": "2022-10-05T14:03:23.356Z"
      },
      {
        "duration": 94,
        "start_time": "2022-10-05T14:03:25.326Z"
      },
      {
        "duration": 453,
        "start_time": "2022-10-05T14:03:25.422Z"
      },
      {
        "duration": 4036,
        "start_time": "2022-10-05T14:03:25.877Z"
      },
      {
        "duration": 320,
        "start_time": "2022-10-05T14:03:29.915Z"
      },
      {
        "duration": 208,
        "start_time": "2022-10-05T14:03:30.237Z"
      },
      {
        "duration": 199,
        "start_time": "2022-10-05T14:03:30.447Z"
      },
      {
        "duration": 169,
        "start_time": "2022-10-05T14:03:30.654Z"
      },
      {
        "duration": 307,
        "start_time": "2022-10-05T14:03:30.825Z"
      },
      {
        "duration": 179,
        "start_time": "2022-10-05T14:03:31.134Z"
      },
      {
        "duration": 216,
        "start_time": "2022-10-05T14:03:31.314Z"
      },
      {
        "duration": 244,
        "start_time": "2022-10-05T14:03:31.532Z"
      },
      {
        "duration": 162,
        "start_time": "2022-10-05T14:03:31.779Z"
      },
      {
        "duration": 32,
        "start_time": "2022-10-05T14:03:31.943Z"
      },
      {
        "duration": 97,
        "start_time": "2022-10-05T14:03:31.977Z"
      },
      {
        "duration": 489,
        "start_time": "2022-10-05T14:04:06.176Z"
      },
      {
        "duration": 193,
        "start_time": "2022-10-05T14:04:43.769Z"
      },
      {
        "duration": 190,
        "start_time": "2022-10-05T14:04:53.468Z"
      },
      {
        "duration": 187,
        "start_time": "2022-10-05T14:05:05.208Z"
      },
      {
        "duration": 186,
        "start_time": "2022-10-05T14:05:44.122Z"
      },
      {
        "duration": 182,
        "start_time": "2022-10-05T14:05:49.745Z"
      },
      {
        "duration": 2812,
        "start_time": "2022-10-05T14:11:43.409Z"
      },
      {
        "duration": 61,
        "start_time": "2022-10-05T14:11:46.223Z"
      },
      {
        "duration": 2698,
        "start_time": "2022-10-05T14:11:46.285Z"
      },
      {
        "duration": 18,
        "start_time": "2022-10-05T14:11:48.985Z"
      },
      {
        "duration": 12,
        "start_time": "2022-10-05T14:11:49.006Z"
      },
      {
        "duration": 21,
        "start_time": "2022-10-05T14:11:49.020Z"
      },
      {
        "duration": 24,
        "start_time": "2022-10-05T14:11:49.042Z"
      },
      {
        "duration": 20,
        "start_time": "2022-10-05T14:11:49.069Z"
      },
      {
        "duration": 90,
        "start_time": "2022-10-05T14:11:49.090Z"
      },
      {
        "duration": 1855,
        "start_time": "2022-10-05T14:11:49.181Z"
      },
      {
        "duration": 95,
        "start_time": "2022-10-05T14:11:51.037Z"
      },
      {
        "duration": 453,
        "start_time": "2022-10-05T14:11:51.134Z"
      },
      {
        "duration": 3879,
        "start_time": "2022-10-05T14:11:51.590Z"
      },
      {
        "duration": 315,
        "start_time": "2022-10-05T14:11:55.472Z"
      },
      {
        "duration": 186,
        "start_time": "2022-10-05T14:11:55.789Z"
      },
      {
        "duration": 184,
        "start_time": "2022-10-05T14:11:55.977Z"
      },
      {
        "duration": 159,
        "start_time": "2022-10-05T14:11:56.163Z"
      },
      {
        "duration": 250,
        "start_time": "2022-10-05T14:11:56.324Z"
      },
      {
        "duration": 158,
        "start_time": "2022-10-05T14:11:56.576Z"
      },
      {
        "duration": 162,
        "start_time": "2022-10-05T14:11:56.736Z"
      },
      {
        "duration": 160,
        "start_time": "2022-10-05T14:11:56.900Z"
      },
      {
        "duration": 155,
        "start_time": "2022-10-05T14:11:57.062Z"
      },
      {
        "duration": 36,
        "start_time": "2022-10-05T14:11:57.218Z"
      },
      {
        "duration": 173,
        "start_time": "2022-10-05T14:11:57.256Z"
      },
      {
        "duration": 161,
        "start_time": "2022-10-05T14:12:51.886Z"
      },
      {
        "duration": 157,
        "start_time": "2022-10-05T14:12:55.150Z"
      },
      {
        "duration": 442,
        "start_time": "2022-10-05T14:13:13.970Z"
      },
      {
        "duration": 178,
        "start_time": "2022-10-05T14:13:24.706Z"
      },
      {
        "duration": 145,
        "start_time": "2022-10-05T14:13:28.884Z"
      },
      {
        "duration": 2143,
        "start_time": "2022-10-05T14:17:03.203Z"
      },
      {
        "duration": 1936,
        "start_time": "2022-10-05T14:17:27.434Z"
      },
      {
        "duration": 155,
        "start_time": "2022-10-05T14:17:39.106Z"
      },
      {
        "duration": 160,
        "start_time": "2022-10-05T14:19:07.622Z"
      },
      {
        "duration": 153,
        "start_time": "2022-10-05T14:19:28.680Z"
      },
      {
        "duration": 234,
        "start_time": "2022-10-05T14:19:37.657Z"
      },
      {
        "duration": 155,
        "start_time": "2022-10-05T14:20:03.432Z"
      },
      {
        "duration": 157,
        "start_time": "2022-10-05T14:21:00.464Z"
      },
      {
        "duration": 155,
        "start_time": "2022-10-05T14:21:17.617Z"
      },
      {
        "duration": 163,
        "start_time": "2022-10-05T14:21:35.671Z"
      },
      {
        "duration": 869,
        "start_time": "2022-10-05T14:27:54.057Z"
      },
      {
        "duration": 175,
        "start_time": "2022-10-05T14:28:39.555Z"
      },
      {
        "duration": 174,
        "start_time": "2022-10-05T14:28:58.385Z"
      },
      {
        "duration": 2868,
        "start_time": "2022-10-05T22:14:37.489Z"
      },
      {
        "duration": 63,
        "start_time": "2022-10-05T22:14:40.359Z"
      },
      {
        "duration": 2886,
        "start_time": "2022-10-05T22:14:40.424Z"
      },
      {
        "duration": 14,
        "start_time": "2022-10-05T22:14:43.313Z"
      },
      {
        "duration": 30,
        "start_time": "2022-10-05T22:14:43.329Z"
      },
      {
        "duration": 2,
        "start_time": "2022-10-05T22:14:43.361Z"
      },
      {
        "duration": 9,
        "start_time": "2022-10-05T22:14:43.365Z"
      },
      {
        "duration": 12,
        "start_time": "2022-10-05T22:14:43.376Z"
      },
      {
        "duration": 96,
        "start_time": "2022-10-05T22:14:43.390Z"
      },
      {
        "duration": 1964,
        "start_time": "2022-10-05T22:14:43.490Z"
      },
      {
        "duration": 105,
        "start_time": "2022-10-05T22:14:45.456Z"
      },
      {
        "duration": 446,
        "start_time": "2022-10-05T22:14:45.563Z"
      },
      {
        "duration": 4140,
        "start_time": "2022-10-05T22:14:46.011Z"
      },
      {
        "duration": 318,
        "start_time": "2022-10-05T22:14:50.153Z"
      },
      {
        "duration": 192,
        "start_time": "2022-10-05T22:14:50.474Z"
      },
      {
        "duration": 204,
        "start_time": "2022-10-05T22:14:50.668Z"
      },
      {
        "duration": 218,
        "start_time": "2022-10-05T22:14:50.874Z"
      },
      {
        "duration": 271,
        "start_time": "2022-10-05T22:14:51.095Z"
      },
      {
        "duration": 214,
        "start_time": "2022-10-05T22:14:51.368Z"
      },
      {
        "duration": 239,
        "start_time": "2022-10-05T22:14:51.586Z"
      },
      {
        "duration": 187,
        "start_time": "2022-10-05T22:14:51.827Z"
      },
      {
        "duration": 191,
        "start_time": "2022-10-05T22:14:52.016Z"
      },
      {
        "duration": 26,
        "start_time": "2022-10-05T22:14:52.208Z"
      },
      {
        "duration": 199,
        "start_time": "2022-10-05T22:14:52.237Z"
      },
      {
        "duration": 44,
        "start_time": "2022-10-05T22:17:48.813Z"
      },
      {
        "duration": 54,
        "start_time": "2022-10-05T22:18:00.187Z"
      },
      {
        "duration": 167,
        "start_time": "2022-10-05T22:18:18.880Z"
      },
      {
        "duration": 7,
        "start_time": "2022-10-05T22:18:38.856Z"
      },
      {
        "duration": 171,
        "start_time": "2022-10-05T22:18:53.808Z"
      },
      {
        "duration": 5,
        "start_time": "2022-10-05T22:18:56.118Z"
      },
      {
        "duration": 171,
        "start_time": "2022-10-05T22:19:52.241Z"
      },
      {
        "duration": 189,
        "start_time": "2022-10-05T22:21:30.665Z"
      },
      {
        "duration": 2906,
        "start_time": "2023-02-03T13:39:09.445Z"
      },
      {
        "duration": 85,
        "start_time": "2023-02-03T13:42:23.533Z"
      },
      {
        "duration": 2055,
        "start_time": "2023-02-03T13:42:36.279Z"
      },
      {
        "duration": 59,
        "start_time": "2023-02-03T13:42:40.021Z"
      },
      {
        "duration": 2609,
        "start_time": "2023-02-03T13:42:41.929Z"
      },
      {
        "duration": 16,
        "start_time": "2023-02-03T13:42:45.736Z"
      },
      {
        "duration": 14,
        "start_time": "2023-02-03T13:42:47.219Z"
      },
      {
        "duration": 2,
        "start_time": "2023-02-03T13:42:49.131Z"
      },
      {
        "duration": 8,
        "start_time": "2023-02-03T13:42:49.906Z"
      },
      {
        "duration": 12,
        "start_time": "2023-02-03T13:42:50.599Z"
      },
      {
        "duration": 90,
        "start_time": "2023-02-03T13:42:52.717Z"
      },
      {
        "duration": 1826,
        "start_time": "2023-02-03T13:42:53.463Z"
      },
      {
        "duration": 87,
        "start_time": "2023-02-03T13:42:55.926Z"
      }
    ],
    "kernelspec": {
      "display_name": "Python 3 (ipykernel)",
      "language": "python",
      "name": "python3"
    },
    "language_info": {
      "codemirror_mode": {
        "name": "ipython",
        "version": 3
      },
      "file_extension": ".py",
      "mimetype": "text/x-python",
      "name": "python",
      "nbconvert_exporter": "python",
      "pygments_lexer": "ipython3",
      "version": "3.9.5"
    },
    "toc": {
      "base_numbering": 1,
      "nav_menu": {},
      "number_sections": true,
      "sideBar": true,
      "skip_h1_title": true,
      "title_cell": "Table of Contents",
      "title_sidebar": "Contents",
      "toc_cell": false,
      "toc_position": {
        "height": "calc(100% - 180px)",
        "left": "10px",
        "top": "150px",
        "width": "165px"
      },
      "toc_section_display": true,
      "toc_window_display": true
    },
    "colab": {
      "provenance": []
    }
  },
  "nbformat": 4,
  "nbformat_minor": 0
}